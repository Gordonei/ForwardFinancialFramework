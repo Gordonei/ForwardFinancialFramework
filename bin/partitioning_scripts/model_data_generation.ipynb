{
 "metadata": {
  "name": ""
 },
 "nbformat": 3,
 "nbformat_minor": 0,
 "worksheets": [
  {
   "cells": [
    {
     "cell_type": "heading",
     "level": 1,
     "metadata": {},
     "source": [
      "Model Data Generation"
     ]
    },
    {
     "cell_type": "markdown",
     "metadata": {},
     "source": [
      "Aim:\n",
      "* Generate the latency and accuracy data that will be used to generate predictive models for Latency and Accuracy for a large portfolio of tasks across a range of platforms"
     ]
    },
    {
     "cell_type": "heading",
     "level": 2,
     "metadata": {},
     "source": [
      "Setup"
     ]
    },
    {
     "cell_type": "heading",
     "level": 3,
     "metadata": {},
     "source": [
      "Option Pricing Tasks"
     ]
    },
    {
     "cell_type": "markdown",
     "metadata": {},
     "source": [
      "The options all have non-zero values for reasonably small numbers of simulations. Tasks number 29 and 30 tend to return 0 values - might be a good idea to shift their value higher."
     ]
    },
    {
     "cell_type": "code",
     "collapsed": false,
     "input": [
      "import csv\n",
      "\n",
      "options = []\n",
      "with open('valid_seeds_file4.csv','r') as valid_seeds_file:\n",
      "    csvreader = csv.DictReader(valid_seeds_file,delimiter=',')\n",
      "    options = [row for row in csvreader]"
     ],
     "language": "python",
     "metadata": {},
     "outputs": [],
     "prompt_number": 1
    },
    {
     "cell_type": "code",
     "collapsed": false,
     "input": [
      "tasks = {}\n",
      "for o in options:\n",
      "    temp_task = \"%s %s\"%(o['underlying'],o['option'])\n",
      "    if(temp_task not in tasks): tasks[temp_task] = 0\n",
      "    tasks[temp_task] += 1\n",
      "    \n",
      "print(\"Portfolio of Option Pricing Tasks\")\n",
      "total = 0\n",
      "for t in sorted(tasks):\n",
      "    print(\"%s: %d\"%(t,tasks[t]))\n",
      "    total += tasks[t]\n",
      "    \n",
      "print(\"total tasks:%d\"%total)"
     ],
     "language": "python",
     "metadata": {},
     "outputs": [
      {
       "output_type": "stream",
       "stream": "stdout",
       "text": [
        "Portfolio of Option Pricing Tasks\n",
        "black_scholes asian: 10\n",
        "black_scholes barrier: 10\n",
        "black_scholes digital_double_barrier: 5\n",
        "black_scholes double_barrier: 10\n",
        "heston asian: 25\n",
        "heston barrier: 29\n",
        "heston digital_double_barrier: 5\n",
        "heston double_barrier: 29\n",
        "heston european: 5\n",
        "total tasks:128\n"
       ]
      }
     ],
     "prompt_number": 2
    },
    {
     "cell_type": "code",
     "collapsed": false,
     "input": [
      "compile_string = \"\"\n",
      "for t in tasks: compile_string += \"python2.7 mc_solver_option_test.py CPU \\\"Generate Compile\\\" 1000 \\\"%s 1234\\\";\"%t\n",
      "print(compile_string)"
     ],
     "language": "python",
     "metadata": {},
     "outputs": [
      {
       "output_type": "stream",
       "stream": "stdout",
       "text": [
        "python2.7 mc_solver_option_test.py CPU \"Generate Compile\" 1000 \"black_scholes barrier 1234\";python2.7 mc_solver_option_test.py CPU \"Generate Compile\" 1000 \"heston european 1234\";python2.7 mc_solver_option_test.py CPU \"Generate Compile\" 1000 \"heston barrier 1234\";python2.7 mc_solver_option_test.py CPU \"Generate Compile\" 1000 \"heston double_barrier 1234\";python2.7 mc_solver_option_test.py CPU \"Generate Compile\" 1000 \"black_scholes asian 1234\";python2.7 mc_solver_option_test.py CPU \"Generate Compile\" 1000 \"heston digital_double_barrier 1234\";python2.7 mc_solver_option_test.py CPU \"Generate Compile\" 1000 \"black_scholes double_barrier 1234\";python2.7 mc_solver_option_test.py CPU \"Generate Compile\" 1000 \"heston asian 1234\";python2.7 mc_solver_option_test.py CPU \"Generate Compile\" 1000 \"black_scholes digital_double_barrier 1234\";\n"
       ]
      }
     ],
     "prompt_number": 3
    },
    {
     "cell_type": "code",
     "collapsed": false,
     "input": [
      "compile_string = \"\"\n",
      "for t in tasks: compile_string += \"python2.7 mc_solver_option_test.py OpenCL_GPU \\\"Generate Compile\\\" 1000 \\\"%s 1234\\\";\"%t\n",
      "print(compile_string)"
     ],
     "language": "python",
     "metadata": {},
     "outputs": [
      {
       "output_type": "stream",
       "stream": "stdout",
       "text": [
        "python2.7 mc_solver_option_test.py OpenCL_GPU \"Generate Compile\" 1000 \"black_scholes barrier 1234\";python2.7 mc_solver_option_test.py OpenCL_GPU \"Generate Compile\" 1000 \"heston european 1234\";python2.7 mc_solver_option_test.py OpenCL_GPU \"Generate Compile\" 1000 \"heston barrier 1234\";python2.7 mc_solver_option_test.py OpenCL_GPU \"Generate Compile\" 1000 \"heston double_barrier 1234\";python2.7 mc_solver_option_test.py OpenCL_GPU \"Generate Compile\" 1000 \"black_scholes asian 1234\";python2.7 mc_solver_option_test.py OpenCL_GPU \"Generate Compile\" 1000 \"heston digital_double_barrier 1234\";python2.7 mc_solver_option_test.py OpenCL_GPU \"Generate Compile\" 1000 \"black_scholes double_barrier 1234\";python2.7 mc_solver_option_test.py OpenCL_GPU \"Generate Compile\" 1000 \"heston asian 1234\";python2.7 mc_solver_option_test.py OpenCL_GPU \"Generate Compile\" 1000 \"black_scholes digital_double_barrier 1234\";\n"
       ]
      }
     ],
     "prompt_number": 6
    },
    {
     "cell_type": "code",
     "collapsed": false,
     "input": [
      "import ForwardFinancialFramework.bin.option_generator as option_generator\n",
      "\n",
      "option_tasks = [option_generator.generate_option(int(o['seed']),underlying_type=o['underlying'],option_type=o['option']) for o in options]"
     ],
     "language": "python",
     "metadata": {},
     "outputs": [],
     "prompt_number": 3
    },
    {
     "cell_type": "heading",
     "level": 3,
     "metadata": {},
     "source": [
      "Platforms"
     ]
    },
    {
     "cell_type": "code",
     "collapsed": false,
     "input": [
      "from ForwardFinancialFramework.Platforms.MulticoreCPU import MulticoreCPU_MonteCarlo, MulticoreCPU\n",
      "from ForwardFinancialFramework.Platforms.OpenCLGPU import OpenCLGPU_MonteCarlo,OpenCLGPU\n",
      "from ForwardFinancialFramework.Platforms.OpenCLAlteraFPGA import OpenCLAlteraFPGA_MonteCarlo,OpenCLAlteraFPGA\n",
      "from ForwardFinancialFramework.Platforms.MaxelerFPGA import MaxelerFPGA_MonteCarlo,MaxelerFPGA"
     ],
     "language": "python",
     "metadata": {},
     "outputs": [],
     "prompt_number": 4
    },
    {
     "cell_type": "markdown",
     "metadata": {},
     "source": [
      "Experimental Cluster details:\n",
      "\n",
      "| Number | SSH Alias      | Type               | Location                                                                  | Notes                                                                                                                                     |\n",
      "|--------|----------------|--------------------|---------------------------------------------------------------------------|-------------------------------------------------------------------------------------------------------------------------------------------|\n",
      "| 0      |                | CPU                | local                                                                   | Has desktop session running - should be noisy. Only running 7/8 threads to avoid this. Ping: `rtt min/avg/max/mdev = 0.014/0.024/0.048/0.008 ms`                                                                                             |\n",
      "| 1      | \"ee-benjamin\"  | CPU                | Imperial College Datacentre, Imperial College London                      |  Ping: `rtt min/avg/max/mdev = 0.305/0.380/0.479/0.022 ms`                                                                                                                                         |\n",
      "| 2      | \"pi\"           | CPU                | Room 905, EEE Building, Imperial College London                           | Ping: `rtt min/avg/max/mdev = 1.789/2.463/55.085/5.289 ms`                                                                                                                                          |\n",
      "| 3      | \"ee-mollie\"    | CPU                | Electronics Test Facility, Level 9, EEE Building, Imperial College London | Only using 7/8 threads - leaving one for FPGA. Ping: `rtt min/avg/max/mdev = 0.180/0.217/0.696/0.053 ms`. Used in earlier experiments - replaced by google-cpu-0 in later experiments.                                                                                             |\n",
      "| 4      | \"phi\"          | CPU                | UCT, Cape Town, South Africa                                              | Only using 31/32 threads. Only seems to be using 24 on the host (maybe restricted by OS?). Doesn't respond to pings, round trip: $$\\approx 3329 mS$$|\n",
      "| 5      | ee-snowball0   | OpenCL GPU                | Electronics Test Facility, Level 9, EEE Building, Imperial College London | Has X-server running. Ping: `rtt min/avg/max/mdev = 0.231/0.269/0.601/0.040 ms`                                                                                                               |\n",
      "| 6      | ee-snowball1   | OpenCL GPU                | Electronics Test Facility, Level 9, EEE Building, Imperial College London | Ping: `rtt min/avg/max/mdev = 0.217/0.278/1.327/0.107 ms`                                                                                                                                         | \n",
      "| 7      | ee-mollie      | Maxeler FPGA       | Electronics Test Facility, Level 9, EEE Building, Imperial College London | Have to run a dummy run, plus a trial run before each actual evaluation - something fishy is going on with the calculation initialisation. Ping: `rtt min/avg/max/mdev = 0.180/0.217/0.696/0.053 ms` |\n",
      "| 8      | ee-snowball2   | OpenCL Altera FPGA | Electronics Test Facility, Level 9, EEE Building, Imperial College London | Ping: `rtt min/avg/max/mdev = 0.245/0.276/0.686/0.042 ms`     |\n",
      "| 9      | \"phi\"          | OpenCL Xeon Phi    | UCT, Cape Town, South Africa                                              | Doesn't respond to pings, round trip: $$\\approx 3329 mS$$                                                                                                                                          |\n",
      "| 10     | \"amazon-cpu-0\" | CPU                | US East Region, Amazon Cloud                                              | `rtt min/avg/max/mdev = 88.003/88.859/230.968/5.659 ms`                                                                                                                                          |\n",
      "| 11     | \"amazon-cpu-1\" | CPU                | US West Region, Amazon Cloud                                              | `rtt min/avg/max/mdev = 156.380/157.100/271.839/4.533 ms`                                                                                                                                          |\n",
      "| 12     | \"amazon-gpu-0\" | CPU                | US East Region, Amazon Cloud                                              | Only using 7/8 threads - reserving one for GPU computation. `rtt min/avg/max/mdev = 87.497/88.216/279.030/6.304 ms`                                                                                |\n",
      "| 13     | \"amazon-gpu-1\" | CPU                | US West Region, Amazon Cloud                                              | Only using 7/8 threads - reserving one for GPU computation. `rtt min/avg/max/mdev = 157.956/159.578/305.038/5.956 ms`                                                                                                                   |\n",
      "| 14     | \"amazon-gpu-0\" | OpenCL GPU                | US East Region, Amazon Cloud                                              | `rtt min/avg/max/mdev = 87.497/88.216/279.030/6.304 ms`                                                                                                                                         |\n",
      "| 15     | \"amazon-gpu-1\" | OpenCL GPU                | US West Region, Amazon Cloud.                                               | `rtt min/avg/max/mdev = 157.956/159.578/305.038/5.956 ms`                                                                                                                                           |\n",
      "| 16     | \"google-cpu-0\" | CPU                | US Central Region, Google Cloud                                              | `rtt min/avg/max/mdev = 105.877/111.232/233.218/8.069 ms`                                                                                                                                         |"
     ]
    },
    {
     "cell_type": "heading",
     "level": 4,
     "metadata": {},
     "source": [
      "Local Platform"
     ]
    },
    {
     "cell_type": "code",
     "collapsed": false,
     "input": [
      "platforms = [MulticoreCPU.MulticoreCPU(threads=7)] #0"
     ],
     "language": "python",
     "metadata": {},
     "outputs": [],
     "prompt_number": 10
    },
    {
     "cell_type": "heading",
     "level": 4,
     "metadata": {},
     "source": [
      "Remote CPUs"
     ]
    },
    {
     "cell_type": "code",
     "collapsed": false,
     "input": [
      "platforms += [MulticoreCPU.MulticoreCPU(remote=True,ssh_alias=\"ee-benjamin\")] #1"
     ],
     "language": "python",
     "metadata": {},
     "outputs": [],
     "prompt_number": 11
    },
    {
     "cell_type": "code",
     "collapsed": false,
     "input": [
      "platforms += [MulticoreCPU.MulticoreCPU(remote=True,ssh_alias=\"pi\")] #2"
     ],
     "language": "python",
     "metadata": {},
     "outputs": [],
     "prompt_number": 12
    },
    {
     "cell_type": "code",
     "collapsed": false,
     "input": [
      "#platforms += [MulticoreCPU.MulticoreCPU(threads=7,remote=True,ssh_alias=\"ee-mollie\")] #3 depricated in favour of google-cpu-0"
     ],
     "language": "python",
     "metadata": {},
     "outputs": [],
     "prompt_number": 13
    },
    {
     "cell_type": "code",
     "collapsed": false,
     "input": [
      "platforms += [MulticoreCPU.MulticoreCPU(threads=31,remote=True,ssh_alias=\"phi\")] #4"
     ],
     "language": "python",
     "metadata": {},
     "outputs": [],
     "prompt_number": 14
    },
    {
     "cell_type": "heading",
     "level": 4,
     "metadata": {},
     "source": [
      "Remote GPUs"
     ]
    },
    {
     "cell_type": "code",
     "collapsed": false,
     "input": [
      "platforms += [OpenCLGPU.OpenCLGPU(remote=True,ssh_alias=\"ee-snowball0\")] #5"
     ],
     "language": "python",
     "metadata": {},
     "outputs": [],
     "prompt_number": 15
    },
    {
     "cell_type": "code",
     "collapsed": false,
     "input": [
      "platforms += [OpenCLGPU.OpenCLGPU(remote=True,ssh_alias=\"ee-snowball1\")] #6"
     ],
     "language": "python",
     "metadata": {},
     "outputs": [],
     "prompt_number": 16
    },
    {
     "cell_type": "heading",
     "level": 4,
     "metadata": {},
     "source": [
      "Remote FPGAs"
     ]
    },
    {
     "cell_type": "code",
     "collapsed": false,
     "input": [
      "platforms += [MaxelerFPGA.MaxelerFPGA(remote=True,ssh_alias=\"ee-mollie\")] #7"
     ],
     "language": "python",
     "metadata": {},
     "outputs": [],
     "prompt_number": 17
    },
    {
     "cell_type": "code",
     "collapsed": false,
     "input": [
      "platforms += [OpenCLAlteraFPGA.OpenCLAlteraFPGA(remote=True,ssh_alias=\"ee-snowball2\")] #8"
     ],
     "language": "python",
     "metadata": {},
     "outputs": [],
     "prompt_number": 18
    },
    {
     "cell_type": "heading",
     "level": 4,
     "metadata": {},
     "source": [
      "Remote Xeon Phi"
     ]
    },
    {
     "cell_type": "code",
     "collapsed": false,
     "input": [
      "platforms = [OpenCLGPU.OpenCLGPU(remote=True,ssh_alias=\"phi\")] #9\n",
      "platforms[-1].device_type=8"
     ],
     "language": "python",
     "metadata": {},
     "outputs": [],
     "prompt_number": 39
    },
    {
     "cell_type": "heading",
     "level": 4,
     "metadata": {},
     "source": [
      "Cloud CPUs"
     ]
    },
    {
     "cell_type": "code",
     "collapsed": false,
     "input": [
      "platforms += [MulticoreCPU.MulticoreCPU(remote=True,ssh_alias=\"amazon-cpu-0\")] #10"
     ],
     "language": "python",
     "metadata": {},
     "outputs": [],
     "prompt_number": 20
    },
    {
     "cell_type": "code",
     "collapsed": false,
     "input": [
      "platforms += [MulticoreCPU.MulticoreCPU(remote=True,ssh_alias=\"amazon-cpu-1\")] #11"
     ],
     "language": "python",
     "metadata": {},
     "outputs": [],
     "prompt_number": 21
    },
    {
     "cell_type": "code",
     "collapsed": false,
     "input": [
      "platforms += [MulticoreCPU.MulticoreCPU(remote=True,ssh_alias=\"google-cpu-0\")] #16"
     ],
     "language": "python",
     "metadata": {},
     "outputs": [],
     "prompt_number": 22
    },
    {
     "cell_type": "code",
     "collapsed": false,
     "input": [
      "platforms += [MulticoreCPU.MulticoreCPU(remote=True,ssh_alias=\"amazon-gpu-0\",threads=7)] #12"
     ],
     "language": "python",
     "metadata": {},
     "outputs": [],
     "prompt_number": 23
    },
    {
     "cell_type": "code",
     "collapsed": false,
     "input": [
      "platforms += [MulticoreCPU.MulticoreCPU(remote=True,ssh_alias=\"amazon-gpu-1\",threads=7)] #13"
     ],
     "language": "python",
     "metadata": {},
     "outputs": [],
     "prompt_number": 24
    },
    {
     "cell_type": "heading",
     "level": 4,
     "metadata": {},
     "source": [
      "Cloud GPUs"
     ]
    },
    {
     "cell_type": "code",
     "collapsed": false,
     "input": [
      "platforms += [OpenCLGPU.OpenCLGPU(remote=True,ssh_alias=\"amazon-gpu-0\")] #14"
     ],
     "language": "python",
     "metadata": {},
     "outputs": [],
     "prompt_number": 25
    },
    {
     "cell_type": "code",
     "collapsed": false,
     "input": [
      "platforms += [OpenCLGPU.OpenCLGPU(remote=True,ssh_alias=\"amazon-gpu-1\")] #15"
     ],
     "language": "python",
     "metadata": {},
     "outputs": [],
     "prompt_number": 26
    },
    {
     "cell_type": "heading",
     "level": 2,
     "metadata": {},
     "source": [
      "Verifying the Models"
     ]
    },
    {
     "cell_type": "markdown",
     "metadata": {},
     "source": [
      "Model Verification Procedure:\n",
      "    1. Run each task for up to (5 minutes)/128 on each platform\n",
      "    2. Generate Latency, Accuracy and Latency-Accuracy models for each task.\n",
      "    3. Combine the task models for each platform and make a prediction curve for the region of interest [5x2,5x4,5x8,5x16]\n",
      "    4. Run verification experiments so as to find that region of interest"
     ]
    },
    {
     "cell_type": "heading",
     "level": 3,
     "metadata": {},
     "source": [
      "1. Benchmark Each Task"
     ]
    },
    {
     "cell_type": "code",
     "collapsed": false,
     "input": [
      "import multiprocessing,time\n",
      "import numpy"
     ],
     "language": "python",
     "metadata": {},
     "outputs": [],
     "prompt_number": 27
    },
    {
     "cell_type": "heading",
     "level": 4,
     "metadata": {},
     "source": [
      "Constants"
     ]
    },
    {
     "cell_type": "markdown",
     "metadata": {},
     "source": [
      "* The total benchmarking time should be 5 minutes (300 seconds), however we will need to verify this with 100 times this, so 30000 seconds (8 hours, 20 minutes). This should be shared equally between all of the tasks.\n",
      "* Each task starts with 100 paths, scaled up by a factor of 2"
     ]
    },
    {
     "cell_type": "code",
     "collapsed": false,
     "input": [
      "benchmarking_time = 13000.0\n",
      "paths_start_value = 200\n",
      "benchmarking_time_per_task = benchmarking_time/len(option_tasks)"
     ],
     "language": "python",
     "metadata": {},
     "outputs": [],
     "prompt_number": 28
    },
    {
     "cell_type": "heading",
     "level": 4,
     "metadata": {},
     "source": [
      "Function used for running the benchmark on a specific platform"
     ]
    },
    {
     "cell_type": "code",
     "collapsed": false,
     "input": [
      "def platform_benchmark(platform,option_tasks,timelimit,queue,output_queue,):\n",
      "    import subprocess32 as subprocess\n",
      "    \n",
      "    for i,o in enumerate(option_tasks[-8:]):\n",
      "        i = i+119\n",
      "        paths = paths_start_value\n",
      "        #if(isinstance(platform,OpenCLGPU.OpenCLGPU) and platform.device_type==8): paths = 1000\n",
      "        total_time = 0.0\n",
      "        results = []\n",
      "        retries = 3\n",
      "        \n",
      "        if(isinstance(platform,MulticoreCPU.MulticoreCPU)): mc_solver = MulticoreCPU_MonteCarlo.MulticoreCPU_MonteCarlo([o],paths,platform)\n",
      "        elif(isinstance(platform,OpenCLGPU.OpenCLGPU) and platform.device_type==8): mc_solver = OpenCLGPU_MonteCarlo.OpenCLGPU_MonteCarlo([o],paths,platform,kernel_path_max=1)\n",
      "        elif(isinstance(platform,OpenCLGPU.OpenCLGPU)): mc_solver = OpenCLGPU_MonteCarlo.OpenCLGPU_MonteCarlo([o],paths,platform)\n",
      "        elif(isinstance(platform,OpenCLAlteraFPGA.OpenCLAlteraFPGA)): mc_solver = OpenCLAlteraFPGA_MonteCarlo.OpenCLAlteraFPGA_MonteCarlo([o],paths,platform)\n",
      "        elif(isinstance(platform,MaxelerFPGA.MaxelerFPGA)):\n",
      "            if(\"heston\" in o.underlying[0].name): mc_solver = MaxelerFPGA_MonteCarlo.MaxelerFPGA_MonteCarlo([o],1000,platform,instances=8)\n",
      "            elif(\"black_scholes\" in o.underlying[0].name): mc_solver = MaxelerFPGA_MonteCarlo.MaxelerFPGA_MonteCarlo([o],1000,platform,instances=16)\n",
      "        \n",
      "        while(total_time < timelimit and 0 < retries):    \n",
      "            try:\n",
      "                mc_solver.paths = paths\n",
      "                mc_solver.solver_metadata[\"paths\"] = paths\n",
      "                if(isinstance(platform,MaxelerFPGA.MaxelerFPGA)):\n",
      "                    mc_solver.dummy_run()\n",
      "                    mc_solver.execute()\n",
      "                    \n",
      "                    if(\"heston\" in o.underlying[0].name): mc_solver = MaxelerFPGA_MonteCarlo.MaxelerFPGA_MonteCarlo([o],paths,platform,instances=8)\n",
      "                    elif(\"black_scholes\" in o.underlying[0].name): mc_solver = MaxelerFPGA_MonteCarlo.MaxelerFPGA_MonteCarlo([o],paths,platform,instances=16)\n",
      "                    \n",
      "                elif(isinstance(platform,OpenCLGPU.OpenCLGPU) and platform.device_type==8): mc_solver = OpenCLGPU_MonteCarlo.OpenCLGPU_MonteCarlo([o],paths,platform,kernel_path_max=1)\n",
      "                elif(isinstance(platform,OpenCLGPU.OpenCLGPU)): mc_solver = OpenCLGPU_MonteCarlo.OpenCLGPU_MonteCarlo([o],paths,platform)\n",
      "                elif(isinstance(platform,OpenCLAlteraFPGA.OpenCLAlteraFPGA)): mc_solver = OpenCLAlteraFPGA_MonteCarlo.OpenCLAlteraFPGA_MonteCarlo([o],paths,platform)    \n",
      "                \n",
      "                timeout = max(3*total_time,benchmarking_time_per_task) #we expect the time to double per iteration, so the worst case for the \n",
      "                result = mc_solver.execute(timeout=timeout)\n",
      "                retries = 3\n",
      "                \n",
      "                results.append((paths,result[-1]/1e6,float(result[1])))\n",
      "                output_queue.put_nowait((platform.ssh_alias,platform.name,i,(paths,result[-1]/1e6,float(result[1]))))\n",
      "        \n",
      "                total_time = result[-1]/1e6\n",
      "                paths *= 2\n",
      "                \n",
      "            except subprocess.CalledProcessError as e:\n",
      "                output_queue.put_nowait(\"Error!\\nCommand:\" + str(e.cmd) + \"on \" + str(i) + \"\\nReturn: \" + str(e.output) + \"\\nReturncode: \" + str(e.returncode) + \"\\nretries remaining: \" + str(retries))\n",
      "                retries -= 1\n",
      "                \n",
      "            except subprocess.TimeoutExpired as e:\n",
      "                output_queue.put_nowait(\"Timeout!\\nCommand:\" + str(e.cmd) + \"on \" + str(i) + \"\\nReturn: \" + str(e.output) + \"\\nTimeout : \" + str(e.timeout))\n",
      "                retries -= 1\n",
      "        \n",
      "        if(results): \n",
      "            output_queue.put_nowait(str(i) + \" on \" + platform.ssh_alias + \"(\"+platform.name+\")\" + \": \" + str(results) + \"\\n\")\n",
      "            queue.put_nowait((platform.ssh_alias,platform.name,i,results))"
     ],
     "language": "python",
     "metadata": {},
     "outputs": [],
     "prompt_number": 40
    },
    {
     "cell_type": "heading",
     "level": 4,
     "metadata": {},
     "source": [
      "Code that launches benchmarking on separate threads"
     ]
    },
    {
     "cell_type": "code",
     "collapsed": false,
     "input": [
      "queue = multiprocessing.Queue(len(platforms)*len(option_tasks)*2)\n",
      "output_queue = multiprocessing.Queue()"
     ],
     "language": "python",
     "metadata": {},
     "outputs": [],
     "prompt_number": 41
    },
    {
     "cell_type": "code",
     "collapsed": false,
     "input": [
      "results = []\n",
      "try:\n",
      "    pool = [multiprocessing.Process(target=platform_benchmark,args=(p,option_tasks,benchmarking_time_per_task,queue,output_queue,)) for p in platforms]\n",
      "    \n",
      "    for p in pool: p.start()\n",
      "        \n",
      "    while(True):\n",
      "        while not(output_queue.empty()): print(output_queue.get())\n",
      "        while not(queue.empty()): results += [queue.get()]\n",
      "        \n",
      "        flag = True\n",
      "        for p in pool: \n",
      "            if(p.is_alive() and flag): flag = False\n",
      "        if(flag): break\n",
      "            \n",
      "        time.sleep(1)\n",
      "            \n",
      "    for p in pool: \n",
      "        p.join()\n",
      "        del p\n",
      "except KeyboardInterrupt:\n",
      "    for p in pool: \n",
      "        p.terminate()\n",
      "        del p\n",
      "\n",
      "\n",
      "#for p in platforms: platform_benchmark(p,option_tasks[4:],benchmarking_time_per_task,queue,output_queue,)\n"
     ],
     "language": "python",
     "metadata": {},
     "outputs": [
      {
       "output_type": "stream",
       "stream": "stdout",
       "text": [
        "('phi', 'opencl_gpu', 119, (200, 11.014770984649658, 0.0))\n",
        "('phi', 'opencl_gpu', 119, (400, 10.082932949066162, 0.184102))"
       ]
      },
      {
       "output_type": "stream",
       "stream": "stdout",
       "text": [
        "\n",
        "('phi', 'opencl_gpu', 119, (800, 9.767320156097412, 0.016086))"
       ]
      },
      {
       "output_type": "stream",
       "stream": "stdout",
       "text": [
        "\n",
        "('phi', 'opencl_gpu', 119, (1600, 9.559321880340576, 0.07409))"
       ]
      },
      {
       "output_type": "stream",
       "stream": "stdout",
       "text": [
        "\n",
        "('phi', 'opencl_gpu', 119, (3200, 8.879615783691406, 0.08364))"
       ]
      },
      {
       "output_type": "stream",
       "stream": "stdout",
       "text": [
        "\n",
        "('phi', 'opencl_gpu', 119, (6400, 9.359378099441528, 0.064945))"
       ]
      },
      {
       "output_type": "stream",
       "stream": "stdout",
       "text": [
        "\n",
        "('phi', 'opencl_gpu', 119, (12800, 20.55197310447693, 0.034616))"
       ]
      },
      {
       "output_type": "stream",
       "stream": "stdout",
       "text": [
        "\n",
        "('phi', 'opencl_gpu', 119, (25600, 20.667340993881226, 0.025179))"
       ]
      },
      {
       "output_type": "stream",
       "stream": "stdout",
       "text": [
        "\n",
        "('phi', 'opencl_gpu', 119, (51200, 21.77941393852234, 0.019029))"
       ]
      },
      {
       "output_type": "stream",
       "stream": "stdout",
       "text": [
        "\n",
        "('phi', 'opencl_gpu', 119, (102400, 20.59595799446106, 0.014515))"
       ]
      },
      {
       "output_type": "stream",
       "stream": "stdout",
       "text": [
        "\n",
        "('phi', 'opencl_gpu', 119, (204800, 17.481040000915527, 0.009068))"
       ]
      },
      {
       "output_type": "stream",
       "stream": "stdout",
       "text": [
        "\n",
        "('phi', 'opencl_gpu', 119, (409600, 18.90990400314331, 0.006775))"
       ]
      },
      {
       "output_type": "stream",
       "stream": "stdout",
       "text": [
        "\n",
        "('phi', 'opencl_gpu', 119, (819200, 22.427767992019653, 0.004678))"
       ]
      },
      {
       "output_type": "stream",
       "stream": "stdout",
       "text": [
        "\n",
        "('phi', 'opencl_gpu', 119, (1638400, 25.687600135803223, 0.003284))"
       ]
      },
      {
       "output_type": "stream",
       "stream": "stdout",
       "text": [
        "\n",
        "('phi', 'opencl_gpu', 119, (3276800, 33.79927611351013, 0.002323))"
       ]
      },
      {
       "output_type": "stream",
       "stream": "stdout",
       "text": [
        "\n",
        "('phi', 'opencl_gpu', 119, (6553600, 49.68737602233887, 0.001647))"
       ]
      },
      {
       "output_type": "stream",
       "stream": "stdout",
       "text": [
        "\n",
        "('phi', 'opencl_gpu', 119, (13107200, 82.77986407279968, 0.001167))"
       ]
      },
      {
       "output_type": "stream",
       "stream": "stdout",
       "text": [
        "\n",
        "('phi', 'opencl_gpu', 119, (26214400, 139.46339106559753, 0.00082))"
       ]
      },
      {
       "output_type": "stream",
       "stream": "stdout",
       "text": [
        "\n",
        "119 on phi(opencl_gpu): [(200, 11.014770984649658, 0.0), (400, 10.082932949066162, 0.184102), (800, 9.767320156097412, 0.016086), (1600, 9.559321880340576, 0.07409), (3200, 8.879615783691406, 0.08364), (6400, 9.359378099441528, 0.064945), (12800, 20.55197310447693, 0.034616), (25600, 20.667340993881226, 0.025179), (51200, 21.77941393852234, 0.019029), (102400, 20.59595799446106, 0.014515), (204800, 17.481040000915527, 0.009068), (409600, 18.90990400314331, 0.006775), (819200, 22.427767992019653, 0.004678), (1638400, 25.687600135803223, 0.003284), (3276800, 33.79927611351013, 0.002323), (6553600, 49.68737602233887, 0.001647), (13107200, 82.77986407279968, 0.001167), (26214400, 139.46339106559753, 0.00082)]\n",
        "\n",
        "('phi', 'opencl_gpu', 120, (200, 9.518564939498901, 0.0))"
       ]
      },
      {
       "output_type": "stream",
       "stream": "stdout",
       "text": [
        "\n",
        "('phi', 'opencl_gpu', 120, (400, 9.659277200698853, 0.0))"
       ]
      },
      {
       "output_type": "stream",
       "stream": "stdout",
       "text": [
        "\n",
        "('phi', 'opencl_gpu', 120, (800, 9.860059022903442, 0.0))"
       ]
      },
      {
       "output_type": "stream",
       "stream": "stdout",
       "text": [
        "\n",
        "('phi', 'opencl_gpu', 120, (1600, 10.239413976669312, 0.0))"
       ]
      },
      {
       "output_type": "stream",
       "stream": "stdout",
       "text": [
        "\n",
        "('phi', 'opencl_gpu', 120, (3200, 9.319380044937134, 0.0))"
       ]
      },
      {
       "output_type": "stream",
       "stream": "stdout",
       "text": [
        "\n",
        "('phi', 'opencl_gpu', 120, (6400, 9.539761066436768, 0.0234))"
       ]
      },
      {
       "output_type": "stream",
       "stream": "stdout",
       "text": [
        "\n",
        "('phi', 'opencl_gpu', 120, (12800, 20.087621212005615, 0.015814))"
       ]
      },
      {
       "output_type": "stream",
       "stream": "stdout",
       "text": [
        "\n",
        "('phi', 'opencl_gpu', 120, (25600, 20.87126612663269, 0.007924))"
       ]
      },
      {
       "output_type": "stream",
       "stream": "stdout",
       "text": [
        "\n",
        "('phi', 'opencl_gpu', 120, (51200, 20.315412998199463, 0.006817))"
       ]
      },
      {
       "output_type": "stream",
       "stream": "stdout",
       "text": [
        "\n",
        "('phi', 'opencl_gpu', 120, (102400, 20.8918559551239, 0.005134))"
       ]
      },
      {
       "output_type": "stream",
       "stream": "stdout",
       "text": [
        "\n",
        "('phi', 'opencl_gpu', 120, (204800, 16.799377918243408, 0.004206))"
       ]
      },
      {
       "output_type": "stream",
       "stream": "stdout",
       "text": [
        "\n",
        "('phi', 'opencl_gpu', 120, (409600, 18.94746994972229, 0.002198))"
       ]
      },
      {
       "output_type": "stream",
       "stream": "stdout",
       "text": [
        "\n",
        "('phi', 'opencl_gpu', 120, (819200, 22.36775803565979, 0.001772))"
       ]
      },
      {
       "output_type": "stream",
       "stream": "stdout",
       "text": [
        "\n",
        "('phi', 'opencl_gpu', 120, (1638400, 25.651446104049683, 0.001086))"
       ]
      },
      {
       "output_type": "stream",
       "stream": "stdout",
       "text": [
        "\n",
        "('phi', 'opencl_gpu', 120, (3276800, 33.61543393135071, 0.000847))"
       ]
      },
      {
       "output_type": "stream",
       "stream": "stdout",
       "text": [
        "\n",
        "('phi', 'opencl_gpu', 120, (6553600, 48.63996911048889, 0.000591))"
       ]
      },
      {
       "output_type": "stream",
       "stream": "stdout",
       "text": [
        "\n",
        "('phi', 'opencl_gpu', 120, (13107200, 82.22741794586182, 0.000394))"
       ]
      },
      {
       "output_type": "stream",
       "stream": "stdout",
       "text": [
        "\n",
        "('phi', 'opencl_gpu', 120, (26214400, 138.65550684928894, 0.00029))"
       ]
      },
      {
       "output_type": "stream",
       "stream": "stdout",
       "text": [
        "\n",
        "120 on phi(opencl_gpu): [(200, 9.518564939498901, 0.0), (400, 9.659277200698853, 0.0), (800, 9.860059022903442, 0.0), (1600, 10.239413976669312, 0.0), (3200, 9.319380044937134, 0.0), (6400, 9.539761066436768, 0.0234), (12800, 20.087621212005615, 0.015814), (25600, 20.87126612663269, 0.007924), (51200, 20.315412998199463, 0.006817), (102400, 20.8918559551239, 0.005134), (204800, 16.799377918243408, 0.004206), (409600, 18.94746994972229, 0.002198), (819200, 22.36775803565979, 0.001772), (1638400, 25.651446104049683, 0.001086), (3276800, 33.61543393135071, 0.000847), (6553600, 48.63996911048889, 0.000591), (13107200, 82.22741794586182, 0.000394), (26214400, 138.65550684928894, 0.00029)]\n",
        "\n",
        "('phi', 'opencl_gpu', 121, (200, 9.67932391166687, 0.0))"
       ]
      },
      {
       "output_type": "stream",
       "stream": "stdout",
       "text": [
        "\n",
        "('phi', 'opencl_gpu', 121, (400, 9.707366943359375, 0.0))"
       ]
      },
      {
       "output_type": "stream",
       "stream": "stdout",
       "text": [
        "\n",
        "('phi', 'opencl_gpu', 121, (800, 9.48128890991211, 0.0))"
       ]
      },
      {
       "output_type": "stream",
       "stream": "stdout",
       "text": [
        "\n",
        "('phi', 'opencl_gpu', 121, (1600, 9.377708196640015, 0.0))"
       ]
      },
      {
       "output_type": "stream",
       "stream": "stdout",
       "text": [
        "\n",
        "('phi', 'opencl_gpu', 121, (3200, 9.79168701171875, 0.0))"
       ]
      },
      {
       "output_type": "stream",
       "stream": "stdout",
       "text": [
        "\n",
        "('phi', 'opencl_gpu', 121, (6400, 14.767454147338867, 0.0))"
       ]
      },
      {
       "output_type": "stream",
       "stream": "stdout",
       "text": [
        "\n",
        "('phi', 'opencl_gpu', 121, (12800, 20.707767009735107, 0.0))"
       ]
      },
      {
       "output_type": "stream",
       "stream": "stdout",
       "text": [
        "\n",
        "('phi', 'opencl_gpu', 121, (25600, 20.939425945281982, 0.00458))"
       ]
      },
      {
       "output_type": "stream",
       "stream": "stdout",
       "text": [
        "\n",
        "('phi', 'opencl_gpu', 121, (51200, 20.371543169021606, 0.0))"
       ]
      },
      {
       "output_type": "stream",
       "stream": "stdout",
       "text": [
        "\n",
        "('phi', 'opencl_gpu', 121, (102400, 21.07946801185608, 0.002181))"
       ]
      },
      {
       "output_type": "stream",
       "stream": "stdout",
       "text": [
        "\n",
        "('phi', 'opencl_gpu', 121, (204800, 17.199273824691772, 0.001345))"
       ]
      },
      {
       "output_type": "stream",
       "stream": "stdout",
       "text": [
        "\n",
        "('phi', 'opencl_gpu', 121, (409600, 20.577878952026367, 0.000912))"
       ]
      },
      {
       "output_type": "stream",
       "stream": "stdout",
       "text": [
        "\n",
        "('phi', 'opencl_gpu', 121, (819200, 22.297273874282837, 0.0005))"
       ]
      },
      {
       "output_type": "stream",
       "stream": "stdout",
       "text": [
        "\n",
        "('phi', 'opencl_gpu', 121, (1638400, 25.81977415084839, 0.000435))"
       ]
      },
      {
       "output_type": "stream",
       "stream": "stdout",
       "text": [
        "\n",
        "('phi', 'opencl_gpu', 121, (3276800, 34.179287910461426, 0.000294))"
       ]
      },
      {
       "output_type": "stream",
       "stream": "stdout",
       "text": [
        "\n",
        "('phi', 'opencl_gpu', 121, (6553600, 55.207834005355835, 0.000201))"
       ]
      },
      {
       "output_type": "stream",
       "stream": "stdout",
       "text": [
        "\n",
        "('phi', 'opencl_gpu', 121, (13107200, 83.0951099395752, 0.00015))"
       ]
      },
      {
       "output_type": "stream",
       "stream": "stdout",
       "text": [
        "\n",
        "('phi', 'opencl_gpu', 121, (26214400, 141.2358500957489, 0.000105))"
       ]
      },
      {
       "output_type": "stream",
       "stream": "stdout",
       "text": [
        "\n",
        "121 on phi(opencl_gpu): [(200, 9.67932391166687, 0.0), (400, 9.707366943359375, 0.0), (800, 9.48128890991211, 0.0), (1600, 9.377708196640015, 0.0), (3200, 9.79168701171875, 0.0), (6400, 14.767454147338867, 0.0), (12800, 20.707767009735107, 0.0), (25600, 20.939425945281982, 0.00458), (51200, 20.371543169021606, 0.0), (102400, 21.07946801185608, 0.002181), (204800, 17.199273824691772, 0.001345), (409600, 20.577878952026367, 0.000912), (819200, 22.297273874282837, 0.0005), (1638400, 25.81977415084839, 0.000435), (3276800, 34.179287910461426, 0.000294), (6553600, 55.207834005355835, 0.000201), (13107200, 83.0951099395752, 0.00015), (26214400, 141.2358500957489, 0.000105)]\n",
        "\n",
        "('phi', 'opencl_gpu', 122, (200, 9.511667013168335, 0.89082))"
       ]
      },
      {
       "output_type": "stream",
       "stream": "stdout",
       "text": [
        "\n",
        "('phi', 'opencl_gpu', 122, (400, 8.806952953338623, 0.211606))"
       ]
      },
      {
       "output_type": "stream",
       "stream": "stdout",
       "text": [
        "\n",
        "('phi', 'opencl_gpu', 122, (800, 9.331736087799072, 0.710503))"
       ]
      },
      {
       "output_type": "stream",
       "stream": "stdout",
       "text": [
        "\n",
        "('phi', 'opencl_gpu', 122, (1600, 9.35548210144043, 0.59735))"
       ]
      },
      {
       "output_type": "stream",
       "stream": "stdout",
       "text": [
        "\n",
        "('phi', 'opencl_gpu', 122, (3200, 9.379482984542847, 0.419133))"
       ]
      },
      {
       "output_type": "stream",
       "stream": "stdout",
       "text": [
        "\n",
        "('phi', 'opencl_gpu', 122, (6400, 9.451518058776855, 0.248487))"
       ]
      },
      {
       "output_type": "stream",
       "stream": "stdout",
       "text": [
        "\n",
        "('phi', 'opencl_gpu', 122, (12800, 12.087599992752075, 0.169652))"
       ]
      },
      {
       "output_type": "stream",
       "stream": "stdout",
       "text": [
        "\n",
        "('phi', 'opencl_gpu', 122, (25600, 12.039514064788818, 0.125672))"
       ]
      },
      {
       "output_type": "stream",
       "stream": "stdout",
       "text": [
        "\n",
        "('phi', 'opencl_gpu', 122, (51200, 12.359606981277466, 0.083667))"
       ]
      },
      {
       "output_type": "stream",
       "stream": "stdout",
       "text": [
        "\n",
        "('phi', 'opencl_gpu', 122, (102400, 11.919480085372925, 0.062896))"
       ]
      },
      {
       "output_type": "stream",
       "stream": "stdout",
       "text": [
        "\n",
        "('phi', 'opencl_gpu', 122, (204800, 10.71952199935913, 0.043521))"
       ]
      },
      {
       "output_type": "stream",
       "stream": "stdout",
       "text": [
        "\n",
        "('phi', 'opencl_gpu', 122, (409600, 11.407190084457397, 0.031486))"
       ]
      },
      {
       "output_type": "stream",
       "stream": "stdout",
       "text": [
        "\n",
        "('phi', 'opencl_gpu', 122, (819200, 13.247951030731201, 0.022041))"
       ]
      },
      {
       "output_type": "stream",
       "stream": "stdout",
       "text": [
        "\n",
        "('phi', 'opencl_gpu', 122, (1638400, 12.799726009368896, 0.015318))"
       ]
      },
      {
       "output_type": "stream",
       "stream": "stdout",
       "text": [
        "\n",
        "('phi', 'opencl_gpu', 122, (3276800, 13.991576910018921, 0.010895))"
       ]
      },
      {
       "output_type": "stream",
       "stream": "stdout",
       "text": [
        "\n",
        "('phi', 'opencl_gpu', 122, (6553600, 18.56758403778076, 0.007713))"
       ]
      },
      {
       "output_type": "stream",
       "stream": "stdout",
       "text": [
        "\n",
        "('phi', 'opencl_gpu', 122, (13107200, 23.899463176727295, 0.005442))"
       ]
      },
      {
       "output_type": "stream",
       "stream": "stdout",
       "text": [
        "\n",
        "('phi', 'opencl_gpu', 122, (26214400, 35.54737210273743, 0.003852))"
       ]
      },
      {
       "output_type": "stream",
       "stream": "stdout",
       "text": [
        "\n",
        "('phi', 'opencl_gpu', 122, (52428800, 58.719467878341675, 0.002724))"
       ]
      },
      {
       "output_type": "stream",
       "stream": "stdout",
       "text": [
        "\n",
        "('phi', 'opencl_gpu', 122, (104857600, 106.13958191871643, 0.001927))"
       ]
      },
      {
       "output_type": "stream",
       "stream": "stdout",
       "text": [
        "\n",
        "122 on phi(opencl_gpu): [(200, 9.511667013168335, 0.89082), (400, 8.806952953338623, 0.211606), (800, 9.331736087799072, 0.710503), (1600, 9.35548210144043, 0.59735), (3200, 9.379482984542847, 0.419133), (6400, 9.451518058776855, 0.248487), (12800, 12.087599992752075, 0.169652), (25600, 12.039514064788818, 0.125672), (51200, 12.359606981277466, 0.083667), (102400, 11.919480085372925, 0.062896), (204800, 10.71952199935913, 0.043521), (409600, 11.407190084457397, 0.031486), (819200, 13.247951030731201, 0.022041), (1638400, 12.799726009368896, 0.015318), (3276800, 13.991576910018921, 0.010895), (6553600, 18.56758403778076, 0.007713), (13107200, 23.899463176727295, 0.005442), (26214400, 35.54737210273743, 0.003852), (52428800, 58.719467878341675, 0.002724), (104857600, 106.13958191871643, 0.001927)]\n",
        "\n",
        "('phi', 'opencl_gpu', 123, (200, 9.454960823059082, 1.260069))"
       ]
      },
      {
       "output_type": "stream",
       "stream": "stdout",
       "text": [
        "\n",
        "('phi', 'opencl_gpu', 123, (400, 9.387639045715332, 0.813002))"
       ]
      },
      {
       "output_type": "stream",
       "stream": "stdout",
       "text": [
        "\n",
        "('phi', 'opencl_gpu', 123, (800, 9.551644086837769, 0.435106))"
       ]
      },
      {
       "output_type": "stream",
       "stream": "stdout",
       "text": [
        "\n",
        "('phi', 'opencl_gpu', 123, (1600, 9.347408056259155, 0.524769))"
       ]
      },
      {
       "output_type": "stream",
       "stream": "stdout",
       "text": [
        "\n",
        "('phi', 'opencl_gpu', 123, (3200, 9.391676902770996, 0.360352))"
       ]
      },
      {
       "output_type": "stream",
       "stream": "stdout",
       "text": [
        "\n",
        "('phi', 'opencl_gpu', 123, (6400, 9.399527072906494, 0.233169))"
       ]
      },
      {
       "output_type": "stream",
       "stream": "stdout",
       "text": [
        "\n",
        "('phi', 'opencl_gpu', 123, (12800, 12.480179071426392, 0.164182))"
       ]
      },
      {
       "output_type": "stream",
       "stream": "stdout",
       "text": [
        "\n",
        "('phi', 'opencl_gpu', 123, (25600, 12.018735885620117, 0.130211))"
       ]
      },
      {
       "output_type": "stream",
       "stream": "stdout",
       "text": [
        "\n",
        "('phi', 'opencl_gpu', 123, (51200, 11.885135889053345, 0.086693))"
       ]
      },
      {
       "output_type": "stream",
       "stream": "stdout",
       "text": [
        "\n",
        "('phi', 'opencl_gpu', 123, (102400, 11.89447808265686, 0.062437))"
       ]
      },
      {
       "output_type": "stream",
       "stream": "stdout",
       "text": [
        "\n",
        "('phi', 'opencl_gpu', 123, (204800, 10.747421979904175, 0.044421))"
       ]
      },
      {
       "output_type": "stream",
       "stream": "stdout",
       "text": [
        "\n",
        "('phi', 'opencl_gpu', 123, (409600, 12.107680797576904, 0.030093))"
       ]
      },
      {
       "output_type": "stream",
       "stream": "stdout",
       "text": [
        "\n",
        "('phi', 'opencl_gpu', 123, (819200, 12.031314134597778, 0.022297))"
       ]
      },
      {
       "output_type": "stream",
       "stream": "stdout",
       "text": [
        "\n",
        "('phi', 'opencl_gpu', 123, (1638400, 14.107527017593384, 0.015934))"
       ]
      },
      {
       "output_type": "stream",
       "stream": "stdout",
       "text": [
        "\n",
        "('phi', 'opencl_gpu', 123, (3276800, 14.051578044891357, 0.011173))"
       ]
      },
      {
       "output_type": "stream",
       "stream": "stdout",
       "text": [
        "\n",
        "('phi', 'opencl_gpu', 123, (6553600, 17.38754391670227, 0.007837))"
       ]
      },
      {
       "output_type": "stream",
       "stream": "stdout",
       "text": [
        "\n",
        "('phi', 'opencl_gpu', 123, (13107200, 23.799342155456543, 0.005579))"
       ]
      },
      {
       "output_type": "stream",
       "stream": "stdout",
       "text": [
        "\n",
        "('phi', 'opencl_gpu', 123, (26214400, 35.367892026901245, 0.003944))"
       ]
      },
      {
       "output_type": "stream",
       "stream": "stdout",
       "text": [
        "\n",
        "('phi', 'opencl_gpu', 123, (52428800, 59.14203906059265, 0.002783))"
       ]
      },
      {
       "output_type": "stream",
       "stream": "stdout",
       "text": [
        "\n",
        "('phi', 'opencl_gpu', 123, (104857600, 106.91298699378967, 0.001971))"
       ]
      },
      {
       "output_type": "stream",
       "stream": "stdout",
       "text": [
        "\n",
        "123 on phi(opencl_gpu): [(200, 9.454960823059082, 1.260069), (400, 9.387639045715332, 0.813002), (800, 9.551644086837769, 0.435106), (1600, 9.347408056259155, 0.524769), (3200, 9.391676902770996, 0.360352), (6400, 9.399527072906494, 0.233169), (12800, 12.480179071426392, 0.164182), (25600, 12.018735885620117, 0.130211), (51200, 11.885135889053345, 0.086693), (102400, 11.89447808265686, 0.062437), (204800, 10.747421979904175, 0.044421), (409600, 12.107680797576904, 0.030093), (819200, 12.031314134597778, 0.022297), (1638400, 14.107527017593384, 0.015934), (3276800, 14.051578044891357, 0.011173), (6553600, 17.38754391670227, 0.007837), (13107200, 23.799342155456543, 0.005579), (26214400, 35.367892026901245, 0.003944), (52428800, 59.14203906059265, 0.002783), (104857600, 106.91298699378967, 0.001971)]\n",
        "\n",
        "('phi', 'opencl_gpu', 124, (200, 9.199490070343018, 0.990329))"
       ]
      },
      {
       "output_type": "stream",
       "stream": "stdout",
       "text": [
        "\n",
        "('phi', 'opencl_gpu', 124, (400, 9.227483034133911, 0.962278))"
       ]
      },
      {
       "output_type": "stream",
       "stream": "stdout",
       "text": [
        "\n",
        "('phi', 'opencl_gpu', 124, (800, 9.299489974975586, 0.573502))"
       ]
      },
      {
       "output_type": "stream",
       "stream": "stdout",
       "text": [
        "\n",
        "('phi', 'opencl_gpu', 124, (1600, 9.439472913742065, 0.448923))"
       ]
      },
      {
       "output_type": "stream",
       "stream": "stdout",
       "text": [
        "\n",
        "('phi', 'opencl_gpu', 124, (3200, 9.431499004364014, 0.320064))"
       ]
      },
      {
       "output_type": "stream",
       "stream": "stdout",
       "text": [
        "\n",
        "('phi', 'opencl_gpu', 124, (6400, 9.127479076385498, 0.203424))"
       ]
      },
      {
       "output_type": "stream",
       "stream": "stdout",
       "text": [
        "\n",
        "('phi', 'opencl_gpu', 124, (12800, 12.12797999382019, 0.148976))"
       ]
      },
      {
       "output_type": "stream",
       "stream": "stdout",
       "text": [
        "\n",
        "('phi', 'opencl_gpu', 124, (25600, 11.631726026535034, 0.116186))"
       ]
      },
      {
       "output_type": "stream",
       "stream": "stdout",
       "text": [
        "\n",
        "('phi', 'opencl_gpu', 124, (51200, 11.987480878829956, 0.082132))"
       ]
      },
      {
       "output_type": "stream",
       "stream": "stdout",
       "text": [
        "\n",
        "('phi', 'opencl_gpu', 124, (102400, 12.03946304321289, 0.055752))"
       ]
      },
      {
       "output_type": "stream",
       "stream": "stdout",
       "text": [
        "\n",
        "('phi', 'opencl_gpu', 124, (204800, 10.97954797744751, 0.039653))"
       ]
      },
      {
       "output_type": "stream",
       "stream": "stdout",
       "text": [
        "\n",
        "('phi', 'opencl_gpu', 124, (409600, 11.671365022659302, 0.027514))"
       ]
      },
      {
       "output_type": "stream",
       "stream": "stdout",
       "text": [
        "\n",
        "('phi', 'opencl_gpu', 124, (819200, 12.239464044570923, 0.019744))"
       ]
      },
      {
       "output_type": "stream",
       "stream": "stdout",
       "text": [
        "\n",
        "('phi', 'opencl_gpu', 124, (1638400, 12.255886793136597, 0.013817))"
       ]
      },
      {
       "output_type": "stream",
       "stream": "stdout",
       "text": [
        "\n",
        "('phi', 'opencl_gpu', 124, (3276800, 14.72201919555664, 0.009843))"
       ]
      },
      {
       "output_type": "stream",
       "stream": "stdout",
       "text": [
        "\n",
        "('phi', 'opencl_gpu', 124, (6553600, 17.60486912727356, 0.00699))"
       ]
      },
      {
       "output_type": "stream",
       "stream": "stdout",
       "text": [
        "\n",
        "('phi', 'opencl_gpu', 124, (13107200, 23.95168685913086, 0.004922))"
       ]
      },
      {
       "output_type": "stream",
       "stream": "stdout",
       "text": [
        "\n",
        "('phi', 'opencl_gpu', 124, (26214400, 35.67957901954651, 0.003475))"
       ]
      },
      {
       "output_type": "stream",
       "stream": "stdout",
       "text": [
        "\n",
        "('phi', 'opencl_gpu', 124, (52428800, 58.591763973236084, 0.002464))"
       ]
      },
      {
       "output_type": "stream",
       "stream": "stdout",
       "text": [
        "\n",
        "('phi', 'opencl_gpu', 124, (104857600, 106.73559999465942, 0.001742))"
       ]
      },
      {
       "output_type": "stream",
       "stream": "stdout",
       "text": [
        "\n",
        "124 on phi(opencl_gpu): [(200, 9.199490070343018, 0.990329), (400, 9.227483034133911, 0.962278), (800, 9.299489974975586, 0.573502), (1600, 9.439472913742065, 0.448923), (3200, 9.431499004364014, 0.320064), (6400, 9.127479076385498, 0.203424), (12800, 12.12797999382019, 0.148976), (25600, 11.631726026535034, 0.116186), (51200, 11.987480878829956, 0.082132), (102400, 12.03946304321289, 0.055752), (204800, 10.97954797744751, 0.039653), (409600, 11.671365022659302, 0.027514), (819200, 12.239464044570923, 0.019744), (1638400, 12.255886793136597, 0.013817), (3276800, 14.72201919555664, 0.009843), (6553600, 17.60486912727356, 0.00699), (13107200, 23.95168685913086, 0.004922), (26214400, 35.67957901954651, 0.003475), (52428800, 58.591763973236084, 0.002464), (104857600, 106.73559999465942, 0.001742)]\n",
        "\n",
        "('phi', 'opencl_gpu', 125, (200, 9.54763913154602, 0.376049))"
       ]
      },
      {
       "output_type": "stream",
       "stream": "stdout",
       "text": [
        "\n",
        "('phi', 'opencl_gpu', 125, (400, 10.039570808410645, 0.945585))"
       ]
      },
      {
       "output_type": "stream",
       "stream": "stdout",
       "text": [
        "\n",
        "('phi', 'opencl_gpu', 125, (800, 9.179609060287476, 0.5451))"
       ]
      },
      {
       "output_type": "stream",
       "stream": "stdout",
       "text": [
        "\n",
        "('phi', 'opencl_gpu', 125, (1600, 9.3752760887146, 0.536535))"
       ]
      },
      {
       "output_type": "stream",
       "stream": "stdout",
       "text": [
        "\n",
        "('phi', 'opencl_gpu', 125, (3200, 9.051388025283813, 0.37538))"
       ]
      },
      {
       "output_type": "stream",
       "stream": "stdout",
       "text": [
        "\n",
        "('phi', 'opencl_gpu', 125, (6400, 9.50763201713562, 0.256054))"
       ]
      },
      {
       "output_type": "stream",
       "stream": "stdout",
       "text": [
        "\n",
        "('phi', 'opencl_gpu', 125, (12800, 11.939244031906128, 0.16868))"
       ]
      },
      {
       "output_type": "stream",
       "stream": "stdout",
       "text": [
        "\n",
        "('phi', 'opencl_gpu', 125, (25600, 12.199815034866333, 0.124348))"
       ]
      },
      {
       "output_type": "stream",
       "stream": "stdout",
       "text": [
        "\n",
        "('phi', 'opencl_gpu', 125, (51200, 12.179629802703857, 0.087124))"
       ]
      },
      {
       "output_type": "stream",
       "stream": "stdout",
       "text": [
        "\n",
        "('phi', 'opencl_gpu', 125, (102400, 12.007475852966309, 0.062511))"
       ]
      },
      {
       "output_type": "stream",
       "stream": "stdout",
       "text": [
        "\n",
        "('phi', 'opencl_gpu', 125, (204800, 11.640070915222168, 0.04417))"
       ]
      },
      {
       "output_type": "stream",
       "stream": "stdout",
       "text": [
        "\n",
        "('phi', 'opencl_gpu', 125, (409600, 11.6913480758667, 0.030092))"
       ]
      },
      {
       "output_type": "stream",
       "stream": "stdout",
       "text": [
        "\n",
        "('phi', 'opencl_gpu', 125, (819200, 12.239413022994995, 0.021539))"
       ]
      },
      {
       "output_type": "stream",
       "stream": "stdout",
       "text": [
        "\n",
        "('phi', 'opencl_gpu', 125, (1638400, 12.407437086105347, 0.015319))"
       ]
      },
      {
       "output_type": "stream",
       "stream": "stdout",
       "text": [
        "\n",
        "('phi', 'opencl_gpu', 125, (3276800, 14.139503002166748, 0.010868))"
       ]
      },
      {
       "output_type": "stream",
       "stream": "stdout",
       "text": [
        "\n",
        "('phi', 'opencl_gpu', 125, (6553600, 17.427595853805542, 0.007707))"
       ]
      },
      {
       "output_type": "stream",
       "stream": "stdout",
       "text": [
        "\n",
        "('phi', 'opencl_gpu', 125, (13107200, 23.991384029388428, 0.005444))"
       ]
      },
      {
       "output_type": "stream",
       "stream": "stdout",
       "text": [
        "\n",
        "('phi', 'opencl_gpu', 125, (26214400, 35.575485944747925, 0.003851))"
       ]
      },
      {
       "output_type": "stream",
       "stream": "stdout",
       "text": [
        "\n",
        "('phi', 'opencl_gpu', 125, (52428800, 59.04770302772522, 0.002723))"
       ]
      },
      {
       "output_type": "stream",
       "stream": "stdout",
       "text": [
        "\n",
        "('phi', 'opencl_gpu', 125, (104857600, 106.53905415534973, 0.001926))"
       ]
      },
      {
       "output_type": "stream",
       "stream": "stdout",
       "text": [
        "\n",
        "125 on phi(opencl_gpu): [(200, 9.54763913154602, 0.376049), (400, 10.039570808410645, 0.945585), (800, 9.179609060287476, 0.5451), (1600, 9.3752760887146, 0.536535), (3200, 9.051388025283813, 0.37538), (6400, 9.50763201713562, 0.256054), (12800, 11.939244031906128, 0.16868), (25600, 12.199815034866333, 0.124348), (51200, 12.179629802703857, 0.087124), (102400, 12.007475852966309, 0.062511), (204800, 11.640070915222168, 0.04417), (409600, 11.6913480758667, 0.030092), (819200, 12.239413022994995, 0.021539), (1638400, 12.407437086105347, 0.015319), (3276800, 14.139503002166748, 0.010868), (6553600, 17.427595853805542, 0.007707), (13107200, 23.991384029388428, 0.005444), (26214400, 35.575485944747925, 0.003851), (52428800, 59.04770302772522, 0.002723), (104857600, 106.53905415534973, 0.001926)]\n",
        "\n",
        "('phi', 'opencl_gpu', 126, (200, 9.287898063659668, 2.031482))"
       ]
      },
      {
       "output_type": "stream",
       "stream": "stdout",
       "text": [
        "\n",
        "('phi', 'opencl_gpu', 126, (400, 9.33947491645813, 1.111162))"
       ]
      },
      {
       "output_type": "stream",
       "stream": "stdout",
       "text": [
        "\n",
        "('phi', 'opencl_gpu', 126, (800, 9.487643957138062, 0.487704))"
       ]
      },
      {
       "output_type": "stream",
       "stream": "stdout",
       "text": [
        "\n",
        "('phi', 'opencl_gpu', 126, (1600, 9.35150408744812, 0.43434))"
       ]
      },
      {
       "output_type": "stream",
       "stream": "stdout",
       "text": [
        "\n",
        "('phi', 'opencl_gpu', 126, (3200, 9.419550895690918, 0.349783))"
       ]
      },
      {
       "output_type": "stream",
       "stream": "stdout",
       "text": [
        "\n",
        "('phi', 'opencl_gpu', 126, (6400, 9.307476043701172, 0.294235))"
       ]
      },
      {
       "output_type": "stream",
       "stream": "stdout",
       "text": [
        "\n",
        "('phi', 'opencl_gpu', 126, (12800, 11.531463861465454, 0.183423))"
       ]
      },
      {
       "output_type": "stream",
       "stream": "stdout",
       "text": [
        "\n",
        "('phi', 'opencl_gpu', 126, (25600, 12.11976408958435, 0.128761))"
       ]
      },
      {
       "output_type": "stream",
       "stream": "stdout",
       "text": [
        "\n",
        "('phi', 'opencl_gpu', 126, (51200, 11.939432144165039, 0.088426))"
       ]
      },
      {
       "output_type": "stream",
       "stream": "stdout",
       "text": [
        "\n",
        "('phi', 'opencl_gpu', 126, (102400, 11.967494010925293, 0.068894))"
       ]
      },
      {
       "output_type": "stream",
       "stream": "stdout",
       "text": [
        "\n",
        "('phi', 'opencl_gpu', 126, (204800, 11.059618949890137, 0.045394))"
       ]
      },
      {
       "output_type": "stream",
       "stream": "stdout",
       "text": [
        "\n",
        "('phi', 'opencl_gpu', 126, (409600, 11.619524002075195, 0.032973))"
       ]
      },
      {
       "output_type": "stream",
       "stream": "stdout",
       "text": [
        "\n",
        "('phi', 'opencl_gpu', 126, (819200, 12.319454908370972, 0.023408))"
       ]
      },
      {
       "output_type": "stream",
       "stream": "stdout",
       "text": [
        "\n",
        "('phi', 'opencl_gpu', 126, (1638400, 12.820060968399048, 0.016339))"
       ]
      },
      {
       "output_type": "stream",
       "stream": "stdout",
       "text": [
        "\n",
        "('phi', 'opencl_gpu', 126, (3276800, 14.49908995628357, 0.011593))"
       ]
      },
      {
       "output_type": "stream",
       "stream": "stdout",
       "text": [
        "\n",
        "('phi', 'opencl_gpu', 126, (6553600, 17.65955901145935, 0.008157))"
       ]
      },
      {
       "output_type": "stream",
       "stream": "stdout",
       "text": [
        "\n",
        "('phi', 'opencl_gpu', 126, (13107200, 23.715513229370117, 0.005781))"
       ]
      },
      {
       "output_type": "stream",
       "stream": "stdout",
       "text": [
        "\n",
        "('phi', 'opencl_gpu', 126, (26214400, 35.527554988861084, 0.004084))"
       ]
      },
      {
       "output_type": "stream",
       "stream": "stdout",
       "text": [
        "\n",
        "('phi', 'opencl_gpu', 126, (52428800, 64.03948783874512, 0.002886))"
       ]
      },
      {
       "output_type": "stream",
       "stream": "stdout",
       "text": [
        "\n",
        "('phi', 'opencl_gpu', 126, (104857600, 106.66762709617615, 0.002041))"
       ]
      },
      {
       "output_type": "stream",
       "stream": "stdout",
       "text": [
        "\n",
        "126 on phi(opencl_gpu): [(200, 9.287898063659668, 2.031482), (400, 9.33947491645813, 1.111162), (800, 9.487643957138062, 0.487704), (1600, 9.35150408744812, 0.43434), (3200, 9.419550895690918, 0.349783), (6400, 9.307476043701172, 0.294235), (12800, 11.531463861465454, 0.183423), (25600, 12.11976408958435, 0.128761), (51200, 11.939432144165039, 0.088426), (102400, 11.967494010925293, 0.068894), (204800, 11.059618949890137, 0.045394), (409600, 11.619524002075195, 0.032973), (819200, 12.319454908370972, 0.023408), (1638400, 12.820060968399048, 0.016339), (3276800, 14.49908995628357, 0.011593), (6553600, 17.65955901145935, 0.008157), (13107200, 23.715513229370117, 0.005781), (26214400, 35.527554988861084, 0.004084), (52428800, 64.03948783874512, 0.002886), (104857600, 106.66762709617615, 0.002041)]\n",
        "\n"
       ]
      }
     ],
     "prompt_number": 42
    },
    {
     "cell_type": "code",
     "collapsed": false,
     "input": [
      "results?"
     ],
     "language": "python",
     "metadata": {},
     "outputs": [],
     "prompt_number": 37
    },
    {
     "cell_type": "heading",
     "level": 4,
     "metadata": {},
     "source": [
      "Collating results"
     ]
    },
    {
     "cell_type": "markdown",
     "metadata": {},
     "source": [
      "Results are an array of (paths,latency,accuracy) for each platform and task, \n",
      "\n",
      "i.e. benchmark_results[i][j] would be the results array for the jth task on the ith platform"
     ]
    },
    {
     "cell_type": "code",
     "collapsed": false,
     "input": [
      "#platforms, platform type, tasks, results (paths, time, accuracy)\n",
      "benchmark_results = [[[] for t in range(len(option_tasks))] for p in range(len(platforms))]\n",
      "platform_names = [p.name+\"_\"+p.ssh_alias for p in platforms]\n",
      "\n",
      "for result in results:\n",
      "    benchmark_results[platform_names.index(result[1]+\"_\"+result[0])][result[2]] = result[3]\n",
      "\n",
      "for p in range(len(platforms)):\n",
      "    for t in range(len(option_tasks[-8:])):\n",
      "        benchmark_results[p][t] = numpy.array(benchmark_results[p][t+118],dtype=[('paths','f8'),('latency','f8'),('accuracy','f8')]) #\n",
      "        "
     ],
     "language": "python",
     "metadata": {},
     "outputs": [],
     "prompt_number": 47
    },
    {
     "cell_type": "markdown",
     "metadata": {},
     "source": [
      "Printing out task totals for each platform"
     ]
    },
    {
     "cell_type": "code",
     "collapsed": false,
     "input": [
      "platform_data = []\n",
      "flag = True\n",
      "for i,p in enumerate(platforms):\n",
      "    #print \"Platform \"+p.ssh_alias+\":\"\n",
      "    flag = True\n",
      "    for j,t in enumerate(option_tasks[-8:]):\n",
      "        #print \"Task \"+str(j)+\":\"\n",
      "        if not(benchmark_results[i][j+118].size):\n",
      "            print(p.ssh_alias,j)\n",
      "            platform_data.append(j)\n",
      "            flag = False\n",
      "            break\n",
      "            \n",
      "    if(flag): \n",
      "        print(p.ssh_alias,len(option_tasks))\n",
      "        platform_data.append(len(option_tasks))\n",
      "            \n",
      "print platform_data"
     ],
     "language": "python",
     "metadata": {},
     "outputs": [
      {
       "ename": "AttributeError",
       "evalue": "'list' object has no attribute 'size'",
       "output_type": "pyerr",
       "traceback": [
        "\u001b[0;31m---------------------------------------------------------------------------\u001b[0m\n\u001b[0;31mAttributeError\u001b[0m                            Traceback (most recent call last)",
        "\u001b[0;32m<ipython-input-49-f9608f0c73d2>\u001b[0m in \u001b[0;36m<module>\u001b[0;34m()\u001b[0m\n\u001b[1;32m      6\u001b[0m     \u001b[0;32mfor\u001b[0m \u001b[0mj\u001b[0m\u001b[0;34m,\u001b[0m\u001b[0mt\u001b[0m \u001b[0;32min\u001b[0m \u001b[0menumerate\u001b[0m\u001b[0;34m(\u001b[0m\u001b[0moption_tasks\u001b[0m\u001b[0;34m[\u001b[0m\u001b[0;34m-\u001b[0m\u001b[0;36m8\u001b[0m\u001b[0;34m:\u001b[0m\u001b[0;34m]\u001b[0m\u001b[0;34m)\u001b[0m\u001b[0;34m:\u001b[0m\u001b[0;34m\u001b[0m\u001b[0m\n\u001b[1;32m      7\u001b[0m         \u001b[0;31m#print \"Task \"+str(j)+\":\"\u001b[0m\u001b[0;34m\u001b[0m\u001b[0;34m\u001b[0m\u001b[0m\n\u001b[0;32m----> 8\u001b[0;31m         \u001b[0;32mif\u001b[0m \u001b[0;32mnot\u001b[0m\u001b[0;34m(\u001b[0m\u001b[0mbenchmark_results\u001b[0m\u001b[0;34m[\u001b[0m\u001b[0mi\u001b[0m\u001b[0;34m]\u001b[0m\u001b[0;34m[\u001b[0m\u001b[0mj\u001b[0m\u001b[0;34m+\u001b[0m\u001b[0;36m118\u001b[0m\u001b[0;34m]\u001b[0m\u001b[0;34m.\u001b[0m\u001b[0msize\u001b[0m\u001b[0;34m)\u001b[0m\u001b[0;34m:\u001b[0m\u001b[0;34m\u001b[0m\u001b[0m\n\u001b[0m\u001b[1;32m      9\u001b[0m             \u001b[0;32mprint\u001b[0m\u001b[0;34m(\u001b[0m\u001b[0mp\u001b[0m\u001b[0;34m.\u001b[0m\u001b[0mssh_alias\u001b[0m\u001b[0;34m,\u001b[0m\u001b[0mj\u001b[0m\u001b[0;34m)\u001b[0m\u001b[0;34m\u001b[0m\u001b[0m\n\u001b[1;32m     10\u001b[0m             \u001b[0mplatform_data\u001b[0m\u001b[0;34m.\u001b[0m\u001b[0mappend\u001b[0m\u001b[0;34m(\u001b[0m\u001b[0mj\u001b[0m\u001b[0;34m)\u001b[0m\u001b[0;34m\u001b[0m\u001b[0m\n",
        "\u001b[0;31mAttributeError\u001b[0m: 'list' object has no attribute 'size'"
       ]
      }
     ],
     "prompt_number": 49
    },
    {
     "cell_type": "markdown",
     "metadata": {},
     "source": [
      "Writing to file:"
     ]
    },
    {
     "cell_type": "code",
     "collapsed": false,
     "input": [
      "with open('benchmark_data_incomplete_seed4_13000_2.csv','w') as benchmark_file:\n",
      "    csvwriter = csv.writer(benchmark_file,delimiter=',')\n",
      "    \n",
      "    csvwriter.writerow(['Platform','Type','Task','Paths','Latency','Accuracy'])\n",
      "    for i,p in enumerate(platforms):\n",
      "        for j,t in enumerate(option_tasks[-8:]):\n",
      "            for r in benchmark_results[i][j+118]:\n",
      "                    csvwriter.writerow([p.ssh_alias,p.name,j+118]+list(r))"
     ],
     "language": "python",
     "metadata": {},
     "outputs": [],
     "prompt_number": 45
    },
    {
     "cell_type": "code",
     "collapsed": false,
     "input": [
      "benchmark_results?"
     ],
     "language": "python",
     "metadata": {},
     "outputs": [],
     "prompt_number": 95
    },
    {
     "cell_type": "code",
     "collapsed": false,
     "input": [
      "%load benchmark_data_incomplete_seed4_13000_2.csv"
     ],
     "language": "python",
     "metadata": {},
     "outputs": [],
     "prompt_number": 46
    },
    {
     "cell_type": "code",
     "collapsed": false,
     "input": [
      "Platform,Type,Task,Paths,Latency,Accuracy\n",
      "phi,opencl_gpu,119,200,11.014770984649658,0.0\n",
      "phi,opencl_gpu,119,400,10.082932949066162,0.184102\n",
      "phi,opencl_gpu,119,800,9.767320156097412,0.016086\n",
      "phi,opencl_gpu,119,1600,9.559321880340576,0.07409\n",
      "phi,opencl_gpu,119,3200,8.879615783691406,0.08364\n",
      "phi,opencl_gpu,119,6400,9.359378099441528,0.064945\n",
      "phi,opencl_gpu,119,12800,20.55197310447693,0.034616\n",
      "phi,opencl_gpu,119,25600,20.667340993881226,0.025179\n",
      "phi,opencl_gpu,119,51200,21.77941393852234,0.019029\n",
      "phi,opencl_gpu,119,102400,20.59595799446106,0.014515\n",
      "phi,opencl_gpu,119,204800,17.481040000915527,0.009068\n",
      "phi,opencl_gpu,119,409600,18.90990400314331,0.006775\n",
      "phi,opencl_gpu,119,819200,22.427767992019653,0.004678\n",
      "phi,opencl_gpu,119,1638400,25.687600135803223,0.003284\n",
      "phi,opencl_gpu,119,3276800,33.79927611351013,0.002323\n",
      "phi,opencl_gpu,119,6553600,49.68737602233887,0.001647\n",
      "phi,opencl_gpu,119,13107200,82.77986407279968,0.001167\n",
      "phi,opencl_gpu,119,26214400,139.46339106559753,0.00082\n",
      "phi,opencl_gpu,120,200,9.518564939498901,0.0\n",
      "phi,opencl_gpu,120,400,9.659277200698853,0.0\n",
      "phi,opencl_gpu,120,800,9.860059022903442,0.0\n",
      "phi,opencl_gpu,120,1600,10.239413976669312,0.0\n",
      "phi,opencl_gpu,120,3200,9.319380044937134,0.0\n",
      "phi,opencl_gpu,120,6400,9.539761066436768,0.0234\n",
      "phi,opencl_gpu,120,12800,20.087621212005615,0.015814\n",
      "phi,opencl_gpu,120,25600,20.87126612663269,0.007924\n",
      "phi,opencl_gpu,120,51200,20.315412998199463,0.006817\n",
      "phi,opencl_gpu,120,102400,20.8918559551239,0.005134\n",
      "phi,opencl_gpu,120,204800,16.799377918243408,0.004206\n",
      "phi,opencl_gpu,120,409600,18.94746994972229,0.002198\n",
      "phi,opencl_gpu,120,819200,22.36775803565979,0.001772\n",
      "phi,opencl_gpu,120,1638400,25.651446104049683,0.001086\n",
      "phi,opencl_gpu,120,3276800,33.61543393135071,0.000847\n",
      "phi,opencl_gpu,120,6553600,48.63996911048889,0.000591\n",
      "phi,opencl_gpu,120,13107200,82.22741794586182,0.000394\n",
      "phi,opencl_gpu,120,26214400,138.65550684928894,0.00029\n",
      "phi,opencl_gpu,121,200,9.67932391166687,0.0\n",
      "phi,opencl_gpu,121,400,9.707366943359375,0.0\n",
      "phi,opencl_gpu,121,800,9.48128890991211,0.0\n",
      "phi,opencl_gpu,121,1600,9.377708196640015,0.0\n",
      "phi,opencl_gpu,121,3200,9.79168701171875,0.0\n",
      "phi,opencl_gpu,121,6400,14.767454147338867,0.0\n",
      "phi,opencl_gpu,121,12800,20.707767009735107,0.0\n",
      "phi,opencl_gpu,121,25600,20.939425945281982,0.00458\n",
      "phi,opencl_gpu,121,51200,20.371543169021606,0.0\n",
      "phi,opencl_gpu,121,102400,21.07946801185608,0.002181\n",
      "phi,opencl_gpu,121,204800,17.199273824691772,0.001345\n",
      "phi,opencl_gpu,121,409600,20.577878952026367,0.000912\n",
      "phi,opencl_gpu,121,819200,22.297273874282837,0.0005\n",
      "phi,opencl_gpu,121,1638400,25.81977415084839,0.000435\n",
      "phi,opencl_gpu,121,3276800,34.179287910461426,0.000294\n",
      "phi,opencl_gpu,121,6553600,55.207834005355835,0.000201\n",
      "phi,opencl_gpu,121,13107200,83.0951099395752,0.00015\n",
      "phi,opencl_gpu,121,26214400,141.2358500957489,0.000105\n",
      "phi,opencl_gpu,122,200,9.511667013168335,0.89082\n",
      "phi,opencl_gpu,122,400,8.806952953338623,0.211606\n",
      "phi,opencl_gpu,122,800,9.331736087799072,0.710503\n",
      "phi,opencl_gpu,122,1600,9.35548210144043,0.59735\n",
      "phi,opencl_gpu,122,3200,9.379482984542847,0.419133\n",
      "phi,opencl_gpu,122,6400,9.451518058776855,0.248487\n",
      "phi,opencl_gpu,122,12800,12.087599992752075,0.169652\n",
      "phi,opencl_gpu,122,25600,12.039514064788818,0.125672\n",
      "phi,opencl_gpu,122,51200,12.359606981277466,0.083667\n",
      "phi,opencl_gpu,122,102400,11.919480085372925,0.062896\n",
      "phi,opencl_gpu,122,204800,10.71952199935913,0.043521\n",
      "phi,opencl_gpu,122,409600,11.407190084457397,0.031486\n",
      "phi,opencl_gpu,122,819200,13.247951030731201,0.022041\n",
      "phi,opencl_gpu,122,1638400,12.799726009368896,0.015318\n",
      "phi,opencl_gpu,122,3276800,13.991576910018921,0.010895\n",
      "phi,opencl_gpu,122,6553600,18.56758403778076,0.007713\n",
      "phi,opencl_gpu,122,13107200,23.899463176727295,0.005442\n",
      "phi,opencl_gpu,122,26214400,35.54737210273743,0.003852\n",
      "phi,opencl_gpu,122,52428800,58.719467878341675,0.002724\n",
      "phi,opencl_gpu,122,104857600,106.13958191871643,0.001927\n",
      "phi,opencl_gpu,123,200,9.454960823059082,1.260069\n",
      "phi,opencl_gpu,123,400,9.387639045715332,0.813002\n",
      "phi,opencl_gpu,123,800,9.551644086837769,0.435106\n",
      "phi,opencl_gpu,123,1600,9.347408056259155,0.524769\n",
      "phi,opencl_gpu,123,3200,9.391676902770996,0.360352\n",
      "phi,opencl_gpu,123,6400,9.399527072906494,0.233169\n",
      "phi,opencl_gpu,123,12800,12.480179071426392,0.164182\n",
      "phi,opencl_gpu,123,25600,12.018735885620117,0.130211\n",
      "phi,opencl_gpu,123,51200,11.885135889053345,0.086693\n",
      "phi,opencl_gpu,123,102400,11.89447808265686,0.062437\n",
      "phi,opencl_gpu,123,204800,10.747421979904175,0.044421\n",
      "phi,opencl_gpu,123,409600,12.107680797576904,0.030093\n",
      "phi,opencl_gpu,123,819200,12.031314134597778,0.022297\n",
      "phi,opencl_gpu,123,1638400,14.107527017593384,0.015934\n",
      "phi,opencl_gpu,123,3276800,14.051578044891357,0.011173\n",
      "phi,opencl_gpu,123,6553600,17.38754391670227,0.007837\n",
      "phi,opencl_gpu,123,13107200,23.799342155456543,0.005579\n",
      "phi,opencl_gpu,123,26214400,35.367892026901245,0.003944\n",
      "phi,opencl_gpu,123,52428800,59.14203906059265,0.002783\n",
      "phi,opencl_gpu,123,104857600,106.91298699378967,0.001971\n",
      "phi,opencl_gpu,124,200,9.199490070343018,0.990329\n",
      "phi,opencl_gpu,124,400,9.227483034133911,0.962278\n",
      "phi,opencl_gpu,124,800,9.299489974975586,0.573502\n",
      "phi,opencl_gpu,124,1600,9.439472913742065,0.448923\n",
      "phi,opencl_gpu,124,3200,9.431499004364014,0.320064\n",
      "phi,opencl_gpu,124,6400,9.127479076385498,0.203424\n",
      "phi,opencl_gpu,124,12800,12.12797999382019,0.148976\n",
      "phi,opencl_gpu,124,25600,11.631726026535034,0.116186\n",
      "phi,opencl_gpu,124,51200,11.987480878829956,0.082132\n",
      "phi,opencl_gpu,124,102400,12.03946304321289,0.055752\n",
      "phi,opencl_gpu,124,204800,10.97954797744751,0.039653\n",
      "phi,opencl_gpu,124,409600,11.671365022659302,0.027514\n",
      "phi,opencl_gpu,124,819200,12.239464044570923,0.019744\n",
      "phi,opencl_gpu,124,1638400,12.255886793136597,0.013817\n",
      "phi,opencl_gpu,124,3276800,14.72201919555664,0.009843\n",
      "phi,opencl_gpu,124,6553600,17.60486912727356,0.00699\n",
      "phi,opencl_gpu,124,13107200,23.95168685913086,0.004922\n",
      "phi,opencl_gpu,124,26214400,35.67957901954651,0.003475\n",
      "phi,opencl_gpu,124,52428800,58.591763973236084,0.002464\n",
      "phi,opencl_gpu,124,104857600,106.73559999465942,0.001742\n",
      "phi,opencl_gpu,125,200,9.54763913154602,0.376049\n",
      "phi,opencl_gpu,125,400,10.039570808410645,0.945585\n",
      "phi,opencl_gpu,125,800,9.179609060287476,0.5451\n",
      "phi,opencl_gpu,125,1600,9.3752760887146,0.536535\n",
      "phi,opencl_gpu,125,3200,9.051388025283813,0.37538\n",
      "phi,opencl_gpu,125,6400,9.50763201713562,0.256054\n",
      "phi,opencl_gpu,125,12800,11.939244031906128,0.16868\n",
      "phi,opencl_gpu,125,25600,12.199815034866333,0.124348\n",
      "phi,opencl_gpu,125,51200,12.179629802703857,0.087124\n",
      "phi,opencl_gpu,125,102400,12.007475852966309,0.062511\n",
      "phi,opencl_gpu,125,204800,11.640070915222168,0.04417\n",
      "phi,opencl_gpu,125,409600,11.6913480758667,0.030092\n",
      "phi,opencl_gpu,125,819200,12.239413022994995,0.021539\n",
      "phi,opencl_gpu,125,1638400,12.407437086105347,0.015319\n",
      "phi,opencl_gpu,125,3276800,14.139503002166748,0.010868\n",
      "phi,opencl_gpu,125,6553600,17.427595853805542,0.007707\n",
      "phi,opencl_gpu,125,13107200,23.991384029388428,0.005444\n",
      "phi,opencl_gpu,125,26214400,35.575485944747925,0.003851\n",
      "phi,opencl_gpu,125,52428800,59.04770302772522,0.002723\n",
      "phi,opencl_gpu,125,104857600,106.53905415534973,0.001926\n",
      "phi,opencl_gpu,126,200,9.287898063659668,2.031482\n",
      "phi,opencl_gpu,126,400,9.33947491645813,1.111162\n",
      "phi,opencl_gpu,126,800,9.487643957138062,0.487704\n",
      "phi,opencl_gpu,126,1600,9.35150408744812,0.43434\n",
      "phi,opencl_gpu,126,3200,9.419550895690918,0.349783\n",
      "phi,opencl_gpu,126,6400,9.307476043701172,0.294235\n",
      "phi,opencl_gpu,126,12800,11.531463861465454,0.183423\n",
      "phi,opencl_gpu,126,25600,12.11976408958435,0.128761\n",
      "phi,opencl_gpu,126,51200,11.939432144165039,0.088426\n",
      "phi,opencl_gpu,126,102400,11.967494010925293,0.068894\n",
      "phi,opencl_gpu,126,204800,11.059618949890137,0.045394\n",
      "phi,opencl_gpu,126,409600,11.619524002075195,0.032973\n",
      "phi,opencl_gpu,126,819200,12.319454908370972,0.023408\n",
      "phi,opencl_gpu,126,1638400,12.820060968399048,0.016339\n",
      "phi,opencl_gpu,126,3276800,14.49908995628357,0.011593\n",
      "phi,opencl_gpu,126,6553600,17.65955901145935,0.008157\n",
      "phi,opencl_gpu,126,13107200,23.715513229370117,0.005781\n",
      "phi,opencl_gpu,126,26214400,35.527554988861084,0.004084\n",
      "phi,opencl_gpu,126,52428800,64.03948783874512,0.002886\n",
      "phi,opencl_gpu,126,104857600,106.66762709617615,0.002041\n"
     ],
     "language": "python",
     "metadata": {},
     "outputs": []
    },
    {
     "cell_type": "code",
     "collapsed": false,
     "input": [
      "Platform,Type,Task,Paths,Latency,Accuracy\n"
     ],
     "language": "python",
     "metadata": {},
     "outputs": []
    },
    {
     "cell_type": "code",
     "collapsed": false,
     "input": [],
     "language": "python",
     "metadata": {},
     "outputs": []
    }
   ],
   "metadata": {}
  }
 ]
}