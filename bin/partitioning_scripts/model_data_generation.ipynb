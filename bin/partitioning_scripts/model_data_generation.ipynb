{
 "metadata": {
  "name": ""
 },
 "nbformat": 3,
 "nbformat_minor": 0,
 "worksheets": [
  {
   "cells": [
    {
     "cell_type": "heading",
     "level": 1,
     "metadata": {},
     "source": [
      "Model Data Generation"
     ]
    },
    {
     "cell_type": "markdown",
     "metadata": {},
     "source": [
      "Aim:\n",
      "* Generate the latency and accuracy data that will be used to generate predictive models for Latency and Accuracy for a large portfolio of tasks across a range of platforms"
     ]
    },
    {
     "cell_type": "heading",
     "level": 2,
     "metadata": {},
     "source": [
      "Setup"
     ]
    },
    {
     "cell_type": "heading",
     "level": 3,
     "metadata": {},
     "source": [
      "Option Pricing Tasks"
     ]
    },
    {
     "cell_type": "markdown",
     "metadata": {},
     "source": [
      "The options all have non-zero values for reasonably small numbers of simulations. Tasks number 29 and 30 tend to return 0 values - might be a good idea to shift their value higher."
     ]
    },
    {
     "cell_type": "code",
     "collapsed": false,
     "input": [
      "import csv\n",
      "\n",
      "options = []\n",
      "with open('valid_seeds_file4.csv','r') as valid_seeds_file:\n",
      "    csvreader = csv.DictReader(valid_seeds_file,delimiter=',')\n",
      "    options = [row for row in csvreader]"
     ],
     "language": "python",
     "metadata": {},
     "outputs": [],
     "prompt_number": 6
    },
    {
     "cell_type": "code",
     "collapsed": false,
     "input": [
      "tasks = {}\n",
      "for o in options:\n",
      "    temp_task = \"%s %s\"%(o['underlying'],o['option'])\n",
      "    if(temp_task not in tasks): tasks[temp_task] = 0\n",
      "    tasks[temp_task] += 1\n",
      "    \n",
      "print(\"Portfolio of Option Pricing Tasks\")\n",
      "total = 0\n",
      "for t in sorted(tasks):\n",
      "    print(\"%s: %d\"%(t,tasks[t]))\n",
      "    total += tasks[t]\n",
      "    \n",
      "print(\"total tasks:%d\"%total)"
     ],
     "language": "python",
     "metadata": {},
     "outputs": [
      {
       "output_type": "stream",
       "stream": "stdout",
       "text": [
        "Portfolio of Option Pricing Tasks\n",
        "black_scholes asian: 10\n",
        "black_scholes barrier: 10\n",
        "black_scholes digital_double_barrier: 5\n",
        "black_scholes double_barrier: 10\n",
        "heston asian: 25\n",
        "heston barrier: 29\n",
        "heston digital_double_barrier: 5\n",
        "heston double_barrier: 29\n",
        "heston european: 5\n",
        "total tasks:128\n"
       ]
      }
     ],
     "prompt_number": 7
    },
    {
     "cell_type": "code",
     "collapsed": false,
     "input": [
      "compile_string = \"\"\n",
      "for t in tasks: compile_string += \"python2.7 mc_solver_option_test.py CPU \\\"Generate Compile\\\" 1000 \\\"%s 1234\\\";\"%t\n",
      "print(compile_string)"
     ],
     "language": "python",
     "metadata": {},
     "outputs": [
      {
       "output_type": "stream",
       "stream": "stdout",
       "text": [
        "python2.7 mc_solver_option_test.py CPU \"Generate Compile\" 1000 \"black_scholes barrier 1234\";python2.7 mc_solver_option_test.py CPU \"Generate Compile\" 1000 \"heston european 1234\";python2.7 mc_solver_option_test.py CPU \"Generate Compile\" 1000 \"heston barrier 1234\";python2.7 mc_solver_option_test.py CPU \"Generate Compile\" 1000 \"heston double_barrier 1234\";python2.7 mc_solver_option_test.py CPU \"Generate Compile\" 1000 \"black_scholes asian 1234\";python2.7 mc_solver_option_test.py CPU \"Generate Compile\" 1000 \"heston digital_double_barrier 1234\";python2.7 mc_solver_option_test.py CPU \"Generate Compile\" 1000 \"black_scholes double_barrier 1234\";python2.7 mc_solver_option_test.py CPU \"Generate Compile\" 1000 \"heston asian 1234\";python2.7 mc_solver_option_test.py CPU \"Generate Compile\" 1000 \"black_scholes digital_double_barrier 1234\";\n"
       ]
      }
     ],
     "prompt_number": 3
    },
    {
     "cell_type": "code",
     "collapsed": false,
     "input": [
      "compile_string = \"\"\n",
      "for t in tasks: compile_string += \"python2.7 mc_solver_option_test.py OpenCL_GPU \\\"Generate Compile\\\" 1000 \\\"%s 1234\\\";\"%t\n",
      "print(compile_string)"
     ],
     "language": "python",
     "metadata": {},
     "outputs": [
      {
       "output_type": "stream",
       "stream": "stdout",
       "text": [
        "python2.7 mc_solver_option_test.py OpenCL_GPU \"Generate Compile\" 1000 \"black_scholes barrier 1234\";python2.7 mc_solver_option_test.py OpenCL_GPU \"Generate Compile\" 1000 \"heston european 1234\";python2.7 mc_solver_option_test.py OpenCL_GPU \"Generate Compile\" 1000 \"heston barrier 1234\";python2.7 mc_solver_option_test.py OpenCL_GPU \"Generate Compile\" 1000 \"heston double_barrier 1234\";python2.7 mc_solver_option_test.py OpenCL_GPU \"Generate Compile\" 1000 \"black_scholes asian 1234\";python2.7 mc_solver_option_test.py OpenCL_GPU \"Generate Compile\" 1000 \"heston digital_double_barrier 1234\";python2.7 mc_solver_option_test.py OpenCL_GPU \"Generate Compile\" 1000 \"black_scholes double_barrier 1234\";python2.7 mc_solver_option_test.py OpenCL_GPU \"Generate Compile\" 1000 \"heston asian 1234\";python2.7 mc_solver_option_test.py OpenCL_GPU \"Generate Compile\" 1000 \"black_scholes digital_double_barrier 1234\";\n"
       ]
      }
     ],
     "prompt_number": 6
    },
    {
     "cell_type": "code",
     "collapsed": false,
     "input": [
      "import ForwardFinancialFramework.bin.option_generator as option_generator\n",
      "\n",
      "option_tasks = [option_generator.generate_option(int(o['seed']),underlying_type=o['underlying'],option_type=o['option']) for o in options]"
     ],
     "language": "python",
     "metadata": {},
     "outputs": [],
     "prompt_number": 8
    },
    {
     "cell_type": "heading",
     "level": 3,
     "metadata": {},
     "source": [
      "Platforms"
     ]
    },
    {
     "cell_type": "code",
     "collapsed": false,
     "input": [
      "from ForwardFinancialFramework.Platforms.MulticoreCPU import MulticoreCPU_MonteCarlo, MulticoreCPU\n",
      "from ForwardFinancialFramework.Platforms.OpenCLGPU import OpenCLGPU_MonteCarlo,OpenCLGPU\n",
      "from ForwardFinancialFramework.Platforms.OpenCLAlteraFPGA import OpenCLAlteraFPGA_MonteCarlo,OpenCLAlteraFPGA\n",
      "from ForwardFinancialFramework.Platforms.MaxelerFPGA import MaxelerFPGA_MonteCarlo,MaxelerFPGA"
     ],
     "language": "python",
     "metadata": {},
     "outputs": [],
     "prompt_number": 9
    },
    {
     "cell_type": "markdown",
     "metadata": {},
     "source": [
      "Experimental Cluster details:\n",
      "\n",
      "| Number | SSH Alias      | Type               | Location                                                                  | Notes                                                                                                                                     |\n",
      "|--------|----------------|--------------------|---------------------------------------------------------------------------|-------------------------------------------------------------------------------------------------------------------------------------------|\n",
      "| 0      |                | CPU                | local                                                                   | Has desktop session running - should be noisy. Only running 7/8 threads to avoid this. Ping: `rtt min/avg/max/mdev = 0.014/0.024/0.048/0.008 ms`                                                                                             |\n",
      "| 1      | \"ee-benjamin\"  | CPU                | Imperial College Datacentre, Imperial College London                      |  Ping: `rtt min/avg/max/mdev = 0.305/0.380/0.479/0.022 ms`                                                                                                                                         |\n",
      "| 2      | \"pi\"           | CPU                | Room 905, EEE Building, Imperial College London                           | Ping: `rtt min/avg/max/mdev = 1.789/2.463/55.085/5.289 ms`                                                                                                                                          |\n",
      "| 3      | \"ee-mollie\"    | CPU                | Electronics Test Facility, Level 9, EEE Building, Imperial College London | Only using 7/8 threads - leaving one for FPGA. Ping: `rtt min/avg/max/mdev = 0.180/0.217/0.696/0.053 ms`. Used in earlier experiments - replaced by google-cpu-0 in later experiments.                                                                                             |\n",
      "| 4      | \"phi\"          | CPU                | UCT, Cape Town, South Africa                                              | Only using 31/32 threads. Only seems to be using 24 on the host (maybe restricted by OS?). Doesn't respond to pings, round trip: $$\\approx 3329 mS$$|\n",
      "| 5      | ee-snowball0   | OpenCL GPU                | Electronics Test Facility, Level 9, EEE Building, Imperial College London | Has X-server running. Ping: `rtt min/avg/max/mdev = 0.231/0.269/0.601/0.040 ms`                                                                                                               |\n",
      "| 6      | ee-snowball1   | OpenCL GPU                | Electronics Test Facility, Level 9, EEE Building, Imperial College London | Ping: `rtt min/avg/max/mdev = 0.217/0.278/1.327/0.107 ms`                                                                                                                                         | \n",
      "| 7      | ee-mollie      | Maxeler FPGA       | Electronics Test Facility, Level 9, EEE Building, Imperial College London | Have to run a dummy run, plus a trial run before each actual evaluation - something fishy is going on with the calculation initialisation. Ping: `rtt min/avg/max/mdev = 0.180/0.217/0.696/0.053 ms` |\n",
      "| 8      | ee-snowball2   | OpenCL Altera FPGA | Electronics Test Facility, Level 9, EEE Building, Imperial College London | Ping: `rtt min/avg/max/mdev = 0.245/0.276/0.686/0.042 ms`     |\n",
      "| 9      | \"phi\"          | OpenCL Xeon Phi    | UCT, Cape Town, South Africa                                              | Doesn't respond to pings, round trip: $$\\approx 3329 mS$$                                                                                                                                          |\n",
      "| 10     | \"amazon-cpu-0\" | CPU                | US East Region, Amazon Cloud                                              |                                                                                                                                           |\n",
      "| 11     | \"amazon-cpu-1\" | CPU                | US West Region, Amazon Cloud                                              |                                                                                                                                           |\n",
      "| 12     | \"amazon-gpu-0\" | CPU                | US East Region, Amazon Cloud                                              | Only using 7/8 threads - reserving one for GPU computation                                                                                |\n",
      "| 13     | \"amazon-gpu-1\" | CPU                | US West Region, Amazon Cloud                                              | Only using 7/8 threads - reserving one for GPU computation                                                                                                                   |\n",
      "| 14     | \"amazon-gpu-0\" | OpenCL GPU                | US East Region, Amazon Cloud                                              |                                                                                                                                           |\n",
      "| 15     | \"amazon-gpu-1\" | OpenCL GPU                | US West Region, Amazon Cloud                                              |                                                                                                                                           |\n",
      "| 16     | \"google-cpu-0\" | CPU                | US Central Region, Google Cloud                                              |                                                                                                                                           |"
     ]
    },
    {
     "cell_type": "heading",
     "level": 4,
     "metadata": {},
     "source": [
      "Local Platform"
     ]
    },
    {
     "cell_type": "code",
     "collapsed": false,
     "input": [
      "platforms = [MulticoreCPU.MulticoreCPU(threads=7)] #0"
     ],
     "language": "python",
     "metadata": {},
     "outputs": [],
     "prompt_number": 39
    },
    {
     "cell_type": "heading",
     "level": 4,
     "metadata": {},
     "source": [
      "Remote CPUs"
     ]
    },
    {
     "cell_type": "code",
     "collapsed": false,
     "input": [
      "platforms += [MulticoreCPU.MulticoreCPU(remote=True,ssh_alias=\"ee-benjamin\")] #1"
     ],
     "language": "python",
     "metadata": {},
     "outputs": [],
     "prompt_number": 40
    },
    {
     "cell_type": "code",
     "collapsed": false,
     "input": [
      "platforms += [MulticoreCPU.MulticoreCPU(remote=True,ssh_alias=\"pi\")] #2"
     ],
     "language": "python",
     "metadata": {},
     "outputs": [],
     "prompt_number": 41
    },
    {
     "cell_type": "code",
     "collapsed": false,
     "input": [
      "#platforms += [MulticoreCPU.MulticoreCPU(threads=7,remote=True,ssh_alias=\"ee-mollie\")] #3 depricated in favour of google-cpu-0"
     ],
     "language": "python",
     "metadata": {},
     "outputs": [],
     "prompt_number": 13
    },
    {
     "cell_type": "code",
     "collapsed": false,
     "input": [
      "platforms += [MulticoreCPU.MulticoreCPU(threads=31,remote=True,ssh_alias=\"phi\")] #4"
     ],
     "language": "python",
     "metadata": {},
     "outputs": [],
     "prompt_number": 42
    },
    {
     "cell_type": "heading",
     "level": 4,
     "metadata": {},
     "source": [
      "Remote GPUs"
     ]
    },
    {
     "cell_type": "code",
     "collapsed": false,
     "input": [
      "platforms += [OpenCLGPU.OpenCLGPU(remote=True,ssh_alias=\"ee-snowball0\")] #5"
     ],
     "language": "python",
     "metadata": {},
     "outputs": [],
     "prompt_number": 43
    },
    {
     "cell_type": "code",
     "collapsed": false,
     "input": [
      "platforms += [OpenCLGPU.OpenCLGPU(remote=True,ssh_alias=\"ee-snowball1\")] #6"
     ],
     "language": "python",
     "metadata": {},
     "outputs": [],
     "prompt_number": 44
    },
    {
     "cell_type": "heading",
     "level": 4,
     "metadata": {},
     "source": [
      "Remote FPGAs"
     ]
    },
    {
     "cell_type": "code",
     "collapsed": false,
     "input": [
      "platforms += [MaxelerFPGA.MaxelerFPGA(remote=True,ssh_alias=\"ee-mollie\")] #7"
     ],
     "language": "python",
     "metadata": {},
     "outputs": [],
     "prompt_number": 45
    },
    {
     "cell_type": "code",
     "collapsed": false,
     "input": [
      "platforms += [OpenCLAlteraFPGA.OpenCLAlteraFPGA(remote=True,ssh_alias=\"ee-snowball2\")] #8"
     ],
     "language": "python",
     "metadata": {},
     "outputs": [],
     "prompt_number": 47
    },
    {
     "cell_type": "heading",
     "level": 4,
     "metadata": {},
     "source": [
      "Remote Xeon Phi"
     ]
    },
    {
     "cell_type": "code",
     "collapsed": false,
     "input": [
      "platforms += [OpenCLGPU.OpenCLGPU(remote=True,ssh_alias=\"phi\")] #9\n",
      "platforms[-1].device_type=8"
     ],
     "language": "python",
     "metadata": {},
     "outputs": [],
     "prompt_number": 48
    },
    {
     "cell_type": "heading",
     "level": 4,
     "metadata": {},
     "source": [
      "Cloud CPUs"
     ]
    },
    {
     "cell_type": "code",
     "collapsed": false,
     "input": [
      "platforms += [MulticoreCPU.MulticoreCPU(remote=True,ssh_alias=\"amazon-cpu-0\")] #10"
     ],
     "language": "python",
     "metadata": {},
     "outputs": [],
     "prompt_number": 49
    },
    {
     "cell_type": "code",
     "collapsed": false,
     "input": [
      "platforms += [MulticoreCPU.MulticoreCPU(remote=True,ssh_alias=\"amazon-cpu-1\")] #11"
     ],
     "language": "python",
     "metadata": {},
     "outputs": [],
     "prompt_number": 50
    },
    {
     "cell_type": "code",
     "collapsed": false,
     "input": [
      "platforms += [MulticoreCPU.MulticoreCPU(remote=True,ssh_alias=\"google-cpu-0\")] #16"
     ],
     "language": "python",
     "metadata": {},
     "outputs": [],
     "prompt_number": 51
    },
    {
     "cell_type": "code",
     "collapsed": false,
     "input": [
      "platforms += [MulticoreCPU.MulticoreCPU(remote=True,ssh_alias=\"amazon-gpu-0\",threads=7)] #12"
     ],
     "language": "python",
     "metadata": {},
     "outputs": [],
     "prompt_number": 52
    },
    {
     "cell_type": "code",
     "collapsed": false,
     "input": [
      "platforms += [MulticoreCPU.MulticoreCPU(remote=True,ssh_alias=\"amazon-gpu-1\",threads=7)] #13"
     ],
     "language": "python",
     "metadata": {},
     "outputs": [],
     "prompt_number": 53
    },
    {
     "cell_type": "heading",
     "level": 4,
     "metadata": {},
     "source": [
      "Cloud GPUs"
     ]
    },
    {
     "cell_type": "code",
     "collapsed": false,
     "input": [
      "platforms += [OpenCLGPU.OpenCLGPU(remote=True,ssh_alias=\"amazon-gpu-0\")] #14"
     ],
     "language": "python",
     "metadata": {},
     "outputs": [],
     "prompt_number": 54
    },
    {
     "cell_type": "code",
     "collapsed": false,
     "input": [
      "platforms += [OpenCLGPU.OpenCLGPU(remote=True,ssh_alias=\"amazon-gpu-1\")] #15"
     ],
     "language": "python",
     "metadata": {},
     "outputs": [],
     "prompt_number": 55
    },
    {
     "cell_type": "heading",
     "level": 2,
     "metadata": {},
     "source": [
      "Verifying the Models"
     ]
    },
    {
     "cell_type": "markdown",
     "metadata": {},
     "source": [
      "Model Verification Procedure:\n",
      "    1. Run each task for up to (5 minutes)/128 on each platform\n",
      "    2. Generate Latency, Accuracy and Latency-Accuracy models for each task.\n",
      "    3. Combine the task models for each platform and make a prediction curve for the region of interest [5x2,5x4,5x8,5x16]\n",
      "    4. Run verification experiments so as to find that region of interest"
     ]
    },
    {
     "cell_type": "heading",
     "level": 3,
     "metadata": {},
     "source": [
      "1. Benchmark Each Task"
     ]
    },
    {
     "cell_type": "code",
     "collapsed": false,
     "input": [
      "import multiprocessing,time\n",
      "import numpy"
     ],
     "language": "python",
     "metadata": {},
     "outputs": [],
     "prompt_number": 56
    },
    {
     "cell_type": "heading",
     "level": 4,
     "metadata": {},
     "source": [
      "Constants"
     ]
    },
    {
     "cell_type": "markdown",
     "metadata": {},
     "source": [
      "* The total benchmarking time should be 5 minutes (300 seconds), however we will need to verify this with 100 times this, so 30000 seconds (8 hours, 20 minutes). This should be shared equally between all of the tasks.\n",
      "* Each task starts with 100 paths, scaled up by a factor of 2"
     ]
    },
    {
     "cell_type": "code",
     "collapsed": false,
     "input": [
      "benchmarking_time = 10000.0\n",
      "paths_start_value = 200\n",
      "benchmarking_time_per_task = benchmarking_time/len(option_tasks)"
     ],
     "language": "python",
     "metadata": {},
     "outputs": [],
     "prompt_number": 72
    },
    {
     "cell_type": "heading",
     "level": 4,
     "metadata": {},
     "source": [
      "Function used for running the benchmark on a specific platform"
     ]
    },
    {
     "cell_type": "code",
     "collapsed": false,
     "input": [
      "def platform_benchmark(platform,option_tasks,timelimit,queue,output_queue,):\n",
      "    import subprocess32 as subprocess\n",
      "    \n",
      "    for i,o in enumerate(option_tasks):\n",
      "        paths = paths_start_value\n",
      "        #if(isinstance(platform,OpenCLGPU.OpenCLGPU) and platform.device_type==8): paths = 1000\n",
      "        total_time = 0.0\n",
      "        results = []\n",
      "        retries = 3\n",
      "        \n",
      "        if(isinstance(platform,MulticoreCPU.MulticoreCPU)): mc_solver = MulticoreCPU_MonteCarlo.MulticoreCPU_MonteCarlo([o],paths,platform)\n",
      "        elif(isinstance(platform,OpenCLGPU.OpenCLGPU) and platform.device_type==8): mc_solver = OpenCLGPU_MonteCarlo.OpenCLGPU_MonteCarlo([o],paths,platform,kernel_path_max=1)\n",
      "        elif(isinstance(platform,OpenCLGPU.OpenCLGPU)): mc_solver = OpenCLGPU_MonteCarlo.OpenCLGPU_MonteCarlo([o],paths,platform)\n",
      "        elif(isinstance(platform,OpenCLAlteraFPGA.OpenCLAlteraFPGA)): mc_solver = OpenCLAlteraFPGA_MonteCarlo.OpenCLAlteraFPGA_MonteCarlo([o],paths,platform)\n",
      "        elif(isinstance(platform,MaxelerFPGA.MaxelerFPGA)):\n",
      "            if(\"heston\" in o.underlying[0].name): mc_solver = MaxelerFPGA_MonteCarlo.MaxelerFPGA_MonteCarlo([o],1000,platform,instances=8)\n",
      "            elif(\"black_scholes\" in o.underlying[0].name): mc_solver = MaxelerFPGA_MonteCarlo.MaxelerFPGA_MonteCarlo([o],1000,platform,instances=16)\n",
      "        \n",
      "        while(total_time < timelimit and 0 < retries):    \n",
      "            try:\n",
      "                mc_solver.paths = paths\n",
      "                mc_solver.solver_metadata[\"paths\"] = paths\n",
      "                if(isinstance(platform,MaxelerFPGA.MaxelerFPGA)):\n",
      "                    mc_solver.dummy_run()\n",
      "                    mc_solver.execute()\n",
      "                    \n",
      "                    if(\"heston\" in o.underlying[0].name): mc_solver = MaxelerFPGA_MonteCarlo.MaxelerFPGA_MonteCarlo([o],1000,platform,instances=8)\n",
      "                    elif(\"black_scholes\" in o.underlying[0].name): mc_solver = MaxelerFPGA_MonteCarlo.MaxelerFPGA_MonteCarlo([o],1000,platform,instances=16)\n",
      "                    \n",
      "                elif(isinstance(platform,OpenCLGPU.OpenCLGPU) and platform.device_type==8): mc_solver = OpenCLGPU_MonteCarlo.OpenCLGPU_MonteCarlo([o],paths,platform,kernel_path_max=1)\n",
      "                elif(isinstance(platform,OpenCLGPU.OpenCLGPU)): mc_solver = OpenCLGPU_MonteCarlo.OpenCLGPU_MonteCarlo([o],paths,platform)\n",
      "                elif(isinstance(platform,OpenCLAlteraFPGA.OpenCLAlteraFPGA)): mc_solver = OpenCLAlteraFPGA_MonteCarlo.OpenCLAlteraFPGA_MonteCarlo([o],paths,platform)    \n",
      "                \n",
      "                timeout = max(3*total_time,benchmarking_time_per_task) #we expect the time to double per iteration\n",
      "                result = mc_solver.execute(timeout=timeout)\n",
      "                #if(numpy.isnan(float(result[1])) or float(result[1])==0.0):\n",
      "                    #retries += 1\n",
      "                    #raise subprocess.CalledProcessError(None,\"Result invalid Error\")\n",
      "                retries = 3\n",
      "                \n",
      "                results.append((paths,result[-1]/1e6,float(result[1])))\n",
      "                output_queue.put_nowait((platform.ssh_alias,platform.name,i,(paths,result[-1]/10e6,float(result[1]))))\n",
      "        \n",
      "                total_time = result[-1]/1e6\n",
      "                paths *= 2\n",
      "                \n",
      "            except subprocess.CalledProcessError as e:\n",
      "                output_queue.put_nowait(\"Error!\\nCommand:\" + str(e.cmd) + \"on \" + str(i) + \"\\nReturn: \" + str(e.output) + \"\\nReturncode: \" + str(e.returncode) + \"\\nretries remaining: \" + str(retries))\n",
      "                retries -= 1\n",
      "                \n",
      "            except subprocess.TimeoutExpired as e:\n",
      "                output_queue.put_nowait(\"Timeout!\\nCommand:\" + str(e.cmd) + \"on \" + str(i) + \"\\nReturn: \" + str(e.output) + \"\\nTimeout : \" + str(e.timeout))\n",
      "                retries -= 1\n",
      "        \n",
      "        if(results): \n",
      "            output_queue.put_nowait(str(i) + \" on \" + platform.ssh_alias + \"(\"+platform.name+\")\" + \": \" + str(results) + \"\\n\")\n",
      "            queue.put_nowait((platform.ssh_alias,platform.name,i,results))"
     ],
     "language": "python",
     "metadata": {},
     "outputs": [],
     "prompt_number": 73
    },
    {
     "cell_type": "heading",
     "level": 4,
     "metadata": {},
     "source": [
      "Code that launches benchmarking on separate threads"
     ]
    },
    {
     "cell_type": "code",
     "collapsed": false,
     "input": [
      "queue = multiprocessing.Queue(len(platforms)*len(option_tasks)*2)\n",
      "output_queue = multiprocessing.Queue()"
     ],
     "language": "python",
     "metadata": {},
     "outputs": [],
     "prompt_number": 74
    },
    {
     "cell_type": "code",
     "collapsed": false,
     "input": [
      "results = []\n",
      "try:\n",
      "    pool = [multiprocessing.Process(target=platform_benchmark,args=(p,option_tasks,benchmarking_time_per_task,queue,output_queue,)) for p in platforms]\n",
      "    \n",
      "    for p in pool: p.start()\n",
      "        \n",
      "    while(True):\n",
      "        while not(output_queue.empty()): print(output_queue.get())\n",
      "        while not(queue.empty()): results += [queue.get()]\n",
      "        \n",
      "        flag = True\n",
      "        for p in pool: \n",
      "            if(p.is_alive() and flag): flag = False\n",
      "        if(flag): break\n",
      "            \n",
      "        time.sleep(1)\n",
      "            \n",
      "    for p in pool: \n",
      "        p.join()\n",
      "        del p\n",
      "except KeyboardInterrupt:\n",
      "    for p in pool: \n",
      "        p.terminate()\n",
      "        del p\n",
      "\n",
      "\n",
      "#for p in platforms: platform_benchmark(p,option_tasks[4:],benchmarking_time_per_task,queue,output_queue,)\n"
     ],
     "language": "python",
     "metadata": {},
     "outputs": [
      {
       "output_type": "stream",
       "stream": "stdout",
       "text": [
        "('', 'multicore_cpu', 0, (200, 0.002517414093017578, 0.237514))\n",
        "('', 'multicore_cpu', 0, (400, 0.005262398719787597, 0.200536))\n",
        "('', 'multicore_cpu', 0, (800, 0.008249306678771972, 0.11247))"
       ]
      },
      {
       "output_type": "stream",
       "stream": "stdout",
       "text": [
        "\n",
        "('', 'multicore_cpu', 0, (1600, 0.007872986793518066, 0.094288))\n",
        "('', 'multicore_cpu', 0, (3200, 0.01409928798675537, 0.064305))\n",
        "('ee-benjamin', 'multicore_cpu', 0, (200, 0.06222100257873535, 0.239424))\n",
        "('', 'multicore_cpu', 0, (6400, 0.02699170112609863, 0.044886))\n",
        "('ee-snowball0', 'opencl_gpu', 0, (200, 0.08133540153503419, 0.135104))\n",
        "('ee-benjamin', 'multicore_cpu', 0, (400, 0.04561870098114014, 0.198074))\n",
        "('', 'multicore_cpu', 0, (12800, 0.04999921321868896, 0.033304))"
       ]
      },
      {
       "output_type": "stream",
       "stream": "stdout",
       "text": [
        "\n",
        "('ee-snowball1', 'opencl_gpu', 0, (200, 0.12200579643249512, 0.23447))\n",
        "('amazon-cpu-0', 'multicore_cpu', 0, (200, 0.12064940929412842, 0.324634))\n",
        "('amazon-gpu-0', 'multicore_cpu', 0, (200, 0.12138028144836426, 0.237514))\n",
        "('amazon-gpu-0', 'opencl_gpu', 0, (200, 0.12501699924468995, 0.23447))\n",
        "('ee-snowball0', 'opencl_gpu', 0, (400, 0.055824804306030276, 0.143956))\n",
        "('ee-snowball2', 'opencl_alterafpga', 0, (200, 0.1431865930557251, 0.181616))\n",
        "('ee-benjamin', 'multicore_cpu', 0, (800, 0.04529550075531006, 0.127465))\n",
        "('google-cpu-0', 'multicore_cpu', 0, (200, 0.1714561939239502, 0.317042))\n",
        "('ee-snowball0', 'opencl_gpu', 0, (800, 0.05587799549102783, 0.128572))\n",
        "('amazon-gpu-1', 'multicore_cpu', 0, (200, 0.18580381870269774, 0.237514))\n",
        "('amazon-cpu-1', 'multicore_cpu', 0, (200, 0.19113471508026122, 0.324634))\n",
        "('ee-benjamin', 'multicore_cpu', 0, (1600, 0.047043681144714355, 0.101129))\n",
        "('pi', 'multicore_cpu', 0, (200, 0.20092060565948486, 0.253251))\n",
        "('amazon-gpu-1', 'opencl_gpu', 0, (200, 0.18965060710906984, 0.23447))\n",
        "('', 'multicore_cpu', 0, (25600, 0.10486819744110107, 0.023522))"
       ]
      },
      {
       "output_type": "stream",
       "stream": "stdout",
       "text": [
        "\n",
        "('ee-snowball1', 'opencl_gpu', 0, (400, 0.10006039142608643, 0.125336))\n",
        "('ee-benjamin', 'multicore_cpu', 0, (3200, 0.04731109142303467, 0.055796))\n",
        "('ee-snowball0', 'opencl_gpu', 0, (1600, 0.0539078950881958, 0.100774))\n",
        "('amazon-gpu-0', 'multicore_cpu', 0, (400, 0.12181479930877685, 0.200536))\n",
        "('amazon-cpu-0', 'multicore_cpu', 0, (400, 0.13193299770355224, 0.205251))\n",
        "('amazon-gpu-0', 'opencl_gpu', 0, (400, 0.12419731616973877, 0.125336))\n",
        "('ee-snowball2', 'opencl_alterafpga', 0, (400, 0.11757879257202149, 0.10465))\n",
        "('ee-benjamin', 'multicore_cpu', 0, (6400, 0.04997859001159668, 0.047759))\n",
        "('ee-snowball0', 'opencl_gpu', 0, (3200, 0.054977917671203615, 0.066041))\n",
        "('ee-snowball1', 'opencl_gpu', 0, (800, 0.10418620109558105, 0.060851))"
       ]
      },
      {
       "output_type": "stream",
       "stream": "stdout",
       "text": [
        "\n",
        "('google-cpu-0', 'multicore_cpu', 0, (400, 0.16871562004089355, 0.20325))\n",
        "('ee-benjamin', 'multicore_cpu', 0, (12800, 0.054967212677001956, 0.031875))\n",
        "('ee-snowball0', 'opencl_gpu', 0, (6400, 0.05509779453277588, 0.038911))\n",
        "('ee-mollie', 'maxeler_fpga', 0, (200, 0.02728731632232666, 0.10426))\n",
        "('amazon-gpu-0', 'multicore_cpu', 0, (800, 0.12072930335998536, 0.11247))\n",
        "('amazon-gpu-1', 'multicore_cpu', 0, (400, 0.18536729812622071, 0.200536))\n",
        "('amazon-gpu-0', 'opencl_gpu', 0, (800, 0.12485208511352539, 0.060851))\n",
        "('amazon-cpu-1', 'multicore_cpu', 0, (400, 0.18951361179351806, 0.205251))\n",
        "('amazon-cpu-0', 'multicore_cpu', 0, (800, 0.13195009231567384, 0.122647))\n",
        "('amazon-gpu-1', 'opencl_gpu', 0, (400, 0.1893075942993164, 0.125336))\n",
        "('ee-snowball2', 'opencl_alterafpga', 0, (800, 0.1270348072052002, 0.16102))\n",
        "('ee-snowball0', 'opencl_gpu', 0, (12800, 0.05493249893188477, 0.033205))"
       ]
      },
      {
       "output_type": "stream",
       "stream": "stdout",
       "text": [
        "\n",
        "('ee-benjamin', 'multicore_cpu', 0, (25600, 0.06333630084991455, 0.023136))\n",
        "('', 'multicore_cpu', 0, (51200, 0.19713590145111085, 0.016816))\n",
        "('phi', 'multicore_cpu', 0, (200, 0.4294731855392456, 0.253333))\n",
        "('ee-snowball1', 'opencl_gpu', 0, (1600, 0.10261261463165283, 0.056726))\n",
        "('ee-snowball0', 'opencl_gpu', 0, (25600, 0.05639851093292236, 0.023096))\n",
        "('pi', 'multicore_cpu', 0, (400, 0.2873547077178955, 0.160081))\n",
        "('amazon-gpu-0', 'multicore_cpu', 0, (1600, 0.12460479736328126, 0.094288))\n",
        "('ee-benjamin', 'multicore_cpu', 0, (51200, 0.08543970584869384, 0.016437))\n",
        "('amazon-cpu-0', 'multicore_cpu', 0, (1600, 0.12245440483093262, 0.07726))"
       ]
      },
      {
       "output_type": "stream",
       "stream": "stdout",
       "text": [
        "\n",
        "('amazon-gpu-0', 'opencl_gpu', 0, (1600, 0.12867240905761718, 0.056726))\n",
        "('google-cpu-0', 'multicore_cpu', 0, (800, 0.17041778564453125, 0.131875))\n",
        "('ee-snowball2', 'opencl_alterafpga', 0, (1600, 0.12587509155273438, 0.102795))\n",
        "('ee-snowball0', 'opencl_gpu', 0, (51200, 0.059516406059265135, 0.015366))\n",
        "('ee-snowball1', 'opencl_gpu', 0, (3200, 0.10311532020568848, 0.077709))\n",
        "('amazon-gpu-1', 'multicore_cpu', 0, (800, 0.1878939151763916, 0.11247))\n",
        "('amazon-cpu-1', 'multicore_cpu', 0, (800, 0.19271199703216552, 0.122647))\n",
        "('amazon-gpu-1', 'opencl_gpu', 0, (800, 0.19042060375213624, 0.060851))\n",
        "('ee-snowball0', 'opencl_gpu', 0, (102400, 0.07739589214324952, 0.011354))\n",
        "('ee-mollie', 'maxeler_fpga', 0, (400, 0.04711439609527588, 0.106685))"
       ]
      },
      {
       "output_type": "stream",
       "stream": "stdout",
       "text": [
        "\n",
        "('amazon-gpu-0', 'multicore_cpu', 0, (3200, 0.13234891891479492, 0.064305))\n",
        "('ee-benjamin', 'multicore_cpu', 0, (102400, 0.13933110237121582, 0.011475))\n",
        "('amazon-gpu-0', 'opencl_gpu', 0, (3200, 0.12683751583099365, 0.077709))\n",
        "('ee-snowball1', 'opencl_gpu', 0, (6400, 0.10885899066925049, 0.04936))\n",
        "('amazon-cpu-0', 'multicore_cpu', 0, (3200, 0.14022140502929686, 0.067985))\n",
        "('ee-snowball0', 'opencl_gpu', 0, (204800, 0.06951379776000977, 0.008085))\n",
        "('google-cpu-0', 'multicore_cpu', 0, (1600, 0.1753126859664917, 0.08793))\n",
        "('ee-snowball2', 'opencl_alterafpga', 0, (3200, 0.18712139129638672, 0.057568))\n",
        "('ee-snowball1', 'opencl_gpu', 0, (12800, 0.1049649953842163, 0.0359))"
       ]
      },
      {
       "output_type": "stream",
       "stream": "stdout",
       "text": [
        "\n",
        "('ee-snowball0', 'opencl_gpu', 0, (409600, 0.08307809829711914, 0.005753))\n",
        "('amazon-gpu-1', 'multicore_cpu', 0, (1600, 0.1905339002609253, 0.094288))\n",
        "('amazon-gpu-0', 'opencl_gpu', 0, (6400, 0.12877109050750732, 0.04936))\n",
        "('amazon-gpu-0', 'multicore_cpu', 0, (6400, 0.14796071052551268, 0.044886))\n",
        "('amazon-cpu-0', 'multicore_cpu', 0, (6400, 0.1321563959121704, 0.049314))\n",
        "('amazon-cpu-1', 'multicore_cpu', 0, (1600, 0.21360621452331544, 0.07726))\n",
        "('amazon-gpu-1', 'opencl_gpu', 0, (1600, 0.21051859855651855, 0.056726))\n",
        "('', 'multicore_cpu', 0, (102400, 0.3871856927871704, 0.011592))\n",
        "('ee-snowball2', 'opencl_alterafpga', 0, (6400, 0.11742539405822754, 0.045189))"
       ]
      },
      {
       "output_type": "stream",
       "stream": "stdout",
       "text": [
        "\n",
        "('ee-benjamin', 'multicore_cpu', 0, (204800, 0.19995038509368895, 0.008216))\n",
        "('ee-snowball1', 'opencl_gpu', 0, (25600, 0.10105609893798828, 0.022256))\n",
        "('phi', 'multicore_cpu', 0, (400, 0.432413387298584, 0.169599))\n",
        "('ee-snowball0', 'opencl_gpu', 0, (819200, 0.10911118984222412, 0.00408))\n",
        "('google-cpu-0', 'multicore_cpu', 0, (3200, 0.17920458316802979, 0.067038))\n",
        "('ee-mollie', 'maxeler_fpga', 0, (800, 0.02537078857421875, 0.121214))\n",
        "('amazon-gpu-0', 'opencl_gpu', 0, (12800, 0.13094780445098878, 0.0359))\n",
        "('amazon-cpu-0', 'multicore_cpu', 0, (12800, 0.1443182945251465, 0.032435))"
       ]
      },
      {
       "output_type": "stream",
       "stream": "stdout",
       "text": [
        "\n",
        "('pi', 'multicore_cpu', 0, (800, 0.4594860076904297, 0.126569))\n",
        "('amazon-gpu-0', 'multicore_cpu', 0, (12800, 0.1750087022781372, 0.033304))\n",
        "('ee-snowball1', 'opencl_gpu', 0, (51200, 0.10494730472564698, 0.01613))\n",
        "('amazon-gpu-1', 'multicore_cpu', 0, (3200, 0.19746530055999756, 0.064305))\n",
        "('ee-snowball2', 'opencl_alterafpga', 0, (12800, 0.1456554889678955, 0.03121))\n",
        "('amazon-gpu-1', 'opencl_gpu', 0, (3200, 0.19108211994171143, 0.077709))\n",
        "('amazon-cpu-1', 'multicore_cpu', 0, (3200, 0.19554760456085205, 0.067985))\n",
        "('amazon-gpu-0', 'opencl_gpu', 0, (25600, 0.12759568691253662, 0.022256))"
       ]
      },
      {
       "output_type": "stream",
       "stream": "stdout",
       "text": [
        "\n",
        "('ee-snowball0', 'opencl_gpu', 0, (1638400, 0.16191811561584474, 0.002878))\n",
        "('phi', 'opencl_gpu', 0, (200, 1.0344208002090454, 0.049431))\n",
        "('google-cpu-0', 'multicore_cpu', 0, (6400, 0.19149560928344728, 0.04502))\n",
        "('ee-snowball1', 'opencl_gpu', 0, (102400, 0.1149852991104126, 0.011686))\n",
        "('amazon-cpu-0', 'multicore_cpu', 0, (25600, 0.1654304027557373, 0.022894))\n",
        "('ee-mollie', 'maxeler_fpga', 0, (1600, 0.02644190788269043, 0.197207))"
       ]
      },
      {
       "output_type": "stream",
       "stream": "stdout",
       "text": [
        "\n",
        "('ee-snowball2', 'opencl_alterafpga', 0, (25600, 0.1729902982711792, 0.022511))\n",
        "('amazon-gpu-0', 'opencl_gpu', 0, (51200, 0.13004930019378663, 0.015934))\n",
        "('amazon-gpu-1', 'multicore_cpu', 0, (6400, 0.21220080852508544, 0.044886))\n",
        "('amazon-gpu-1', 'opencl_gpu', 0, (6400, 0.19407718181610106, 0.04936))\n",
        "('amazon-gpu-0', 'multicore_cpu', 0, (25600, 0.23411049842834472, 0.023522))\n",
        "('amazon-cpu-1', 'multicore_cpu', 0, (6400, 0.2030933141708374, 0.049314))\n",
        "('ee-benjamin', 'multicore_cpu', 0, (409600, 0.357552695274353, 0.005764))\n",
        "('ee-snowball1', 'opencl_gpu', 0, (204800, 0.13182249069213867, 0.008288))\n",
        "('google-cpu-0', 'multicore_cpu', 0, (12800, 0.21653029918670655, 0.03155))"
       ]
      },
      {
       "output_type": "stream",
       "stream": "stdout",
       "text": [
        "\n",
        "('amazon-gpu-0', 'opencl_gpu', 0, (102400, 0.12972588539123536, 0.012036))\n",
        "('phi', 'multicore_cpu', 0, (800, 0.43011400699615476, 0.1356))\n",
        "('ee-snowball2', 'opencl_alterafpga', 0, (51200, 0.15808501243591308, 0.016317))\n",
        "('ee-snowball0', 'opencl_gpu', 0, (3276800, 0.27336289882659914, 0.002038))\n",
        "('amazon-cpu-0', 'multicore_cpu', 0, (51200, 0.20890161991119385, 0.016073))\n",
        "('ee-snowball1', 'opencl_gpu', 0, (409600, 0.13814301490783693, 0.005813))"
       ]
      },
      {
       "output_type": "stream",
       "stream": "stdout",
       "text": [
        "\n",
        "('amazon-gpu-1', 'opencl_gpu', 0, (12800, 0.1942375898361206, 0.0359))\n",
        "('ee-mollie', 'maxeler_fpga', 0, (3200, 0.025353884696960448, 0.064763))\n",
        "('amazon-cpu-1', 'multicore_cpu', 0, (12800, 0.21593220233917237, 0.032435))\n",
        "('amazon-gpu-1', 'multicore_cpu', 0, (12800, 0.2396697998046875, 0.033304))\n",
        "('amazon-gpu-0', 'opencl_gpu', 0, (204800, 0.1391463041305542, 0.007975))"
       ]
      },
      {
       "output_type": "stream",
       "stream": "stdout",
       "text": [
        "\n",
        "('ee-snowball2', 'opencl_alterafpga', 0, (102400, 0.17953150272369384, 0.011696))\n",
        "('ee-snowball1', 'opencl_gpu', 0, (819200, 0.17045328617095948, 0.004051))\n",
        "('amazon-gpu-0', 'multicore_cpu', 0, (51200, 0.3436797857284546, 0.016816))"
       ]
      },
      {
       "output_type": "stream",
       "stream": "stdout",
       "text": [
        "\n",
        "('google-cpu-0', 'multicore_cpu', 0, (25600, 0.2611479043960571, 0.023117))\n",
        "('amazon-gpu-1', 'opencl_gpu', 0, (25600, 0.19189860820770263, 0.022256))\n",
        "('amazon-gpu-0', 'opencl_gpu', 0, (409600, 0.14593360424041749, 0.005772))\n",
        "('', 'multicore_cpu', 0, (204800, 0.7768594026565552, 0.008094))\n",
        "('amazon-cpu-0', 'multicore_cpu', 0, (102400, 0.3027590990066528, 0.011674))\n",
        "('ee-snowball2', 'opencl_alterafpga', 0, (204800, 0.13055689334869386, 0.008117))\n",
        "('ee-mollie', 'maxeler_fpga', 0, (6400, 0.02869868278503418, 0.132057))"
       ]
      },
      {
       "output_type": "stream",
       "stream": "stdout",
       "text": [
        "\n",
        "('amazon-cpu-1', 'multicore_cpu', 0, (25600, 0.23494040966033936, 0.022894))\n",
        "('amazon-gpu-1', 'multicore_cpu', 0, (25600, 0.29566259384155275, 0.023522))\n",
        "('phi', 'multicore_cpu', 0, (1600, 0.43180510997772215, 0.089393))"
       ]
      },
      {
       "output_type": "stream",
       "stream": "stdout",
       "text": [
        "\n",
        "('amazon-gpu-0', 'opencl_gpu', 0, (819200, 0.1626642942428589, 0.004078))\n",
        "('pi', 'multicore_cpu', 0, (1600, 0.806774091720581, 0.094729))\n",
        "('ee-snowball1', 'opencl_gpu', 0, (1638400, 0.24281759262084962, 0.002883))\n",
        "('amazon-gpu-1', 'opencl_gpu', 0, (51200, 0.19026780128479004, 0.015934))\n",
        "('ee-snowball2', 'opencl_alterafpga', 0, (409600, 0.1482017993927002, 0.005852))\n",
        "('ee-snowball0', 'opencl_gpu', 0, (6553600, 0.4998603820800781, 0.001441))\n",
        "('ee-benjamin', 'multicore_cpu', 0, (819200, 0.6705788135528564, 0.004088))"
       ]
      },
      {
       "output_type": "stream",
       "stream": "stdout",
       "text": [
        "\n",
        "('ee-mollie', 'maxeler_fpga', 0, (12800, 0.04274430274963379, 0.095814))\n",
        "('google-cpu-0', 'multicore_cpu', 0, (51200, 0.355004096031189, 0.016305))\n",
        "('phi', 'opencl_gpu', 0, (400, 0.8716968059539795, 0.121889))\n",
        "('amazon-cpu-1', 'multicore_cpu', 0, (51200, 0.2843277931213379, 0.016073))"
       ]
      },
      {
       "output_type": "stream",
       "stream": "stdout",
       "text": [
        "\n",
        "('amazon-gpu-0', 'opencl_gpu', 0, (1638400, 0.1979063034057617, 0.00282))\n",
        "('amazon-gpu-1', 'opencl_gpu', 0, (102400, 0.19577531814575194, 0.012036))\n",
        "('ee-snowball2', 'opencl_alterafpga', 0, (819200, 0.21382451057434082, 0.003991))\n",
        "('amazon-cpu-0', 'multicore_cpu', 0, (204800, 0.4853532075881958, 0.008243))"
       ]
      },
      {
       "output_type": "stream",
       "stream": "stdout",
       "text": [
        "\n",
        "('amazon-gpu-0', 'multicore_cpu', 0, (102400, 0.5656409978866577, 0.011592))\n",
        "('amazon-gpu-1', 'multicore_cpu', 0, (51200, 0.40404889583587644, 0.016816))\n",
        "('ee-mollie', 'maxeler_fpga', 0, (25600, 0.024081707000732422, 0.09611))"
       ]
      },
      {
       "output_type": "stream",
       "stream": "stdout",
       "text": [
        "\n",
        "('ee-snowball1', 'opencl_gpu', 0, (3276800, 0.39488720893859863, 0.002011))\n",
        "('amazon-gpu-1', 'opencl_gpu', 0, (204800, 0.19999570846557618, 0.007975))\n",
        "('phi', 'multicore_cpu', 0, (3200, 0.4390044927597046, 0.064375))\n",
        "('amazon-gpu-0', 'opencl_gpu', 0, (3276800, 0.26924819946289064, 0.002047))\n",
        "('ee-snowball2', 'opencl_alterafpga', 0, (1638400, 0.2736539840698242, 0.002993))"
       ]
      },
      {
       "output_type": "stream",
       "stream": "stdout",
       "text": [
        "\n",
        "('amazon-cpu-1', 'multicore_cpu', 0, (102400, 0.3740077972412109, 0.011674))\n",
        "('ee-mollie', 'maxeler_fpga', 0, (51200, 0.025719213485717773, 0.130874))"
       ]
      },
      {
       "output_type": "stream",
       "stream": "stdout",
       "text": [
        "\n",
        "('amazon-gpu-1', 'opencl_gpu', 0, (409600, 0.2112128973007202, 0.005772))\n",
        "('google-cpu-0', 'multicore_cpu', 0, (102400, 0.5353487968444824, 0.011777))"
       ]
      },
      {
       "output_type": "stream",
       "stream": "stdout",
       "text": [
        "\n",
        "('amazon-gpu-1', 'opencl_gpu', 0, (819200, 0.22856009006500244, 0.004078))"
       ]
      },
      {
       "output_type": "stream",
       "stream": "stdout",
       "text": [
        "\n",
        "('phi', 'multicore_cpu', 0, (6400, 0.4438987970352173, 0.04457))\n",
        "('amazon-gpu-0', 'opencl_gpu', 0, (6553600, 0.4080211162567139, 0.001409))\n",
        "('ee-mollie', 'maxeler_fpga', 0, (102400, 0.02702028751373291, 0.074429))"
       ]
      },
      {
       "output_type": "stream",
       "stream": "stdout",
       "text": [
        "\n",
        "('ee-snowball2', 'opencl_alterafpga', 0, (3276800, 0.39909160137176514, 0.001997))\n",
        "('amazon-gpu-1', 'multicore_cpu', 0, (102400, 0.6337846994400025, 0.011592))"
       ]
      },
      {
       "output_type": "stream",
       "stream": "stdout",
       "text": [
        "\n",
        "('ee-snowball0', 'opencl_gpu', 0, (13107200, 0.9466065883636474, 0.001018))\n",
        "('phi', 'opencl_gpu', 0, (800, 0.8404922008514404, 0.110292))\n",
        "('ee-snowball1', 'opencl_gpu', 0, (6553600, 0.654986310005188, 0.001426))\n",
        "('amazon-gpu-1', 'opencl_gpu', 0, (1638400, 0.2613093137741089, 0.00282))"
       ]
      },
      {
       "output_type": "stream",
       "stream": "stdout",
       "text": [
        "\n",
        "('amazon-cpu-1', 'multicore_cpu', 0, (204800, 0.5561897993087769, 0.008243))\n",
        "('ee-mollie', 'maxeler_fpga', 0, (204800, 0.024297881126403808, 0.121498))\n",
        "('amazon-cpu-0', 'multicore_cpu', 0, (409600, 0.8460118055343628, 0.005775))"
       ]
      },
      {
       "output_type": "stream",
       "stream": "stdout",
       "text": [
        "\n",
        "('phi', 'multicore_cpu', 0, (12800, 0.45331130027770994, 0.032391))"
       ]
      },
      {
       "output_type": "stream",
       "stream": "stdout",
       "text": [
        "\n",
        "('amazon-gpu-0', 'multicore_cpu', 0, (204800, 1.024571418762207, 0.008094))"
       ]
      },
      {
       "output_type": "stream",
       "stream": "stdout",
       "text": [
        "\n",
        "('', 'multicore_cpu', 0, (409600, 1.5443936824798583, 0.005819))\n",
        "('ee-benjamin', 'multicore_cpu', 0, (1638400, 1.2936833858489991, 0.002889))\n",
        "('amazon-gpu-1', 'opencl_gpu', 0, (3276800, 0.33148210048675536, 0.002047))\n",
        "('ee-mollie', 'maxeler_fpga', 0, (409600, 0.024837899208068847, 0.094751))\n",
        "('pi', 'multicore_cpu', 0, (3200, 1.4798207998275756, 0.062877))"
       ]
      },
      {
       "output_type": "stream",
       "stream": "stdout",
       "text": [
        "\n",
        "('amazon-gpu-0', 'opencl_gpu', 0, (13107200, 0.687186598777771, 0.001007))\n",
        "('ee-snowball2', 'opencl_alterafpga', 0, (6553600, 0.6665477991104126, 0.001484))\n",
        "('google-cpu-0', 'multicore_cpu', 0, (204800, 0.8980380058288574, 0.008205))"
       ]
      },
      {
       "output_type": "stream",
       "stream": "stdout",
       "text": [
        "\n",
        "('phi', 'multicore_cpu', 0, (25600, 0.47609848976135255, 0.022657))"
       ]
      },
      {
       "output_type": "stream",
       "stream": "stdout",
       "text": [
        "\n",
        "('ee-mollie', 'maxeler_fpga', 0, (819200, 0.04666271209716797, 0.166584))\n",
        "('phi', 'opencl_gpu', 0, (1600, 0.879768705368042, 0.105912))"
       ]
      },
      {
       "output_type": "stream",
       "stream": "stdout",
       "text": [
        "\n",
        "('amazon-gpu-1', 'opencl_gpu', 0, (6553600, 0.47165770530700685, 0.001409))\n",
        "('amazon-cpu-1', 'multicore_cpu', 0, (409600, 0.914178991317749, 0.005775))"
       ]
      },
      {
       "output_type": "stream",
       "stream": "stdout",
       "text": [
        "\n",
        "('amazon-gpu-1', 'multicore_cpu', 0, (204800, 1.0888659954071045, 0.008094))"
       ]
      },
      {
       "output_type": "stream",
       "stream": "stdout",
       "text": [
        "\n",
        "('ee-snowball1', 'opencl_gpu', 0, (13107200, 1.211521315574646, 0.001018))"
       ]
      },
      {
       "output_type": "stream",
       "stream": "stdout",
       "text": [
        "\n",
        "('ee-mollie', 'maxeler_fpga', 0, (1638400, 0.02504289150238037, 0.172123))"
       ]
      },
      {
       "output_type": "stream",
       "stream": "stdout",
       "text": [
        "\n",
        "('phi', 'multicore_cpu', 0, (51200, 0.6266112804412842, 0.016032))"
       ]
      },
      {
       "output_type": "stream",
       "stream": "stdout",
       "text": [
        "\n",
        "('amazon-gpu-1', 'opencl_gpu', 0, (13107200, 0.7477385044097901, 0.001007))"
       ]
      },
      {
       "output_type": "stream",
       "stream": "stdout",
       "text": [
        "\n",
        "('ee-snowball2', 'opencl_alterafpga', 0, (13107200, 1.1726759910583495, 0.001001))"
       ]
      },
      {
       "output_type": "stream",
       "stream": "stdout",
       "text": [
        "\n",
        "('amazon-cpu-0', 'multicore_cpu', 0, (819200, 1.6044451951980592, 0.004091))"
       ]
      },
      {
       "output_type": "stream",
       "stream": "stdout",
       "text": [
        "\n",
        "('phi', 'opencl_gpu', 0, (3200, 0.914567518234253, 0.065369))\n",
        "('amazon-gpu-0', 'opencl_gpu', 0, (26214400, 1.2512449026107788, 0.000726))\n",
        "('ee-snowball0', 'opencl_gpu', 0, (26214400, 1.8142321109771729, 0.000722))\n",
        "('phi', 'multicore_cpu', 0, (102400, 0.6192206859588623, 0.01155))"
       ]
      },
      {
       "output_type": "stream",
       "stream": "stdout",
       "text": [
        "\n",
        "('ee-mollie', 'maxeler_fpga', 0, (3276800, 0.05220880508422852, 0.140322))\n",
        "('google-cpu-0', 'multicore_cpu', 0, (409600, 1.637026882171631, 0.005773))"
       ]
      },
      {
       "output_type": "stream",
       "stream": "stdout",
       "text": [
        "\n",
        "('amazon-gpu-0', 'multicore_cpu', 0, (409600, 1.962426495552063, 0.005819))"
       ]
      },
      {
       "output_type": "stream",
       "stream": "stdout",
       "text": [
        "\n",
        "('amazon-cpu-1', 'multicore_cpu', 0, (819200, 1.6355103969573974, 0.004091))"
       ]
      },
      {
       "output_type": "stream",
       "stream": "stdout",
       "text": [
        "\n",
        "('phi', 'opencl_gpu', 0, (6400, 0.8763722896575927, 0.04956))"
       ]
      },
      {
       "output_type": "stream",
       "stream": "stdout",
       "text": [
        "\n",
        "('phi', 'multicore_cpu', 0, (204800, 0.8581902027130127, 0.008184))"
       ]
      },
      {
       "output_type": "stream",
       "stream": "stdout",
       "text": [
        "\n",
        "('amazon-gpu-1', 'opencl_gpu', 0, (26214400, 1.31512348651886, 0.000726))\n",
        "('ee-benjamin', 'multicore_cpu', 0, (3276800, 2.668039608001709, 0.002045))"
       ]
      },
      {
       "output_type": "stream",
       "stream": "stdout",
       "text": [
        "\n",
        "('amazon-gpu-1', 'multicore_cpu', 0, (409600, 2.0239018201828003, 0.005819))\n",
        "('ee-mollie', 'maxeler_fpga', 0, (6553600, 0.04713370800018311, 0.130888))"
       ]
      },
      {
       "output_type": "stream",
       "stream": "stdout",
       "text": [
        "\n",
        "('pi', 'multicore_cpu', 0, (6400, 2.839630699157715, 0.047107))"
       ]
      },
      {
       "output_type": "stream",
       "stream": "stdout",
       "text": [
        "\n",
        "('', 'multicore_cpu', 0, (819200, 3.0735536098480223, 0.004075))"
       ]
      },
      {
       "output_type": "stream",
       "stream": "stdout",
       "text": [
        "\n",
        "('ee-snowball1', 'opencl_gpu', 0, (26214400, 2.319701600074768, 0.000724))"
       ]
      },
      {
       "output_type": "stream",
       "stream": "stdout",
       "text": [
        "\n",
        "('ee-snowball2', 'opencl_alterafpga', 0, (26214400, 1.9608352184295654, 0.000743))"
       ]
      },
      {
       "output_type": "stream",
       "stream": "stdout",
       "text": [
        "\n",
        "('phi', 'opencl_gpu', 0, (12800, 1.0513963937759399, 0.03421))\n",
        "('amazon-gpu-0', 'opencl_gpu', 0, (52428800, 2.3744009017944334, 0.0005))"
       ]
      },
      {
       "output_type": "stream",
       "stream": "stdout",
       "text": [
        "\n",
        "('phi', 'multicore_cpu', 0, (409600, 1.286198091506958, 0.00581))\n",
        "('phi', 'opencl_gpu', 0, (25600, 1.042263889312744, 0.021101))"
       ]
      },
      {
       "output_type": "stream",
       "stream": "stdout",
       "text": [
        "\n",
        "('amazon-cpu-0', 'multicore_cpu', 0, (1638400, 3.0191174030303953, 0.002882))"
       ]
      },
      {
       "output_type": "stream",
       "stream": "stdout",
       "text": [
        "\n",
        "('ee-mollie', 'maxeler_fpga', 0, (13107200, 0.04345390796661377, 0.132127))"
       ]
      },
      {
       "output_type": "stream",
       "stream": "stdout",
       "text": [
        "\n",
        "('google-cpu-0', 'multicore_cpu', 0, (819200, 3.1013519048690794, 0.004079))"
       ]
      },
      {
       "output_type": "stream",
       "stream": "stdout",
       "text": [
        "\n",
        "('ee-snowball0', 'opencl_gpu', 0, (52428800, 3.5509258985519407, 0.00051))\n",
        "('amazon-gpu-1', 'opencl_gpu', 0, (52428800, 2.4289767026901243, 0.0005))"
       ]
      },
      {
       "output_type": "stream",
       "stream": "stdout",
       "text": [
        "\n",
        "('amazon-cpu-1', 'multicore_cpu', 0, (1638400, 3.081694006919861, 0.002882))"
       ]
      },
      {
       "output_type": "stream",
       "stream": "stdout",
       "text": [
        "\n",
        "('phi', 'opencl_gpu', 0, (51200, 1.1704795122146607, 0.015672))"
       ]
      },
      {
       "output_type": "stream",
       "stream": "stdout",
       "text": [
        "\n",
        "('amazon-gpu-0', 'multicore_cpu', 0, (819200, 3.856456995010376, 0.004075))"
       ]
      },
      {
       "output_type": "stream",
       "stream": "stdout",
       "text": [
        "\n",
        "('phi', 'multicore_cpu', 0, (819200, 2.279184889793396, 0.004101))"
       ]
      },
      {
       "output_type": "stream",
       "stream": "stdout",
       "text": [
        "\n",
        "('amazon-gpu-1', 'multicore_cpu', 0, (819200, 3.8110862016677856, 0.004075))"
       ]
      },
      {
       "output_type": "stream",
       "stream": "stdout",
       "text": [
        "\n",
        "('phi', 'opencl_gpu', 0, (102400, 1.0235649824142456, 0.011315))\n",
        "('ee-snowball2', 'opencl_alterafpga', 0, (52428800, 3.740475797653198, 0.000516))"
       ]
      },
      {
       "output_type": "stream",
       "stream": "stdout",
       "text": [
        "\n",
        "('phi', 'opencl_gpu', 0, (204800, 1.0280504941940307, 0.007856))"
       ]
      },
      {
       "output_type": "stream",
       "stream": "stdout",
       "text": [
        "\n",
        "('ee-snowball1', 'opencl_gpu', 0, (52428800, 4.512831687927246, 0.000505))"
       ]
      },
      {
       "output_type": "stream",
       "stream": "stdout",
       "text": [
        "\n",
        "('ee-benjamin', 'multicore_cpu', 0, (6553600, 5.285190486907959, 0.001444))"
       ]
      }
     ],
     "prompt_number": "*"
    },
    {
     "cell_type": "code",
     "collapsed": false,
     "input": [
      "results?"
     ],
     "language": "python",
     "metadata": {},
     "outputs": [],
     "prompt_number": 37
    },
    {
     "cell_type": "heading",
     "level": 4,
     "metadata": {},
     "source": [
      "Collating results"
     ]
    },
    {
     "cell_type": "markdown",
     "metadata": {},
     "source": [
      "Results are an array of (paths,latency,accuracy) for each platform and task, \n",
      "\n",
      "i.e. benchmark_results[i][j] would be the results array for the jth task on the ith platform"
     ]
    },
    {
     "cell_type": "code",
     "collapsed": false,
     "input": [
      "#platforms, platform type, tasks, results (paths, time, accuracy)\n",
      "benchmark_results = [[[] for t in range(len(option_tasks))] for p in range(len(platforms))]\n",
      "platform_names = [p.name+\"_\"+p.ssh_alias for p in platforms]\n",
      "\n",
      "for result in results:\n",
      "    benchmark_results[platform_names.index(result[1]+\"_\"+result[0])][result[2]] = result[3]\n",
      "\n",
      "for p in range(len(platforms)):\n",
      "    for t in range(len(option_tasks)):\n",
      "        benchmark_results[p][t] = numpy.array(benchmark_results[p][t],dtype=[('paths','f8'),('latency','f8'),('accuracy','f8')]) #\n",
      "        "
     ],
     "language": "python",
     "metadata": {},
     "outputs": [],
     "prompt_number": 43
    },
    {
     "cell_type": "markdown",
     "metadata": {},
     "source": [
      "Printing out task totals for each platform"
     ]
    },
    {
     "cell_type": "code",
     "collapsed": false,
     "input": [
      "platform_data = []\n",
      "flag = True\n",
      "for i,p in enumerate(platforms):\n",
      "    #print \"Platform \"+p.ssh_alias+\":\"\n",
      "    flag = True\n",
      "    for j,t in enumerate(option_tasks):\n",
      "        #print \"Task \"+str(j)+\":\"\n",
      "        if not(benchmark_results[i][j].size):\n",
      "            print(p.ssh_alias,j)\n",
      "            platform_data.append(j)\n",
      "            flag = False\n",
      "            break\n",
      "            \n",
      "    if(flag): \n",
      "        print(p.ssh_alias,len(option_tasks))\n",
      "        platform_data.append(len(option_tasks))\n",
      "            \n",
      "print platform_data"
     ],
     "language": "python",
     "metadata": {},
     "outputs": [
      {
       "output_type": "stream",
       "stream": "stdout",
       "text": [
        "('phi', 128)\n",
        "[128]\n"
       ]
      }
     ],
     "prompt_number": 17
    },
    {
     "cell_type": "markdown",
     "metadata": {},
     "source": [
      "Writing to file:"
     ]
    },
    {
     "cell_type": "code",
     "collapsed": false,
     "input": [
      "with open('benchmark_data_complete5_600.csv','w') as benchmark_file:\n",
      "    csvwriter = csv.writer(benchmark_file,delimiter=',')\n",
      "    \n",
      "    csvwriter.writerow(['Platform','Type','Task','Paths','Latency','Accuracy'])\n",
      "    for i,p in enumerate(platforms):\n",
      "        for j,t in enumerate(option_tasks):\n",
      "            for r in benchmark_results[i][j]:\n",
      "                    csvwriter.writerow([p.ssh_alias,p.name,j]+list(r))"
     ],
     "language": "python",
     "metadata": {},
     "outputs": [],
     "prompt_number": 44
    },
    {
     "cell_type": "code",
     "collapsed": false,
     "input": [
      "%load benchmark_data_complete3_300.csv"
     ],
     "language": "python",
     "metadata": {},
     "outputs": [
      {
       "name": "stdout",
       "output_type": "stream",
       "stream": "stdout",
       "text": [
        "The text you're trying to load seems pretty big (2068645 characters). Continue (y/[N]) ? n\n"
       ]
      },
      {
       "output_type": "stream",
       "stream": "stdout",
       "text": [
        "Operation cancelled.\n"
       ]
      }
     ],
     "prompt_number": 76
    },
    {
     "cell_type": "code",
     "collapsed": false,
     "input": [],
     "language": "python",
     "metadata": {},
     "outputs": []
    }
   ],
   "metadata": {}
  }
 ]
}