{
 "metadata": {
  "name": ""
 },
 "nbformat": 3,
 "nbformat_minor": 0,
 "worksheets": [
  {
   "cells": [
    {
     "cell_type": "heading",
     "level": 1,
     "metadata": {},
     "source": [
      "Partitioning Verification Experiment"
     ]
    },
    {
     "cell_type": "markdown",
     "metadata": {},
     "source": [
      "Aim: \n",
      "* Verify that the approach to modelling the runtime characteristics of execution of tasks upon various platforms is correct, and that the \n",
      "* Verify the SCIP-based partitioner schedule based upon these model inputs"
     ]
    },
    {
     "cell_type": "heading",
     "level": 2,
     "metadata": {},
     "source": [
      "Setup"
     ]
    },
    {
     "cell_type": "heading",
     "level": 3,
     "metadata": {},
     "source": [
      "Option Pricing Tasks"
     ]
    },
    {
     "cell_type": "markdown",
     "metadata": {},
     "source": [
      "The options all have non-zero values for reasonably small numbers of tasks"
     ]
    },
    {
     "cell_type": "code",
     "collapsed": false,
     "input": [
      "import csv\n",
      "\n",
      "options = []\n",
      "with open('valid_seeds_file.csv','r') as valid_seeds_file:\n",
      "    csvreader = csv.DictReader(valid_seeds_file,delimiter=',')\n",
      "    options = [row for row in csvreader]"
     ],
     "language": "python",
     "metadata": {},
     "outputs": [],
     "prompt_number": 7
    },
    {
     "cell_type": "code",
     "collapsed": false,
     "input": [
      "tasks = {}\n",
      "for o in options:\n",
      "    temp_task = \"%s %s\"%(o['underlying'],o['option'])\n",
      "    if(temp_task not in tasks): tasks[temp_task] = 0\n",
      "    tasks[temp_task] += 1\n",
      "    \n",
      "print(\"Portfolio of Option Pricing Tasks\")\n",
      "total = 0\n",
      "for t in sorted(tasks):\n",
      "    print(\"%s: %d\"%(t,tasks[t]))\n",
      "    total += tasks[t]\n",
      "    \n",
      "print(\"total tasks:%d\"%total)"
     ],
     "language": "python",
     "metadata": {},
     "outputs": [
      {
       "output_type": "stream",
       "stream": "stdout",
       "text": [
        "Portfolio of Option Pricing Tasks\n",
        "black_scholes asian: 10\n",
        "black_scholes barrier: 10\n",
        "black_scholes digital_double_barrier: 5\n",
        "black_scholes double_barrier: 10\n",
        "heston asian: 25\n",
        "heston barrier: 29\n",
        "heston digital_double_barrier: 5\n",
        "heston double_barrier: 29\n",
        "heston european: 5\n",
        "total tasks:128\n"
       ]
      }
     ],
     "prompt_number": 8
    },
    {
     "cell_type": "code",
     "collapsed": false,
     "input": [
      "compile_string = \"\"\n",
      "for t in tasks: compile_string += \"python2.7 mc_solver_option_test.py CPU \\\"Generate Compile\\\" 1000 \\\"%s 1234\\\";\"%t\n",
      "print(compile_string)"
     ],
     "language": "python",
     "metadata": {},
     "outputs": [
      {
       "output_type": "stream",
       "stream": "stdout",
       "text": [
        "python2.7 mc_solver_option_test.py CPU \"Generate Compile\" 1000 \"black_scholes barrier 1234\";python2.7 mc_solver_option_test.py CPU \"Generate Compile\" 1000 \"heston european 1234\";python2.7 mc_solver_option_test.py CPU \"Generate Compile\" 1000 \"heston barrier 1234\";python2.7 mc_solver_option_test.py CPU \"Generate Compile\" 1000 \"heston double_barrier 1234\";python2.7 mc_solver_option_test.py CPU \"Generate Compile\" 1000 \"black_scholes asian 1234\";python2.7 mc_solver_option_test.py CPU \"Generate Compile\" 1000 \"heston digital_double_barrier 1234\";python2.7 mc_solver_option_test.py CPU \"Generate Compile\" 1000 \"black_scholes double_barrier 1234\";python2.7 mc_solver_option_test.py CPU \"Generate Compile\" 1000 \"heston asian 1234\";python2.7 mc_solver_option_test.py CPU \"Generate Compile\" 1000 \"black_scholes digital_double_barrier 1234\";\n"
       ]
      }
     ],
     "prompt_number": 5
    },
    {
     "cell_type": "code",
     "collapsed": false,
     "input": [
      "compile_string = \"\"\n",
      "for t in tasks: compile_string += \"python2.7 mc_solver_option_test.py OpenCL_GPU \\\"Generate Compile\\\" 1000 \\\"%s 1234\\\";\"%t\n",
      "print(compile_string)"
     ],
     "language": "python",
     "metadata": {},
     "outputs": [
      {
       "output_type": "stream",
       "stream": "stdout",
       "text": [
        "python2.7 mc_solver_option_test.py OpenCL_GPU \"Generate Compile\" 1000 \"black_scholes barrier 1234\";python2.7 mc_solver_option_test.py OpenCL_GPU \"Generate Compile\" 1000 \"heston european 1234\";python2.7 mc_solver_option_test.py OpenCL_GPU \"Generate Compile\" 1000 \"heston barrier 1234\";python2.7 mc_solver_option_test.py OpenCL_GPU \"Generate Compile\" 1000 \"heston double_barrier 1234\";python2.7 mc_solver_option_test.py OpenCL_GPU \"Generate Compile\" 1000 \"black_scholes asian 1234\";python2.7 mc_solver_option_test.py OpenCL_GPU \"Generate Compile\" 1000 \"heston digital_double_barrier 1234\";python2.7 mc_solver_option_test.py OpenCL_GPU \"Generate Compile\" 1000 \"black_scholes double_barrier 1234\";python2.7 mc_solver_option_test.py OpenCL_GPU \"Generate Compile\" 1000 \"heston asian 1234\";python2.7 mc_solver_option_test.py OpenCL_GPU \"Generate Compile\" 1000 \"black_scholes digital_double_barrier 1234\";\n"
       ]
      }
     ],
     "prompt_number": 6
    },
    {
     "cell_type": "code",
     "collapsed": false,
     "input": [
      "import ForwardFinancialFramework.bin.option_generator as option_generator\n",
      "\n",
      "option_tasks = [option_generator.generate_option(int(o['seed']),underlying_type=o['underlying'],option_type=o['option']) for o in options]"
     ],
     "language": "python",
     "metadata": {},
     "outputs": [],
     "prompt_number": 9
    },
    {
     "cell_type": "heading",
     "level": 3,
     "metadata": {},
     "source": [
      "Platforms"
     ]
    },
    {
     "cell_type": "code",
     "collapsed": false,
     "input": [
      "from ForwardFinancialFramework.Platforms.MulticoreCPU import MulticoreCPU_MonteCarlo, MulticoreCPU\n",
      "from ForwardFinancialFramework.Platforms.OpenCLGPU import OpenCLGPU_MonteCarlo,OpenCLGPU\n",
      "from ForwardFinancialFramework.Platforms.OpenCLAlteraFPGA import OpenCLAlteraFPGA_MonteCarlo,OpenCLAlteraFPGA\n",
      "from ForwardFinancialFramework.Platforms.MaxelerFPGA import MaxelerFPGA_MonteCarlo,MaxelerFPGA"
     ],
     "language": "python",
     "metadata": {},
     "outputs": [],
     "prompt_number": 10
    },
    {
     "cell_type": "markdown",
     "metadata": {},
     "source": [
      "Experimental Cluster details:\n",
      "\n",
      "| Number | SSH Alias      | Type               | Location                                                                  | Notes                                                                                                                                     |\n",
      "|--------|----------------|--------------------|---------------------------------------------------------------------------|-------------------------------------------------------------------------------------------------------------------------------------------|\n",
      "| 0      |                | CPU                | local                                                                     | Has desktop session running - should be noisy. Only running 7/8 threads to avoid this.                                                                                            |\n",
      "| 1      | \"ee-benjamin\"  | CPU                | Imperial College Datacentre, Imperial College London                      |                                                                                                                                           |\n",
      "| 2      | \"pi\"           | CPU                | Room 905, EEE Building, Imperial College London                           |                                                                                                                                           |\n",
      "| 3      | \"ee-mollie\"    | CPU                | Electronics Test Facility, Level 9, EEE Building, Imperial College London | Only using 7/8 threads - leaving one for FPGA                                                                                             |\n",
      "| 4      | \"phi\"          | CPU                | UCT, Cape Town, South Africa                                              | Only using 31/32 threads. Only seems to be using 24 on the host (maybe restricted by OS?).                                                |\n",
      "| 5      | ee-snowball0   | GPU                | Electronics Test Facility, Level 9, EEE Building, Imperial College London | Has X-server running.                                                                                                                     |\n",
      "| 6      | ee-snowball1   | GPU                | Electronics Test Facility, Level 9, EEE Building, Imperial College London |                                                                                                                                           |\n",
      "| 7      | ee-mollie      | Maxeler FPGA       | Electronics Test Facility, Level 9, EEE Building, Imperial College London | Have to run a dummy run, plus a trial run before each actual evaluation - something fishy is going on with the calculation initialisation |\n",
      "| 8      | ee-snowball2   | OpenCL Altera FPGA | Electronics Test Facility, Level 9, EEE Building, Imperial College London | Currently rebuilding Heston Asian, as well as Black Scholes Barrier, Double Barrier and Digital Double Barrier - causing memory leaks     |\n",
      "| 9      | \"phi\"          | OpenCL Xeon Phi    | UCT, Cape Town, South Africa                                              |                                                                                                                                           |\n",
      "| 10     | \"amazon-cpu-0\" | CPU                | US East Region, Amazon Cloud                                              |                                                                                                                                           |\n",
      "| 11     | \"amazon-cpu-1\" | CPU                | US West Region, Amazon Cloud                                              |                                                                                                                                           |\n",
      "| 12     | \"amazon-gpu-0\" | CPU                | US East Region, Amazon Cloud                                              | Only using 7/8 threads - reserving one for GPU computation                                                                                |\n",
      "| 13     | \"amazon-gpu-1\" | CPU                | US West Region, Amazon Cloud                                              | Only using 7/8 threads - reserving one for GPU computation                                                                                                                   |\n",
      "| 14     | \"amazon-gpu-0\" | GPU                | US East Region, Amazon Cloud                                              |                                                                                                                                           |\n",
      "| 15     | \"amazon-gpu-1\" | GPU                | US West Region, Amazon Cloud                                              |                                                                                                                                           |"
     ]
    },
    {
     "cell_type": "heading",
     "level": 4,
     "metadata": {},
     "source": [
      "Local Platform"
     ]
    },
    {
     "cell_type": "code",
     "collapsed": false,
     "input": [
      "platforms = [MulticoreCPU.MulticoreCPU(threads=7)] #0"
     ],
     "language": "python",
     "metadata": {},
     "outputs": [],
     "prompt_number": 11
    },
    {
     "cell_type": "heading",
     "level": 4,
     "metadata": {},
     "source": [
      "Remote CPUs"
     ]
    },
    {
     "cell_type": "code",
     "collapsed": false,
     "input": [
      "platforms += [MulticoreCPU.MulticoreCPU(remote=True,ssh_alias=\"ee-benjamin\")] #1"
     ],
     "language": "python",
     "metadata": {},
     "outputs": [],
     "prompt_number": 12
    },
    {
     "cell_type": "code",
     "collapsed": false,
     "input": [
      "platforms += [MulticoreCPU.MulticoreCPU(remote=True,ssh_alias=\"pi\")] #2"
     ],
     "language": "python",
     "metadata": {},
     "outputs": [],
     "prompt_number": 13
    },
    {
     "cell_type": "code",
     "collapsed": false,
     "input": [
      "platforms += [MulticoreCPU.MulticoreCPU(threads=7,remote=True,ssh_alias=\"ee-mollie\")] #3"
     ],
     "language": "python",
     "metadata": {},
     "outputs": [],
     "prompt_number": 14
    },
    {
     "cell_type": "code",
     "collapsed": false,
     "input": [
      "platforms += [MulticoreCPU.MulticoreCPU(threads=31,remote=True,ssh_alias=\"phi\")] #4"
     ],
     "language": "python",
     "metadata": {},
     "outputs": [],
     "prompt_number": 15
    },
    {
     "cell_type": "heading",
     "level": 4,
     "metadata": {},
     "source": [
      "Remote GPUs"
     ]
    },
    {
     "cell_type": "code",
     "collapsed": false,
     "input": [
      "platforms += [OpenCLGPU.OpenCLGPU(remote=True,ssh_alias=\"ee-snowball0\")] #5"
     ],
     "language": "python",
     "metadata": {},
     "outputs": [],
     "prompt_number": 16
    },
    {
     "cell_type": "code",
     "collapsed": false,
     "input": [
      "platforms += [OpenCLGPU.OpenCLGPU(remote=True,ssh_alias=\"ee-snowball1\")] #6"
     ],
     "language": "python",
     "metadata": {},
     "outputs": [],
     "prompt_number": 17
    },
    {
     "cell_type": "heading",
     "level": 4,
     "metadata": {},
     "source": [
      "Remote FPGAs"
     ]
    },
    {
     "cell_type": "code",
     "collapsed": false,
     "input": [
      "platforms += [MaxelerFPGA.MaxelerFPGA(remote=True,ssh_alias=\"ee-mollie\")] #7"
     ],
     "language": "python",
     "metadata": {},
     "outputs": [],
     "prompt_number": 18
    },
    {
     "cell_type": "code",
     "collapsed": false,
     "input": [
      "platforms += [OpenCLAlteraFPGA.OpenCLAlteraFPGA(remote=True,ssh_alias=\"ee-snowball2\")] #8"
     ],
     "language": "python",
     "metadata": {},
     "outputs": [],
     "prompt_number": 19
    },
    {
     "cell_type": "heading",
     "level": 4,
     "metadata": {},
     "source": [
      "Remote Xeon Phi"
     ]
    },
    {
     "cell_type": "code",
     "collapsed": false,
     "input": [
      "platforms += [OpenCLGPU.OpenCLGPU(remote=True,ssh_alias=\"phi\")] #9\n",
      "platforms[-1].device_type=8"
     ],
     "language": "python",
     "metadata": {},
     "outputs": [],
     "prompt_number": 20
    },
    {
     "cell_type": "heading",
     "level": 4,
     "metadata": {},
     "source": [
      "Cloud CPUs"
     ]
    },
    {
     "cell_type": "code",
     "collapsed": false,
     "input": [
      "platforms += [MulticoreCPU.MulticoreCPU(remote=True,ssh_alias=\"amazon-cpu-0\")] #10"
     ],
     "language": "python",
     "metadata": {},
     "outputs": [],
     "prompt_number": 21
    },
    {
     "cell_type": "code",
     "collapsed": false,
     "input": [
      "platforms += [MulticoreCPU.MulticoreCPU(remote=True,ssh_alias=\"amazon-cpu-1\")] #11"
     ],
     "language": "python",
     "metadata": {},
     "outputs": [],
     "prompt_number": 22
    },
    {
     "cell_type": "code",
     "collapsed": false,
     "input": [
      "platforms += [MulticoreCPU.MulticoreCPU(remote=True,ssh_alias=\"amazon-gpu-0\",threads=7)] #12"
     ],
     "language": "python",
     "metadata": {},
     "outputs": [],
     "prompt_number": 23
    },
    {
     "cell_type": "code",
     "collapsed": false,
     "input": [
      "platforms += [MulticoreCPU.MulticoreCPU(remote=True,ssh_alias=\"amazon-gpu-1\",threads=7)] #13"
     ],
     "language": "python",
     "metadata": {},
     "outputs": [],
     "prompt_number": 24
    },
    {
     "cell_type": "heading",
     "level": 4,
     "metadata": {},
     "source": [
      "Cloud GPUs"
     ]
    },
    {
     "cell_type": "code",
     "collapsed": false,
     "input": [
      "platforms += [OpenCLGPU.OpenCLGPU(remote=True,ssh_alias=\"amazon-gpu-0\")] #14"
     ],
     "language": "python",
     "metadata": {},
     "outputs": [],
     "prompt_number": 25
    },
    {
     "cell_type": "code",
     "collapsed": false,
     "input": [
      "platforms += [OpenCLGPU.OpenCLGPU(remote=True,ssh_alias=\"amazon-gpu-1\")] #15"
     ],
     "language": "python",
     "metadata": {},
     "outputs": [],
     "prompt_number": 26
    },
    {
     "cell_type": "heading",
     "level": 2,
     "metadata": {},
     "source": [
      "Verifying the Models"
     ]
    },
    {
     "cell_type": "markdown",
     "metadata": {},
     "source": [
      "Model Verification Procedure:\n",
      "    1. Run each task for up to (5 minutes)/128 on each platform\n",
      "    2. Generate Latency, Accuracy and Latency-Accuracy models for each task.\n",
      "    3. Combine the task models for each platform and make a prediction curve for the region of interest [5x2,5x4,5x8,5x16]\n",
      "    4. Run verification experiments so as to find that region of interest"
     ]
    },
    {
     "cell_type": "heading",
     "level": 3,
     "metadata": {},
     "source": [
      "1. Benchmark Each Task"
     ]
    },
    {
     "cell_type": "code",
     "collapsed": false,
     "input": [
      "import multiprocessing,time\n",
      "import numpy"
     ],
     "language": "python",
     "metadata": {},
     "outputs": [],
     "prompt_number": 27
    },
    {
     "cell_type": "heading",
     "level": 4,
     "metadata": {},
     "source": [
      "Constants"
     ]
    },
    {
     "cell_type": "markdown",
     "metadata": {},
     "source": [
      "* The total benchmarking time should be 5 minutes (300 seconds), however we will need to verify this with 100 times this, so 30000 seconds (8 hours, 20 minutes). This should be shared equally between all of the tasks.\n",
      "* Each task starts with 100 paths, scaled up by a factor of 2"
     ]
    },
    {
     "cell_type": "code",
     "collapsed": false,
     "input": [
      "benchmarking_time = 3000.0\n",
      "paths_start_value = 100\n",
      "benchmarking_time_per_task = benchmarking_time/len(option_tasks)"
     ],
     "language": "python",
     "metadata": {},
     "outputs": [],
     "prompt_number": 28
    },
    {
     "cell_type": "heading",
     "level": 4,
     "metadata": {},
     "source": [
      "Function used for running the benchmark on a specific platform"
     ]
    },
    {
     "cell_type": "code",
     "collapsed": false,
     "input": [
      "def platform_benchmark(platform,option_tasks,timelimit,queue,output_queue,):\n",
      "    import subprocess32 as subprocess\n",
      "    \n",
      "    for i,o in enumerate(option_tasks):\n",
      "        paths = paths_start_value\n",
      "        if(isinstance(platform,OpenCLGPU.OpenCLGPU) and platform.device_type==8): paths = 1000\n",
      "        total_time = 0.0\n",
      "        results = []\n",
      "        retries = 3\n",
      "        \n",
      "        if(isinstance(platform,MulticoreCPU.MulticoreCPU)): mc_solver = MulticoreCPU_MonteCarlo.MulticoreCPU_MonteCarlo([o],paths,platform)\n",
      "        elif(isinstance(platform,OpenCLGPU.OpenCLGPU) and platform.device_type==8):\n",
      "            mc_solver = OpenCLGPU_MonteCarlo.OpenCLGPU_MonteCarlo([o],paths,platform,kernel_path_max=1)\n",
      "        elif(isinstance(platform,OpenCLGPU.OpenCLGPU)): mc_solver = OpenCLGPU_MonteCarlo.OpenCLGPU_MonteCarlo([o],paths,platform)\n",
      "        elif(isinstance(platform,OpenCLAlteraFPGA.OpenCLAlteraFPGA)): mc_solver = OpenCLAlteraFPGA_MonteCarlo.OpenCLAlteraFPGA_MonteCarlo([o],paths,platform)\n",
      "        elif(isinstance(platform,MaxelerFPGA.MaxelerFPGA)):\n",
      "            if(\"heston\" in o.underlying[0].name): mc_solver = MaxelerFPGA_MonteCarlo.MaxelerFPGA_MonteCarlo([o],paths,platform,instances=8)\n",
      "            elif(\"black_scholes\" in o.underlying[0].name): mc_solver = MaxelerFPGA_MonteCarlo.MaxelerFPGA_MonteCarlo([o],paths,platform,instances=16)\n",
      "        \n",
      "        while(total_time < timelimit and 0 < retries):    \n",
      "            try:\n",
      "                mc_solver.paths = paths\n",
      "                mc_solver.solver_metadata[\"paths\"] = paths\n",
      "                if(isinstance(platform,MaxelerFPGA.MaxelerFPGA)):\n",
      "                    mc_solver.dummy_run()\n",
      "                    mc_solver.execute()\n",
      "                result = mc_solver.execute()\n",
      "                retries = 3\n",
      "                \n",
      "                results.append((paths,result[-1]/10e6,float(result[1])))\n",
      "                #output_queue.put_nowait((platform.ssh_alias,platform.name,(paths,result[-1]/10e6,float(result[1]))))\n",
      "        \n",
      "                total_time = result[-1]/10e6\n",
      "                \n",
      "                \n",
      "                paths *= 2\n",
      "            except subprocess.CalledProcessError as e:\n",
      "                output_queue.put_nowait(\"Error!\\nCommand:\" + str(e.cmd) + \"\\nReturn: \" + str(e.output) + \"\\nReturncode: \" + str(e.returncode) + \"\\nretries remaining: \" + str(retries))\n",
      "                retries -= 1\n",
      "        \n",
      "        if(results): \n",
      "            output_queue.put_nowait(str(i) + \" on \" + platform.ssh_alias + \"(\"+platform.name+\")\" + \": \" + str(results) + \"\\n\")\n",
      "            queue.put_nowait((platform.ssh_alias,platform.name,i,results))"
     ],
     "language": "python",
     "metadata": {},
     "outputs": [],
     "prompt_number": 29
    },
    {
     "cell_type": "heading",
     "level": 4,
     "metadata": {},
     "source": [
      "Code that launches benchmarking on separate threads"
     ]
    },
    {
     "cell_type": "code",
     "collapsed": false,
     "input": [
      "queue = multiprocessing.Queue(len(platforms)*len(option_tasks)*2)\n",
      "output_queue = multiprocessing.Queue()"
     ],
     "language": "python",
     "metadata": {},
     "outputs": [],
     "prompt_number": 30
    },
    {
     "cell_type": "code",
     "collapsed": false,
     "input": [
      "results = []\n",
      "try:\n",
      "    pool = [multiprocessing.Process(target=platform_benchmark,args=(p,option_tasks,benchmarking_time_per_task,queue,output_queue,)) for p in platforms]\n",
      "    \n",
      "    for p in pool: p.start()\n",
      "        \n",
      "    while(True):\n",
      "        while not(output_queue.empty()): print(output_queue.get())\n",
      "        while not(queue.empty()): results += [queue.get()]\n",
      "        \n",
      "        flag = True\n",
      "        for p in pool: \n",
      "            if(p.is_alive() and flag): flag = False\n",
      "        if(flag): break\n",
      "            \n",
      "        time.sleep(1)\n",
      "            \n",
      "    for p in pool: \n",
      "        p.join()\n",
      "        del p\n",
      "except KeyboardInterrupt:\n",
      "    for p in pool: \n",
      "        p.terminate()\n",
      "        del p\n",
      "\n",
      "#for p in platforms: platform_benchmark(p,option_tasks,benchmarking_time_per_task,queue,output_queue,)\n"
     ],
     "language": "python",
     "metadata": {},
     "outputs": [
      {
       "output_type": "stream",
       "stream": "stdout",
       "text": [
        "0 on ee-benjamin(multicore_cpu): [(100, 0.0816303014755249, 0.087755), (200, 0.0899442195892334, 0.175277), (400, 0.08882839679718017, 0.214078), (800, 0.06032450199127197, 0.129617), (1600, 0.08189270496368409, 0.088389), (3200, 0.06255190372467041, 0.062604), (6400, 0.08772470951080322, 0.049035), (12800, 0.07157881259918213, 0.032782), (25600, 0.08961760997772217, 0.022878), (51200, 0.1327285051345825, 0.016307), (102400, 0.16565499305725098, 0.011471), (204800, 0.2790661811828613, 0.008212), (409600, 0.450468921661377, 0.005771), (819200, 0.9606544017791748, 0.004074), (1638400, 1.6916768074035644, 0.002896), (3276800, 3.31739981174469, 0.002045), (6553600, 6.729754400253296, 0.001446), (13107200, 12.734535002708435, 0.001022), (26214400, 24.247423505783082, 0.000723)]\n",
        "\n",
        "0 on (multicore_cpu): [(100, 0.0037209033966064454, 0.703416), (200, 0.003687596321105957, 0.212956), (400, 0.00601041316986084, 0.159098), (800, 0.007126712799072265, 0.125218), (1600, 0.010211706161499023, 0.091575), (3200, 0.01439049243927002, 0.065939), (6400, 0.02759690284729004, 0.044576), (12800, 0.05564019680023193, 0.033797), (25600, 0.12001140117645263, 0.023392), (51200, 0.22187750339508056, 0.016145), (102400, 0.4481790065765381, 0.0115), (204800, 0.8897940874099731, 0.008195), (409600, 1.6833343029022216, 0.005773), (819200, 3.3859488010406493, 0.004096), (1638400, 6.723051977157593, 0.002903), (3276800, 13.212260103225708, 0.002042), (6553600, 26.845103001594545, 0.001445)]\n"
       ]
      },
      {
       "output_type": "stream",
       "stream": "stdout",
       "text": [
        "\n",
        "0 on ee-snowball0(opencl_gpu): [(100, 0.1505683183670044, 0.231374), (200, 0.07448630332946778, 0.135228), (400, 0.0638267993927002, 0.201312), (800, 0.07152049541473389, 0.155248), (1600, 0.08831620216369629, 0.078285), (3200, 0.06366169452667236, 0.068373), (6400, 0.12109439373016358, 0.050083), (12800, 0.09232430458068848, 0.031868), (25600, 0.06844100952148438, 0.022595), (51200, 0.09957139492034912, 0.016264), (102400, 0.10424988269805908, 0.011354), (204800, 0.10170121192932129, 0.008106), (409600, 0.11535429954528809, 0.005732), (819200, 0.14272029399871827, 0.004059), (1638400, 0.1860360860824585, 0.002867), (3276800, 0.29961791038513186, 0.002038), (6553600, 0.5037389993667603, 0.001442), (13107200, 0.959656810760498, 0.001017), (26214400, 1.8795866012573241, 0.00072), (52428800, 3.573977899551392, 0.000509), (104857600, 7.060398697853088, 0.00036), (209715200, 14.028993701934814, 0.000255), (419430400, 27.960428285598756, 0.00018)]\n"
       ]
      },
      {
       "output_type": "stream",
       "stream": "stdout",
       "text": [
        "\n",
        "0 on amazon-gpu-0(multicore_cpu): [(100, 0.12118780612945557, 0.703416), (200, 0.11840319633483887, 0.212956), (400, 0.1214529037475586, 0.159098), (800, 0.12417988777160645, 0.125218), (1600, 0.12602620124816893, 0.091575), (3200, 0.13541221618652344, 0.065939), (6400, 0.15143170356750488, 0.044576), (12800, 0.17562527656555177, 0.033797), (25600, 0.23320598602294923, 0.023392), (51200, 0.34133281707763674, 0.016145), (102400, 0.5594818115234375, 0.0115), (204800, 1.0556128025054932, 0.008195), (409600, 1.954977798461914, 0.005773), (819200, 3.7456165075302126, 0.004096), (1638400, 7.371091198921204, 0.002903), (3276800, 14.654585909843444, 0.002042), (6553600, 29.703989505767822, 0.001445)]\n"
       ]
      },
      {
       "output_type": "stream",
       "stream": "stdout",
       "text": [
        "\n",
        "0 on amazon-gpu-1(multicore_cpu): [(100, 0.22413737773895265, 0.703416), (200, 0.2224971055984497, 0.212956), (400, 0.2211071014404297, 0.159098), (800, 0.22202041149139404, 0.125218), (1600, 0.22612400054931642, 0.091575), (3200, 0.23543260097503663, 0.065939), (6400, 0.25401880741119387, 0.044576), (12800, 0.2769851922988892, 0.033797), (25600, 0.3346779108047485, 0.023392), (51200, 0.47104079723358155, 0.016145), (102400, 0.6640861988067627, 0.0115), (204800, 1.1269104957580567, 0.008195), (409600, 2.0428959846496584, 0.005773), (819200, 3.860294008255005, 0.004096), (1638400, 7.502180004119873, 0.002903), (3276800, 14.779688119888306, 0.002042), (6553600, 29.348505187034608, 0.001445)]\n"
       ]
      },
      {
       "output_type": "stream",
       "stream": "stdout",
       "text": [
        "\n",
        "0 on ee-mollie(multicore_cpu): [(100, 0.21108078956604004, 0.703416), (200, 0.024998903274536133, 0.212956), (400, 0.04059159755706787, 0.159098), (800, 0.0674971103668213, 0.125218), (1600, 0.03481040000915527, 0.091575), (3200, 0.041782593727111815, 0.065939), (6400, 0.09317929744720459, 0.044576), (12800, 0.11947500705718994, 0.033797), (25600, 0.2345376968383789, 0.023392), (51200, 0.31191871166229246, 0.016145), (102400, 0.6325269937515259, 0.0115), (204800, 1.1152737140655518, 0.008195), (409600, 2.2672785043716432, 0.005773), (819200, 4.347235989570618, 0.004096), (1638400, 8.719492983818053, 0.002903), (3276800, 17.172561001777648, 0.002042), (6553600, 34.627704691886905, 0.001445)]\n"
       ]
      },
      {
       "output_type": "stream",
       "stream": "stdout",
       "text": [
        "\n",
        "0 on ee-snowball1(opencl_gpu): [(100, 0.22108910083770753, 0.0), (200, 0.11458680629730225, 0.014432), (400, 0.11301541328430176, 0.274387), (800, 0.11001570224761963, 0.214908), (1600, 0.12502739429473878, 0.057237), (3200, 0.1168187141418457, 0.055309), (6400, 0.12204270362854004, 0.044362), (12800, 0.13792178630828858, 0.033779), (25600, 0.15812911987304687, 0.022953), (51200, 0.11897459030151367, 0.015669), (102400, 0.13098471164703368, 0.011484), (204800, 0.15681569576263427, 0.008139), (409600, 0.16992030143737794, 0.005757), (819200, 0.20318920612335206, 0.004022), (1638400, 0.25274028778076174, 0.002904), (3276800, 0.518839979171753, 0.002046), (6553600, 0.7045293092727661, 0.001445), (13107200, 1.250673198699951, 0.001019), (26214400, 2.3500718116760253, 0.000713), (52428800, 4.544590306282044, 0.000512), (104857600, 8.955745792388916, 0.000366), (209715200, 17.75823621749878, 0.000254), (419430400, 35.28342890739441, 0.000176)]\n"
       ]
      },
      {
       "output_type": "stream",
       "stream": "stdout",
       "text": [
        "\n",
        "0 on amazon-gpu-0(opencl_gpu): [(100, 0.12524559497833251, 0.0), (200, 0.12289721965789795, 0.014432), (400, 0.12677440643310547, 0.274387), (800, 0.12452149391174316, 0.214908), (1600, 0.1329319953918457, 0.057237), (3200, 0.12865631580352782, 0.055309), (6400, 0.13001060485839844, 0.044362), (12800, 0.13115839958190917, 0.033779), (25600, 0.13210091590881348, 0.022953), (51200, 0.13428080081939697, 0.015977), (102400, 0.13220610618591308, 0.01155), (204800, 0.14141581058502198, 0.008367), (409600, 0.14644689559936525, 0.005758), (819200, 0.16577508449554443, 0.004033), (1638400, 0.19929440021514894, 0.002864), (3276800, 0.26307590007781984, 0.002022), (6553600, 0.41838300228118896, 0.00142), (13107200, 0.695530891418457, 0.001008), (26214400, 1.2501846075057983, 0.00072), (52428800, 2.3696295976638795, 0.000513), (104857600, 4.610645294189453, 0.000368), (209715200, 9.084629201889038, 0.000256), (419430400, 18.011091804504396, 0.000178), (838860800, 36.01359121799469, 0.000126)]\n"
       ]
      },
      {
       "output_type": "stream",
       "stream": "stdout",
       "text": [
        "\n",
        "0 on amazon-gpu-1(opencl_gpu): [(100, 0.22848207950592042, 0.0), (200, 0.2251492977142334, 0.014432), (400, 0.2263037919998169, 0.274387), (800, 0.2273015022277832, 0.214908), (1600, 0.23202850818634033, 0.057237), (3200, 0.23143949508666992, 0.055309), (6400, 0.23452389240264893, 0.044362), (12800, 0.23108060359954835, 0.033779), (25600, 0.2298598051071167, 0.022953), (51200, 0.22892611026763915, 0.015977), (102400, 0.2840214014053345, 0.01155), (204800, 0.2400860071182251, 0.008367), (409600, 0.25147371292114257, 0.005758), (819200, 0.2642586946487427, 0.004033), (1638400, 0.29714288711547854, 0.002864), (3276800, 0.37351560592651367, 0.002022), (6553600, 0.5119047164916992, 0.00142), (13107200, 0.7866189002990722, 0.001008), (26214400, 1.3523226976394653, 0.00072), (52428800, 2.4648998975753784, 0.000513), (104857600, 4.70997679233551, 0.000368), (209715200, 9.185777020454406, 0.000256), (419430400, 18.112096881866456, 0.000178), (838860800, 36.11075549125671, 0.000126)]\n"
       ]
      },
      {
       "output_type": "stream",
       "stream": "stdout",
       "text": [
        "\n",
        "0 on pi(multicore_cpu): [(100, 0.1621304988861084, 0.48755), (200, 0.20956220626831054, 0.240173), (400, 0.29405460357666013, 0.156258), (800, 0.46208078861236573, 0.115865), (1600, 0.8125351905822754, 0.097467), (3200, 1.4836866855621338, 0.062644), (6400, 2.828470993041992, 0.043399), (12800, 5.531022000312805, 0.033894), (25600, 10.937033319473267, 0.022763), (51200, 21.7342346906662, 0.016335), (102400, 43.31463441848755, 0.011696)]\n"
       ]
      },
      {
       "output_type": "stream",
       "stream": "stdout",
       "text": [
        "\n",
        "0 on phi(opencl_gpu): [(1000, 1.1027748107910156, 0.227192), (2000, 0.9273206949234009, 0.162042), (4000, 1.005854320526123, 0.113894), (8000, 0.945558500289917, 0.083484), (16000, 2.275494694709778, 0.058602), (32000, 2.2923506021499636, 0.041974), (64000, 2.387104105949402, 0.029574), (128000, 2.1811371088027953, 0.020482), (256000, 2.4331092834472656, 0.014631), (512000, 2.623153495788574, 0.010318), (1024000, 2.4087388038635256, 0.007291), (2048000, 3.4033423900604247, 0.00516), (4096000, 4.578109002113342, 0.00365), (8192000, 5.896518111228943, 0.002579), (16384000, 9.393016386032105, 0.001827), (32768000, 17.579820895195006, 0.00129), (65536000, 31.99925410747528, 0.000912)]\n"
       ]
      },
      {
       "output_type": "stream",
       "stream": "stdout",
       "text": [
        "\n",
        "0 on amazon-cpu-0(multicore_cpu): [(100, 0.13465170860290526, 0.362144), (200, 0.13466839790344237, 0.323232), (400, 0.1365509033203125, 0.154286), (800, 0.1348867893218994, 0.118888), (1600, 0.1385133981704712, 0.09314), (3200, 0.1399487018585205, 0.060792), (6400, 0.14554431438446044, 0.047104), (12800, 0.1579463005065918, 0.033187), (25600, 0.18258159160614013, 0.023103), (51200, 0.22823429107666016, 0.016402), (102400, 0.316103196144104, 0.01151), (204800, 0.5037480115890502, 0.008246), (409600, 0.8625247001647949, 0.005771), (819200, 1.5840710163116456, 0.004072), (1638400, 3.025175595283508, 0.002892), (3276800, 5.927870297431946, 0.002045), (6553600, 11.869220089912414, 0.001446), (13107200, 23.21718909740448, 0.001023), (26214400, 46.29096398353577, 0.000722)]\n"
       ]
      },
      {
       "output_type": "stream",
       "stream": "stdout",
       "text": [
        "\n",
        "0 on amazon-cpu-1(multicore_cpu): [(100, 0.22981679439544678, 0.362144), (200, 0.2247365951538086, 0.323232), (400, 0.22813680171966552, 0.154286), (800, 0.22713661193847656, 0.118888), (1600, 0.2350614070892334, 0.09314), (3200, 0.23651771545410155, 0.060792), (6400, 0.24153571128845214, 0.047104), (12800, 0.2539879083633423, 0.033187), (25600, 0.2752456903457642, 0.023103), (51200, 0.3206912994384766, 0.016402), (102400, 0.40948669910430907, 0.01151), (204800, 0.5915480852127075, 0.008246), (409600, 0.9492938995361329, 0.005771), (819200, 1.7026962041854858, 0.004072), (1638400, 3.1144245147705076, 0.002892), (3276800, 6.085464596748352, 0.002045), (6553600, 11.766280007362365, 0.001446), (13107200, 23.3067106962204, 0.001023), (26214400, 46.3795273065567, 0.000722)]\n"
       ]
      },
      {
       "output_type": "stream",
       "stream": "stdout",
       "text": [
        "\n",
        "0 on phi(multicore_cpu): [(100, 0.3477169036865234, 0.382982), (200, 0.3516422986984253, 0.202983), (400, 0.34754831790924073, 0.179775), (800, 0.3526132106781006, 0.094302), (1600, 0.3547609090805054, 0.100819), (3200, 0.3591275215148926, 0.065728), (6400, 0.36737420558929446, 0.046649), (12800, 0.3968655109405518, 0.033874), (25600, 0.40712411403656007, 0.022802), (51200, 0.454866886138916, 0.016158), (102400, 0.5621897220611572, 0.011578), (204800, 0.8005418062210083, 0.008169), (409600, 1.0911214828491211, 0.005771), (819200, 1.897309994697571, 0.004082), (1638400, 3.3870657205581667, 0.002894), (3276800, 6.5647976160049435, 0.002047), (6553600, 11.773511815071107, 0.001444), (13107200, 22.866407895088194, 0.001022), (26214400, 44.97811939716339, 0.000723)]\n"
       ]
      },
      {
       "output_type": "stream",
       "stream": "stdout",
       "text": [
        "\n",
        "1 on ee-benjamin(multicore_cpu): [(100, 0.08853108882904052, 0.037887), (200, 0.08277170658111573, 0.293171), (400, 0.08063690662384033, 0.138532), (800, 0.07691841125488282, 0.097938), (1600, 0.08031871318817138, 0.074254), (3200, 0.08243100643157959, 0.050013), (6400, 0.0941931962966919, 0.036027), (12800, 0.0959542989730835, 0.025028), (25600, 0.10317139625549317, 0.017199), (51200, 0.13650000095367432, 0.012174), (102400, 0.1878093957901001, 0.008765), (204800, 0.294538688659668, 0.006263), (409600, 0.5001888036727905, 0.004347), (819200, 0.9505781888961792, 0.003118), (1638400, 1.6439810991287231, 0.002199), (3276800, 3.3333210945129395, 0.001552), (6553600, 6.118825316429138, 0.001096), (13107200, 12.353930902481078, 0.000776), (26214400, 25.604234981536866, 0.000549)]\n"
       ]
      },
      {
       "output_type": "stream",
       "stream": "stdout",
       "text": [
        "\n",
        "1 on (multicore_cpu): [(100, 0.0014991998672485352, 0.466243), (200, 0.00188751220703125, 0.175563), (400, 0.00244140625, 0.136901), (800, 0.004676914215087891, 0.092645), (1600, 0.010181307792663574, 0.075), (3200, 0.01782801151275635, 0.048219), (6400, 0.03240668773651123, 0.035864), (12800, 0.05685648918151855, 0.023564), (25600, 0.11045567989349366, 0.017309), (51200, 0.2165766954421997, 0.012418), (102400, 0.42520389556884763, 0.008649), (204800, 0.8362336874008178, 0.006175), (409600, 1.7170865058898925, 0.004373), (819200, 3.3553441047668455, 0.003114), (1638400, 6.644105005264282, 0.002196), (3276800, 13.33252580165863, 0.00155), (6553600, 26.5706237077713, 0.001098)]\n"
       ]
      },
      {
       "output_type": "stream",
       "stream": "stdout",
       "text": [
        "\n",
        "0 on ee-snowball2(opencl_alterafpga): [(100, 0.2727691173553467, 0.301263), (200, 0.1404541015625, 0.273611), (400, 0.18002538681030272, 0.114455), (800, 0.17528340816497803, 0.167544), (1600, 0.16611979007720948, 0.084308), (3200, 0.14009428024291992, 0.07133), (6400, 0.1998826026916504, 0.044361), (12800, 0.2465569019317627, 0.029569), (25600, 0.36749188899993895, 0.022722), (51200, 0.8559173107147217, 0.016402), (102400, 4.472070598602295, 0.011935), (204800, 20.842500591278075, 0.00789), (409600, 85.68902549743652, 0.005762)]\n"
       ]
      },
      {
       "output_type": "stream",
       "stream": "stdout",
       "text": [
        "\n",
        "1 on ee-snowball0(opencl_gpu): [(100, 0.10404138565063477, 0.264623), (200, 0.09114279747009277, 0.147044), (400, 0.09108169078826904, 0.121526), (800, 0.09170339107513428, 0.105186), (1600, 0.0891678810119629, 0.066121), (3200, 0.09979259967803955, 0.052231), (6400, 0.09557650089263917, 0.030284), (12800, 0.0994379997253418, 0.023903), (25600, 0.09454028606414795, 0.017627), (51200, 0.087972092628479, 0.013277), (102400, 0.09418301582336426, 0.008862), (204800, 0.09863588809967042, 0.00624), (409600, 0.1244318962097168, 0.004457), (819200, 0.1375870943069458, 0.00312), (1638400, 0.19618659019470214, 0.002206), (3276800, 0.3045629978179932, 0.001556), (6553600, 0.5276390075683594, 0.001099), (13107200, 0.9728202104568482, 0.000779), (26214400, 1.858402705192566, 0.00055), (52428800, 3.602578282356262, 0.000388), (104857600, 7.084952116012573, 0.000275), (209715200, 14.055863499641418, 0.000194), (419430400, 27.953931403160095, 0.000137)]\n"
       ]
      },
      {
       "output_type": "stream",
       "stream": "stdout",
       "text": [
        "\n",
        "1 on amazon-gpu-0(multicore_cpu): [(100, 0.12273261547088624, 0.466243), (200, 0.1222944974899292, 0.175563), (400, 0.12346169948577881, 0.136901), (800, 0.12401089668273926, 0.092645), (1600, 0.12686288356781006, 0.075), (3200, 0.13813347816467286, 0.048219), (6400, 0.1490636110305786, 0.035864), (12800, 0.1780221939086914, 0.023564), (25600, 0.2350759983062744, 0.017309), (51200, 0.34663989543914797, 0.012418), (102400, 0.5748260974884033, 0.008649), (204800, 1.0283688068389893, 0.006175), (409600, 1.9342807054519653, 0.004373), (819200, 3.752824807167053, 0.003114), (1638400, 7.328814601898193, 0.002196), (3276800, 14.629144883155822, 0.00155), (6553600, 29.187703704833986, 0.001098)]\n"
       ]
      },
      {
       "output_type": "stream",
       "stream": "stdout",
       "text": [
        "\n",
        "0 on ee-mollie(maxeler_fpga): [(100, 0.05441160202026367, 0.172144), (200, 0.028468799591064454, 0.193275), (400, 0.02955350875854492, 0.139192), (800, 0.04302108287811279, 0.098812), (1600, 0.06145501136779785, 0.071399), (3200, 0.061389708518981935, 0.069196), (6400, 0.055233097076416014, 0.042044), (12800, 0.06165328025817871, 0.029455), (25600, 0.06641199588775634, 0.023485), (51200, 0.06614031791687011, 0.015865), (102400, 0.07568240165710449, 0.011898), (204800, 0.1237166166305542, 0.008329), (409600, 0.10715909004211426, 0.005629), (819200, 0.16606900691986085, 0.004159), (1638400, 0.3218235969543457, 0.002883), (3276800, 0.5155980825424195, 0.002055), (6553600, 0.9890596151351929, 0.001443), (13107200, 1.8838258981704712, 0.001021), (26214400, 3.602390098571777, 0.000722), (52428800, 7.227392196655273, 0.00051), (104857600, 14.24765648841858, 0.000362), (209715200, 28.33673028945923, 0.000256)]\n"
       ]
      },
      {
       "output_type": "stream",
       "stream": "stdout",
       "text": [
        "\n",
        "1 on amazon-gpu-1(multicore_cpu): [(100, 0.22286570072174072, 0.466243), (200, 0.22397260665893554, 0.175563), (400, 0.22707090377807618, 0.136901), (800, 0.22629048824310302, 0.092645), (1600, 0.22960550785064698, 0.075), (3200, 0.23744490146636962, 0.048219), (6400, 0.25445630550384524, 0.035864), (12800, 0.2796285152435303, 0.023564), (25600, 0.33712608814239503, 0.017309), (51200, 0.45488600730895995, 0.012418), (102400, 0.6761369943618775, 0.008649), (204800, 1.133068585395813, 0.006175), (409600, 2.0501414060592653, 0.004373), (819200, 3.8629393100738527, 0.003114), (1638400, 7.504328393936158, 0.002196), (3276800, 14.94281849861145, 0.00155), (6553600, 30.085399317741395, 0.001098)]\n"
       ]
      },
      {
       "output_type": "stream",
       "stream": "stdout",
       "text": [
        "\n",
        "1 on ee-mollie(multicore_cpu): [(100, 0.09580509662628174, 0.466243), (200, 0.049219608306884766, 0.175563), (400, 0.0509613037109375, 0.136901), (800, 0.04974629878997803, 0.092645), (1600, 0.05458838939666748, 0.075), (3200, 0.06544530391693115, 0.048219), (6400, 0.08153669834136963, 0.035864), (12800, 0.11312079429626465, 0.023564), (25600, 0.21533591747283937, 0.017309), (51200, 0.31662259101867674, 0.012418), (102400, 0.6369096040725708, 0.008649), (204800, 1.164328694343567, 0.006175), (409600, 2.2707658052444457, 0.004373), (819200, 4.416415500640869, 0.003114), (1638400, 8.733809280395509, 0.002196), (3276800, 17.414067006111146, 0.00155), (6553600, 34.59838540554047, 0.001098)]\n"
       ]
      },
      {
       "output_type": "stream",
       "stream": "stdout",
       "text": [
        "\n",
        "1 on ee-snowball1(opencl_gpu): [(100, 0.15536010265350342, 0.0), (200, 0.10994400978088378, 0.191974), (400, 0.12997808456420898, 0.036428), (800, 0.12915940284729005, 0.092747), (1600, 0.13764820098876954, 0.085432), (3200, 0.13714971542358398, 0.040515), (6400, 0.1300633192062378, 0.044676), (12800, 0.1309345006942749, 0.023227), (25600, 0.16673750877380372, 0.015812), (51200, 0.14007158279418946, 0.012266), (102400, 0.14200301170349122, 0.008592), (204800, 0.15604958534240723, 0.006151), (409600, 0.1788630962371826, 0.004383), (819200, 0.19932479858398439, 0.003069), (1638400, 0.30474832057952883, 0.002178), (3276800, 0.4170875072479248, 0.001546), (6553600, 0.6864820003509522, 0.001078), (13107200, 1.2499181985855103, 0.000786), (26214400, 2.346993613243103, 0.000546), (52428800, 4.559035587310791, 0.000392), (104857600, 8.94244110584259, 0.000275), (209715200, 17.740294289588928, 0.000189), (419430400, 35.37027201652527, 0.000138)]\n"
       ]
      },
      {
       "output_type": "stream",
       "stream": "stdout",
       "text": [
        "\n",
        "1 on amazon-cpu-1(multicore_cpu): [(100, 0.22223570346832275, 0.210725), (200, 0.23411238193511963, 0.237995), (400, 0.2312174081802368, 0.122871), (800, 0.2297218084335327, 0.085978), (1600, 0.23197050094604493, 0.06156), (3200, 0.23668968677520752, 0.048934), (6400, 0.24338929653167723, 0.0338), (12800, 0.25188360214233396, 0.025666), (25600, 0.2777940034866333, 0.01769), (51200, 0.3212963819503784, 0.012486), (102400, 0.4132059097290039, 0.008623), (204800, 0.5980449914932251, 0.006203), (409600, 0.9544047117233276, 0.004388), (819200, 1.6856761932373048, 0.003099), (1638400, 3.1346357107162475, 0.002197), (3276800, 6.053880596160889, 0.00155), (6553600, 12.072322583198547, 0.001095), (13107200, 23.451127791404723, 0.000776)]\n"
       ]
      },
      {
       "output_type": "stream",
       "stream": "stdout",
       "text": [
        "\n",
        "1 on amazon-gpu-0(opencl_gpu): [(100, 0.13110799789428712, 0.367242), (200, 0.13090059757232667, 0.035995), (400, 0.12946851253509523, 0.061122), (800, 0.13000819683074952, 0.156292), (1600, 0.1331022024154663, 0.061399), (3200, 0.13355398178100586, 0.065446), (6400, 0.13162169456481934, 0.032442), (12800, 0.1347930908203125, 0.020659), (25600, 0.1331347942352295, 0.017646), (51200, 0.13258137702941894, 0.012889), (102400, 0.1346811056137085, 0.008904), (204800, 0.14204812049865723, 0.006143), (409600, 0.1476375102996826, 0.004364), (819200, 0.16514720916748046, 0.00307), (1638400, 0.1974097967147827, 0.002165), (3276800, 0.2668665885925293, 0.001544), (6553600, 0.4089348793029785, 0.001105), (13107200, 0.6876338005065918, 0.000765), (26214400, 1.2545399904251098, 0.000549), (52428800, 2.368678402900696, 0.000392), (104857600, 4.606758499145508, 0.000268), (209715200, 9.08312520980835, 0.000194), (419430400, 18.04573941230774, 0.000137), (838860800, 36.02432060241699, 9.8e-05)]\n"
       ]
      },
      {
       "output_type": "stream",
       "stream": "stdout",
       "text": [
        "\n",
        "1 on phi(multicore_cpu): [(100, 0.3509056806564331, 0.236069), (200, 0.3505029916763306, 0.187464), (400, 0.35325260162353517, 0.165571), (800, 0.3503186941146851, 0.081157), (1600, 0.3522844076156616, 0.069465), (3200, 0.3542586088180542, 0.049575), (6400, 0.3641442060470581, 0.037906), (12800, 0.3805452823638916, 0.024337), (25600, 0.3998100996017456, 0.017652), (51200, 0.4625372886657715, 0.012465), (102400, 0.5686836957931518, 0.00866), (204800, 0.7291927099227905, 0.006223), (409600, 1.1590752124786377, 0.004371), (819200, 1.8527271032333374, 0.003118), (1638400, 3.3864892959594726, 0.002198), (3276800, 6.471957588195801, 0.001556), (6553600, 11.613833785057068, 0.001097), (13107200, 24.377250409126283, 0.000776)]\n"
       ]
      },
      {
       "output_type": "stream",
       "stream": "stdout",
       "text": [
        "\n",
        "2 on ee-benjamin(multicore_cpu): [(100, 0.08214769363403321, 0.319292), (200, 0.07680962085723878, 0.274767), (400, 0.0786027193069458, 0.186957), (800, 0.08133628368377685, 0.144413), (1600, 0.07321350574493408, 0.098403), (3200, 0.07929840087890624, 0.072848), (6400, 0.08730030059814453, 0.054429), (12800, 0.09073030948638916, 0.036213), (25600, 0.10717258453369141, 0.025999), (51200, 0.13264310359954834, 0.018394), (102400, 0.1839902877807617, 0.012793), (204800, 0.3007890939712524, 0.009127), (409600, 0.4981194019317627, 0.006468), (819200, 0.8934363842010498, 0.004587), (1638400, 1.7225101947784425, 0.003226), (3276800, 3.0145381927490233, 0.002289), (6553600, 6.375993800163269, 0.001619), (13107200, 11.688951587677002, 0.001144), (26214400, 25.065922713279726, 0.000808)]\n"
       ]
      },
      {
       "output_type": "stream",
       "stream": "stdout",
       "text": [
        "\n",
        "1 on amazon-gpu-1(opencl_gpu): [(100, 0.23592979907989503, 0.367242), (200, 0.23050470352172853, 0.035995), (400, 0.23186089992523193, 0.061122), (800, 0.23085980415344237, 0.156292), (1600, 0.23474559783935547, 0.061399), (3200, 0.23538382053375245, 0.065446), (6400, 0.2357762098312378, 0.032442), (12800, 0.2348876953125, 0.020659), (25600, 0.23504219055175782, 0.017646), (51200, 0.232271409034729, 0.012889), (102400, 0.23407158851623536, 0.008904), (204800, 0.23970770835876465, 0.006143), (409600, 0.2494040012359619, 0.004364), (819200, 0.26344568729400636, 0.00307), (1638400, 0.3021993160247803, 0.002165), (3276800, 0.3725306987762451, 0.001544), (6553600, 0.51186101436615, 0.001105), (13107200, 0.7907271146774292, 0.000765), (26214400, 1.3560662984848022, 0.000549), (52428800, 2.467726397514343, 0.000392), (104857600, 4.705205512046814, 0.000268), (209715200, 9.188808584213257, 0.000194), (419430400, 18.147324991226196, 0.000137), (838860800, 36.12933712005615, 9.8e-05)]\n"
       ]
      },
      {
       "output_type": "stream",
       "stream": "stdout",
       "text": [
        "\n",
        "2 on (multicore_cpu): [(100, 0.0016279935836791993, 0.375882), (200, 0.002189493179321289, 0.227597), (400, 0.0032958030700683595, 0.194103), (800, 0.0046088933944702145, 0.154406), (1600, 0.008457803726196289, 0.097078), (3200, 0.014223814010620117, 0.074135), (6400, 0.02714660167694092, 0.051474), (12800, 0.06060259342193604, 0.034985), (25600, 0.10542449951171876, 0.025703), (51200, 0.22388381958007814, 0.01842), (102400, 0.4159512996673584, 0.012726), (204800, 0.8586748123168946, 0.009212), (409600, 1.6620544910430908, 0.006473), (819200, 3.326366114616394, 0.004578), (1638400, 6.694674992561341, 0.003232), (3276800, 13.277520108222962, 0.002281), (6553600, 26.58890368938446, 0.001617)]\n"
       ]
      },
      {
       "output_type": "stream",
       "stream": "stdout",
       "text": [
        "\n",
        "2 on ee-snowball0(opencl_gpu): [(100, 0.0845534086227417, 0.347583), (200, 0.09790380001068115, 0.352574), (400, 0.09902679920196533, 0.133309), (800, 0.09504959583282471, 0.146052), (1600, 0.09290339946746826, 0.101467), (3200, 0.08920519351959229, 0.075688), (6400, 0.12550630569458007, 0.05071), (12800, 0.08740928173065185, 0.03557), (25600, 0.0881314992904663, 0.026133), (51200, 0.08623390197753907, 0.018246), (102400, 0.08997061252593994, 0.013149), (204800, 0.09720659255981445, 0.009113), (409600, 0.11877250671386719, 0.006486), (819200, 0.13768491744995118, 0.004538), (1638400, 0.18947999477386473, 0.00321), (3276800, 0.30224587917327883, 0.002274), (6553600, 0.6276277065277099, 0.001611), (13107200, 0.9693618059158325, 0.001137), (26214400, 1.836124587059021, 0.000805), (52428800, 3.5814712047576904, 0.00057), (104857600, 7.067357397079467, 0.000403), (209715200, 14.022844982147216, 0.000285), (419430400, 27.955115509033202, 0.000201)]\n"
       ]
      },
      {
       "output_type": "stream",
       "stream": "stdout",
       "text": [
        "\n",
        "1 on pi(multicore_cpu): [(100, 0.1642293930053711, 0.202574), (200, 0.20501790046691895, 0.15805), (400, 0.29280829429626465, 0.137441), (800, 0.45976738929748534, 0.099557), (1600, 0.806406807899475, 0.066437), (3200, 1.4721676111221313, 0.048768), (6400, 2.824851417541504, 0.033592), (12800, 5.515156698226929, 0.025221), (25600, 10.927249813079834, 0.018516), (51200, 21.699067807197572, 0.012347), (102400, 43.238549780845645, 0.008915)]\n"
       ]
      },
      {
       "output_type": "stream",
       "stream": "stdout",
       "text": [
        "\n",
        "2 on amazon-gpu-0(multicore_cpu): [(100, 0.12308270931243896, 0.375882), (200, 0.12421889305114746, 0.227597), (400, 0.12121238708496093, 0.194103), (800, 0.12479951381683349, 0.154406), (1600, 0.12623789310455322, 0.097078), (3200, 0.13769230842590333, 0.074135), (6400, 0.14936540126800538, 0.051474), (12800, 0.18007781505584716, 0.034985), (25600, 0.23528120517730713, 0.025703), (51200, 0.34639458656311034, 0.01842), (102400, 0.5871406078338623, 0.012726), (204800, 1.0323709964752197, 0.009212), (409600, 1.935635781288147, 0.006473), (819200, 3.7525306940078735, 0.004578), (1638400, 7.376728487014771, 0.003232), (3276800, 14.556392502784728, 0.002281), (6553600, 29.193429398536683, 0.001617)]\n"
       ]
      },
      {
       "output_type": "stream",
       "stream": "stdout",
       "text": [
        "\n",
        "1 on phi(opencl_gpu): [(1000, 0.9933957099914551, 0.192137), (2000, 0.9939445972442627, 0.135612), (4000, 0.9651989936828613, 0.101249), (8000, 0.9733288049697876, 0.073674), (16000, 2.1706960201263428, 0.053475), (32000, 2.290490984916687, 0.036163), (64000, 2.2444977045059202, 0.025963), (128000, 2.449926495552063, 0.018165), (256000, 2.233205795288086, 0.012846), (512000, 2.5594388008117677, 0.009065), (1024000, 2.387930703163147, 0.006427), (2048000, 3.501964282989502, 0.004543), (4096000, 4.270244216918945, 0.003214), (8192000, 6.541956496238709, 0.002272), (16384000, 9.28233208656311, 0.001608), (32768000, 16.92905080318451, 0.001135), (65536000, 31.93018569946289, 0.000802)]\n"
       ]
      },
      {
       "output_type": "stream",
       "stream": "stdout",
       "text": [
        "\n",
        "2 on amazon-gpu-1(multicore_cpu): [(100, 0.22552869319915772, 0.375882), (200, 0.22291748523712157, 0.227597), (400, 0.22479279041290284, 0.194103), (800, 0.2275005102157593, 0.154406), (1600, 0.234254789352417, 0.097078), (3200, 0.23539679050445556, 0.074135), (6400, 0.25302579402923586, 0.051474), (12800, 0.27968549728393555, 0.034985), (25600, 0.33591771125793457, 0.025703), (51200, 0.45164468288421633, 0.01842), (102400, 0.6789541006088257, 0.012726), (204800, 1.1559545993804932, 0.009212), (409600, 2.042646384239197, 0.006473), (819200, 3.8655655860900877, 0.004578), (1638400, 7.503494596481323, 0.003232), (3276800, 14.691165709495545, 0.002281), (6553600, 29.25485770702362, 0.001617)]\n"
       ]
      },
      {
       "output_type": "stream",
       "stream": "stdout",
       "text": [
        "\n",
        "1 on amazon-cpu-0(multicore_cpu): [(100, 0.13366918563842772, 0.210725), (200, 0.13532679080963134, 0.237995), (400, 0.13747339248657225, 0.122871), (800, 0.13674440383911132, 0.085978), (1600, 0.14022068977355956, 0.06156), (3200, 0.1427314043045044, 0.048934), (6400, 0.14995369911193848, 0.0338), (12800, 0.16218211650848388, 0.025666), (25600, 0.18233120441436768, 0.01769), (51200, 0.22743520736694336, 0.012486), (102400, 0.31703958511352537, 0.008623), (204800, 0.5012215137481689, 0.006203), (409600, 0.8595022916793823, 0.004388), (819200, 1.5792871952056884, 0.003099), (1638400, 3.0231553077697755, 0.002197), (3276800, 5.947142696380615, 0.00155), (6553600, 11.67219910621643, 0.001095), (13107200, 23.211536598205566, 0.000776), (26214400, 46.292156386375424, 0.000548)]\n"
       ]
      },
      {
       "output_type": "stream",
       "stream": "stdout",
       "text": [
        "\n",
        "3 on ee-benjamin(multicore_cpu): [(100, 0.12056779861450195, 0.270349), (200, 0.09485449790954589, 0.282617), (400, 0.08690359592437744, 0.184197), (800, 0.08769128322601319, 0.135628), (1600, 0.05722100734710693, 0.102168), (3200, 0.09025940895080567, 0.065872), (6400, 0.08253300189971924, 0.050484), (12800, 0.0913707971572876, 0.033468), (25600, 0.10605330467224121, 0.024371), (51200, 0.13843171596527098, 0.017039), (102400, 0.19320549964904785, 0.012092), (204800, 0.2955026149749756, 0.008463), (409600, 0.5258319139480591, 0.006038), (819200, 0.9521245002746582, 0.004264), (1638400, 1.7372965812683105, 0.003023), (3276800, 3.4933006048202513, 0.002137), (6553600, 6.947211813926697, 0.001512), (13107200, 12.677584290504456, 0.001067), (26214400, 24.937841486930846, 0.000756)]\n"
       ]
      },
      {
       "output_type": "stream",
       "stream": "stdout",
       "text": [
        "\n",
        "2 on ee-mollie(multicore_cpu): [(100, 0.09252867698669434, 0.375882), (200, 0.030582189559936523, 0.227597), (400, 0.051983094215393065, 0.194103), (800, 0.05404860973358154, 0.154406), (1600, 0.058239197731018065, 0.097078), (3200, 0.069610595703125, 0.074135), (6400, 0.083778715133667, 0.051474), (12800, 0.11593141555786132, 0.034985), (25600, 0.22937779426574706, 0.025703), (51200, 0.31942770481109617, 0.01842), (102400, 0.6492486000061035, 0.012726), (204800, 1.1426615953445434, 0.009212), (409600, 2.2218788862228394, 0.006473), (819200, 4.389754319190979, 0.004578), (1638400, 8.72444269657135, 0.003232), (3276800, 17.325470209121704, 0.002281), (6553600, 34.78167538642883, 0.001617)]\n"
       ]
      },
      {
       "output_type": "stream",
       "stream": "stdout",
       "text": [
        "\n",
        "3 on (multicore_cpu): [(100, 0.0017718076705932617, 0.309442), (200, 0.002057003974914551, 0.204453), (400, 0.003448796272277832, 0.195498), (800, 0.00424959659576416, 0.13705), (1600, 0.00747368335723877, 0.103642), (3200, 0.014329004287719726, 0.069674), (6400, 0.027187108993530273, 0.047653), (12800, 0.05859029293060303, 0.034383), (25600, 0.1431171178817749, 0.024195), (51200, 0.21237680912017823, 0.017137), (102400, 0.4408987045288086, 0.012147), (204800, 0.8560921907424927, 0.008564), (409600, 1.6858613967895508, 0.006049), (819200, 3.3493608951568605, 0.004265), (1638400, 6.7042484998703005, 0.003017), (3276800, 13.260226702690124, 0.002134), (6553600, 26.68052818775177, 0.00151)]\n"
       ]
      },
      {
       "output_type": "stream",
       "stream": "stdout",
       "text": [
        "\n",
        "2 on ee-snowball1(opencl_gpu): [(100, 0.17793898582458495, 0.0), (200, 0.12802610397338868, 0.120853), (400, 0.12918241024017335, 0.117938), (800, 0.13476498126983644, 0.164325), (1600, 0.1410750150680542, 0.102067), (3200, 0.12992579936981202, 0.069612), (6400, 0.1300853967666626, 0.04547), (12800, 0.1388859987258911, 0.036722), (25600, 0.13506500720977782, 0.024049), (51200, 0.13282060623168945, 0.017435), (102400, 0.13702712059020997, 0.012754), (204800, 0.15285730361938477, 0.008993), (409600, 0.17317240238189696, 0.006448), (819200, 0.1981997013092041, 0.004628), (1638400, 0.2702775001525879, 0.003166), (3276800, 0.42308318614959717, 0.002267), (6553600, 0.7334813117980957, 0.001653), (13107200, 1.2498765945434571, 0.001144), (26214400, 2.348217082023621, 0.000815), (52428800, 4.572505402565002, 0.000572), (104857600, 8.959200787544251, 0.000403), (209715200, 17.756858396530152, 0.000287), (419430400, 35.24381120204926, 0.000203)]\n"
       ]
      },
      {
       "output_type": "stream",
       "stream": "stdout",
       "text": [
        "\n",
        "2 on amazon-gpu-0(opencl_gpu): [(100, 0.12982499599456787, 0.346959), (200, 0.1267237901687622, 0.32628), (400, 0.12601890563964843, 0.166389), (800, 0.12887840270996093, 0.097808), (1600, 0.13438038825988768, 0.09006), (3200, 0.1321727991104126, 0.073678), (6400, 0.13486061096191407, 0.046289), (12800, 0.13394589424133302, 0.034466), (25600, 0.1325674057006836, 0.025121), (51200, 0.13174281120300294, 0.018261), (102400, 0.13183400630950928, 0.012729), (204800, 0.137624192237854, 0.009223), (409600, 0.14876351356506348, 0.006441), (819200, 0.16183121204376222, 0.004514), (1638400, 0.19729218482971192, 0.003265), (3276800, 0.2689365863800049, 0.00228), (6553600, 0.41123669147491454, 0.001635), (13107200, 0.6910686016082763, 0.00114), (26214400, 1.252095890045166, 0.000801), (52428800, 2.3713935136795046, 0.00057), (104857600, 4.598709988594055, 0.000407), (209715200, 9.086197018623352, 0.000286), (419430400, 18.05644359588623, 0.000201), (838860800, 35.952835488319394, 0.000143)]\n"
       ]
      },
      {
       "output_type": "stream",
       "stream": "stdout",
       "text": [
        "\n",
        "1 on ee-snowball2(opencl_alterafpga): [(100, 0.2214447021484375, 0.417564), (200, 0.17590160369873048, 0.179111), (400, 0.16066370010375977, 0.115474), (800, 0.2064530849456787, 0.085938), (1600, 0.16526391506195068, 0.067173), (3200, 0.2132404088973999, 0.04135), (6400, 0.2201328992843628, 0.039621), (12800, 0.23610610961914064, 0.022137), (25600, 0.4024972915649414, 0.017004), (51200, 0.8745682954788208, 0.011866), (102400, 4.500430703163147, 0.009131), (204800, 20.220973896980286, 0.006668), (409600, 88.98009641170502, 0.004318)]\n"
       ]
      },
      {
       "output_type": "stream",
       "stream": "stdout",
       "text": [
        "\n",
        "3 on ee-snowball0(opencl_gpu): [(100, 0.09164810180664062, 0.228521), (200, 0.08363170623779297, 0.329015), (400, 0.08016390800476074, 0.177067), (800, 0.08609488010406494, 0.139343), (1600, 0.08316469192504883, 0.092365), (3200, 0.08179569244384766, 0.068526), (6400, 0.11045799255371094, 0.049214), (12800, 0.09619381427764892, 0.035142), (25600, 0.09154109954833985, 0.024375), (51200, 0.09122068881988525, 0.017282), (102400, 0.09065780639648438, 0.012162), (204800, 0.09607510566711426, 0.008568), (409600, 0.12768349647521973, 0.006035), (819200, 0.14324591159820557, 0.0043), (1638400, 0.20150189399719237, 0.00303), (3276800, 0.31276679039001465, 0.002142), (6553600, 0.5334779024124146, 0.001511), (13107200, 0.9773839950561524, 0.001072), (26214400, 1.857470703125, 0.000757), (52428800, 3.571224403381348, 0.000535), (104857600, 7.0559698104858395, 0.000379), (209715200, 14.023160791397094, 0.000268), (419430400, 27.95506191253662, 0.000189)]\n"
       ]
      },
      {
       "output_type": "stream",
       "stream": "stdout",
       "text": [
        "\n",
        "2 on amazon-gpu-1(opencl_gpu): [(100, 0.22997031211853028, 0.346959), (200, 0.2304399013519287, 0.32628), (400, 0.23450732231140137, 0.166389), (800, 0.23040440082550048, 0.097808), (1600, 0.2362504005432129, 0.09006), (3200, 0.2372819185256958, 0.073678), (6400, 0.23307178020477295, 0.046289), (12800, 0.2328927993774414, 0.034466), (25600, 0.23302960395812988, 0.025121), (51200, 0.431899094581604, 0.018261), (102400, 0.2370283842086792, 0.012729), (204800, 0.23874669075012206, 0.009223), (409600, 0.24784951210021972, 0.006441), (819200, 0.2690732002258301, 0.004514), (1638400, 0.30294251441955566, 0.003265), (3276800, 0.3717997074127197, 0.00228), (6553600, 0.5070939779281616, 0.001635), (13107200, 0.7940332174301148, 0.00114), (26214400, 1.345091986656189, 0.000801), (52428800, 2.4692119121551515, 0.00057), (104857600, 4.699877309799194, 0.000407), (209715200, 9.189349293708801, 0.000286), (419430400, 18.15656981468201, 0.000201), (838860800, 36.05782828330994, 0.000143)]\n"
       ]
      },
      {
       "output_type": "stream",
       "stream": "stdout",
       "text": [
        "\n",
        "3 on amazon-gpu-0(multicore_cpu): [(100, 0.12141289710998535, 0.309442), (200, 0.12373418807983398, 0.204453), (400, 0.12460157871246338, 0.195498), (800, 0.12636730670928956, 0.13705), (1600, 0.12835590839385985, 0.103642), (3200, 0.13550570011138915, 0.069674), (6400, 0.15151169300079345, 0.047653), (12800, 0.17812600135803222, 0.034383), (25600, 0.23260228633880614, 0.024195), (51200, 0.3487212896347046, 0.017137), (102400, 0.5773261070251465, 0.012147), (204800, 1.0308349132537842, 0.008564), (409600, 1.9389909982681275, 0.006049), (819200, 3.753069806098938, 0.004265), (1638400, 7.40254590511322, 0.003017), (3276800, 14.642682600021363, 0.002134), (6553600, 29.06971130371094, 0.00151)]\n"
       ]
      },
      {
       "output_type": "stream",
       "stream": "stdout",
       "text": [
        "\n",
        "1 on ee-mollie(maxeler_fpga): [(100, 0.05598690509796143, 0.003954), (200, 0.060537099838256836, 0.0), (400, 0.0909041166305542, 0.059523), (800, 0.05631089210510254, 0.068977), (1600, 0.05559859275817871, 0.081399), (3200, 0.08691918849945068, 0.020623), (6400, 0.0772627830505371, 0.037611), (12800, 0.06304330825805664, 0.021786), (25600, 0.08126618862152099, 0.018311), (51200, 0.06029889583587646, 0.012102), (102400, 0.07049860954284667, 0.008649), (204800, 0.09928960800170898, 0.006152), (409600, 0.11442639827728271, 0.004426), (819200, 0.16357090473175048, 0.003181), (1638400, 0.31792759895324707, 0.002152), (3276800, 0.519269585609436, 0.001541), (6553600, 0.9799964904785157, 0.001096), (13107200, 1.8773123025894165, 0.000778), (26214400, 3.5542864084243773, 0.000547), (52428800, 7.13554618358612, 0.000387), (104857600, 14.192703294754029, 0.000274), (209715200, 28.293422198295595, 0.000194)]\n"
       ]
      },
      {
       "output_type": "stream",
       "stream": "stdout",
       "text": [
        "\n",
        "2 on amazon-cpu-1(multicore_cpu): [(100, 0.23081300258636475, 0.529814), (200, 0.23356618881225585, 0.340617), (400, 0.23087608814239502, 0.186108), (800, 0.23231780529022217, 0.15721), (1600, 0.23279161453247071, 0.100457), (3200, 0.2372440814971924, 0.072433), (6400, 0.2405000925064087, 0.049223), (12800, 0.25116050243377686, 0.037895), (25600, 0.2779408931732178, 0.026285), (51200, 0.3185082197189331, 0.018377), (102400, 0.41527998447418213, 0.012996), (204800, 0.5980052947998047, 0.00903), (409600, 0.9516101121902466, 0.006532), (819200, 1.6738186120986938, 0.004591), (1638400, 3.1272639989852906, 0.003245), (3276800, 5.998183083534241, 0.002291), (6553600, 12.017828392982484, 0.001615), (13107200, 23.422537899017335, 0.001141), (26214400, 47.00542299747467, 0.000809)]\n"
       ]
      },
      {
       "output_type": "stream",
       "stream": "stdout",
       "text": [
        "\n",
        "3 on amazon-gpu-1(multicore_cpu): [(100, 0.22276830673217773, 0.309442), (200, 0.22453877925872803, 0.204453), (400, 0.232727313041687, 0.195498), (800, 0.22731499671936034, 0.13705), (1600, 0.23386118412017823, 0.103642), (3200, 0.23641128540039064, 0.069674), (6400, 0.25566730499267576, 0.047653), (12800, 0.277571702003479, 0.034383), (25600, 0.33671557903289795, 0.024195), (51200, 0.4523324966430664, 0.017137), (102400, 0.6802464962005615, 0.012147), (204800, 1.1381852865219115, 0.008564), (409600, 2.0459824800491333, 0.006049), (819200, 3.864910197257996, 0.004265), (1638400, 7.537120389938354, 0.003017), (3276800, 14.821264815330505, 0.002134), (6553600, 29.307396292686462, 0.00151)]\n"
       ]
      },
      {
       "output_type": "stream",
       "stream": "stdout",
       "text": [
        "\n",
        "2 on phi(multicore_cpu): [(100, 0.35166800022125244, 0.344754), (200, 0.3509999990463257, 0.290035), (400, 0.3550053834915161, 0.193208), (800, 0.35344619750976564, 0.150906), (1600, 0.3617257833480835, 0.097162), (3200, 0.35761380195617676, 0.071374), (6400, 0.36606321334838865, 0.051441), (12800, 0.3830795049667358, 0.036709), (25600, 0.42015249729156495, 0.025643), (51200, 0.46823480129241946, 0.018307), (102400, 0.5671796083450318, 0.012949), (204800, 0.7712513208389282, 0.009189), (409600, 1.1323539018630981, 0.006448), (819200, 1.9194425821304322, 0.004569), (1638400, 3.4935436964035036, 0.003246), (3276800, 6.420784497261048, 0.002288), (6553600, 12.503552913665771, 0.001617), (13107200, 23.19016318321228, 0.001144), (26214400, 45.96803350448609, 0.000809)]\n"
       ]
      },
      {
       "output_type": "stream",
       "stream": "stdout",
       "text": [
        "\n",
        "2 on pi(multicore_cpu): [(100, 0.17777371406555176, 0.536851), (200, 0.2177173137664795, 0.284785), (400, 0.2912899017333984, 0.256436), (800, 0.46428020000457765, 0.123336), (1600, 0.7998347043991089, 0.109585), (3200, 1.4727083206176759, 0.075507), (6400, 2.8329169034957884, 0.052632), (12800, 5.516375184059143, 0.03539), (25600, 10.909944105148316, 0.02577), (51200, 21.710148906707765, 0.018256), (102400, 43.237829613685605, 0.012972)]\n"
       ]
      },
      {
       "output_type": "stream",
       "stream": "stdout",
       "text": [
        "\n",
        "4 on (multicore_cpu): [(100, 0.001510787010192871, 0.297355), (200, 0.0021922826766967774, 0.272627), (400, 0.00290069580078125, 0.159859), (800, 0.004307293891906738, 0.139122), (1600, 0.007708311080932617, 0.08579), (3200, 0.014209604263305664, 0.062607), (6400, 0.03035099506378174, 0.044773), (12800, 0.05538918972015381, 0.032951), (25600, 0.11309759616851807, 0.023083), (51200, 0.20886991024017335, 0.016046), (102400, 0.43030760288238523, 0.011554), (204800, 0.8377261877059936, 0.008147), (409600, 1.672034215927124, 0.005744), (819200, 3.3391963958740236, 0.004072), (1638400, 6.633886504173279, 0.002888), (3276800, 13.284124612808228, 0.002043), (6553600, 26.53611538410187, 0.001445)]\n"
       ]
      },
      {
       "output_type": "stream",
       "stream": "stdout",
       "text": [
        "\n",
        "2 on phi(opencl_gpu): [(1000, 1.0272173166275025, 0.261961), (2000, 1.0093786001205445, 0.165013), (4000, 0.9621947050094605, 0.109436), (8000, 0.9795510053634644, 0.079277), (16000, 2.3713696002960205, 0.056345), (32000, 2.3298073053359984, 0.040136), (64000, 2.334499788284302, 0.028328), (128000, 2.293852686882019, 0.020053), (256000, 2.4365126132965087, 0.014193), (512000, 2.625221109390259, 0.010106), (1024000, 2.9153424978256224, 0.007126), (2048000, 3.4269109964370728, 0.005032), (4096000, 4.262082982063293, 0.003548), (8192000, 6.050545501708984, 0.002517), (16384000, 9.300787997245788, 0.001779), (32768000, 16.931375193595887, 0.001259), (65536000, 31.938367795944213, 0.000891)]\n"
       ]
      },
      {
       "output_type": "stream",
       "stream": "stdout",
       "text": [
        "\n",
        "3 on ee-mollie(multicore_cpu): [(100, 0.10119810104370117, 0.309442), (200, 0.051520895957946775, 0.204453), (400, 0.052050995826721194, 0.195498), (800, 0.05711040496826172, 0.13705), (1600, 0.05809781551361084, 0.103642), (3200, 0.06467070579528808, 0.069674), (6400, 0.08501358032226562, 0.047653), (12800, 0.1259460926055908, 0.034383), (25600, 0.22507648468017577, 0.024195), (51200, 0.3306475877761841, 0.017137), (102400, 0.6282020092010498, 0.012147), (204800, 1.1668299913406373, 0.008564), (409600, 2.2482803106307983, 0.006049), (819200, 4.369017601013184, 0.004265), (1638400, 8.73191180229187, 0.003017), (3276800, 17.532853603363037, 0.002134), (6553600, 34.56713290214539, 0.00151)]\n"
       ]
      },
      {
       "output_type": "stream",
       "stream": "stdout",
       "text": [
        "\n",
        "2 on amazon-cpu-0(multicore_cpu): [(100, 0.13592751026153566, 0.304202), (200, 0.13515830039978027, 0.319814), (400, 0.13501551151275634, 0.193115), (800, 0.13694121837615966, 0.15788), (1600, 0.13816399574279786, 0.099784), (3200, 0.1436375856399536, 0.074506), (6400, 0.14937679767608641, 0.049228), (12800, 0.1606114149093628, 0.036114), (25600, 0.18057649135589598, 0.025508), (51200, 0.22641348838806152, 0.018598), (102400, 0.3173384189605713, 0.012802), (204800, 0.496741509437561, 0.00915), (409600, 0.8570836067199707, 0.006417), (819200, 1.6076617002487184, 0.004574), (1638400, 3.0211288928985596, 0.003232), (3276800, 5.934899806976318, 0.002291), (6553600, 11.905339694023132, 0.001618), (13107200, 23.346674704551695, 0.001147), (26214400, 47.53284080028534, 0.000809)]\n"
       ]
      },
      {
       "output_type": "stream",
       "stream": "stdout",
       "text": [
        "\n",
        "4 on ee-snowball0(opencl_gpu): [(100, 0.1062389850616455, 0.192387), (200, 0.10652611255645753, 0.297623), (400, 0.09955899715423584, 0.175352), (800, 0.09327149391174316, 0.141537), (1600, 0.06704988479614257, 0.090449), (3200, 0.08990509510040283, 0.06508), (6400, 0.0938148021697998, 0.04384), (12800, 0.09054851531982422, 0.031853), (25600, 0.09288768768310547, 0.023242), (51200, 0.09351351261138915, 0.016242), (102400, 0.09670820236206054, 0.01152), (204800, 0.09934859275817871, 0.008188), (409600, 0.12087938785552979, 0.00574), (819200, 0.1378859043121338, 0.004062), (1638400, 0.19485089778900147, 0.002877), (3276800, 0.3024835824966431, 0.002032), (6553600, 0.5060520887374877, 0.001436), (13107200, 0.9708617210388184, 0.001017), (26214400, 1.8409910917282104, 0.000718), (52428800, 3.5672022104263306, 0.000508), (104857600, 7.080505204200745, 0.000359), (209715200, 14.025206208229065, 0.000254), (419430400, 27.958101987838745, 0.00018)]\n"
       ]
      },
      {
       "output_type": "stream",
       "stream": "stdout",
       "text": [
        "\n",
        "3 on ee-snowball1(opencl_gpu): [(100, 0.1500917911529541, 0.593374), (200, 0.13091039657592773, 0.360871), (400, 0.12744100093841554, 0.094553), (800, 0.1325922966003418, 0.118975), (1600, 0.14175350666046144, 0.103822), (3200, 0.12818610668182373, 0.064891), (6400, 0.12990999221801758, 0.045003), (12800, 0.12999398708343507, 0.04002), (25600, 0.13178319931030275, 0.02456), (51200, 0.1331480026245117, 0.01724), (102400, 0.13507258892059326, 0.012227), (204800, 0.14828259944915773, 0.008604), (409600, 0.16978061199188232, 0.006095), (819200, 0.19861321449279784, 0.004294), (1638400, 0.27271850109100343, 0.003033), (3276800, 0.4171354055404663, 0.002145), (6553600, 0.7220722198486328, 0.001554), (13107200, 1.2542515993118286, 0.001073), (26214400, 2.338419795036316, 0.000756), (52428800, 4.545081281661988, 0.000535), (104857600, 8.951148986816406, 0.00038), (209715200, 17.774088788032532, 0.000266), (419430400, 35.42333598136902, 0.000191)]\n"
       ]
      },
      {
       "output_type": "stream",
       "stream": "stdout",
       "text": [
        "\n",
        "3 on amazon-cpu-1(multicore_cpu): [(100, 0.22970950603485107, 0.495272), (200, 0.2303948163986206, 0.267873), (400, 0.22822999954223633, 0.202696), (800, 0.23073880672454833, 0.128029), (1600, 0.2302562952041626, 0.103998), (3200, 0.23554978370666504, 0.065857), (6400, 0.2417823076248169, 0.046753), (12800, 0.2517209053039551, 0.035387), (25600, 0.27877671718597413, 0.024527), (51200, 0.32023799419403076, 0.017281), (102400, 0.4116952896118164, 0.012052), (204800, 0.5945714950561524, 0.008504), (409600, 0.9577908992767334, 0.006041), (819200, 1.6843665838241577, 0.004275), (1638400, 3.1387654066085817, 0.003027), (3276800, 6.046588182449341, 0.002137), (6553600, 12.098457384109498, 0.001508), (13107200, 23.514765000343324, 0.00107)]\n"
       ]
      },
      {
       "output_type": "stream",
       "stream": "stdout",
       "text": [
        "\n",
        "3 on amazon-gpu-0(opencl_gpu): [(100, 0.12881269454956054, 0.224047), (200, 0.13252289295196534, 0.257889), (400, 0.13149890899658204, 0.24091), (800, 0.1341115951538086, 0.143351), (1600, 0.13137249946594237, 0.123745), (3200, 0.13394110202789306, 0.06401), (6400, 0.13215761184692382, 0.055338), (12800, 0.1310504913330078, 0.035138), (25600, 0.13194448947906495, 0.024017), (51200, 0.12961888313293457, 0.017321), (102400, 0.13635749816894532, 0.011874), (204800, 0.14074039459228516, 0.008569), (409600, 0.15058839321136475, 0.00607), (819200, 0.1646989107131958, 0.004327), (1638400, 0.19930620193481446, 0.003034), (3276800, 0.2713672876358032, 0.002162), (6553600, 0.4109943866729736, 0.001524), (13107200, 0.6875952959060669, 0.00107), (26214400, 1.2521862030029296, 0.000755), (52428800, 2.375056791305542, 0.00054), (104857600, 4.615764904022217, 0.00038), (209715200, 9.083045291900635, 0.000268), (419430400, 17.99096930027008, 0.00019), (838860800, 35.94189338684082, 0.000134)]\n"
       ]
      },
      {
       "output_type": "stream",
       "stream": "stdout",
       "text": [
        "\n",
        "4 on ee-benjamin(multicore_cpu): [(100, 0.0815187931060791, 0.377482), (200, 0.07775709629058838, 0.250583), (400, 0.07795350551605225, 0.153045), (800, 0.0787048101425171, 0.127478), (1600, 0.07814261913299561, 0.097612), (3200, 0.08009860515594483, 0.066271), (6400, 0.08621399402618408, 0.045434), (12800, 0.1052746057510376, 0.031968), (25600, 0.10599031448364257, 0.023011), (51200, 0.13837342262268065, 0.016257), (102400, 0.18035130500793456, 0.011598), (204800, 0.27965312004089354, 0.008183), (409600, 0.480167293548584, 0.005771), (819200, 0.9754942893981934, 0.004084), (1638400, 1.7610279083251954, 0.002884), (3276800, 3.2883590936660765, 0.002043), (6553600, 6.027498197555542, 0.001444), (13107200, 12.841739916801453, 0.001021), (26214400, 22.637070512771608, 0.000721), (52428800, 44.556115698814395, 0.00051)]\n"
       ]
      },
      {
       "output_type": "stream",
       "stream": "stdout",
       "text": [
        "\n",
        "4 on amazon-gpu-0(multicore_cpu): [(100, 0.12440948486328125, 0.297355), (200, 0.1228482961654663, 0.272627), (400, 0.12324440479278564, 0.159859), (800, 0.1237640142440796, 0.139122), (1600, 0.12991759777069092, 0.08579), (3200, 0.13479440212249755, 0.062607), (6400, 0.15055201053619385, 0.044773), (12800, 0.1780245780944824, 0.032951), (25600, 0.23556740283966066, 0.023083), (51200, 0.3504833936691284, 0.016046), (102400, 0.5747483968734741, 0.011554), (204800, 1.0484117984771728, 0.008147), (409600, 1.9338980197906495, 0.005744), (819200, 3.74903609752655, 0.004072), (1638400, 7.377437710762024, 0.002888), (3276800, 14.62510061264038, 0.002043), (6553600, 29.111030721664427, 0.001445)]\n"
       ]
      },
      {
       "output_type": "stream",
       "stream": "stdout",
       "text": [
        "\n",
        "3 on phi(multicore_cpu): [(100, 0.36006641387939453, 0.199526), (200, 0.35212981700897217, 0.256709), (400, 0.35234818458557127, 0.162497), (800, 0.3559783935546875, 0.142529), (1600, 0.35337009429931643, 0.091197), (3200, 0.35957520008087157, 0.063774), (6400, 0.3708477973937988, 0.049238), (12800, 0.37499470710754396, 0.033939), (25600, 0.42111639976501464, 0.024065), (51200, 0.4826570987701416, 0.016924), (102400, 0.5843613147735596, 0.01212), (204800, 0.8079770803451538, 0.008513), (409600, 1.340756893157959, 0.006017), (819200, 2.01817581653595, 0.004274), (1638400, 3.470866012573242, 0.00303), (3276800, 6.536203289031983, 0.002136), (6553600, 11.452040314674377, 0.00151), (13107200, 24.12829520702362, 0.001068)]\n"
       ]
      },
      {
       "output_type": "stream",
       "stream": "stdout",
       "text": [
        "\n",
        "3 on amazon-gpu-1(opencl_gpu): [(100, 0.2310343027114868, 0.224047), (200, 0.23224050998687745, 0.257889), (400, 0.23469510078430175, 0.24091), (800, 0.23530399799346924, 0.143351), (1600, 0.23418331146240234, 0.123745), (3200, 0.23431940078735353, 0.06401), (6400, 0.23389019966125488, 0.055338), (12800, 0.235901403427124, 0.035138), (25600, 0.23367669582366943, 0.024017), (51200, 0.234613299369812, 0.017321), (102400, 0.23611130714416503, 0.011874), (204800, 0.24340901374816895, 0.008569), (409600, 0.25217130184173586, 0.00607), (819200, 0.26606581211090086, 0.004327), (1638400, 0.2985857963562012, 0.003034), (3276800, 0.3715243101119995, 0.002162), (6553600, 0.5119991064071655, 0.001524), (13107200, 0.7903516054153442, 0.00107), (26214400, 1.3530792951583863, 0.000755), (52428800, 2.4750186920166017, 0.00054), (104857600, 4.717477607727051, 0.00038), (209715200, 9.18437430858612, 0.000268), (419430400, 18.093248105049135, 0.00019), (838860800, 36.04136071205139, 0.000134)]\n"
       ]
      },
      {
       "output_type": "stream",
       "stream": "stdout",
       "text": [
        "\n",
        "4 on amazon-gpu-1(multicore_cpu): [(100, 0.22597310543060303, 0.297355), (200, 0.22726819515228272, 0.272627), (400, 0.22475531101226806, 0.159859), (800, 0.22610840797424317, 0.139122), (1600, 0.22629280090332032, 0.08579), (3200, 0.23774161338806152, 0.062607), (6400, 0.25052318572998045, 0.044773), (12800, 0.28072731494903563, 0.032951), (25600, 0.3388295888900757, 0.023083), (51200, 0.45233089923858644, 0.016046), (102400, 0.6772149085998536, 0.011554), (204800, 1.1381002902984618, 0.008147), (409600, 2.037231516838074, 0.005744), (819200, 3.8678768157958983, 0.004072), (1638400, 7.5174750804901125, 0.002888), (3276800, 14.903570795059204, 0.002043), (6553600, 29.246810388565063, 0.001445)]\n"
       ]
      },
      {
       "output_type": "stream",
       "stream": "stdout",
       "text": [
        "\n",
        "5 on (multicore_cpu): [(100, 0.0016243934631347656, 1.962619), (200, 0.0021906137466430665, 1.59668), (400, 0.0034602880477905273, 1.037015), (800, 0.0042551994323730465, 0.713883), (1600, 0.007488512992858886, 0.525541), (3200, 0.015018296241760255, 0.357238), (6400, 0.027532291412353516, 0.25048), (12800, 0.06150031089782715, 0.177416), (25600, 0.11839039325714111, 0.126089), (51200, 0.252984881401062, 0.089001), (102400, 0.42099289894104003, 0.063228), (204800, 0.8459268093109131, 0.044707), (409600, 1.6665868043899537, 0.031622), (819200, 3.3157389163970947, 0.022345), (1638400, 6.657733798027039, 0.015799), (3276800, 13.327774310112, 0.011169), (6553600, 26.6178475856781, 0.007902)]\n"
       ]
      },
      {
       "output_type": "stream",
       "stream": "stdout",
       "text": [
        "\n",
        "3 on amazon-cpu-0(multicore_cpu): [(100, 0.1361082077026367, 0.3135), (200, 0.1352341890335083, 0.229266), (400, 0.1350283145904541, 0.196097), (800, 0.13619508743286132, 0.141538), (1600, 0.13981010913848876, 0.099034), (3200, 0.14142100811004638, 0.067746), (6400, 0.1474468946456909, 0.048296), (12800, 0.15845539569854736, 0.033319), (25600, 0.18194241523742677, 0.024533), (51200, 0.2256938934326172, 0.016903), (102400, 0.319647216796875, 0.012053), (204800, 0.5017132043838501, 0.008514), (409600, 0.8726364850997925, 0.006036), (819200, 1.5978331089019775, 0.004278), (1638400, 3.1285125970840455, 0.003017), (3276800, 6.0427457094192505, 0.002138), (6553600, 11.77103910446167, 0.00151), (13107200, 23.535734796524046, 0.001068)]\n"
       ]
      },
      {
       "output_type": "stream",
       "stream": "stdout",
       "text": [
        "\n",
        "4 on amazon-cpu-1(multicore_cpu): [(100, 0.23050220012664796, 0.28239), (200, 0.22941911220550537, 0.251531), (400, 0.22723798751831054, 0.173465), (800, 0.2314507007598877, 0.127145), (1600, 0.23245570659637452, 0.099262), (3200, 0.23604660034179686, 0.067362), (6400, 0.24108510017395018, 0.046466), (12800, 0.2528213977813721, 0.032872), (25600, 0.27620840072631836, 0.022841), (51200, 0.3238406181335449, 0.016337), (102400, 0.4106518983840942, 0.011607), (204800, 0.5900949954986572, 0.008218), (409600, 0.9509609937667847, 0.005739), (819200, 1.6690268993377686, 0.00409), (1638400, 3.193530797958374, 0.00289), (3276800, 6.038649702072144, 0.002039), (6553600, 11.875583600997924, 0.001443), (13107200, 23.618299698829652, 0.001021)]\n"
       ]
      },
      {
       "output_type": "stream",
       "stream": "stdout",
       "text": [
        "\n",
        "5 on ee-snowball0(opencl_gpu): [(100, 0.10268988609313964, 2.020556), (200, 0.08883209228515625, 1.48666), (400, 0.09445281028747558, 1.021872), (800, 0.09481940269470215, 0.724391), (1600, 0.0859870195388794, 0.505712), (3200, 0.08354871273040772, 0.347362), (6400, 0.09748389720916747, 0.253126), (12800, 0.10168220996856689, 0.173978), (25600, 0.09179890155792236, 0.12749), (51200, 0.09225211143493653, 0.088721), (102400, 0.10413949489593506, 0.063238), (204800, 0.1076632022857666, 0.044717), (409600, 0.1310426950454712, 0.031532), (819200, 0.14622170925140382, 0.022331), (1638400, 0.19422149658203125, 0.015771), (3276800, 0.3016089200973511, 0.011151), (6553600, 0.5326028108596802, 0.007891), (13107200, 0.9644331932067871, 0.005583), (26214400, 1.8352684020996093, 0.003947), (52428800, 3.568283796310425, 0.00279), (104857600, 7.061785697937012, 0.001973), (209715200, 14.082298016548156, 0.001395), (419430400, 27.966819596290588, 0.000987)]\n"
       ]
      },
      {
       "output_type": "stream",
       "stream": "stdout",
       "text": [
        "\n",
        "2 on ee-snowball2(opencl_alterafpga): [(100, 0.1736752986907959, 0.367616), (200, 0.2023534059524536, 0.184281), (400, 0.2038437843322754, 0.194834), (800, 0.19429728984832764, 0.165125), (1600, 0.20284199714660645, 0.092326), (3200, 0.1691370964050293, 0.061319), (6400, 0.2306809902191162, 0.04844), (12800, 0.2429194211959839, 0.035373), (25600, 0.37490718364715575, 0.025297), (51200, 0.8704607963562012, 0.017296), (102400, 4.499236917495727, 0.01238), (204800, 20.804540085792542, 0.009269), (409600, 88.95332059860229, 0.006319)]\n"
       ]
      },
      {
       "output_type": "stream",
       "stream": "stdout",
       "text": [
        "\n",
        "3 on pi(multicore_cpu): [(100, 0.17201049327850343, 0.321142), (200, 0.21003801822662355, 0.235639), (400, 0.29601809978485105, 0.209238), (800, 0.4719510793685913, 0.138906), (1600, 0.7998090982437134, 0.092653), (3200, 1.472305178642273, 0.066421), (6400, 2.8202240228652955, 0.047186), (12800, 5.528594493865967, 0.034039), (25600, 10.907995891571044, 0.02495), (51200, 21.685729598999025, 0.017133), (102400, 43.22581942081452, 0.012225)]\n"
       ]
      },
      {
       "output_type": "stream",
       "stream": "stdout",
       "text": [
        "\n",
        "4 on ee-mollie(multicore_cpu): [(100, 0.07692649364471435, 0.297355), (200, 0.04555490016937256, 0.272627), (400, 0.04965040683746338, 0.159859), (800, 0.05018050670623779, 0.139122), (1600, 0.05526349544525146, 0.08579), (3200, 0.06546549797058106, 0.062607), (6400, 0.08104031085968018, 0.044773), (12800, 0.12954699993133545, 0.032951), (25600, 0.2243335008621216, 0.023083), (51200, 0.3154565095901489, 0.016046), (102400, 0.6326343059539795, 0.011554), (204800, 1.1750381946563722, 0.008147), (409600, 2.2704200983047484, 0.005744), (819200, 4.450167989730835, 0.004072), (1638400, 8.698892903327941, 0.002888), (3276800, 17.372923803329467, 0.002043), (6553600, 34.75820891857147, 0.001445)]\n"
       ]
      },
      {
       "output_type": "stream",
       "stream": "stdout",
       "text": [
        "\n",
        "5 on ee-benjamin(multicore_cpu): [(100, 0.09178409576416016, 2.263488), (200, 0.07736899852752685, 1.353644), (400, 0.07974979877471924, 1.081014), (800, 0.08422400951385497, 0.678267), (1600, 0.08531899452209472, 0.508537), (3200, 0.08816719055175781, 0.359147), (6400, 0.10077891349792481, 0.251194), (12800, 0.11148281097412109, 0.179782), (25600, 0.11213068962097168, 0.125937), (51200, 0.1387110948562622, 0.089372), (102400, 0.19272658824920655, 0.063147), (204800, 0.27853081226348875, 0.044707), (409600, 0.5155697107315064, 0.031575), (819200, 0.8532867908477784, 0.022318), (1638400, 1.7111533880233765, 0.015775), (3276800, 3.1886309146881104, 0.011169), (6553600, 6.500262689590454, 0.007896), (13107200, 12.40804090499878, 0.005584), (26214400, 24.706221508979798, 0.003948)]\n"
       ]
      },
      {
       "output_type": "stream",
       "stream": "stdout",
       "text": [
        "\n",
        "5 on amazon-gpu-0(multicore_cpu): [(100, 0.12092938423156738, 1.962619), (200, 0.12511789798736572, 1.59668), (400, 0.12440459728240967, 1.037015), (800, 0.12429180145263671, 0.713883), (1600, 0.1250755786895752, 0.525541), (3200, 0.13759520053863525, 0.357238), (6400, 0.14964721202850342, 0.25048), (12800, 0.1741034984588623, 0.177416), (25600, 0.23507721424102784, 0.126089), (51200, 0.35200450420379636, 0.089001), (102400, 0.575656509399414, 0.063228), (204800, 1.0235179901123046, 0.044707), (409600, 1.9376713991165162, 0.031622), (819200, 3.837870407104492, 0.022345), (1638400, 7.368892979621887, 0.015799), (3276800, 14.714983320236206, 0.011169), (6553600, 29.06124351024628, 0.007902)]\n"
       ]
      },
      {
       "output_type": "stream",
       "stream": "stdout",
       "text": [
        "\n",
        "2 on ee-mollie(maxeler_fpga): [(100, 0.049853181838989256, 0.346451), (200, 0.09271650314331055, 0.469018), (400, 0.056917214393615724, 0.206232), (800, 0.0536175012588501, 0.060663), (1600, 0.061090087890625, 0.109107), (3200, 0.0536329984664917, 0.095564), (6400, 0.07929821014404297, 0.05519), (12800, 0.05686190128326416, 0.045301), (25600, 0.06892831325531006, 0.024026), (51200, 0.09720070362091064, 0.018436), (102400, 0.07053802013397217, 0.01254), (204800, 0.07734689712524415, 0.009071), (409600, 0.12468421459197998, 0.006553), (819200, 0.20653879642486572, 0.004527), (1638400, 0.31423330307006836, 0.003225), (3276800, 0.5104743003845215, 0.002289), (6553600, 0.9625288009643554, 0.001618), (13107200, 1.8444304943084717, 0.001142), (26214400, 3.5968806028366087, 0.000812), (52428800, 7.14535071849823, 0.000571), (104857600, 14.2014662027359, 0.000404), (209715200, 28.38820879459381, 0.000286)]\n"
       ]
      },
      {
       "output_type": "stream",
       "stream": "stdout",
       "text": [
        "\n",
        "4 on ee-snowball1(opencl_gpu): [(100, 0.15476231575012206, 0.462812), (200, 0.1285011053085327, 0.244177), (400, 0.1322793960571289, 0.165101), (800, 0.13089330196380616, 0.122653), (1600, 0.1368263006210327, 0.085214), (3200, 0.1302325963973999, 0.060214), (6400, 0.1311338186264038, 0.049091), (12800, 0.13074870109558107, 0.031634), (25600, 0.14004249572753907, 0.023163), (51200, 0.1377120018005371, 0.016282), (102400, 0.13995509147644042, 0.011392), (204800, 0.15501070022583008, 0.007994), (409600, 0.16708598136901856, 0.00576), (819200, 0.20103809833526612, 0.004108), (1638400, 0.27333128452301025, 0.002877), (3276800, 0.42588369846343993, 0.002004), (6553600, 0.6888481855392456, 0.00142), (13107200, 1.2633496046066284, 0.001011), (26214400, 2.383258891105652, 0.000717), (52428800, 4.542592000961304, 0.000507), (104857600, 8.942621278762818, 0.000359), (209715200, 17.73333959579468, 0.000254), (419430400, 35.308508896827696, 0.00018)]\n"
       ]
      },
      {
       "output_type": "stream",
       "stream": "stdout",
       "text": [
        "\n",
        "3 on phi(opencl_gpu): [(1000, 0.8818645000457763, 0.177246), (2000, 0.8996302127838135, 0.133494), (4000, 0.9015933036804199, 0.087911), (8000, 0.9506278991699219, 0.061652), (16000, 2.3730746030807497, 0.043926), (32000, 2.3949165105819703, 0.03191), (64000, 2.3972347021102904, 0.022199), (128000, 2.3527505874633787, 0.015826), (256000, 2.207540202140808, 0.011146), (512000, 2.590674304962158, 0.007905), (1024000, 2.310406494140625, 0.00562), (2048000, 3.4220088005065916, 0.003958), (4096000, 4.216403007507324, 0.002804), (8192000, 6.194344902038575, 0.00198), (16384000, 9.311240100860596, 0.001399), (32768000, 16.810575103759767, 0.000989), (65536000, 32.01508719921112, 0.000699)]\n"
       ]
      },
      {
       "output_type": "stream",
       "stream": "stdout",
       "text": [
        "\n",
        "5 on amazon-gpu-1(multicore_cpu): [(100, 0.22178149223327637, 1.962619), (200, 0.22471370697021484, 1.59668), (400, 0.22531261444091796, 1.037015), (800, 0.2237694025039673, 0.713883), (1600, 0.23088200092315675, 0.525541), (3200, 0.23620209693908692, 0.357238), (6400, 0.24873530864715576, 0.25048), (12800, 0.27945499420166015, 0.177416), (25600, 0.3347727060317993, 0.126089), (51200, 0.4499362945556641, 0.089001), (102400, 0.6792083024978638, 0.063228), (204800, 1.1383440971374512, 0.044707), (409600, 2.0753987073898315, 0.031622), (819200, 3.871774411201477, 0.022345), (1638400, 7.6631855964660645, 0.015799), (3276800, 14.817953896522521, 0.011169), (6553600, 29.430067110061646, 0.007902)]\n"
       ]
      },
      {
       "output_type": "stream",
       "stream": "stdout",
       "text": [
        "\n",
        "4 on amazon-gpu-0(opencl_gpu): [(100, 0.12915501594543458, 0.372873), (200, 0.12955589294433595, 0.229445), (400, 0.13112351894378663, 0.145547), (800, 0.12579989433288574, 0.129566), (1600, 0.13210830688476563, 0.083043), (3200, 0.12929341793060303, 0.072283), (6400, 0.13176259994506836, 0.047968), (12800, 0.1295466899871826, 0.032607), (25600, 0.1288304090499878, 0.023711), (51200, 0.12990729808807372, 0.016762), (102400, 0.13426470756530762, 0.011581), (204800, 0.1401196002960205, 0.008093), (409600, 0.1482517957687378, 0.005744), (819200, 0.16236441135406493, 0.004033), (1638400, 0.19593589305877684, 0.002862), (3276800, 0.26621739864349364, 0.002026), (6553600, 0.40553460121154783, 0.001426), (13107200, 0.6873265027999877, 0.001024), (26214400, 1.24444739818573, 0.00072), (52428800, 2.3622714042663575, 0.000512), (104857600, 4.609271717071533, 0.000358), (209715200, 9.095068097114563, 0.000253), (419430400, 18.006923103332518, 0.00018), (838860800, 35.95501818656921, 0.000128)]\n"
       ]
      },
      {
       "output_type": "stream",
       "stream": "stdout",
       "text": [
        "\n",
        "6 on (multicore_cpu): [(100, 0.0015015840530395509, 0.669921), (200, 0.002465176582336426, 0.404172), (400, 0.00297238826751709, 0.317738), (800, 0.004233002662658691, 0.220676), (1600, 0.007918095588684082, 0.150618), (3200, 0.016249585151672363, 0.114201), (6400, 0.029797983169555665, 0.077424), (12800, 0.05386362075805664, 0.054673), (25600, 0.11324210166931152, 0.038598), (51200, 0.21199820041656495, 0.027295), (102400, 0.4347671985626221, 0.0192), (204800, 0.8374890089035034, 0.013689), (409600, 1.6718959093093873, 0.009679), (819200, 3.3427212953567507, 0.006854), (1638400, 6.73992269039154, 0.004833), (3276800, 13.283588194847107, 0.003419), (6553600, 27.04139609336853, 0.002419)]\n"
       ]
      },
      {
       "output_type": "stream",
       "stream": "stdout",
       "text": [
        "\n",
        "4 on amazon-gpu-1(opencl_gpu): [(100, 0.22981369495391846, 0.372873), (200, 0.23235080242156983, 0.229445), (400, 0.23409249782562255, 0.145547), (800, 0.23042011260986328, 0.129566), (1600, 0.2345137119293213, 0.083043), (3200, 0.23269200325012207, 0.072283), (6400, 0.2315595865249634, 0.047968), (12800, 0.23387000560760499, 0.032607), (25600, 0.23222839832305908, 0.023711), (51200, 0.2312572956085205, 0.016762), (102400, 0.23753230571746825, 0.011581), (204800, 0.23664209842681885, 0.008093), (409600, 0.24756238460540772, 0.005744), (819200, 0.26595430374145507, 0.004033), (1638400, 0.2987748861312866, 0.002862), (3276800, 0.3661490917205811, 0.002026), (6553600, 0.5072513103485108, 0.001426), (13107200, 0.7854751110076904, 0.001024), (26214400, 1.3469769954681396, 0.00072), (52428800, 2.4675298929214478, 0.000512), (104857600, 4.7113467931747435, 0.000358), (209715200, 9.197333908081054, 0.000253), (419430400, 18.113165616989136, 0.00018), (838860800, 36.05743150711059, 0.000128)]\n"
       ]
      },
      {
       "output_type": "stream",
       "stream": "stdout",
       "text": [
        "\n",
        "6 on ee-benjamin(multicore_cpu): [(100, 0.06462879180908203, 0.857235), (200, 0.08266329765319824, 0.585601), (400, 0.07546792030334473, 0.331195), (800, 0.05509939193725586, 0.207093), (1600, 0.07889189720153808, 0.16692), (3200, 0.08496818542480469, 0.110585), (6400, 0.08909270763397217, 0.080529), (12800, 0.09726738929748535, 0.05418), (25600, 0.08580520153045654, 0.038303), (51200, 0.1296394109725952, 0.027661), (102400, 0.18497700691223146, 0.019251), (204800, 0.30637969970703127, 0.013619), (409600, 0.49761011600494387, 0.009657), (819200, 0.8778789043426514, 0.006852), (1638400, 1.6198385953903198, 0.004837), (3276800, 3.1390011072158814, 0.003421), (6553600, 6.368885803222656, 0.002419), (13107200, 12.467037391662597, 0.001711), (26214400, 24.886837005615234, 0.00121)]\n"
       ]
      },
      {
       "output_type": "stream",
       "stream": "stdout",
       "text": [
        "\n",
        "4 on phi(multicore_cpu): [(100, 0.3516561031341553, 0.473257), (200, 0.35022311210632323, 0.264682), (400, 0.3550040006637573, 0.186903), (800, 0.35351569652557374, 0.139316), (1600, 0.36024549007415774, 0.091172), (3200, 0.3617877006530762, 0.065283), (6400, 0.3711609125137329, 0.04547), (12800, 0.3789600133895874, 0.032437), (25600, 0.40398669242858887, 0.023071), (51200, 0.4572116851806641, 0.016347), (102400, 0.5679796934127808, 0.011489), (204800, 0.8315717935562134, 0.008145), (409600, 1.2472461938858033, 0.005805), (819200, 1.9103909015655518, 0.004093), (1638400, 3.4348580121994017, 0.002885), (3276800, 6.434924983978272, 0.002041), (6553600, 11.944536900520324, 0.001442), (13107200, 22.10765838623047, 0.001021), (26214400, 45.82703831195831, 0.000722)]\n"
       ]
      },
      {
       "output_type": "stream",
       "stream": "stdout",
       "text": [
        "\n",
        "6 on ee-snowball0(opencl_gpu): [(100, 0.1001723051071167, 0.679781), (200, 0.08511641025543212, 0.27431), (400, 0.08775758743286133, 0.248124), (800, 0.08572921752929688, 0.234898), (1600, 0.08517131805419922, 0.155559), (3200, 0.09129619598388672, 0.111386), (6400, 0.10279788970947265, 0.077344), (12800, 0.06434578895568847, 0.05448), (25600, 0.08809771537780761, 0.039476), (51200, 0.08918559551239014, 0.027438), (102400, 0.09299168586730958, 0.019245), (204800, 0.10672988891601562, 0.013612), (409600, 0.12618060111999513, 0.009676), (819200, 0.14694600105285643, 0.006813), (1638400, 0.2008203983306885, 0.004816), (3276800, 0.30695791244506837, 0.003413), (6553600, 0.5506547927856446, 0.002409), (13107200, 0.9730581998825073, 0.001706), (26214400, 1.8480108976364136, 0.001206), (52428800, 3.5898029088973997, 0.000853), (104857600, 7.053945302963257, 0.000603), (209715200, 14.03255341053009, 0.000426), (419430400, 27.95517270565033, 0.000302)]\n"
       ]
      },
      {
       "output_type": "stream",
       "stream": "stdout",
       "text": [
        "\n",
        "6 on amazon-gpu-0(multicore_cpu): [(100, 0.12219419479370117, 0.669921), (200, 0.12008450031280518, 0.404172), (400, 0.12293567657470703, 0.317738), (800, 0.12383570671081542, 0.220676), (1600, 0.12972960472106934, 0.150618), (3200, 0.135025691986084, 0.114201), (6400, 0.14854838848114013, 0.077424), (12800, 0.17405500411987304, 0.054673), (25600, 0.23634049892425538, 0.038598), (51200, 0.34737069606781007, 0.027295), (102400, 0.5775228977203369, 0.0192), (204800, 1.030376100540161, 0.013689), (409600, 1.9359963893890382, 0.009679), (819200, 3.7490872144699097, 0.006854), (1638400, 7.2799334049224855, 0.004833), (3276800, 14.861877918243408, 0.003419), (6553600, 29.199051403999327, 0.002419)]\n"
       ]
      },
      {
       "output_type": "stream",
       "stream": "stdout",
       "text": [
        "\n",
        "5 on ee-mollie(multicore_cpu): [(100, 0.10529880523681641, 1.962619), (200, 0.048444509506225586, 1.59668), (400, 0.04892230033874512, 1.037015), (800, 0.05630381107330322, 0.713883), (1600, 0.05891950130462646, 0.525541), (3200, 0.061804699897766116, 0.357238), (6400, 0.0868408203125, 0.25048), (12800, 0.09814128875732422, 0.177416), (25600, 0.21656219959259032, 0.126089), (51200, 0.31621859073638914, 0.089001), (102400, 0.6512822151184082, 0.063228), (204800, 1.165894103050232, 0.044707), (409600, 2.3165770769119263, 0.031622), (819200, 4.409058904647827, 0.022345), (1638400, 8.733942985534668, 0.015799), (3276800, 17.230070114135742, 0.011169), (6553600, 34.54986701011658, 0.007902)]\n"
       ]
      },
      {
       "output_type": "stream",
       "stream": "stdout",
       "text": [
        "\n",
        "7 on (multicore_cpu): [(100, 0.0013842105865478516, 1.44716), (200, 0.002448105812072754, 0.891807), (400, 0.0035418033599853515, 0.667163), (800, 0.0047600030899047855, 0.457056), (1600, 0.0074567079544067385, 0.333552), (3200, 0.014027905464172364, 0.231701), (6400, 0.03862409591674805, 0.165073), (12800, 0.051831293106079104, 0.1162), (25600, 0.1138305902481079, 0.082195), (51200, 0.20941531658172607, 0.058224), (102400, 0.4208461046218872, 0.041154), (204800, 0.8489997863769532, 0.029055), (409600, 1.663606595993042, 0.02057), (819200, 3.502998614311218, 0.014552), (1638400, 6.659564805030823, 0.010296), (3276800, 13.278980207443237, 0.007278), (6553600, 27.460443782806397, 0.005146)]\n"
       ]
      },
      {
       "output_type": "stream",
       "stream": "stdout",
       "text": [
        "\n",
        "4 on amazon-cpu-0(multicore_cpu): [(100, 0.12168569564819336, 0.32376), (200, 0.1231152057647705, 0.3048), (400, 0.13346641063690184, 0.215643), (800, 0.13670079708099364, 0.117617), (1600, 0.13743810653686522, 0.093804), (3200, 0.13944079875946044, 0.06612), (6400, 0.14715430736541749, 0.045778), (12800, 0.15929880142211914, 0.033072), (25600, 0.17952640056610109, 0.022952), (51200, 0.22657551765441894, 0.016177), (102400, 0.3186952114105225, 0.011703), (204800, 0.502156400680542, 0.008211), (409600, 0.8643392086029053, 0.005761), (819200, 1.5787037849426269, 0.004097), (1638400, 3.0234307050704956, 0.002886), (3276800, 5.903199696540833, 0.002038), (6553600, 11.678049993515014, 0.001443), (13107200, 23.2184947013855, 0.00102), (26214400, 46.30266110897064, 0.000722)]\n"
       ]
      },
      {
       "output_type": "stream",
       "stream": "stdout",
       "text": [
        "\n",
        "6 on amazon-gpu-1(multicore_cpu): [(100, 0.2254767894744873, 0.669921), (200, 0.22156000137329102, 0.404172), (400, 0.22010509967803954, 0.317738), (800, 0.22244749069213868, 0.220676), (1600, 0.22578840255737304, 0.150618), (3200, 0.23396649360656738, 0.114201), (6400, 0.24850859642028808, 0.077424), (12800, 0.27822580337524416, 0.054673), (25600, 0.33601019382476804, 0.038598), (51200, 0.4479236125946045, 0.027295), (102400, 0.6787812948226929, 0.0192), (204800, 1.1303934812545777, 0.013689), (409600, 2.0443843126297, 0.009679), (819200, 3.8630516052246096, 0.006854), (1638400, 7.3403349876403805, 0.004833), (3276800, 14.756322979927063, 0.003419), (6553600, 29.26948959827423, 0.002419)]\n"
       ]
      },
      {
       "output_type": "stream",
       "stream": "stdout",
       "text": [
        "\n",
        "4 on pi(multicore_cpu): [(100, 0.16542189121246337, 0.279861), (200, 0.2100775957107544, 0.244008), (400, 0.295025897026062, 0.20415), (800, 0.4613301992416382, 0.128207), (1600, 0.8008986949920655, 0.096601), (3200, 1.4748411893844604, 0.066926), (6400, 2.824457383155823, 0.044806), (12800, 5.517721509933471, 0.032227), (25600, 10.917750811576843, 0.022985), (51200, 21.691468691825868, 0.016281), (102400, 43.25384271144867, 0.011546)]\n"
       ]
      },
      {
       "output_type": "stream",
       "stream": "stdout",
       "text": [
        "\n",
        "5 on ee-snowball1(opencl_gpu): [(100, 0.14703140258789063, 1.736559), (200, 0.13267059326171876, 1.439767), (400, 0.13033339977264405, 0.884054), (800, 0.1282721996307373, 0.705855), (1600, 0.14322202205657958, 0.554395), (3200, 0.15208518505096436, 0.37298), (6400, 0.13461930751800538, 0.25847), (12800, 0.12854399681091308, 0.180687), (25600, 0.14967429637908936, 0.124996), (51200, 0.13996050357818604, 0.089942), (102400, 0.13544049263000488, 0.062881), (204800, 0.15156049728393556, 0.044539), (409600, 0.1943382978439331, 0.031677), (819200, 0.19169199466705322, 0.022332), (1638400, 0.27840969562530515, 0.015826), (3276800, 0.4185096979141235, 0.011183), (6553600, 0.6596917152404785, 0.007909), (13107200, 1.2399960994720458, 0.005606), (26214400, 2.3901698112487795, 0.003939), (52428800, 4.532267999649048, 0.00279), (104857600, 8.939259505271911, 0.001971), (209715200, 17.77516040802002, 0.001386), (419430400, 35.40494990348816, 0.000987)]\n"
       ]
      },
      {
       "output_type": "stream",
       "stream": "stdout",
       "text": [
        "\n",
        "5 on amazon-cpu-1(multicore_cpu): [(100, 0.27967469692230223, 2.309487), (200, 0.22961859703063964, 1.285318), (400, 0.22751190662384033, 0.98434), (800, 0.23099880218505858, 0.69886), (1600, 0.23350300788879394, 0.497205), (3200, 0.23751070499420165, 0.358832), (6400, 0.2438441038131714, 0.248621), (12800, 0.2552207946777344, 0.180051), (25600, 0.27369840145111085, 0.127294), (51200, 0.3212460994720459, 0.089007), (102400, 0.4086306095123291, 0.063122), (204800, 0.5983218193054199, 0.044621), (409600, 0.9559760093688965, 0.031545), (819200, 1.6842411994934081, 0.022367), (1638400, 3.132397508621216, 0.015799), (3276800, 5.996905398368836, 0.011165), (6553600, 11.767040395736695, 0.007895), (13107200, 23.301738595962526, 0.005587), (26214400, 46.37200689315796, 0.003948)]\n"
       ]
      },
      {
       "output_type": "stream",
       "stream": "stdout",
       "text": [
        "\n",
        "5 on amazon-gpu-0(opencl_gpu): [(100, 0.12503972053527831, 2.219668), (200, 0.12639920711517333, 1.224218), (400, 0.1293020009994507, 1.09022), (800, 0.12680110931396485, 0.666545), (1600, 0.13330490589141847, 0.508211), (3200, 0.1316075086593628, 0.352048), (6400, 0.1312328100204468, 0.245474), (12800, 0.12669289112091064, 0.179068), (25600, 0.13250980377197266, 0.126107), (51200, 0.1308927059173584, 0.091096), (102400, 0.13579111099243163, 0.062966), (204800, 0.14155988693237304, 0.044512), (409600, 0.14972310066223143, 0.031698), (819200, 0.16320688724517823, 0.022311), (1638400, 0.20014579296112062, 0.015728), (3276800, 0.26955180168151854, 0.01113), (6553600, 0.4089939832687378, 0.007868), (13107200, 0.6912715911865235, 0.005572), (26214400, 1.2487448930740357, 0.003957), (52428800, 2.3645228862762453, 0.002794), (104857600, 4.605248880386353, 0.001968), (209715200, 9.10054521560669, 0.001385), (419430400, 18.007407903671265, 0.000986), (838860800, 35.92434458732605, 0.0007)]\n"
       ]
      },
      {
       "output_type": "stream",
       "stream": "stdout",
       "text": [
        "\n",
        "7 on ee-benjamin(multicore_cpu): [(100, 0.08735840320587158, 1.081457), (200, 0.07803258895874024, 1.016554), (400, 0.08115830421447753, 0.678579), (800, 0.07970879077911378, 0.482381), (1600, 0.07861747741699218, 0.328018), (3200, 0.07726449966430664, 0.230519), (6400, 0.08108048439025879, 0.166362), (12800, 0.0974195957183838, 0.115847), (25600, 0.1157486915588379, 0.082008), (51200, 0.1389754056930542, 0.058291), (102400, 0.18693141937255858, 0.041108), (204800, 0.3068660020828247, 0.029117), (409600, 0.5183730840682983, 0.020572), (819200, 0.9935873031616211, 0.014537), (1638400, 1.7829509973526, 0.010288), (3276800, 3.2263888835906984, 0.007276), (6553600, 6.270991706848145, 0.005146), (13107200, 13.169893312454224, 0.003637), (26214400, 26.395280289649964, 0.002573)]\n"
       ]
      },
      {
       "output_type": "stream",
       "stream": "stdout",
       "text": [
        "\n",
        "7 on ee-snowball0(opencl_gpu): [(100, 0.1020798921585083, 1.213964), (200, 0.09604270458221435, 0.94972), (400, 0.07996840476989746, 0.70863), (800, 0.08798248767852783, 0.454733), (1600, 0.08422889709472656, 0.319828), (3200, 0.08266520500183105, 0.233497), (6400, 0.12632830142974855, 0.162916), (12800, 0.08488810062408447, 0.116158), (25600, 0.08659219741821289, 0.083036), (51200, 0.09248409271240235, 0.058361), (102400, 0.0830780029296875, 0.041092), (204800, 0.0947843074798584, 0.029036), (409600, 0.12937548160552978, 0.02055), (819200, 0.14103269577026367, 0.014558), (1638400, 0.19576849937438964, 0.010282), (3276800, 0.3073457956314087, 0.007277), (6553600, 0.5377928972244262, 0.005142), (13107200, 0.9713764905929565, 0.003635), (26214400, 1.8442970991134644, 0.002572), (52428800, 3.592518615722656, 0.001818), (104857600, 7.073513102531433, 0.001286), (209715200, 14.028946495056152, 0.000909), (419430400, 27.970389890670777, 0.000643)]\n"
       ]
      },
      {
       "output_type": "stream",
       "stream": "stdout",
       "text": [
        "\n",
        "5 on amazon-gpu-1(opencl_gpu): [(100, 0.23153791427612305, 2.219668), (200, 0.23314371109008789, 1.224218), (400, 0.23333470821380614, 1.09022), (800, 0.23060219287872313, 0.666545), (1600, 0.23565549850463868, 0.508211), (3200, 0.23884849548339843, 0.352048), (6400, 0.23643209934234619, 0.245474), (12800, 0.2324061870574951, 0.179068), (25600, 0.23512110710144044, 0.126107), (51200, 0.23533201217651367, 0.091096), (102400, 0.2394567012786865, 0.062966), (204800, 0.24354300498962403, 0.044512), (409600, 0.2521996974945068, 0.031698), (819200, 0.2680731058120728, 0.022311), (1638400, 0.30346360206604006, 0.015728), (3276800, 0.3693174123764038, 0.01113), (6553600, 0.5098461151123047, 0.007868), (13107200, 0.7896314144134522, 0.005572), (26214400, 1.3489468812942504, 0.003957), (52428800, 2.469155693054199, 0.002794), (104857600, 4.704848790168763, 0.001968), (209715200, 9.205509901046753, 0.001385), (419430400, 18.109687709808348, 0.000986), (838860800, 36.02025830745697, 0.0007)]\n"
       ]
      },
      {
       "output_type": "stream",
       "stream": "stdout",
       "text": [
        "\n",
        "3 on ee-snowball2(opencl_alterafpga): [(100, 0.18999149799346923, 0.202483), (200, 0.15879621505737304, 0.304919), (400, 0.1477787971496582, 0.208309), (800, 0.16337959766387938, 0.131018), (1600, 0.1901082992553711, 0.108226), (3200, 0.14424710273742675, 0.063769), (6400, 0.1799232006072998, 0.048575), (12800, 0.25624890327453614, 0.032317), (25600, 0.31423780918121336, 0.023529), (51200, 0.9064965963363647, 0.017513), (102400, 4.4854991912841795, 0.012864), (204800, 20.844096493721008, 0.008445), (409600, 88.90579118728638, 0.006002)]\n"
       ]
      },
      {
       "output_type": "stream",
       "stream": "stdout",
       "text": [
        "\n",
        "4 on phi(opencl_gpu): [(1000, 1.083636713027954, nan), (2000, 1.0757529973983764, nan), (4000, 0.9432045936584472, nan), (8000, 0.9371459007263183, nan), (16000, 2.2468703985214233, nan), (32000, 2.3001395225524903, nan), (64000, 2.350307011604309, nan), (128000, 2.30240478515625, nan), (256000, 2.3471590995788576, nan), (512000, 2.5459455966949465, nan), (1024000, 2.977604603767395, nan), (2048000, 3.5280131101608276, nan), (4096000, 4.425285196304321, nan), (8192000, 5.884030985832214, nan), (16384000, 9.281542801856995, nan), (32768000, 18.01144688129425, nan), (65536000, 31.87598810195923, nan)]\n"
       ]
      },
      {
       "output_type": "stream",
       "stream": "stdout",
       "text": [
        "\n",
        "7 on amazon-gpu-0(multicore_cpu): [(100, 0.12120728492736817, 1.44716), (200, 0.12246320247650147, 0.891807), (400, 0.12115931510925293, 0.667163), (800, 0.22341389656066896, 0.457056), (1600, 0.12813050746917726, 0.333552), (3200, 0.13575010299682616, 0.231701), (6400, 0.1509160041809082, 0.165073), (12800, 0.18216540813446044, 0.1162), (25600, 0.23495428562164306, 0.082195), (51200, 0.35127270221710205, 0.058224), (102400, 0.5866905927658081, 0.041154), (204800, 1.029226803779602, 0.029055), (409600, 1.9357651948928833, 0.02057), (819200, 3.7537232875823974, 0.014552), (1638400, 7.385543489456177, 0.010296), (3276800, 14.72235689163208, 0.007278), (6553600, 29.139120388031007, 0.005146)]\n"
       ]
      },
      {
       "output_type": "stream",
       "stream": "stdout",
       "text": [
        "\n",
        "8 on (multicore_cpu): [(100, 0.0015036821365356444, 0.028143), (200, 0.0025400161743164063, 0.024251), (400, 0.0041790008544921875, 0.007801), (800, 0.008528804779052735, 0.004368), (1600, 0.010582804679870605, 0.007618), (3200, 0.02414050102233887, 0.004994), (6400, 0.038541007041931155, 0.004653), (12800, 0.05383708477020264, 0.003086), (25600, 0.11859569549560547, 0.001897), (51200, 0.22383739948272705, 0.001588), (102400, 0.45077340602874755, 0.001019), (204800, 0.9216353178024292, 0.000741), (409600, 1.7562153100967408, 0.000514), (819200, 3.4720072031021116, 0.000366), (1638400, 6.770411586761474, 0.000263), (3276800, 13.674483609199523, 0.000182), (6553600, 26.829538798332216, 0.000131)]\n"
       ]
      },
      {
       "output_type": "stream",
       "stream": "stdout",
       "text": [
        "\n",
        "3 on ee-mollie(maxeler_fpga): [(100, 0.05916969776153565, 0.216505), (200, 0.05330460071563721, 0.415856), (400, 0.09766268730163574, 0.160105), (800, 0.05337648391723633, 0.113792), (1600, 0.051951813697814944, 0.071494), (3200, 0.04426839351654053, 0.076246), (6400, 0.05359959602355957, 0.050547), (12800, 0.059443187713623044, 0.036244), (25600, 0.05288650989532471, 0.02718), (51200, 0.0696455955505371, 0.016985), (102400, 0.09809861183166504, 0.011643), (204800, 0.0806581974029541, 0.008556), (409600, 0.11617040634155273, 0.005866), (819200, 0.4512310028076172, 0.004288), (1638400, 0.27744131088256835, 0.003019), (3276800, 0.5156843900680542, 0.002138), (6553600, 0.9642385005950928, 0.001511), (13107200, 1.8444411039352417, 0.001066), (26214400, 3.610438513755798, 0.000756), (52428800, 7.137592196464539, 0.000534), (104857600, 14.246163201332092, 0.000378), (209715200, 28.35136170387268, 0.000267)]\n"
       ]
      },
      {
       "output_type": "stream",
       "stream": "stdout",
       "text": [
        "\n",
        "6 on ee-mollie(multicore_cpu): [(100, 0.08717899322509766, 0.669921), (200, 0.04745659828186035, 0.404172), (400, 0.04896359443664551, 0.317738), (800, 0.05196869373321533, 0.220676), (1600, 0.058948516845703125, 0.150618), (3200, 0.06720709800720215, 0.114201), (6400, 0.07828519344329835, 0.077424), (12800, 0.11723940372467041, 0.054673), (25600, 0.20131399631500244, 0.038598), (51200, 0.31742210388183595, 0.027295), (102400, 0.6238876104354858, 0.0192), (204800, 1.1578356981277467, 0.013689), (409600, 2.2576694965362547, 0.009679), (819200, 4.382184600830078, 0.006854), (1638400, 8.696835708618163, 0.004833), (3276800, 17.36780140399933, 0.003419), (6553600, 34.60739068984985, 0.002419)]\n"
       ]
      },
      {
       "output_type": "stream",
       "stream": "stdout",
       "text": [
        "\n",
        "7 on amazon-gpu-1(multicore_cpu): [(100, 0.2179352045059204, 1.44716), (200, 0.22307629585266114, 0.891807), (400, 0.2255986213684082, 0.667163), (800, 0.24847400188446045, 0.457056), (1600, 0.23227038383483886, 0.333552), (3200, 0.23735399246215821, 0.231701), (6400, 0.25286259651184084, 0.165073), (12800, 0.2760004043579102, 0.1162), (25600, 0.3381316900253296, 0.082195), (51200, 0.4535820960998535, 0.058224), (102400, 0.6891579151153564, 0.041154), (204800, 1.1357341051101684, 0.029055), (409600, 2.0488837003707885, 0.02057), (819200, 3.874041509628296, 0.014552), (1638400, 7.523348307609558, 0.010296), (3276800, 14.709905695915221, 0.007278), (6553600, 29.31852180957794, 0.005146)]\n"
       ]
      },
      {
       "output_type": "stream",
       "stream": "stdout",
       "text": [
        "\n",
        "5 on phi(multicore_cpu): [(100, 0.34741528034210206, 2.244254), (200, 0.3504532814025879, 1.378354), (400, 0.3510629892349243, 1.024966), (800, 0.3554282903671265, 0.70035), (1600, 0.35477728843688966, 0.500045), (3200, 0.35873558521270754, 0.349513), (6400, 0.36829409599304197, 0.251471), (12800, 0.37661788463592527, 0.176511), (25600, 0.40863239765167236, 0.126512), (51200, 0.47422218322753906, 0.089341), (102400, 0.5855190992355347, 0.063237), (204800, 0.7535830974578858, 0.044623), (409600, 1.1671913146972657, 0.031638), (819200, 1.893047308921814, 0.022383), (1638400, 3.586641001701355, 0.015789), (3276800, 6.030207705497742, 0.01117), (6553600, 12.829711985588073, 0.007898), (13107200, 22.99585888385773, 0.005583), (26214400, 42.36550970077515, 0.003949)]\n"
       ]
      },
      {
       "output_type": "stream",
       "stream": "stdout",
       "text": [
        "\n",
        "8 on ee-benjamin(multicore_cpu): [(100, 0.09010701179504395, 0.0), (200, 0.07578699588775635, 0.010796), (400, 0.0795022964477539, 0.007541), (800, 0.08008220195770263, 0.00255), (1600, 0.07901539802551269, 0.00689), (3200, 0.08505477905273437, 0.004793), (6400, 0.10198931694030762, 0.003808), (12800, 0.09008619785308838, 0.002547), (25600, 0.10934991836547851, 0.002152), (51200, 0.13303678035736083, 0.001508), (102400, 0.191344690322876, 0.001047), (204800, 0.3053440093994141, 0.000726), (409600, 0.4903597116470337, 0.000517), (819200, 0.9378313064575196, 0.00037), (1638400, 1.6113322019577025, 0.000259), (3276800, 3.0359286069869995, 0.000185), (6553600, 6.295912194252014, 0.000131), (13107200, 11.58084979057312, 9.3e-05), (26214400, 25.579112792015074, 6.6e-05)]\n"
       ]
      },
      {
       "output_type": "stream",
       "stream": "stdout",
       "text": [
        "\n",
        "6 on ee-snowball1(opencl_gpu): [(100, 0.15989580154418945, 0.660856), (200, 0.12679688930511473, 0.299253), (400, 0.12365148067474366, 0.314492), (800, 0.1415045976638794, 0.247023), (1600, 0.14344570636749268, 0.16788), (3200, 0.13502109050750732, 0.103018), (6400, 0.13630001544952391, 0.07931), (12800, 0.14129118919372557, 0.053376), (25600, 0.1506744146347046, 0.038459), (51200, 0.14164819717407226, 0.027092), (102400, 0.14265859127044678, 0.019405), (204800, 0.14578440189361572, 0.013371), (409600, 0.17111780643463134, 0.009608), (819200, 0.1920954942703247, 0.006804), (1638400, 0.27114851474761964, 0.00479), (3276800, 0.4131022930145264, 0.003403), (6553600, 0.689864206314087, 0.002386), (13107200, 1.2515565156936646, 0.001702), (26214400, 2.3515321969985963, 0.001208), (52428800, 4.594350719451905, 0.000854), (104857600, 8.957905888557434, 0.0006), (209715200, 17.73985359668732, 0.000424), (419430400, 35.412251996994016, 0.000302)]\n"
       ]
      },
      {
       "output_type": "stream",
       "stream": "stdout",
       "text": [
        "\n",
        "8 on ee-snowball0(opencl_gpu): [(100, 0.11581509113311768, 0.0), (200, 0.09402499198913575, 0.034106), (400, 0.10038628578186035, 0.020359), (800, 0.09042010307312012, 0.017266), (1600, 0.09115149974822997, 0.017265), (3200, 0.09892439842224121, 0.00493), (6400, 0.09888191223144531, 0.002016), (12800, 0.10699799060821533, 0.002742), (25600, 0.089798903465271, 0.002359), (51200, 0.09079561233520508, 0.001578), (102400, 0.09448020458221436, 0.001082), (204800, 0.10295939445495605, 0.000737), (409600, 0.12275619506835937, 0.000519), (819200, 0.16053669452667235, 0.000361), (1638400, 0.2005810022354126, 0.000265), (3276800, 0.30870728492736815, 0.0002), (6553600, 0.5306992053985595, 0.000136), (13107200, 0.963625693321228, 9.7e-05), (26214400, 1.8338177919387817, 6.6e-05), (52428800, 3.572139310836792, 4.8e-05), (104857600, 7.080222010612488, 3.3e-05), (209715200, 14.050573205947876, 2.4e-05), (419430400, 27.95210428237915, 1.7e-05)]\n"
       ]
      },
      {
       "output_type": "stream",
       "stream": "stdout",
       "text": [
        "\n",
        "6 on amazon-gpu-0(opencl_gpu): [(100, 0.13071510791778565, 0.969591), (200, 0.12918498516082763, 0.488246), (400, 0.13135790824890137, 0.329188), (800, 0.12984950542449952, 0.215145), (1600, 0.21398160457611085, 0.162142), (3200, 0.13106720447540282, 0.095377), (6400, 0.13478219509124756, 0.074216), (12800, 0.1315848112106323, 0.051404), (25600, 0.1331536054611206, 0.038064), (51200, 0.13446080684661865, 0.02785), (102400, 0.13639910221099855, 0.019031), (204800, 0.138762903213501, 0.013586), (409600, 0.1495450973510742, 0.009517), (819200, 0.16644179821014404, 0.006785), (1638400, 0.20115740299224855, 0.004821), (3276800, 0.27107360363006594, 0.003381), (6553600, 0.41079001426696776, 0.002426), (13107200, 0.6902464866638184, 0.001707), (26214400, 1.2455924034118653, 0.001204), (52428800, 2.3676207065582275, 0.000852), (104857600, 4.605064392089844, 0.000603), (209715200, 9.077798295021058, 0.000423), (419430400, 18.059734797477724, 0.000302), (838860800, 35.99477529525757, 0.000214)]\n"
       ]
      },
      {
       "output_type": "stream",
       "stream": "stdout",
       "text": [
        "\n",
        "5 on pi(multicore_cpu): [(100, 0.17091538906097412, 2.153706), (200, 0.20852811336517335, 1.381453), (400, 0.29595241546630857, 1.063297), (800, 0.4596143960952759, 0.761078), (1600, 0.8032760143280029, 0.516244), (3200, 1.484718108177185, 0.347864), (6400, 2.8260786056518556, 0.253497), (12800, 5.517537808418274, 0.178013), (25600, 10.9024108171463, 0.126426), (51200, 21.665391516685485, 0.089343), (102400, 43.25997619628906, 0.062932)]\n"
       ]
      },
      {
       "output_type": "stream",
       "stream": "stdout",
       "text": [
        "\n",
        "5 on amazon-cpu-0(multicore_cpu): [(100, 0.13528840541839598, 2.07225), (200, 0.13734331130981445, 1.508456), (400, 0.134635591506958, 0.993211), (800, 0.13607370853424072, 0.71419), (1600, 0.1345067024230957, 0.494515), (3200, 0.14362220764160155, 0.359949), (6400, 0.14731318950653077, 0.256043), (12800, 0.15920259952545165, 0.178939), (25600, 0.1799859046936035, 0.127437), (51200, 0.22832961082458497, 0.089228), (102400, 0.31743459701538085, 0.063025), (204800, 0.49535231590270995, 0.044582), (409600, 0.8620869874954223, 0.031652), (819200, 1.577128005027771, 0.022368), (1638400, 3.0981099128723146, 0.015799), (3276800, 5.956505489349365, 0.011172), (6553600, 11.674561500549316, 0.007903), (13107200, 23.36132709980011, 0.005586), (26214400, 46.27936978340149, 0.003945)]\n"
       ]
      },
      {
       "output_type": "stream",
       "stream": "stdout",
       "text": [
        "\n",
        "9 on (multicore_cpu): [(100, 0.0017927885055541992, 1.289601), (200, 0.0020418882369995115, 1.041753), (400, 0.003469681739807129, 0.655353), (800, 0.005571603775024414, 0.471167), (1600, 0.008762097358703614, 0.332234), (3200, 0.014038395881652833, 0.236728), (6400, 0.0285538911819458, 0.171278), (12800, 0.054899191856384276, 0.121197), (25600, 0.11419339179992676, 0.084738), (51200, 0.24137449264526367, 0.060099), (102400, 0.4747344970703125, 0.042562), (204800, 0.8432667970657348, 0.029968), (409600, 1.6787338972091674, 0.021206), (819200, 3.434109902381897, 0.015007), (1638400, 6.67189130783081, 0.010616), (3276800, 13.74384400844574, 0.007502), (6553600, 26.371940112113954, 0.005307)]\n"
       ]
      },
      {
       "output_type": "stream",
       "stream": "stdout",
       "text": [
        "\n",
        "6 on amazon-cpu-1(multicore_cpu): [(100, 0.23027942180633545, 0.54228), (200, 0.22811992168426515, 0.455861), (400, 0.22988579273223878, 0.274727), (800, 0.23098089694976806, 0.207477), (1600, 0.23438189029693604, 0.149887), (3200, 0.2356642961502075, 0.110381), (6400, 0.24358508586883545, 0.075861), (12800, 0.2543728113174438, 0.0546), (25600, 0.2760324954986572, 0.038898), (51200, 0.31895301342010496, 0.027286), (102400, 0.4127748966217041, 0.019466), (204800, 0.5924441814422607, 0.013658), (409600, 0.9519380092620849, 0.009686), (819200, 1.6767236948013307, 0.00684), (1638400, 3.175680088996887, 0.004846), (3276800, 5.999502801895142, 0.00342), (6553600, 11.77061049938202, 0.00242), (13107200, 23.307321500778198, 0.00171), (26214400, 46.37378530502319, 0.00121)]\n"
       ]
      },
      {
       "output_type": "stream",
       "stream": "stdout",
       "text": [
        "\n",
        "6 on amazon-gpu-1(opencl_gpu): [(100, 0.23250019550323486, 0.969591), (200, 0.22906169891357422, 0.488246), (400, 0.22992889881134032, 0.329188), (800, 0.23202009201049806, 0.215145), (1600, 0.2332911014556885, 0.162142), (3200, 0.23467710018157958, 0.095377), (6400, 0.23368070125579835, 0.074216), (12800, 0.23655550479888915, 0.051404), (25600, 0.233841609954834, 0.038064), (51200, 0.23701698780059816, 0.02785), (102400, 0.23651299476623536, 0.019031), (204800, 0.24613990783691406, 0.013586), (409600, 0.2594029903411865, 0.009517), (819200, 0.2672003984451294, 0.006785), (1638400, 0.30123751163482665, 0.004821), (3276800, 0.37010898590087893, 0.003381), (6553600, 0.5097911119461059, 0.002426), (13107200, 0.790904188156128, 0.001707), (26214400, 1.3498491048812866, 0.001204), (52428800, 2.4709626913070677, 0.000852), (104857600, 4.708603882789612, 0.000603), (209715200, 9.18007559776306, 0.000423), (419430400, 18.16329958438873, 0.000302), (838860800, 36.09967851638794, 0.000214)]\n"
       ]
      },
      {
       "output_type": "stream",
       "stream": "stdout",
       "text": [
        "\n",
        "8 on amazon-gpu-0(multicore_cpu): [(100, 0.12229950428009033, 0.028143), (200, 0.12198500633239746, 0.024251), (400, 0.12088289260864257, 0.007801), (800, 0.12110998630523681, 0.004368), (1600, 0.1225503921508789, 0.007618), (3200, 0.13049299716949464, 0.004994), (6400, 0.14455370903015136, 0.004653), (12800, 0.17871179580688476, 0.003086), (25600, 0.23461320400238037, 0.001897), (51200, 0.3472856044769287, 0.001588), (102400, 0.5832142114639283, 0.001019), (204800, 1.0476923942565919, 0.000741), (409600, 1.9351332902908325, 0.000514), (819200, 3.743011713027954, 0.000366), (1638400, 7.559321284294128, 0.000263), (3276800, 14.627814197540284, 0.000182), (6553600, 28.927428603172302, 0.000131)]\n"
       ]
      },
      {
       "output_type": "stream",
       "stream": "stdout",
       "text": [
        "\n",
        "5 on phi(opencl_gpu): [(1000, 0.935689902305603, nan), (2000, 0.961226511001587, nan), (4000, 0.9159274101257324, nan), (8000, 1.0026312828063966, nan), (16000, 2.202043890953064, nan), (32000, 2.259940505027771, nan), (64000, 2.2466584920883177, nan), (128000, 2.279008913040161, nan), (256000, 2.4394227981567385, nan), (512000, 2.5626829862594604, nan), (1024000, 3.027018594741821, nan), (2048000, 3.4033405065536497, nan), (4096000, 4.268387985229492, nan), (8192000, 5.837825798988343, nan), (16384000, 9.280225992202759, nan), (32768000, 16.862622499465942, nan), (65536000, 31.877215409278868, nan)]\n"
       ]
      },
      {
       "output_type": "stream",
       "stream": "stdout",
       "text": [
        "\n",
        "8 on amazon-gpu-1(multicore_cpu): [(100, 0.22262978553771973, 0.028143), (200, 0.2253635883331299, 0.024251), (400, 0.22362642288208007, 0.007801), (800, 0.2263045072555542, 0.004368), (1600, 0.2318718910217285, 0.007618), (3200, 0.23769311904907225, 0.004994), (6400, 0.2503231048583984, 0.004653), (12800, 0.2782011032104492, 0.003086), (25600, 0.33598239421844484, 0.001897), (51200, 0.45161240100860595, 0.001588), (102400, 0.679098391532898, 0.001019), (204800, 1.1377824068069458, 0.000741), (409600, 2.0475950956344606, 0.000514), (819200, 3.869528293609619, 0.000366), (1638400, 7.508187198638916, 0.000263), (3276800, 14.795216703414917, 0.000182), (6553600, 29.194344806671143, 0.000131)]\n"
       ]
      },
      {
       "output_type": "stream",
       "stream": "stdout",
       "text": [
        "\n",
        "9 on ee-benjamin(multicore_cpu): [(100, 0.09412357807159424, 1.543748), (200, 0.07539908885955811, 0.894535), (400, 0.07512290477752685, 0.676077), (800, 0.07669000625610352, 0.486137), (1600, 0.07708320617675782, 0.336435), (3200, 0.0792017936706543, 0.240922), (6400, 0.09211349487304688, 0.169686), (12800, 0.10046169757843018, 0.119187), (25600, 0.11280431747436523, 0.084207), (51200, 0.14010930061340332, 0.059974), (102400, 0.20132169723510743, 0.042453), (204800, 0.2985208034515381, 0.029965), (409600, 0.5139892816543579, 0.021231), (819200, 0.946649694442749, 0.015015), (1638400, 1.6694593906402588, 0.010609), (3276800, 3.274627685546875, 0.007506), (6553600, 6.691675019264221, 0.005309), (13107200, 13.190285301208496, 0.003752), (26214400, 25.497329998016358, 0.002654)]\n"
       ]
      },
      {
       "output_type": "stream",
       "stream": "stdout",
       "text": [
        "\n",
        "7 on ee-mollie(multicore_cpu): [(100, 0.05272860527038574, 1.44716), (200, 0.044589805603027347, 0.891807), (400, 0.056901192665100096, 0.667163), (800, 0.08109011650085449, 0.457056), (1600, 0.09563930034637451, 0.333552), (3200, 0.05724599361419678, 0.231701), (6400, 0.0877406120300293, 0.165073), (12800, 0.11241068840026855, 0.1162), (25600, 0.1999500036239624, 0.082195), (51200, 0.35018861293792725, 0.058224), (102400, 0.5844451189041138, 0.041154), (204800, 1.1422775030136108, 0.029055), (409600, 2.2866699934005736, 0.02057), (819200, 4.347839999198913, 0.014552), (1638400, 8.738189888000488, 0.010296), (3276800, 17.31474208831787, 0.007278), (6553600, 34.31527400016785, 0.005146)]\n"
       ]
      },
      {
       "output_type": "stream",
       "stream": "stdout",
       "text": [
        "\n",
        "9 on ee-snowball0(opencl_gpu): [(100, 0.09715430736541748, 1.235632), (200, 0.08767898082733154, 0.930659), (400, 0.08497118949890137, 0.680945), (800, 0.08354089260101319, 0.472476), (1600, 0.07866771221160888, 0.345608), (3200, 0.08563110828399659, 0.244513), (6400, 0.11085588932037353, 0.170124), (12800, 0.09635388851165771, 0.118633), (25600, 0.08507030010223389, 0.084614), (51200, 0.08767960071563721, 0.060307), (102400, 0.09218549728393555, 0.04251), (204800, 0.0982123851776123, 0.030154), (409600, 0.11615638732910157, 0.021227), (819200, 0.14399940967559816, 0.015005), (1638400, 0.18842840194702148, 0.010628), (3276800, 0.3029962062835693, 0.007515), (6553600, 0.5231167078018188, 0.005312), (13107200, 0.9698374986648559, 0.003756), (26214400, 1.841274380683899, 0.002656), (52428800, 3.584179902076721, 0.001878), (104857600, 7.057237386703491, 0.001328), (209715200, 14.074907493591308, 0.000939), (419430400, 27.951244497299193, 0.000664)]\n"
       ]
      },
      {
       "output_type": "stream",
       "stream": "stdout",
       "text": [
        "\n",
        "4 on ee-snowball2(opencl_alterafpga): [(100, 0.22804300785064696, 0.350393), (200, 0.20469751358032226, 0.220512), (400, 0.15099520683288575, 0.159511), (800, 0.16394929885864257, 0.111655), (1600, 0.15595531463623047, 0.096385), (3200, 0.199692702293396, 0.059673), (6400, 0.2018068790435791, 0.046896), (12800, 0.2841033935546875, 0.032589), (25600, 0.3451321840286255, 0.022755), (51200, 0.9014724016189575, 0.015258), (102400, 4.46204628944397, 0.011724), (204800, 20.840207600593565, 0.008142), (409600, 88.19639859199523, 0.005689)]\n"
       ]
      },
      {
       "output_type": "stream",
       "stream": "stdout",
       "text": [
        "\n",
        "7 on ee-snowball1(opencl_gpu): [(100, 0.15949819087982178, 0.974996), (200, 0.12718968391418456, 0.844564), (400, 0.12495520114898681, 0.727147), (800, 0.1377341032028198, 0.489515), (1600, 0.14320008754730223, 0.358624), (3200, 0.1517798900604248, 0.241666), (6400, 0.13817861080169677, 0.169009), (12800, 0.13998539447784425, 0.116198), (25600, 0.14680190086364747, 0.081038), (51200, 0.13817548751831055, 0.057985), (102400, 0.14567489624023439, 0.041073), (204800, 0.14933700561523439, 0.029083), (409600, 0.17168989181518554, 0.020561), (819200, 0.1986694097518921, 0.014526), (1638400, 0.27284400463104247, 0.010292), (3276800, 0.41824021339416506, 0.00725), (6553600, 0.6866706848144531, 0.005112), (13107200, 1.2698726177215576, 0.003635), (26214400, 2.3430799007415772, 0.002576), (52428800, 4.545498204231262, 0.00182), (104857600, 8.95014410018921, 0.001278), (209715200, 17.70310981273651, 0.000907), (419430400, 35.39680440425873, 0.000645)]\n"
       ]
      },
      {
       "output_type": "stream",
       "stream": "stdout",
       "text": [
        "\n",
        "10 on (multicore_cpu): [(100, 0.0015301942825317384, 1.287866), (200, 0.0018887042999267579, 0.958472), (400, 0.00312190055847168, 0.720291), (800, 0.005858492851257324, 0.49322), (1600, 0.008404397964477539, 0.373001), (3200, 0.013992691040039062, 0.259866), (6400, 0.028314685821533202, 0.180744), (12800, 0.05297961235046387, 0.129614), (25600, 0.10698020458221436, 0.091835), (51200, 0.2047382116317749, 0.065197), (102400, 0.4170506954193115, 0.046183), (204800, 0.8371602058410644, 0.032273), (409600, 1.6409846067428588, 0.023058), (819200, 3.349539613723755, 0.016263), (1638400, 6.752396583557129, 0.011481), (3276800, 13.237955784797668, 0.00812), (6553600, 26.861248588562013, 0.005745)]\n"
       ]
      },
      {
       "output_type": "stream",
       "stream": "stdout",
       "text": [
        "\n",
        "7 on amazon-cpu-1(multicore_cpu): [(100, 0.2195918083190918, 1.538434), (200, 0.22876300811767578, 0.94432), (400, 0.23245489597320557, 0.67226), (800, 0.23221418857574463, 0.477431), (1600, 0.23286452293395996, 0.32802), (3200, 0.2361521005630493, 0.230829), (6400, 0.2426891803741455, 0.164379), (12800, 0.2522531032562256, 0.118577), (25600, 0.2773094892501831, 0.081858), (51200, 0.32187159061431886, 0.058212), (102400, 0.4122073888778687, 0.041192), (204800, 0.5936315059661865, 0.029089), (409600, 0.9565423965454102, 0.020604), (819200, 1.6838688135147095, 0.01453), (1638400, 3.1464273929595947, 0.010288), (3276800, 6.079526805877686, 0.007278), (6553600, 12.040755200386048, 0.005146), (13107200, 23.49594271183014, 0.003635)]\n"
       ]
      },
      {
       "output_type": "stream",
       "stream": "stdout",
       "text": [
        "\n",
        "7 on amazon-gpu-0(opencl_gpu): [(100, 0.1296215057373047, 0.973652), (200, 0.1298142910003662, 0.855971), (400, 0.12933149337768554, 0.629062), (800, 0.12882368564605712, 0.554838), (1600, 0.1326443910598755, 0.317124), (3200, 0.1337045907974243, 0.245121), (6400, 0.13187940120697023, 0.170241), (12800, 0.13161790370941162, 0.115005), (25600, 0.13168818950653077, 0.082742), (51200, 0.1322437047958374, 0.058734), (102400, 0.1335829019546509, 0.041047), (204800, 0.13894591331481934, 0.029104), (409600, 0.14943311214447022, 0.020653), (819200, 0.16709389686584472, 0.014508), (1638400, 0.19912450313568114, 0.010266), (3276800, 0.26980669498443605, 0.007262), (6553600, 0.40935871601104734, 0.005139), (13107200, 0.6903264999389649, 0.003637), (26214400, 1.2562660932540894, 0.002561), (52428800, 2.372938299179077, 0.00181), (104857600, 4.592761707305908, 0.001282), (209715200, 9.069418597221375, 0.000904), (419430400, 17.99770939350128, 0.000644), (838860800, 35.83357238769531, 0.000454)]\n"
       ]
      },
      {
       "output_type": "stream",
       "stream": "stdout",
       "text": [
        "\n",
        "6 on phi(multicore_cpu): [(100, 0.3526233911514282, 0.594355), (200, 0.3705556869506836, 0.45298), (400, 0.35125820636749266, 0.328037), (800, 0.3533858060836792, 0.219274), (1600, 0.35657129287719724, 0.146334), (3200, 0.35834901332855223, 0.108277), (6400, 0.36780538558959963, 0.078803), (12800, 0.37335541248321535, 0.053765), (25600, 0.40833330154418945, 0.038522), (51200, 0.47344489097595216, 0.027512), (102400, 0.5960191011428833, 0.019496), (204800, 0.788559103012085, 0.013704), (409600, 1.1434789180755616, 0.009665), (819200, 1.9400353908538819, 0.006851), (1638400, 3.6612910985946656, 0.004839), (3276800, 6.32753369808197, 0.003424), (6553600, 11.74955439567566, 0.00242), (13107200, 23.27838990688324, 0.001711), (26214400, 47.458293604850766, 0.00121)]\n"
       ]
      },
      {
       "output_type": "stream",
       "stream": "stdout",
       "text": [
        "\n",
        "9 on amazon-gpu-0(multicore_cpu): [(100, 0.12075409889221192, 1.289601), (200, 0.12079308032989503, 1.041753), (400, 0.12409899234771729, 0.655353), (800, 0.12499220371246338, 0.471167), (1600, 0.1286329984664917, 0.332234), (3200, 0.13742949962615966, 0.236728), (6400, 0.14854249954223633, 0.171278), (12800, 0.1750619888305664, 0.121197), (25600, 0.2322089910507202, 0.084738), (51200, 0.3476968050003052, 0.060099), (102400, 0.5755724906921387, 0.042562), (204800, 1.0442268133163453, 0.029968), (409600, 1.9395686864852906, 0.021206), (819200, 3.7536734104156495, 0.015007), (1638400, 7.403698205947876, 0.010616), (3276800, 14.652927899360657, 0.007502), (6553600, 29.095482110977173, 0.005307)]\n"
       ]
      },
      {
       "output_type": "stream",
       "stream": "stdout",
       "text": [
        "\n",
        "4 on ee-mollie(maxeler_fpga): [(100, 0.06034440994262695, 0.352179), (200, 0.06505749225616456, 0.288596), (400, 0.08754498958587646, 0.0864), (800, 0.05054759979248047, 0.161475), (1600, 0.05111739635467529, 0.094446), (3200, 0.06134510040283203, 0.073273), (6400, 0.051766395568847656, 0.052188), (12800, 0.07783191204071045, 0.034225), (25600, 0.0526500940322876, 0.022187), (51200, 0.056498599052429196, 0.01624), (102400, 0.11812019348144531, 0.011682), (204800, 0.06855268478393554, 0.008211), (409600, 0.11791808605194092, 0.005782), (819200, 0.19922730922698975, 0.004083), (1638400, 0.3048222780227661, 0.002905), (3276800, 0.49349610805511473, 0.002051), (6553600, 0.9712548017501831, 0.001442), (13107200, 1.8686614990234376, 0.001018), (26214400, 3.610977602005005, 0.000722), (52428800, 7.18586311340332, 0.00051), (104857600, 14.175391912460327, 0.000361), (209715200, 28.358104705810547, 0.000255)]\n"
       ]
      },
      {
       "output_type": "stream",
       "stream": "stdout",
       "text": [
        "\n",
        "6 on pi(multicore_cpu): [(100, 0.17180099487304687, 0.721407), (200, 0.20772500038146974, 0.437792), (400, 0.29365780353546145, 0.342747), (800, 0.46474010944366456, 0.243201), (1600, 0.7974195957183838, 0.156285), (3200, 1.468703603744507, 0.108072), (6400, 2.8100969076156614, 0.078203), (12800, 5.494868612289428, 0.054253), (25600, 10.869189119338989, 0.038318), (51200, 21.582766008377074, 0.027463), (102400, 43.04227590560913, 0.019458)]\n"
       ]
      },
      {
       "output_type": "stream",
       "stream": "stdout",
       "text": [
        "\n",
        "10 on ee-benjamin(multicore_cpu): [(100, 0.09039161205291749, 1.786584), (200, 0.07800610065460205, 1.101337), (400, 0.08357670307159423, 0.711438), (800, 0.07834219932556152, 0.497591), (1600, 0.07879219055175782, 0.373586), (3200, 0.08480920791625976, 0.26242), (6400, 0.09333648681640624, 0.186612), (12800, 0.0918813943862915, 0.128772), (25600, 0.11456539630889892, 0.092452), (51200, 0.14734311103820802, 0.064742), (102400, 0.17558088302612304, 0.046069), (204800, 0.3181950807571411, 0.032451), (409600, 0.5108544111251831, 0.022984), (819200, 1.020226287841797, 0.016255), (1638400, 1.7859739065170288, 0.011478), (3276800, 3.505722999572754, 0.008118), (6553600, 6.922676396369934, 0.005748), (13107200, 14.38003749847412, 0.004063), (26214400, 26.19671950340271, 0.002874)]\n"
       ]
      },
      {
       "output_type": "stream",
       "stream": "stdout",
       "text": [
        "\n",
        "7 on amazon-gpu-1(opencl_gpu): [(100, 0.2318802833557129, 0.973652), (200, 0.23146300315856932, 0.855971), (400, 0.23099768161773682, 0.629062), (800, 0.2317375898361206, 0.554838), (1600, 0.23342010974884034, 0.317124), (3200, 0.23401310443878173, 0.245121), (6400, 0.2330103874206543, 0.170241), (12800, 0.23189451694488525, 0.115005), (25600, 0.23457701206207277, 0.082742), (51200, 0.2336186170578003, 0.058734), (102400, 0.23362162113189697, 0.041047), (204800, 0.24104390144348145, 0.029104), (409600, 0.2508121967315674, 0.020653), (819200, 0.27132339477539064, 0.014508), (1638400, 0.30352129936218264, 0.010266), (3276800, 0.3710317134857178, 0.007262), (6553600, 0.5092648029327392, 0.005139), (13107200, 0.7890784978866577, 0.003637), (26214400, 1.3564703941345215, 0.002561), (52428800, 2.4794793128967285, 0.00181), (104857600, 4.69459719657898, 0.001282), (209715200, 9.17132019996643, 0.000904), (419430400, 18.100114393234254, 0.000644), (838860800, 35.935116696357724, 0.000454)]\n"
       ]
      },
      {
       "output_type": "stream",
       "stream": "stdout",
       "text": [
        "\n",
        "9 on amazon-gpu-1(multicore_cpu): [(100, 0.2248234987258911, 1.289601), (200, 0.22320230007171632, 1.041753), (400, 0.22330789566040038, 0.655353), (800, 0.2273038864135742, 0.471167), (1600, 0.22703440189361573, 0.332234), (3200, 0.2383103847503662, 0.236728), (6400, 0.252278995513916, 0.171278), (12800, 0.27912259101867676, 0.121197), (25600, 0.3411149024963379, 0.084738), (51200, 0.4457842826843262, 0.060099), (102400, 0.881578803062439, 0.042562), (204800, 1.1362962961196899, 0.029968), (409600, 2.0518154859542848, 0.021206), (819200, 3.884685587882996, 0.015007), (1638400, 7.515833711624145, 0.010616), (3276800, 14.804611110687256, 0.007502), (6553600, 29.224468994140626, 0.005307)]\n"
       ]
      },
      {
       "output_type": "stream",
       "stream": "stdout",
       "text": [
        "\n",
        "6 on amazon-cpu-0(multicore_cpu): [(100, 0.12140431404113769, 0.547449), (200, 0.12021698951721191, 0.447038), (400, 0.12019658088684082, 0.282149), (800, 0.13475100994110106, 0.204163), (1600, 0.13943979740142823, 0.15319), (3200, 0.1415937900543213, 0.109567), (6400, 0.14738221168518068, 0.078352), (12800, 0.15665650367736816, 0.055286), (25600, 0.1852642059326172, 0.039304), (51200, 0.22682838439941405, 0.027502), (102400, 0.3188992977142334, 0.019322), (204800, 0.5004930019378662, 0.013757), (409600, 0.8577479839324951, 0.009683), (819200, 1.6068411111831664, 0.006831), (1638400, 3.0204061031341554, 0.004843), (3276800, 5.905999302864075, 0.003421), (6553600, 11.713264012336731, 0.002418), (13107200, 23.216674590110777, 0.001713), (26214400, 47.47581398487091, 0.00121)]\n"
       ]
      },
      {
       "output_type": "stream",
       "stream": "stdout",
       "text": [
        "\n",
        "8 on ee-mollie(multicore_cpu): [(100, 0.1528702974319458, 0.028143), (200, 0.04255218505859375, 0.024251), (400, 0.060024690628051755, 0.007801), (800, 0.053034186363220215, 0.004368), (1600, 0.05937349796295166, 0.007618), (3200, 0.06646220684051514, 0.004994), (6400, 0.065077805519104, 0.004653), (12800, 0.1172325849533081, 0.003086), (25600, 0.18451440334320068, 0.001897), (51200, 0.3582468032836914, 0.001588), (102400, 0.5868453979492188, 0.001019), (204800, 1.1666186809539796, 0.000741), (409600, 2.2333525896072386, 0.000514), (819200, 4.396687698364258, 0.000366), (1638400, 8.702597713470459, 0.000263), (3276800, 17.324082994461058, 0.000182), (6553600, 34.60056099891663, 0.000131)]\n"
       ]
      },
      {
       "output_type": "stream",
       "stream": "stdout",
       "text": [
        "\n",
        "11 on (multicore_cpu): [(100, 0.0016078948974609375, 1.420974), (200, 0.0017760992050170898, 1.066039), (400, 0.0029935836791992188, 0.746754), (800, 0.0040446043014526365, 0.525079), (1600, 0.007960200309753418, 0.365872), (3200, 0.014502692222595214, 0.262075), (6400, 0.03223650455474854, 0.18452), (12800, 0.057887697219848634, 0.131176), (25600, 0.11085219383239746, 0.092614), (51200, 0.21167340278625488, 0.065628), (102400, 0.41937639713287356, 0.046454), (204800, 0.853289794921875, 0.032832), (409600, 1.7213563203811646, 0.023226), (819200, 3.358659195899963, 0.016439), (1638400, 6.807893395423889, 0.011613), (3276800, 13.360051107406616, 0.008213), (6553600, 26.53512008190155, 0.005808)]\n"
       ]
      },
      {
       "output_type": "stream",
       "stream": "stdout",
       "text": [
        "\n",
        "6 on phi(opencl_gpu): [(1000, 0.9323819160461426, nan), (2000, 0.8947189807891845, nan), (4000, 0.8902265071868897, nan), (8000, 0.9651364088058472, nan), (16000, 2.254926300048828, nan), (32000, 2.3406343936920164, nan), (64000, 2.234629583358765, nan), (128000, 2.439782214164734, nan), (256000, 2.3609297037124635, nan), (512000, 2.5812278985977173, nan), (1024000, 3.145444416999817, nan), (2048000, 3.390948700904846, nan), (4096000, 4.3175801038742065, nan), (8192000, 5.888017988204956, nan), (16384000, 9.248990797996521, nan), (32768000, 16.721994495391847, nan), (65536000, 31.793987607955934, nan)]\n"
       ]
      },
      {
       "output_type": "stream",
       "stream": "stdout",
       "text": [
        "\n",
        "8 on ee-snowball1(opencl_gpu): [(100, 0.14966812133789062, 0.0), (200, 0.13368799686431884, 0.0), (400, 0.13541550636291505, 0.055119), (800, 0.13483190536499023, 0.004655), (1600, 0.14603087902069092, 0.009037), (3200, 0.13407399654388427, 0.0), (6400, 0.15088069438934326, 0.003373), (12800, 0.14997539520263672, 0.002136), (25600, 0.13995561599731446, 0.001819), (51200, 0.13684380054473877, 0.001457), (102400, 0.11817851066589355, 0.001019), (204800, 0.1499755859375, 0.000739), (409600, 0.16992709636688233, 0.000554), (819200, 0.19500188827514647, 0.000352), (1638400, 0.28017868995666506, 0.000255), (3276800, 0.4181915044784546, 0.00018), (6553600, 0.6839206933975219, 0.000166), (13107200, 1.2507520914077759, 9.4e-05), (26214400, 2.3798437118530273, 6.7e-05), (52428800, 4.546295309066773, 4.4e-05), (104857600, 8.935836720466614, 3.4e-05), (209715200, 17.725303602218627, 2.3e-05), (419430400, 35.338273596763614, 1.7e-05)]\n"
       ]
      },
      {
       "output_type": "stream",
       "stream": "stdout",
       "text": [
        "\n",
        "10 on amazon-gpu-0(multicore_cpu): [(100, 0.12171339988708496, 1.287866), (200, 0.11850779056549073, 0.958472), (400, 0.12180509567260742, 0.720291), (800, 0.12427670955657959, 0.49322), (1600, 0.12832870483398437, 0.373001), (3200, 0.13510189056396485, 0.259866), (6400, 0.15011730194091796, 0.180744), (12800, 0.17902801036834717, 0.129614), (25600, 0.2376032829284668, 0.091835), (51200, 0.3522979974746704, 0.065197), (102400, 0.5840500116348266, 0.046183), (204800, 1.040200901031494, 0.032273), (409600, 1.9611770153045653, 0.023058), (819200, 3.8761213064193725, 0.016263), (1638400, 7.479727697372437, 0.011481), (3276800, 14.851112699508667, 0.00812), (6553600, 29.48286418914795, 0.005745)]\n"
       ]
      },
      {
       "output_type": "stream",
       "stream": "stdout",
       "text": [
        "\n",
        "10 on ee-snowball0(opencl_gpu): [(100, 0.11200029850006103, 1.543706), (200, 0.09712870121002197, 0.983819), (400, 0.09162380695343017, 0.866818), (800, 0.08766579627990723, 0.505674), (1600, 0.0882030963897705, 0.372266), (3200, 0.08526370525360108, 0.250322), (6400, 0.10434179306030274, 0.1823), (12800, 0.08582608699798584, 0.128898), (25600, 0.08812940120697021, 0.092727), (51200, 0.09260859489440917, 0.064863), (102400, 0.09564909934997559, 0.04599), (204800, 0.10419628620147706, 0.03258), (409600, 0.13509621620178222, 0.023022), (819200, 0.16564338207244872, 0.01629), (1638400, 0.24884679317474365, 0.011497), (3276800, 0.4229228973388672, 0.008131), (6553600, 0.7456362962722778, 0.005742), (13107200, 1.4206931829452514, 0.004062), (26214400, 2.7421727180480957, 0.002873), (52428800, 5.389771199226379, 0.002031), (104857600, 10.67752571105957, 0.001437), (209715200, 21.25650029182434, 0.001016), (419430400, 42.433156394958495, 0.000718)]\n"
       ]
      },
      {
       "output_type": "stream",
       "stream": "stdout",
       "text": [
        "\n",
        "11 on ee-benjamin(multicore_cpu): [(100, 0.08541779518127442, 1.764695), (200, 0.07851979732513428, 1.00076), (400, 0.07746739387512207, 0.758018), (800, 0.08789849281311035, 0.519495), (1600, 0.05803890228271484, 0.373238), (3200, 0.08069839477539062, 0.260485), (6400, 0.08537471294403076, 0.187828), (12800, 0.09670000076293946, 0.132709), (25600, 0.11350669860839843, 0.092407), (51200, 0.1435379981994629, 0.065602), (102400, 0.22565159797668458, 0.046412), (204800, 0.31883649826049804, 0.032862), (409600, 0.5266023874282837, 0.023237), (819200, 0.9896611928939819, 0.016414), (1638400, 1.7704719066619874, 0.011616), (3276800, 3.444334101676941, 0.008215), (6553600, 6.742034292221069, 0.005808), (13107200, 13.11804838180542, 0.004107), (26214400, 27.7228716135025, 0.002905)]\n"
       ]
      },
      {
       "output_type": "stream",
       "stream": "stdout",
       "text": [
        "\n",
        "8 on amazon-gpu-0(opencl_gpu): [(100, 0.13011550903320312, 0.0), (200, 0.12646009922027587, 0.020885), (400, 0.13009400367736818, 0.0), (800, 0.1319936990737915, 0.013957), (1600, 0.13342831134796143, 0.001662), (3200, 0.13153960704803466, 0.005407), (6400, 0.13271539211273192, 0.00201), (12800, 0.1358947992324829, 0.001469), (25600, 0.13176281452178956, 0.00207), (51200, 0.13304359912872316, 0.001238), (102400, 0.13557980060577393, 0.001188), (204800, 0.14057841300964355, 0.000771), (409600, 0.1574244976043701, 0.000526), (819200, 0.16594929695129396, 0.000337), (1638400, 0.19916179180145263, 0.000255), (3276800, 0.2723863124847412, 0.000192), (6553600, 0.40857388973236086, 0.000136), (13107200, 0.6874222993850708, 9.4e-05), (26214400, 1.2430886030197144, 6.6e-05), (52428800, 2.3718194007873534, 4.4e-05), (104857600, 4.619413089752197, 6.2e-05), (209715200, 9.060372400283814, 3.2e-05), (419430400, 18.054408192634583, 1.6e-05), (838860800, 35.93583219051361, 1.1e-05)]\n"
       ]
      },
      {
       "output_type": "stream",
       "stream": "stdout",
       "text": [
        "\n",
        "10 on amazon-gpu-1(multicore_cpu): [(100, 0.22366800308227539, 1.287866), (200, 0.22454969882965087, 0.958472), (400, 0.22377409934997558, 0.720291), (800, 0.22672820091247559, 0.49322), (1600, 0.22944698333740235, 0.373001), (3200, 0.23829290866851807, 0.259866), (6400, 0.25229108333587646, 0.180744), (12800, 0.2803560018539429, 0.129614), (25600, 0.3389631986618042, 0.091835), (51200, 0.45410499572753904, 0.065197), (102400, 0.6950942039489746, 0.046183), (204800, 1.1480040073394775, 0.032273), (409600, 2.1185423135757446, 0.023058), (819200, 3.962916898727417, 0.016263), (1638400, 7.612985897064209, 0.011481), (3276800, 14.99947521686554, 0.00812), (6553600, 29.848917293548585, 0.005745)]\n"
       ]
      },
      {
       "output_type": "stream",
       "stream": "stdout",
       "text": [
        "\n",
        "8 on amazon-cpu-1(multicore_cpu): [(100, 0.22839908599853515, 0.0), (200, 0.2302229881286621, 0.037972), (400, 0.22629048824310302, 0.010233), (800, 0.23243410587310792, 0.00996), (1600, 0.23203349113464355, 0.007416), (3200, 0.23399620056152343, 0.004981), (6400, 0.24027512073516846, 0.005058), (12800, 0.25265021324157716, 0.002742), (25600, 0.2737833023071289, 0.00213), (51200, 0.3218203067779541, 0.001444), (102400, 0.4079774856567383, 0.001087), (204800, 0.5918935060501098, 0.000736), (409600, 0.9531293153762818, 0.000531), (819200, 1.6961924076080321, 0.000377), (1638400, 3.1394138097763062, 0.000263), (3276800, 5.999937701225281, 0.000187), (6553600, 11.76989300251007, 0.000131), (13107200, 23.311215686798096, 9.3e-05), (26214400, 46.66912369728088, 6.6e-05)]\n"
       ]
      },
      {
       "output_type": "stream",
       "stream": "stdout",
       "text": [
        "\n",
        "8 on amazon-gpu-1(opencl_gpu): [(100, 0.23023130893707275, 0.0), (200, 0.23204641342163085, 0.020885), (400, 0.23579831123352052, 0.0), (800, 0.22908270359039307, 0.013957), (1600, 0.233139705657959, 0.001662), (3200, 0.23320357799530028, 0.005407), (6400, 0.23084681034088134, 0.00201), (12800, 0.23471078872680665, 0.001469), (25600, 0.2349452018737793, 0.00207), (51200, 0.2314450979232788, 0.001238), (102400, 0.2353990077972412, 0.001188), (204800, 0.24242019653320312, 0.000771), (409600, 0.24778261184692382, 0.000526), (819200, 0.30284700393676756, 0.000337), (1638400, 0.29864230155944826, 0.000255), (3276800, 0.3690403938293457, 0.000192), (6553600, 0.5072160959243774, 0.000136), (13107200, 0.7852796077728271, 9.4e-05), (26214400, 1.347289490699768, 6.6e-05), (52428800, 2.473238396644592, 4.4e-05), (104857600, 4.724692296981812, 6.2e-05), (209715200, 9.160566210746765, 3.2e-05), (419430400, 18.156151795387267, 1.6e-05), (838860800, 36.03891170024872, 1.1e-05)]\n"
       ]
      },
      {
       "output_type": "stream",
       "stream": "stdout",
       "text": [
        "\n",
        "12 on (multicore_cpu): [(100, 0.001542210578918457, 4.163874), (200, 0.0019889116287231446, 2.807293), (400, 0.003039693832397461, 2.080596), (800, 0.0046708106994628905, 1.405638), (1600, 0.008261799812316895, 1.019837), (3200, 0.014210200309753418, 0.715826), (6400, 0.02822549343109131, 0.497434), (12800, 0.05949070453643799, 0.355518), (25600, 0.10912559032440186, 0.249517), (51200, 0.21924209594726562, 0.177366), (102400, 0.43446509838104247, 0.12533), (204800, 0.8781554937362671, 0.088527), (409600, 1.719202494621277, 0.062546), (819200, 3.4122714042663573, 0.044241), (1638400, 6.815934181213379, 0.031278), (3276800, 13.610557103157044, 0.022113), (6553600, 27.149515199661256, 0.015638)]\n"
       ]
      },
      {
       "output_type": "stream",
       "stream": "stdout",
       "text": [
        "\n",
        "5 on ee-snowball2(opencl_alterafpga): [(100, 0.2027116060256958, 2.183007), (200, 0.15074119567871094, 1.441351), (400, 0.14974169731140136, 1.047712), (800, 0.22152960300445557, 0.723119), (1600, 0.20964789390563965, 0.525171), (3200, 0.21007790565490722, 0.344661), (6400, 0.24823241233825682, 0.252102), (12800, 0.2583256006240845, 0.181125), (25600, 0.3838415861129761, 0.126266), (51200, 0.8682997941970825, 0.090494), (102400, 4.497761011123657, 0.063036), (204800, 20.83499209880829, 0.045164), (409600, 88.96410329341889, 0.031308)]\n"
       ]
      },
      {
       "output_type": "stream",
       "stream": "stdout",
       "text": [
        "\n",
        "7 on pi(multicore_cpu): [(100, 0.6836810111999512, 1.380542), (200, 0.20914762020111083, 0.881503), (400, 0.2932297945022583, 0.645153), (800, 0.4583019018173218, 0.439265), (1600, 0.8009687900543213, 0.328336), (3200, 1.4671795129776002, 0.229238), (6400, 2.813481307029724, 0.164998), (12800, 5.494038486480713, 0.115926), (25600, 10.86586549282074, 0.082671), (51200, 21.618668699264525, 0.058295), (102400, 43.058600187301636, 0.041224)]\n"
       ]
      },
      {
       "output_type": "stream",
       "stream": "stdout",
       "text": [
        "\n",
        "9 on ee-mollie(multicore_cpu): [(100, 0.0810042142868042, 1.289601), (200, 0.049504208564758304, 1.041753), (400, 0.05112090110778809, 0.655353), (800, 0.05302581787109375, 0.471167), (1600, 0.056130290031433105, 0.332234), (3200, 0.06759350299835205, 0.236728), (6400, 0.08316471576690673, 0.171278), (12800, 0.11714258193969726, 0.121197), (25600, 0.21475119590759278, 0.084738), (51200, 0.3218685150146484, 0.060099), (102400, 0.6195058107376099, 0.042562), (204800, 1.1779850006103516, 0.029968), (409600, 2.243341088294983, 0.021206), (819200, 4.408982801437378, 0.015007), (1638400, 8.776363801956176, 0.010616), (3276800, 17.43620882034302, 0.007502), (6553600, 34.70081050395966, 0.005307)]\n"
       ]
      },
      {
       "output_type": "stream",
       "stream": "stdout",
       "text": [
        "\n",
        "7 on phi(multicore_cpu): [(100, 0.3495702028274536, 1.376046), (200, 0.3526895046234131, 0.9392), (400, 0.35226919651031496, 0.644174), (800, 0.3538218021392822, 0.483389), (1600, 0.3552710056304932, 0.33575), (3200, 0.35450479984283445, 0.234807), (6400, 0.3632150888442993, 0.165289), (12800, 0.3813776969909668, 0.115946), (25600, 0.41406660079956054, 0.081721), (51200, 0.456323504447937, 0.058327), (102400, 0.5897005081176758, 0.041253), (204800, 0.8139726877212524, 0.029167), (409600, 1.328519606590271, 0.020595), (819200, 2.0110037088394166, 0.014535), (1638400, 3.8650851011276246, 0.010286), (3276800, 6.73855049610138, 0.007282), (6553600, 12.242283511161805, 0.005145), (13107200, 23.396507811546325, 0.003639), (26214400, 47.99689681529999, 0.002572)]\n"
       ]
      },
      {
       "output_type": "stream",
       "stream": "stdout",
       "text": [
        "\n",
        "7 on amazon-cpu-0(multicore_cpu): [(100, 0.13598361015319824, 1.349866), (200, 0.13382341861724853, 0.905309), (400, 0.1358956813812256, 0.678961), (800, 0.13425719738006592, 0.472555), (1600, 0.14115588665008544, 0.328037), (3200, 0.14118881225585939, 0.227816), (6400, 0.14839630126953124, 0.163429), (12800, 0.1590404987335205, 0.117957), (25600, 0.1827632188796997, 0.082849), (51200, 0.22711489200592042, 0.058458), (102400, 0.31848199367523194, 0.041223), (204800, 0.5020498991012573, 0.029127), (409600, 0.8720427989959717, 0.02057), (819200, 1.5913937091827393, 0.014564), (1638400, 3.0525048971176147, 0.010297), (3276800, 6.063221597671509, 0.007278), (6553600, 11.769262313842773, 0.005145), (13107200, 23.407131695747374, 0.003638), (26214400, 46.6681890964508, 0.00257)]\n"
       ]
      },
      {
       "output_type": "stream",
       "stream": "stdout",
       "text": [
        "\n",
        "11 on amazon-gpu-0(multicore_cpu): [(100, 0.12172119617462158, 1.420974), (200, 0.12258288860321045, 1.066039), (400, 0.12311310768127441, 0.746754), (800, 0.12560889720916749, 0.525079), (1600, 0.12991011142730713, 0.365872), (3200, 0.13494369983673096, 0.262075), (6400, 0.1477855920791626, 0.18452), (12800, 0.17777540683746337, 0.131176), (25600, 0.2351750135421753, 0.092614), (51200, 0.3551051139831543, 0.065628), (102400, 0.5865803003311157, 0.046454), (204800, 1.0631739139556884, 0.032832), (409600, 2.0054316997528074, 0.023226), (819200, 3.804356813430786, 0.016439), (1638400, 7.5265075206756595, 0.011613), (3276800, 15.121786904335021, 0.008213), (6553600, 29.887703800201415, 0.005808)]\n"
       ]
      },
      {
       "output_type": "stream",
       "stream": "stdout",
       "text": [
        "\n",
        "12 on ee-benjamin(multicore_cpu): [(100, 0.08732430934906006, 3.340993), (200, 0.08105189800262451, 3.420388), (400, 0.07713980674743652, 2.145816), (800, 0.0776106834411621, 1.426351), (1600, 0.08001210689544677, 1.00463), (3200, 0.08232219219207763, 0.720806), (6400, 0.09962990283966064, 0.493202), (12800, 0.09379758834838867, 0.35193), (25600, 0.1161391019821167, 0.249686), (51200, 0.14068419933319093, 0.177302), (102400, 0.1961512804031372, 0.124936), (204800, 0.33072099685668943, 0.088576), (409600, 0.5597394943237305, 0.062518), (819200, 0.9716449022293091, 0.044187), (1638400, 1.827560806274414, 0.03124), (3276800, 3.4150692939758303, 0.022102), (6553600, 6.968615007400513, 0.01563), (13107200, 14.694720911979676, 0.011059), (26214400, 26.780542492866516, 0.007819)]\n"
       ]
      },
      {
       "output_type": "stream",
       "stream": "stdout",
       "text": [
        "\n",
        "5 on ee-mollie(maxeler_fpga): [(100, 0.05494270324707031, 2.083591), (200, 0.052030301094055174, 0.59983), (400, 0.05790269374847412, 0.849915), (800, 0.05588090419769287, 0.875275), (1600, 0.058286190032958984, 0.506896), (3200, 0.10501661300659179, 0.385855), (6400, 0.06000978946685791, 0.245172), (12800, 0.05322849750518799, 0.182608), (25600, 0.055223917961120604, 0.125965), (51200, 0.06217648983001709, 0.089308), (102400, 0.07067010402679444, 0.063655), (204800, 0.1136218786239624, 0.044751), (409600, 0.11199851036071777, 0.031456), (819200, 0.17223739624023438, 0.022457), (1638400, 0.2989146947860718, 0.015703), (3276800, 0.5217494964599609, 0.011165), (6553600, 0.9635565042495727, 0.007905), (13107200, 1.8429731130599976, 0.005584), (26214400, 3.6210880041122437, 0.003952), (52428800, 7.135757398605347, 0.002793), (104857600, 14.209024500846862, 0.001974), (209715200, 28.298881316184996, 0.001396)]\n"
       ]
      },
      {
       "output_type": "stream",
       "stream": "stdout",
       "text": [
        "\n",
        "9 on ee-snowball1(opencl_gpu): [(100, 0.1532012939453125, 1.256757), (200, 0.1313222885131836, 0.980556), (400, 0.126894211769104, 0.673276), (800, 0.12713470458984374, 0.461045), (1600, 0.13986730575561523, 0.333997), (3200, 0.13601858615875245, 0.242739), (6400, 0.1350178003311157, 0.172591), (12800, 0.12995269298553466, 0.121149), (25600, 0.13366308212280273, 0.085286), (51200, 0.14160690307617188, 0.059946), (102400, 0.13655478954315187, 0.04269), (204800, 0.1430994987487793, 0.029904), (409600, 0.16681110858917236, 0.021253), (819200, 0.18989219665527343, 0.014935), (1638400, 0.2716273069381714, 0.010634), (3276800, 0.4116865873336792, 0.007461), (6553600, 0.6817593097686767, 0.005324), (13107200, 1.2378118991851808, 0.003761), (26214400, 2.3432953119277955, 0.002643), (52428800, 4.5724074125289915, 0.001878), (104857600, 8.926373100280761, 0.001328), (209715200, 17.761771202087402, 0.000936), (419430400, 35.3881520986557, 0.00066)]\n"
       ]
      },
      {
       "output_type": "stream",
       "stream": "stdout",
       "text": [
        "\n",
        "9 on amazon-cpu-1(multicore_cpu): [(100, 0.22998600006103515, 1.405032), (200, 0.23026440143585206, 0.7751), (400, 0.22891051769256593, 0.654635), (800, 0.23309710025787353, 0.484293), (1600, 0.23329169750213624, 0.343865), (3200, 0.23608620166778566, 0.240166), (6400, 0.2424532175064087, 0.171356), (12800, 0.24988648891448975, 0.120368), (25600, 0.2763484001159668, 0.084554), (51200, 0.3216259956359863, 0.059951), (102400, 0.41531369686126707, 0.042424), (204800, 0.602440881729126, 0.029999), (409600, 0.956196403503418, 0.021203), (819200, 1.6822882890701294, 0.015003), (1638400, 3.14047429561615, 0.010614), (3276800, 6.061230492591858, 0.007507), (6553600, 11.860734915733337, 0.005309), (13107200, 23.51063859462738, 0.003755)]\n"
       ]
      },
      {
       "output_type": "stream",
       "stream": "stdout",
       "text": [
        "\n",
        "7 on phi(opencl_gpu): [(1000, 0.8950716972351074, nan), (2000, 0.9664520025253296, nan), (4000, 0.9837172031402588, nan), (8000, 0.9745115041732788, nan), (16000, 2.1648706912994387, nan), (32000, 2.4142895936965942, nan), (64000, 2.3595901012420653, nan), (128000, 2.2190911054611204, nan), (256000, 2.3615283012390136, nan), (512000, 2.6946343898773195, nan), (1024000, 3.0653928995132445, nan), (2048000, 3.549283814430237, nan), (4096000, 4.387193512916565, nan), (8192000, 6.2778808832168576, nan), (16384000, 9.705494022369384, nan), (32768000, 16.72358682155609, nan), (65536000, 33.915468192100526, nan)]\n"
       ]
      },
      {
       "output_type": "stream",
       "stream": "stdout",
       "text": [
        "\n",
        "11 on amazon-gpu-1(multicore_cpu): [(100, 0.22292330265045165, 1.420974), (200, 0.2247873067855835, 1.066039), (400, 0.22108099460601807, 0.746754), (800, 0.2279749870300293, 0.525079), (1600, 0.23036651611328124, 0.365872), (3200, 0.23793399333953857, 0.262075), (6400, 0.25211410522460936, 0.18452), (12800, 0.2797935962677002, 0.131176), (25600, 0.3392772912979126, 0.092614), (51200, 0.45345377922058105, 0.065628), (102400, 0.6848405838012696, 0.046454), (204800, 1.1735305070877076, 0.032832), (409600, 2.0722733974456786, 0.023226), (819200, 3.9249230146408083, 0.016439), (1638400, 7.524260807037353, 0.011613), (3276800, 14.936573696136474, 0.008213), (6553600, 29.7160649061203, 0.005808)]\n"
       ]
      },
      {
       "output_type": "stream",
       "stream": "stdout",
       "text": [
        "\n",
        "9 on amazon-gpu-0(opencl_gpu): [(100, 0.13234291076660157, 1.068007), (200, 0.12992169857025146, 0.779992), (400, 0.12759511470794677, 0.611096), (800, 0.1297060012817383, 0.539196), (1600, 0.13332018852233887, 0.336172), (3200, 0.13242878913879394, 0.2476), (6400, 0.13253049850463866, 0.169754), (12800, 0.13267810344696046, 0.116321), (25600, 0.13278698921203613, 0.084691), (51200, 0.13261060714721679, 0.060651), (102400, 0.13614311218261718, 0.042545), (204800, 0.14033870697021483, 0.029919), (409600, 0.14943881034851075, 0.021112), (819200, 0.16546101570129396, 0.015024), (1638400, 0.19950530529022217, 0.010629), (3276800, 0.27110679149627687, 0.007543), (6553600, 0.4097289085388184, 0.005302), (13107200, 0.6882916927337647, 0.00376), (26214400, 1.2509369850158691, 0.002647), (52428800, 2.3678557157516478, 0.001868), (104857600, 4.607504892349243, 0.001323), (209715200, 9.06839940547943, 0.000939), (419430400, 18.058644104003907, 0.000661), (838860800, 35.92078139781952, 0.00047)]\n"
       ]
      },
      {
       "output_type": "stream",
       "stream": "stdout",
       "text": [
        "\n",
        "13 on (multicore_cpu): [(100, 0.001541900634765625, 1.388245), (200, 0.002100205421447754, 0.909615), (400, 0.0029512882232666016, 0.687117), (800, 0.004930186271667481, 0.485739), (1600, 0.008542203903198242, 0.354311), (3200, 0.015327215194702148, 0.243382), (6400, 0.030423307418823244, 0.173153), (12800, 0.058190202713012694, 0.121281), (25600, 0.1124413013458252, 0.086127), (51200, 0.2199686050415039, 0.061313), (102400, 0.43751940727233884, 0.043151), (204800, 0.8480172872543335, 0.030556), (409600, 1.6954078912734984, 0.021627), (819200, 3.3279541015625, 0.015292), (1638400, 6.631092691421509, 0.010807), (3276800, 13.080991101264953, 0.007642), (6553600, 26.496914196014405, 0.005405)]\n"
       ]
      },
      {
       "output_type": "stream",
       "stream": "stdout",
       "text": [
        "\n",
        "11 on ee-snowball0(opencl_gpu): [(100, 0.11014719009399414, 1.591646), (200, 0.08465471267700195, 1.011969), (400, 0.08558130264282227, 0.712026), (800, 0.0828253984451294, 0.524925), (1600, 0.08342008590698242, 0.361936), (3200, 0.08606150150299072, 0.26316), (6400, 0.09230780601501465, 0.187249), (12800, 0.09592278003692627, 0.131973), (25600, 0.10072140693664551, 0.092536), (51200, 0.09560129642486573, 0.06576), (102400, 0.09894440174102784, 0.046395), (204800, 0.11590139865875244, 0.032923), (409600, 0.13525550365447997, 0.023225), (819200, 0.17176969051361085, 0.016404), (1638400, 0.2548525810241699, 0.011613), (3276800, 0.4383311986923218, 0.008219), (6553600, 0.7537631988525391, 0.00581), (13107200, 1.4193892002105712, 0.004107), (26214400, 2.7432053089141846, 0.002904), (52428800, 5.356490302085876, 0.002054), (104857600, 10.671531319618225, 0.001452), (209715200, 21.228236293792726, 0.001027), (419430400, 42.41303329467773, 0.000726)]\n"
       ]
      },
      {
       "output_type": "stream",
       "stream": "stdout",
       "text": [
        "\n",
        "8 on amazon-cpu-0(multicore_cpu): [(100, 0.1214372158050537, 0.0), (200, 0.1358410120010376, 0.029068), (400, 0.13549940586090087, 0.006514), (800, 0.1366051197052002, 0.008104), (1600, 0.13940849304199218, 0.010665), (3200, 0.14171760082244872, 0.006215), (6400, 0.1479346990585327, 0.004485), (12800, 0.15814900398254395, 0.002945), (25600, 0.1821038007736206, 0.002107), (51200, 0.22644360065460206, 0.001476), (102400, 0.3155052900314331, 0.001163), (204800, 0.49372451305389403, 0.000734), (409600, 0.8598269939422607, 0.000528), (819200, 1.623188304901123, 0.000364), (1638400, 3.077242398262024, 0.000262), (3276800, 6.004400300979614, 0.000183), (6553600, 11.676151990890503, 0.000131), (13107200, 23.8284264087677, 9.3e-05)]\n"
       ]
      },
      {
       "output_type": "stream",
       "stream": "stdout",
       "text": [
        "\n",
        "9 on amazon-gpu-1(opencl_gpu): [(100, 0.22958731651306152, 1.068007), (200, 0.23155610561370848, 0.779992), (400, 0.23226480484008788, 0.611096), (800, 0.23158791065216064, 0.539196), (1600, 0.2342203140258789, 0.336172), (3200, 0.23530938625335693, 0.2476), (6400, 0.23390710353851318, 0.169754), (12800, 0.2340712070465088, 0.116321), (25600, 0.23255839347839355, 0.084691), (51200, 0.2313617944717407, 0.060651), (102400, 0.23495750427246093, 0.042545), (204800, 0.23778150081634522, 0.029919), (409600, 0.24992520809173585, 0.021112), (819200, 0.2689094066619873, 0.015024), (1638400, 0.30034871101379396, 0.010629), (3276800, 0.37080671787261965, 0.007543), (6553600, 0.5119201898574829, 0.005302), (13107200, 0.7913051843643188, 0.00376), (26214400, 1.35366690158844, 0.002647), (52428800, 2.4619900941848756, 0.001868), (104857600, 4.711317992210388, 0.001323), (209715200, 9.17404510974884, 0.000939), (419430400, 18.157131099700926, 0.000661), (838860800, 36.02116861343384, 0.00047)]\n"
       ]
      },
      {
       "output_type": "stream",
       "stream": "stdout",
       "text": [
        "\n",
        "10 on ee-mollie(multicore_cpu): [(100, 0.17961568832397462, 1.287866), (200, 0.053586387634277345, 0.958472), (400, 0.052103304862976076, 0.720291), (800, 0.05300769805908203, 0.49322), (1600, 0.058638691902160645, 0.373001), (3200, 0.06348979473114014, 0.259866), (6400, 0.0807560920715332, 0.180744), (12800, 0.11456718444824218, 0.129614), (25600, 0.21210830211639403, 0.091835), (51200, 0.32306110858917236, 0.065197), (102400, 0.6409307003021241, 0.046183), (204800, 1.1969398975372314, 0.032273), (409600, 2.2821720123291014, 0.023058), (819200, 4.502285599708557, 0.016263), (1638400, 8.808134388923644, 0.011481), (3276800, 17.64332780838013, 0.00812), (6553600, 35.01105070114136, 0.005745)]\n"
       ]
      },
      {
       "output_type": "stream",
       "stream": "stdout",
       "text": [
        "\n",
        "13 on ee-benjamin(multicore_cpu): [(100, 0.08970108032226562, 1.238367), (200, 0.08993120193481445, 0.924703), (400, 0.07991538047790528, 0.66572), (800, 0.0828883171081543, 0.474807), (1600, 0.07873728275299072, 0.349385), (3200, 0.07672770023345947, 0.245279), (6400, 0.09788339138031006, 0.172672), (12800, 0.09228630065917968, 0.122057), (25600, 0.10814459323883056, 0.086359), (51200, 0.13295397758483887, 0.06119), (102400, 0.19822118282318116, 0.043331), (204800, 0.30084848403930664, 0.03052), (409600, 0.5516817808151245, 0.021617), (819200, 0.9932777881622314, 0.015288), (1638400, 1.782839798927307, 0.010801), (3276800, 3.384475898742676, 0.007642), (6553600, 6.069538903236389, 0.005403), (13107200, 13.179339718818664, 0.003821), (26214400, 26.248116302490235, 0.002702)]\n"
       ]
      },
      {
       "output_type": "stream",
       "stream": "stdout",
       "text": [
        "\n",
        "12 on amazon-gpu-0(multicore_cpu): [(100, 0.1202016830444336, 4.163874), (200, 0.1237191915512085, 2.807293), (400, 0.1222836971282959, 2.080596), (800, 0.1264655113220215, 1.405638), (1600, 0.12944469451904297, 1.019837), (3200, 0.13740780353546142, 0.715826), (6400, 0.1513437032699585, 0.497434), (12800, 0.18112671375274658, 0.355518), (25600, 0.23956589698791503, 0.249517), (51200, 0.35930380821228025, 0.177366), (102400, 0.5952425956726074, 0.12533), (204800, 1.0678086042404176, 0.088527), (409600, 2.012501287460327, 0.062546), (819200, 3.894147491455078, 0.044241), (1638400, 7.778707718849182, 0.031278), (3276800, 15.18087570667267, 0.022113), (6553600, 30.290082001686095, 0.015638)]\n"
       ]
      },
      {
       "output_type": "stream",
       "stream": "stdout",
       "text": [
        "\n",
        "8 on pi(multicore_cpu): [(100, 0.16792008876800538, 0.0), (200, 0.20985760688781738, 0.013929), (400, 0.2994251012802124, 0.001608), (800, 0.46840529441833495, 0.00698), (1600, 0.7996281862258912, 0.015167), (3200, 1.4729454040527343, 0.005941), (6400, 2.8266653060913085, 0.003624), (12800, 5.521803188323974, 0.003847), (25600, 10.918691110610961, 0.002291), (51200, 21.708078503608704, 0.00146), (102400, 43.249667501449586, 0.001008)]\n"
       ]
      },
      {
       "output_type": "stream",
       "stream": "stdout",
       "text": [
        "\n",
        "10 on amazon-cpu-1(multicore_cpu): [(100, 0.22801921367645264, 1.309097), (200, 0.22937898635864257, 0.966315), (400, 0.2312023878097534, 0.74266), (800, 0.23306701183319092, 0.530687), (1600, 0.2354353904724121, 0.358127), (3200, 0.23556249141693114, 0.251547), (6400, 0.23965439796447754, 0.182646), (12800, 0.251895809173584, 0.130151), (25600, 0.280076789855957, 0.092506), (51200, 0.31963338851928713, 0.065046), (102400, 0.41568379402160643, 0.045717), (204800, 0.6092552900314331, 0.032402), (409600, 0.9642194032669067, 0.022988), (819200, 1.7159227132797241, 0.01629), (1638400, 3.163487505912781, 0.011484), (3276800, 6.131908106803894, 0.008124), (6553600, 12.086127400398254, 0.005743), (13107200, 23.9512521982193, 0.004062)]\n"
       ]
      },
      {
       "output_type": "stream",
       "stream": "stdout",
       "text": [
        "\n",
        "8 on phi(multicore_cpu): [(100, 0.34966750144958497, 0.0), (200, 0.34766128063201907, 0.000991), (400, 0.3543308019638062, 0.017243), (800, 0.35461561679840087, 0.008014), (1600, 0.3495205879211426, 0.007469), (3200, 0.35405168533325193, 0.006765), (6400, 0.36499991416931155, 0.003336), (12800, 0.3842745065689087, 0.002578), (25600, 0.41650149822235105, 0.002161), (51200, 0.4627784013748169, 0.001442), (102400, 0.5859716892242431, 0.001012), (204800, 0.7153339147567749, 0.000745), (409600, 1.262090802192688, 0.000505), (819200, 1.8518406867980957, 0.000367), (1638400, 3.3456043004989624, 0.000262), (3276800, 6.200920605659485, 0.000182), (6553600, 11.031671285629272, 0.000132), (13107200, 21.864486813545227, 9.2e-05), (26214400, 46.20159900188446, 6.5e-05)]\n"
       ]
      },
      {
       "output_type": "stream",
       "stream": "stdout",
       "text": [
        "\n",
        "14 on (multicore_cpu): [(100, 0.0010470867156982422, 1.772452), (200, 0.0013422966003417969, 1.392861), (400, 0.0020499944686889647, 1.062111), (800, 0.0031415939331054686, 0.718316), (1600, 0.005298709869384766, 0.525318), (3200, 0.00970611572265625, 0.360609), (6400, 0.02129099369049072, 0.256198), (12800, 0.03752889633178711, 0.186358), (25600, 0.06851639747619628, 0.129466), (51200, 0.13959410190582275, 0.092055), (102400, 0.23636400699615479, 0.064888), (204800, 0.43334379196166994, 0.045965), (409600, 0.8950679063796997, 0.032524), (819200, 1.7181551933288575, 0.023011), (1638400, 3.491226005554199, 0.016245), (3276800, 6.659501791000366, 0.01149), (6553600, 13.495366215705872, 0.00812), (13107200, 27.104117894172667, 0.005738)]\n"
       ]
      },
      {
       "output_type": "stream",
       "stream": "stdout",
       "text": [
        "\n",
        "12 on amazon-gpu-1(multicore_cpu): [(100, 0.22338387966156006, 4.163874), (200, 0.2262564182281494, 2.807293), (400, 0.22488760948181152, 2.080596), (800, 0.22517449855804444, 1.405638), (1600, 0.23509960174560546, 1.019837), (3200, 0.2379619836807251, 0.715826), (6400, 0.25369250774383545, 0.497434), (12800, 0.28097679615020754, 0.355518), (25600, 0.3415812015533447, 0.249517), (51200, 0.4587167024612427, 0.177366), (102400, 0.6976924896240234, 0.12533), (204800, 1.1697975873947144, 0.088527), (409600, 2.1170559883117677, 0.062546), (819200, 4.018894696235657, 0.044241), (1638400, 7.812674403190613, 0.031278), (3276800, 15.246033191680908, 0.022113), (6553600, 30.583238315582275, 0.015638)]\n"
       ]
      },
      {
       "output_type": "stream",
       "stream": "stdout",
       "text": [
        "\n",
        "6 on ee-snowball2(opencl_alterafpga): [(100, 0.21820461750030518, 0.806463), (200, 0.20331878662109376, 0.423156), (400, 0.15033340454101562, 0.319329), (800, 0.15775420665740966, 0.225176), (1600, 0.21085820198059083, 0.163606), (3200, 0.16824049949645997, 0.102568), (6400, 0.22514631748199462, 0.077501), (12800, 0.24165918827056884, 0.057347), (25600, 0.39119060039520265, 0.038448), (51200, 0.8856947183609009, 0.026686), (102400, 4.530664396286011, 0.018685), (204800, 20.86027479171753, 0.013596), (409600, 88.86602230072022, 0.009381)]\n"
       ]
      },
      {
       "output_type": "stream",
       "stream": "stdout",
       "text": [
        "\n",
        "10 on ee-snowball1(opencl_gpu): [(100, 0.18547849655151366, 1.143677), (200, 0.12517890930175782, 0.958191), (400, 0.12767741680145264, 0.711429), (800, 0.1414463996887207, 0.519543), (1600, 0.16578288078308107, 0.368535), (3200, 0.10999040603637696, 0.253247), (6400, 0.14269680976867677, 0.183225), (12800, 0.1081686019897461, 0.131487), (25600, 0.151788592338562, 0.090918), (51200, 0.132207989692688, 0.065196), (102400, 0.13774828910827636, 0.045526), (204800, 0.1522258996963501, 0.032795), (409600, 0.14594428539276122, 0.023063), (819200, 0.20496070384979248, 0.016237), (1638400, 0.28346397876739504, 0.01146), (3276800, 0.44323709011077883, 0.008089), (6553600, 0.7349905967712402, 0.005724), (13107200, 1.336404299736023, 0.004045), (26214400, 2.54319429397583, 0.002872), (52428800, 4.939520978927613, 0.002026), (104857600, 9.765874004364013, 0.001433), (209715200, 19.327784490585326, 0.001012), (419430400, 38.44316730499268, 0.00072)]\n"
       ]
      },
      {
       "output_type": "stream",
       "stream": "stdout",
       "text": [
        "\n",
        "9 on amazon-cpu-0(multicore_cpu): [(100, 0.13592879772186278, 1.334122), (200, 0.1350344181060791, 1.080246), (400, 0.13653647899627686, 0.668794), (800, 0.13753979206085204, 0.482112), (1600, 0.13885180950164794, 0.342164), (3200, 0.14135570526123048, 0.244876), (6400, 0.14806101322174073, 0.170017), (12800, 0.15863609313964844, 0.120531), (25600, 0.18205690383911133, 0.084964), (51200, 0.22650570869445802, 0.059782), (102400, 0.3169138193130493, 0.042502), (204800, 0.5051671981811523, 0.030094), (409600, 0.8603049993515015, 0.021219), (819200, 1.5927056074142456, 0.015009), (1638400, 3.049036478996277, 0.010614), (3276800, 5.952413606643677, 0.007504), (6553600, 11.770095205307006, 0.005308), (13107200, 23.67180471420288, 0.003753)]\n"
       ]
      },
      {
       "output_type": "stream",
       "stream": "stdout",
       "text": [
        "\n",
        "10 on amazon-gpu-0(opencl_gpu): [(100, 0.1316061019897461, 1.117869), (200, 0.12994139194488524, 1.017145), (400, 0.12809810638427735, 0.619345), (800, 0.13075828552246094, 0.492197), (1600, 0.13197131156921388, 0.383508), (3200, 0.13458330631256105, 0.26473), (6400, 0.13161869049072267, 0.193175), (12800, 0.13580808639526368, 0.127439), (25600, 0.132151198387146, 0.093891), (51200, 0.13384621143341063, 0.065562), (102400, 0.13610751628875734, 0.046002), (204800, 0.14352109432220458, 0.032271), (409600, 0.15076079368591308, 0.022899), (819200, 0.17015490531921387, 0.016153), (1638400, 0.20637929439544678, 0.011441), (3276800, 0.28319358825683594, 0.008098), (6553600, 0.43793258666992185, 0.005731), (13107200, 0.7390705108642578, 0.004093), (26214400, 1.350041389465332, 0.002894), (52428800, 2.5656557083129883, 0.002039), (104857600, 4.995381999015808, 0.001436), (209715200, 9.890851497650146, 0.001016), (419430400, 19.640728282928468, 0.000712), (838860800, 39.111814093589786, 0.000506)]\n"
       ]
      },
      {
       "output_type": "stream",
       "stream": "stdout",
       "text": [
        "\n",
        "14 on ee-benjamin(multicore_cpu): [(100, 0.0762253999710083, 1.45982), (200, 0.07900879383087159, 1.528279), (400, 0.07655811309814453, 1.167567), (800, 0.07757480144500732, 0.751709), (1600, 0.07878739833831787, 0.523969), (3200, 0.08241958618164062, 0.366813), (6400, 0.09117519855499268, 0.259614), (12800, 0.08200180530548096, 0.185), (25600, 0.098331880569458, 0.130723), (51200, 0.10549020767211914, 0.091943), (102400, 0.13782908916473388, 0.064858), (204800, 0.19413950443267822, 0.045967), (409600, 0.31481950283050536, 0.032542), (819200, 0.5153260946273803, 0.022981), (1638400, 0.896770715713501, 0.016235), (3276800, 1.6683940172195435, 0.011498), (6553600, 3.3625149965286254, 0.008123), (13107200, 6.861996006965637, 0.005743), (26214400, 12.165812993049622, 0.004063), (52428800, 26.54300320148468, 0.002871)]\n"
       ]
      },
      {
       "output_type": "stream",
       "stream": "stdout",
       "text": [
        "\n",
        "12 on ee-snowball0(opencl_gpu): [(100, 0.12178521156311035, 3.3253), (200, 0.09728460311889649, 2.770431), (400, 0.0957651138305664, 2.091412), (800, 0.09076340198516845, 1.478093), (1600, 0.09046931266784668, 0.981059), (3200, 0.08289530277252197, 0.715021), (6400, 0.10528738498687744, 0.498763), (12800, 0.08449370861053467, 0.356626), (25600, 0.08577349185943603, 0.250235), (51200, 0.08647620677947998, 0.176962), (102400, 0.09565939903259277, 0.125139), (204800, 0.10507569313049317, 0.088673), (409600, 0.13508660793304444, 0.062567), (819200, 0.16671640872955323, 0.044289), (1638400, 0.24788379669189453, 0.031284), (3276800, 0.4326884031295776, 0.022097), (6553600, 0.7488082885742188, 0.015633), (13107200, 1.4296508073806762, 0.011057), (26214400, 2.7583330154418944, 0.007817), (52428800, 5.448067998886108, 0.005528), (104857600, 10.757424092292785, 0.003909), (209715200, 21.42815589904785, 0.002764), (419430400, 42.833324384689334, 0.001954)]\n"
       ]
      },
      {
       "output_type": "stream",
       "stream": "stdout",
       "text": [
        "\n",
        "8 on phi(opencl_gpu): [(1000, 0.9431694984436035, 0.024181), (2000, 1.0679783821105957, 0.022566), (4000, 0.9571919918060303, 0.012838), (8000, 0.9711781978607178, 0.010076), (16000, 2.282044219970703, 0.00649), (32000, 2.2016286134719847, 0.005225), (64000, 2.394546103477478, 0.003811), (128000, 2.4228806018829347, 0.00262), (256000, 2.342880606651306, 0.001874), (512000, 2.624212217330933, 0.001317), (1024000, 2.2922710180282593, 0.000953), (2048000, 3.6903377771377563, 0.000674), (4096000, 4.410892796516419, 0.000468), (8192000, 6.274396586418152, 0.000332), (16384000, 9.925846600532532, 0.000238), (32768000, 18.064331817626954, 0.000168), (65536000, 31.917280793190002, 0.000118)]\n"
       ]
      },
      {
       "output_type": "stream",
       "stream": "stdout",
       "text": [
        "\n",
        "11 on amazon-cpu-1(multicore_cpu): [(100, 0.2267759084701538, 1.510564), (200, 0.23092329502105713, 1.002401), (400, 0.22956788539886475, 0.744814), (800, 0.23211538791656494, 0.508888), (1600, 0.23333680629730225, 0.375075), (3200, 0.2367379903793335, 0.264036), (6400, 0.24055159091949463, 0.18394), (12800, 0.2563277006149292, 0.131039), (25600, 0.2733359098434448, 0.09291), (51200, 0.32086820602416993, 0.065573), (102400, 0.4132718086242676, 0.046515), (204800, 0.5976726055145264, 0.032884), (409600, 0.9628530979156494, 0.023247), (819200, 1.7250710010528565, 0.016419), (1638400, 3.166748595237732, 0.011617), (3276800, 6.131704998016358, 0.008216), (6553600, 12.134147095680238, 0.005808), (13107200, 23.725697994232178, 0.004107)]\n"
       ]
      },
      {
       "output_type": "stream",
       "stream": "stdout",
       "text": [
        "\n",
        "11 on ee-mollie(multicore_cpu): [(100, 0.15005810260772706, 1.420974), (200, 0.05153601169586182, 1.066039), (400, 0.05516660213470459, 0.746754), (800, 0.05597550868988037, 0.525079), (1600, 0.05764181613922119, 0.365872), (3200, 0.06648421287536621, 0.262075), (6400, 0.08029031753540039, 0.18452), (12800, 0.12195110321044922, 0.131176), (25600, 0.2339263916015625, 0.092614), (51200, 0.32531561851501467, 0.065628), (102400, 0.6339466810226441, 0.046454), (204800, 1.1709732055664062, 0.032832), (409600, 2.291293001174927, 0.023226), (819200, 4.446567702293396, 0.016439), (1638400, 8.85323371887207, 0.011613), (3276800, 17.731238889694215, 0.008213), (6553600, 35.1098356962204, 0.005808)]\n"
       ]
      },
      {
       "output_type": "stream",
       "stream": "stdout",
       "text": [
        "\n",
        "13 on amazon-gpu-0(multicore_cpu): [(100, 0.12216589450836182, 1.388245), (200, 0.12285590171813965, 0.909615), (400, 0.12445180416107178, 0.687117), (800, 0.12430658340454101, 0.485739), (1600, 0.12735409736633302, 0.354311), (3200, 0.13795850276947022, 0.243382), (6400, 0.15283029079437255, 0.173153), (12800, 0.17769279479980468, 0.121281), (25600, 0.2394094944000244, 0.086127), (51200, 0.3550562858581543, 0.061313), (102400, 0.5856812000274658, 0.043151), (204800, 1.0569401979446411, 0.030556), (409600, 1.9720911026000976, 0.021627), (819200, 3.9856929063796995, 0.015292), (1638400, 7.605434703826904, 0.010807), (3276800, 14.941498613357544, 0.007642), (6553600, 29.96818790435791, 0.005405)]\n"
       ]
      },
      {
       "output_type": "stream",
       "stream": "stdout",
       "text": [
        "\n",
        "6 on ee-mollie(maxeler_fpga): [(100, 0.06879668235778809, 0.648251), (200, 0.05685079097747803, 0.385002), (400, 0.05268568992614746, 0.305933), (800, 0.048967289924621585, 0.276893), (1600, 0.10783390998840332, 0.150561), (3200, 0.05022909641265869, 0.110693), (6400, 0.04969830513000488, 0.075045), (12800, 0.0524104118347168, 0.056333), (25600, 0.05884308815002441, 0.039434), (51200, 0.09072859287261963, 0.026209), (102400, 0.0605506181716919, 0.01967), (204800, 0.05402841567993164, 0.013932), (409600, 0.14639079570770264, 0.009717), (819200, 0.1568070888519287, 0.006794), (1638400, 0.2726574897766113, 0.004844), (3276800, 0.5117363929748535, 0.00342), (6553600, 0.9595870971679688, 0.002425), (13107200, 1.8692503213882445, 0.00171), (26214400, 3.612937021255493, 0.001209), (52428800, 7.156623601913452, 0.000856), (104857600, 14.169822216033936, 0.000605), (209715200, 28.318449711799623, 0.000428)]\n"
       ]
      },
      {
       "output_type": "stream",
       "stream": "stdout",
       "text": [
        "\n",
        "10 on amazon-gpu-1(opencl_gpu): [(100, 0.2276224136352539, 1.117869), (200, 0.22995541095733643, 1.017145), (400, 0.2326488971710205, 0.619345), (800, 0.2322106122970581, 0.492197), (1600, 0.23192110061645507, 0.383508), (3200, 0.2322131872177124, 0.26473), (6400, 0.23470380306243896, 0.193175), (12800, 0.23445360660552977, 0.127439), (25600, 0.23625590801239013, 0.093891), (51200, 0.23577229976654052, 0.065562), (102400, 0.236022686958313, 0.046002), (204800, 0.2451108932495117, 0.032271), (409600, 0.25123450756072996, 0.022899), (819200, 0.26830310821533204, 0.016153), (1638400, 0.30834801197052003, 0.011441), (3276800, 0.3848978042602539, 0.008098), (6553600, 0.5344592094421386, 0.005731), (13107200, 0.8414193868637085, 0.004093), (26214400, 1.4488123893737792, 0.002894), (52428800, 2.6740633964538576, 0.002039), (104857600, 5.098316717147827, 0.001436), (209715200, 9.993770503997803, 0.001016), (419430400, 19.745549488067628, 0.000712), (838860800, 39.217595911026, 0.000506)]\n"
       ]
      },
      {
       "output_type": "stream",
       "stream": "stdout",
       "text": [
        "\n",
        "10 on amazon-cpu-0(multicore_cpu): [(100, 0.13435399532318115, 1.557315), (200, 0.13825030326843263, 1.085787), (400, 0.13073899745941162, 0.724159), (800, 0.13388171195983886, 0.509777), (1600, 0.13891360759735108, 0.372202), (3200, 0.14099700450897218, 0.251064), (6400, 0.14602839946746826, 0.185792), (12800, 0.1589883089065552, 0.129626), (25600, 0.18035690784454345, 0.092195), (51200, 0.22767128944396972, 0.065097), (102400, 0.3214813947677612, 0.046155), (204800, 0.5108099937438965, 0.03248), (409600, 0.8704885959625244, 0.022927), (819200, 1.6027008056640626, 0.016239), (1638400, 3.06860888004303, 0.011484), (3276800, 6.039990019798279, 0.008125), (6553600, 12.01430149078369, 0.005741), (13107200, 23.602513003349305, 0.004058)]\n"
       ]
      },
      {
       "output_type": "stream",
       "stream": "stdout",
       "text": [
        "\n",
        "13 on amazon-gpu-1(multicore_cpu): [(100, 0.2188715934753418, 1.388245), (200, 0.22323930263519287, 0.909615), (400, 0.22442140579223632, 0.687117), (800, 0.22473089694976806, 0.485739), (1600, 0.23044960498809813, 0.354311), (3200, 0.23602020740509033, 0.243382), (6400, 0.2535133123397827, 0.173153), (12800, 0.2804283142089844, 0.121281), (25600, 0.3379941940307617, 0.086127), (51200, 0.45558240413665774, 0.061313), (102400, 0.6945203065872192, 0.043151), (204800, 1.1505604982376099, 0.030556), (409600, 2.074538516998291, 0.021627), (819200, 3.9947023153305055, 0.015292), (1638400, 7.876734209060669, 0.010807), (3276800, 15.077019381523133, 0.007642), (6553600, 30.049491691589356, 0.005405)]\n"
       ]
      },
      {
       "output_type": "stream",
       "stream": "stdout",
       "text": [
        "\n",
        "9 on pi(multicore_cpu): [(100, 0.16804687976837157, 1.253882), (200, 0.21918559074401855, 1.001872), (400, 0.3009274959564209, 0.676634), (800, 0.46244029998779296, 0.462366), (1600, 0.8003879070281983, 0.344619), (3200, 1.476930022239685, 0.240578), (6400, 2.8296257972717287, 0.170139), (12800, 5.513749694824218, 0.119554), (25600, 10.905456495285033, 0.084894), (51200, 21.701482605934142, 0.059984), (102400, 43.204094004631045, 0.04235)]\n"
       ]
      },
      {
       "output_type": "stream",
       "stream": "stdout",
       "text": [
        "\n",
        "15 on ee-benjamin(multicore_cpu): [(100, 0.08718681335449219, 1.771179), (200, 0.07594468593597412, 0.923685), (400, 0.07862248420715331, 0.688535), (800, 0.08420319557189941, 0.484098), (1600, 0.08238039016723633, 0.342783), (3200, 0.08568389415740967, 0.240419), (6400, 0.09708349704742432, 0.170933), (12800, 0.09661669731140136, 0.121347), (25600, 0.10648410320281983, 0.085886), (51200, 0.13365819454193115, 0.060616), (102400, 0.1904524803161621, 0.042915), (204800, 0.2974236965179443, 0.030329), (409600, 0.5075968027114868, 0.021448), (819200, 0.9191979885101318, 0.01514), (1638400, 1.5826987028121948, 0.010714), (3276800, 2.9686192989349367, 0.007576), (6553600, 6.095746493339538, 0.005357), (13107200, 12.665778303146363, 0.003786), (26214400, 24.20941650867462, 0.002679)]\n"
       ]
      },
      {
       "output_type": "stream",
       "stream": "stdout",
       "text": [
        "\n",
        "12 on amazon-cpu-1(multicore_cpu): [(100, 0.23227171897888182, 4.103743), (200, 0.23013780117034913, 2.747722), (400, 0.22899990081787108, 2.116297), (800, 0.23174028396606444, 1.423769), (1600, 0.23436930179595947, 0.998134), (3200, 0.2328326940536499, 0.715321), (6400, 0.23876490592956542, 0.494693), (12800, 0.2564913034439087, 0.353171), (25600, 0.2775926113128662, 0.250579), (51200, 0.3272881031036377, 0.176179), (102400, 0.41854770183563234, 0.124976), (204800, 0.6095758199691772, 0.088314), (409600, 0.9843072891235352, 0.06244), (819200, 1.734659695625305, 0.044198), (1638400, 3.244510293006897, 0.031291), (3276800, 6.285897707939148, 0.022115), (6553600, 12.268704605102538, 0.01563), (13107200, 24.308321905136108, 0.011056)]\n"
       ]
      },
      {
       "output_type": "stream",
       "stream": "stdout",
       "text": [
        "\n",
        "11 on ee-snowball1(opencl_gpu): [(100, 0.17018909454345704, 1.383818), (200, 0.1363448143005371, 0.934779), (400, 0.13497719764709473, 0.770356), (800, 0.12863409519195557, 0.505913), (1600, 0.1336833953857422, 0.370981), (3200, 0.12263288497924804, 0.263293), (6400, 0.11406500339508056, 0.189682), (12800, 0.16002018451690675, 0.13296), (25600, 0.13318750858306885, 0.093153), (51200, 0.13451809883117677, 0.065523), (102400, 0.14137279987335205, 0.046615), (204800, 0.14898788928985596, 0.03274), (409600, 0.2577043056488037, 0.02326), (819200, 0.2018062114715576, 0.016496), (1638400, 0.3198862075805664, 0.011598), (3276800, 0.44324259757995604, 0.008219), (6553600, 0.7382627964019776, 0.005813), (13107200, 1.3398722171783448, 0.004113), (26214400, 2.5431102991104124, 0.002899), (52428800, 4.941114091873169, 0.002056), (104857600, 9.70571219921112, 0.001448), (209715200, 19.37606279850006, 0.001024), (419430400, 38.52867531776428, 0.000726)]\n"
       ]
      },
      {
       "output_type": "stream",
       "stream": "stdout",
       "text": [
        "\n",
        "15 on (multicore_cpu): [(100, 0.0016437053680419921, 1.342345), (200, 0.0017625093460083008, 0.968262), (400, 0.002826094627380371, 0.704822), (800, 0.004795384407043457, 0.483757), (1600, 0.007177591323852539, 0.341752), (3200, 0.012302303314208984, 0.239569), (6400, 0.026964306831359863, 0.171905), (12800, 0.054239511489868164, 0.1208), (25600, 0.10348021984100342, 0.085569), (51200, 0.19115688800811767, 0.06068), (102400, 0.37999920845031737, 0.042914), (204800, 0.7383213043212891, 0.030259), (409600, 1.4472784996032715, 0.021417), (819200, 3.0541934967041016, 0.015139), (1638400, 5.8093163013458256, 0.010711), (3276800, 11.47729389667511, 0.007572), (6553600, 23.35522620677948, 0.005357), (13107200, 46.285718607902524, 0.003788)]\n"
       ]
      },
      {
       "output_type": "stream",
       "stream": "stdout",
       "text": [
        "\n",
        "9 on phi(multicore_cpu): [(100, 0.34979679584503176, 1.370494), (200, 0.35367980003356936, 0.971966), (400, 0.35149619579315183, 0.656755), (800, 0.35273191928863523, 0.475792), (1600, 0.3526798963546753, 0.339609), (3200, 0.3655054807662964, 0.242092), (6400, 0.3810885906219482, 0.169302), (12800, 0.3779304027557373, 0.119529), (25600, 0.40825691223144533, 0.084531), (51200, 0.45366640090942384, 0.059823), (102400, 0.5567564010620117, 0.042516), (204800, 0.8196460008621216, 0.030044), (409600, 1.1738804817199706, 0.021245), (819200, 1.9726361989974976, 0.015013), (1638400, 3.6878001928329467, 0.010616), (3276800, 6.205718588829041, 0.007505), (6553600, 11.706574606895447, 0.005308), (13107200, 23.097439885139465, 0.003753), (26214400, 51.2694169998169, 0.002654)]\n"
       ]
      },
      {
       "output_type": "stream",
       "stream": "stdout",
       "text": [
        "\n",
        "11 on amazon-gpu-0(opencl_gpu): [(100, 0.12879998683929444, 1.592891), (200, 0.13000471591949464, 0.9831), (400, 0.1303766965866089, 0.648138), (800, 0.12836651802062987, 0.519992), (1600, 0.13267819881439208, 0.377582), (3200, 0.13278748989105224, 0.262144), (6400, 0.12942559719085694, 0.186249), (12800, 0.13246479034423828, 0.13074), (25600, 0.13286240100860597, 0.09302), (51200, 0.12950499057769777, 0.065484), (102400, 0.13628969192504883, 0.046088), (204800, 0.1408843994140625, 0.032827), (409600, 0.15230059623718262, 0.023267), (819200, 0.16949930191040039, 0.016391), (1638400, 0.20605740547180176, 0.011618), (3276800, 0.28281588554382325, 0.008225), (6553600, 0.43710291385650635, 0.005786), (13107200, 0.7396031141281127, 0.004093), (26214400, 1.3511883974075318, 0.002902), (52428800, 2.5662293910980223, 0.002052), (104857600, 4.996725487709045, 0.001451), (209715200, 9.881800985336303, 0.001026), (419430400, 19.622106504440307, 0.000724), (838860800, 39.12742619514465, 0.000513)]\n"
       ]
      },
      {
       "output_type": "stream",
       "stream": "stdout",
       "text": [
        "\n",
        "14 on amazon-gpu-0(multicore_cpu): [(100, 0.12045750617980958, 1.772452), (200, 0.12102680206298828, 1.392861), (400, 0.12139739990234374, 1.062111), (800, 0.12242050170898437, 0.718316), (1600, 0.12638671398162843, 0.525318), (3200, 0.12781450748443604, 0.360609), (6400, 0.1345755100250244, 0.256198), (12800, 0.1507767915725708, 0.186358), (25600, 0.18078360557556153, 0.129466), (51200, 0.2388625144958496, 0.092055), (102400, 0.3552856922149658, 0.064888), (204800, 0.5827301025390625, 0.045965), (409600, 1.0500797986984254, 0.032524), (819200, 1.981015110015869, 0.023011), (1638400, 3.8469935178756716, 0.016245), (3276800, 7.746848106384277, 0.01149), (6553600, 14.996758008003235, 0.00812), (13107200, 29.918686199188233, 0.005738)]\n"
       ]
      },
      {
       "output_type": "stream",
       "stream": "stdout",
       "text": [
        "\n",
        "11 on amazon-cpu-0(multicore_cpu): [(100, 0.13582868576049806, 1.492636), (200, 0.13608810901641846, 1.083775), (400, 0.13463850021362306, 0.756211), (800, 0.13589630126953126, 0.529373), (1600, 0.13979811668395997, 0.371622), (3200, 0.14237730503082274, 0.260098), (6400, 0.14757390022277833, 0.187136), (12800, 0.15919110774993897, 0.131951), (25600, 0.18248169422149657, 0.092936), (51200, 0.22897131443023683, 0.065603), (102400, 0.3198498010635376, 0.046437), (204800, 0.5072879076004029, 0.032889), (409600, 0.8779417991638183, 0.023264), (819200, 1.610844898223877, 0.016428), (1638400, 3.1312011957168577, 0.011619), (3276800, 6.009215903282166, 0.008214), (6553600, 11.884403109550476, 0.005808), (13107200, 23.634997296333314, 0.004108)]\n"
       ]
      },
      {
       "output_type": "stream",
       "stream": "stdout",
       "text": [
        "\n",
        "12 on ee-mollie(multicore_cpu): [(100, 0.14699158668518067, 4.163874), (200, 0.05124049186706543, 2.807293), (400, 0.049072885513305665, 2.080596), (800, 0.05615930557250977, 1.405638), (1600, 0.061951708793640134, 1.019837), (3200, 0.07151379585266113, 0.715826), (6400, 0.08682439327239991, 0.497434), (12800, 0.11567840576171876, 0.355518), (25600, 0.23540420532226564, 0.249517), (51200, 0.3299839973449707, 0.177366), (102400, 0.6488687038421631, 0.12533), (204800, 1.2195859909057618, 0.088527), (409600, 2.355496406555176, 0.062546), (819200, 4.6090511083602905, 0.044241), (1638400, 9.045573401451112, 0.031278), (3276800, 17.972716999053954, 0.022113), (6553600, 36.18082239627838, 0.015638)]\n"
       ]
      },
      {
       "output_type": "stream",
       "stream": "stdout",
       "text": [
        "\n",
        "10 on pi(multicore_cpu): [(100, 0.1764024019241333, 1.439544), (200, 0.2208327054977417, 0.975802), (400, 0.3103177070617676, 0.767683), (800, 0.5006148099899292, 0.53151), (1600, 0.8704948902130127, 0.377213), (3200, 1.6210798978805543, 0.264722), (6400, 3.1025739908218384, 0.181631), (12800, 6.084719896316528, 0.129061), (25600, 12.040746307373047, 0.092433), (51200, 23.949291586875916, 0.064703)]\n"
       ]
      },
      {
       "output_type": "stream",
       "stream": "stdout",
       "text": [
        "\n",
        "13 on ee-snowball0(opencl_gpu): [(100, 0.10768940448760986, 1.268377), (200, 0.08894579410552979, 1.039723), (400, 0.09105160236358642, 0.694084), (800, 0.08517580032348633, 0.491856), (1600, 0.10389499664306641, 0.344578), (3200, 0.08159909248352051, 0.24315), (6400, 0.09818010330200196, 0.173026), (12800, 0.09616711139678955, 0.122088), (25600, 0.08657290935516357, 0.085973), (51200, 0.09253380298614503, 0.061009), (102400, 0.09374868869781494, 0.043046), (204800, 0.10772581100463867, 0.030642), (409600, 0.13248140811920167, 0.021606), (819200, 0.167480206489563, 0.015268), (1638400, 0.2505052089691162, 0.010805), (3276800, 0.4197892904281616, 0.007638), (6553600, 0.7450294971466065, 0.005407), (13107200, 1.4167606115341187, 0.003822), (26214400, 2.741622805595398, 0.002703), (52428800, 5.383681917190552, 0.001911), (104857600, 10.651841688156129, 0.001351), (209715200, 21.182322096824645, 0.000955), (419430400, 42.29652609825134, 0.000676)]\n"
       ]
      },
      {
       "output_type": "stream",
       "stream": "stdout",
       "text": [
        "\n",
        "7 on ee-snowball2(opencl_alterafpga): [(100, 0.22607648372650146, 1.230384), (200, 0.20019371509552003, 1.012887), (400, 0.17954130172729493, 0.613748), (800, 0.2084718942642212, 0.460564), (1600, 0.21225039958953856, 0.335964), (3200, 0.2028791904449463, 0.223163), (6400, 0.23977279663085938, 0.163166), (12800, 0.25803499221801757, 0.116166), (25600, 0.3819055795669556, 0.081601), (51200, 0.9034785032272339, 0.058353), (102400, 4.487616395950317, 0.041302), (204800, 20.852842593193053, 0.029142), (409600, 85.80630888938904, 0.020534)]\n"
       ]
      },
      {
       "output_type": "stream",
       "stream": "stdout",
       "text": [
        "\n",
        "9 on phi(opencl_gpu): [(1000, 0.9126677989959717, nan), (2000, 1.5823800086975097, nan), (4000, 1.040373396873474, nan), (8000, 0.9563567876815796, nan), (16000, 2.2429683923721315, nan), (32000, 2.4039145946502685, nan), (64000, 2.283364701271057, nan), (128000, 2.2440365076065065, nan), (256000, 2.4113701820373534, nan), (512000, 2.6997624158859255, nan), (1024000, 2.2933250188827516, nan), (2048000, 3.4781270027160645, nan), (4096000, 4.453855490684509, nan), (8192000, 6.3737874031066895, nan), (16384000, 10.566812419891358, nan), (32768000, 16.937709188461305, nan), (65536000, 33.25552659034729, nan)]\n"
       ]
      },
      {
       "output_type": "stream",
       "stream": "stdout",
       "text": [
        "\n",
        "14 on amazon-gpu-1(multicore_cpu): [(100, 0.22486109733581544, 1.772452), (200, 0.22455360889434814, 1.392861), (400, 0.22380340099334717, 1.062111), (800, 0.22290611267089844, 0.718316), (1600, 0.22632689476013185, 0.525318), (3200, 0.2544428825378418, 0.360609), (6400, 0.23770539760589598, 0.256198), (12800, 0.2527220010757446, 0.186358), (25600, 0.2807175874710083, 0.129466), (51200, 0.3392686128616333, 0.092055), (102400, 0.46027231216430664, 0.064888), (204800, 0.6894702911376953, 0.045965), (409600, 1.1674675941467285, 0.032524), (819200, 2.1070775985717773, 0.023011), (1638400, 3.9641238927841185, 0.016245), (3276800, 7.713355708122253, 0.01149), (6553600, 15.580846500396728, 0.00812), (13107200, 30.159492206573486, 0.005738)]\n"
       ]
      },
      {
       "output_type": "stream",
       "stream": "stdout",
       "text": [
        "\n",
        "11 on amazon-gpu-1(opencl_gpu): [(100, 0.23558499813079833, 1.592891), (200, 0.23204941749572755, 0.9831), (400, 0.23035972118377684, 0.648138), (800, 0.23132970333099365, 0.519992), (1600, 0.2361132860183716, 0.377582), (3200, 0.23565189838409423, 0.262144), (6400, 0.23339998722076416, 0.186249), (12800, 0.23222429752349855, 0.13074), (25600, 0.23312740325927733, 0.09302), (51200, 0.23481621742248535, 0.065484), (102400, 0.23733060359954833, 0.046088), (204800, 0.24376459121704103, 0.032827), (409600, 0.25094621181488036, 0.023267), (819200, 0.27186269760131837, 0.016391), (1638400, 0.3072382926940918, 0.011618), (3276800, 0.384379506111145, 0.008225), (6553600, 0.5362859010696411, 0.005786), (13107200, 0.8392959117889405, 0.004093), (26214400, 1.452123498916626, 0.002902), (52428800, 2.670338487625122, 0.002052), (104857600, 5.100937795639038, 0.001451), (209715200, 9.982316279411316, 0.001026), (419430400, 19.72482810020447, 0.000724), (838860800, 39.233788800239566, 0.000513)]\n"
       ]
      },
      {
       "output_type": "stream",
       "stream": "stdout",
       "text": [
        "\n",
        "16 on ee-benjamin(multicore_cpu): [(100, 0.08239121437072754, 0.0), (200, 0.07342050075531006, 0.0), (400, 0.07576282024383545, 0.019472), (800, 0.08721189498901367, 0.010552), (1600, 0.0862008810043335, 0.010952), (3200, 0.08429939746856689, 0.010383), (6400, 0.10471889972686768, 0.006483), (12800, 0.11143019199371337, 0.004636), (25600, 0.10109539031982422, 0.003691), (51200, 0.11589148044586181, 0.002296), (102400, 0.14099650382995604, 0.001599), (204800, 0.20713868141174316, 0.001121), (409600, 0.3206496000289917, 0.000782), (819200, 0.5626384019851685, 0.00056), (1638400, 1.010139489173889, 0.00039), (3276800, 1.893159604072571, 0.00028), (6553600, 3.718074584007263, 0.000198), (13107200, 7.293151903152466, 0.00014), (26214400, 14.52535879611969, 0.0001), (52428800, 26.453448390960695, 7e-05)]\n"
       ]
      },
      {
       "output_type": "stream",
       "stream": "stdout",
       "text": [
        "\n",
        "13 on amazon-cpu-1(multicore_cpu): [(100, 0.22098419666290284, 1.334539), (200, 0.2273463010787964, 1.015376), (400, 0.22934820652008056, 0.698907), (800, 0.23182439804077148, 0.484214), (1600, 0.23094329833984376, 0.344367), (3200, 0.23570210933685304, 0.247237), (6400, 0.24087738990783691, 0.173213), (12800, 0.25164601802825926, 0.123147), (25600, 0.2781681060791016, 0.086908), (51200, 0.32469878196716306, 0.061153), (102400, 0.41751220226287844, 0.043058), (204800, 0.5998189926147461, 0.0305), (409600, 0.9714225053787231, 0.02162), (819200, 1.7393412113189697, 0.015297), (1638400, 3.2211235046386717, 0.010812), (3276800, 6.170596098899841, 0.007642), (6553600, 12.098144507408142, 0.005403), (13107200, 23.84204978942871, 0.003823)]\n"
       ]
      },
      {
       "output_type": "stream",
       "stream": "stdout",
       "text": [
        "\n",
        "16 on (multicore_cpu): [(100, 0.0013051033020019531, 0.149713), (200, 0.001705503463745117, 0.059885), (400, 0.0017809867858886719, 0.012266), (800, 0.0033891916275024412, 0.012268), (1600, 0.005081582069396973, 0.018623), (3200, 0.008861279487609864, 0.005711), (6400, 0.015115785598754882, 0.007214), (12800, 0.03461899757385254, 0.004348), (25600, 0.05815930366516113, 0.003263), (51200, 0.11813580989837646, 0.002423), (102400, 0.23312740325927733, 0.001609), (204800, 0.4721211910247803, 0.001121), (409600, 0.9343118906021118, 0.000795), (819200, 2.011723518371582, 0.000558), (1638400, 3.7472434997558595, 0.000401), (3276800, 7.582027101516724, 0.000281), (6553600, 14.647358393669128, 0.000198), (13107200, 29.22582139968872, 0.00014)]\n"
       ]
      },
      {
       "output_type": "stream",
       "stream": "stdout",
       "text": [
        "\n",
        "10 on phi(multicore_cpu): [(100, 0.34993250370025636, 1.655141), (200, 0.3504544973373413, 1.05145), (400, 0.35293190479278563, 0.726921), (800, 0.39286611080169676, 0.549768), (1600, 0.35683460235595704, 0.370511), (3200, 0.3632164001464844, 0.256352), (6400, 0.36909439563751223, 0.185867), (12800, 0.3817393064498901, 0.13022), (25600, 0.4239070892333984, 0.09204), (51200, 0.45891637802124025, 0.064913), (102400, 0.5776274919509887, 0.045794), (204800, 0.7687606811523438, 0.032496), (409600, 1.1682368040084838, 0.023007), (819200, 2.059934115409851, 0.016264), (1638400, 3.4471392154693605, 0.011493), (3276800, 7.270002388954163, 0.008126), (6553600, 12.627048301696778, 0.005744), (13107200, 26.380913400650023, 0.004062)]\n"
       ]
      },
      {
       "output_type": "stream",
       "stream": "stdout",
       "text": [
        "\n",
        "15 on amazon-gpu-0(multicore_cpu): [(100, 0.1210313081741333, 1.342345), (200, 0.12164201736450195, 0.968262), (400, 0.12403039932250977, 0.704822), (800, 0.12485768795013427, 0.483757), (1600, 0.12910518646240235, 0.341752), (3200, 0.13613309860229492, 0.239569), (6400, 0.14476430416107178, 0.171905), (12800, 0.17337210178375245, 0.1208), (25600, 0.22387897968292236, 0.085569), (51200, 0.32502148151397703, 0.06068), (102400, 0.5248661994934082, 0.042914), (204800, 0.9298508167266846, 0.030259), (409600, 1.7350991010665893, 0.021417), (819200, 3.420292592048645, 0.015139), (1638400, 6.580529403686524, 0.010711), (3276800, 13.054938912391663, 0.007572), (6553600, 25.971121907234192, 0.005357)]\n"
       ]
      },
      {
       "output_type": "stream",
       "stream": "stdout",
       "text": [
        "\n",
        "12 on amazon-cpu-0(multicore_cpu): [(100, 0.13390350341796875, 3.959533), (200, 0.1378023862838745, 2.858472), (400, 0.13654987812042235, 2.042186), (800, 0.13714871406555176, 1.465541), (1600, 0.14069750308990478, 1.000345), (3200, 0.14366459846496582, 0.7017), (6400, 0.14549610614776612, 0.504161), (12800, 0.16008989810943602, 0.352194), (25600, 0.1846369981765747, 0.251533), (51200, 0.22998569011688233, 0.176882), (102400, 0.32576770782470704, 0.124974), (204800, 0.518186092376709, 0.088624), (409600, 0.8930958986282349, 0.062518), (819200, 1.6479489088058472, 0.04418), (1638400, 3.179098200798035, 0.031279), (3276800, 6.191362094879151, 0.022105), (6553600, 12.266746401786804, 0.015638), (13107200, 24.26098790168762, 0.011054)]\n"
       ]
      },
      {
       "output_type": "stream",
       "stream": "stdout",
       "text": [
        "\n",
        "11 on pi(multicore_cpu): [(100, 0.17310810089111328, 1.496361), (200, 0.22518658638000488, 1.033178), (400, 0.3171708106994629, 0.776273), (800, 0.507839298248291, 0.502308), (1600, 0.8818430185317994, 0.375913), (3200, 1.6158096075057984, 0.2623), (6400, 3.104888391494751, 0.186611), (12800, 6.105286812782287, 0.131609), (25600, 12.046974396705627, 0.092772), (51200, 23.96888370513916, 0.06545)]\n"
       ]
      },
      {
       "output_type": "stream",
       "stream": "stdout",
       "text": [
        "\n",
        "12 on ee-snowball1(opencl_gpu): [(100, 0.15337121486663818, 4.148118), (200, 0.1303936004638672, 2.797631), (400, 0.1316920042037964, 2.24473), (800, 0.14990499019622802, 1.380464), (1600, 0.13796470165252686, 1.051741), (3200, 0.12985939979553224, 0.713776), (6400, 0.13183848857879638, 0.486133), (12800, 0.13316559791564941, 0.351378), (25600, 0.16817641258239746, 0.249377), (51200, 0.1317751169204712, 0.176076), (102400, 0.1403975009918213, 0.124371), (204800, 0.14273979663848876, 0.088004), (409600, 0.1643306016921997, 0.062353), (819200, 0.20243411064147948, 0.044179), (1638400, 0.286623215675354, 0.031289), (3276800, 0.4466348886489868, 0.022003), (6553600, 0.7430750846862793, 0.015619), (13107200, 1.3447629928588867, 0.011043), (26214400, 2.5366466999053956, 0.007803), (52428800, 4.947896409034729, 0.005531), (104857600, 9.76222059726715, 0.003914), (209715200, 19.293311309814452, 0.00277), (419430400, 38.493193697929385, 0.001946)]\n"
       ]
      },
      {
       "output_type": "stream",
       "stream": "stdout",
       "text": [
        "\n",
        "7 on ee-mollie(maxeler_fpga): [(100, 0.05271029472351074, 1.327741), (200, 0.06848809719085694, 0.659994), (400, 0.054358410835266116, 0.578703), (800, 0.059336519241333006, 0.478163), (1600, 0.05880899429321289, 0.292377), (3200, 0.059955692291259764, 0.236619), (6400, 0.07691490650177002, 0.155958), (12800, 0.060830998420715335, 0.118537), (25600, 0.06422209739685059, 0.081993), (51200, 0.09217021465301514, 0.057743), (102400, 0.08174688816070556, 0.041015), (204800, 0.0943518877029419, 0.029088), (409600, 0.13240561485290528, 0.020473), (819200, 0.18649260997772216, 0.014562), (1638400, 0.2947249889373779, 0.010287), (3276800, 0.5422495126724243, 0.007289), (6553600, 0.9482370138168335, 0.005149), (13107200, 1.8385600090026855, 0.003641), (26214400, 3.60064377784729, 0.002573), (52428800, 7.144682002067566, 0.00182), (104857600, 14.213612604141236, 0.001286), (209715200, 28.434948897361757, 0.00091)]\n"
       ]
      },
      {
       "output_type": "stream",
       "stream": "stdout",
       "text": [
        "\n",
        "12 on amazon-gpu-0(opencl_gpu): [(100, 0.1285170793533325, 3.40815), (200, 0.12941129207611085, 3.325705), (400, 0.12855448722839355, 1.785408), (800, 0.12842459678649903, 1.368264), (1600, 0.13371140956878663, 1.025648), (3200, 0.13114759922027588, 0.690548), (6400, 0.12991089820861818, 0.492491), (12800, 0.1302107810974121, 0.352207), (25600, 0.1280894994735718, 0.248356), (51200, 0.1297069787979126, 0.177528), (102400, 0.13160500526428223, 0.126291), (204800, 0.14023032188415527, 0.088451), (409600, 0.14686119556427002, 0.062605), (819200, 0.1659317970275879, 0.044144), (1638400, 0.20224370956420898, 0.031293), (3276800, 0.2786105155944824, 0.022143), (6553600, 0.43387641906738283, 0.015619), (13107200, 0.7388674020767212, 0.011042), (26214400, 1.3502315998077392, 0.00784), (52428800, 2.5621691942214966, 0.005549), (104857600, 5.000982189178467, 0.003909), (209715200, 9.86699628829956, 0.002759), (419430400, 19.60687189102173, 0.001957), (838860800, 39.04164259433746, 0.001385)]\n"
       ]
      },
      {
       "output_type": "stream",
       "stream": "stdout",
       "text": [
        "\n",
        "13 on ee-mollie(multicore_cpu): [(100, 0.16408128738403321, 1.388245), (200, 0.07630980014801025, 0.909615), (400, 0.054494595527648924, 0.687117), (800, 0.05674378871917725, 0.485739), (1600, 0.060654616355895995, 0.354311), (3200, 0.06827690601348876, 0.243382), (6400, 0.07107391357421874, 0.173153), (12800, 0.11617867946624756, 0.121281), (25600, 0.1869892120361328, 0.086127), (51200, 0.3244312047958374, 0.061313), (102400, 0.6609243869781494, 0.043151), (204800, 1.2025336027145386, 0.030556), (409600, 2.322705292701721, 0.021627), (819200, 4.587075304985047, 0.015292), (1638400, 8.967866206169129, 0.010807), (3276800, 17.791199707984923, 0.007642), (6553600, 35.79020187854767, 0.005405)]\n"
       ]
      },
      {
       "output_type": "stream",
       "stream": "stdout",
       "text": [
        "\n",
        "15 on amazon-gpu-1(multicore_cpu): [(100, 0.22532520294189454, 1.342345), (200, 0.2235109806060791, 0.968262), (400, 0.22268121242523192, 0.704822), (800, 0.22657530307769774, 0.483757), (1600, 0.22931928634643556, 0.341752), (3200, 0.236739182472229, 0.239569), (6400, 0.24782440662384034, 0.171905), (12800, 0.2744055032730103, 0.1208), (25600, 0.32423441410064696, 0.085569), (51200, 0.42709949016571047, 0.06068), (102400, 0.6251777887344361, 0.042914), (204800, 1.017462706565857, 0.030259), (409600, 1.865101194381714, 0.021417), (819200, 3.465219020843506, 0.015139), (1638400, 6.758131003379821, 0.010711), (3276800, 13.38665750026703, 0.007572), (6553600, 26.18355119228363, 0.005357)]\n"
       ]
      },
      {
       "output_type": "stream",
       "stream": "stdout",
       "text": [
        "\n",
        "14 on amazon-cpu-1(multicore_cpu): [(100, 0.23520431518554688, 2.234858), (200, 0.2308738946914673, 1.372791), (400, 0.22896509170532225, 0.993372), (800, 0.22764360904693604, 0.71381), (1600, 0.23165531158447267, 0.527023), (3200, 0.23110878467559814, 0.376174), (6400, 0.235199499130249, 0.260343), (12800, 0.24141769409179686, 0.184937), (25600, 0.2522822141647339, 0.128674), (51200, 0.2771507978439331, 0.092159), (102400, 0.3250521898269653, 0.065184), (204800, 0.4157517194747925, 0.046096), (409600, 0.6007225990295411, 0.032493), (819200, 0.9743361949920655, 0.022944), (1638400, 1.721578598022461, 0.016225), (3276800, 3.1990818977355957, 0.011489), (6553600, 6.229510092735291, 0.00813), (13107200, 12.296616506576537, 0.005742), (26214400, 23.951434898376466, 0.004058)]\n"
       ]
      },
      {
       "output_type": "stream",
       "stream": "stdout",
       "text": [
        "\n",
        "17 on ee-benjamin(multicore_cpu): [(100, 0.10345239639282226, 1.44657), (200, 0.08139979839324951, 1.02663), (400, 0.07974870204925537, 0.725693), (800, 0.07944378852844239, 0.498366), (1600, 0.08058850765228272, 0.354385), (3200, 0.08701269626617432, 0.239439), (6400, 0.09619181156158448, 0.17502), (12800, 0.09409239292144775, 0.12216), (25600, 0.11119740009307862, 0.085535), (51200, 0.139206600189209, 0.060875), (102400, 0.19710631370544435, 0.042903), (204800, 0.31755058765411376, 0.0305), (409600, 0.564067006111145, 0.021402), (819200, 1.0338443040847778, 0.015151), (1638400, 1.8143707990646363, 0.010728), (3276800, 3.4719783067703247, 0.007578), (6553600, 6.686361002922058, 0.005363), (13107200, 13.872468495368958, 0.003788), (26214400, 28.54794478416443, 0.002679)]\n"
       ]
      },
      {
       "output_type": "stream",
       "stream": "stdout",
       "text": [
        "\n",
        "17 on (multicore_cpu): [(100, 0.001421809196472168, 1.214778), (200, 0.0018993139266967774, 1.037866), (400, 0.00359799861907959, 0.68208), (800, 0.004794001579284668, 0.461752), (1600, 0.007981109619140624, 0.345638), (3200, 0.014714217185974121, 0.244914), (6400, 0.032338619232177734, 0.173296), (12800, 0.056371092796325684, 0.120926), (25600, 0.11044411659240723, 0.085655), (51200, 0.21765999794006347, 0.060609), (102400, 0.42267260551452634, 0.043014), (204800, 0.8709328174591064, 0.030373), (409600, 1.6919407844543457, 0.02147), (819200, 3.5486165046691895, 0.015192), (1638400, 7.112584900856018, 0.010732), (3276800, 13.939806795120239, 0.007584), (6553600, 28.267975997924804, 0.00536)]\n"
       ]
      },
      {
       "output_type": "stream",
       "stream": "stdout",
       "text": [
        "\n",
        "14 on ee-snowball0(opencl_gpu): [(100, 0.106607985496521, 1.922042), (200, 0.08634960651397705, 1.522103), (400, 0.0853646993637085, 1.043797), (800, 0.08921830654144287, 0.777282), (1600, 0.08662011623382568, 0.512333), (3200, 0.08222999572753906, 0.360266), (6400, 0.09561378955841064, 0.267086), (12800, 0.10076229572296143, 0.1841), (25600, 0.0873338222503662, 0.127453), (51200, 0.09371230602264405, 0.091456), (102400, 0.09553611278533936, 0.065471), (204800, 0.10498609542846679, 0.045854), (409600, 0.13273441791534424, 0.032512), (819200, 0.17204599380493163, 0.022945), (1638400, 0.24662020206451415, 0.0162), (3276800, 0.4618567943572998, 0.011495), (6553600, 0.7617596864700318, 0.008118), (13107200, 1.44530189037323, 0.005741), (26214400, 2.7860293865203856, 0.004062), (52428800, 5.464589905738831, 0.002872), (104857600, 10.825262904167175, 0.00203), (209715200, 21.55507152080536, 0.001436), (419430400, 43.021272492408755, 0.001015)]\n"
       ]
      },
      {
       "output_type": "stream",
       "stream": "stdout",
       "text": [
        "\n",
        "13 on amazon-cpu-0(multicore_cpu): [(100, 0.13484721183776854, 1.344628), (200, 0.13844289779663085, 0.961436), (400, 0.13755309581756592, 0.6775), (800, 0.13653640747070311, 0.492525), (1600, 0.14126029014587402, 0.343819), (3200, 0.14213690757751465, 0.243995), (6400, 0.14816439151763916, 0.170302), (12800, 0.16154789924621582, 0.121869), (25600, 0.18206219673156737, 0.086005), (51200, 0.2561644077301025, 0.061098), (102400, 0.31968088150024415, 0.043148), (204800, 0.5041888952255249, 0.03057), (409600, 0.8716135025024414, 0.021599), (819200, 1.6288602113723756, 0.01527), (1638400, 3.1232346057891847, 0.010811), (3276800, 6.06723940372467, 0.007644), (6553600, 12.183340501785278, 0.005404), (13107200, 23.74980230331421, 0.003821)]\n"
       ]
      },
      {
       "output_type": "stream",
       "stream": "stdout",
       "text": [
        "\n",
        "11 on phi(multicore_cpu): [(100, 0.35030200481414797, 1.653239), (200, 0.3526103973388672, 1.035877), (400, 0.3529279947280884, 0.730802), (800, 0.353045392036438, 0.536536), (1600, 0.35805139541625974, 0.377176), (3200, 0.35847949981689453, 0.265657), (6400, 0.3590111017227173, 0.187244), (12800, 0.3808840990066528, 0.131084), (25600, 0.4208087921142578, 0.092936), (51200, 0.4787642002105713, 0.065593), (102400, 0.5648754119873047, 0.046367), (204800, 0.8265353918075562, 0.032886), (409600, 1.232402515411377, 0.023231), (819200, 2.0145640134811402, 0.016426), (1638400, 3.348315119743347, 0.01161), (3276800, 6.259317302703858, 0.008215), (6553600, 12.55422248840332, 0.005809), (13107200, 25.518213200569154, 0.004107)]\n"
       ]
      },
      {
       "output_type": "stream",
       "stream": "stdout",
       "text": [
        "\n",
        "12 on amazon-gpu-1(opencl_gpu): [(100, 0.230833101272583, 3.40815), (200, 0.23119242191314698, 3.325705), (400, 0.22733118534088134, 1.785408), (800, 0.23146569728851318, 1.368264), (1600, 0.23168530464172363, 1.025648), (3200, 0.23250949382781982, 0.690548), (6400, 0.23265459537506103, 0.492491), (12800, 0.2354207992553711, 0.352207), (25600, 0.23088560104370118, 0.248356), (51200, 0.2301095962524414, 0.177528), (102400, 0.2374053955078125, 0.126291), (204800, 0.24050581455230713, 0.088451), (409600, 0.2522207975387573, 0.062605), (819200, 0.2690554141998291, 0.044144), (1638400, 0.30833420753479, 0.031293), (3276800, 0.38425459861755373, 0.022143), (6553600, 0.5323892116546631, 0.015619), (13107200, 0.8411403179168702, 0.011042), (26214400, 1.4492748022079467, 0.00784), (52428800, 2.661022186279297, 0.005549), (104857600, 5.098614597320557, 0.003909), (209715200, 9.973070096969604, 0.002759), (419430400, 19.711212682724, 0.001957), (838860800, 39.14365038871765, 0.001385)]\n"
       ]
      },
      {
       "output_type": "stream",
       "stream": "stdout",
       "text": [
        "\n",
        "12 on pi(multicore_cpu): [(100, 0.18525340557098388, 4.095117), (200, 0.22002711296081542, 2.895096), (400, 0.3194494009017944, 1.954289), (800, 0.5042212963104248, 1.381204), (1600, 0.8834093809127808, 1.037328), (3200, 1.6383055925369263, 0.690956), (6400, 3.1544454097747803, 0.5045), (12800, 6.186819100379944, 0.351721), (25600, 12.233886098861694, 0.24996), (51200, 24.340130186080934, 0.176304)]\n"
       ]
      },
      {
       "output_type": "stream",
       "stream": "stdout",
       "text": [
        "\n",
        "16 on amazon-gpu-0(multicore_cpu): [(100, 0.1189465045928955, 0.0), (200, 0.12330789566040039, 0.0), (400, 0.1224210023880005, 0.004929), (800, 0.11964819431304932, 0.018331), (1600, 0.12197799682617187, 0.007628), (3200, 0.12820591926574706, 0.005833), (6400, 0.13704209327697753, 0.006159), (12800, 0.15801939964294434, 0.004978), (25600, 0.18581218719482423, 0.002973), (51200, 0.24804248809814453, 0.002108), (102400, 0.3748033046722412, 0.001483), (204800, 0.6314121007919311, 0.00117), (409600, 1.1283709049224853, 0.000814), (819200, 2.1565879821777343, 0.000561), (1638400, 4.158559799194336, 0.000399), (3276800, 8.17349579334259, 0.000279), (6553600, 16.085990691184996, 0.000198), (13107200, 32.289199995994565, 0.00014)]\n"
       ]
      },
      {
       "output_type": "stream",
       "stream": "stdout",
       "text": [
        "\n",
        "8 on ee-snowball2(opencl_alterafpga): [(100, 0.20431931018829347, 0.053194), (200, 0.1972071886062622, 0.0), (400, 0.15923471450805665, 0.01266), (800, 0.2299876928329468, 0.008575), (1600, 0.1601422071456909, 0.003616), (3200, 0.20966479778289795, 0.003821), (6400, 0.23041920661926268, 0.00232), (12800, 0.2309201955795288, 0.004181), (25600, 0.31482930183410646, 0.001941), (51200, 0.9067974090576172, 0.001538), (102400, 4.462216782569885, 0.001021), (204800, 20.855075001716614, 0.000752), (409600, 88.18040261268615, 0.000529)]\n"
       ]
      },
      {
       "output_type": "stream",
       "stream": "stdout",
       "text": [
        "\n",
        "10 on phi(opencl_gpu): [(1000, 1.2892746925354004, nan), (2000, 1.108060598373413, nan), (4000, 1.2119210958480835, nan), (8000, 1.1007080078125, nan), (16000, 2.876534605026245, nan), (32000, 2.8704455137252807, nan), (64000, 2.7017408132553102, nan), (128000, 2.951535391807556, nan), (256000, 2.967203211784363, nan), (512000, 3.0240622997283935, nan), (1024000, 2.7789117097854614, nan), (2048000, 4.1885195016860965, nan), (4096000, 5.1915651082992555, nan), (8192000, 7.317026591300964, nan), (16384000, 11.288235116004945, nan), (32768000, 20.794264101982115, nan), (65536000, 39.48301210403442, nan)]\n"
       ]
      },
      {
       "output_type": "stream",
       "stream": "stdout",
       "text": [
        "\n",
        "13 on ee-snowball1(opencl_gpu): [(100, 0.1680529832839966, 1.522808), (200, 0.12708640098571777, 1.033183), (400, 0.11003320217132569, 0.643208), (800, 0.13468570709228517, 0.469488), (1600, 0.14503781795501708, 0.334011), (3200, 0.11990859508514404, 0.24112), (6400, 0.14037091732025148, 0.17688), (12800, 0.13772330284118653, 0.122072), (25600, 0.11493790149688721, 0.088801), (51200, 0.1600349187850952, 0.060916), (102400, 0.14313158988952637, 0.043039), (204800, 0.15177638530731202, 0.030586), (409600, 0.16003670692443847, 0.021549), (819200, 0.1870682954788208, 0.015282), (1638400, 0.28649139404296875, 0.010798), (3276800, 0.4201092004776001, 0.00762), (6553600, 0.7363331079483032, 0.005389), (13107200, 1.314552402496338, 0.003809), (26214400, 2.536515498161316, 0.002703), (52428800, 4.926523423194885, 0.001901), (104857600, 9.747182202339172, 0.001352), (209715200, 19.304964685440062, 0.000958), (419430400, 38.544148206710815, 0.000676)]\n"
       ]
      },
      {
       "output_type": "stream",
       "stream": "stdout",
       "text": [
        "\n",
        "14 on ee-mollie(multicore_cpu): [(100, 0.08471310138702393, 1.772452), (200, 0.05176820755004883, 1.392861), (400, 0.05064249038696289, 1.062111), (800, 0.05022509098052978, 0.718316), (1600, 0.055618000030517575, 0.525318), (3200, 0.057594585418701175, 0.360609), (6400, 0.0637235164642334, 0.256198), (12800, 0.08617219924926758, 0.186358), (25600, 0.11709420680999756, 0.129466), (51200, 0.22317299842834473, 0.092055), (102400, 0.3361120939254761, 0.064888), (204800, 0.6525516986846924, 0.045965), (409600, 1.1901718139648438, 0.032524), (819200, 2.3165727138519285, 0.023011), (1638400, 4.553326892852783, 0.016245), (3276800, 9.081398606300354, 0.01149), (6553600, 17.90127749443054, 0.00812), (13107200, 35.46550891399384, 0.005738)]\n"
       ]
      },
      {
       "output_type": "stream",
       "stream": "stdout",
       "text": [
        "\n",
        "16 on amazon-gpu-1(multicore_cpu): [(100, 0.2211590051651001, 0.0), (200, 0.22304940223693848, 0.0), (400, 0.22225508689880372, 0.004929), (800, 0.22286109924316405, 0.018331), (1600, 0.2274906873703003, 0.007628), (3200, 0.2283550024032593, 0.005833), (6400, 0.23832108974456787, 0.006159), (12800, 0.2535468816757202, 0.004978), (25600, 0.2858705997467041, 0.002973), (51200, 0.34805161952972413, 0.002108), (102400, 0.4745094060897827, 0.001483), (204800, 0.7270241975784302, 0.00117), (409600, 1.2469679832458496, 0.000814), (819200, 2.2438581943511964, 0.000561), (1638400, 4.358444309234619, 0.000399), (3276800, 8.303576898574828, 0.000279), (6553600, 16.367723608016966, 0.000198), (13107200, 32.57182140350342, 0.00014)]\n"
       ]
      },
      {
       "output_type": "stream",
       "stream": "stdout",
       "text": [
        "\n",
        "14 on amazon-cpu-0(multicore_cpu): [(100, 0.21568191051483154, 2.219512), (200, 0.1384744882583618, 1.308937), (400, 0.13494949340820311, 1.01546), (800, 0.14022579193115234, 0.692846), (1600, 0.1364353895187378, 0.508673), (3200, 0.14034950733184814, 0.365174), (6400, 0.14342548847198486, 0.264707), (12800, 0.14734067916870117, 0.181938), (25600, 0.15883300304412842, 0.129946), (51200, 0.18223018646240235, 0.092108), (102400, 0.22957170009613037, 0.064674), (204800, 0.33004260063171387, 0.045783), (409600, 0.5096467018127442, 0.032449), (819200, 0.8943165063858032, 0.023006), (1638400, 1.624812912940979, 0.016267), (3276800, 3.162457799911499, 0.011478), (6553600, 6.194892501831054, 0.008122), (13107200, 12.009229397773742, 0.005746), (26214400, 23.861463618278503, 0.004061)]\n"
       ]
      },
      {
       "output_type": "stream",
       "stream": "stdout",
       "text": [
        "\n",
        "13 on amazon-gpu-0(opencl_gpu): [(100, 0.13045909404754638, 1.387706), (200, 0.12978739738464357, 0.827635), (400, 0.13160991668701172, 0.655866), (800, 0.1315383195877075, 0.526673), (1600, 0.13075609207153321, 0.330204), (3200, 0.1354395866394043, 0.246076), (6400, 0.1352065086364746, 0.174661), (12800, 0.13417451381683348, 0.123441), (25600, 0.1349971055984497, 0.086627), (51200, 0.13682830333709717, 0.060813), (102400, 0.13494620323181153, 0.042992), (204800, 0.14135851860046386, 0.030452), (409600, 0.15005171298980713, 0.021693), (819200, 0.16895852088928223, 0.015275), (1638400, 0.20626220703125, 0.01076), (3276800, 0.28161509037017823, 0.007623), (6553600, 0.43382987976074217, 0.005381), (13107200, 0.738991093635559, 0.003821), (26214400, 1.351503586769104, 0.002704), (52428800, 2.564680004119873, 0.001914), (104857600, 4.991974020004273, 0.001349), (209715200, 9.881692886352539, 0.000953), (419430400, 19.589567804336546, 0.000676), (838860800, 39.050971722602846, 0.000477)]\n"
       ]
      },
      {
       "output_type": "stream",
       "stream": "stdout",
       "text": [
        "\n",
        "13 on pi(multicore_cpu): [(100, 0.17707960605621337, 1.461418), (200, 0.2192742109298706, 0.921199), (400, 0.31422131061553954, 0.692203), (800, 0.5152734994888306, 0.476871), (1600, 0.8942265987396241, 0.342784), (3200, 1.6370913982391357, 0.247452), (6400, 3.1522634983062745, 0.174035), (12800, 6.178109908103943, 0.121266), (25600, 12.228123903274536, 0.086813), (51200, 24.322591304779053, 0.061065)]\n"
       ]
      },
      {
       "output_type": "stream",
       "stream": "stdout",
       "text": [
        "\n",
        "12 on phi(multicore_cpu): [(100, 0.35026371479034424, 4.473827), (200, 0.34665091037750245, 2.841615), (400, 0.34900660514831544, 1.965736), (800, 0.3506608009338379, 1.388578), (1600, 0.35775349140167234, 1.031243), (3200, 0.3590040922164917, 0.705388), (6400, 0.3648716926574707, 0.495144), (12800, 0.3801459789276123, 0.354897), (25600, 0.39491891860961914, 0.248019), (51200, 0.47600951194763186, 0.176614), (102400, 0.5898980855941772, 0.125146), (204800, 0.7647938013076783, 0.088376), (409600, 1.2117523908615113, 0.062442), (819200, 1.9580506801605224, 0.0442), (1638400, 3.668830895423889, 0.031271), (3276800, 6.9199937105178835, 0.022117), (6553600, 12.522790098190308, 0.015636), (13107200, 25.510294008255006, 0.011053)]\n"
       ]
      },
      {
       "output_type": "stream",
       "stream": "stdout",
       "text": [
        "\n",
        "15 on amazon-cpu-1(multicore_cpu): [(100, 0.22943730354309083, 1.364378), (200, 0.22871041297912598, 0.966952), (400, 0.2310115098953247, 0.685969), (800, 0.23014469146728517, 0.479791), (1600, 0.23053288459777832, 0.344725), (3200, 0.23704209327697753, 0.242494), (6400, 0.2404228925704956, 0.173048), (12800, 0.2514755964279175, 0.120879), (25600, 0.27032530307769775, 0.085358), (51200, 0.3123256921768188, 0.060451), (102400, 0.3952080011367798, 0.042963), (204800, 0.5514007806777954, 0.030293), (409600, 0.875265097618103, 0.021433), (819200, 1.5355293035507203, 0.015146), (1638400, 2.812601900100708, 0.010715), (3276800, 5.454930114746094, 0.007572), (6553600, 10.552591490745545, 0.005357), (13107200, 21.127366399765016, 0.003788), (26214400, 41.50270397663117, 0.002679)]\n"
       ]
      },
      {
       "output_type": "stream",
       "stream": "stdout",
       "text": [
        "\n",
        "18 on ee-benjamin(multicore_cpu): [(100, 0.08545529842376709, 1.091716), (200, 0.08750967979431153, 0.668352), (400, 0.08289051055908203, 0.521912), (800, 0.08053689002990723, 0.348015), (1600, 0.08042781352996826, 0.257057), (3200, 0.08581898212432862, 0.184513), (6400, 0.09466860294342042, 0.127057), (12800, 0.08932700157165527, 0.089581), (25600, 0.09661719799041749, 0.06332), (51200, 0.13043439388275146, 0.044905), (102400, 0.1717906951904297, 0.031625), (204800, 0.25921969413757323, 0.022432), (409600, 0.4618060111999512, 0.015882), (819200, 0.8215980052947998, 0.011214), (1638400, 1.4527508020401, 0.007935), (3276800, 2.741458296775818, 0.005609), (6553600, 5.319044899940491, 0.003965), (13107200, 10.390231895446778, 0.002804), (26214400, 22.381440687179566, 0.001983), (52428800, 40.67587721347809, 0.001403)]\n"
       ]
      },
      {
       "output_type": "stream",
       "stream": "stdout",
       "text": [
        "\n",
        "17 on amazon-gpu-0(multicore_cpu): [(100, 0.12472250461578369, 1.497293), (200, 0.12041869163513183, 0.986107), (400, 0.12488729953765869, 0.663769), (800, 0.1251155138015747, 0.463006), (1600, 0.1285259962081909, 0.334498), (3200, 0.135117506980896, 0.243977), (6400, 0.15018129348754883, 0.174148), (12800, 0.18004910945892333, 0.123149), (25600, 0.24157400131225587, 0.086504), (51200, 0.3562823057174683, 0.060901), (102400, 0.6034588098526001, 0.043007), (204800, 1.062554407119751, 0.030352), (409600, 2.0064412117004395, 0.021435), (819200, 3.888372707366943, 0.015128), (1638400, 7.65263409614563, 0.010711), (3276800, 15.17315890789032, 0.007582), (6553600, 30.068935608863832, 0.005364)]\n"
       ]
      },
      {
       "output_type": "stream",
       "stream": "stdout",
       "text": [
        "\n",
        "8 on ee-mollie(maxeler_fpga): [(100, 0.05619988441467285, 0.0), (200, 0.05600872039794922, 0.0), (400, 0.08011469841003419, 0.0), (800, 0.05294411182403565, 0.0), (1600, 0.05785050392150879, 0.004143), (3200, 0.05577850341796875, 0.001812), (6400, 0.057122802734375, 0.004323), (12800, 0.08343639373779296, 0.001779), (25600, 0.05454220771789551, 0.001863), (51200, 0.0597175121307373, 0.00145), (102400, 0.09510488510131836, 0.001037), (204800, 0.08075590133666992, 0.00079), (409600, 0.11125550270080567, 0.000468), (819200, 0.20294060707092285, 0.000361), (1638400, 0.31526618003845214, 0.000267), (3276800, 0.51943039894104, 0.000177), (6553600, 0.9627409934997558, 0.000132), (13107200, 1.884566879272461, 9.4e-05), (26214400, 3.5526660919189452, 6.6e-05), (52428800, 7.148951697349548, 4.7e-05), (104857600, 14.269252490997314, 3.3e-05), (209715200, 28.302654910087586, 2.3e-05)]\n"
       ]
      },
      {
       "output_type": "stream",
       "stream": "stdout",
       "text": [
        "\n",
        "18 on (multicore_cpu): [(100, 0.0012556076049804687, 0.961182), (200, 0.0020194053649902344, 0.708809), (400, 0.0024507999420166015, 0.529826), (800, 0.004024600982666016, 0.372566), (1600, 0.006324005126953125, 0.255191), (3200, 0.011579608917236328, 0.182217), (6400, 0.025750207901000976, 0.12656), (12800, 0.04358429908752441, 0.088939), (25600, 0.08498280048370362, 0.063335), (51200, 0.1706080913543701, 0.045151), (102400, 0.3394207000732422, 0.031817), (204800, 0.7008021116256714, 0.0224), (409600, 1.450561285018921, 0.015857), (819200, 2.7214701890945436, 0.011219), (1638400, 5.3106842041015625, 0.007925), (3276800, 10.562755489349366, 0.005608), (6553600, 21.30289328098297, 0.003965), (13107200, 42.10197319984436, 0.002804)]\n"
       ]
      },
      {
       "output_type": "stream",
       "stream": "stdout",
       "text": [
        "\n",
        "15 on ee-snowball0(opencl_gpu): [(100, 0.10797510147094727, 1.360998), (200, 0.09738540649414062, 0.999953), (400, 0.08756170272827149, 0.701507), (800, 0.08434531688690186, 0.471375), (1600, 0.08464879989624023, 0.341438), (3200, 0.08040909767150879, 0.24317), (6400, 0.10523979663848877, 0.170787), (12800, 0.10219349861145019, 0.120583), (25600, 0.09149930477142335, 0.086255), (51200, 0.09282870292663574, 0.060651), (102400, 0.09342100620269775, 0.042848), (204800, 0.1087151050567627, 0.030284), (409600, 0.13325049877166747, 0.021462), (819200, 0.17466599941253663, 0.01516), (1638400, 0.25324509143829343, 0.010709), (3276800, 0.4311744928359985, 0.007582), (6553600, 0.7668923139572144, 0.005357), (13107200, 1.4339918136596679, 0.00379), (26214400, 2.7631070137023928, 0.002679), (52428800, 5.4094789028167725, 0.001894), (104857600, 10.746910119056702, 0.00134), (209715200, 21.3235515832901, 0.000947), (419430400, 42.597377395629884, 0.00067)]\n"
       ]
      },
      {
       "output_type": "stream",
       "stream": "stdout",
       "text": [
        "\n",
        "13 on amazon-gpu-1(opencl_gpu): [(100, 0.23648459911346437, 1.387706), (200, 0.2344823122024536, 0.827635), (400, 0.23331868648529053, 0.655866), (800, 0.2337506055831909, 0.526673), (1600, 0.23479220867156983, 0.330204), (3200, 0.2340243101119995, 0.246076), (6400, 0.23167970180511474, 0.174661), (12800, 0.230914306640625, 0.123441), (25600, 0.2345198154449463, 0.086627), (51200, 0.23539450168609619, 0.060813), (102400, 0.23765580654144286, 0.042992), (204800, 0.2466028928756714, 0.030452), (409600, 0.2551214933395386, 0.021693), (819200, 0.2709023952484131, 0.015275), (1638400, 0.3055418968200684, 0.01076), (3276800, 0.3862878084182739, 0.007623), (6553600, 0.5349854946136474, 0.005381), (13107200, 0.8386484861373902, 0.003821), (26214400, 1.4500717163085937, 0.002704), (52428800, 2.6838153123855593, 0.001914), (104857600, 5.095831513404846, 0.001349), (209715200, 9.980912113189698, 0.000953), (419430400, 19.69743368625641, 0.000676), (838860800, 39.15234899520874, 0.000477)]\n"
       ]
      },
      {
       "output_type": "stream",
       "stream": "stdout",
       "text": [
        "\n",
        "14 on pi(multicore_cpu): [(100, 0.15153720378875732, 1.687362), (200, 0.17096168994903566, 1.349305), (400, 0.23165080547332764, 1.05231), (800, 0.3458261013031006, 0.731404), (1600, 0.5077696084976197, 0.528798), (3200, 0.8913941860198975, 0.3662), (6400, 1.6351305007934571, 0.256371), (12800, 3.198324179649353, 0.184936), (25600, 6.322487998008728, 0.131181), (51200, 12.333274412155152, 0.092162), (102400, 24.449452805519105, 0.064854)]\n"
       ]
      },
      {
       "output_type": "stream",
       "stream": "stdout",
       "text": [
        "\n",
        "15 on ee-mollie(multicore_cpu): [(100, 0.10774998664855957, 1.342345), (200, 0.04735431671142578, 0.968262), (400, 0.0489691972732544, 0.704822), (800, 0.0507606029510498, 0.483757), (1600, 0.05530879497528076, 0.341752), (3200, 0.0636260986328125, 0.239569), (6400, 0.0668644905090332, 0.171905), (12800, 0.10591239929199218, 0.1208), (25600, 0.16571900844573975, 0.085569), (51200, 0.3451694011688232, 0.06068), (102400, 0.5306380033493042, 0.042914), (204800, 1.0529671907424927, 0.030259), (409600, 2.0095563888549806, 0.021417), (819200, 4.009401488304138, 0.015139), (1638400, 7.8087210893630985, 0.010711), (3276800, 15.547218608856202, 0.007572), (6553600, 30.9779226064682, 0.005357)]\n"
       ]
      },
      {
       "output_type": "stream",
       "stream": "stdout",
       "text": [
        "\n",
        "17 on amazon-gpu-1(multicore_cpu): [(100, 0.23713200092315673, 1.497293), (200, 0.2220757007598877, 0.986107), (400, 0.22392990589141845, 0.663769), (800, 0.22511038780212403, 0.463006), (1600, 0.22869880199432374, 0.334498), (3200, 0.23673079013824463, 0.243977), (6400, 0.25362401008605956, 0.174148), (12800, 0.2826694965362549, 0.123149), (25600, 0.34051949977874757, 0.086504), (51200, 0.46189930438995364, 0.060901), (102400, 0.6993465900421143, 0.043007), (204800, 1.1768817901611328, 0.030352), (409600, 2.182608699798584, 0.021435), (819200, 4.001730298995971, 0.015128), (1638400, 7.861028099060059, 0.010711), (3276800, 15.458682203292847, 0.007582), (6553600, 30.322220587730406, 0.005364)]\n"
       ]
      },
      {
       "output_type": "stream",
       "stream": "stdout",
       "text": [
        "\n",
        "13 on phi(multicore_cpu): [(100, 0.34850320816040037, 1.391228), (200, 0.3495748043060303, 0.971921), (400, 0.3508496046066284, 0.683386), (800, 0.5380882978439331, 0.493441), (1600, 0.3605993986129761, 0.340335), (3200, 0.35886919498443604, 0.244939), (6400, 0.36280531883239747, 0.172764), (12800, 0.3888467073440552, 0.121799), (25600, 0.40767219066619875, 0.086669), (51200, 0.47514560222625735, 0.061117), (102400, 0.5901950836181641, 0.043114), (204800, 0.7600939035415649, 0.030619), (409600, 1.211210799217224, 0.021624), (819200, 1.8841309070587158, 0.015275), (1638400, 3.4252151012420655, 0.010805), (3276800, 7.532690191268921, 0.007643), (6553600, 13.742080998420715, 0.005403), (13107200, 24.4573832988739, 0.003821)]\n"
       ]
      },
      {
       "output_type": "stream",
       "stream": "stdout",
       "text": [
        "\n",
        "14 on ee-snowball1(opencl_gpu): [(100, 0.15028059482574463, 1.985164), (200, 0.1219494104385376, 1.226591), (400, 0.12667460441589357, 0.796121), (800, 0.13319971561431884, 0.867646), (1600, 0.1454761028289795, 0.527674), (3200, 0.13658480644226073, 0.395997), (6400, 0.13836700916290284, 0.237339), (12800, 0.12951440811157228, 0.188152), (25600, 0.1371140956878662, 0.130849), (51200, 0.1359710931777954, 0.093909), (102400, 0.14901449680328369, 0.065451), (204800, 0.16271660327911378, 0.045264), (409600, 0.1871028184890747, 0.032453), (819200, 0.21285371780395507, 0.022919), (1638400, 0.30161879062652586, 0.016195), (3276800, 0.4649797916412354, 0.01145), (6553600, 0.7448654174804688, 0.008151), (13107200, 1.3400744915008544, 0.005721), (26214400, 2.5424437046051027, 0.004064), (52428800, 4.936661410331726, 0.002873), (104857600, 9.724073219299317, 0.002034), (209715200, 19.27143371105194, 0.00143), (419430400, 38.422631120681764, 0.001016)]\n"
       ]
      },
      {
       "output_type": "stream",
       "stream": "stdout",
       "text": [
        "\n",
        "16 on amazon-cpu-1(multicore_cpu): [(100, 0.22713470458984375, 0.0), (200, 0.228875994682312, 0.037651), (400, 0.22967700958251952, 0.02618), (800, 0.2307425022125244, 0.006179), (1600, 0.23059351444244386, 0.015947), (3200, 0.2319701910018921, 0.010564), (6400, 0.235634708404541, 0.005821), (12800, 0.24119369983673095, 0.00547), (25600, 0.25404469966888427, 0.003139), (51200, 0.28027567863464353, 0.002225), (102400, 0.33416578769683836, 0.001613), (204800, 0.43067350387573244, 0.001173), (409600, 0.6359532117843628, 0.000775), (819200, 1.0446892976760864, 0.000566), (1638400, 1.8360111951828002, 0.000397), (3276800, 3.4445755004882814, 0.00028), (6553600, 6.764936709403992, 0.000197), (13107200, 13.061998987197876, 0.000141), (26214400, 26.392167806625366, 9.9e-05)]\n"
       ]
      },
      {
       "output_type": "stream",
       "stream": "stdout",
       "text": [
        "\n",
        "18 on amazon-gpu-0(multicore_cpu): [(100, 0.12089471817016602, 1.120707), (200, 0.12042469978332519, 0.65718), (400, 0.12273201942443848, 0.536901), (800, 0.12356390953063964, 0.362369), (1600, 0.12777979373931886, 0.255781), (3200, 0.13199961185455322, 0.18233), (6400, 0.14436781406402588, 0.126375), (12800, 0.16787829399108886, 0.089447), (25600, 0.2146136999130249, 0.062846), (51200, 0.3050862789154053, 0.044742), (102400, 0.4916053056716919, 0.031834), (204800, 0.859816598892212, 0.022396), (409600, 1.6245515108108521, 0.015864), (819200, 3.0625772953033445, 0.011213), (1638400, 6.005069398880005, 0.007932), (3276800, 11.889518094062804, 0.005609), (6553600, 23.701602196693422, 0.003968)]\n"
       ]
      },
      {
       "output_type": "stream",
       "stream": "stdout",
       "text": [
        "\n",
        "19 on ee-benjamin(multicore_cpu): [(100, 0.09387810230255127, 0.803767), (200, 0.08334019184112548, 0.786332), (400, 0.07537620067596436, 0.622921), (800, 0.07803828716278076, 0.407441), (1600, 0.08378620147705078, 0.297874), (3200, 0.08793480396270752, 0.208094), (6400, 0.11769020557403564, 0.148421), (12800, 0.11614439487457276, 0.10495), (25600, 0.11763229370117187, 0.072892), (51200, 0.14986898899078369, 0.051911), (102400, 0.22216358184814453, 0.036863), (204800, 0.31600050926208495, 0.026031), (409600, 0.5605316877365112, 0.018412), (819200, 1.0406702041625977, 0.012998), (1638400, 1.8549453973770142, 0.009204), (3276800, 3.7099525928497314, 0.006502), (6553600, 7.327660799026489, 0.004599), (13107200, 13.435647797584533, 0.003252), (26214400, 26.34710819721222, 0.002298)]\n"
       ]
      },
      {
       "output_type": "stream",
       "stream": "stdout",
       "text": [
        "\n",
        "15 on amazon-cpu-0(multicore_cpu): [(100, 0.12212190628051758, 1.422769), (200, 0.12268290519714356, 0.908684), (400, 0.12259120941162109, 0.66917), (800, 0.1364371061325073, 0.485589), (1600, 0.13937771320343018, 0.340056), (3200, 0.14018688201904297, 0.240942), (6400, 0.14666330814361572, 0.173218), (12800, 0.15529851913452147, 0.121572), (25600, 0.17747509479522705, 0.085597), (51200, 0.2179744005203247, 0.060563), (102400, 0.30064949989318845, 0.042958), (204800, 0.4605933904647827, 0.030277), (409600, 0.7800724029541015, 0.021397), (819200, 1.4346982955932617, 0.015148), (1638400, 2.760334610939026, 0.010713), (3276800, 5.29894609451294, 0.007577), (6553600, 10.455755710601807, 0.005358), (13107200, 20.989566111564635, 0.003789), (26214400, 41.415636205673216, 0.002678)]\n"
       ]
      },
      {
       "output_type": "stream",
       "stream": "stdout",
       "text": [
        "\n",
        "14 on amazon-gpu-0(opencl_gpu): [(100, 0.1302051067352295, 1.817826), (200, 0.12969470024108887, 1.529549), (400, 0.12927069664001464, 0.867075), (800, 0.1310783863067627, 0.705189), (1600, 0.1336191177368164, 0.470942), (3200, 0.133821702003479, 0.37926), (6400, 0.13311851024627686, 0.2532), (12800, 0.13155570030212402, 0.183363), (25600, 0.13247919082641602, 0.125038), (51200, 0.13244922161102296, 0.088426), (102400, 0.13446540832519532, 0.065075), (204800, 0.14175770282745362, 0.045835), (409600, 0.15205790996551513, 0.032355), (819200, 0.17247369289398193, 0.023028), (1638400, 0.20451998710632324, 0.016183), (3276800, 0.2832282781600952, 0.011495), (6553600, 0.43415400981903074, 0.008089), (13107200, 0.7405422925949097, 0.005757), (26214400, 1.345801591873169, 0.004056), (52428800, 2.5698023080825805, 0.002883), (104857600, 4.995783901214599, 0.002031), (209715200, 9.855254793167115, 0.001435), (419430400, 19.611558413505556, 0.001011), (838860800, 39.13039131164551, 0.000715)]\n"
       ]
      },
      {
       "output_type": "stream",
       "stream": "stdout",
       "text": [
        "\n",
        "19 on (multicore_cpu): [(100, 0.001471400260925293, 1.208497), (200, 0.0023195028305053713, 0.807806), (400, 0.0030331134796142576, 0.577954), (800, 0.004970407485961914, 0.426889), (1600, 0.008047890663146973, 0.292994), (3200, 0.01542677879333496, 0.208746), (6400, 0.02834019660949707, 0.146958), (12800, 0.06267549991607665, 0.103717), (25600, 0.11160721778869628, 0.073569), (51200, 0.21978859901428222, 0.051929), (102400, 0.4392916917800903, 0.036859), (204800, 0.8864433765411377, 0.026014), (409600, 1.707212996482849, 0.018388), (819200, 3.416459488868713, 0.013014), (1638400, 6.802178001403808, 0.009194), (3276800, 13.571676206588744, 0.006502), (6553600, 27.34848470687866, 0.004597)]\n"
       ]
      },
      {
       "output_type": "stream",
       "stream": "stdout",
       "text": [
        "\n",
        "9 on ee-snowball2(opencl_alterafpga): [(100, 0.18288278579711914, 1.38411), (200, 0.1460799217224121, 1.020575), (400, 0.19352500438690184, 0.720539), (800, 0.18602888584136962, 0.479838), (1600, 0.20640461444854735, 0.343255), (3200, 0.19090259075164795, 0.236507), (6400, 0.19093971252441405, 0.161272), (12800, 0.2790555000305176, 0.119187), (25600, 0.3911933898925781, 0.082398), (51200, 0.8479261875152588, 0.060371), (102400, 4.542719411849975, 0.042368), (204800, 20.795490407943724, 0.029966), (409600, 88.40691649913788, 0.021223)]\n"
       ]
      },
      {
       "output_type": "stream",
       "stream": "stdout",
       "text": [
        "\n",
        "11 on phi(opencl_gpu): [(1000, 1.2228722810745238, nan), (2000, 1.16704421043396, nan), (4000, 1.1586022853851319, nan), (8000, 1.0464170932769776, nan), (16000, 2.8631844997406004, nan), (32000, 2.8843235969543457, nan), (64000, 2.7979867935180662, nan), (128000, 2.856476092338562, nan), (256000, 2.7758898973464965, nan), (512000, 3.0877156972885134, nan), (1024000, 2.90054030418396, nan), (2048000, 3.999411606788635, nan), (4096000, 5.25513858795166, nan), (8192000, 7.31029908657074, nan), (16384000, 12.161824607849121, nan), (32768000, 20.887800002098082, nan), (65536000, 39.41695401668549, nan)]\n"
       ]
      },
      {
       "output_type": "stream",
       "stream": "stdout",
       "text": [
        "\n",
        "18 on amazon-gpu-1(multicore_cpu): [(100, 0.22303030490875245, 1.120707), (200, 0.22365050315856932, 0.65718), (400, 0.22425758838653564, 0.536901), (800, 0.22787868976593018, 0.362369), (1600, 0.22977049350738527, 0.255781), (3200, 0.23414719104766846, 0.18233), (6400, 0.2470852851867676, 0.126375), (12800, 0.26970930099487306, 0.089447), (25600, 0.31459879875183105, 0.062846), (51200, 0.4093441963195801, 0.044742), (102400, 0.5905321836471558, 0.031834), (204800, 0.9620031118392944, 0.022396), (409600, 1.703137993812561, 0.015864), (819200, 3.1780641078948975, 0.011213), (1638400, 6.131935381889344, 0.007932), (3276800, 12.028442001342773, 0.005609), (6553600, 23.878668999671937, 0.003968)]\n"
       ]
      },
      {
       "output_type": "stream",
       "stream": "stdout",
       "text": [
        "\n",
        "16 on ee-snowball0(opencl_gpu): [(100, 0.11005511283874511, 0.0), (200, 0.0908012866973877, 0.0), (400, 0.09529979228973388, 0.01143), (800, 0.08672411441802978, 0.006031), (1600, 0.08926579952239991, 0.012063), (3200, 0.06477749347686768, 0.006019), (6400, 0.09311649799346924, 0.00449), (12800, 0.09423840045928955, 0.00442), (25600, 0.0899989128112793, 0.003136), (51200, 0.08957221508026122, 0.002152), (102400, 0.0987480878829956, 0.00164), (204800, 0.10232648849487305, 0.001103), (409600, 0.13995749950408937, 0.000795), (819200, 0.16052720546722413, 0.00057), (1638400, 0.24899611473083497, 0.000438), (3276800, 0.42705378532409666, 0.000282), (6553600, 0.7501184940338135, 0.000204), (13107200, 1.4167304992675782, 0.000142), (26214400, 2.739022397994995, 9.9e-05), (52428800, 5.3883429050445555, 7.1e-05), (104857600, 10.695019602775574, 5e-05), (209715200, 21.223588705062866, 3.5e-05), (419430400, 42.35244641304016, 2.5e-05)]\n"
       ]
      },
      {
       "output_type": "stream",
       "stream": "stdout",
       "text": [
        "\n",
        "14 on phi(multicore_cpu): [(100, 0.349529504776001, 2.242253), (200, 0.3498882055282593, 1.397567), (400, 0.35492959022521975, 1.110256), (800, 0.3508364915847778, 0.685863), (1600, 0.3536598920822144, 0.508553), (3200, 0.3527873992919922, 0.361433), (6400, 0.3578974962234497, 0.262964), (12800, 0.36738560199737547, 0.181519), (25600, 0.38002469539642336, 0.12903), (51200, 0.4057147026062012, 0.092015), (102400, 0.45424129962921145, 0.064983), (204800, 0.6046492099761963, 0.045826), (409600, 0.8235844135284424, 0.032485), (819200, 1.4013394117355347, 0.023008), (1638400, 1.9760859966278077, 0.016254), (3276800, 3.4446292161941527, 0.011494), (6553600, 7.496327900886536, 0.008124), (13107200, 12.511803102493285, 0.005744), (26214400, 24.450039315223695, 0.00406)]\n"
       ]
      },
      {
       "output_type": "stream",
       "stream": "stdout",
       "text": [
        "\n",
        "14 on amazon-gpu-1(opencl_gpu): [(100, 0.23208169937133788, 1.817826), (200, 0.2315462827682495, 1.529549), (400, 0.23395881652832032, 0.867075), (800, 0.23275368213653563, 0.705189), (1600, 0.23290350437164306, 0.470942), (3200, 0.23432979583740235, 0.37926), (6400, 0.233986496925354, 0.2532), (12800, 0.23287999629974365, 0.183363), (25600, 0.23469409942626954, 0.125038), (51200, 0.23565430641174318, 0.088426), (102400, 0.2373718023300171, 0.065075), (204800, 0.24230148792266845, 0.045835), (409600, 0.2545283794403076, 0.032355), (819200, 0.2717940092086792, 0.023028), (1638400, 0.30731279850006105, 0.016183), (3276800, 0.3839424133300781, 0.011495), (6553600, 0.5350701093673706, 0.008089), (13107200, 0.8407806873321533, 0.005757), (26214400, 1.4502655029296876, 0.004056), (52428800, 2.666498398780823, 0.002883), (104857600, 5.094912004470825, 0.002031), (209715200, 9.962552118301392, 0.001435), (419430400, 19.714284491539, 0.001011), (838860800, 39.22603750228882, 0.000715)]\n"
       ]
      },
      {
       "output_type": "stream",
       "stream": "stdout",
       "text": [
        "\n",
        "17 on amazon-cpu-1(multicore_cpu): [(100, 0.23146090507507325, 1.38686), (200, 0.23067290782928468, 0.959252), (400, 0.23093729019165038, 0.623775), (800, 0.23041439056396484, 0.48087), (1600, 0.23286838531494142, 0.332467), (3200, 0.2369246006011963, 0.242097), (6400, 0.2445005178451538, 0.170145), (12800, 0.254793381690979, 0.119951), (25600, 0.27562339305877687, 0.086048), (51200, 0.3237627983093262, 0.061077), (102400, 0.41601810455322263, 0.042726), (204800, 0.6090971946716308, 0.030356), (409600, 0.9808520078659058, 0.021461), (819200, 1.7488987922668457, 0.015175), (1638400, 3.274692010879517, 0.010727), (3276800, 6.236711502075195, 0.007572), (6553600, 12.476160407066345, 0.00536), (13107200, 24.56379427909851, 0.003788)]\n"
       ]
      },
      {
       "output_type": "stream",
       "stream": "stdout",
       "text": [
        "\n",
        "20 on ee-benjamin(multicore_cpu): [(100, 0.08371160030364991, 0.027563), (200, 0.0766326904296875, 0.025377), (400, 0.07699620723724365, 0.015328), (800, 0.07656660079956054, 0.010838), (1600, 0.07592251300811767, 0.008186), (3200, 0.08063809871673584, 0.005744), (6400, 0.08857719898223877, 0.003965), (12800, 0.1003572940826416, 0.002887), (25600, 0.11000781059265137, 0.002068), (51200, 0.14314229488372804, 0.00145), (102400, 0.19504029750823976, 0.00101), (204800, 0.32825000286102296, 0.000723), (409600, 0.547885799407959, 0.00051), (819200, 0.9737013101577758, 0.00036), (1638400, 1.9183604955673217, 0.000255), (3276800, 3.81993510723114, 0.00018), (6553600, 7.0064620018005375, 0.000127), (13107200, 13.73790409564972, 9e-05), (26214400, 26.62382779121399, 6.4e-05)]\n"
       ]
      },
      {
       "output_type": "stream",
       "stream": "stdout",
       "text": [
        "\n",
        "19 on amazon-gpu-0(multicore_cpu): [(100, 0.12087948322296142, 1.363449), (200, 0.12148828506469726, 0.807153), (400, 0.12351789474487304, 0.597719), (800, 0.12618680000305177, 0.409942), (1600, 0.12834451198577881, 0.296575), (3200, 0.13325631618499756, 0.213366), (6400, 0.1513869047164917, 0.146231), (12800, 0.17813010215759278, 0.103758), (25600, 0.23911490440368652, 0.074007), (51200, 0.3558449029922485, 0.052109), (102400, 0.5913264989852905, 0.036832), (204800, 1.05971999168396, 0.026), (409600, 2.0009494066238402, 0.018404), (819200, 3.9561926126480103, 0.013001), (1638400, 7.636879181861877, 0.009194), (3276800, 15.30013210773468, 0.006503), (6553600, 30.106146216392517, 0.0046)]\n"
       ]
      },
      {
       "output_type": "stream",
       "stream": "stdout",
       "text": [
        "\n",
        "16 on ee-mollie(multicore_cpu): [(100, 0.16103460788726806, 0.0), (200, 0.04906220436096191, 0.0), (400, 0.06893260478973388, 0.004929), (800, 0.054616999626159665, 0.018331), (1600, 0.05356860160827637, 0.007628), (3200, 0.06008579730987549, 0.005833), (6400, 0.06518549919128418, 0.006159), (12800, 0.08523809909820557, 0.004978), (25600, 0.12264859676361084, 0.002973), (51200, 0.2293001890182495, 0.002108), (102400, 0.3488789081573486, 0.001483), (204800, 0.6780306100845337, 0.00117), (409600, 1.2694844007492065, 0.000814), (819200, 2.5156725883483886, 0.000561), (1638400, 4.968466591835022, 0.000399), (3276800, 9.787880301475525, 0.000279), (6553600, 19.63082709312439, 0.000198), (13107200, 38.75736269950867, 0.00014)]\n"
       ]
      },
      {
       "output_type": "stream",
       "stream": "stdout",
       "text": [
        "\n",
        "16 on amazon-cpu-0(multicore_cpu): [(100, 0.12211511135101319, 0.041425), (200, 0.13283069133758546, 0.057106), (400, 0.1342984914779663, 0.004211), (800, 0.1320884943008423, 0.023477), (1600, 0.1318370819091797, 0.014996), (3200, 0.13342771530151368, 0.006452), (6400, 0.14216690063476561, 0.005154), (12800, 0.14855799674987794, 0.004313), (25600, 0.15959391593933106, 0.002911), (51200, 0.18555798530578613, 0.002331), (102400, 0.23690671920776368, 0.001485), (204800, 0.33647301197052004, 0.001118), (409600, 0.5478930950164795, 0.000821), (819200, 0.9584967136383057, 0.000562), (1638400, 1.7600926876068115, 0.000389), (3276800, 3.4229725122451784, 0.000283), (6553600, 6.550119709968567, 0.000198), (13107200, 12.963503193855285, 0.000142), (26214400, 26.01821360588074, 9.8e-05)]\n"
       ]
      },
      {
       "output_type": "stream",
       "stream": "stdout",
       "text": [
        "\n",
        "15 on pi(multicore_cpu): [(100, 0.1744670867919922, 1.29596), (200, 0.20953660011291503, 0.980319), (400, 0.28934900760650634, 0.70463), (800, 0.4548907995223999, 0.483426), (1600, 0.7798270940780639, 0.338019), (3200, 1.4273716926574707, 0.244297), (6400, 2.733104610443115, 0.171304), (12800, 5.355742192268371, 0.121178), (25600, 10.611647605895996, 0.085672), (51200, 21.018809509277343, 0.060482), (102400, 41.85201458930969, 0.042915)]\n"
       ]
      },
      {
       "output_type": "stream",
       "stream": "stdout",
       "text": [
        "\n",
        "20 on (multicore_cpu): [(100, 0.0014268875122070313, 0.033405), (200, 0.0020225048065185547, 0.021677), (400, 0.003990793228149414, 0.015328), (800, 0.00669858455657959, 0.010445), (1600, 0.00860159397125244, 0.008351), (3200, 0.015279102325439452, 0.005419), (6400, 0.03031630516052246, 0.004196), (12800, 0.059364914894104004, 0.003016), (25600, 0.11819169521331788, 0.001985), (51200, 0.23019280433654785, 0.001452), (102400, 0.46976478099823, 0.001024), (204800, 0.9307321786880494, 0.000717), (409600, 1.80888831615448, 0.000509), (819200, 3.6068880796432494, 0.000359), (1638400, 7.329720902442932, 0.000255), (3276800, 14.425618600845336, 0.00018), (6553600, 28.849939608573912, 0.000127)]\n"
       ]
      },
      {
       "output_type": "stream",
       "stream": "stdout",
       "text": [
        "\n",
        "15 on ee-snowball1(opencl_gpu): [(100, 0.15232880115509034, 1.508275), (200, 0.1282576084136963, 1.066094), (400, 0.13319821357727052, 0.6178), (800, 0.14479560852050782, 0.433595), (1600, 0.15189220905303955, 0.345226), (3200, 0.13674659729003907, 0.241425), (6400, 0.144986891746521, 0.168999), (12800, 0.14133598804473876, 0.121285), (25600, 0.14684059619903564, 0.085041), (51200, 0.13703649044036864, 0.060496), (102400, 0.14509670734405516, 0.043259), (204800, 0.15279800891876222, 0.030324), (409600, 0.16994171142578124, 0.021398), (819200, 0.2020493984222412, 0.015145), (1638400, 0.2856416940689087, 0.010714), (3276800, 0.44542489051818845, 0.007593), (6553600, 0.7365271091461182, 0.005356), (13107200, 1.338298487663269, 0.003796), (26214400, 2.5398350954055786, 0.002676), (52428800, 4.9477218866348265, 0.001894), (104857600, 9.711115288734437, 0.001338), (209715200, 19.319541883468627, 0.000946), (419430400, 38.43646740913391, 0.00067)]\n"
       ]
      },
      {
       "output_type": "stream",
       "stream": "stdout",
       "text": [
        "\n",
        "9 on ee-mollie(maxeler_fpga): [(100, 0.04962201118469238, 1.210458), (200, 0.05501899719238281, 0.928748), (400, 0.0984072208404541, 0.689742), (800, 0.058303213119506835, 0.524469), (1600, 0.05614669322967529, 0.314126), (3200, 0.05870110988616943, 0.229903), (6400, 0.05728039741516113, 0.16112), (12800, 0.055018496513366696, 0.117824), (25600, 0.10189650058746338, 0.084661), (51200, 0.06899111270904541, 0.059557), (102400, 0.07456309795379638, 0.041929), (204800, 0.1134183168411255, 0.029963), (409600, 0.11001420021057129, 0.021302), (819200, 0.16456739902496337, 0.014971), (1638400, 0.3219099998474121, 0.010621), (3276800, 0.5213515996932984, 0.007506), (6553600, 0.9527064085006713, 0.005309), (13107200, 1.9005528926849364, 0.003749), (26214400, 3.596484398841858, 0.002655), (52428800, 7.121331310272216, 0.001877), (104857600, 14.191557693481446, 0.001327), (209715200, 28.35171809196472, 0.000938)]\n"
       ]
      },
      {
       "output_type": "stream",
       "stream": "stdout",
       "text": [
        "\n",
        "15 on amazon-gpu-0(opencl_gpu): [(100, 0.1285482168197632, 1.309211), (200, 0.12700629234313965, 0.994616), (400, 0.12963471412658692, 0.651797), (800, 0.1291645050048828, 0.51049), (1600, 0.131119704246521, 0.359398), (3200, 0.13266489505767823, 0.242674), (6400, 0.13364980220794678, 0.169892), (12800, 0.13329148292541504, 0.120375), (25600, 0.13184330463409424, 0.086053), (51200, 0.1339406967163086, 0.060379), (102400, 0.13559110164642335, 0.043091), (204800, 0.14071688652038575, 0.030508), (409600, 0.15238301753997802, 0.02143), (819200, 0.17006020545959472, 0.015147), (1638400, 0.20275039672851564, 0.010712), (3276800, 0.2827301025390625, 0.007595), (6553600, 0.43280580043792727, 0.005371), (13107200, 0.7406373023986816, 0.003796), (26214400, 1.3482829093933106, 0.002678), (52428800, 2.565519118309021, 0.001894), (104857600, 4.99511239528656, 0.001339), (209715200, 9.881350302696228, 0.000945), (419430400, 19.56760799884796, 0.00067), (838860800, 39.17380549907684, 0.000474)]\n"
       ]
      },
      {
       "output_type": "stream",
       "stream": "stdout",
       "text": [
        "\n",
        "19 on amazon-gpu-1(multicore_cpu): [(100, 0.22571260929107667, 1.363449), (200, 0.22525520324707032, 0.807153), (400, 0.22489078044891359, 0.597719), (800, 0.22720088958740234, 0.409942), (1600, 0.22981669902801513, 0.296575), (3200, 0.23653669357299806, 0.213366), (6400, 0.2539697170257568, 0.146231), (12800, 0.2833462953567505, 0.103758), (25600, 0.33917889595031736, 0.074007), (51200, 0.4557506084442139, 0.052109), (102400, 0.6952229022979737, 0.036832), (204800, 1.1673184871673583, 0.026), (409600, 2.114293694496155, 0.018404), (819200, 4.034115719795227, 0.013001), (1638400, 7.723070383071899, 0.009194), (3276800, 15.317203497886657, 0.006503), (6553600, 30.311998200416564, 0.0046)]\n"
       ]
      },
      {
       "output_type": "stream",
       "stream": "stdout",
       "text": [
        "\n",
        "17 on amazon-cpu-0(multicore_cpu): [(100, 0.13549678325653075, 1.46264), (200, 0.1326326847076416, 0.983937), (400, 0.13499851226806642, 0.651743), (800, 0.1373892068862915, 0.45936), (1600, 0.13989248275756835, 0.353776), (3200, 0.14053711891174317, 0.248699), (6400, 0.14925010204315187, 0.168909), (12800, 0.15914108753204345, 0.121324), (25600, 0.18438961505889892, 0.086394), (51200, 0.2293421983718872, 0.060707), (102400, 0.3244162082672119, 0.042779), (204800, 0.5148385047912598, 0.030181), (409600, 0.8866846084594726, 0.021495), (819200, 1.6910881042480468, 0.015179), (1638400, 3.139699411392212, 0.010711), (3276800, 6.142461109161377, 0.007587), (6553600, 12.223371815681457, 0.005362), (13107200, 24.602320289611818, 0.00379)]\n"
       ]
      },
      {
       "output_type": "stream",
       "stream": "stdout",
       "text": [
        "\n",
        "21 on ee-benjamin(multicore_cpu): [(100, 0.08876371383666992, 0.0), (200, 0.07740399837493897, 0.012519), (400, 0.08829190731048583, 0.009884), (800, 0.07902169227600098, 0.008249), (1600, 0.07799248695373535, 0.006507), (3200, 0.07716989517211914, 0.004196), (6400, 0.09691290855407715, 0.003114), (12800, 0.09659800529479981, 0.002168), (25600, 0.11051509380340577, 0.001518), (51200, 0.14578819274902344, 0.001072), (102400, 0.2116245985031128, 0.000757), (204800, 0.3572809934616089, 0.00054), (409600, 0.6094866991043091, 0.000383), (819200, 1.0527440071105958, 0.000271), (1638400, 2.0481093883514405, 0.000191), (3276800, 3.8597216844558715, 0.000134), (6553600, 7.277503919601441, 9.5e-05), (13107200, 13.983601593971253, 6.7e-05), (26214400, 29.627038502693175, 4.8e-05)]\n"
       ]
      },
      {
       "output_type": "stream",
       "stream": "stdout",
       "text": [
        "\n",
        "16 on pi(multicore_cpu): [(100, 0.154469895362854, 0.052633), (200, 0.1738257884979248, 0.007478), (400, 0.22708020210266114, 0.019697), (800, 0.33068969249725344, 0.015515), (1600, 0.5433258771896362, 0.010111), (3200, 0.9452900886535645, 0.005729), (6400, 1.750509786605835, 0.005676), (12800, 3.4057935953140257, 0.004075), (25600, 6.684722113609314, 0.003283), (51200, 13.219857621192933, 0.002344), (102400, 26.2258092880249, 0.001511)]\n"
       ]
      },
      {
       "output_type": "stream",
       "stream": "stdout",
       "text": [
        "\n",
        "21 on (multicore_cpu): [(100, 0.001742410659790039, 0.024911), (200, 0.001799297332763672, 0.015293), (400, 0.0029593944549560548, 0.007676), (800, 0.005007219314575195, 0.009822), (1600, 0.007925295829772949, 0.006132), (3200, 0.01597330570220947, 0.004601), (6400, 0.031168103218078613, 0.002967), (12800, 0.06458139419555664, 0.002176), (25600, 0.12006649971008301, 0.001522), (51200, 0.23756580352783202, 0.001057), (102400, 0.46407041549682615, 0.000775), (204800, 0.9079977035522461, 0.000546), (409600, 1.8328634023666381, 0.00038), (819200, 3.6301399946212767, 0.000267), (1638400, 7.305989193916321, 0.000191), (3276800, 14.296544003486634, 0.000135), (6553600, 28.600274777412416, 9.5e-05)]\n"
       ]
      },
      {
       "output_type": "stream",
       "stream": "stdout",
       "text": [
        "\n",
        "20 on amazon-gpu-0(multicore_cpu): [(100, 0.12274379730224609, 0.040254), (200, 0.12387528419494628, 0.025377), (400, 0.12325689792633057, 0.016372), (800, 0.13500599861145018, 0.011215), (1600, 0.12677578926086425, 0.00793), (3200, 0.1359330177307129, 0.006171), (6400, 0.15374231338500977, 0.004145), (12800, 0.18614540100097657, 0.002918), (25600, 0.24642200469970704, 0.002022), (51200, 0.3806415796279907, 0.001422), (102400, 0.623847484588623, 0.001007), (204800, 1.1486395120620727, 0.000718), (409600, 2.132824492454529, 0.000508), (819200, 4.1388208866119385, 0.000359), (1638400, 8.283511686325074, 0.000255), (3276800, 16.191364097595216, 0.00018), (6553600, 32.11360530853271, 0.000127)]\n"
       ]
      },
      {
       "output_type": "stream",
       "stream": "stdout",
       "text": [
        "\n",
        "15 on amazon-gpu-1(opencl_gpu): [(100, 0.2327397108078003, 1.309211), (200, 0.22932970523834229, 0.994616), (400, 0.22684450149536134, 0.651797), (800, 0.2318709135055542, 0.51049), (1600, 0.2345731019973755, 0.359398), (3200, 0.23555300235748292, 0.242674), (6400, 0.23439240455627441, 0.169892), (12800, 0.23629989624023437, 0.120375), (25600, 0.23368430137634277, 0.086053), (51200, 0.23781318664550782, 0.060379), (102400, 0.23757491111755372, 0.043091), (204800, 0.242980694770813, 0.030508), (409600, 0.2551183938980103, 0.02143), (819200, 0.27026848793029784, 0.015147), (1638400, 0.3092019081115723, 0.010712), (3276800, 0.3815047025680542, 0.007595), (6553600, 0.5340039014816285, 0.005371), (13107200, 0.8428764104843139, 0.003796), (26214400, 1.4500885963439942, 0.002678), (52428800, 2.6658377170562746, 0.001894), (104857600, 5.100539994239807, 0.001339), (209715200, 9.9825364112854, 0.000945), (419430400, 19.66592230796814, 0.00067), (838860800, 39.274557900428775, 0.000474)]\n"
       ]
      },
      {
       "output_type": "stream",
       "stream": "stdout",
       "text": [
        "\n",
        "18 on amazon-cpu-1(multicore_cpu): [(100, 0.2296300172805786, 0.980303), (200, 0.23034749031066895, 0.653161), (400, 0.23234860897064208, 0.515772), (800, 0.23132269382476806, 0.358389), (1600, 0.23298499584197999, 0.248823), (3200, 0.23437790870666503, 0.178538), (6400, 0.23930888175964354, 0.126635), (12800, 0.24742751121520995, 0.089244), (25600, 0.2664360046386719, 0.063497), (51200, 0.3049978971481323, 0.044788), (102400, 0.3748946189880371, 0.031666), (204800, 0.5225938081741333, 0.022392), (409600, 0.8292469024658203, 0.015878), (819200, 1.4077105045318603, 0.011231), (1638400, 2.6155788898468018, 0.007928), (3276800, 4.983579492568969, 0.005609), (6553600, 9.623162102699279, 0.003966), (13107200, 19.01535918712616, 0.002804), (26214400, 37.77845327854156, 0.001982)]\n"
       ]
      },
      {
       "output_type": "stream",
       "stream": "stdout",
       "text": [
        "\n",
        "17 on ee-snowball0(opencl_gpu): [(100, 0.10903878211975097, 1.079634), (200, 0.08794379234313965, 0.844345), (400, 0.08697941303253173, 0.624646), (800, 0.08767490386962891, 0.507734), (1600, 0.08458120822906494, 0.346009), (3200, 0.08679060935974121, 0.246402), (6400, 0.09112799167633057, 0.169261), (12800, 0.0937119960784912, 0.12322), (25600, 0.085707688331604, 0.087128), (51200, 0.08949270248413085, 0.060829), (102400, 0.09904019832611084, 0.042902), (204800, 0.1078376054763794, 0.030434), (409600, 0.13549041748046875, 0.021356), (819200, 0.16788809299468993, 0.015163), (1638400, 0.2466094970703125, 0.010719), (3276800, 0.42625300884246825, 0.00758), (6553600, 0.739994215965271, 0.00536), (13107200, 1.4105111837387085, 0.003791), (26214400, 2.7320116996765136, 0.00268), (52428800, 5.350040483474731, 0.001894), (104857600, 10.594321298599244, 0.00134), (209715200, 21.07337098121643, 0.000948), (419430400, 42.081713104248045, 0.00067)]\n"
       ]
      },
      {
       "output_type": "stream",
       "stream": "stdout",
       "text": [
        "\n",
        "17 on ee-mollie(multicore_cpu): [(100, 0.15001749992370605, 1.497293), (200, 0.04769108295440674, 0.986107), (400, 0.05354311466217041, 0.663769), (800, 0.05217080116271973, 0.463006), (1600, 0.06148860454559326, 0.334498), (3200, 0.06895937919616699, 0.243977), (6400, 0.0845829963684082, 0.174148), (12800, 0.1172602891921997, 0.123149), (25600, 0.23855960369110107, 0.086504), (51200, 0.3340599060058594, 0.060901), (102400, 0.6555581092834473, 0.043007), (204800, 1.219164490699768, 0.030352), (409600, 2.336953902244568, 0.021435), (819200, 4.657743906974792, 0.015128), (1638400, 9.139302110671997, 0.010711), (3276800, 17.917611002922058, 0.007582), (6553600, 35.928891801834105, 0.005364)]\n"
       ]
      },
      {
       "output_type": "stream",
       "stream": "stdout",
       "text": [
        "\n",
        "10 on ee-snowball2(opencl_alterafpga): [(100, 0.1793078899383545, 1.026652), (200, 0.20270769596099852, 1.108167), (400, 0.20103309154510499, 0.793663), (800, 0.22896599769592285, 0.511775), (1600, 0.19993109703063966, 0.386064), (3200, 0.24912569522857667, 0.262437), (6400, 0.25163519382476807, 0.178676), (12800, 0.35772879123687745, 0.132578), (25600, 0.6402521133422852, 0.091333), (51200, 1.3140426874160767, 0.065438), (102400, 4.829587388038635, 0.046146), (204800, 20.948048090934755, 0.032421), (409600, 87.9811007976532, 0.022993)]\n"
       ]
      },
      {
       "output_type": "stream",
       "stream": "stdout",
       "text": [
        "\n",
        "12 on phi(opencl_gpu): [(1000, 1.1168128967285156, nan), (2000, 1.2418296813964844, nan), (4000, 1.11271071434021, nan), (8000, 1.048832106590271, nan), (16000, 2.7955098867416384, nan), (32000, 2.6973535060882567, nan), (64000, 2.8480934858322144, nan), (128000, 2.8132095098495484, nan), (256000, 2.6745396137237547, nan), (512000, 3.2032222986221313, nan), (1024000, 3.695943284034729, nan), (2048000, 4.1954632043838505, nan), (4096000, 5.242103004455567, nan), (8192000, 7.229919815063477, nan), (16384000, 11.468567991256714, nan), (32768000, 20.809664797782897, nan), (65536000, 41.58416121006012, nan)]\n"
       ]
      },
      {
       "output_type": "stream",
       "stream": "stdout",
       "text": [
        "\n",
        "15 on phi(multicore_cpu): [(100, 0.3459644079208374, 1.37697), (200, 0.351627516746521, 0.993009), (400, 0.35070979595184326, 0.715085), (800, 0.35241270065307617, 0.492175), (1600, 0.35958850383758545, 0.349013), (3200, 0.362502908706665, 0.243576), (6400, 0.3646481990814209, 0.172509), (12800, 0.3838490962982178, 0.121336), (25600, 0.3939764976501465, 0.085666), (51200, 0.4402673006057739, 0.06063), (102400, 0.6279569149017334, 0.042798), (204800, 0.7531391143798828, 0.030277), (409600, 1.1523993968963624, 0.021414), (819200, 1.8272532939910888, 0.015154), (1638400, 3.2527273178100584, 0.010717), (3276800, 5.90416841506958, 0.007577), (6553600, 11.5491632938385, 0.005357), (13107200, 21.38877260684967, 0.003787), (26214400, 42.15370209217072, 0.002678)]\n"
       ]
      },
      {
       "output_type": "stream",
       "stream": "stdout",
       "text": [
        "\n",
        "16 on ee-snowball1(opencl_gpu): [(100, 0.15711209774017335, 0.0), (200, 0.13956379890441895, 0.006657), (400, 0.13886120319366455, 0.0), (800, 0.13243069648742675, 0.0), (1600, 0.16536350250244142, 0.000328), (3200, 0.13324739933013915, 0.001988), (6400, 0.13492159843444823, 0.005678), (12800, 0.13498210906982422, 0.004232), (25600, 0.13997139930725097, 0.00462), (51200, 0.13492958545684813, 0.002375), (102400, 0.13818190097808838, 0.001599), (204800, 0.14679510593414308, 0.000929), (409600, 0.1699911832809448, 0.000786), (819200, 0.20200159549713134, 0.000579), (1638400, 0.33355529308319093, 0.000422), (3276800, 0.43445849418640137, 0.00027), (6553600, 0.7430738925933837, 0.000193), (13107200, 1.3281123161315918, 0.000145), (26214400, 2.5248010873794557, 0.000102), (52428800, 4.917958307266235, 7.3e-05), (104857600, 9.742467403411865, 7.9e-05), (209715200, 19.303010988235474, 3.6e-05), (419430400, 38.51144511699677, 2.5e-05)]\n"
       ]
      },
      {
       "output_type": "stream",
       "stream": "stdout",
       "text": [
        "\n",
        "20 on amazon-gpu-1(multicore_cpu): [(100, 0.22156808376312256, 0.040254), (200, 0.2237471103668213, 0.025377), (400, 0.22400388717651368, 0.016372), (800, 0.22785849571228028, 0.011215), (1600, 0.23189809322357177, 0.00793), (3200, 0.23835198879241942, 0.006171), (6400, 0.25424649715423586, 0.004145), (12800, 0.2851512908935547, 0.002918), (25600, 0.3487649917602539, 0.002022), (51200, 0.47367899417877196, 0.001422), (102400, 0.7363204956054688, 0.001007), (204800, 1.2292500972747802, 0.000718), (409600, 2.2382124185562136, 0.000508), (819200, 4.254986691474914, 0.000359), (1638400, 8.287970900535583, 0.000255), (3276800, 16.160892009735107, 0.00018), (6553600, 32.46934151649475, 0.000127)]\n"
       ]
      },
      {
       "output_type": "stream",
       "stream": "stdout",
       "text": [
        "\n",
        "17 on pi(multicore_cpu): [(100, 0.17555360794067382, 1.352406), (200, 0.22453291416168214, 0.897185), (400, 0.31542768478393557, 0.716757), (800, 0.5063391923904419, 0.446978), (1600, 0.889436912536621, 0.342659), (3200, 1.6529199838638307, 0.238936), (6400, 3.186002993583679, 0.171022), (12800, 6.27056348323822, 0.120321), (25600, 12.351570010185242, 0.085101), (51200, 24.543908214569093, 0.060374)]\n"
       ]
      },
      {
       "output_type": "stream",
       "stream": "stdout",
       "text": [
        "\n",
        "16 on amazon-gpu-0(opencl_gpu): [(100, 0.13251199722290039, 0.0), (200, 0.13085739612579345, 0.0), (400, 0.12914090156555175, 0.008807), (800, 0.12960009574890136, 0.011875), (1600, 0.13597390651702881, 0.0), (3200, 0.13223090171813964, 0.007553), (6400, 0.13082950115203856, 0.003906), (12800, 0.1332789182662964, 0.006116), (25600, 0.1310680866241455, 0.003126), (51200, 0.13116939067840577, 0.002305), (102400, 0.13592131137847902, 0.00172), (204800, 0.14321749210357665, 0.001084), (409600, 0.14707109928131104, 0.000745), (819200, 0.1717921018600464, 0.000555), (1638400, 0.2049001932144165, 0.000393), (3276800, 0.281610107421875, 0.000269), (6553600, 0.4344144821166992, 0.000202), (13107200, 0.7370869159698487, 0.000146), (26214400, 1.3483989000320435, 9.8e-05), (52428800, 2.5627038955688475, 7e-05), (104857600, 4.992221212387085, 5e-05), (209715200, 9.873149418830872, 3.6e-05), (419430400, 19.622752785682678, 2.4e-05), (838860800, 39.07683019638061, 1.7e-05)]\n"
       ]
      },
      {
       "output_type": "stream",
       "stream": "stdout",
       "text": [
        "\n",
        "22 on ee-benjamin(multicore_cpu): [(100, 0.0805968999862671, 0.090774), (200, 0.07926661968231201, 0.062579), (400, 0.07802460193634034, 0.043445), (800, 0.08434469699859619, 0.031151), (1600, 0.07609059810638427, 0.022098), (3200, 0.07923150062561035, 0.015645), (6400, 0.082647705078125, 0.011), (12800, 0.09968647956848145, 0.007744), (25600, 0.11247079372406006, 0.005462), (51200, 0.14436140060424804, 0.003865), (102400, 0.20351979732513428, 0.00274), (204800, 0.3600456953048706, 0.001936), (409600, 0.5970493078231811, 0.001369), (819200, 1.0665363073349, 0.000968), (1638400, 2.0348840951919556, 0.000685), (3276800, 3.710328197479248, 0.000484), (6553600, 7.818438005447388, 0.000342), (13107200, 15.911937403678895, 0.000242), (26214400, 29.923032999038696, 0.000171)]\n"
       ]
      },
      {
       "output_type": "stream",
       "stream": "stdout",
       "text": [
        "\n",
        "19 on amazon-cpu-1(multicore_cpu): [(100, 0.22030200958251953, 0.995701), (200, 0.22686431407928467, 0.806844), (400, 0.23015320301055908, 0.567319), (800, 0.23002119064331056, 0.406778), (1600, 0.22878811359405518, 0.294826), (3200, 0.23737571239471436, 0.206297), (6400, 0.23817589282989501, 0.145486), (12800, 0.25466740131378174, 0.104761), (25600, 0.27923529148101806, 0.073855), (51200, 0.3216240882873535, 0.051873), (102400, 0.4191087007522583, 0.036774), (204800, 0.607789421081543, 0.026008), (409600, 0.978081202507019, 0.018378), (819200, 1.732477593421936, 0.013008), (1638400, 3.2795176029205324, 0.009195), (3276800, 6.228574299812317, 0.006502), (6553600, 12.227148699760438, 0.004598), (13107200, 24.63777379989624, 0.003254)]\n"
       ]
      },
      {
       "output_type": "stream",
       "stream": "stdout",
       "text": [
        "\n",
        "22 on (multicore_cpu): [(100, 0.001653003692626953, 0.079777), (200, 0.0016906976699829102, 0.062091), (400, 0.002834582328796387, 0.044196), (800, 0.004886507987976074, 0.031534), (1600, 0.00821831226348877, 0.02185), (3200, 0.01539018154144287, 0.015563), (6400, 0.0382288932800293, 0.010946), (12800, 0.05920288562774658, 0.007761), (25600, 0.11529328823089599, 0.005477), (51200, 0.23745181560516357, 0.003874), (102400, 0.468298602104187, 0.002738), (204800, 0.9520308017730713, 0.001937), (409600, 1.8426918029785155, 0.001368), (819200, 3.6498342037200926, 0.000968), (1638400, 7.303530883789063, 0.000685), (3276800, 14.774871301651, 0.000484), (6553600, 29.248866605758668, 0.000342)]\n"
       ]
      },
      {
       "output_type": "stream",
       "stream": "stdout",
       "text": [
        "\n",
        "18 on ee-mollie(multicore_cpu): [(100, 0.12515609264373778, 1.120707), (200, 0.047311806678771974, 0.65718), (400, 0.04768998622894287, 0.536901), (800, 0.052848005294799806, 0.362369), (1600, 0.0734860897064209, 0.255781), (3200, 0.06204209327697754, 0.18233), (6400, 0.07657840251922607, 0.126375), (12800, 0.10344030857086181, 0.089447), (25600, 0.19965810775756837, 0.062846), (51200, 0.26881918907165525, 0.044742), (102400, 0.4904003143310547, 0.031834), (204800, 0.9653162956237793, 0.022396), (409600, 1.8195190906524659, 0.015864), (819200, 3.606530714035034, 0.011213), (1638400, 7.120182800292969, 0.007932), (3276800, 14.16342601776123, 0.005609), (6553600, 28.220074820518494, 0.003968)]\n"
       ]
      },
      {
       "output_type": "stream",
       "stream": "stdout",
       "text": [
        "\n",
        "18 on amazon-cpu-0(multicore_cpu): [(100, 0.13266730308532715, 0.938408), (200, 0.1341629981994629, 0.717727), (400, 0.13494009971618653, 0.494627), (800, 0.1386484146118164, 0.371778), (1600, 0.1359382152557373, 0.254795), (3200, 0.14621310234069823, 0.177374), (6400, 0.1451429843902588, 0.128255), (12800, 0.1527323007583618, 0.090367), (25600, 0.17847731113433837, 0.06338), (51200, 0.20993390083312988, 0.044955), (102400, 0.28274240493774416, 0.031621), (204800, 0.4332451105117798, 0.022437), (409600, 0.7331252098083496, 0.015833), (819200, 1.3097603797912598, 0.01122), (1638400, 2.5086126804351805, 0.007937), (3276800, 4.8340233087539675, 0.005611), (6553600, 9.644281387329102, 0.003966), (13107200, 18.921847200393678, 0.002804), (26214400, 37.94587831497192, 0.001984)]\n"
       ]
      },
      {
       "output_type": "stream",
       "stream": "stdout",
       "text": [
        "\n",
        "21 on amazon-gpu-0(multicore_cpu): [(100, 0.12266800403594971, 0.0), (200, 0.12235560417175292, 0.019643), (400, 0.12156519889831544, 0.015177), (800, 0.1245438814163208, 0.00933), (1600, 0.12921738624572754, 0.006228), (3200, 0.13657569885253906, 0.003901), (6400, 0.14891250133514405, 0.003017), (12800, 0.18381319046020508, 0.00197), (25600, 0.2479944944381714, 0.001505), (51200, 0.37437899112701417, 0.001063), (102400, 0.6304903984069824, 0.000756), (204800, 1.1320291996002196, 0.000542), (409600, 2.139765501022339, 0.000386), (819200, 4.16406569480896, 0.000268), (1638400, 8.196270489692688, 0.00019), (3276800, 16.263970303535462, 0.000135), (6553600, 32.22640428543091, 9.5e-05)]\n"
       ]
      },
      {
       "output_type": "stream",
       "stream": "stdout",
       "text": [
        "\n",
        "10 on ee-mollie(maxeler_fpga): [(100, 0.06697039604187012, 1.663118), (200, 0.05794351100921631, 0.817651), (400, 0.05695199966430664, 0.514264), (800, 0.0633436918258667, 0.557555), (1600, 0.06485769748687745, 0.399204), (3200, 0.09427371025085449, 0.260742), (6400, 0.059314608573913574, 0.15175), (12800, 0.05841069221496582, 0.143162), (25600, 0.0862349033355713, 0.094091), (51200, 0.061496400833129884, 0.066678), (102400, 0.0641946792602539, 0.046725), (204800, 0.11440789699554443, 0.032621), (409600, 0.10045640468597412, 0.022841), (819200, 0.15984668731689453, 0.016261), (1638400, 0.3218676090240479, 0.011524), (3276800, 0.5211414813995361, 0.008157), (6553600, 0.9699167966842651, 0.005742), (13107200, 1.8750488042831421, 0.004056), (26214400, 3.6130465030670167, 0.002872), (52428800, 7.246046304702759, 0.002033), (104857600, 14.234861898422242, 0.001437), (209715200, 28.411195492744447, 0.001016)]\n"
       ]
      },
      {
       "output_type": "stream",
       "stream": "stdout",
       "text": [
        "\n",
        "16 on phi(multicore_cpu): [(100, 0.34972879886627195, 0.0), (200, 0.34635128974914553, 0.0), (400, 0.3516849040985107, 0.018083), (800, 0.354610800743103, 0.015291), (1600, 0.4079548120498657, 0.007252), (3200, 0.35561821460723875, 0.007072), (6400, 0.3599296808242798, 0.007903), (12800, 0.3651216983795166, 0.00459), (25600, 0.38794541358947754, 0.003335), (51200, 0.4199213981628418, 0.002272), (102400, 0.4660125017166138, 0.001621), (204800, 0.596469783782959, 0.001094), (409600, 0.7987429141998291, 0.000776), (819200, 1.2855913877487182, 0.00057), (1638400, 2.092487597465515, 0.000401), (3276800, 3.8578453063964844, 0.000282), (6553600, 7.026214289665222, 0.000199), (13107200, 13.350865817070007, 0.00014), (26214400, 28.27536177635193, 0.0001)]\n"
       ]
      },
      {
       "output_type": "stream",
       "stream": "stdout",
       "text": [
        "\n",
        "16 on amazon-gpu-1(opencl_gpu): [(100, 0.2336793899536133, 0.0), (200, 0.23148808479309083, 0.0), (400, 0.23218069076538086, 0.008807), (800, 0.23261938095092774, 0.011875), (1600, 0.23392770290374756, 0.0), (3200, 0.23545551300048828, 0.007553), (6400, 0.23616909980773926, 0.003906), (12800, 0.2342233180999756, 0.006116), (25600, 0.23511099815368652, 0.003126), (51200, 0.23549230098724366, 0.002305), (102400, 0.23648600578308104, 0.00172), (204800, 0.24643959999084472, 0.001084), (409600, 0.25276799201965333, 0.000745), (819200, 0.27194149494171144, 0.000555), (1638400, 0.307999587059021, 0.000393), (3276800, 0.3879267930984497, 0.000269), (6553600, 0.5347841024398804, 0.000202), (13107200, 0.8386726140975952, 0.000146), (26214400, 1.4481781005859375, 9.8e-05), (52428800, 2.665168118476868, 7e-05), (104857600, 5.09237048625946, 5e-05), (209715200, 9.974904990196228, 3.6e-05), (419430400, 19.721773409843443, 2.4e-05), (838860800, 39.18115730285645, 1.7e-05)]\n"
       ]
      },
      {
       "output_type": "stream",
       "stream": "stdout",
       "text": [
        "\n",
        "18 on ee-snowball0(opencl_gpu): [(100, 0.116031813621521, 1.001018), (200, 0.11106641292572021, 0.743591), (400, 0.08961539268493653, 0.488246), (800, 0.08924551010131836, 0.403306), (1600, 0.09008481502532958, 0.265289), (3200, 0.09193799495697022, 0.182234), (6400, 0.09484000205993652, 0.125123), (12800, 0.08972759246826172, 0.090333), (25600, 0.08822400569915771, 0.063907), (51200, 0.09351589679718017, 0.045127), (102400, 0.09741859436035157, 0.031689), (204800, 0.10525941848754883, 0.02251), (409600, 0.1447422981262207, 0.015848), (819200, 0.172104811668396, 0.011227), (1638400, 0.2530565023422241, 0.007947), (3276800, 0.4426884174346924, 0.005612), (6553600, 0.7489346027374267, 0.003967), (13107200, 1.4211194038391113, 0.002807), (26214400, 2.7352559089660646, 0.001984), (52428800, 5.4073771953582765, 0.001404), (104857600, 10.69731228351593, 0.000992), (209715200, 21.282471418380737, 0.000702), (419430400, 42.48851828575134, 0.000496)]\n"
       ]
      },
      {
       "output_type": "stream",
       "stream": "stdout",
       "text": [
        "\n",
        "17 on ee-snowball1(opencl_gpu): [(100, 0.1764470100402832, 0.953147), (200, 0.14580910205841063, 0.966695), (400, 0.13274610042572021, 0.593502), (800, 0.13006391525268554, 0.361176), (1600, 0.15824620723724364, 0.355126), (3200, 0.12988929748535155, 0.232729), (6400, 0.13218791484832765, 0.176747), (12800, 0.13087539672851561, 0.116147), (25600, 0.13724489212036134, 0.085773), (51200, 0.13772549629211425, 0.060994), (102400, 0.1388998031616211, 0.043049), (204800, 0.14792978763580322, 0.030016), (409600, 0.16502230167388915, 0.021318), (819200, 0.17701728343963624, 0.015308), (1638400, 0.2865647077560425, 0.010693), (3276800, 0.4427893877029419, 0.007579), (6553600, 0.7382229089736938, 0.005378), (13107200, 1.3518292903900146, 0.003776), (26214400, 2.5412543058395385, 0.002674), (52428800, 4.9426422119140625, 0.001886), (104857600, 9.75575020313263, 0.001343), (209715200, 19.318564796447752, 0.000947), (419430400, 38.42451958656311, 0.000672)]\n"
       ]
      },
      {
       "output_type": "stream",
       "stream": "stdout",
       "text": [
        "\n",
        "23 on ee-benjamin(multicore_cpu): [(100, 0.09758250713348389, 0.0), (200, 0.07923219203948975, 0.0), (400, 0.08183920383453369, 0.0), (800, 0.08263101577758789, 0.002277), (1600, 0.07687718868255615, 0.001139), (3200, 0.07865319252014161, 0.001139), (6400, 0.0946497917175293, 0.000403), (12800, 0.09703149795532226, 0.000427), (25600, 0.1101989984512329, 0.00039), (51200, 0.1419300079345703, 0.000233), (102400, 0.20336618423461914, 0.00014), (204800, 0.33017311096191404, 0.000103), (409600, 0.5562209129333496, 8.1e-05), (819200, 1.0628596067428588, 5.1e-05), (1638400, 1.928951096534729, 3.8e-05), (3276800, 3.383037495613098, 2.6e-05), (6553600, 6.843570899963379, 1.9e-05), (13107200, 13.743726897239686, 1.3e-05), (26214400, 29.07345070838928, 9e-06)]\n"
       ]
      },
      {
       "output_type": "stream",
       "stream": "stdout",
       "text": [
        "\n",
        "21 on amazon-gpu-1(multicore_cpu): [(100, 0.22384190559387207, 0.0), (200, 0.2227410078048706, 0.019643), (400, 0.22159440517425538, 0.015177), (800, 0.2270875930786133, 0.00933), (1600, 0.22579920291900635, 0.006228), (3200, 0.23869638442993163, 0.003901), (6400, 0.25176100730895995, 0.003017), (12800, 0.28577098846435545, 0.00197), (25600, 0.3494073152542114, 0.001505), (51200, 0.4756363868713379, 0.001063), (102400, 0.7290745973587036, 0.000756), (204800, 1.2367181062698365, 0.000542), (409600, 2.233134412765503, 0.000386), (819200, 4.2738324165344235, 0.000268), (1638400, 8.323873209953309, 0.00019), (3276800, 16.413561701774597, 0.000135), (6553600, 32.365722107887265, 9.5e-05)]\n"
       ]
      },
      {
       "output_type": "stream",
       "stream": "stdout",
       "text": [
        "\n",
        "20 on amazon-cpu-1(multicore_cpu): [(100, 0.226554799079895, 0.023995), (200, 0.22218101024627684, 0.026983), (400, 0.22642500400543214, 0.017338), (800, 0.22957730293273926, 0.010578), (1600, 0.23142061233520508, 0.007887), (3200, 0.2343526840209961, 0.006102), (6400, 0.24080588817596435, 0.004155), (12800, 0.2537527084350586, 0.002855), (25600, 0.28279881477355956, 0.002014), (51200, 0.32784509658813477, 0.001421), (102400, 0.43292319774627686, 0.001025), (204800, 0.6346430063247681, 0.000722), (409600, 1.0426493883132935, 0.00051), (819200, 1.8710492134094239, 0.000362), (1638400, 3.4746495962142943, 0.000255), (3276800, 6.73333170413971, 0.00018), (6553600, 13.462478685379029, 0.000127), (13107200, 26.22881841659546, 9e-05)]\n"
       ]
      },
      {
       "output_type": "stream",
       "stream": "stdout",
       "text": [
        "\n",
        "23 on (multicore_cpu): [(100, 0.001466989517211914, 0.0), (200, 0.0024745941162109377, 0.0), (400, 0.0033455133438110352, 0.0), (800, 0.0046224832534790036, 0.0), (1600, 0.009381699562072753, 0.0), (3200, 0.01963188648223877, 0.000805), (6400, 0.030000591278076173, 0.000637), (12800, 0.05782639980316162, 0.000427), (25600, 0.118019700050354, 0.000334), (51200, 0.2255776882171631, 0.000236), (102400, 0.4549118995666504, 0.00014), (204800, 0.9069711923599243, 0.000103), (409600, 1.851208209991455, 7.4e-05), (819200, 3.6168325901031495, 5.4e-05), (1638400, 7.289164113998413, 3.6e-05), (3276800, 14.383659410476685, 2.6e-05), (6553600, 28.634589886665346, 1.8e-05)]\n"
       ]
      },
      {
       "output_type": "stream",
       "stream": "stdout",
       "text": [
        "\n",
        "19 on amazon-cpu-0(multicore_cpu): [(100, 0.13357388973236084, 1.270606), (200, 0.13395869731903076, 0.894958), (400, 0.13557209968566894, 0.591763), (800, 0.13540568351745605, 0.416811), (1600, 0.14184319972991943, 0.305854), (3200, 0.14055769443511962, 0.206263), (6400, 0.1479645013809204, 0.147806), (12800, 0.15844759941101075, 0.104588), (25600, 0.1854996919631958, 0.0732), (51200, 0.22980740070343017, 0.05201), (102400, 0.32450850009918214, 0.03687), (204800, 0.512935209274292, 0.026013), (409600, 0.8948312044143677, 0.018386), (819200, 1.6353973865509033, 0.013011), (1638400, 3.1766769886016846, 0.009197), (3276800, 6.134960293769836, 0.006507), (6553600, 12.343259191513061, 0.004598), (13107200, 24.131480121612547, 0.003252)]\n"
       ]
      },
      {
       "output_type": "stream",
       "stream": "stdout",
       "text": [
        "\n",
        "18 on pi(multicore_cpu): [(100, 0.1658095121383667, 0.898475), (200, 0.20979158878326415, 0.744316), (400, 0.2787642002105713, 0.509666), (800, 0.42001469135284425, 0.368573), (1600, 0.7132220029830932, 0.255073), (3200, 1.3151350975036622, 0.18104), (6400, 2.4983521938323974, 0.125757), (12800, 4.891044998168946, 0.090502), (25600, 9.641685700416565, 0.063532), (51200, 19.118500185012817, 0.045043), (102400, 38.046686100959775, 0.031617)]\n"
       ]
      },
      {
       "output_type": "stream",
       "stream": "stdout",
       "text": [
        "\n",
        "13 on phi(opencl_gpu): [(1000, 1.0955748081207275, nan), (2000, 0.9573265075683594, nan), (4000, 1.1289478063583374, nan), (8000, 1.1170514106750489, nan), (16000, 2.7490576028823854, nan), (32000, 2.7147089004516602, nan), (64000, 2.71857750415802, nan), (128000, 2.8099735021591186, nan), (256000, 2.8441421031951903, nan), (512000, 3.253463101387024, nan), (1024000, 2.832563805580139, nan), (2048000, 4.155556392669678, nan), (4096000, 5.377422904968261, nan), (8192000, 7.28076651096344, nan), (16384000, 11.633717584609986, nan), (32768000, 20.81468849182129, nan), (65536000, 39.50673069953918, nan)]\n"
       ]
      },
      {
       "output_type": "stream",
       "stream": "stdout",
       "text": [
        "\n",
        "17 on amazon-gpu-0(opencl_gpu): [(100, 0.13094668388366698, 0.920445), (200, 0.1299729824066162, 0.851056), (400, 0.130987811088562, 0.77141), (800, 0.13019130229949952, 0.432707), (1600, 0.13219311237335205, 0.362948), (3200, 0.13118929862976075, 0.240118), (6400, 0.13235340118408204, 0.161005), (12800, 0.12847399711608887, 0.122273), (25600, 0.13271570205688477, 0.0861), (51200, 0.1312453031539917, 0.05962), (102400, 0.13342349529266356, 0.043136), (204800, 0.1416645050048828, 0.029949), (409600, 0.1515206813812256, 0.021452), (819200, 0.16864418983459473, 0.015196), (1638400, 0.2054521083831787, 0.010648), (3276800, 0.2804351091384888, 0.007511), (6553600, 0.4335878849029541, 0.005359), (13107200, 0.7374157905578613, 0.003762), (26214400, 1.348545289039612, 0.00267), (52428800, 2.5651288986206056, 0.001888), (104857600, 5.009916806221009, 0.001337), (209715200, 9.859694695472717, 0.000941), (419430400, 19.597669506072997, 0.000671), (838860800, 39.08109428882599, 0.000473)]\n"
       ]
      },
      {
       "output_type": "stream",
       "stream": "stdout",
       "text": [
        "\n",
        "11 on ee-snowball2(opencl_alterafpga): [(100, 0.16979060173034669, 1.61421), (200, 0.18565587997436522, 1.061163), (400, 0.18412060737609864, 0.753446), (800, 0.19589929580688475, 0.548631), (1600, 0.22853150367736816, 0.368956), (3200, 0.23823349475860595, 0.267132), (6400, 0.2915604829788208, 0.185134), (12800, 0.41322638988494875, 0.131861), (25600, 0.6118490934371948, 0.092438), (51200, 1.368644404411316, 0.06588), (102400, 4.813838410377502, 0.046014), (204800, 21.032892680168153, 0.032874), (409600, 88.35882909297943, 0.023235)]\n"
       ]
      },
      {
       "output_type": "stream",
       "stream": "stdout",
       "text": [
        "\n",
        "17 on phi(multicore_cpu): [(100, 0.3569546937942505, 1.517446), (200, 0.3543858051300049, 1.010965), (400, 0.3504969120025635, 0.731432), (800, 0.35127379894256594, 0.480772), (1600, 0.3544916152954102, 0.336967), (3200, 0.35350871086120605, 0.243522), (6400, 0.36797499656677246, 0.170793), (12800, 0.3764249086380005, 0.121066), (25600, 0.45858819484710694, 0.085851), (51200, 0.48420798778533936, 0.060518), (102400, 0.5816869974136353, 0.04279), (204800, 0.9047028064727783, 0.030283), (409600, 1.156069016456604, 0.02139), (819200, 2.0600383043289185, 0.015198), (1638400, 3.6101306915283202, 0.010725), (3276800, 8.359758996963501, 0.007578), (6553600, 12.951942992210387, 0.005363), (13107200, 24.806608510017394, 0.00379)]\n"
       ]
      },
      {
       "output_type": "stream",
       "stream": "stdout",
       "text": [
        "\n",
        "22 on amazon-gpu-0(multicore_cpu): [(100, 0.12076699733734131, 0.082528), (200, 0.12347109317779541, 0.060922), (400, 0.1232300043106079, 0.044025), (800, 0.12325940132141114, 0.031067), (1600, 0.12886550426483154, 0.021705), (3200, 0.13644919395446778, 0.015534), (6400, 0.15156288146972657, 0.01093), (12800, 0.18238959312438965, 0.00776), (25600, 0.24643049240112305, 0.005457), (51200, 0.3731426000595093, 0.003868), (102400, 0.6288295030593872, 0.002739), (204800, 1.135586404800415, 0.001938), (409600, 2.1464268922805787, 0.00137), (819200, 4.1775882005691525, 0.000968), (1638400, 8.221912288665772, 0.000684), (3276800, 16.321027517318726, 0.000484), (6553600, 32.306420588493346, 0.000342)]\n"
       ]
      },
      {
       "output_type": "stream",
       "stream": "stdout",
       "text": [
        "\n",
        "19 on ee-mollie(multicore_cpu): [(100, 0.13830931186676027, 1.363449), (200, 0.047338104248046874, 0.807153), (400, 0.05146310329437256, 0.597719), (800, 0.05277860164642334, 0.409942), (1600, 0.06048920154571533, 0.296575), (3200, 0.07120120525360107, 0.213366), (6400, 0.08204138278961182, 0.146231), (12800, 0.11584558486938476, 0.103758), (25600, 0.2412182092666626, 0.074007), (51200, 0.33023459911346437, 0.052109), (102400, 0.6555391073226928, 0.036832), (204800, 1.2106570959091187, 0.026), (409600, 2.3646219968795776, 0.018404), (819200, 4.554523515701294, 0.013001), (1638400, 9.018858003616334, 0.009194), (3276800, 18.085416984558105, 0.006503), (6553600, 35.70520431995392, 0.0046)]\n"
       ]
      },
      {
       "output_type": "stream",
       "stream": "stdout",
       "text": [
        "\n",
        "21 on amazon-cpu-1(multicore_cpu): [(100, 0.228629207611084, 0.030353), (200, 0.22734689712524414, 0.015293), (400, 0.4295730829238892, 0.011666), (800, 0.22833449840545655, 0.00933), (1600, 0.23322348594665526, 0.005833), (3200, 0.23268640041351318, 0.003901), (6400, 0.23968131542205812, 0.002955), (12800, 0.25436060428619384, 0.002231), (25600, 0.277685809135437, 0.001548), (51200, 0.33095788955688477, 0.001074), (102400, 0.4306024074554443, 0.00076), (204800, 0.6307178974151612, 0.000542), (409600, 1.0355103015899658, 0.000381), (819200, 1.8490976810455322, 0.00027), (1638400, 3.50159330368042, 0.000189), (3276800, 6.699218606948852, 0.000135), (6553600, 13.165197086334228, 9.5e-05), (13107200, 26.105875992774962, 6.8e-05)]\n"
       ]
      },
      {
       "output_type": "stream",
       "stream": "stdout",
       "text": [
        "\n",
        "19 on pi(multicore_cpu): [(100, 0.1781147003173828, 1.150323), (200, 0.22188239097595214, 0.8277), (400, 0.3261513948440552, 0.576878), (800, 0.5078445911407471, 0.399432), (1600, 0.8868624925613403, 0.293665), (3200, 1.6507070064544678, 0.206491), (6400, 3.1744297981262206, 0.148208), (12800, 6.222077798843384, 0.104395), (25600, 12.306763792037964, 0.073414), (51200, 24.471850299835204, 0.05179)]\n"
       ]
      },
      {
       "output_type": "stream",
       "stream": "stdout",
       "text": [
        "\n",
        "17 on amazon-gpu-1(opencl_gpu): [(100, 0.23396470546722412, 0.920445), (200, 0.2317568063735962, 0.851056), (400, 0.2289060115814209, 0.77141), (800, 0.23053040504455566, 0.432707), (1600, 0.23212502002716065, 0.362948), (3200, 0.2328927993774414, 0.240118), (6400, 0.2335832118988037, 0.161005), (12800, 0.23569300174713134, 0.122273), (25600, 0.23380520343780517, 0.0861), (51200, 0.23257670402526856, 0.05962), (102400, 0.23770289421081542, 0.043136), (204800, 0.2400045156478882, 0.029949), (409600, 0.248100209236145, 0.021452), (819200, 0.2660412073135376, 0.015196), (1638400, 0.30696849822998046, 0.010648), (3276800, 0.38076961040496826, 0.007511), (6553600, 0.5360927104949951, 0.005359), (13107200, 0.8406342983245849, 0.003762), (26214400, 1.4493528842926025, 0.00267), (52428800, 2.6665133953094484, 0.001888), (104857600, 5.10500431060791, 0.001337), (209715200, 9.957394814491272, 0.000941), (419430400, 19.696595096588133, 0.000671), (838860800, 39.1867094039917, 0.000473)]\n"
       ]
      },
      {
       "output_type": "stream",
       "stream": "stdout",
       "text": [
        "\n",
        "20 on amazon-cpu-0(multicore_cpu): [(100, 0.13567988872528075, 0.030656), (200, 0.13363900184631347, 0.018279), (400, 0.13549950122833251, 0.013782), (800, 0.13442368507385255, 0.011577), (1600, 0.13669710159301757, 0.009333), (3200, 0.14026329517364503, 0.005684), (6400, 0.14677228927612304, 0.003921), (12800, 0.16089189052581787, 0.002769), (25600, 0.1892693042755127, 0.002046), (51200, 0.23545308113098146, 0.001438), (102400, 0.33549110889434813, 0.001029), (204800, 0.5395560026168823, 0.000717), (409600, 0.9441056966781616, 0.000512), (819200, 1.7619050025939942, 0.00036), (1638400, 3.368827295303345, 0.000254), (3276800, 6.599346995353699, 0.00018), (6553600, 13.14707338809967, 0.000127), (13107200, 26.544977498054504, 9e-05)]\n"
       ]
      },
      {
       "output_type": "stream",
       "stream": "stdout",
       "text": [
        "\n",
        "24 on ee-benjamin(multicore_cpu): [(100, 0.08954088687896729, 0.091886), (200, 0.07812180519104003, 0.051134), (400, 0.07592039108276367, 0.037702), (800, 0.07725141048431397, 0.026263), (1600, 0.07584929466247559, 0.019358), (3200, 0.08655900955200195, 0.013465), (6400, 0.08534250259399415, 0.009626), (12800, 0.10404207706451415, 0.006856), (25600, 0.1141813039779663, 0.004833), (51200, 0.14477899074554443, 0.00344), (102400, 0.23007988929748535, 0.002433), (204800, 0.3444469928741455, 0.00172), (409600, 0.5633517980575562, 0.001216), (819200, 1.086794090270996, 0.00086), (1638400, 2.058429312705994, 0.000608), (3276800, 3.9645174026489256, 0.000429), (6553600, 7.822951412200927, 0.000304), (13107200, 14.1891371011734, 0.000215), (26214400, 30.79388298988342, 0.000152)]\n"
       ]
      },
      {
       "output_type": "stream",
       "stream": "stdout",
       "text": [
        "\n",
        "24 on (multicore_cpu): [(100, 0.001751112937927246, 0.077518), (200, 0.0025240898132324217, 0.051134), (400, 0.0035837173461914064, 0.040641), (800, 0.006077098846435547, 0.027986), (1600, 0.010893297195434571, 0.019946), (3200, 0.02020390033721924, 0.013473), (6400, 0.03970539569854736, 0.009671), (12800, 0.06927988529205323, 0.006925), (25600, 0.11970818042755127, 0.004859), (51200, 0.240203595161438, 0.003444), (102400, 0.4833683967590332, 0.002427), (204800, 0.9194850921630859, 0.001724), (409600, 1.9208561897277832, 0.001214), (819200, 3.71438889503479, 0.00086), (1638400, 7.280473709106445, 0.000608), (3276800, 14.953924512863159, 0.00043), (6553600, 29.434811401367188, 0.000304)]\n"
       ]
      },
      {
       "output_type": "stream",
       "stream": "stdout",
       "text": [
        "\n",
        "19 on ee-snowball0(opencl_gpu): [(100, 0.10581071376800537, 1.248172), (200, 0.09015488624572754, 0.909557), (400, 0.08893589973449707, 0.609902), (800, 0.08409180641174316, 0.390526), (1600, 0.08629629611968995, 0.296571), (3200, 0.09667909145355225, 0.213055), (6400, 0.11117920875549317, 0.144892), (12800, 0.08748729228973388, 0.10343), (25600, 0.09309091567993164, 0.073951), (51200, 0.09352240562438965, 0.052203), (102400, 0.09646918773651122, 0.036908), (204800, 0.11814379692077637, 0.025906), (409600, 0.13140599727630614, 0.018379), (819200, 0.1769197940826416, 0.013005), (1638400, 0.24889531135559081, 0.009188), (3276800, 0.41966559886932375, 0.006507), (6553600, 0.7374054193496704, 0.004596), (13107200, 1.4078218936920166, 0.003252), (26214400, 2.7294424057006834, 0.002299), (52428800, 5.353563189506531, 0.001626), (104857600, 10.607464718818665, 0.00115), (209715200, 21.111546802520753, 0.000813), (419430400, 42.101617097854614, 0.000575)]\n"
       ]
      },
      {
       "output_type": "stream",
       "stream": "stdout",
       "text": [
        "\n",
        "22 on amazon-gpu-1(multicore_cpu): [(100, 0.22167980670928955, 0.082528), (200, 0.22417631149291992, 0.060922), (400, 0.22198798656463622, 0.044025), (800, 0.22311549186706542, 0.031067), (1600, 0.2264699935913086, 0.021705), (3200, 0.23896439075469972, 0.015534), (6400, 0.2541191816329956, 0.01093), (12800, 0.28573949337005616, 0.00776), (25600, 0.34956979751586914, 0.005457), (51200, 0.47694509029388427, 0.003868), (102400, 0.7266607999801635, 0.002739), (204800, 1.2358758926391602, 0.001938), (409600, 2.2503424167633055, 0.00137), (819200, 4.285358500480652, 0.000968), (1638400, 8.311968207359314, 0.000684), (3276800, 16.425662684440614, 0.000484), (6553600, 32.74175598621368, 0.000342)]\n"
       ]
      },
      {
       "output_type": "stream",
       "stream": "stdout",
       "text": [
        "\n",
        "18 on ee-snowball1(opencl_gpu): [(100, 0.15047860145568848, 1.19223), (200, 0.12943270206451415, 0.553934), (400, 0.13317511081695557, 0.571579), (800, 0.1286940097808838, 0.371426), (1600, 0.19858779907226562, 0.246303), (3200, 0.14266538619995117, 0.178532), (6400, 0.13251039981842042, 0.124322), (12800, 0.12937021255493164, 0.088625), (25600, 0.1448596954345703, 0.063281), (51200, 0.1500309944152832, 0.045037), (102400, 0.14814109802246095, 0.032007), (204800, 0.15683488845825194, 0.022433), (409600, 0.18714869022369385, 0.015808), (819200, 0.22091569900512695, 0.011242), (1638400, 0.29001560211181643, 0.007938), (3276800, 0.48106019496917723, 0.005603), (6553600, 0.7427179098129273, 0.003959), (13107200, 1.346014404296875, 0.002796), (26214400, 2.5480843067169188, 0.00198), (52428800, 4.937772297859192, 0.001404), (104857600, 9.715964484214783, 0.000998), (209715200, 19.291468596458436, 0.000704), (419430400, 38.473202204704286, 0.000498)]\n"
       ]
      }
     ],
     "prompt_number": "*"
    },
    {
     "cell_type": "heading",
     "level": 4,
     "metadata": {},
     "source": [
      "Collating results"
     ]
    },
    {
     "cell_type": "markdown",
     "metadata": {},
     "source": [
      "Results are an array of (paths,latency,accuracy) for each platform and task, \n",
      "\n",
      "i.e. benchmark_results[i][j] would be the results array for the jth task on the ith platform"
     ]
    },
    {
     "cell_type": "code",
     "collapsed": false,
     "input": [
      "#platforms, platform type, tasks, results (paths, time, accuracy)\n",
      "benchmark_results = [[[] for t in range(len(option_tasks))] for p in range(len(platforms))]\n",
      "platform_names = [p.name+\"_\"+p.ssh_alias for p in platforms]\n",
      "\n",
      "for result in results:\n",
      "    benchmark_results[platform_names.index(result[1]+\"_\"+result[0])][result[2]] = result[3]\n",
      "\n",
      "for p in range(len(platforms)):\n",
      "    for t in range(len(option_tasks)):\n",
      "        benchmark_results[p][t] = numpy.array(benchmark_results[p][t],dtype=[('paths','f8'),('latency','f8'),('accuracy','f8')]) #\n",
      "        "
     ],
     "language": "python",
     "metadata": {},
     "outputs": [],
     "prompt_number": 26
    },
    {
     "cell_type": "markdown",
     "metadata": {},
     "source": [
      "Printing out task totals for each platform"
     ]
    },
    {
     "cell_type": "code",
     "collapsed": false,
     "input": [
      "platform_data = []\n",
      "flag = True\n",
      "for i,p in enumerate(platforms):\n",
      "    #print \"Platform \"+p.ssh_alias+\":\"\n",
      "    flag = True\n",
      "    for j,t in enumerate(option_tasks):\n",
      "        #print \"Task \"+str(j)+\":\"\n",
      "        if not(benchmark_results[i][j].size):\n",
      "            print(p.ssh_alias,j)\n",
      "            platform_data.append(j)\n",
      "            flag = False\n",
      "            break\n",
      "            \n",
      "    if(flag): \n",
      "        print(p.ssh_alias,len(option_tasks))\n",
      "        platform_data.append(len(option_tasks))\n",
      "            \n",
      "print platform_data"
     ],
     "language": "python",
     "metadata": {},
     "outputs": [
      {
       "output_type": "stream",
       "stream": "stdout",
       "text": [
        "('', 0)\n",
        "('ee-benjamin', 0)\n",
        "('pi', 0)\n",
        "('ee-mollie', 0)\n",
        "('phi', 0)\n",
        "('ee-snowball0', 0)\n",
        "('ee-snowball1', 0)\n",
        "('ee-mollie', 0)\n",
        "('phi', 0)\n",
        "[0, 0, 0, 0, 0, 0, 0, 0, 0]\n"
       ]
      }
     ],
     "prompt_number": 27
    },
    {
     "cell_type": "markdown",
     "metadata": {},
     "source": [
      "Writing to file:"
     ]
    },
    {
     "cell_type": "code",
     "collapsed": false,
     "input": [
      "with open('benchmark_data_incomplete_30000.csv','w') as benchmark_file:\n",
      "    csvwriter = csv.writer(benchmark_file,delimiter=',')\n",
      "    \n",
      "    csvwriter.writerow(['Platform','Type','Task','Paths','Latency','Accuracy'])\n",
      "    for i,p in enumerate(platforms):\n",
      "        for j,t in enumerate(option_tasks):\n",
      "            for r in benchmark_results[i][j]:\n",
      "                    csvwriter.writerow([p.ssh_alias,p.name,j]+list(r))"
     ],
     "language": "python",
     "metadata": {},
     "outputs": [],
     "prompt_number": 28
    },
    {
     "cell_type": "code",
     "collapsed": false,
     "input": [
      "%load benchmark_data_incomplete_30000.csv"
     ],
     "language": "python",
     "metadata": {},
     "outputs": [],
     "prompt_number": 29
    },
    {
     "cell_type": "code",
     "collapsed": false,
     "input": [],
     "language": "python",
     "metadata": {},
     "outputs": []
    }
   ],
   "metadata": {}
  }
 ]
}