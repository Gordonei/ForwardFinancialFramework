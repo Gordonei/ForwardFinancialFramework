{
 "metadata": {
  "name": ""
 },
 "nbformat": 3,
 "nbformat_minor": 0,
 "worksheets": [
  {
   "cells": [
    {
     "cell_type": "heading",
     "level": 2,
     "metadata": {},
     "source": [
      "Introduction"
     ]
    },
    {
     "cell_type": "markdown",
     "metadata": {},
     "source": [
      "The Goal of this experiment is to verify the strong parallel scaling of various platform implementations of $F^3$.\n",
      "\n",
      "The Aims:\n",
      "* Run the Kaiserslatuarn Benchmark (http://www.uni-kl.de/en/benchmarking/option-pricing/) on each platform for a considerable number of simulations (1M) measuring the latency of each pricing task, for increasing degrees of parallel scaling."
     ]
    },
    {
     "cell_type": "heading",
     "level": 2,
     "metadata": {},
     "source": [
      "Setup"
     ]
    },
    {
     "cell_type": "heading",
     "level": 3,
     "metadata": {},
     "source": [
      "Imports"
     ]
    },
    {
     "cell_type": "code",
     "collapsed": false,
     "input": [
      "import multiprocessing,time,csv\n",
      "import numpy,scipy.stats"
     ],
     "language": "python",
     "metadata": {},
     "outputs": [],
     "prompt_number": 1
    },
    {
     "cell_type": "code",
     "collapsed": false,
     "input": [
      "from ForwardFinancialFramework.Platforms.OpenCLGPU import OpenCLGPU_MonteCarlo,OpenCLGPU\n",
      "from ForwardFinancialFramework.bin import KS_ProblemSet"
     ],
     "language": "python",
     "metadata": {},
     "outputs": [],
     "prompt_number": 2
    },
    {
     "cell_type": "heading",
     "level": 3,
     "metadata": {},
     "source": [
      "Platforms"
     ]
    },
    {
     "cell_type": "raw",
     "metadata": {},
     "source": [
      "python2.7 mc_solver_option_test.py localhost OpenCL_GPU \"Generate Compile\" 10000 \"heston european 1234\";\n",
      "python2.7 mc_solver_option_test.py localhost OpenCL_GPU \"Generate Compile\" 10000 \"heston barrier 1234\";\n",
      "python2.7 mc_solver_option_test.py localhost OpenCL_GPU \"Generate Compile\" 10000 \"heston double_barrier 1234\";\n",
      "python2.7 mc_solver_option_test.py localhost OpenCL_GPU \"Generate Compile\" 10000 \"heston digital_double_barrier 1234\";\n",
      "python2.7 mc_solver_option_test.py localhost OpenCL_GPU \"Generate Compile\" 10000 \"black_scholes asian 1234\";"
     ]
    },
    {
     "cell_type": "code",
     "collapsed": false,
     "input": [
      "platforms = []"
     ],
     "language": "python",
     "metadata": {},
     "outputs": [],
     "prompt_number": 3
    },
    {
     "cell_type": "code",
     "collapsed": false,
     "input": [
      "platforms += [OpenCLGPU.OpenCLGPU(remote=True,ssh_alias=\"ee-snowball0\")] #1"
     ],
     "language": "python",
     "metadata": {},
     "outputs": [],
     "prompt_number": 4
    },
    {
     "cell_type": "code",
     "collapsed": false,
     "input": [
      "platforms += [OpenCLGPU.OpenCLGPU(remote=True,ssh_alias=\"ee-snowball1\")] #2"
     ],
     "language": "python",
     "metadata": {},
     "outputs": [],
     "prompt_number": 5
    },
    {
     "cell_type": "code",
     "collapsed": false,
     "input": [
      "platforms += [OpenCLGPU.OpenCLGPU(remote=True,ssh_alias=\"phi\",device_type=8)] #3"
     ],
     "language": "python",
     "metadata": {},
     "outputs": [],
     "prompt_number": 6
    },
    {
     "cell_type": "code",
     "collapsed": false,
     "input": [
      "platforms += [OpenCLGPU.OpenCLGPU(remote=True,ssh_alias=\"amazon-gpu-0\")] #4"
     ],
     "language": "python",
     "metadata": {},
     "outputs": [],
     "prompt_number": 7
    },
    {
     "cell_type": "heading",
     "level": 4,
     "metadata": {},
     "source": [
      "Platforms List"
     ]
    },
    {
     "cell_type": "code",
     "collapsed": false,
     "input": [
      "platform_names = []\n",
      "\n",
      "for p in platforms:\n",
      "    platform_names += [(p.ssh_alias,p.name)]\n",
      "    print platform_names[-1]"
     ],
     "language": "python",
     "metadata": {},
     "outputs": [
      {
       "output_type": "stream",
       "stream": "stdout",
       "text": [
        "('ee-snowball0', 'opencl_gpu')\n",
        "('ee-snowball1', 'opencl_gpu')\n",
        "('phi', 'opencl_gpu')\n",
        "('amazon-gpu-0', 'opencl_gpu')\n"
       ]
      }
     ],
     "prompt_number": 8
    },
    {
     "cell_type": "heading",
     "level": 3,
     "metadata": {},
     "source": [
      "KS Benchmark Set"
     ]
    },
    {
     "cell_type": "code",
     "collapsed": false,
     "input": [
      "option_tasks = [KS_ProblemSet.KS_Options([str(o)])[0] for o in range(1,14)]"
     ],
     "language": "python",
     "metadata": {},
     "outputs": [],
     "prompt_number": 9
    },
    {
     "cell_type": "heading",
     "level": 2,
     "metadata": {},
     "source": [
      "Benchmarking each task upon each platform"
     ]
    },
    {
     "cell_type": "heading",
     "level": 3,
     "metadata": {},
     "source": [
      "Setup"
     ]
    },
    {
     "cell_type": "markdown",
     "metadata": {},
     "source": [
      "Function for running a specified task on a specified platform. The results are put in a queue."
     ]
    },
    {
     "cell_type": "code",
     "collapsed": false,
     "input": [
      "def platform_task_benchmark(platform,platform_name,option_tasks,paths,queue,output_queue):\n",
      "    import subprocess32 as subprocess\n",
      "    \n",
      "    if(platform_name[0]==\"ee-snowball0\"): platform_max_threads = 12\n",
      "    elif(platform_name[0]==\"ee-snowball1\"): platform_max_threads = 4\n",
      "    elif(platform_name[0]==\"phi\"): platform_max_threads = 224\n",
      "    elif(platform_name[0]==\"amazon-gpu-0\"): platform_max_threads = 8\n",
      "        \n",
      "    for i in range(int(numpy.ceil(numpy.log2(platform_max_threads))+2)): #going 1 power-of-2 steps past the platform max\n",
      "        #platform.threads = int(2**i)\n",
      "    \n",
      "        for option_number,option_task in enumerate(option_tasks):\n",
      "            if(platform.device_type==8): mc_solver = OpenCLGPU_MonteCarlo.OpenCLGPU_MonteCarlo([option_task],paths,platform,kernel_path_max=1)\n",
      "            else: mc_solver = OpenCLGPU_MonteCarlo.OpenCLGPU_MonteCarlo([option_task],paths,platform)\n",
      "            mc_solver.solver_metadata[\"gpu_threads\"] = 2**i\n",
      "            \n",
      "            retries = 3\n",
      "            while(0 < retries):    \n",
      "                try:\n",
      "                    mc_solver.paths = paths\n",
      "                    mc_solver.solver_metadata[\"paths\"] = paths\n",
      "                \n",
      "                    result = mc_solver.execute() #timeout=timeout\n",
      "                \n",
      "                    output_queue.put_nowait((platform_name,option_number,paths,2**i,result[-1]/1e6))\n",
      "                    #print(platform_name,option_number,paths,result[-1]/1e6)\n",
      "                    queue.put_nowait((platform_name,option_number,2**i,result[-1]/1e6))\n",
      "                \n",
      "                    break\n",
      "            \n",
      "                    #total_time = result[-1]/1e6\n",
      "                    #paths *= 2\n",
      "                \n",
      "                except subprocess.CalledProcessError as e:\n",
      "                    output_queue.put_nowait(\"Error!\\nCommand:\" + str(e.cmd) + \"on \" + str(option_number) + \" (%d threads)\"%platform.threads + \"\\nReturn: \" + str(e.output) + \"\\nReturncode: \" + str(e.returncode) + \"\\nretries remaining: \" + str(retries))\n",
      "                    #print(\"Error!\\nCommand:\" + str(e.cmd) + \"on \" + str(option_number) + \" (%d threads)\"%platform.threads + \"\\nReturn: \" + str(e.output) + \"\\nReturncode: \" + str(e.returncode) + \"\\nretries remaining: \" + str(retries))\n",
      "                    retries -= 1"
     ],
     "language": "python",
     "metadata": {},
     "outputs": [],
     "prompt_number": 35
    },
    {
     "cell_type": "heading",
     "level": 3,
     "metadata": {},
     "source": [
      "Benchmarking"
     ]
    },
    {
     "cell_type": "code",
     "collapsed": false,
     "input": [
      "paths = 1e7"
     ],
     "language": "python",
     "metadata": {},
     "outputs": [],
     "prompt_number": 36
    },
    {
     "cell_type": "code",
     "collapsed": false,
     "input": [
      "queue = multiprocessing.Queue(len(platforms)*len(option_tasks)*2)\n",
      "output_queue = multiprocessing.Queue()"
     ],
     "language": "python",
     "metadata": {},
     "outputs": [],
     "prompt_number": 37
    },
    {
     "cell_type": "code",
     "collapsed": false,
     "input": [
      "results = []\n",
      "try:\n",
      "    #Creating a process for each task\n",
      "    pool = [multiprocessing.Process(target=platform_task_benchmark,args=(p,pid,option_tasks,paths,queue,output_queue)) for p,pid in zip(platforms,platform_names)]\n",
      "    \n",
      "    #Starting the task on each platform\n",
      "    for p in pool: p.start()\n",
      "        \n",
      "    #Polling the queues while the tasks are busy\n",
      "    while(True):\n",
      "        while not(output_queue.empty()): print(output_queue.get())\n",
      "        while not(queue.empty()): results += [queue.get()]\n",
      "        \n",
      "        flag = True\n",
      "        for p in pool: \n",
      "            if(p.is_alive() and flag): flag = False\n",
      "            if(flag): break\n",
      "            \n",
      "        time.sleep(1)\n",
      "            \n",
      "    #Making sure all of the tasks are complete\n",
      "    for p in pool: \n",
      "        p.join()\n",
      "        del p\n",
      "            \n",
      "#If there is a keyboard interrupt\n",
      "except KeyboardInterrupt:\n",
      "    for p in pool: \n",
      "        p.terminate()\n",
      "        del p"
     ],
     "language": "python",
     "metadata": {},
     "outputs": [
      {
       "output_type": "stream",
       "stream": "stdout",
       "text": [
        "(('ee-snowball1', 'opencl_gpu'), 0, 10000000.0, 1, 43.90792489051819)\n",
        "(('amazon-gpu-0', 'opencl_gpu'), 0, 10000000.0, 1, 44.167729139328)"
       ]
      },
      {
       "output_type": "stream",
       "stream": "stdout",
       "text": [
        "\n",
        "(('ee-snowball1', 'opencl_gpu'), 1, 10000000.0, 1, 46.36630082130432)"
       ]
      },
      {
       "output_type": "stream",
       "stream": "stdout",
       "text": [
        "\n",
        "(('amazon-gpu-0', 'opencl_gpu'), 1, 10000000.0, 1, 46.705360889434814)\n",
        "(('ee-snowball0', 'opencl_gpu'), 0, 10000000.0, 1, 106.67780995368958)"
       ]
      },
      {
       "output_type": "stream",
       "stream": "stdout",
       "text": [
        "\n",
        "(('ee-snowball1', 'opencl_gpu'), 2, 10000000.0, 1, 46.42256498336792)"
       ]
      },
      {
       "output_type": "stream",
       "stream": "stdout",
       "text": [
        "\n",
        "(('amazon-gpu-0', 'opencl_gpu'), 2, 10000000.0, 1, 46.8883330821991)"
       ]
      },
      {
       "output_type": "stream",
       "stream": "stdout",
       "text": [
        "\n",
        "(('ee-snowball1', 'opencl_gpu'), 3, 10000000.0, 1, 45.76175808906555)"
       ]
      },
      {
       "output_type": "stream",
       "stream": "stdout",
       "text": [
        "\n",
        "(('amazon-gpu-0', 'opencl_gpu'), 3, 10000000.0, 1, 46.02132487297058)"
       ]
      },
      {
       "output_type": "stream",
       "stream": "stdout",
       "text": [
        "\n",
        "(('ee-snowball1', 'opencl_gpu'), 4, 10000000.0, 1, 45.645861864089966)"
       ]
      },
      {
       "output_type": "stream",
       "stream": "stdout",
       "text": [
        "\n",
        "(('amazon-gpu-0', 'opencl_gpu'), 4, 10000000.0, 1, 45.98850178718567)"
       ]
      },
      {
       "output_type": "stream",
       "stream": "stdout",
       "text": [
        "\n",
        "(('ee-snowball0', 'opencl_gpu'), 1, 10000000.0, 1, 166.03616213798523)"
       ]
      },
      {
       "output_type": "stream",
       "stream": "stdout",
       "text": [
        "\n",
        "(('ee-snowball1', 'opencl_gpu'), 5, 10000000.0, 1, 45.661495208740234)"
       ]
      },
      {
       "output_type": "stream",
       "stream": "stdout",
       "text": [
        "\n",
        "(('amazon-gpu-0', 'opencl_gpu'), 5, 10000000.0, 1, 46.04022407531738)"
       ]
      },
      {
       "output_type": "stream",
       "stream": "stdout",
       "text": [
        "\n",
        "(('ee-snowball1', 'opencl_gpu'), 6, 10000000.0, 1, 45.912230014801025)"
       ]
      },
      {
       "output_type": "stream",
       "stream": "stdout",
       "text": [
        "\n",
        "(('amazon-gpu-0', 'opencl_gpu'), 6, 10000000.0, 1, 46.04320502281189)"
       ]
      },
      {
       "output_type": "stream",
       "stream": "stdout",
       "text": [
        "\n",
        "(('ee-snowball1', 'opencl_gpu'), 7, 10000000.0, 1, 45.72721195220947)"
       ]
      },
      {
       "output_type": "stream",
       "stream": "stdout",
       "text": [
        "\n",
        "(('amazon-gpu-0', 'opencl_gpu'), 7, 10000000.0, 1, 45.928799867630005)"
       ]
      },
      {
       "output_type": "stream",
       "stream": "stdout",
       "text": [
        "\n",
        "(('ee-snowball1', 'opencl_gpu'), 8, 10000000.0, 1, 45.714229106903076)"
       ]
      },
      {
       "output_type": "stream",
       "stream": "stdout",
       "text": [
        "\n",
        "(('amazon-gpu-0', 'opencl_gpu'), 8, 10000000.0, 1, 45.9300811290741)"
       ]
      },
      {
       "output_type": "stream",
       "stream": "stdout",
       "text": [
        "\n",
        "(('ee-snowball0', 'opencl_gpu'), 2, 10000000.0, 1, 166.02778601646423)"
       ]
      },
      {
       "output_type": "stream",
       "stream": "stdout",
       "text": [
        "\n",
        "(('ee-snowball1', 'opencl_gpu'), 9, 10000000.0, 1, 46.112143993377686)"
       ]
      },
      {
       "output_type": "stream",
       "stream": "stdout",
       "text": [
        "\n",
        "(('amazon-gpu-0', 'opencl_gpu'), 9, 10000000.0, 1, 45.99001216888428)"
       ]
      },
      {
       "output_type": "stream",
       "stream": "stdout",
       "text": [
        "\n",
        "(('ee-snowball1', 'opencl_gpu'), 10, 10000000.0, 1, 46.44577884674072)"
       ]
      },
      {
       "output_type": "stream",
       "stream": "stdout",
       "text": [
        "\n",
        "(('amazon-gpu-0', 'opencl_gpu'), 10, 10000000.0, 1, 46.72472906112671)"
       ]
      },
      {
       "output_type": "stream",
       "stream": "stdout",
       "text": [
        "\n",
        "(('ee-snowball1', 'opencl_gpu'), 11, 10000000.0, 1, 45.34430003166199)"
       ]
      },
      {
       "output_type": "stream",
       "stream": "stdout",
       "text": [
        "\n",
        "(('amazon-gpu-0', 'opencl_gpu'), 11, 10000000.0, 1, 45.648858070373535)"
       ]
      },
      {
       "output_type": "stream",
       "stream": "stdout",
       "text": [
        "\n",
        "(('ee-snowball1', 'opencl_gpu'), 12, 10000000.0, 1, 35.994688987731934)"
       ]
      },
      {
       "output_type": "stream",
       "stream": "stdout",
       "text": [
        "\n",
        "(('amazon-gpu-0', 'opencl_gpu'), 12, 10000000.0, 1, 35.318572998046875)"
       ]
      },
      {
       "output_type": "stream",
       "stream": "stdout",
       "text": [
        "\n",
        "(('ee-snowball1', 'opencl_gpu'), 0, 10000000.0, 2, 22.797960996627808)"
       ]
      },
      {
       "output_type": "stream",
       "stream": "stdout",
       "text": [
        "\n",
        "(('amazon-gpu-0', 'opencl_gpu'), 0, 10000000.0, 2, 22.72313690185547)"
       ]
      },
      {
       "output_type": "stream",
       "stream": "stdout",
       "text": [
        "\n",
        "(('ee-snowball0', 'opencl_gpu'), 3, 10000000.0, 1, 185.85979580879211)"
       ]
      },
      {
       "output_type": "stream",
       "stream": "stdout",
       "text": [
        "\n",
        "(('ee-snowball1', 'opencl_gpu'), 1, 10000000.0, 2, 24.047451972961426)"
       ]
      },
      {
       "output_type": "stream",
       "stream": "stdout",
       "text": [
        "\n",
        "(('amazon-gpu-0', 'opencl_gpu'), 1, 10000000.0, 2, 23.946621894836426)"
       ]
      },
      {
       "output_type": "stream",
       "stream": "stdout",
       "text": [
        "\n",
        "(('ee-snowball1', 'opencl_gpu'), 2, 10000000.0, 2, 23.965487003326416)"
       ]
      },
      {
       "output_type": "stream",
       "stream": "stdout",
       "text": [
        "\n",
        "(('amazon-gpu-0', 'opencl_gpu'), 2, 10000000.0, 2, 23.932741165161133)"
       ]
      },
      {
       "output_type": "stream",
       "stream": "stdout",
       "text": [
        "\n",
        "(('ee-snowball1', 'opencl_gpu'), 3, 10000000.0, 2, 23.6620090007782)"
       ]
      },
      {
       "output_type": "stream",
       "stream": "stdout",
       "text": [
        "\n",
        "(('amazon-gpu-0', 'opencl_gpu'), 3, 10000000.0, 2, 23.622431993484497)"
       ]
      },
      {
       "output_type": "stream",
       "stream": "stdout",
       "text": [
        "\n",
        "(('ee-snowball1', 'opencl_gpu'), 4, 10000000.0, 2, 23.747771978378296)"
       ]
      },
      {
       "output_type": "stream",
       "stream": "stdout",
       "text": [
        "\n",
        "(('amazon-gpu-0', 'opencl_gpu'), 4, 10000000.0, 2, 23.648324012756348)"
       ]
      },
      {
       "output_type": "stream",
       "stream": "stdout",
       "text": [
        "\n",
        "(('ee-snowball1', 'opencl_gpu'), 5, 10000000.0, 2, 24.17345094680786)"
       ]
      },
      {
       "output_type": "stream",
       "stream": "stdout",
       "text": [
        "\n",
        "(('amazon-gpu-0', 'opencl_gpu'), 5, 10000000.0, 2, 23.667153120040894)"
       ]
      },
      {
       "output_type": "stream",
       "stream": "stdout",
       "text": [
        "\n",
        "(('ee-snowball1', 'opencl_gpu'), 6, 10000000.0, 2, 23.80367684364319)"
       ]
      },
      {
       "output_type": "stream",
       "stream": "stdout",
       "text": [
        "\n",
        "(('amazon-gpu-0', 'opencl_gpu'), 6, 10000000.0, 2, 23.672935009002686)"
       ]
      },
      {
       "output_type": "stream",
       "stream": "stdout",
       "text": [
        "\n",
        "(('ee-snowball1', 'opencl_gpu'), 7, 10000000.0, 2, 23.75043797492981)"
       ]
      },
      {
       "output_type": "stream",
       "stream": "stdout",
       "text": [
        "\n",
        "(('amazon-gpu-0', 'opencl_gpu'), 7, 10000000.0, 2, 23.64749789237976)"
       ]
      },
      {
       "output_type": "stream",
       "stream": "stdout",
       "text": [
        "\n",
        "(('ee-snowball1', 'opencl_gpu'), 8, 10000000.0, 2, 23.753889083862305)"
       ]
      },
      {
       "output_type": "stream",
       "stream": "stdout",
       "text": [
        "\n",
        "(('amazon-gpu-0', 'opencl_gpu'), 8, 10000000.0, 2, 23.657377004623413)"
       ]
      },
      {
       "output_type": "stream",
       "stream": "stdout",
       "text": [
        "\n",
        "(('ee-snowball0', 'opencl_gpu'), 4, 10000000.0, 1, 184.50760984420776)"
       ]
      },
      {
       "output_type": "stream",
       "stream": "stdout",
       "text": [
        "\n",
        "(('ee-snowball1', 'opencl_gpu'), 9, 10000000.0, 2, 23.573144912719727)"
       ]
      },
      {
       "output_type": "stream",
       "stream": "stdout",
       "text": [
        "\n",
        "(('amazon-gpu-0', 'opencl_gpu'), 9, 10000000.0, 2, 23.59816598892212)"
       ]
      },
      {
       "output_type": "stream",
       "stream": "stdout",
       "text": [
        "\n",
        "(('ee-snowball1', 'opencl_gpu'), 10, 10000000.0, 2, 24.12866187095642)"
       ]
      },
      {
       "output_type": "stream",
       "stream": "stdout",
       "text": [
        "\n",
        "(('amazon-gpu-0', 'opencl_gpu'), 10, 10000000.0, 2, 23.982646942138672)"
       ]
      },
      {
       "output_type": "stream",
       "stream": "stdout",
       "text": [
        "\n",
        "(('ee-snowball1', 'opencl_gpu'), 11, 10000000.0, 2, 23.58290195465088)"
       ]
      },
      {
       "output_type": "stream",
       "stream": "stdout",
       "text": [
        "\n",
        "(('amazon-gpu-0', 'opencl_gpu'), 11, 10000000.0, 2, 23.487586975097656)"
       ]
      },
      {
       "output_type": "stream",
       "stream": "stdout",
       "text": [
        "\n",
        "(('ee-snowball1', 'opencl_gpu'), 12, 10000000.0, 2, 18.46182918548584)"
       ]
      },
      {
       "output_type": "stream",
       "stream": "stdout",
       "text": [
        "\n",
        "(('amazon-gpu-0', 'opencl_gpu'), 12, 10000000.0, 2, 18.291272163391113)"
       ]
      },
      {
       "output_type": "stream",
       "stream": "stdout",
       "text": [
        "\n",
        "(('ee-snowball1', 'opencl_gpu'), 0, 10000000.0, 4, 12.282355070114136)"
       ]
      },
      {
       "output_type": "stream",
       "stream": "stdout",
       "text": [
        "\n",
        "(('amazon-gpu-0', 'opencl_gpu'), 0, 10000000.0, 4, 11.989644050598145)"
       ]
      },
      {
       "output_type": "stream",
       "stream": "stdout",
       "text": [
        "\n",
        "(('ee-snowball1', 'opencl_gpu'), 1, 10000000.0, 4, 12.949147939682007)"
       ]
      },
      {
       "output_type": "stream",
       "stream": "stdout",
       "text": [
        "\n",
        "(('amazon-gpu-0', 'opencl_gpu'), 1, 10000000.0, 4, 12.617794036865234)\n",
        "(('amazon-gpu-0', 'opencl_gpu'), 2, 10000000.0, 4, 12.618795156478882)"
       ]
      },
      {
       "output_type": "stream",
       "stream": "stdout",
       "text": [
        "\n",
        "(('ee-snowball1', 'opencl_gpu'), 2, 10000000.0, 4, 12.831485033035278)\n",
        "(('amazon-gpu-0', 'opencl_gpu'), 3, 10000000.0, 4, 12.466405868530273)"
       ]
      },
      {
       "output_type": "stream",
       "stream": "stdout",
       "text": [
        "\n",
        "(('ee-snowball1', 'opencl_gpu'), 3, 10000000.0, 4, 12.983903169631958)"
       ]
      },
      {
       "output_type": "stream",
       "stream": "stdout",
       "text": [
        "\n",
        "(('amazon-gpu-0', 'opencl_gpu'), 4, 10000000.0, 4, 12.46771502494812)"
       ]
      },
      {
       "output_type": "stream",
       "stream": "stdout",
       "text": [
        "\n",
        "(('ee-snowball1', 'opencl_gpu'), 4, 10000000.0, 4, 12.879204988479614)"
       ]
      },
      {
       "output_type": "stream",
       "stream": "stdout",
       "text": [
        "\n",
        "(('amazon-gpu-0', 'opencl_gpu'), 5, 10000000.0, 4, 12.494713068008423)"
       ]
      },
      {
       "output_type": "stream",
       "stream": "stdout",
       "text": [
        "\n",
        "(('ee-snowball1', 'opencl_gpu'), 5, 10000000.0, 4, 12.847885847091675)"
       ]
      },
      {
       "output_type": "stream",
       "stream": "stdout",
       "text": [
        "\n",
        "(('amazon-gpu-0', 'opencl_gpu'), 6, 10000000.0, 4, 12.459916114807129)"
       ]
      },
      {
       "output_type": "stream",
       "stream": "stdout",
       "text": [
        "\n",
        "(('ee-snowball1', 'opencl_gpu'), 6, 10000000.0, 4, 12.748824119567871)"
       ]
      },
      {
       "output_type": "stream",
       "stream": "stdout",
       "text": [
        "\n",
        "(('amazon-gpu-0', 'opencl_gpu'), 7, 10000000.0, 4, 12.458086013793945)"
       ]
      },
      {
       "output_type": "stream",
       "stream": "stdout",
       "text": [
        "\n",
        "(('ee-snowball1', 'opencl_gpu'), 7, 10000000.0, 4, 12.89932894706726)"
       ]
      },
      {
       "output_type": "stream",
       "stream": "stdout",
       "text": [
        "\n",
        "(('ee-snowball0', 'opencl_gpu'), 5, 10000000.0, 1, 185.33797097206116)"
       ]
      },
      {
       "output_type": "stream",
       "stream": "stdout",
       "text": [
        "\n",
        "(('amazon-gpu-0', 'opencl_gpu'), 8, 10000000.0, 4, 12.449678897857666)"
       ]
      },
      {
       "output_type": "stream",
       "stream": "stdout",
       "text": [
        "\n",
        "(('ee-snowball1', 'opencl_gpu'), 8, 10000000.0, 4, 12.864237070083618)"
       ]
      },
      {
       "output_type": "stream",
       "stream": "stdout",
       "text": [
        "\n",
        "(('amazon-gpu-0', 'opencl_gpu'), 9, 10000000.0, 4, 12.467395067214966)"
       ]
      },
      {
       "output_type": "stream",
       "stream": "stdout",
       "text": [
        "\n",
        "(('ee-snowball1', 'opencl_gpu'), 9, 10000000.0, 4, 12.714986801147461)"
       ]
      },
      {
       "output_type": "stream",
       "stream": "stdout",
       "text": [
        "\n",
        "(('amazon-gpu-0', 'opencl_gpu'), 10, 10000000.0, 4, 12.605233192443848)"
       ]
      },
      {
       "output_type": "stream",
       "stream": "stdout",
       "text": [
        "\n",
        "(('ee-snowball1', 'opencl_gpu'), 10, 10000000.0, 4, 12.99908709526062)"
       ]
      },
      {
       "output_type": "stream",
       "stream": "stdout",
       "text": [
        "\n",
        "(('amazon-gpu-0', 'opencl_gpu'), 11, 10000000.0, 4, 12.386634826660156)"
       ]
      },
      {
       "output_type": "stream",
       "stream": "stdout",
       "text": [
        "\n",
        "(('ee-snowball1', 'opencl_gpu'), 11, 10000000.0, 4, 12.83098292350769)"
       ]
      },
      {
       "output_type": "stream",
       "stream": "stdout",
       "text": [
        "\n",
        "(('amazon-gpu-0', 'opencl_gpu'), 12, 10000000.0, 4, 9.748422861099243)"
       ]
      },
      {
       "output_type": "stream",
       "stream": "stdout",
       "text": [
        "\n",
        "(('ee-snowball1', 'opencl_gpu'), 12, 10000000.0, 4, 10.319556951522827)"
       ]
      },
      {
       "output_type": "stream",
       "stream": "stdout",
       "text": [
        "\n",
        "(('amazon-gpu-0', 'opencl_gpu'), 0, 10000000.0, 8, 6.606282949447632)"
       ]
      },
      {
       "output_type": "stream",
       "stream": "stdout",
       "text": [
        "\n",
        "(('amazon-gpu-0', 'opencl_gpu'), 1, 10000000.0, 8, 6.914952039718628)"
       ]
      },
      {
       "output_type": "stream",
       "stream": "stdout",
       "text": [
        "\n",
        "(('ee-snowball1', 'opencl_gpu'), 0, 10000000.0, 8, 12.206958055496216)"
       ]
      },
      {
       "output_type": "stream",
       "stream": "stdout",
       "text": [
        "\n",
        "(('amazon-gpu-0', 'opencl_gpu'), 2, 10000000.0, 8, 6.9322450160980225)"
       ]
      },
      {
       "output_type": "stream",
       "stream": "stdout",
       "text": [
        "\n",
        "(('amazon-gpu-0', 'opencl_gpu'), 3, 10000000.0, 8, 6.8435399532318115)"
       ]
      },
      {
       "output_type": "stream",
       "stream": "stdout",
       "text": [
        "\n",
        "(('ee-snowball1', 'opencl_gpu'), 1, 10000000.0, 8, 12.801443099975586)"
       ]
      },
      {
       "output_type": "stream",
       "stream": "stdout",
       "text": [
        "\n",
        "(('amazon-gpu-0', 'opencl_gpu'), 4, 10000000.0, 8, 6.825403928756714)"
       ]
      },
      {
       "output_type": "stream",
       "stream": "stdout",
       "text": [
        "\n",
        "(('amazon-gpu-0', 'opencl_gpu'), 5, 10000000.0, 8, 6.833513021469116)"
       ]
      },
      {
       "output_type": "stream",
       "stream": "stdout",
       "text": [
        "\n",
        "(('ee-snowball1', 'opencl_gpu'), 2, 10000000.0, 8, 12.833960056304932)"
       ]
      },
      {
       "output_type": "stream",
       "stream": "stdout",
       "text": [
        "\n",
        "(('amazon-gpu-0', 'opencl_gpu'), 6, 10000000.0, 8, 6.82371187210083)"
       ]
      },
      {
       "output_type": "stream",
       "stream": "stdout",
       "text": [
        "\n",
        "(('phi', 'opencl_gpu'), 0, 10000000.0, 1, 1098.8361670970917)"
       ]
      },
      {
       "output_type": "stream",
       "stream": "stdout",
       "text": [
        "\n",
        "(('ee-snowball1', 'opencl_gpu'), 3, 10000000.0, 8, 12.638049840927124)"
       ]
      },
      {
       "output_type": "stream",
       "stream": "stdout",
       "text": [
        "\n",
        "(('amazon-gpu-0', 'opencl_gpu'), 7, 10000000.0, 8, 6.840517997741699)\n",
        "(('amazon-gpu-0', 'opencl_gpu'), 8, 10000000.0, 8, 6.834204912185669)"
       ]
      },
      {
       "output_type": "stream",
       "stream": "stdout",
       "text": [
        "\n",
        "(('ee-snowball1', 'opencl_gpu'), 4, 10000000.0, 8, 12.615571022033691)"
       ]
      },
      {
       "output_type": "stream",
       "stream": "stdout",
       "text": [
        "\n",
        "(('amazon-gpu-0', 'opencl_gpu'), 9, 10000000.0, 8, 6.833575963973999)"
       ]
      },
      {
       "output_type": "stream",
       "stream": "stdout",
       "text": [
        "\n",
        "(('amazon-gpu-0', 'opencl_gpu'), 10, 10000000.0, 8, 6.938135147094727)"
       ]
      },
      {
       "output_type": "stream",
       "stream": "stdout",
       "text": [
        "\n",
        "(('ee-snowball1', 'opencl_gpu'), 5, 10000000.0, 8, 12.690858125686646)"
       ]
      },
      {
       "output_type": "stream",
       "stream": "stdout",
       "text": [
        "\n",
        "(('amazon-gpu-0', 'opencl_gpu'), 11, 10000000.0, 8, 6.817406177520752)"
       ]
      },
      {
       "output_type": "stream",
       "stream": "stdout",
       "text": [
        "\n",
        "(('amazon-gpu-0', 'opencl_gpu'), 12, 10000000.0, 8, 5.501617908477783)"
       ]
      },
      {
       "output_type": "stream",
       "stream": "stdout",
       "text": [
        "\n",
        "(('ee-snowball1', 'opencl_gpu'), 6, 10000000.0, 8, 12.731564044952393)"
       ]
      },
      {
       "output_type": "stream",
       "stream": "stdout",
       "text": [
        "\n",
        "(('amazon-gpu-0', 'opencl_gpu'), 0, 10000000.0, 16, 6.617010831832886)"
       ]
      },
      {
       "output_type": "stream",
       "stream": "stdout",
       "text": [
        "\n",
        "(('amazon-gpu-0', 'opencl_gpu'), 1, 10000000.0, 16, 6.921091079711914)"
       ]
      },
      {
       "output_type": "stream",
       "stream": "stdout",
       "text": [
        "\n",
        "(('ee-snowball1', 'opencl_gpu'), 7, 10000000.0, 8, 12.713969945907593)"
       ]
      },
      {
       "output_type": "stream",
       "stream": "stdout",
       "text": [
        "\n",
        "(('amazon-gpu-0', 'opencl_gpu'), 2, 10000000.0, 16, 6.936537981033325)"
       ]
      },
      {
       "output_type": "stream",
       "stream": "stdout",
       "text": [
        "\n",
        "(('amazon-gpu-0', 'opencl_gpu'), 3, 10000000.0, 16, 6.839011192321777)"
       ]
      },
      {
       "output_type": "stream",
       "stream": "stdout",
       "text": [
        "\n",
        "(('ee-snowball1', 'opencl_gpu'), 8, 10000000.0, 8, 12.950222969055176)"
       ]
      },
      {
       "output_type": "stream",
       "stream": "stdout",
       "text": [
        "\n",
        "(('amazon-gpu-0', 'opencl_gpu'), 4, 10000000.0, 16, 6.8383870124816895)"
       ]
      },
      {
       "output_type": "stream",
       "stream": "stdout",
       "text": [
        "\n",
        "(('amazon-gpu-0', 'opencl_gpu'), 5, 10000000.0, 16, 6.843310117721558)"
       ]
      },
      {
       "output_type": "stream",
       "stream": "stdout",
       "text": [
        "\n",
        "(('ee-snowball0', 'opencl_gpu'), 6, 10000000.0, 1, 184.733304977417)"
       ]
      },
      {
       "output_type": "stream",
       "stream": "stdout",
       "text": [
        "\n",
        "(('ee-snowball1', 'opencl_gpu'), 9, 10000000.0, 8, 12.648194074630737)"
       ]
      },
      {
       "output_type": "stream",
       "stream": "stdout",
       "text": [
        "\n",
        "(('amazon-gpu-0', 'opencl_gpu'), 6, 10000000.0, 16, 6.8440330028533936)"
       ]
      },
      {
       "output_type": "stream",
       "stream": "stdout",
       "text": [
        "\n",
        "(('amazon-gpu-0', 'opencl_gpu'), 7, 10000000.0, 16, 6.824995994567871)"
       ]
      },
      {
       "output_type": "stream",
       "stream": "stdout",
       "text": [
        "\n",
        "(('ee-snowball1', 'opencl_gpu'), 10, 10000000.0, 8, 12.831544876098633)"
       ]
      },
      {
       "output_type": "stream",
       "stream": "stdout",
       "text": [
        "\n",
        "(('amazon-gpu-0', 'opencl_gpu'), 8, 10000000.0, 16, 6.842901945114136)"
       ]
      },
      {
       "output_type": "stream",
       "stream": "stdout",
       "text": [
        "\n",
        "(('amazon-gpu-0', 'opencl_gpu'), 9, 10000000.0, 16, 6.86126708984375)"
       ]
      },
      {
       "output_type": "stream",
       "stream": "stdout",
       "text": [
        "\n",
        "(('ee-snowball1', 'opencl_gpu'), 11, 10000000.0, 8, 12.580047130584717)\n",
        "(('amazon-gpu-0', 'opencl_gpu'), 10, 10000000.0, 16, 6.911007881164551)"
       ]
      },
      {
       "output_type": "stream",
       "stream": "stdout",
       "text": [
        "\n",
        "(('ee-snowball1', 'opencl_gpu'), 12, 10000000.0, 8, 12.033460140228271)"
       ]
      },
      {
       "output_type": "stream",
       "stream": "stdout",
       "text": [
        "\n",
        "(('amazon-gpu-0', 'opencl_gpu'), 11, 10000000.0, 16, 6.806055068969727)"
       ]
      },
      {
       "output_type": "stream",
       "stream": "stdout",
       "text": [
        "\n",
        "(('amazon-gpu-0', 'opencl_gpu'), 12, 10000000.0, 16, 5.504833936691284)"
       ]
      },
      {
       "output_type": "stream",
       "stream": "stdout",
       "text": [
        "\n",
        "(('ee-snowball0', 'opencl_gpu'), 7, 10000000.0, 1, 185.24129700660706)"
       ]
      },
      {
       "output_type": "stream",
       "stream": "stdout",
       "text": [
        "\n",
        "(('ee-snowball0', 'opencl_gpu'), 8, 10000000.0, 1, 184.42460012435913)"
       ]
      },
      {
       "output_type": "stream",
       "stream": "stdout",
       "text": [
        "\n",
        "(('ee-snowball0', 'opencl_gpu'), 9, 10000000.0, 1, 185.10724306106567)"
       ]
      },
      {
       "output_type": "stream",
       "stream": "stdout",
       "text": [
        "\n",
        "(('ee-snowball0', 'opencl_gpu'), 10, 10000000.0, 1, 166.26753211021423)"
       ]
      },
      {
       "output_type": "stream",
       "stream": "stdout",
       "text": [
        "\n",
        "(('ee-snowball0', 'opencl_gpu'), 11, 10000000.0, 1, 181.9509630203247)"
       ]
      },
      {
       "output_type": "stream",
       "stream": "stdout",
       "text": [
        "\n",
        "(('ee-snowball0', 'opencl_gpu'), 12, 10000000.0, 1, 80.53244590759277)"
       ]
      },
      {
       "output_type": "stream",
       "stream": "stdout",
       "text": [
        "\n",
        "(('ee-snowball0', 'opencl_gpu'), 0, 10000000.0, 2, 53.99671506881714)"
       ]
      },
      {
       "output_type": "stream",
       "stream": "stdout",
       "text": [
        "\n",
        "(('ee-snowball0', 'opencl_gpu'), 1, 10000000.0, 2, 83.6829571723938)"
       ]
      },
      {
       "output_type": "stream",
       "stream": "stdout",
       "text": [
        "\n",
        "(('ee-snowball0', 'opencl_gpu'), 2, 10000000.0, 2, 83.71528482437134)"
       ]
      },
      {
       "output_type": "stream",
       "stream": "stdout",
       "text": [
        "\n",
        "(('ee-snowball0', 'opencl_gpu'), 3, 10000000.0, 2, 93.20002698898315)"
       ]
      },
      {
       "output_type": "stream",
       "stream": "stdout",
       "text": [
        "\n",
        "(('ee-snowball0', 'opencl_gpu'), 4, 10000000.0, 2, 92.92477703094482)"
       ]
      },
      {
       "output_type": "stream",
       "stream": "stdout",
       "text": [
        "\n",
        "(('ee-snowball0', 'opencl_gpu'), 5, 10000000.0, 2, 94.17271399497986)"
       ]
      },
      {
       "output_type": "stream",
       "stream": "stdout",
       "text": [
        "\n",
        "(('ee-snowball0', 'opencl_gpu'), 6, 10000000.0, 2, 93.10470390319824)"
       ]
      },
      {
       "output_type": "stream",
       "stream": "stdout",
       "text": [
        "\n",
        "(('ee-snowball0', 'opencl_gpu'), 7, 10000000.0, 2, 93.04220795631409)"
       ]
      },
      {
       "output_type": "stream",
       "stream": "stdout",
       "text": [
        "\n",
        "(('ee-snowball0', 'opencl_gpu'), 8, 10000000.0, 2, 92.86696100234985)"
       ]
      },
      {
       "output_type": "stream",
       "stream": "stdout",
       "text": [
        "\n",
        "(('ee-snowball0', 'opencl_gpu'), 9, 10000000.0, 2, 92.98276400566101)"
       ]
      },
      {
       "output_type": "stream",
       "stream": "stdout",
       "text": [
        "\n",
        "(('ee-snowball0', 'opencl_gpu'), 10, 10000000.0, 2, 83.75711703300476)"
       ]
      },
      {
       "output_type": "stream",
       "stream": "stdout",
       "text": [
        "\n",
        "(('ee-snowball0', 'opencl_gpu'), 11, 10000000.0, 2, 91.78349709510803)"
       ]
      },
      {
       "output_type": "stream",
       "stream": "stdout",
       "text": [
        "\n",
        "(('ee-snowball0', 'opencl_gpu'), 12, 10000000.0, 2, 40.70573902130127)"
       ]
      },
      {
       "output_type": "stream",
       "stream": "stdout",
       "text": [
        "\n",
        "(('ee-snowball0', 'opencl_gpu'), 0, 10000000.0, 4, 27.66963815689087)"
       ]
      },
      {
       "output_type": "stream",
       "stream": "stdout",
       "text": [
        "\n",
        "(('ee-snowball0', 'opencl_gpu'), 1, 10000000.0, 4, 42.50168704986572)"
       ]
      },
      {
       "output_type": "stream",
       "stream": "stdout",
       "text": [
        "\n",
        "(('ee-snowball0', 'opencl_gpu'), 2, 10000000.0, 4, 42.570926904678345)"
       ]
      },
      {
       "output_type": "stream",
       "stream": "stdout",
       "text": [
        "\n",
        "(('ee-snowball0', 'opencl_gpu'), 3, 10000000.0, 4, 47.237606048583984)"
       ]
      },
      {
       "output_type": "stream",
       "stream": "stdout",
       "text": [
        "\n",
        "(('ee-snowball0', 'opencl_gpu'), 4, 10000000.0, 4, 47.32109308242798)"
       ]
      },
      {
       "output_type": "stream",
       "stream": "stdout",
       "text": [
        "\n",
        "(('ee-snowball0', 'opencl_gpu'), 5, 10000000.0, 4, 47.32945990562439)"
       ]
      },
      {
       "output_type": "stream",
       "stream": "stdout",
       "text": [
        "\n",
        "(('ee-snowball0', 'opencl_gpu'), 6, 10000000.0, 4, 47.20154094696045)"
       ]
      },
      {
       "output_type": "stream",
       "stream": "stdout",
       "text": [
        "\n",
        "(('ee-snowball0', 'opencl_gpu'), 7, 10000000.0, 4, 47.18820285797119)"
       ]
      },
      {
       "output_type": "stream",
       "stream": "stdout",
       "text": [
        "\n",
        "(('ee-snowball0', 'opencl_gpu'), 8, 10000000.0, 4, 47.10705208778381)"
       ]
      },
      {
       "output_type": "stream",
       "stream": "stdout",
       "text": [
        "\n",
        "(('ee-snowball0', 'opencl_gpu'), 9, 10000000.0, 4, 47.24864912033081)"
       ]
      },
      {
       "output_type": "stream",
       "stream": "stdout",
       "text": [
        "\n",
        "(('ee-snowball0', 'opencl_gpu'), 10, 10000000.0, 4, 42.42967391014099)"
       ]
      },
      {
       "output_type": "stream",
       "stream": "stdout",
       "text": [
        "\n",
        "(('ee-snowball0', 'opencl_gpu'), 11, 10000000.0, 4, 46.371599197387695)"
       ]
      },
      {
       "output_type": "stream",
       "stream": "stdout",
       "text": [
        "\n",
        "(('ee-snowball0', 'opencl_gpu'), 12, 10000000.0, 4, 21.077908992767334)"
       ]
      },
      {
       "output_type": "stream",
       "stream": "stdout",
       "text": [
        "\n",
        "(('ee-snowball0', 'opencl_gpu'), 0, 10000000.0, 8, 14.384172916412354)"
       ]
      },
      {
       "output_type": "stream",
       "stream": "stdout",
       "text": [
        "\n",
        "(('ee-snowball0', 'opencl_gpu'), 1, 10000000.0, 8, 21.803850173950195)"
       ]
      },
      {
       "output_type": "stream",
       "stream": "stdout",
       "text": [
        "\n",
        "(('ee-snowball0', 'opencl_gpu'), 2, 10000000.0, 8, 21.98524785041809)"
       ]
      },
      {
       "output_type": "stream",
       "stream": "stdout",
       "text": [
        "\n",
        "(('ee-snowball0', 'opencl_gpu'), 3, 10000000.0, 8, 24.318009853363037)"
       ]
      },
      {
       "output_type": "stream",
       "stream": "stdout",
       "text": [
        "\n",
        "(('ee-snowball0', 'opencl_gpu'), 4, 10000000.0, 8, 24.102513074874878)"
       ]
      },
      {
       "output_type": "stream",
       "stream": "stdout",
       "text": [
        "\n",
        "(('ee-snowball0', 'opencl_gpu'), 5, 10000000.0, 8, 24.202571868896484)"
       ]
      },
      {
       "output_type": "stream",
       "stream": "stdout",
       "text": [
        "\n",
        "(('ee-snowball0', 'opencl_gpu'), 6, 10000000.0, 8, 24.30245018005371)"
       ]
      },
      {
       "output_type": "stream",
       "stream": "stdout",
       "text": [
        "\n",
        "(('ee-snowball0', 'opencl_gpu'), 7, 10000000.0, 8, 24.31092095375061)"
       ]
      },
      {
       "output_type": "stream",
       "stream": "stdout",
       "text": [
        "\n",
        "(('ee-snowball0', 'opencl_gpu'), 8, 10000000.0, 8, 24.0332350730896)"
       ]
      },
      {
       "output_type": "stream",
       "stream": "stdout",
       "text": [
        "\n",
        "(('ee-snowball0', 'opencl_gpu'), 9, 10000000.0, 8, 24.136168956756592)"
       ]
      },
      {
       "output_type": "stream",
       "stream": "stdout",
       "text": [
        "\n",
        "(('ee-snowball0', 'opencl_gpu'), 10, 10000000.0, 8, 21.84188485145569)"
       ]
      },
      {
       "output_type": "stream",
       "stream": "stdout",
       "text": [
        "\n",
        "(('ee-snowball0', 'opencl_gpu'), 11, 10000000.0, 8, 23.80210304260254)"
       ]
      },
      {
       "output_type": "stream",
       "stream": "stdout",
       "text": [
        "\n",
        "(('ee-snowball0', 'opencl_gpu'), 12, 10000000.0, 8, 11.119545936584473)"
       ]
      },
      {
       "output_type": "stream",
       "stream": "stdout",
       "text": [
        "\n",
        "(('ee-snowball0', 'opencl_gpu'), 0, 10000000.0, 16, 10.167591094970703)"
       ]
      },
      {
       "output_type": "stream",
       "stream": "stdout",
       "text": [
        "\n",
        "(('ee-snowball0', 'opencl_gpu'), 1, 10000000.0, 16, 14.968684196472168)"
       ]
      },
      {
       "output_type": "stream",
       "stream": "stdout",
       "text": [
        "\n",
        "(('ee-snowball0', 'opencl_gpu'), 2, 10000000.0, 16, 14.916202068328857)"
       ]
      },
      {
       "output_type": "stream",
       "stream": "stdout",
       "text": [
        "\n",
        "(('ee-snowball0', 'opencl_gpu'), 3, 10000000.0, 16, 16.443411111831665)"
       ]
      },
      {
       "output_type": "stream",
       "stream": "stdout",
       "text": [
        "\n",
        "(('ee-snowball0', 'opencl_gpu'), 4, 10000000.0, 16, 16.427403926849365)"
       ]
      },
      {
       "output_type": "stream",
       "stream": "stdout",
       "text": [
        "\n",
        "(('ee-snowball0', 'opencl_gpu'), 5, 10000000.0, 16, 16.49492907524109)"
       ]
      },
      {
       "output_type": "stream",
       "stream": "stdout",
       "text": [
        "\n",
        "(('ee-snowball0', 'opencl_gpu'), 6, 10000000.0, 16, 16.54327893257141)"
       ]
      },
      {
       "output_type": "stream",
       "stream": "stdout",
       "text": [
        "\n",
        "(('ee-snowball0', 'opencl_gpu'), 7, 10000000.0, 16, 17.119346141815186)"
       ]
      },
      {
       "output_type": "stream",
       "stream": "stdout",
       "text": [
        "\n",
        "(('ee-snowball0', 'opencl_gpu'), 8, 10000000.0, 16, 16.559983015060425)"
       ]
      },
      {
       "output_type": "stream",
       "stream": "stdout",
       "text": [
        "\n",
        "(('ee-snowball0', 'opencl_gpu'), 9, 10000000.0, 16, 16.55263590812683)"
       ]
      },
      {
       "output_type": "stream",
       "stream": "stdout",
       "text": [
        "\n",
        "(('ee-snowball0', 'opencl_gpu'), 10, 10000000.0, 16, 14.910279989242554)"
       ]
      },
      {
       "output_type": "stream",
       "stream": "stdout",
       "text": [
        "\n",
        "(('ee-snowball0', 'opencl_gpu'), 11, 10000000.0, 16, 16.277602910995483)"
       ]
      },
      {
       "output_type": "stream",
       "stream": "stdout",
       "text": [
        "\n",
        "(('ee-snowball0', 'opencl_gpu'), 12, 10000000.0, 16, 7.938875913619995)"
       ]
      },
      {
       "output_type": "stream",
       "stream": "stdout",
       "text": [
        "\n",
        "(('ee-snowball0', 'opencl_gpu'), 0, 10000000.0, 32, 9.911171913146973)"
       ]
      },
      {
       "output_type": "stream",
       "stream": "stdout",
       "text": [
        "\n",
        "(('ee-snowball0', 'opencl_gpu'), 1, 10000000.0, 32, 14.840038061141968)"
       ]
      },
      {
       "output_type": "stream",
       "stream": "stdout",
       "text": [
        "\n",
        "(('ee-snowball0', 'opencl_gpu'), 2, 10000000.0, 32, 14.927087783813477)"
       ]
      },
      {
       "output_type": "stream",
       "stream": "stdout",
       "text": [
        "\n",
        "(('ee-snowball0', 'opencl_gpu'), 3, 10000000.0, 32, 16.505407094955444)"
       ]
      },
      {
       "output_type": "stream",
       "stream": "stdout",
       "text": [
        "\n",
        "(('ee-snowball0', 'opencl_gpu'), 4, 10000000.0, 32, 16.450942039489746)"
       ]
      },
      {
       "output_type": "stream",
       "stream": "stdout",
       "text": [
        "\n",
        "(('ee-snowball0', 'opencl_gpu'), 5, 10000000.0, 32, 16.48576807975769)"
       ]
      },
      {
       "output_type": "stream",
       "stream": "stdout",
       "text": [
        "\n",
        "(('ee-snowball0', 'opencl_gpu'), 6, 10000000.0, 32, 16.529357194900513)"
       ]
      },
      {
       "output_type": "stream",
       "stream": "stdout",
       "text": [
        "\n",
        "(('ee-snowball0', 'opencl_gpu'), 7, 10000000.0, 32, 16.51830220222473)"
       ]
      },
      {
       "output_type": "stream",
       "stream": "stdout",
       "text": [
        "\n",
        "(('ee-snowball0', 'opencl_gpu'), 8, 10000000.0, 32, 16.535441160202026)"
       ]
      },
      {
       "output_type": "stream",
       "stream": "stdout",
       "text": [
        "\n",
        "(('ee-snowball0', 'opencl_gpu'), 9, 10000000.0, 32, 16.64348578453064)"
       ]
      },
      {
       "output_type": "stream",
       "stream": "stdout",
       "text": [
        "\n",
        "(('ee-snowball0', 'opencl_gpu'), 10, 10000000.0, 32, 15.01005506515503)"
       ]
      },
      {
       "output_type": "stream",
       "stream": "stdout",
       "text": [
        "\n",
        "(('ee-snowball0', 'opencl_gpu'), 11, 10000000.0, 32, 16.208003044128418)"
       ]
      },
      {
       "output_type": "stream",
       "stream": "stdout",
       "text": [
        "\n",
        "(('ee-snowball0', 'opencl_gpu'), 12, 10000000.0, 32, 7.792722940444946)"
       ]
      },
      {
       "output_type": "stream",
       "stream": "stdout",
       "text": [
        "\n",
        "(('phi', 'opencl_gpu'), 1, 10000000.0, 1, 4070.524288892746)"
       ]
      },
      {
       "output_type": "stream",
       "stream": "stdout",
       "text": [
        "\n",
        "(('phi', 'opencl_gpu'), 2, 10000000.0, 1, 3671.865198135376)"
       ]
      },
      {
       "output_type": "stream",
       "stream": "stdout",
       "text": [
        "\n",
        "(('phi', 'opencl_gpu'), 3, 10000000.0, 1, 3663.796154975891)"
       ]
      },
      {
       "output_type": "stream",
       "stream": "stdout",
       "text": [
        "\n",
        "(('phi', 'opencl_gpu'), 4, 10000000.0, 1, 2704.5175478458405)"
       ]
      },
      {
       "output_type": "stream",
       "stream": "stdout",
       "text": [
        "\n",
        "(('phi', 'opencl_gpu'), 5, 10000000.0, 1, 3591.786997795105)"
       ]
      },
      {
       "output_type": "stream",
       "stream": "stdout",
       "text": [
        "\n",
        "(('phi', 'opencl_gpu'), 6, 10000000.0, 1, 4273.824157953262)"
       ]
      },
      {
       "output_type": "stream",
       "stream": "stdout",
       "text": [
        "\n",
        "(('phi', 'opencl_gpu'), 7, 10000000.0, 1, 3542.249748945236)"
       ]
      },
      {
       "output_type": "stream",
       "stream": "stdout",
       "text": [
        "\n",
        "(('phi', 'opencl_gpu'), 8, 10000000.0, 1, 2725.0446860790253)"
       ]
      },
      {
       "output_type": "stream",
       "stream": "stdout",
       "text": [
        "\n",
        "(('phi', 'opencl_gpu'), 9, 10000000.0, 1, 3871.2479820251465)"
       ]
      },
      {
       "output_type": "stream",
       "stream": "stdout",
       "text": [
        "\n",
        "(('phi', 'opencl_gpu'), 10, 10000000.0, 1, 1608.4731390476227)"
       ]
      },
      {
       "output_type": "stream",
       "stream": "stdout",
       "text": [
        "\n",
        "(('phi', 'opencl_gpu'), 11, 10000000.0, 1, 3590.275821208954)"
       ]
      },
      {
       "output_type": "stream",
       "stream": "stdout",
       "text": [
        "\n",
        "(('phi', 'opencl_gpu'), 12, 10000000.0, 1, 702.4641969203949)"
       ]
      },
      {
       "output_type": "stream",
       "stream": "stdout",
       "text": [
        "\n",
        "(('phi', 'opencl_gpu'), 0, 10000000.0, 2, 558.5175728797913)"
       ]
      },
      {
       "output_type": "stream",
       "stream": "stdout",
       "text": [
        "\n",
        "(('phi', 'opencl_gpu'), 1, 10000000.0, 2, 2057.144814968109)"
       ]
      },
      {
       "output_type": "stream",
       "stream": "stdout",
       "text": [
        "\n",
        "(('phi', 'opencl_gpu'), 2, 10000000.0, 2, 1862.9944169521332)"
       ]
      },
      {
       "output_type": "stream",
       "stream": "stdout",
       "text": [
        "\n",
        "(('phi', 'opencl_gpu'), 3, 10000000.0, 2, 1864.3426039218903)"
       ]
      },
      {
       "output_type": "stream",
       "stream": "stdout",
       "text": [
        "\n",
        "(('phi', 'opencl_gpu'), 4, 10000000.0, 2, 1375.2262499332428)"
       ]
      },
      {
       "output_type": "stream",
       "stream": "stdout",
       "text": [
        "\n",
        "(('phi', 'opencl_gpu'), 5, 10000000.0, 2, 1821.3256850242615)"
       ]
      },
      {
       "output_type": "stream",
       "stream": "stdout",
       "text": [
        "\n",
        "(('phi', 'opencl_gpu'), 6, 10000000.0, 2, 2141.432732105255)"
       ]
      },
      {
       "output_type": "stream",
       "stream": "stdout",
       "text": [
        "\n",
        "(('phi', 'opencl_gpu'), 7, 10000000.0, 2, 1948.7462451457977)"
       ]
      },
      {
       "output_type": "stream",
       "stream": "stdout",
       "text": [
        "\n",
        "(('phi', 'opencl_gpu'), 8, 10000000.0, 2, 1375.9611020088196)"
       ]
      },
      {
       "output_type": "stream",
       "stream": "stdout",
       "text": [
        "\n",
        "(('phi', 'opencl_gpu'), 9, 10000000.0, 2, 1948.6850690841675)"
       ]
      },
      {
       "output_type": "stream",
       "stream": "stdout",
       "text": [
        "\n",
        "(('phi', 'opencl_gpu'), 10, 10000000.0, 2, 815.6570081710815)"
       ]
      },
      {
       "output_type": "stream",
       "stream": "stdout",
       "text": [
        "\n",
        "(('phi', 'opencl_gpu'), 11, 10000000.0, 2, 1817.3115479946136)"
       ]
      },
      {
       "output_type": "stream",
       "stream": "stdout",
       "text": [
        "\n",
        "(('phi', 'opencl_gpu'), 12, 10000000.0, 2, 362.93159103393555)"
       ]
      },
      {
       "output_type": "stream",
       "stream": "stdout",
       "text": [
        "\n",
        "(('phi', 'opencl_gpu'), 0, 10000000.0, 4, 283.02592301368713)"
       ]
      },
      {
       "output_type": "stream",
       "stream": "stdout",
       "text": [
        "\n",
        "(('phi', 'opencl_gpu'), 1, 10000000.0, 4, 1045.1194920539856)"
       ]
      },
      {
       "output_type": "stream",
       "stream": "stdout",
       "text": [
        "\n",
        "(('phi', 'opencl_gpu'), 2, 10000000.0, 4, 947.3144409656525)"
       ]
      },
      {
       "output_type": "stream",
       "stream": "stdout",
       "text": [
        "\n",
        "(('phi', 'opencl_gpu'), 3, 10000000.0, 4, 951.0101709365845)"
       ]
      },
      {
       "output_type": "stream",
       "stream": "stdout",
       "text": [
        "\n",
        "(('phi', 'opencl_gpu'), 4, 10000000.0, 4, 702.1634240150452)"
       ]
      },
      {
       "output_type": "stream",
       "stream": "stdout",
       "text": [
        "\n",
        "(('phi', 'opencl_gpu'), 5, 10000000.0, 4, 927.7973279953003)"
       ]
      },
      {
       "output_type": "stream",
       "stream": "stdout",
       "text": [
        "\n",
        "(('phi', 'opencl_gpu'), 6, 10000000.0, 4, 1080.2445268630981)"
       ]
      },
      {
       "output_type": "stream",
       "stream": "stdout",
       "text": [
        "\n",
        "(('phi', 'opencl_gpu'), 7, 10000000.0, 4, 986.9291160106659)"
       ]
      },
      {
       "output_type": "stream",
       "stream": "stdout",
       "text": [
        "\n",
        "(('phi', 'opencl_gpu'), 8, 10000000.0, 4, 700.4072329998016)"
       ]
      },
      {
       "output_type": "stream",
       "stream": "stdout",
       "text": [
        "\n",
        "(('phi', 'opencl_gpu'), 9, 10000000.0, 4, 986.9731500148773)"
       ]
      },
      {
       "output_type": "stream",
       "stream": "stdout",
       "text": [
        "\n",
        "(('phi', 'opencl_gpu'), 10, 10000000.0, 4, 413.2289299964905)"
       ]
      },
      {
       "output_type": "stream",
       "stream": "stdout",
       "text": [
        "\n",
        "(('phi', 'opencl_gpu'), 11, 10000000.0, 4, 926.0757191181183)"
       ]
      },
      {
       "output_type": "stream",
       "stream": "stdout",
       "text": [
        "\n",
        "(('phi', 'opencl_gpu'), 12, 10000000.0, 4, 185.2336401939392)"
       ]
      },
      {
       "output_type": "stream",
       "stream": "stdout",
       "text": [
        "\n",
        "(('phi', 'opencl_gpu'), 0, 10000000.0, 8, 145.59728813171387)"
       ]
      },
      {
       "output_type": "stream",
       "stream": "stdout",
       "text": [
        "\n",
        "(('phi', 'opencl_gpu'), 1, 10000000.0, 8, 529.3298540115356)"
       ]
      },
      {
       "output_type": "stream",
       "stream": "stdout",
       "text": [
        "\n",
        "(('phi', 'opencl_gpu'), 2, 10000000.0, 8, 482.96291613578796)"
       ]
      },
      {
       "output_type": "stream",
       "stream": "stdout",
       "text": [
        "\n",
        "(('phi', 'opencl_gpu'), 3, 10000000.0, 8, 484.177992105484)"
       ]
      },
      {
       "output_type": "stream",
       "stream": "stdout",
       "text": [
        "\n",
        "(('phi', 'opencl_gpu'), 4, 10000000.0, 8, 358.30096316337585)"
       ]
      },
      {
       "output_type": "stream",
       "stream": "stdout",
       "text": [
        "\n",
        "(('phi', 'opencl_gpu'), 5, 10000000.0, 8, 472.0390839576721)"
       ]
      },
      {
       "output_type": "stream",
       "stream": "stdout",
       "text": [
        "\n",
        "(('phi', 'opencl_gpu'), 6, 10000000.0, 8, 548.6832020282745)"
       ]
      },
      {
       "output_type": "stream",
       "stream": "stdout",
       "text": [
        "\n",
        "(('phi', 'opencl_gpu'), 7, 10000000.0, 8, 500.8563070297241)"
       ]
      },
      {
       "output_type": "stream",
       "stream": "stdout",
       "text": [
        "\n",
        "(('phi', 'opencl_gpu'), 8, 10000000.0, 8, 360.25194478034973)"
       ]
      },
      {
       "output_type": "stream",
       "stream": "stdout",
       "text": [
        "\n",
        "(('phi', 'opencl_gpu'), 9, 10000000.0, 8, 500.27546405792236)"
       ]
      },
      {
       "output_type": "stream",
       "stream": "stdout",
       "text": [
        "\n",
        "(('phi', 'opencl_gpu'), 10, 10000000.0, 8, 210.4376769065857)"
       ]
      },
      {
       "output_type": "stream",
       "stream": "stdout",
       "text": [
        "\n",
        "(('phi', 'opencl_gpu'), 11, 10000000.0, 8, 472.9180700778961)"
       ]
      },
      {
       "output_type": "stream",
       "stream": "stdout",
       "text": [
        "\n",
        "(('phi', 'opencl_gpu'), 12, 10000000.0, 8, 96.18256402015686)"
       ]
      },
      {
       "output_type": "stream",
       "stream": "stdout",
       "text": [
        "\n",
        "(('phi', 'opencl_gpu'), 0, 10000000.0, 16, 76.6090259552002)"
       ]
      },
      {
       "output_type": "stream",
       "stream": "stdout",
       "text": [
        "\n",
        "(('phi', 'opencl_gpu'), 1, 10000000.0, 16, 273.40695810317993)"
       ]
      },
      {
       "output_type": "stream",
       "stream": "stdout",
       "text": [
        "\n",
        "(('phi', 'opencl_gpu'), 2, 10000000.0, 16, 250.0389461517334)"
       ]
      },
      {
       "output_type": "stream",
       "stream": "stdout",
       "text": [
        "\n",
        "(('phi', 'opencl_gpu'), 3, 10000000.0, 16, 251.38148188591003)"
       ]
      },
      {
       "output_type": "stream",
       "stream": "stdout",
       "text": [
        "\n",
        "(('phi', 'opencl_gpu'), 4, 10000000.0, 16, 185.77057719230652)"
       ]
      },
      {
       "output_type": "stream",
       "stream": "stdout",
       "text": [
        "\n",
        "(('phi', 'opencl_gpu'), 5, 10000000.0, 16, 243.02726197242737)"
       ]
      },
      {
       "output_type": "stream",
       "stream": "stdout",
       "text": [
        "\n",
        "(('phi', 'opencl_gpu'), 6, 10000000.0, 16, 281.244069814682)"
       ]
      },
      {
       "output_type": "stream",
       "stream": "stdout",
       "text": [
        "\n",
        "(('phi', 'opencl_gpu'), 7, 10000000.0, 16, 258.14973998069763)"
       ]
      },
      {
       "output_type": "stream",
       "stream": "stdout",
       "text": [
        "\n",
        "(('phi', 'opencl_gpu'), 8, 10000000.0, 16, 187.86069297790527)"
       ]
      },
      {
       "output_type": "stream",
       "stream": "stdout",
       "text": [
        "\n",
        "(('phi', 'opencl_gpu'), 9, 10000000.0, 16, 259.18942284584045)"
       ]
      },
      {
       "output_type": "stream",
       "stream": "stdout",
       "text": [
        "\n",
        "(('phi', 'opencl_gpu'), 10, 10000000.0, 16, 110.38586282730103)"
       ]
      },
      {
       "output_type": "stream",
       "stream": "stdout",
       "text": [
        "\n",
        "(('phi', 'opencl_gpu'), 11, 10000000.0, 16, 243.49737191200256)"
       ]
      },
      {
       "output_type": "stream",
       "stream": "stdout",
       "text": [
        "\n",
        "(('phi', 'opencl_gpu'), 12, 10000000.0, 16, 52.165053844451904)"
       ]
      },
      {
       "output_type": "stream",
       "stream": "stdout",
       "text": [
        "\n",
        "(('phi', 'opencl_gpu'), 0, 10000000.0, 32, 42.95459198951721)"
       ]
      },
      {
       "output_type": "stream",
       "stream": "stdout",
       "text": [
        "\n",
        "(('phi', 'opencl_gpu'), 1, 10000000.0, 32, 144.39887285232544)"
       ]
      },
      {
       "output_type": "stream",
       "stream": "stdout",
       "text": [
        "\n",
        "(('phi', 'opencl_gpu'), 2, 10000000.0, 32, 132.04447197914124)"
       ]
      },
      {
       "output_type": "stream",
       "stream": "stdout",
       "text": [
        "\n",
        "(('phi', 'opencl_gpu'), 3, 10000000.0, 32, 133.0645661354065)"
       ]
      },
      {
       "output_type": "stream",
       "stream": "stdout",
       "text": [
        "\n",
        "(('phi', 'opencl_gpu'), 4, 10000000.0, 32, 89.3787190914154)"
       ]
      },
      {
       "output_type": "stream",
       "stream": "stdout",
       "text": [
        "\n",
        "(('phi', 'opencl_gpu'), 5, 10000000.0, 32, 129.8520450592041)"
       ]
      },
      {
       "output_type": "stream",
       "stream": "stdout",
       "text": [
        "\n",
        "(('phi', 'opencl_gpu'), 6, 10000000.0, 32, 150.08033299446106)"
       ]
      },
      {
       "output_type": "stream",
       "stream": "stdout",
       "text": [
        "\n",
        "(('phi', 'opencl_gpu'), 7, 10000000.0, 32, 137.9036521911621)"
       ]
      },
      {
       "output_type": "stream",
       "stream": "stdout",
       "text": [
        "\n",
        "(('phi', 'opencl_gpu'), 8, 10000000.0, 32, 99.93916392326355)"
       ]
      },
      {
       "output_type": "stream",
       "stream": "stdout",
       "text": [
        "\n",
        "(('phi', 'opencl_gpu'), 9, 10000000.0, 32, 136.9832968711853)"
       ]
      },
      {
       "output_type": "stream",
       "stream": "stdout",
       "text": [
        "\n",
        "(('phi', 'opencl_gpu'), 10, 10000000.0, 32, 60.33084487915039)"
       ]
      },
      {
       "output_type": "stream",
       "stream": "stdout",
       "text": [
        "\n",
        "(('phi', 'opencl_gpu'), 11, 10000000.0, 32, 129.2732629776001)"
       ]
      },
      {
       "output_type": "stream",
       "stream": "stdout",
       "text": [
        "\n",
        "(('phi', 'opencl_gpu'), 12, 10000000.0, 32, 30.064640998840332)"
       ]
      },
      {
       "output_type": "stream",
       "stream": "stdout",
       "text": [
        "\n",
        "(('phi', 'opencl_gpu'), 0, 10000000.0, 64, 30.049409866333008)"
       ]
      },
      {
       "output_type": "stream",
       "stream": "stdout",
       "text": [
        "\n",
        "(('phi', 'opencl_gpu'), 1, 10000000.0, 64, 97.80778193473816)"
       ]
      },
      {
       "output_type": "stream",
       "stream": "stdout",
       "text": [
        "\n",
        "(('phi', 'opencl_gpu'), 2, 10000000.0, 64, 89.01868200302124)"
       ]
      },
      {
       "output_type": "stream",
       "stream": "stdout",
       "text": [
        "\n",
        "(('phi', 'opencl_gpu'), 3, 10000000.0, 64, 89.4800820350647)"
       ]
      },
      {
       "output_type": "stream",
       "stream": "stdout",
       "text": [
        "\n",
        "(('phi', 'opencl_gpu'), 4, 10000000.0, 64, 60.643346071243286)"
       ]
      },
      {
       "output_type": "stream",
       "stream": "stdout",
       "text": [
        "\n",
        "(('phi', 'opencl_gpu'), 5, 10000000.0, 64, 87.11141109466553)"
       ]
      },
      {
       "output_type": "stream",
       "stream": "stdout",
       "text": [
        "\n",
        "(('phi', 'opencl_gpu'), 6, 10000000.0, 64, 100.08454203605652)"
       ]
      },
      {
       "output_type": "stream",
       "stream": "stdout",
       "text": [
        "\n",
        "(('phi', 'opencl_gpu'), 7, 10000000.0, 64, 92.13808798789978)"
       ]
      },
      {
       "output_type": "stream",
       "stream": "stdout",
       "text": [
        "\n",
        "(('phi', 'opencl_gpu'), 8, 10000000.0, 64, 66.58198809623718)"
       ]
      },
      {
       "output_type": "stream",
       "stream": "stdout",
       "text": [
        "\n",
        "(('phi', 'opencl_gpu'), 9, 10000000.0, 64, 92.30793404579163)"
       ]
      },
      {
       "output_type": "stream",
       "stream": "stdout",
       "text": [
        "\n",
        "(('phi', 'opencl_gpu'), 10, 10000000.0, 64, 41.54520392417908)"
       ]
      },
      {
       "output_type": "stream",
       "stream": "stdout",
       "text": [
        "\n",
        "(('phi', 'opencl_gpu'), 11, 10000000.0, 64, 87.32593011856079)"
       ]
      },
      {
       "output_type": "stream",
       "stream": "stdout",
       "text": [
        "\n",
        "(('phi', 'opencl_gpu'), 12, 10000000.0, 64, 21.862487077713013)"
       ]
      },
      {
       "output_type": "stream",
       "stream": "stdout",
       "text": [
        "\n",
        "(('phi', 'opencl_gpu'), 0, 10000000.0, 128, 21.853506088256836)"
       ]
      },
      {
       "output_type": "stream",
       "stream": "stdout",
       "text": [
        "\n",
        "(('phi', 'opencl_gpu'), 1, 10000000.0, 128, 70.82857608795166)"
       ]
      },
      {
       "output_type": "stream",
       "stream": "stdout",
       "text": [
        "\n",
        "(('phi', 'opencl_gpu'), 2, 10000000.0, 128, 65.30594301223755)"
       ]
      },
      {
       "output_type": "stream",
       "stream": "stdout",
       "text": [
        "\n",
        "(('phi', 'opencl_gpu'), 3, 10000000.0, 128, 65.04349517822266)"
       ]
      },
      {
       "output_type": "stream",
       "stream": "stdout",
       "text": [
        "\n",
        "(('phi', 'opencl_gpu'), 4, 10000000.0, 128, 48.91936802864075)"
       ]
      },
      {
       "output_type": "stream",
       "stream": "stdout",
       "text": [
        "\n",
        "(('phi', 'opencl_gpu'), 5, 10000000.0, 128, 64.87335801124573)"
       ]
      },
      {
       "output_type": "stream",
       "stream": "stdout",
       "text": [
        "\n",
        "(('phi', 'opencl_gpu'), 6, 10000000.0, 128, 73.6370780467987)"
       ]
      },
      {
       "output_type": "stream",
       "stream": "stdout",
       "text": [
        "\n",
        "(('phi', 'opencl_gpu'), 7, 10000000.0, 128, 67.32572317123413)"
       ]
      },
      {
       "output_type": "stream",
       "stream": "stdout",
       "text": [
        "\n",
        "(('phi', 'opencl_gpu'), 8, 10000000.0, 128, 48.94522404670715)"
       ]
      },
      {
       "output_type": "stream",
       "stream": "stdout",
       "text": [
        "\n",
        "(('phi', 'opencl_gpu'), 9, 10000000.0, 128, 67.33154702186584)"
       ]
      },
      {
       "output_type": "stream",
       "stream": "stdout",
       "text": [
        "\n",
        "(('phi', 'opencl_gpu'), 10, 10000000.0, 128, 30.09007692337036)"
       ]
      },
      {
       "output_type": "stream",
       "stream": "stdout",
       "text": [
        "\n",
        "(('phi', 'opencl_gpu'), 11, 10000000.0, 128, 63.35606908798218)"
       ]
      },
      {
       "output_type": "stream",
       "stream": "stdout",
       "text": [
        "\n",
        "(('phi', 'opencl_gpu'), 12, 10000000.0, 128, 17.128741979599)"
       ]
      },
      {
       "output_type": "stream",
       "stream": "stdout",
       "text": [
        "\n",
        "(('phi', 'opencl_gpu'), 0, 10000000.0, 256, 17.72101593017578)"
       ]
      },
      {
       "output_type": "stream",
       "stream": "stdout",
       "text": [
        "\n",
        "(('phi', 'opencl_gpu'), 1, 10000000.0, 256, 52.51674199104309)"
       ]
      },
      {
       "output_type": "stream",
       "stream": "stdout",
       "text": [
        "\n",
        "(('phi', 'opencl_gpu'), 2, 10000000.0, 256, 53.173858880996704)"
       ]
      },
      {
       "output_type": "stream",
       "stream": "stdout",
       "text": [
        "\n",
        "(('phi', 'opencl_gpu'), 3, 10000000.0, 256, 53.27437496185303)"
       ]
      },
      {
       "output_type": "stream",
       "stream": "stdout",
       "text": [
        "\n",
        "(('phi', 'opencl_gpu'), 4, 10000000.0, 256, 39.861891984939575)"
       ]
      },
      {
       "output_type": "stream",
       "stream": "stdout",
       "text": [
        "\n",
        "(('phi', 'opencl_gpu'), 5, 10000000.0, 256, 52.16633915901184)"
       ]
      },
      {
       "output_type": "stream",
       "stream": "stdout",
       "text": [
        "\n",
        "(('phi', 'opencl_gpu'), 6, 10000000.0, 256, 59.95727515220642)"
       ]
      },
      {
       "output_type": "stream",
       "stream": "stdout",
       "text": [
        "\n",
        "(('phi', 'opencl_gpu'), 7, 10000000.0, 256, 54.937832832336426)"
       ]
      },
      {
       "output_type": "stream",
       "stream": "stdout",
       "text": [
        "\n",
        "(('phi', 'opencl_gpu'), 8, 10000000.0, 256, 39.73293709754944)"
       ]
      },
      {
       "output_type": "stream",
       "stream": "stdout",
       "text": [
        "\n",
        "(('phi', 'opencl_gpu'), 9, 10000000.0, 256, 55.26635384559631)"
       ]
      },
      {
       "output_type": "stream",
       "stream": "stdout",
       "text": [
        "\n",
        "(('phi', 'opencl_gpu'), 10, 10000000.0, 256, 24.19451093673706)"
       ]
      },
      {
       "output_type": "stream",
       "stream": "stdout",
       "text": [
        "\n",
        "(('phi', 'opencl_gpu'), 11, 10000000.0, 256, 52.125149965286255)"
       ]
      },
      {
       "output_type": "stream",
       "stream": "stdout",
       "text": [
        "\n",
        "(('phi', 'opencl_gpu'), 12, 10000000.0, 256, 14.163778066635132)"
       ]
      },
      {
       "output_type": "stream",
       "stream": "stdout",
       "text": [
        "\n",
        "(('phi', 'opencl_gpu'), 0, 10000000.0, 512, 18.039320945739746)"
       ]
      },
      {
       "output_type": "stream",
       "stream": "stdout",
       "text": [
        "\n",
        "(('phi', 'opencl_gpu'), 1, 10000000.0, 512, 58.11695098876953)"
       ]
      },
      {
       "output_type": "stream",
       "stream": "stdout",
       "text": [
        "\n",
        "(('phi', 'opencl_gpu'), 2, 10000000.0, 512, 52.95559906959534)"
       ]
      },
      {
       "output_type": "stream",
       "stream": "stdout",
       "text": [
        "\n",
        "(('phi', 'opencl_gpu'), 3, 10000000.0, 512, 53.267436027526855)"
       ]
      },
      {
       "output_type": "stream",
       "stream": "stdout",
       "text": [
        "\n",
        "(('phi', 'opencl_gpu'), 4, 10000000.0, 512, 39.73479890823364)"
       ]
      },
      {
       "output_type": "stream",
       "stream": "stdout",
       "text": [
        "\n",
        "(('phi', 'opencl_gpu'), 5, 10000000.0, 512, 52.1226589679718)"
       ]
      },
      {
       "output_type": "stream",
       "stream": "stdout",
       "text": [
        "\n",
        "(('phi', 'opencl_gpu'), 6, 10000000.0, 512, 57.61104202270508)"
       ]
      },
      {
       "output_type": "stream",
       "stream": "stdout",
       "text": [
        "\n",
        "(('phi', 'opencl_gpu'), 7, 10000000.0, 512, 55.31737303733826)"
       ]
      },
      {
       "output_type": "stream",
       "stream": "stdout",
       "text": [
        "\n",
        "(('phi', 'opencl_gpu'), 8, 10000000.0, 512, 39.410666942596436)"
       ]
      },
      {
       "output_type": "stream",
       "stream": "stdout",
       "text": [
        "\n",
        "(('phi', 'opencl_gpu'), 9, 10000000.0, 512, 55.126749992370605)"
       ]
      },
      {
       "output_type": "stream",
       "stream": "stdout",
       "text": [
        "\n",
        "(('phi', 'opencl_gpu'), 10, 10000000.0, 512, 24.245884895324707)"
       ]
      },
      {
       "output_type": "stream",
       "stream": "stdout",
       "text": [
        "\n",
        "(('phi', 'opencl_gpu'), 11, 10000000.0, 512, 53.21885108947754)"
       ]
      },
      {
       "output_type": "stream",
       "stream": "stdout",
       "text": [
        "\n",
        "(('phi', 'opencl_gpu'), 12, 10000000.0, 512, 13.876678943634033)"
       ]
      },
      {
       "output_type": "stream",
       "stream": "stdout",
       "text": [
        "\n"
       ]
      }
     ],
     "prompt_number": 38
    },
    {
     "cell_type": "code",
     "collapsed": false,
     "input": [
      "results = []\n",
      "for p,pid in zip(platforms,platform_names): \n",
      "    platform_task_benchmark(p,pid,option_tasks,paths,queue,output_queue,)\n",
      "    \n",
      "    while not(output_queue.empty()): print(output_queue.get())\n",
      "    while not(queue.empty()): results += [queue.get()]"
     ],
     "language": "python",
     "metadata": {},
     "outputs": [
      {
       "output_type": "stream",
       "stream": "stdout",
       "text": [
        " ssh ee-snowball0 source .profile; bash -c \" shopt -s huponexit; /home/gi11/workspace/ForwardFinancialFramework/Platforms/OpenCLGPU/opencl_code/mc_solver_opencl_gpu_ee_snowball0_he_1_eu_1 4096 0 8 4096 10000000.0 372341302 1 1 0.05 100 0.09 1 -0.3 2 0.09 1.0 -0.3 0.0 0.953939201417 5 1.0 100 \"\n",
        " ssh ee-snowball0 source .profile; bash -c \" shopt -s huponexit; /home/gi11/workspace/ForwardFinancialFramework/Platforms/OpenCLGPU/opencl_code/mc_solver_opencl_gpu_ee_snowball0_he_1_ba_1 4096 0 8 4096 10000000.0 1072253564 1 1 0.05 100 0.09 1 -0.3 2 0.09 1.0 -0.3 0.0 0.953939201417 5 1.0 100 4096 120.0 1.0 0.0 \""
       ]
      },
      {
       "ename": "KeyboardInterrupt",
       "evalue": "",
       "output_type": "pyerr",
       "traceback": [
        "\u001b[0;31m---------------------------------------------------------------------------\u001b[0m\n\u001b[0;31mKeyboardInterrupt\u001b[0m                         Traceback (most recent call last)",
        "\u001b[0;32m<ipython-input-13-3c5cdcfd5a6f>\u001b[0m in \u001b[0;36m<module>\u001b[0;34m()\u001b[0m\n\u001b[1;32m      1\u001b[0m \u001b[0mresults\u001b[0m \u001b[0;34m=\u001b[0m \u001b[0;34m[\u001b[0m\u001b[0;34m]\u001b[0m\u001b[0;34m\u001b[0m\u001b[0m\n\u001b[1;32m      2\u001b[0m \u001b[0;32mfor\u001b[0m \u001b[0mp\u001b[0m\u001b[0;34m,\u001b[0m\u001b[0mpid\u001b[0m \u001b[0;32min\u001b[0m \u001b[0mzip\u001b[0m\u001b[0;34m(\u001b[0m\u001b[0mplatforms\u001b[0m\u001b[0;34m,\u001b[0m\u001b[0mplatform_names\u001b[0m\u001b[0;34m)\u001b[0m\u001b[0;34m:\u001b[0m\u001b[0;34m\u001b[0m\u001b[0m\n\u001b[0;32m----> 3\u001b[0;31m     \u001b[0mplatform_task_benchmark\u001b[0m\u001b[0;34m(\u001b[0m\u001b[0mp\u001b[0m\u001b[0;34m,\u001b[0m\u001b[0mpid\u001b[0m\u001b[0;34m,\u001b[0m\u001b[0moption_tasks\u001b[0m\u001b[0;34m,\u001b[0m\u001b[0mpaths\u001b[0m\u001b[0;34m,\u001b[0m\u001b[0mqueue\u001b[0m\u001b[0;34m,\u001b[0m\u001b[0moutput_queue\u001b[0m\u001b[0;34m,\u001b[0m\u001b[0;34m)\u001b[0m\u001b[0;34m\u001b[0m\u001b[0m\n\u001b[0m\u001b[1;32m      4\u001b[0m \u001b[0;34m\u001b[0m\u001b[0m\n\u001b[1;32m      5\u001b[0m     \u001b[0;32mwhile\u001b[0m \u001b[0;32mnot\u001b[0m\u001b[0;34m(\u001b[0m\u001b[0moutput_queue\u001b[0m\u001b[0;34m.\u001b[0m\u001b[0mempty\u001b[0m\u001b[0;34m(\u001b[0m\u001b[0;34m)\u001b[0m\u001b[0;34m)\u001b[0m\u001b[0;34m:\u001b[0m \u001b[0;32mprint\u001b[0m\u001b[0;34m(\u001b[0m\u001b[0moutput_queue\u001b[0m\u001b[0;34m.\u001b[0m\u001b[0mget\u001b[0m\u001b[0;34m(\u001b[0m\u001b[0;34m)\u001b[0m\u001b[0;34m)\u001b[0m\u001b[0;34m\u001b[0m\u001b[0m\n",
        "\u001b[0;32m<ipython-input-10-1e65c84d6096>\u001b[0m in \u001b[0;36mplatform_task_benchmark\u001b[0;34m(platform, platform_name, option_tasks, paths, queue, output_queue)\u001b[0m\n\u001b[1;32m     21\u001b[0m                     \u001b[0mmc_solver\u001b[0m\u001b[0;34m.\u001b[0m\u001b[0msolver_metadata\u001b[0m\u001b[0;34m[\u001b[0m\u001b[0;34m\"paths\"\u001b[0m\u001b[0;34m]\u001b[0m \u001b[0;34m=\u001b[0m \u001b[0mpaths\u001b[0m\u001b[0;34m\u001b[0m\u001b[0m\n\u001b[1;32m     22\u001b[0m \u001b[0;34m\u001b[0m\u001b[0m\n\u001b[0;32m---> 23\u001b[0;31m                     \u001b[0mresult\u001b[0m \u001b[0;34m=\u001b[0m \u001b[0mmc_solver\u001b[0m\u001b[0;34m.\u001b[0m\u001b[0mexecute\u001b[0m\u001b[0;34m(\u001b[0m\u001b[0mdebug\u001b[0m\u001b[0;34m=\u001b[0m\u001b[0mTrue\u001b[0m\u001b[0;34m)\u001b[0m \u001b[0;31m#timeout=timeout\u001b[0m\u001b[0;34m\u001b[0m\u001b[0m\n\u001b[0m\u001b[1;32m     24\u001b[0m \u001b[0;34m\u001b[0m\u001b[0m\n\u001b[1;32m     25\u001b[0m                     \u001b[0moutput_queue\u001b[0m\u001b[0;34m.\u001b[0m\u001b[0mput_nowait\u001b[0m\u001b[0;34m(\u001b[0m\u001b[0;34m(\u001b[0m\u001b[0mplatform_name\u001b[0m\u001b[0;34m,\u001b[0m\u001b[0moption_number\u001b[0m\u001b[0;34m,\u001b[0m\u001b[0mpaths\u001b[0m\u001b[0;34m,\u001b[0m\u001b[0mi\u001b[0m\u001b[0;34m,\u001b[0m\u001b[0mresult\u001b[0m\u001b[0;34m[\u001b[0m\u001b[0;34m-\u001b[0m\u001b[0;36m1\u001b[0m\u001b[0;34m]\u001b[0m\u001b[0;34m/\u001b[0m\u001b[0;36m1e6\u001b[0m\u001b[0;34m)\u001b[0m\u001b[0;34m)\u001b[0m\u001b[0;34m\u001b[0m\u001b[0m\n",
        "\u001b[0;32m/home/gordon/workspace/ForwardFinancialFramework/Platforms/MulticoreCPU/MulticoreCPU_MonteCarlo.pyc\u001b[0m in \u001b[0;36mexecute\u001b[0;34m(self, cleanup, debug, seed, timeout)\u001b[0m\n\u001b[1;32m    637\u001b[0m     \u001b[0menv\u001b[0m \u001b[0;34m=\u001b[0m \u001b[0mos\u001b[0m\u001b[0;34m.\u001b[0m\u001b[0menviron\u001b[0m\u001b[0;34m\u001b[0m\u001b[0m\n\u001b[1;32m    638\u001b[0m     \u001b[0mstart\u001b[0m \u001b[0;34m=\u001b[0m \u001b[0mtime\u001b[0m\u001b[0;34m.\u001b[0m\u001b[0mtime\u001b[0m\u001b[0;34m(\u001b[0m\u001b[0;34m)\u001b[0m \u001b[0;31m#Wall-time is measured by framework, as well as in the generated application to measure overhead in calling code\u001b[0m\u001b[0;34m\u001b[0m\u001b[0m\n\u001b[0;32m--> 639\u001b[0;31m     \u001b[0mresults\u001b[0m \u001b[0;34m=\u001b[0m \u001b[0msubprocess\u001b[0m\u001b[0;34m.\u001b[0m\u001b[0mcheck_output\u001b[0m\u001b[0;34m(\u001b[0m\u001b[0mrun_cmd\u001b[0m\u001b[0;34m,\u001b[0m\u001b[0menv\u001b[0m\u001b[0;34m=\u001b[0m\u001b[0menv\u001b[0m\u001b[0;34m,\u001b[0m\u001b[0mtimeout\u001b[0m\u001b[0;34m=\u001b[0m\u001b[0mtimeout\u001b[0m\u001b[0;34m)\u001b[0m\u001b[0;34m\u001b[0m\u001b[0m\n\u001b[0m\u001b[1;32m    640\u001b[0m     \u001b[0mfinish\u001b[0m \u001b[0;34m=\u001b[0m \u001b[0mtime\u001b[0m\u001b[0;34m.\u001b[0m\u001b[0mtime\u001b[0m\u001b[0;34m(\u001b[0m\u001b[0;34m)\u001b[0m\u001b[0;34m\u001b[0m\u001b[0m\n\u001b[1;32m    641\u001b[0m \u001b[0;34m\u001b[0m\u001b[0m\n",
        "\u001b[0;32m/usr/local/lib/python2.7/dist-packages/subprocess32.pyc\u001b[0m in \u001b[0;36mcheck_output\u001b[0;34m(*popenargs, **kwargs)\u001b[0m\n\u001b[1;32m    626\u001b[0m     \u001b[0mprocess\u001b[0m \u001b[0;34m=\u001b[0m \u001b[0mPopen\u001b[0m\u001b[0;34m(\u001b[0m\u001b[0mstdout\u001b[0m\u001b[0;34m=\u001b[0m\u001b[0mPIPE\u001b[0m\u001b[0;34m,\u001b[0m \u001b[0;34m*\u001b[0m\u001b[0mpopenargs\u001b[0m\u001b[0;34m,\u001b[0m \u001b[0;34m**\u001b[0m\u001b[0mkwargs\u001b[0m\u001b[0;34m)\u001b[0m\u001b[0;34m\u001b[0m\u001b[0m\n\u001b[1;32m    627\u001b[0m     \u001b[0;32mtry\u001b[0m\u001b[0;34m:\u001b[0m\u001b[0;34m\u001b[0m\u001b[0m\n\u001b[0;32m--> 628\u001b[0;31m         \u001b[0moutput\u001b[0m\u001b[0;34m,\u001b[0m \u001b[0munused_err\u001b[0m \u001b[0;34m=\u001b[0m \u001b[0mprocess\u001b[0m\u001b[0;34m.\u001b[0m\u001b[0mcommunicate\u001b[0m\u001b[0;34m(\u001b[0m\u001b[0mtimeout\u001b[0m\u001b[0;34m=\u001b[0m\u001b[0mtimeout\u001b[0m\u001b[0;34m)\u001b[0m\u001b[0;34m\u001b[0m\u001b[0m\n\u001b[0m\u001b[1;32m    629\u001b[0m     \u001b[0;32mexcept\u001b[0m \u001b[0mTimeoutExpired\u001b[0m\u001b[0;34m:\u001b[0m\u001b[0;34m\u001b[0m\u001b[0m\n\u001b[1;32m    630\u001b[0m         \u001b[0mprocess\u001b[0m\u001b[0;34m.\u001b[0m\u001b[0mkill\u001b[0m\u001b[0;34m(\u001b[0m\u001b[0;34m)\u001b[0m\u001b[0;34m\u001b[0m\u001b[0m\n",
        "\u001b[0;32m/usr/local/lib/python2.7/dist-packages/subprocess32.pyc\u001b[0m in \u001b[0;36mcommunicate\u001b[0;34m(self, input, timeout)\u001b[0m\n\u001b[1;32m    913\u001b[0m                 \u001b[0mself\u001b[0m\u001b[0;34m.\u001b[0m\u001b[0mstdin\u001b[0m\u001b[0;34m.\u001b[0m\u001b[0mclose\u001b[0m\u001b[0;34m(\u001b[0m\u001b[0;34m)\u001b[0m\u001b[0;34m\u001b[0m\u001b[0m\n\u001b[1;32m    914\u001b[0m             \u001b[0;32melif\u001b[0m \u001b[0mself\u001b[0m\u001b[0;34m.\u001b[0m\u001b[0mstdout\u001b[0m\u001b[0;34m:\u001b[0m\u001b[0;34m\u001b[0m\u001b[0m\n\u001b[0;32m--> 915\u001b[0;31m                 \u001b[0mstdout\u001b[0m \u001b[0;34m=\u001b[0m \u001b[0m_eintr_retry_call\u001b[0m\u001b[0;34m(\u001b[0m\u001b[0mself\u001b[0m\u001b[0;34m.\u001b[0m\u001b[0mstdout\u001b[0m\u001b[0;34m.\u001b[0m\u001b[0mread\u001b[0m\u001b[0;34m)\u001b[0m\u001b[0;34m\u001b[0m\u001b[0m\n\u001b[0m\u001b[1;32m    916\u001b[0m                 \u001b[0mself\u001b[0m\u001b[0;34m.\u001b[0m\u001b[0mstdout\u001b[0m\u001b[0;34m.\u001b[0m\u001b[0mclose\u001b[0m\u001b[0;34m(\u001b[0m\u001b[0;34m)\u001b[0m\u001b[0;34m\u001b[0m\u001b[0m\n\u001b[1;32m    917\u001b[0m             \u001b[0;32melif\u001b[0m \u001b[0mself\u001b[0m\u001b[0;34m.\u001b[0m\u001b[0mstderr\u001b[0m\u001b[0;34m:\u001b[0m\u001b[0;34m\u001b[0m\u001b[0m\n",
        "\u001b[0;32m/usr/local/lib/python2.7/dist-packages/subprocess32.pyc\u001b[0m in \u001b[0;36m_eintr_retry_call\u001b[0;34m(func, *args)\u001b[0m\n\u001b[1;32m    541\u001b[0m     \u001b[0;32mwhile\u001b[0m \u001b[0mTrue\u001b[0m\u001b[0;34m:\u001b[0m\u001b[0;34m\u001b[0m\u001b[0m\n\u001b[1;32m    542\u001b[0m         \u001b[0;32mtry\u001b[0m\u001b[0;34m:\u001b[0m\u001b[0;34m\u001b[0m\u001b[0m\n\u001b[0;32m--> 543\u001b[0;31m             \u001b[0;32mreturn\u001b[0m \u001b[0mfunc\u001b[0m\u001b[0;34m(\u001b[0m\u001b[0;34m*\u001b[0m\u001b[0margs\u001b[0m\u001b[0;34m)\u001b[0m\u001b[0;34m\u001b[0m\u001b[0m\n\u001b[0m\u001b[1;32m    544\u001b[0m         \u001b[0;32mexcept\u001b[0m \u001b[0;34m(\u001b[0m\u001b[0mOSError\u001b[0m\u001b[0;34m,\u001b[0m \u001b[0mIOError\u001b[0m\u001b[0;34m)\u001b[0m\u001b[0;34m,\u001b[0m \u001b[0me\u001b[0m\u001b[0;34m:\u001b[0m\u001b[0;34m\u001b[0m\u001b[0m\n\u001b[1;32m    545\u001b[0m             \u001b[0;32mif\u001b[0m \u001b[0me\u001b[0m\u001b[0;34m.\u001b[0m\u001b[0merrno\u001b[0m \u001b[0;34m==\u001b[0m \u001b[0merrno\u001b[0m\u001b[0;34m.\u001b[0m\u001b[0mEINTR\u001b[0m\u001b[0;34m:\u001b[0m\u001b[0;34m\u001b[0m\u001b[0m\n",
        "\u001b[0;31mKeyboardInterrupt\u001b[0m: "
       ]
      },
      {
       "output_type": "stream",
       "stream": "stdout",
       "text": [
        "\n"
       ]
      }
     ],
     "prompt_number": 13
    },
    {
     "cell_type": "markdown",
     "metadata": {},
     "source": [
      "Processing results into a 3d matrix of platform-threads-task runtimes"
     ]
    },
    {
     "cell_type": "code",
     "collapsed": false,
     "input": [
      "thread_steps = int(numpy.ceil(numpy.log2(1024)))\n",
      "\n",
      "benchmark_results = numpy.zeros((len(platforms),thread_steps,len(option_tasks)))\n",
      "for r in results:\n",
      "    platform_name,option_number,threads,latency = r\n",
      "    platform_number = platform_names.index(platform_name)\n",
      "    thread_step_number = int(numpy.ceil(numpy.log2(threads)))\n",
      "    benchmark_results[platform_number,thread_step_number,option_number] = latency"
     ],
     "language": "python",
     "metadata": {},
     "outputs": [
      {
       "output_type": "stream",
       "stream": "stdout",
       "text": [
        "(('ee-snowball1', 'opencl_gpu'), 0, 1, 43.90792489051819)\n",
        "(('amazon-gpu-0', 'opencl_gpu'), 0, 1, 44.167729139328)\n",
        "(('ee-snowball1', 'opencl_gpu'), 1, 1, 46.36630082130432)\n",
        "(('amazon-gpu-0', 'opencl_gpu'), 1, 1, 46.705360889434814)\n",
        "(('ee-snowball0', 'opencl_gpu'), 0, 1, 106.67780995368958)\n",
        "(('ee-snowball1', 'opencl_gpu'), 2, 1, 46.42256498336792)\n",
        "(('amazon-gpu-0', 'opencl_gpu'), 2, 1, 46.8883330821991)\n",
        "(('ee-snowball1', 'opencl_gpu'), 3, 1, 45.76175808906555)\n",
        "(('amazon-gpu-0', 'opencl_gpu'), 3, 1, 46.02132487297058)\n",
        "(('ee-snowball1', 'opencl_gpu'), 4, 1, 45.645861864089966)\n",
        "(('amazon-gpu-0', 'opencl_gpu'), 4, 1, 45.98850178718567)\n",
        "(('ee-snowball0', 'opencl_gpu'), 1, 1, 166.03616213798523)\n",
        "(('ee-snowball1', 'opencl_gpu'), 5, 1, 45.661495208740234)\n",
        "(('amazon-gpu-0', 'opencl_gpu'), 5, 1, 46.04022407531738)\n",
        "(('ee-snowball1', 'opencl_gpu'), 6, 1, 45.912230014801025)\n",
        "(('amazon-gpu-0', 'opencl_gpu'), 6, 1, 46.04320502281189)\n",
        "(('ee-snowball1', 'opencl_gpu'), 7, 1, 45.72721195220947)\n",
        "(('amazon-gpu-0', 'opencl_gpu'), 7, 1, 45.928799867630005)\n",
        "(('ee-snowball1', 'opencl_gpu'), 8, 1, 45.714229106903076)\n",
        "(('amazon-gpu-0', 'opencl_gpu'), 8, 1, 45.9300811290741)\n",
        "(('ee-snowball0', 'opencl_gpu'), 2, 1, 166.02778601646423)\n",
        "(('ee-snowball1', 'opencl_gpu'), 9, 1, 46.112143993377686)\n",
        "(('amazon-gpu-0', 'opencl_gpu'), 9, 1, 45.99001216888428)\n",
        "(('ee-snowball1', 'opencl_gpu'), 10, 1, 46.44577884674072)\n",
        "(('amazon-gpu-0', 'opencl_gpu'), 10, 1, 46.72472906112671)\n",
        "(('ee-snowball1', 'opencl_gpu'), 11, 1, 45.34430003166199)\n",
        "(('amazon-gpu-0', 'opencl_gpu'), 11, 1, 45.648858070373535)\n",
        "(('ee-snowball1', 'opencl_gpu'), 12, 1, 35.994688987731934)\n",
        "(('amazon-gpu-0', 'opencl_gpu'), 12, 1, 35.318572998046875)\n",
        "(('ee-snowball1', 'opencl_gpu'), 0, 2, 22.797960996627808)\n",
        "(('amazon-gpu-0', 'opencl_gpu'), 0, 2, 22.72313690185547)\n",
        "(('ee-snowball0', 'opencl_gpu'), 3, 1, 185.85979580879211)\n",
        "(('ee-snowball1', 'opencl_gpu'), 1, 2, 24.047451972961426)\n",
        "(('amazon-gpu-0', 'opencl_gpu'), 1, 2, 23.946621894836426)\n",
        "(('ee-snowball1', 'opencl_gpu'), 2, 2, 23.965487003326416)\n",
        "(('amazon-gpu-0', 'opencl_gpu'), 2, 2, 23.932741165161133)\n",
        "(('ee-snowball1', 'opencl_gpu'), 3, 2, 23.6620090007782)\n",
        "(('amazon-gpu-0', 'opencl_gpu'), 3, 2, 23.622431993484497)\n",
        "(('ee-snowball1', 'opencl_gpu'), 4, 2, 23.747771978378296)\n",
        "(('amazon-gpu-0', 'opencl_gpu'), 4, 2, 23.648324012756348)\n",
        "(('ee-snowball1', 'opencl_gpu'), 5, 2, 24.17345094680786)\n",
        "(('amazon-gpu-0', 'opencl_gpu'), 5, 2, 23.667153120040894)\n",
        "(('ee-snowball1', 'opencl_gpu'), 6, 2, 23.80367684364319)\n",
        "(('amazon-gpu-0', 'opencl_gpu'), 6, 2, 23.672935009002686)\n",
        "(('ee-snowball1', 'opencl_gpu'), 7, 2, 23.75043797492981)\n",
        "(('amazon-gpu-0', 'opencl_gpu'), 7, 2, 23.64749789237976)\n",
        "(('ee-snowball1', 'opencl_gpu'), 8, 2, 23.753889083862305)\n",
        "(('amazon-gpu-0', 'opencl_gpu'), 8, 2, 23.657377004623413)\n",
        "(('ee-snowball0', 'opencl_gpu'), 4, 1, 184.50760984420776)\n",
        "(('ee-snowball1', 'opencl_gpu'), 9, 2, 23.573144912719727)\n",
        "(('amazon-gpu-0', 'opencl_gpu'), 9, 2, 23.59816598892212)\n",
        "(('ee-snowball1', 'opencl_gpu'), 10, 2, 24.12866187095642)\n",
        "(('amazon-gpu-0', 'opencl_gpu'), 10, 2, 23.982646942138672)\n",
        "(('ee-snowball1', 'opencl_gpu'), 11, 2, 23.58290195465088)\n",
        "(('amazon-gpu-0', 'opencl_gpu'), 11, 2, 23.487586975097656)\n",
        "(('ee-snowball1', 'opencl_gpu'), 12, 2, 18.46182918548584)\n",
        "(('amazon-gpu-0', 'opencl_gpu'), 12, 2, 18.291272163391113)\n",
        "(('ee-snowball1', 'opencl_gpu'), 0, 4, 12.282355070114136)\n",
        "(('amazon-gpu-0', 'opencl_gpu'), 0, 4, 11.989644050598145)\n",
        "(('ee-snowball1', 'opencl_gpu'), 1, 4, 12.949147939682007)\n",
        "(('amazon-gpu-0', 'opencl_gpu'), 1, 4, 12.617794036865234)\n",
        "(('amazon-gpu-0', 'opencl_gpu'), 2, 4, 12.618795156478882)\n",
        "(('ee-snowball1', 'opencl_gpu'), 2, 4, 12.831485033035278)\n",
        "(('amazon-gpu-0', 'opencl_gpu'), 3, 4, 12.466405868530273)\n",
        "(('ee-snowball1', 'opencl_gpu'), 3, 4, 12.983903169631958)\n",
        "(('amazon-gpu-0', 'opencl_gpu'), 4, 4, 12.46771502494812)\n",
        "(('ee-snowball1', 'opencl_gpu'), 4, 4, 12.879204988479614)\n",
        "(('amazon-gpu-0', 'opencl_gpu'), 5, 4, 12.494713068008423)\n",
        "(('ee-snowball1', 'opencl_gpu'), 5, 4, 12.847885847091675)\n",
        "(('amazon-gpu-0', 'opencl_gpu'), 6, 4, 12.459916114807129)\n",
        "(('ee-snowball1', 'opencl_gpu'), 6, 4, 12.748824119567871)\n",
        "(('amazon-gpu-0', 'opencl_gpu'), 7, 4, 12.458086013793945)\n",
        "(('ee-snowball1', 'opencl_gpu'), 7, 4, 12.89932894706726)\n",
        "(('ee-snowball0', 'opencl_gpu'), 5, 1, 185.33797097206116)\n",
        "(('amazon-gpu-0', 'opencl_gpu'), 8, 4, 12.449678897857666)\n",
        "(('ee-snowball1', 'opencl_gpu'), 8, 4, 12.864237070083618)\n",
        "(('amazon-gpu-0', 'opencl_gpu'), 9, 4, 12.467395067214966)\n",
        "(('ee-snowball1', 'opencl_gpu'), 9, 4, 12.714986801147461)\n",
        "(('amazon-gpu-0', 'opencl_gpu'), 10, 4, 12.605233192443848)\n",
        "(('ee-snowball1', 'opencl_gpu'), 10, 4, 12.99908709526062)\n",
        "(('amazon-gpu-0', 'opencl_gpu'), 11, 4, 12.386634826660156)\n",
        "(('ee-snowball1', 'opencl_gpu'), 11, 4, 12.83098292350769)\n",
        "(('amazon-gpu-0', 'opencl_gpu'), 12, 4, 9.748422861099243)\n",
        "(('ee-snowball1', 'opencl_gpu'), 12, 4, 10.319556951522827)\n",
        "(('amazon-gpu-0', 'opencl_gpu'), 0, 8, 6.606282949447632)\n",
        "(('amazon-gpu-0', 'opencl_gpu'), 1, 8, 6.914952039718628)\n",
        "(('ee-snowball1', 'opencl_gpu'), 0, 8, 12.206958055496216)\n",
        "(('amazon-gpu-0', 'opencl_gpu'), 2, 8, 6.9322450160980225)\n",
        "(('amazon-gpu-0', 'opencl_gpu'), 3, 8, 6.8435399532318115)\n",
        "(('ee-snowball1', 'opencl_gpu'), 1, 8, 12.801443099975586)\n",
        "(('amazon-gpu-0', 'opencl_gpu'), 4, 8, 6.825403928756714)\n",
        "(('amazon-gpu-0', 'opencl_gpu'), 5, 8, 6.833513021469116)\n",
        "(('ee-snowball1', 'opencl_gpu'), 2, 8, 12.833960056304932)\n",
        "(('amazon-gpu-0', 'opencl_gpu'), 6, 8, 6.82371187210083)\n",
        "(('phi', 'opencl_gpu'), 0, 1, 1098.8361670970917)\n",
        "(('ee-snowball1', 'opencl_gpu'), 3, 8, 12.638049840927124)\n",
        "(('amazon-gpu-0', 'opencl_gpu'), 7, 8, 6.840517997741699)\n",
        "(('amazon-gpu-0', 'opencl_gpu'), 8, 8, 6.834204912185669)\n",
        "(('ee-snowball1', 'opencl_gpu'), 4, 8, 12.615571022033691)\n",
        "(('amazon-gpu-0', 'opencl_gpu'), 9, 8, 6.833575963973999)\n",
        "(('amazon-gpu-0', 'opencl_gpu'), 10, 8, 6.938135147094727)\n",
        "(('ee-snowball1', 'opencl_gpu'), 5, 8, 12.690858125686646)\n",
        "(('amazon-gpu-0', 'opencl_gpu'), 11, 8, 6.817406177520752)\n",
        "(('amazon-gpu-0', 'opencl_gpu'), 12, 8, 5.501617908477783)\n",
        "(('ee-snowball1', 'opencl_gpu'), 6, 8, 12.731564044952393)\n",
        "(('amazon-gpu-0', 'opencl_gpu'), 0, 16, 6.617010831832886)\n",
        "(('amazon-gpu-0', 'opencl_gpu'), 1, 16, 6.921091079711914)\n",
        "(('ee-snowball1', 'opencl_gpu'), 7, 8, 12.713969945907593)\n",
        "(('amazon-gpu-0', 'opencl_gpu'), 2, 16, 6.936537981033325)\n",
        "(('amazon-gpu-0', 'opencl_gpu'), 3, 16, 6.839011192321777)\n",
        "(('ee-snowball1', 'opencl_gpu'), 8, 8, 12.950222969055176)\n",
        "(('amazon-gpu-0', 'opencl_gpu'), 4, 16, 6.8383870124816895)\n",
        "(('amazon-gpu-0', 'opencl_gpu'), 5, 16, 6.843310117721558)\n",
        "(('ee-snowball0', 'opencl_gpu'), 6, 1, 184.733304977417)\n",
        "(('ee-snowball1', 'opencl_gpu'), 9, 8, 12.648194074630737)\n",
        "(('amazon-gpu-0', 'opencl_gpu'), 6, 16, 6.8440330028533936)\n",
        "(('amazon-gpu-0', 'opencl_gpu'), 7, 16, 6.824995994567871)\n",
        "(('ee-snowball1', 'opencl_gpu'), 10, 8, 12.831544876098633)\n",
        "(('amazon-gpu-0', 'opencl_gpu'), 8, 16, 6.842901945114136)\n",
        "(('amazon-gpu-0', 'opencl_gpu'), 9, 16, 6.86126708984375)\n",
        "(('ee-snowball1', 'opencl_gpu'), 11, 8, 12.580047130584717)\n",
        "(('amazon-gpu-0', 'opencl_gpu'), 10, 16, 6.911007881164551)\n",
        "(('ee-snowball1', 'opencl_gpu'), 12, 8, 12.033460140228271)\n",
        "(('amazon-gpu-0', 'opencl_gpu'), 11, 16, 6.806055068969727)\n",
        "(('amazon-gpu-0', 'opencl_gpu'), 12, 16, 5.504833936691284)\n",
        "(('ee-snowball0', 'opencl_gpu'), 7, 1, 185.24129700660706)\n",
        "(('ee-snowball0', 'opencl_gpu'), 8, 1, 184.42460012435913)\n",
        "(('ee-snowball0', 'opencl_gpu'), 9, 1, 185.10724306106567)\n",
        "(('ee-snowball0', 'opencl_gpu'), 10, 1, 166.26753211021423)\n",
        "(('ee-snowball0', 'opencl_gpu'), 11, 1, 181.9509630203247)\n",
        "(('ee-snowball0', 'opencl_gpu'), 12, 1, 80.53244590759277)\n",
        "(('ee-snowball0', 'opencl_gpu'), 0, 2, 53.99671506881714)\n",
        "(('ee-snowball0', 'opencl_gpu'), 1, 2, 83.6829571723938)\n",
        "(('ee-snowball0', 'opencl_gpu'), 2, 2, 83.71528482437134)\n",
        "(('ee-snowball0', 'opencl_gpu'), 3, 2, 93.20002698898315)\n",
        "(('ee-snowball0', 'opencl_gpu'), 4, 2, 92.92477703094482)\n",
        "(('ee-snowball0', 'opencl_gpu'), 5, 2, 94.17271399497986)\n",
        "(('ee-snowball0', 'opencl_gpu'), 6, 2, 93.10470390319824)\n",
        "(('ee-snowball0', 'opencl_gpu'), 7, 2, 93.04220795631409)\n",
        "(('ee-snowball0', 'opencl_gpu'), 8, 2, 92.86696100234985)\n",
        "(('ee-snowball0', 'opencl_gpu'), 9, 2, 92.98276400566101)\n",
        "(('ee-snowball0', 'opencl_gpu'), 10, 2, 83.75711703300476)\n",
        "(('ee-snowball0', 'opencl_gpu'), 11, 2, 91.78349709510803)\n",
        "(('ee-snowball0', 'opencl_gpu'), 12, 2, 40.70573902130127)\n",
        "(('ee-snowball0', 'opencl_gpu'), 0, 4, 27.66963815689087)\n",
        "(('ee-snowball0', 'opencl_gpu'), 1, 4, 42.50168704986572)\n",
        "(('ee-snowball0', 'opencl_gpu'), 2, 4, 42.570926904678345)\n",
        "(('ee-snowball0', 'opencl_gpu'), 3, 4, 47.237606048583984)\n",
        "(('ee-snowball0', 'opencl_gpu'), 4, 4, 47.32109308242798)\n",
        "(('ee-snowball0', 'opencl_gpu'), 5, 4, 47.32945990562439)\n",
        "(('ee-snowball0', 'opencl_gpu'), 6, 4, 47.20154094696045)\n",
        "(('ee-snowball0', 'opencl_gpu'), 7, 4, 47.18820285797119)\n",
        "(('ee-snowball0', 'opencl_gpu'), 8, 4, 47.10705208778381)\n",
        "(('ee-snowball0', 'opencl_gpu'), 9, 4, 47.24864912033081)\n",
        "(('ee-snowball0', 'opencl_gpu'), 10, 4, 42.42967391014099)\n",
        "(('ee-snowball0', 'opencl_gpu'), 11, 4, 46.371599197387695)\n",
        "(('ee-snowball0', 'opencl_gpu'), 12, 4, 21.077908992767334)\n",
        "(('ee-snowball0', 'opencl_gpu'), 0, 8, 14.384172916412354)\n",
        "(('ee-snowball0', 'opencl_gpu'), 1, 8, 21.803850173950195)\n",
        "(('ee-snowball0', 'opencl_gpu'), 2, 8, 21.98524785041809)\n",
        "(('ee-snowball0', 'opencl_gpu'), 3, 8, 24.318009853363037)\n",
        "(('ee-snowball0', 'opencl_gpu'), 4, 8, 24.102513074874878)\n",
        "(('ee-snowball0', 'opencl_gpu'), 5, 8, 24.202571868896484)\n",
        "(('ee-snowball0', 'opencl_gpu'), 6, 8, 24.30245018005371)\n",
        "(('ee-snowball0', 'opencl_gpu'), 7, 8, 24.31092095375061)\n",
        "(('ee-snowball0', 'opencl_gpu'), 8, 8, 24.0332350730896)\n",
        "(('ee-snowball0', 'opencl_gpu'), 9, 8, 24.136168956756592)\n",
        "(('ee-snowball0', 'opencl_gpu'), 10, 8, 21.84188485145569)\n",
        "(('ee-snowball0', 'opencl_gpu'), 11, 8, 23.80210304260254)\n",
        "(('ee-snowball0', 'opencl_gpu'), 12, 8, 11.119545936584473)\n",
        "(('ee-snowball0', 'opencl_gpu'), 0, 16, 10.167591094970703)\n",
        "(('ee-snowball0', 'opencl_gpu'), 1, 16, 14.968684196472168)\n",
        "(('ee-snowball0', 'opencl_gpu'), 2, 16, 14.916202068328857)\n",
        "(('ee-snowball0', 'opencl_gpu'), 3, 16, 16.443411111831665)\n",
        "(('ee-snowball0', 'opencl_gpu'), 4, 16, 16.427403926849365)\n",
        "(('ee-snowball0', 'opencl_gpu'), 5, 16, 16.49492907524109)\n",
        "(('ee-snowball0', 'opencl_gpu'), 6, 16, 16.54327893257141)\n",
        "(('ee-snowball0', 'opencl_gpu'), 7, 16, 17.119346141815186)\n",
        "(('ee-snowball0', 'opencl_gpu'), 8, 16, 16.559983015060425)\n",
        "(('ee-snowball0', 'opencl_gpu'), 9, 16, 16.55263590812683)\n",
        "(('ee-snowball0', 'opencl_gpu'), 10, 16, 14.910279989242554)\n",
        "(('ee-snowball0', 'opencl_gpu'), 11, 16, 16.277602910995483)\n",
        "(('ee-snowball0', 'opencl_gpu'), 12, 16, 7.938875913619995)\n",
        "(('ee-snowball0', 'opencl_gpu'), 0, 32, 9.911171913146973)\n",
        "(('ee-snowball0', 'opencl_gpu'), 1, 32, 14.840038061141968)\n",
        "(('ee-snowball0', 'opencl_gpu'), 2, 32, 14.927087783813477)\n",
        "(('ee-snowball0', 'opencl_gpu'), 3, 32, 16.505407094955444)\n",
        "(('ee-snowball0', 'opencl_gpu'), 4, 32, 16.450942039489746)\n",
        "(('ee-snowball0', 'opencl_gpu'), 5, 32, 16.48576807975769)\n",
        "(('ee-snowball0', 'opencl_gpu'), 6, 32, 16.529357194900513)\n",
        "(('ee-snowball0', 'opencl_gpu'), 7, 32, 16.51830220222473)\n",
        "(('ee-snowball0', 'opencl_gpu'), 8, 32, 16.535441160202026)\n",
        "(('ee-snowball0', 'opencl_gpu'), 9, 32, 16.64348578453064)\n",
        "(('ee-snowball0', 'opencl_gpu'), 10, 32, 15.01005506515503)\n",
        "(('ee-snowball0', 'opencl_gpu'), 11, 32, 16.208003044128418)\n",
        "(('ee-snowball0', 'opencl_gpu'), 12, 32, 7.792722940444946)\n",
        "(('phi', 'opencl_gpu'), 1, 1, 4070.524288892746)\n",
        "(('phi', 'opencl_gpu'), 2, 1, 3671.865198135376)\n",
        "(('phi', 'opencl_gpu'), 3, 1, 3663.796154975891)\n",
        "(('phi', 'opencl_gpu'), 4, 1, 2704.5175478458405)\n",
        "(('phi', 'opencl_gpu'), 5, 1, 3591.786997795105)\n",
        "(('phi', 'opencl_gpu'), 6, 1, 4273.824157953262)\n",
        "(('phi', 'opencl_gpu'), 7, 1, 3542.249748945236)\n",
        "(('phi', 'opencl_gpu'), 8, 1, 2725.0446860790253)\n",
        "(('phi', 'opencl_gpu'), 9, 1, 3871.2479820251465)\n",
        "(('phi', 'opencl_gpu'), 10, 1, 1608.4731390476227)\n",
        "(('phi', 'opencl_gpu'), 11, 1, 3590.275821208954)\n",
        "(('phi', 'opencl_gpu'), 12, 1, 702.4641969203949)\n",
        "(('phi', 'opencl_gpu'), 0, 2, 558.5175728797913)\n",
        "(('phi', 'opencl_gpu'), 1, 2, 2057.144814968109)\n",
        "(('phi', 'opencl_gpu'), 2, 2, 1862.9944169521332)\n",
        "(('phi', 'opencl_gpu'), 3, 2, 1864.3426039218903)\n",
        "(('phi', 'opencl_gpu'), 4, 2, 1375.2262499332428)\n",
        "(('phi', 'opencl_gpu'), 5, 2, 1821.3256850242615)\n",
        "(('phi', 'opencl_gpu'), 6, 2, 2141.432732105255)\n",
        "(('phi', 'opencl_gpu'), 7, 2, 1948.7462451457977)\n",
        "(('phi', 'opencl_gpu'), 8, 2, 1375.9611020088196)\n",
        "(('phi', 'opencl_gpu'), 9, 2, 1948.6850690841675)\n",
        "(('phi', 'opencl_gpu'), 10, 2, 815.6570081710815)\n",
        "(('phi', 'opencl_gpu'), 11, 2, 1817.3115479946136)\n",
        "(('phi', 'opencl_gpu'), 12, 2, 362.93159103393555)\n",
        "(('phi', 'opencl_gpu'), 0, 4, 283.02592301368713)\n",
        "(('phi', 'opencl_gpu'), 1, 4, 1045.1194920539856)\n",
        "(('phi', 'opencl_gpu'), 2, 4, 947.3144409656525)\n",
        "(('phi', 'opencl_gpu'), 3, 4, 951.0101709365845)\n",
        "(('phi', 'opencl_gpu'), 4, 4, 702.1634240150452)\n",
        "(('phi', 'opencl_gpu'), 5, 4, 927.7973279953003)\n",
        "(('phi', 'opencl_gpu'), 6, 4, 1080.2445268630981)\n",
        "(('phi', 'opencl_gpu'), 7, 4, 986.9291160106659)\n",
        "(('phi', 'opencl_gpu'), 8, 4, 700.4072329998016)\n",
        "(('phi', 'opencl_gpu'), 9, 4, 986.9731500148773)\n",
        "(('phi', 'opencl_gpu'), 10, 4, 413.2289299964905)\n",
        "(('phi', 'opencl_gpu'), 11, 4, 926.0757191181183)\n",
        "(('phi', 'opencl_gpu'), 12, 4, 185.2336401939392)\n",
        "(('phi', 'opencl_gpu'), 0, 8, 145.59728813171387)\n",
        "(('phi', 'opencl_gpu'), 1, 8, 529.3298540115356)\n",
        "(('phi', 'opencl_gpu'), 2, 8, 482.96291613578796)\n",
        "(('phi', 'opencl_gpu'), 3, 8, 484.177992105484)\n",
        "(('phi', 'opencl_gpu'), 4, 8, 358.30096316337585)\n",
        "(('phi', 'opencl_gpu'), 5, 8, 472.0390839576721)\n",
        "(('phi', 'opencl_gpu'), 6, 8, 548.6832020282745)\n",
        "(('phi', 'opencl_gpu'), 7, 8, 500.8563070297241)\n",
        "(('phi', 'opencl_gpu'), 8, 8, 360.25194478034973)\n",
        "(('phi', 'opencl_gpu'), 9, 8, 500.27546405792236)\n",
        "(('phi', 'opencl_gpu'), 10, 8, 210.4376769065857)\n",
        "(('phi', 'opencl_gpu'), 11, 8, 472.9180700778961)\n",
        "(('phi', 'opencl_gpu'), 12, 8, 96.18256402015686)\n",
        "(('phi', 'opencl_gpu'), 0, 16, 76.6090259552002)\n",
        "(('phi', 'opencl_gpu'), 1, 16, 273.40695810317993)\n",
        "(('phi', 'opencl_gpu'), 2, 16, 250.0389461517334)\n",
        "(('phi', 'opencl_gpu'), 3, 16, 251.38148188591003)\n",
        "(('phi', 'opencl_gpu'), 4, 16, 185.77057719230652)\n",
        "(('phi', 'opencl_gpu'), 5, 16, 243.02726197242737)\n",
        "(('phi', 'opencl_gpu'), 6, 16, 281.244069814682)\n",
        "(('phi', 'opencl_gpu'), 7, 16, 258.14973998069763)\n",
        "(('phi', 'opencl_gpu'), 8, 16, 187.86069297790527)\n",
        "(('phi', 'opencl_gpu'), 9, 16, 259.18942284584045)\n",
        "(('phi', 'opencl_gpu'), 10, 16, 110.38586282730103)\n",
        "(('phi', 'opencl_gpu'), 11, 16, 243.49737191200256)\n",
        "(('phi', 'opencl_gpu'), 12, 16, 52.165053844451904)\n",
        "(('phi', 'opencl_gpu'), 0, 32, 42.95459198951721)\n",
        "(('phi', 'opencl_gpu'), 1, 32, 144.39887285232544)\n",
        "(('phi', 'opencl_gpu'), 2, 32, 132.04447197914124)\n",
        "(('phi', 'opencl_gpu'), 3, 32, 133.0645661354065)\n",
        "(('phi', 'opencl_gpu'), 4, 32, 89.3787190914154)\n",
        "(('phi', 'opencl_gpu'), 5, 32, 129.8520450592041)\n",
        "(('phi', 'opencl_gpu'), 6, 32, 150.08033299446106)\n",
        "(('phi', 'opencl_gpu'), 7, 32, 137.9036521911621)\n",
        "(('phi', 'opencl_gpu'), 8, 32, 99.93916392326355)\n",
        "(('phi', 'opencl_gpu'), 9, 32, 136.9832968711853)\n",
        "(('phi', 'opencl_gpu'), 10, 32, 60.33084487915039)\n",
        "(('phi', 'opencl_gpu'), 11, 32, 129.2732629776001)\n",
        "(('phi', 'opencl_gpu'), 12, 32, 30.064640998840332)\n",
        "(('phi', 'opencl_gpu'), 0, 64, 30.049409866333008)\n",
        "(('phi', 'opencl_gpu'), 1, 64, 97.80778193473816)\n",
        "(('phi', 'opencl_gpu'), 2, 64, 89.01868200302124)\n",
        "(('phi', 'opencl_gpu'), 3, 64, 89.4800820350647)\n",
        "(('phi', 'opencl_gpu'), 4, 64, 60.643346071243286)\n",
        "(('phi', 'opencl_gpu'), 5, 64, 87.11141109466553)\n",
        "(('phi', 'opencl_gpu'), 6, 64, 100.08454203605652)\n",
        "(('phi', 'opencl_gpu'), 7, 64, 92.13808798789978)\n",
        "(('phi', 'opencl_gpu'), 8, 64, 66.58198809623718)\n",
        "(('phi', 'opencl_gpu'), 9, 64, 92.30793404579163)\n",
        "(('phi', 'opencl_gpu'), 10, 64, 41.54520392417908)\n",
        "(('phi', 'opencl_gpu'), 11, 64, 87.32593011856079)\n",
        "(('phi', 'opencl_gpu'), 12, 64, 21.862487077713013)\n",
        "(('phi', 'opencl_gpu'), 0, 128, 21.853506088256836)\n",
        "(('phi', 'opencl_gpu'), 1, 128, 70.82857608795166)\n",
        "(('phi', 'opencl_gpu'), 2, 128, 65.30594301223755)\n",
        "(('phi', 'opencl_gpu'), 3, 128, 65.04349517822266)\n",
        "(('phi', 'opencl_gpu'), 4, 128, 48.91936802864075)\n",
        "(('phi', 'opencl_gpu'), 5, 128, 64.87335801124573)\n",
        "(('phi', 'opencl_gpu'), 6, 128, 73.6370780467987)\n",
        "(('phi', 'opencl_gpu'), 7, 128, 67.32572317123413)\n",
        "(('phi', 'opencl_gpu'), 8, 128, 48.94522404670715)\n",
        "(('phi', 'opencl_gpu'), 9, 128, 67.33154702186584)\n",
        "(('phi', 'opencl_gpu'), 10, 128, 30.09007692337036)\n",
        "(('phi', 'opencl_gpu'), 11, 128, 63.35606908798218)\n",
        "(('phi', 'opencl_gpu'), 12, 128, 17.128741979599)\n",
        "(('phi', 'opencl_gpu'), 0, 256, 17.72101593017578)\n",
        "(('phi', 'opencl_gpu'), 1, 256, 52.51674199104309)\n",
        "(('phi', 'opencl_gpu'), 2, 256, 53.173858880996704)\n",
        "(('phi', 'opencl_gpu'), 3, 256, 53.27437496185303)\n",
        "(('phi', 'opencl_gpu'), 4, 256, 39.861891984939575)\n",
        "(('phi', 'opencl_gpu'), 5, 256, 52.16633915901184)\n",
        "(('phi', 'opencl_gpu'), 6, 256, 59.95727515220642)\n",
        "(('phi', 'opencl_gpu'), 7, 256, 54.937832832336426)\n",
        "(('phi', 'opencl_gpu'), 8, 256, 39.73293709754944)\n",
        "(('phi', 'opencl_gpu'), 9, 256, 55.26635384559631)\n",
        "(('phi', 'opencl_gpu'), 10, 256, 24.19451093673706)\n",
        "(('phi', 'opencl_gpu'), 11, 256, 52.125149965286255)\n",
        "(('phi', 'opencl_gpu'), 12, 256, 14.163778066635132)\n",
        "(('phi', 'opencl_gpu'), 0, 512, 18.039320945739746)\n",
        "(('phi', 'opencl_gpu'), 1, 512, 58.11695098876953)\n",
        "(('phi', 'opencl_gpu'), 2, 512, 52.95559906959534)\n",
        "(('phi', 'opencl_gpu'), 3, 512, 53.267436027526855)\n",
        "(('phi', 'opencl_gpu'), 4, 512, 39.73479890823364)\n",
        "(('phi', 'opencl_gpu'), 5, 512, 52.1226589679718)\n",
        "(('phi', 'opencl_gpu'), 6, 512, 57.61104202270508)\n",
        "(('phi', 'opencl_gpu'), 7, 512, 55.31737303733826)\n",
        "(('phi', 'opencl_gpu'), 8, 512, 39.410666942596436)\n",
        "(('phi', 'opencl_gpu'), 9, 512, 55.126749992370605)\n",
        "(('phi', 'opencl_gpu'), 10, 512, 24.245884895324707)\n",
        "(('phi', 'opencl_gpu'), 11, 512, 53.21885108947754)\n",
        "(('phi', 'opencl_gpu'), 12, 512, 13.876678943634033)\n"
       ]
      }
     ],
     "prompt_number": 42
    },
    {
     "cell_type": "code",
     "collapsed": false,
     "input": [
      "benchmark_sum = numpy.zeros((len(platforms),thread_steps))\n",
      "\n",
      "for i,p in enumerate(platform_names):\n",
      "    for t in range(thread_steps):\n",
      "        benchmark_sum[i,t] = numpy.sum(benchmark_results[i,t,:])"
     ],
     "language": "python",
     "metadata": {},
     "outputs": [],
     "prompt_number": 44
    },
    {
     "cell_type": "heading",
     "level": 2,
     "metadata": {},
     "source": [
      "Plotting and Outputing Results"
     ]
    },
    {
     "cell_type": "code",
     "collapsed": false,
     "input": [
      "plt.rcParams['font.size'] = 20\n",
      "plt.rcParams['axes.linewidth'] = 1"
     ],
     "language": "python",
     "metadata": {},
     "outputs": [],
     "prompt_number": 45
    },
    {
     "cell_type": "code",
     "collapsed": false,
     "input": [
      "fig,ax = plt.subplots(1,1)\n",
      "\n",
      "for platform_name,platform_results in zip(platform_names,benchmark_sum):\n",
      "    thread_steps = numpy.sum(platform_results!=0)\n",
      "    ax.plot([2**i for i in range(thread_steps)],platform_results[0]/platform_results[:thread_steps],\"-x\",label=platform_name[0],linewidth=2,markersize=10,markeredgewidth=2)\n",
      "    \n",
      "max_thread_steps = int(numpy.log2(1024))\n",
      "ax.plot([2**i for i in range(max_thread_steps)],[2**i for i in range(max_thread_steps)],\"--\")\n",
      "    \n",
      "ax.set_xlabel('Number of threads (Number of Workgroups)')\n",
      "ax.set_ylabel('Latency Scaling (latency / 1 thread latency)')\n",
      "\n",
      "ax.set_xscale('log')\n",
      "ax.set_yscale('log')\n",
      "\n",
      "ax.set_xticks([2**i for i in range(max_thread_steps)])\n",
      "ax.set_xticklabels([2**i for i in range(max_thread_steps)])\n",
      "ax.set_yticks([2**i for i in range(max_thread_steps)])\n",
      "ax.set_yticklabels([2**i for i in range(max_thread_steps)])\n",
      "\n",
      "ax.grid(True)\n",
      "ax.legend()\n",
      "\n",
      "fig.set_size_inches(18,12)\n",
      "fig.savefig(\"GPU_KS_benchmark_scaling.pdf\",format='pdf')"
     ],
     "language": "python",
     "metadata": {},
     "outputs": [
      {
       "metadata": {},
       "output_type": "display_data",
       "png": "[encoded data removed]",
       "text": [
        "<matplotlib.figure.Figure at 0x7f53644ecc90>"
       ]
      }
     ],
     "prompt_number": 50
    },
    {
     "cell_type": "code",
     "collapsed": false,
     "input": [
      "with open('GPU_KS_benchmark_scaling_results.csv','w') as benchmark_data_file:\n",
      "    fieldnames = ('Platform Name','Platform Type','KS Option Number','Benchmark Paths','Threads','Latency')\n",
      "    csvwriter = csv.DictWriter(benchmark_data_file,fieldnames=fieldnames)\n",
      "    \n",
      "    for platform_name,platform_results in zip(platform_names,benchmark_results):\n",
      "        for i,option_results in enumerate(platform_results):\n",
      "            if(numpy.all(option_results!=0)):\n",
      "                for j,o_r in enumerate(option_results):\n",
      "                     csvwriter.writerow({'Platform Name':platform_name[0],\n",
      "                                         'Platform Type':platform_name[1],\n",
      "                                         'KS Option Number':j+1,\n",
      "                                         'Benchmark Paths':paths,\n",
      "                                         'Threads':2**i,\n",
      "                                         'Latency':o_r})"
     ],
     "language": "python",
     "metadata": {},
     "outputs": [],
     "prompt_number": 48
    },
    {
     "cell_type": "code",
     "collapsed": false,
     "input": [
      "%load GPU_KS_benchmark_scaling_results.csv"
     ],
     "language": "python",
     "metadata": {},
     "outputs": [],
     "prompt_number": 49
    }
   ],
   "metadata": {}
  }
 ]
}