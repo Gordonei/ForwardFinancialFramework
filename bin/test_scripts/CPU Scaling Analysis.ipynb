{
 "metadata": {
  "name": ""
 },
 "nbformat": 3,
 "nbformat_minor": 0,
 "worksheets": [
  {
   "cells": [
    {
     "cell_type": "heading",
     "level": 2,
     "metadata": {},
     "source": [
      "Introduction"
     ]
    },
    {
     "cell_type": "markdown",
     "metadata": {},
     "source": [
      "The Goal of this experiment is to verify the strong parallel scaling of various platform implementations of $F^3$.\n",
      "\n",
      "The Aims:\n",
      "* Run the Kaiserslatuarn Benchmark (http://www.uni-kl.de/en/benchmarking/option-pricing/) on each platform for a considerable number of simulations (1M) measuring the latency of each pricing task, for increasing numbers of threads"
     ]
    },
    {
     "cell_type": "heading",
     "level": 2,
     "metadata": {},
     "source": [
      "Setup"
     ]
    },
    {
     "cell_type": "heading",
     "level": 3,
     "metadata": {},
     "source": [
      "Imports"
     ]
    },
    {
     "cell_type": "code",
     "collapsed": false,
     "input": [
      "import multiprocessing,time,csv\n",
      "import numpy,scipy.stats"
     ],
     "language": "python",
     "metadata": {},
     "outputs": [],
     "prompt_number": 3
    },
    {
     "cell_type": "code",
     "collapsed": false,
     "input": [
      "from ForwardFinancialFramework.Platforms.MulticoreCPU import MulticoreCPU_MonteCarlo, MulticoreCPU\n",
      "from ForwardFinancialFramework.bin import KS_ProblemSet"
     ],
     "language": "python",
     "metadata": {},
     "outputs": [],
     "prompt_number": 4
    },
    {
     "cell_type": "heading",
     "level": 3,
     "metadata": {},
     "source": [
      "Platforms"
     ]
    },
    {
     "cell_type": "code",
     "collapsed": false,
     "input": [
      "platforms = []"
     ],
     "language": "python",
     "metadata": {},
     "outputs": [],
     "prompt_number": 174
    },
    {
     "cell_type": "code",
     "collapsed": false,
     "input": [
      "platforms += [MulticoreCPU.MulticoreCPU(remote=True,ssh_alias=\"ee-mollie\")] #0"
     ],
     "language": "python",
     "metadata": {},
     "outputs": [],
     "prompt_number": 175
    },
    {
     "cell_type": "code",
     "collapsed": false,
     "input": [
      "platforms += [MulticoreCPU.MulticoreCPU(remote=True,ssh_alias=\"ee-benjamin\")] #1"
     ],
     "language": "python",
     "metadata": {},
     "outputs": [],
     "prompt_number": 63
    },
    {
     "cell_type": "code",
     "collapsed": false,
     "input": [
      "platforms += [MulticoreCPU.MulticoreCPU(remote=True,ssh_alias=\"pi\")] #2"
     ],
     "language": "python",
     "metadata": {},
     "outputs": [],
     "prompt_number": 176
    },
    {
     "cell_type": "code",
     "collapsed": false,
     "input": [
      "platforms += [MulticoreCPU.MulticoreCPU(remote=True,ssh_alias=\"amazon-cpu-0\")] #3"
     ],
     "language": "python",
     "metadata": {},
     "outputs": [],
     "prompt_number": 65
    },
    {
     "cell_type": "heading",
     "level": 4,
     "metadata": {},
     "source": [
      "Platforms List"
     ]
    },
    {
     "cell_type": "code",
     "collapsed": false,
     "input": [
      "platform_names = []\n",
      "\n",
      "max_threads = 0\n",
      "for p in platforms:\n",
      "    platform_names += [(p.ssh_alias,p.name)]\n",
      "    if(p.threads>max_threads): max_threads = p.threads\n",
      "    print platform_names[-1]"
     ],
     "language": "python",
     "metadata": {},
     "outputs": [
      {
       "output_type": "stream",
       "stream": "stdout",
       "text": [
        "('ee-mollie', 'multicore_cpu')\n",
        "('pi', 'multicore_cpu')\n"
       ]
      }
     ],
     "prompt_number": 177
    },
    {
     "cell_type": "heading",
     "level": 3,
     "metadata": {},
     "source": [
      "KS Benchmark Set"
     ]
    },
    {
     "cell_type": "code",
     "collapsed": false,
     "input": [
      "option_tasks = [KS_ProblemSet.KS_Options([str(o)])[0] for o in range(1,14)]"
     ],
     "language": "python",
     "metadata": {},
     "outputs": [],
     "prompt_number": 51
    },
    {
     "cell_type": "heading",
     "level": 2,
     "metadata": {},
     "source": [
      "Benchmarking each task upon each platform"
     ]
    },
    {
     "cell_type": "heading",
     "level": 3,
     "metadata": {},
     "source": [
      "Setup"
     ]
    },
    {
     "cell_type": "markdown",
     "metadata": {},
     "source": [
      "Function for running a specified task on a specified platform. The results are put in a queue."
     ]
    },
    {
     "cell_type": "code",
     "collapsed": false,
     "input": [
      "def platform_task_benchmark(platform,platform_name,option_tasks,paths,queue,output_queue):\n",
      "    import subprocess32 as subprocess\n",
      "    \n",
      "    platform_max_threads = platform.threads\n",
      "    for i in range(int(numpy.log2(platform_max_threads*8))): #going 2 power-of-2 steps past the platform max\n",
      "        platform.threads = int(2**i)\n",
      "        for option_number,option_task in enumerate(option_tasks):\n",
      "            mc_solver = MulticoreCPU_MonteCarlo.MulticoreCPU_MonteCarlo([option_task],paths,platform)\n",
      "            \n",
      "            retries = 3\n",
      "            while(0 < retries):    \n",
      "                try:\n",
      "                    mc_solver.paths = paths\n",
      "                    mc_solver.solver_metadata[\"paths\"] = paths\n",
      "                \n",
      "                    result = mc_solver.execute()\n",
      "                \n",
      "                    output_queue.put_nowait((platform_name,option_number,paths,platform.threads,result[-1]/1e6))\n",
      "                    queue.put_nowait((platform_name,option_number,platform.threads,result[-1]/1e6))\n",
      "            \n",
      "                    break\n",
      "                \n",
      "                except subprocess.CalledProcessError as e:\n",
      "                    output_queue.put_nowait(\"Error!\\nCommand:\" + str(e.cmd) + \"on \" + str(option_number) + \" (%d threads)\"%platform.threads + \"\\nReturn: \" + str(e.output) + \"\\nReturncode: \" + str(e.returncode) + \"\\nretries remaining: \" + str(retries))\n",
      "                    retries -= 1"
     ],
     "language": "python",
     "metadata": {},
     "outputs": [],
     "prompt_number": 85
    },
    {
     "cell_type": "heading",
     "level": 3,
     "metadata": {},
     "source": [
      "Benchmarking"
     ]
    },
    {
     "cell_type": "code",
     "collapsed": false,
     "input": [
      "paths = 1e6"
     ],
     "language": "python",
     "metadata": {},
     "outputs": [],
     "prompt_number": 178
    },
    {
     "cell_type": "code",
     "collapsed": false,
     "input": [
      "queue = multiprocessing.Queue(len(platforms)*len(option_tasks)*2)\n",
      "output_queue = multiprocessing.Queue()"
     ],
     "language": "python",
     "metadata": {},
     "outputs": [],
     "prompt_number": "*"
    },
    {
     "cell_type": "code",
     "collapsed": false,
     "input": [
      "results = []\n",
      "try:\n",
      "    #Creating a process for each task\n",
      "    pool = [multiprocessing.Process(target=platform_task_benchmark,args=(p,pid,option_tasks,paths,queue,output_queue)) for p,pid in zip(platforms,platform_names)]\n",
      "    \n",
      "    #Starting the task on each platform\n",
      "    for p in pool: p.start()\n",
      "        \n",
      "    #Polling the queues while the tasks are busy\n",
      "    while(True):\n",
      "        while not(output_queue.empty()): print(output_queue.get())\n",
      "        while not(queue.empty()): results += [queue.get()]\n",
      "        \n",
      "        flag = True\n",
      "        for p in pool: \n",
      "            if(p.is_alive() and flag): flag = False\n",
      "            if(flag): break\n",
      "            \n",
      "        time.sleep(1)\n",
      "            \n",
      "    #Making sure all of the tasks are complete\n",
      "    for p in pool: \n",
      "        p.join()\n",
      "        del p\n",
      "            \n",
      "#If there is a keyboard interrupt\n",
      "except KeyboardInterrupt:\n",
      "    for p in pool: \n",
      "        p.terminate()\n",
      "        del p"
     ],
     "language": "python",
     "metadata": {},
     "outputs": [
      {
       "output_type": "stream",
       "stream": "stdout",
       "text": [
        "(('ee-mollie', 'multicore_cpu'), 0, 1000000.0, 1, 596.1734879016876)\n",
        "(('ee-mollie', 'multicore_cpu'), 1, 1000000.0, 1, 243.5233449935913)"
       ]
      },
      {
       "output_type": "stream",
       "stream": "stdout",
       "text": [
        "\n",
        "(('ee-mollie', 'multicore_cpu'), 2, 1000000.0, 1, 321.6170229911804)"
       ]
      },
      {
       "output_type": "stream",
       "stream": "stdout",
       "text": [
        "\n",
        "(('ee-mollie', 'multicore_cpu'), 3, 1000000.0, 1, 326.1318590641022)"
       ]
      },
      {
       "output_type": "stream",
       "stream": "stdout",
       "text": [
        "\n",
        "(('ee-mollie', 'multicore_cpu'), 4, 1000000.0, 1, 485.9764289855957)"
       ]
      }
     ],
     "prompt_number": "*"
    },
    {
     "cell_type": "code",
     "collapsed": false,
     "input": [
      "results = []\n",
      "for p,pid in zip(platforms,platform_names): \n",
      "    platform_task_benchmark(p,pid,option_tasks,paths,queue,output_queue,)\n",
      "    \n",
      "    while not(output_queue.empty()): print(output_queue.get())\n",
      "    while not(queue.empty()): results += [queue.get()]"
     ],
     "language": "python",
     "metadata": {},
     "outputs": [
      {
       "ename": "KeyboardInterrupt",
       "evalue": "",
       "output_type": "pyerr",
       "traceback": [
        "\u001b[0;31m---------------------------------------------------------------------------\u001b[0m\n\u001b[0;31mKeyboardInterrupt\u001b[0m                         Traceback (most recent call last)",
        "\u001b[0;32m<ipython-input-78-3c5cdcfd5a6f>\u001b[0m in \u001b[0;36m<module>\u001b[0;34m()\u001b[0m\n\u001b[1;32m      1\u001b[0m \u001b[0mresults\u001b[0m \u001b[0;34m=\u001b[0m \u001b[0;34m[\u001b[0m\u001b[0;34m]\u001b[0m\u001b[0;34m\u001b[0m\u001b[0m\n\u001b[1;32m      2\u001b[0m \u001b[0;32mfor\u001b[0m \u001b[0mp\u001b[0m\u001b[0;34m,\u001b[0m\u001b[0mpid\u001b[0m \u001b[0;32min\u001b[0m \u001b[0mzip\u001b[0m\u001b[0;34m(\u001b[0m\u001b[0mplatforms\u001b[0m\u001b[0;34m,\u001b[0m\u001b[0mplatform_names\u001b[0m\u001b[0;34m)\u001b[0m\u001b[0;34m:\u001b[0m\u001b[0;34m\u001b[0m\u001b[0m\n\u001b[0;32m----> 3\u001b[0;31m     \u001b[0mplatform_task_benchmark\u001b[0m\u001b[0;34m(\u001b[0m\u001b[0mp\u001b[0m\u001b[0;34m,\u001b[0m\u001b[0mpid\u001b[0m\u001b[0;34m,\u001b[0m\u001b[0moption_tasks\u001b[0m\u001b[0;34m,\u001b[0m\u001b[0mpaths\u001b[0m\u001b[0;34m,\u001b[0m\u001b[0mqueue\u001b[0m\u001b[0;34m,\u001b[0m\u001b[0moutput_queue\u001b[0m\u001b[0;34m,\u001b[0m\u001b[0;34m)\u001b[0m\u001b[0;34m\u001b[0m\u001b[0m\n\u001b[0m\u001b[1;32m      4\u001b[0m \u001b[0;34m\u001b[0m\u001b[0m\n\u001b[1;32m      5\u001b[0m     \u001b[0;32mwhile\u001b[0m \u001b[0;32mnot\u001b[0m\u001b[0;34m(\u001b[0m\u001b[0moutput_queue\u001b[0m\u001b[0;34m.\u001b[0m\u001b[0mempty\u001b[0m\u001b[0;34m(\u001b[0m\u001b[0;34m)\u001b[0m\u001b[0;34m)\u001b[0m\u001b[0;34m:\u001b[0m \u001b[0;32mprint\u001b[0m\u001b[0;34m(\u001b[0m\u001b[0moutput_queue\u001b[0m\u001b[0;34m.\u001b[0m\u001b[0mget\u001b[0m\u001b[0;34m(\u001b[0m\u001b[0;34m)\u001b[0m\u001b[0;34m)\u001b[0m\u001b[0;34m\u001b[0m\u001b[0m\n",
        "\u001b[0;32m<ipython-input-75-b680cf355ba8>\u001b[0m in \u001b[0;36mplatform_task_benchmark\u001b[0;34m(platform, platform_name, option_tasks, paths, queue, output_queue)\u001b[0m\n\u001b[1;32m     14\u001b[0m                     \u001b[0mmc_solver\u001b[0m\u001b[0;34m.\u001b[0m\u001b[0msolver_metadata\u001b[0m\u001b[0;34m[\u001b[0m\u001b[0;34m\"paths\"\u001b[0m\u001b[0;34m]\u001b[0m \u001b[0;34m=\u001b[0m \u001b[0mpaths\u001b[0m\u001b[0;34m\u001b[0m\u001b[0m\n\u001b[1;32m     15\u001b[0m \u001b[0;34m\u001b[0m\u001b[0m\n\u001b[0;32m---> 16\u001b[0;31m                     \u001b[0mresult\u001b[0m \u001b[0;34m=\u001b[0m \u001b[0mmc_solver\u001b[0m\u001b[0;34m.\u001b[0m\u001b[0mexecute\u001b[0m\u001b[0;34m(\u001b[0m\u001b[0;34m)\u001b[0m\u001b[0;34m\u001b[0m\u001b[0m\n\u001b[0m\u001b[1;32m     17\u001b[0m \u001b[0;34m\u001b[0m\u001b[0m\n\u001b[1;32m     18\u001b[0m                     \u001b[0moutput_queue\u001b[0m\u001b[0;34m.\u001b[0m\u001b[0mput_nowait\u001b[0m\u001b[0;34m(\u001b[0m\u001b[0;34m(\u001b[0m\u001b[0mplatform_name\u001b[0m\u001b[0;34m,\u001b[0m\u001b[0moption_number\u001b[0m\u001b[0;34m,\u001b[0m\u001b[0mpaths\u001b[0m\u001b[0;34m,\u001b[0m\u001b[0mplatform\u001b[0m\u001b[0;34m.\u001b[0m\u001b[0mthreads\u001b[0m\u001b[0;34m,\u001b[0m\u001b[0mresult\u001b[0m\u001b[0;34m[\u001b[0m\u001b[0;34m-\u001b[0m\u001b[0;36m1\u001b[0m\u001b[0;34m]\u001b[0m\u001b[0;34m/\u001b[0m\u001b[0;36m1e6\u001b[0m\u001b[0;34m)\u001b[0m\u001b[0;34m)\u001b[0m\u001b[0;34m\u001b[0m\u001b[0m\n",
        "\u001b[0;32m/home/gordon/workspace/ForwardFinancialFramework/Platforms/MulticoreCPU/MulticoreCPU_MonteCarlo.pyc\u001b[0m in \u001b[0;36mexecute\u001b[0;34m(self, cleanup, debug, seed, timeout)\u001b[0m\n\u001b[1;32m    637\u001b[0m     \u001b[0menv\u001b[0m \u001b[0;34m=\u001b[0m \u001b[0mos\u001b[0m\u001b[0;34m.\u001b[0m\u001b[0menviron\u001b[0m\u001b[0;34m\u001b[0m\u001b[0m\n\u001b[1;32m    638\u001b[0m     \u001b[0mstart\u001b[0m \u001b[0;34m=\u001b[0m \u001b[0mtime\u001b[0m\u001b[0;34m.\u001b[0m\u001b[0mtime\u001b[0m\u001b[0;34m(\u001b[0m\u001b[0;34m)\u001b[0m \u001b[0;31m#Wall-time is measured by framework, as well as in the generated application to measure overhead in calling code\u001b[0m\u001b[0;34m\u001b[0m\u001b[0m\n\u001b[0;32m--> 639\u001b[0;31m     \u001b[0mresults\u001b[0m \u001b[0;34m=\u001b[0m \u001b[0msubprocess\u001b[0m\u001b[0;34m.\u001b[0m\u001b[0mcheck_output\u001b[0m\u001b[0;34m(\u001b[0m\u001b[0mrun_cmd\u001b[0m\u001b[0;34m,\u001b[0m\u001b[0menv\u001b[0m\u001b[0;34m=\u001b[0m\u001b[0menv\u001b[0m\u001b[0;34m,\u001b[0m\u001b[0mtimeout\u001b[0m\u001b[0;34m=\u001b[0m\u001b[0mtimeout\u001b[0m\u001b[0;34m)\u001b[0m\u001b[0;34m\u001b[0m\u001b[0m\n\u001b[0m\u001b[1;32m    640\u001b[0m     \u001b[0mfinish\u001b[0m \u001b[0;34m=\u001b[0m \u001b[0mtime\u001b[0m\u001b[0;34m.\u001b[0m\u001b[0mtime\u001b[0m\u001b[0;34m(\u001b[0m\u001b[0;34m)\u001b[0m\u001b[0;34m\u001b[0m\u001b[0m\n\u001b[1;32m    641\u001b[0m \u001b[0;34m\u001b[0m\u001b[0m\n",
        "\u001b[0;32m/usr/local/lib/python2.7/dist-packages/subprocess32.pyc\u001b[0m in \u001b[0;36mcheck_output\u001b[0;34m(*popenargs, **kwargs)\u001b[0m\n\u001b[1;32m    626\u001b[0m     \u001b[0mprocess\u001b[0m \u001b[0;34m=\u001b[0m \u001b[0mPopen\u001b[0m\u001b[0;34m(\u001b[0m\u001b[0mstdout\u001b[0m\u001b[0;34m=\u001b[0m\u001b[0mPIPE\u001b[0m\u001b[0;34m,\u001b[0m \u001b[0;34m*\u001b[0m\u001b[0mpopenargs\u001b[0m\u001b[0;34m,\u001b[0m \u001b[0;34m**\u001b[0m\u001b[0mkwargs\u001b[0m\u001b[0;34m)\u001b[0m\u001b[0;34m\u001b[0m\u001b[0m\n\u001b[1;32m    627\u001b[0m     \u001b[0;32mtry\u001b[0m\u001b[0;34m:\u001b[0m\u001b[0;34m\u001b[0m\u001b[0m\n\u001b[0;32m--> 628\u001b[0;31m         \u001b[0moutput\u001b[0m\u001b[0;34m,\u001b[0m \u001b[0munused_err\u001b[0m \u001b[0;34m=\u001b[0m \u001b[0mprocess\u001b[0m\u001b[0;34m.\u001b[0m\u001b[0mcommunicate\u001b[0m\u001b[0;34m(\u001b[0m\u001b[0mtimeout\u001b[0m\u001b[0;34m=\u001b[0m\u001b[0mtimeout\u001b[0m\u001b[0;34m)\u001b[0m\u001b[0;34m\u001b[0m\u001b[0m\n\u001b[0m\u001b[1;32m    629\u001b[0m     \u001b[0;32mexcept\u001b[0m \u001b[0mTimeoutExpired\u001b[0m\u001b[0;34m:\u001b[0m\u001b[0;34m\u001b[0m\u001b[0m\n\u001b[1;32m    630\u001b[0m         \u001b[0mprocess\u001b[0m\u001b[0;34m.\u001b[0m\u001b[0mkill\u001b[0m\u001b[0;34m(\u001b[0m\u001b[0;34m)\u001b[0m\u001b[0;34m\u001b[0m\u001b[0m\n",
        "\u001b[0;32m/usr/local/lib/python2.7/dist-packages/subprocess32.pyc\u001b[0m in \u001b[0;36mcommunicate\u001b[0;34m(self, input, timeout)\u001b[0m\n\u001b[1;32m    913\u001b[0m                 \u001b[0mself\u001b[0m\u001b[0;34m.\u001b[0m\u001b[0mstdin\u001b[0m\u001b[0;34m.\u001b[0m\u001b[0mclose\u001b[0m\u001b[0;34m(\u001b[0m\u001b[0;34m)\u001b[0m\u001b[0;34m\u001b[0m\u001b[0m\n\u001b[1;32m    914\u001b[0m             \u001b[0;32melif\u001b[0m \u001b[0mself\u001b[0m\u001b[0;34m.\u001b[0m\u001b[0mstdout\u001b[0m\u001b[0;34m:\u001b[0m\u001b[0;34m\u001b[0m\u001b[0m\n\u001b[0;32m--> 915\u001b[0;31m                 \u001b[0mstdout\u001b[0m \u001b[0;34m=\u001b[0m \u001b[0m_eintr_retry_call\u001b[0m\u001b[0;34m(\u001b[0m\u001b[0mself\u001b[0m\u001b[0;34m.\u001b[0m\u001b[0mstdout\u001b[0m\u001b[0;34m.\u001b[0m\u001b[0mread\u001b[0m\u001b[0;34m)\u001b[0m\u001b[0;34m\u001b[0m\u001b[0m\n\u001b[0m\u001b[1;32m    916\u001b[0m                 \u001b[0mself\u001b[0m\u001b[0;34m.\u001b[0m\u001b[0mstdout\u001b[0m\u001b[0;34m.\u001b[0m\u001b[0mclose\u001b[0m\u001b[0;34m(\u001b[0m\u001b[0;34m)\u001b[0m\u001b[0;34m\u001b[0m\u001b[0m\n\u001b[1;32m    917\u001b[0m             \u001b[0;32melif\u001b[0m \u001b[0mself\u001b[0m\u001b[0;34m.\u001b[0m\u001b[0mstderr\u001b[0m\u001b[0;34m:\u001b[0m\u001b[0;34m\u001b[0m\u001b[0m\n",
        "\u001b[0;32m/usr/local/lib/python2.7/dist-packages/subprocess32.pyc\u001b[0m in \u001b[0;36m_eintr_retry_call\u001b[0;34m(func, *args)\u001b[0m\n\u001b[1;32m    541\u001b[0m     \u001b[0;32mwhile\u001b[0m \u001b[0mTrue\u001b[0m\u001b[0;34m:\u001b[0m\u001b[0;34m\u001b[0m\u001b[0m\n\u001b[1;32m    542\u001b[0m         \u001b[0;32mtry\u001b[0m\u001b[0;34m:\u001b[0m\u001b[0;34m\u001b[0m\u001b[0m\n\u001b[0;32m--> 543\u001b[0;31m             \u001b[0;32mreturn\u001b[0m \u001b[0mfunc\u001b[0m\u001b[0;34m(\u001b[0m\u001b[0;34m*\u001b[0m\u001b[0margs\u001b[0m\u001b[0;34m)\u001b[0m\u001b[0;34m\u001b[0m\u001b[0m\n\u001b[0m\u001b[1;32m    544\u001b[0m         \u001b[0;32mexcept\u001b[0m \u001b[0;34m(\u001b[0m\u001b[0mOSError\u001b[0m\u001b[0;34m,\u001b[0m \u001b[0mIOError\u001b[0m\u001b[0;34m)\u001b[0m\u001b[0;34m,\u001b[0m \u001b[0me\u001b[0m\u001b[0;34m:\u001b[0m\u001b[0;34m\u001b[0m\u001b[0m\n\u001b[1;32m    545\u001b[0m             \u001b[0;32mif\u001b[0m \u001b[0me\u001b[0m\u001b[0;34m.\u001b[0m\u001b[0merrno\u001b[0m \u001b[0;34m==\u001b[0m \u001b[0merrno\u001b[0m\u001b[0;34m.\u001b[0m\u001b[0mEINTR\u001b[0m\u001b[0;34m:\u001b[0m\u001b[0;34m\u001b[0m\u001b[0m\n",
        "\u001b[0;31mKeyboardInterrupt\u001b[0m: "
       ]
      }
     ],
     "prompt_number": 78
    },
    {
     "cell_type": "markdown",
     "metadata": {},
     "source": [
      "Processing results into a 3d matrix of platform-thread-task runtimes"
     ]
    },
    {
     "cell_type": "code",
     "collapsed": false,
     "input": [
      "thread_steps = int(numpy.ceil(numpy.log2(max_threads)))+3\n",
      "\n",
      "benchmark_results = numpy.zeros((len(platforms),thread_steps,len(option_tasks)))\n",
      "for r in results:\n",
      "    platform_name,option_number,threads,latency = r\n",
      "    platform_number = platform_names.index(platform_name)\n",
      "    thread_step_number = int(numpy.ceil(numpy.log2(threads)))\n",
      "    benchmark_results[platform_number,thread_step_number,option_number] = latency"
     ],
     "language": "python",
     "metadata": {},
     "outputs": [
      {
       "output_type": "stream",
       "stream": "stdout",
       "text": [
        "(('amazon-cpu-0', 'multicore_cpu'), 0, 1, 482.00661182403564)\n",
        "(('ee-mollie', 'multicore_cpu'), 0, 1, 590.6773490905762)\n",
        "(('amazon-cpu-0', 'multicore_cpu'), 1, 1, 203.28664684295654)\n",
        "(('ee-benjamin', 'multicore_cpu'), 0, 1, 779.2415518760681)\n",
        "(('ee-mollie', 'multicore_cpu'), 1, 1, 243.53450202941895)\n",
        "(('amazon-cpu-0', 'multicore_cpu'), 2, 1, 286.44977593421936)\n",
        "(('ee-benjamin', 'multicore_cpu'), 1, 1, 373.0870192050934)\n",
        "(('ee-mollie', 'multicore_cpu'), 2, 1, 321.57451605796814)\n",
        "(('amazon-cpu-0', 'multicore_cpu'), 3, 1, 260.32160687446594)\n",
        "(('ee-mollie', 'multicore_cpu'), 3, 1, 326.56755089759827)\n",
        "(('amazon-cpu-0', 'multicore_cpu'), 4, 1, 384.05444383621216)\n",
        "(('ee-benjamin', 'multicore_cpu'), 2, 1, 477.8321259021759)\n",
        "(('amazon-cpu-0', 'multicore_cpu'), 5, 1, 278.6575229167938)\n",
        "(('ee-mollie', 'multicore_cpu'), 4, 1, 484.26976013183594)\n",
        "(('amazon-cpu-0', 'multicore_cpu'), 6, 1, 143.03444004058838)\n",
        "(('ee-benjamin', 'multicore_cpu'), 3, 1, 507.56338810920715)\n",
        "(('amazon-cpu-0', 'multicore_cpu'), 7, 1, 220.71113300323486)\n",
        "(('ee-mollie', 'multicore_cpu'), 5, 1, 340.7637679576874)\n",
        "(('ee-mollie', 'multicore_cpu'), 6, 1, 174.95963716506958)\n",
        "(('amazon-cpu-0', 'multicore_cpu'), 8, 1, 384.03746795654297)\n",
        "(('ee-mollie', 'multicore_cpu'), 7, 1, 278.52362418174744)\n",
        "(('amazon-cpu-0', 'multicore_cpu'), 9, 1, 220.90479397773743)\n",
        "(('ee-benjamin', 'multicore_cpu'), 4, 1, 737.5546050071716)\n",
        "(('ee-mollie', 'multicore_cpu'), 8, 1, 485.2829020023346)\n",
        "(('amazon-cpu-0', 'multicore_cpu'), 10, 1, 494.90823101997375)\n",
        "(('ee-benjamin', 'multicore_cpu'), 5, 1, 532.1117250919342)\n",
        "(('ee-mollie', 'multicore_cpu'), 9, 1, 279.2854747772217)\n",
        "(('amazon-cpu-0', 'multicore_cpu'), 11, 1, 277.4732930660248)\n",
        "(('ee-benjamin', 'multicore_cpu'), 6, 1, 248.7024428844452)\n",
        "(('amazon-cpu-0', 'multicore_cpu'), 12, 1, 190.3348491191864)\n",
        "(('amazon-cpu-0', 'multicore_cpu'), 0, 2, 241.69601106643677)\n",
        "(('ee-benjamin', 'multicore_cpu'), 7, 1, 432.726863861084)\n",
        "(('ee-mollie', 'multicore_cpu'), 10, 1, 624.093542098999)\n",
        "(('amazon-cpu-0', 'multicore_cpu'), 1, 2, 102.03154706954956)\n",
        "(('amazon-cpu-0', 'multicore_cpu'), 2, 2, 143.6260368824005)\n",
        "(('amazon-cpu-0', 'multicore_cpu'), 3, 2, 132.06545281410217)\n",
        "(('ee-mollie', 'multicore_cpu'), 11, 1, 351.86350297927856)\n",
        "(('amazon-cpu-0', 'multicore_cpu'), 4, 2, 192.73548221588135)\n",
        "(('ee-mollie', 'multicore_cpu'), 12, 1, 194.43770003318787)\n",
        "(('ee-benjamin', 'multicore_cpu'), 8, 1, 662.9601399898529)\n",
        "(('amazon-cpu-0', 'multicore_cpu'), 5, 2, 140.33525586128235)\n",
        "(('amazon-cpu-0', 'multicore_cpu'), 6, 2, 72.47771191596985)\n",
        "(('amazon-cpu-0', 'multicore_cpu'), 7, 2, 111.1065309047699)\n",
        "(('ee-mollie', 'multicore_cpu'), 0, 2, 318.0937170982361)\n",
        "(('ee-benjamin', 'multicore_cpu'), 9, 1, 379.9977219104767)\n",
        "(('ee-mollie', 'multicore_cpu'), 1, 2, 130.1428210735321)\n",
        "(('amazon-cpu-0', 'multicore_cpu'), 8, 2, 194.4798140525818)\n",
        "(('amazon-cpu-0', 'multicore_cpu'), 9, 2, 111.14192700386047)\n",
        "(('ee-mollie', 'multicore_cpu'), 2, 2, 171.24274492263794)\n",
        "(('ee-mollie', 'multicore_cpu'), 3, 2, 175.87893080711365)\n",
        "(('amazon-cpu-0', 'multicore_cpu'), 10, 2, 248.4082760810852)\n",
        "(('amazon-cpu-0', 'multicore_cpu'), 11, 2, 139.65695691108704)\n",
        "(('ee-mollie', 'multicore_cpu'), 4, 2, 259.7945578098297)\n",
        "(('amazon-cpu-0', 'multicore_cpu'), 12, 2, 95.82134294509888)\n",
        "(('amazon-cpu-0', 'multicore_cpu'), 0, 4, 121.55765891075134)\n",
        "(('amazon-cpu-0', 'multicore_cpu'), 1, 4, 51.78242897987366)\n",
        "(('ee-mollie', 'multicore_cpu'), 5, 2, 182.2522349357605)\n",
        "(('ee-benjamin', 'multicore_cpu'), 10, 1, 812.0756049156189)\n",
        "(('amazon-cpu-0', 'multicore_cpu'), 2, 4, 74.15383100509644)\n",
        "(('ee-mollie', 'multicore_cpu'), 6, 2, 93.6716821193695)\n",
        "(('amazon-cpu-0', 'multicore_cpu'), 3, 4, 66.25349688529968)\n",
        "(('amazon-cpu-0', 'multicore_cpu'), 4, 4, 97.20787000656128)\n",
        "(('ee-mollie', 'multicore_cpu'), 7, 2, 147.38402605056763)\n",
        "(('amazon-cpu-0', 'multicore_cpu'), 5, 4, 71.12305998802185)\n",
        "(('amazon-cpu-0', 'multicore_cpu'), 6, 4, 37.843670129776)\n",
        "(('amazon-cpu-0', 'multicore_cpu'), 7, 4, 56.16655111312866)\n",
        "(('ee-benjamin', 'multicore_cpu'), 11, 1, 460.4197678565979)\n",
        "(('amazon-cpu-0', 'multicore_cpu'), 8, 4, 97.15111589431763)\n",
        "(('ee-mollie', 'multicore_cpu'), 8, 2, 253.9296100139618)\n",
        "(('amazon-cpu-0', 'multicore_cpu'), 9, 4, 56.263967990875244)\n",
        "(('ee-mollie', 'multicore_cpu'), 9, 2, 147.61275601387024)\n",
        "(('amazon-cpu-0', 'multicore_cpu'), 10, 4, 124.75674986839294)\n",
        "(('amazon-cpu-0', 'multicore_cpu'), 11, 4, 70.37374591827393)\n",
        "(('amazon-cpu-0', 'multicore_cpu'), 12, 4, 72.11795496940613)\n",
        "(('ee-benjamin', 'multicore_cpu'), 12, 1, 373.1633322238922)\n",
        "(('amazon-cpu-0', 'multicore_cpu'), 0, 8, 61.578717947006226)\n",
        "(('amazon-cpu-0', 'multicore_cpu'), 1, 8, 27.49890112876892)\n",
        "(('amazon-cpu-0', 'multicore_cpu'), 2, 8, 50.214553117752075)\n",
        "(('ee-mollie', 'multicore_cpu'), 10, 2, 327.4466919898987)\n",
        "(('amazon-cpu-0', 'multicore_cpu'), 3, 8, 48.87516498565674)\n",
        "(('amazon-cpu-0', 'multicore_cpu'), 4, 8, 71.3577299118042)\n",
        "(('amazon-cpu-0', 'multicore_cpu'), 5, 8, 50.92434000968933)\n",
        "(('amazon-cpu-0', 'multicore_cpu'), 6, 8, 19.611390829086304)\n",
        "(('ee-mollie', 'multicore_cpu'), 11, 2, 187.99647307395935)\n",
        "(('amazon-cpu-0', 'multicore_cpu'), 7, 8, 41.541916847229004)\n",
        "(('ee-benjamin', 'multicore_cpu'), 0, 2, 390.1646831035614)\n",
        "(('amazon-cpu-0', 'multicore_cpu'), 8, 8, 71.35446810722351)\n",
        "(('ee-mollie', 'multicore_cpu'), 12, 2, 102.0258400440216)\n",
        "(('amazon-cpu-0', 'multicore_cpu'), 9, 8, 29.277393102645874)\n",
        "(('amazon-cpu-0', 'multicore_cpu'), 10, 8, 63.118430852890015)\n",
        "(('ee-benjamin', 'multicore_cpu'), 1, 2, 161.99196195602417)\n",
        "(('amazon-cpu-0', 'multicore_cpu'), 11, 8, 51.57449984550476)\n",
        "(('amazon-cpu-0', 'multicore_cpu'), 12, 8, 24.927752017974854)\n",
        "(('ee-mollie', 'multicore_cpu'), 0, 4, 195.7465341091156)\n",
        "(('amazon-cpu-0', 'multicore_cpu'), 0, 16, 45.506388902664185)\n",
        "(('amazon-cpu-0', 'multicore_cpu'), 1, 16, 19.784432888031006)\n",
        "(('amazon-cpu-0', 'multicore_cpu'), 2, 16, 25.918386936187744)\n",
        "(('ee-mollie', 'multicore_cpu'), 1, 4, 81.29414105415344)\n",
        "(('amazon-cpu-0', 'multicore_cpu'), 3, 16, 25.56818985939026)\n",
        "(('amazon-cpu-0', 'multicore_cpu'), 4, 16, 36.84731101989746)\n",
        "(('amazon-cpu-0', 'multicore_cpu'), 5, 16, 26.340659141540527)\n",
        "(('amazon-cpu-0', 'multicore_cpu'), 6, 16, 14.096100091934204)\n",
        "(('ee-benjamin', 'multicore_cpu'), 2, 2, 229.06058192253113)\n",
        "(('ee-mollie', 'multicore_cpu'), 2, 4, 105.57242202758789)\n",
        "(('amazon-cpu-0', 'multicore_cpu'), 7, 16, 21.499325037002563)\n",
        "(('amazon-cpu-0', 'multicore_cpu'), 8, 16, 36.95126485824585)\n",
        "(('amazon-cpu-0', 'multicore_cpu'), 9, 16, 21.504432916641235)\n",
        "(('amazon-cpu-0', 'multicore_cpu'), 10, 16, 46.99753499031067)\n",
        "(('ee-mollie', 'multicore_cpu'), 3, 4, 107.81270408630371)\n",
        "(('amazon-cpu-0', 'multicore_cpu'), 11, 16, 26.71045207977295)\n",
        "(('amazon-cpu-0', 'multicore_cpu'), 12, 16, 19.129096031188965)\n",
        "(('amazon-cpu-0', 'multicore_cpu'), 0, 32, 45.469635009765625)\n",
        "(('ee-benjamin', 'multicore_cpu'), 3, 2, 227.73783707618713)\n",
        "(('amazon-cpu-0', 'multicore_cpu'), 1, 32, 19.661591053009033)\n",
        "(('amazon-cpu-0', 'multicore_cpu'), 2, 32, 25.69152593612671)\n",
        "(('amazon-cpu-0', 'multicore_cpu'), 3, 32, 25.070788860321045)\n",
        "(('ee-mollie', 'multicore_cpu'), 4, 4, 159.78856801986694)\n",
        "(('amazon-cpu-0', 'multicore_cpu'), 4, 32, 36.376474142074585)\n",
        "(('amazon-cpu-0', 'multicore_cpu'), 5, 32, 26.045681953430176)\n",
        "(('amazon-cpu-0', 'multicore_cpu'), 6, 32, 13.945965051651001)\n",
        "(('amazon-cpu-0', 'multicore_cpu'), 7, 32, 21.40762209892273)\n",
        "(('ee-mollie', 'multicore_cpu'), 5, 4, 112.19134187698364)\n",
        "(('amazon-cpu-0', 'multicore_cpu'), 8, 32, 36.354734897613525)\n",
        "(('amazon-cpu-0', 'multicore_cpu'), 9, 32, 21.281440019607544)\n",
        "(('ee-mollie', 'multicore_cpu'), 6, 4, 58.10945796966553)\n",
        "(('amazon-cpu-0', 'multicore_cpu'), 10, 32, 46.65679597854614)\n",
        "(('amazon-cpu-0', 'multicore_cpu'), 11, 32, 26.405795097351074)\n",
        "(('amazon-cpu-0', 'multicore_cpu'), 12, 32, 18.907533168792725)\n",
        "(('ee-mollie', 'multicore_cpu'), 7, 4, 91.46218609809875)\n",
        "(('ee-benjamin', 'multicore_cpu'), 4, 2, 332.67017102241516)\n",
        "(('amazon-cpu-0', 'multicore_cpu'), 0, 64, 45.32766890525818)\n",
        "(('amazon-cpu-0', 'multicore_cpu'), 1, 64, 19.625797986984253)\n",
        "(('amazon-cpu-0', 'multicore_cpu'), 2, 64, 25.907943964004517)\n",
        "(('amazon-cpu-0', 'multicore_cpu'), 3, 64, 25.046809911727905)\n",
        "(('amazon-cpu-0', 'multicore_cpu'), 4, 64, 36.35739803314209)\n",
        "(('ee-mollie', 'multicore_cpu'), 8, 4, 159.27517795562744)\n",
        "(('amazon-cpu-0', 'multicore_cpu'), 5, 64, 26.0111141204834)\n",
        "(('amazon-cpu-0', 'multicore_cpu'), 6, 64, 13.908782005310059)\n",
        "(('amazon-cpu-0', 'multicore_cpu'), 7, 64, 21.34031891822815)\n",
        "(('amazon-cpu-0', 'multicore_cpu'), 8, 64, 36.39311194419861)\n",
        "(('ee-benjamin', 'multicore_cpu'), 5, 2, 234.38210320472717)\n",
        "(('ee-mollie', 'multicore_cpu'), 9, 4, 91.95314311981201)\n",
        "(('amazon-cpu-0', 'multicore_cpu'), 9, 64, 21.302534103393555)\n",
        "(('amazon-cpu-0', 'multicore_cpu'), 10, 64, 46.49700593948364)\n",
        "(('amazon-cpu-0', 'multicore_cpu'), 11, 64, 26.340193033218384)\n",
        "(('amazon-cpu-0', 'multicore_cpu'), 12, 64, 18.96085500717163)\n",
        "(('ee-benjamin', 'multicore_cpu'), 6, 2, 121.79654288291931)\n",
        "(('ee-mollie', 'multicore_cpu'), 10, 4, 203.8962299823761)\n",
        "(('ee-benjamin', 'multicore_cpu'), 7, 2, 190.99126386642456)\n",
        "(('ee-mollie', 'multicore_cpu'), 11, 4, 116.51053881645203)\n",
        "(('ee-mollie', 'multicore_cpu'), 12, 4, 68.87494587898254)\n",
        "(('ee-benjamin', 'multicore_cpu'), 8, 2, 339.83719396591187)\n",
        "(('ee-benjamin', 'multicore_cpu'), 9, 2, 198.45808696746826)\n",
        "(('ee-benjamin', 'multicore_cpu'), 10, 2, 406.69091796875)\n",
        "(('ee-benjamin', 'multicore_cpu'), 11, 2, 231.8469729423523)\n",
        "(('ee-benjamin', 'multicore_cpu'), 12, 2, 186.71789002418518)\n",
        "(('ee-benjamin', 'multicore_cpu'), 0, 4, 198.12123608589172)\n",
        "(('ee-benjamin', 'multicore_cpu'), 1, 4, 84.15131402015686)\n",
        "(('ee-benjamin', 'multicore_cpu'), 2, 4, 110.67559885978699)\n",
        "(('ee-benjamin', 'multicore_cpu'), 3, 4, 114.76980710029602)\n",
        "(('ee-benjamin', 'multicore_cpu'), 4, 4, 166.37079501152039)\n",
        "(('pi', 'multicore_cpu'), 0, 1, 10760.811305046082)\n",
        "(('ee-benjamin', 'multicore_cpu'), 5, 4, 119.93887591362)\n",
        "(('ee-benjamin', 'multicore_cpu'), 6, 4, 60.84728503227234)\n",
        "(('ee-benjamin', 'multicore_cpu'), 7, 4, 96.0224781036377)\n",
        "(('ee-benjamin', 'multicore_cpu'), 8, 4, 170.12132096290588)\n",
        "(('ee-benjamin', 'multicore_cpu'), 9, 4, 96.0680160522461)\n",
        "(('ee-benjamin', 'multicore_cpu'), 10, 4, 213.71992707252502)\n",
        "(('ee-benjamin', 'multicore_cpu'), 11, 4, 116.23286199569702)\n",
        "(('ee-benjamin', 'multicore_cpu'), 12, 4, 93.07904887199402)\n",
        "(('ee-benjamin', 'multicore_cpu'), 0, 8, 103.87637495994568)\n",
        "(('ee-benjamin', 'multicore_cpu'), 1, 8, 45.909918785095215)\n",
        "(('ee-benjamin', 'multicore_cpu'), 2, 8, 58.87049102783203)\n",
        "(('ee-benjamin', 'multicore_cpu'), 3, 8, 61.01328802108765)\n",
        "(('ee-benjamin', 'multicore_cpu'), 4, 8, 88.05409789085388)\n",
        "(('ee-benjamin', 'multicore_cpu'), 5, 8, 67.26619291305542)\n",
        "(('ee-benjamin', 'multicore_cpu'), 6, 8, 32.569401025772095)\n",
        "(('ee-benjamin', 'multicore_cpu'), 7, 8, 58.48583102226257)\n",
        "(('ee-benjamin', 'multicore_cpu'), 8, 8, 96.62669110298157)\n",
        "(('ee-benjamin', 'multicore_cpu'), 9, 8, 57.43401288986206)\n",
        "(('ee-benjamin', 'multicore_cpu'), 10, 8, 116.88414978981018)\n",
        "(('ee-benjamin', 'multicore_cpu'), 11, 8, 63.916425943374634)\n",
        "(('ee-benjamin', 'multicore_cpu'), 12, 8, 48.15219283103943)\n",
        "(('ee-benjamin', 'multicore_cpu'), 0, 16, 59.41521382331848)\n",
        "(('ee-benjamin', 'multicore_cpu'), 1, 16, 25.35606598854065)\n",
        "(('ee-benjamin', 'multicore_cpu'), 2, 16, 32.59870004653931)\n",
        "(('ee-benjamin', 'multicore_cpu'), 3, 16, 35.46693515777588)\n",
        "(('ee-benjamin', 'multicore_cpu'), 4, 16, 50.74787783622742)\n",
        "(('ee-benjamin', 'multicore_cpu'), 5, 16, 36.875061988830566)\n",
        "(('ee-benjamin', 'multicore_cpu'), 6, 16, 19.31787919998169)\n",
        "(('ee-benjamin', 'multicore_cpu'), 7, 16, 30.072318077087402)\n",
        "(('ee-benjamin', 'multicore_cpu'), 8, 16, 51.50899386405945)\n",
        "(('ee-benjamin', 'multicore_cpu'), 9, 16, 31.898537158966064)\n",
        "(('ee-benjamin', 'multicore_cpu'), 10, 16, 63.127235889434814)\n",
        "(('ee-benjamin', 'multicore_cpu'), 11, 16, 35.87710213661194)\n",
        "(('ee-benjamin', 'multicore_cpu'), 12, 16, 28.600882053375244)\n",
        "(('ee-benjamin', 'multicore_cpu'), 0, 32, 34.49963092803955)\n",
        "(('ee-benjamin', 'multicore_cpu'), 1, 32, 15.085510969161987)\n",
        "(('ee-benjamin', 'multicore_cpu'), 2, 32, 19.283474922180176)\n",
        "(('ee-benjamin', 'multicore_cpu'), 3, 32, 20.263034105300903)\n",
        "(('ee-benjamin', 'multicore_cpu'), 4, 32, 29.46713399887085)\n",
        "(('ee-benjamin', 'multicore_cpu'), 5, 32, 20.847864151000977)\n",
        "(('ee-benjamin', 'multicore_cpu'), 6, 32, 11.305458068847656)\n",
        "(('ee-benjamin', 'multicore_cpu'), 7, 32, 17.138036966323853)\n",
        "(('ee-benjamin', 'multicore_cpu'), 8, 32, 29.095058917999268)\n",
        "(('ee-benjamin', 'multicore_cpu'), 9, 32, 17.145769119262695)\n",
        "(('ee-benjamin', 'multicore_cpu'), 10, 32, 35.74589490890503)\n",
        "(('ee-benjamin', 'multicore_cpu'), 11, 32, 20.661822080612183)\n",
        "(('ee-benjamin', 'multicore_cpu'), 12, 32, 16.43735909461975)\n",
        "(('ee-benjamin', 'multicore_cpu'), 0, 64, 20.407567024230957)\n",
        "(('ee-benjamin', 'multicore_cpu'), 1, 64, 9.616039037704468)\n",
        "(('ee-benjamin', 'multicore_cpu'), 2, 64, 11.782438039779663)\n",
        "(('ee-benjamin', 'multicore_cpu'), 3, 64, 12.1680588722229)\n",
        "(('ee-benjamin', 'multicore_cpu'), 4, 64, 17.153170824050903)\n",
        "(('ee-benjamin', 'multicore_cpu'), 5, 64, 12.384934902191162)\n",
        "(('ee-benjamin', 'multicore_cpu'), 6, 64, 6.851593971252441)\n",
        "(('ee-benjamin', 'multicore_cpu'), 7, 64, 10.184535026550293)\n",
        "(('ee-benjamin', 'multicore_cpu'), 8, 64, 17.09012198448181)\n",
        "(('ee-benjamin', 'multicore_cpu'), 9, 64, 10.42304801940918)\n",
        "(('ee-benjamin', 'multicore_cpu'), 10, 64, 21.13913106918335)\n",
        "(('ee-benjamin', 'multicore_cpu'), 11, 64, 12.319149017333984)\n",
        "(('ee-benjamin', 'multicore_cpu'), 12, 64, 9.351477861404419)\n",
        "(('ee-benjamin', 'multicore_cpu'), 0, 128, 20.389654874801636)\n",
        "(('ee-benjamin', 'multicore_cpu'), 1, 128, 9.03156304359436)\n",
        "(('ee-benjamin', 'multicore_cpu'), 2, 128, 11.638937950134277)\n",
        "(('ee-benjamin', 'multicore_cpu'), 3, 128, 11.854310989379883)\n",
        "(('ee-benjamin', 'multicore_cpu'), 4, 128, 17.925092935562134)\n",
        "(('ee-benjamin', 'multicore_cpu'), 5, 128, 13.098911046981812)\n",
        "(('ee-benjamin', 'multicore_cpu'), 6, 128, 6.953872919082642)\n",
        "(('ee-benjamin', 'multicore_cpu'), 7, 128, 10.369596004486084)\n",
        "(('ee-benjamin', 'multicore_cpu'), 8, 128, 17.679709911346436)\n",
        "(('ee-benjamin', 'multicore_cpu'), 9, 128, 10.299997091293335)\n",
        "(('ee-benjamin', 'multicore_cpu'), 10, 128, 21.917574167251587)\n",
        "(('ee-benjamin', 'multicore_cpu'), 11, 128, 12.12410283088684)\n",
        "(('ee-benjamin', 'multicore_cpu'), 12, 128, 9.161880016326904)\n",
        "(('ee-benjamin', 'multicore_cpu'), 0, 256, 20.592518091201782)\n",
        "(('ee-benjamin', 'multicore_cpu'), 1, 256, 9.090938091278076)\n",
        "(('ee-benjamin', 'multicore_cpu'), 2, 256, 11.846550941467285)\n",
        "(('ee-benjamin', 'multicore_cpu'), 3, 256, 12.052381038665771)\n",
        "(('ee-benjamin', 'multicore_cpu'), 4, 256, 17.047384023666382)\n",
        "(('ee-benjamin', 'multicore_cpu'), 5, 256, 12.463746786117554)\n",
        "(('ee-benjamin', 'multicore_cpu'), 6, 256, 6.819803953170776)\n",
        "(('ee-benjamin', 'multicore_cpu'), 7, 256, 10.258021116256714)\n",
        "(('ee-benjamin', 'multicore_cpu'), 8, 256, 17.089489936828613)\n",
        "(('ee-benjamin', 'multicore_cpu'), 9, 256, 10.341422080993652)\n",
        "(('ee-benjamin', 'multicore_cpu'), 10, 256, 21.249848127365112)\n",
        "(('ee-benjamin', 'multicore_cpu'), 11, 256, 12.423797130584717)\n",
        "(('ee-benjamin', 'multicore_cpu'), 12, 256, 9.17082691192627)\n",
        "(('pi', 'multicore_cpu'), 1, 1, 4611.574423789978)\n",
        "(('pi', 'multicore_cpu'), 2, 1, 6099.579180955887)\n",
        "(('pi', 'multicore_cpu'), 3, 1, 6023.209981918335)\n",
        "(('pi', 'multicore_cpu'), 4, 1, 8880.890597105026)\n",
        "(('pi', 'multicore_cpu'), 5, 1, 6191.395527124405)\n",
        "(('pi', 'multicore_cpu'), 6, 1, 3181.632936000824)\n",
        "(('pi', 'multicore_cpu'), 7, 1, 5097.801069021225)\n",
        "(('pi', 'multicore_cpu'), 8, 1, 8879.088421106339)\n",
        "(('pi', 'multicore_cpu'), 9, 1, 5104.405315160751)\n",
        "(('pi', 'multicore_cpu'), 10, 1, 11478.876391887665)\n",
        "(('pi', 'multicore_cpu'), 11, 1, 6352.737365961075)\n",
        "(('pi', 'multicore_cpu'), 12, 1, 4210.876528978348)\n"
       ]
      }
     ],
     "prompt_number": 95
    },
    {
     "cell_type": "code",
     "collapsed": false,
     "input": [
      "benchmark_sum = numpy.zeros((len(platforms),thread_steps))\n",
      "\n",
      "for i,p in enumerate(platform_names):\n",
      "    for t in range(thread_steps):\n",
      "        benchmark_sum[i,t] = numpy.sum(benchmark_results[i,t,:])"
     ],
     "language": "python",
     "metadata": {},
     "outputs": [],
     "prompt_number": 100
    },
    {
     "cell_type": "heading",
     "level": 2,
     "metadata": {},
     "source": [
      "Plotting and Outputing Results"
     ]
    },
    {
     "cell_type": "code",
     "collapsed": false,
     "input": [
      "plt.rcParams['font.size'] = 20\n",
      "plt.rcParams['axes.linewidth'] = 1"
     ],
     "language": "python",
     "metadata": {},
     "outputs": [],
     "prompt_number": 156
    },
    {
     "cell_type": "code",
     "collapsed": false,
     "input": [
      "fig,ax = plt.subplots(1,1)\n",
      "\n",
      "for platform_name,platform_results in zip(platform_names,benchmark_sum):\n",
      "    thread_steps = numpy.sum(platform_results!=0)\n",
      "    ax.plot([2**i for i in range(thread_steps)],platform_results[0]/platform_results[:thread_steps],\"-x\",label=platform_name[0],linewidth=2,markersize=10,markeredgewidth=2)\n",
      "    \n",
      "max_thread_steps = int(numpy.log2(max_threads))+3\n",
      "ax.plot([2**i for i in range(max_thread_steps)],[2**i for i in range(max_thread_steps)],\"--\")\n",
      "    \n",
      "ax.set_xlabel('Number of threads')\n",
      "ax.set_ylabel('Latency Scaling (latency / 1 thread latency)')\n",
      "\n",
      "ax.set_xscale('log')\n",
      "ax.set_yscale('log')\n",
      "\n",
      "ax.set_xticks([2**i for i in range(max_thread_steps)])\n",
      "ax.set_xticklabels([2**i for i in range(max_thread_steps)])\n",
      "ax.set_yticks([2**i for i in range(max_thread_steps)])\n",
      "ax.set_yticklabels([2**i for i in range(max_thread_steps)])\n",
      "\n",
      "ax.grid(True)\n",
      "ax.legend()\n",
      "\n",
      "fig.set_size_inches(18,12)\n",
      "fig.savefig(\"CPU_KS_benchmark_scaling.pdf\",format='pdf')"
     ],
     "language": "python",
     "metadata": {},
     "outputs": [
      {
       "metadata": {},
       "output_type": "display_data",
       "png": "[encoded data removed]",
       "text": [
        "<matplotlib.figure.Figure at 0x7f923d8ab790>"
       ]
      }
     ],
     "prompt_number": 167
    },
    {
     "cell_type": "code",
     "collapsed": false,
     "input": [
      "with open('CPU_KS_benchmark_scaling_results.csv','w') as benchmark_data_file:\n",
      "    fieldnames = ('Platform Name','Platform Type','KS Option Number','Benchmark Paths','Threads','Latency')\n",
      "    csvwriter = csv.DictWriter(benchmark_data_file,fieldnames=fieldnames)\n",
      "    \n",
      "    for platform_name,platform_results in zip(platform_names,benchmark_results):\n",
      "        for i,option_results in enumerate(platform_results):\n",
      "            if(numpy.all(option_results!=0)):\n",
      "                for j,o_r in enumerate(option_results):\n",
      "                     csvwriter.writerow({'Platform Name':platform_name[0],\n",
      "                                         'Platform Type':platform_name[1],\n",
      "                                         'KS Option Number':j+1,\n",
      "                                         'Benchmark Paths':paths,\n",
      "                                         'Threads':2**i,\n",
      "                                         'Latency':o_r})"
     ],
     "language": "python",
     "metadata": {},
     "outputs": [],
     "prompt_number": 172
    },
    {
     "cell_type": "code",
     "collapsed": false,
     "input": [
      "%load CPU_KS_benchmark_scaling_results.csv"
     ],
     "language": "python",
     "metadata": {},
     "outputs": [],
     "prompt_number": 173
    }
   ],
   "metadata": {}
  }
 ]
}