{
 "metadata": {
  "name": ""
 },
 "nbformat": 3,
 "nbformat_minor": 0,
 "worksheets": [
  {
   "cells": [
    {
     "cell_type": "heading",
     "level": 2,
     "metadata": {},
     "source": [
      "Introduction"
     ]
    },
    {
     "cell_type": "markdown",
     "metadata": {},
     "source": [
      "The Goal of this experiment is to verify the strong parallel scaling of various platform implementations of $F^3$.\n",
      "\n",
      "The Aims:\n",
      "* Run the Kaiserslatuarn Benchmark (http://www.uni-kl.de/en/benchmarking/option-pricing/) on each platform for a considerable number of simulations (1M) measuring the latency of each pricing task, for increasing numbers of threads"
     ]
    },
    {
     "cell_type": "heading",
     "level": 2,
     "metadata": {},
     "source": [
      "Setup"
     ]
    },
    {
     "cell_type": "heading",
     "level": 3,
     "metadata": {},
     "source": [
      "Imports"
     ]
    },
    {
     "cell_type": "code",
     "collapsed": false,
     "input": [
      "import multiprocessing,time,csv\n",
      "import numpy,scipy.stats"
     ],
     "language": "python",
     "metadata": {},
     "outputs": [],
     "prompt_number": 1
    },
    {
     "cell_type": "code",
     "collapsed": false,
     "input": [
      "from ForwardFinancialFramework.Platforms.MulticoreCPU import MulticoreCPU_MonteCarlo, MulticoreCPU\n",
      "from ForwardFinancialFramework.bin import KS_ProblemSet"
     ],
     "language": "python",
     "metadata": {},
     "outputs": [],
     "prompt_number": 2
    },
    {
     "cell_type": "heading",
     "level": 3,
     "metadata": {},
     "source": [
      "Platforms"
     ]
    },
    {
     "cell_type": "code",
     "collapsed": false,
     "input": [
      "platforms = []"
     ],
     "language": "python",
     "metadata": {},
     "outputs": [],
     "prompt_number": 3
    },
    {
     "cell_type": "code",
     "collapsed": false,
     "input": [
      "platforms += [MulticoreCPU.MulticoreCPU(remote=True,ssh_alias=\"ee-mollie\")] #0"
     ],
     "language": "python",
     "metadata": {},
     "outputs": [],
     "prompt_number": 4
    },
    {
     "cell_type": "code",
     "collapsed": false,
     "input": [
      "platforms += [MulticoreCPU.MulticoreCPU(remote=True,ssh_alias=\"ee-benjamin\")] #1"
     ],
     "language": "python",
     "metadata": {},
     "outputs": [],
     "prompt_number": 63
    },
    {
     "cell_type": "code",
     "collapsed": false,
     "input": [
      "platforms += [MulticoreCPU.MulticoreCPU(remote=True,ssh_alias=\"pi\")] #2"
     ],
     "language": "python",
     "metadata": {},
     "outputs": [],
     "prompt_number": 176
    },
    {
     "cell_type": "code",
     "collapsed": false,
     "input": [
      "platforms += [MulticoreCPU.MulticoreCPU(remote=True,ssh_alias=\"amazon-cpu-0\")] #3"
     ],
     "language": "python",
     "metadata": {},
     "outputs": [],
     "prompt_number": 65
    },
    {
     "cell_type": "heading",
     "level": 4,
     "metadata": {},
     "source": [
      "Platforms List"
     ]
    },
    {
     "cell_type": "code",
     "collapsed": false,
     "input": [
      "platform_names = []\n",
      "\n",
      "max_threads = 0\n",
      "for p in platforms:\n",
      "    platform_names += [(p.ssh_alias,p.name)]\n",
      "    if(p.threads>max_threads): max_threads = p.threads\n",
      "    print platform_names[-1]"
     ],
     "language": "python",
     "metadata": {},
     "outputs": [
      {
       "output_type": "stream",
       "stream": "stdout",
       "text": [
        "('ee-mollie', 'multicore_cpu')\n"
       ]
      }
     ],
     "prompt_number": 5
    },
    {
     "cell_type": "heading",
     "level": 3,
     "metadata": {},
     "source": [
      "KS Benchmark Set"
     ]
    },
    {
     "cell_type": "code",
     "collapsed": false,
     "input": [
      "option_tasks = [KS_ProblemSet.KS_Options([str(o)])[0] for o in range(1,14)]"
     ],
     "language": "python",
     "metadata": {},
     "outputs": [],
     "prompt_number": 6
    },
    {
     "cell_type": "heading",
     "level": 2,
     "metadata": {},
     "source": [
      "Benchmarking each task upon each platform"
     ]
    },
    {
     "cell_type": "heading",
     "level": 3,
     "metadata": {},
     "source": [
      "Setup"
     ]
    },
    {
     "cell_type": "markdown",
     "metadata": {},
     "source": [
      "Function for running a specified task on a specified platform. The results are put in a queue."
     ]
    },
    {
     "cell_type": "code",
     "collapsed": false,
     "input": [
      "def platform_task_benchmark(platform,platform_name,option_tasks,paths,queue,output_queue):\n",
      "    import subprocess32 as subprocess\n",
      "    \n",
      "    platform_max_threads = platform.threads\n",
      "    for i in range(int(numpy.log2(platform_max_threads*8))): #going 2 power-of-2 steps past the platform max\n",
      "        platform.threads = int(2**i)\n",
      "        for option_number,option_task in enumerate(option_tasks):\n",
      "            mc_solver = MulticoreCPU_MonteCarlo.MulticoreCPU_MonteCarlo([option_task],paths,platform)\n",
      "            \n",
      "            retries = 3\n",
      "            while(0 < retries):    \n",
      "                try:\n",
      "                    mc_solver.paths = paths\n",
      "                    mc_solver.solver_metadata[\"paths\"] = paths\n",
      "                \n",
      "                    result = mc_solver.execute()\n",
      "                \n",
      "                    output_queue.put_nowait((platform_name,option_number,paths,platform.threads,result[-1]/1e6))\n",
      "                    queue.put_nowait((platform_name,option_number,platform.threads,result[-1]/1e6))\n",
      "            \n",
      "                    break\n",
      "                \n",
      "                except subprocess.CalledProcessError as e:\n",
      "                    output_queue.put_nowait(\"Error!\\nCommand:\" + str(e.cmd) + \"on \" + str(option_number) + \" (%d threads)\"%platform.threads + \"\\nReturn: \" + str(e.output) + \"\\nReturncode: \" + str(e.returncode) + \"\\nretries remaining: \" + str(retries))\n",
      "                    retries -= 1"
     ],
     "language": "python",
     "metadata": {},
     "outputs": [],
     "prompt_number": 7
    },
    {
     "cell_type": "heading",
     "level": 3,
     "metadata": {},
     "source": [
      "Benchmarking"
     ]
    },
    {
     "cell_type": "code",
     "collapsed": false,
     "input": [
      "paths = 1e6"
     ],
     "language": "python",
     "metadata": {},
     "outputs": [],
     "prompt_number": 8
    },
    {
     "cell_type": "code",
     "collapsed": false,
     "input": [
      "queue = multiprocessing.Queue(len(platforms)*len(option_tasks)*2)\n",
      "output_queue = multiprocessing.Queue()"
     ],
     "language": "python",
     "metadata": {},
     "outputs": [],
     "prompt_number": 9
    },
    {
     "cell_type": "code",
     "collapsed": false,
     "input": [
      "results = []\n",
      "try:\n",
      "    #Creating a process for each task\n",
      "    pool = [multiprocessing.Process(target=platform_task_benchmark,args=(p,pid,option_tasks,paths,queue,output_queue)) for p,pid in zip(platforms,platform_names)]\n",
      "    \n",
      "    #Starting the task on each platform\n",
      "    for p in pool: p.start()\n",
      "        \n",
      "    #Polling the queues while the tasks are busy\n",
      "    while(True):\n",
      "        while not(output_queue.empty()): print(output_queue.get())\n",
      "        while not(queue.empty()): results += [queue.get()]\n",
      "        \n",
      "        flag = True\n",
      "        for p in pool: \n",
      "            if(p.is_alive() and flag): flag = False\n",
      "            if(flag): break\n",
      "            \n",
      "        time.sleep(1)\n",
      "            \n",
      "    #Making sure all of the tasks are complete\n",
      "    for p in pool: \n",
      "        p.join()\n",
      "        del p\n",
      "            \n",
      "#If there is a keyboard interrupt\n",
      "except KeyboardInterrupt:\n",
      "    for p in pool: \n",
      "        p.terminate()\n",
      "        del p"
     ],
     "language": "python",
     "metadata": {},
     "outputs": [
      {
       "output_type": "stream",
       "stream": "stdout",
       "text": [
        "(('ee-mollie', 'multicore_cpu'), 0, 1000000.0, 1, 589.540962934494)\n",
        "(('ee-mollie', 'multicore_cpu'), 1, 1000000.0, 1, 244.93226313591003)"
       ]
      },
      {
       "output_type": "stream",
       "stream": "stdout",
       "text": [
        "\n",
        "(('ee-mollie', 'multicore_cpu'), 2, 1000000.0, 1, 322.7313630580902)"
       ]
      },
      {
       "output_type": "stream",
       "stream": "stdout",
       "text": [
        "\n",
        "(('ee-mollie', 'multicore_cpu'), 3, 1000000.0, 1, 329.9565861225128)"
       ]
      },
      {
       "output_type": "stream",
       "stream": "stdout",
       "text": [
        "\n",
        "(('ee-mollie', 'multicore_cpu'), 4, 1000000.0, 1, 486.3842120170593)"
       ]
      },
      {
       "output_type": "stream",
       "stream": "stdout",
       "text": [
        "\n",
        "(('ee-mollie', 'multicore_cpu'), 5, 1000000.0, 1, 341.4366810321808)"
       ]
      },
      {
       "output_type": "stream",
       "stream": "stdout",
       "text": [
        "\n",
        "(('ee-mollie', 'multicore_cpu'), 6, 1000000.0, 1, 175.4477150440216)"
       ]
      },
      {
       "output_type": "stream",
       "stream": "stdout",
       "text": [
        "\n",
        "(('ee-mollie', 'multicore_cpu'), 7, 1000000.0, 1, 280.60330390930176)"
       ]
      },
      {
       "output_type": "stream",
       "stream": "stdout",
       "text": [
        "\n",
        "(('ee-mollie', 'multicore_cpu'), 8, 1000000.0, 1, 482.04164695739746)"
       ]
      },
      {
       "output_type": "stream",
       "stream": "stdout",
       "text": [
        "\n",
        "(('ee-mollie', 'multicore_cpu'), 9, 1000000.0, 1, 278.1788260936737)"
       ]
      },
      {
       "output_type": "stream",
       "stream": "stdout",
       "text": [
        "\n",
        "(('ee-mollie', 'multicore_cpu'), 10, 1000000.0, 1, 623.3703560829163)"
       ]
      },
      {
       "output_type": "stream",
       "stream": "stdout",
       "text": [
        "\n",
        "(('ee-mollie', 'multicore_cpu'), 11, 1000000.0, 1, 351.87125992774963)"
       ]
      },
      {
       "output_type": "stream",
       "stream": "stdout",
       "text": [
        "\n",
        "(('ee-mollie', 'multicore_cpu'), 12, 1000000.0, 1, 192.78328108787537)"
       ]
      },
      {
       "output_type": "stream",
       "stream": "stdout",
       "text": [
        "\n",
        "(('ee-mollie', 'multicore_cpu'), 0, 1000000.0, 2, 319.91750597953796)"
       ]
      },
      {
       "output_type": "stream",
       "stream": "stdout",
       "text": [
        "\n",
        "(('ee-mollie', 'multicore_cpu'), 1, 1000000.0, 2, 130.5211730003357)"
       ]
      },
      {
       "output_type": "stream",
       "stream": "stdout",
       "text": [
        "\n",
        "(('ee-mollie', 'multicore_cpu'), 2, 1000000.0, 2, 174.90160417556763)"
       ]
      },
      {
       "output_type": "stream",
       "stream": "stdout",
       "text": [
        "\n",
        "(('ee-mollie', 'multicore_cpu'), 3, 1000000.0, 2, 172.2746078968048)"
       ]
      },
      {
       "output_type": "stream",
       "stream": "stdout",
       "text": [
        "\n",
        "(('ee-mollie', 'multicore_cpu'), 4, 1000000.0, 2, 252.9724600315094)"
       ]
      },
      {
       "output_type": "stream",
       "stream": "stdout",
       "text": [
        "\n",
        "(('ee-mollie', 'multicore_cpu'), 5, 1000000.0, 2, 180.74999904632568)"
       ]
      },
      {
       "output_type": "stream",
       "stream": "stdout",
       "text": [
        "\n",
        "(('ee-mollie', 'multicore_cpu'), 6, 1000000.0, 2, 92.78229594230652)"
       ]
      },
      {
       "output_type": "stream",
       "stream": "stdout",
       "text": [
        "\n",
        "(('ee-mollie', 'multicore_cpu'), 7, 1000000.0, 2, 150.03022003173828)"
       ]
      },
      {
       "output_type": "stream",
       "stream": "stdout",
       "text": [
        "\n",
        "(('ee-mollie', 'multicore_cpu'), 8, 1000000.0, 2, 259.64331889152527)"
       ]
      },
      {
       "output_type": "stream",
       "stream": "stdout",
       "text": [
        "\n",
        "(('ee-mollie', 'multicore_cpu'), 9, 1000000.0, 2, 149.4693148136139)"
       ]
      },
      {
       "output_type": "stream",
       "stream": "stdout",
       "text": [
        "\n",
        "(('ee-mollie', 'multicore_cpu'), 10, 1000000.0, 2, 332.58055901527405)"
       ]
      },
      {
       "output_type": "stream",
       "stream": "stdout",
       "text": [
        "\n",
        "(('ee-mollie', 'multicore_cpu'), 11, 1000000.0, 2, 190.02172899246216)"
       ]
      },
      {
       "output_type": "stream",
       "stream": "stdout",
       "text": [
        "\n",
        "(('ee-mollie', 'multicore_cpu'), 12, 1000000.0, 2, 102.60071015357971)"
       ]
      },
      {
       "output_type": "stream",
       "stream": "stdout",
       "text": [
        "\n",
        "(('ee-mollie', 'multicore_cpu'), 0, 1000000.0, 4, 195.72227811813354)"
       ]
      },
      {
       "output_type": "stream",
       "stream": "stdout",
       "text": [
        "\n",
        "(('ee-mollie', 'multicore_cpu'), 1, 1000000.0, 4, 80.34337401390076)"
       ]
      },
      {
       "output_type": "stream",
       "stream": "stdout",
       "text": [
        "\n",
        "(('ee-mollie', 'multicore_cpu'), 2, 1000000.0, 4, 114.45133876800537)"
       ]
      },
      {
       "output_type": "stream",
       "stream": "stdout",
       "text": [
        "\n",
        "(('ee-mollie', 'multicore_cpu'), 3, 1000000.0, 4, 108.04962182044983)"
       ]
      },
      {
       "output_type": "stream",
       "stream": "stdout",
       "text": [
        "\n",
        "(('ee-mollie', 'multicore_cpu'), 4, 1000000.0, 4, 158.89698481559753)"
       ]
      },
      {
       "output_type": "stream",
       "stream": "stdout",
       "text": [
        "\n",
        "(('ee-mollie', 'multicore_cpu'), 5, 1000000.0, 4, 112.25499606132507)"
       ]
      },
      {
       "output_type": "stream",
       "stream": "stdout",
       "text": [
        "\n",
        "(('ee-mollie', 'multicore_cpu'), 6, 1000000.0, 4, 58.180485010147095)"
       ]
      },
      {
       "output_type": "stream",
       "stream": "stdout",
       "text": [
        "\n",
        "(('ee-mollie', 'multicore_cpu'), 7, 1000000.0, 4, 91.44756507873535)"
       ]
      },
      {
       "output_type": "stream",
       "stream": "stdout",
       "text": [
        "\n",
        "(('ee-mollie', 'multicore_cpu'), 8, 1000000.0, 4, 159.29872584342957)"
       ]
      },
      {
       "output_type": "stream",
       "stream": "stdout",
       "text": [
        "\n",
        "(('ee-mollie', 'multicore_cpu'), 9, 1000000.0, 4, 92.05616903305054)"
       ]
      },
      {
       "output_type": "stream",
       "stream": "stdout",
       "text": [
        "\n",
        "(('ee-mollie', 'multicore_cpu'), 10, 1000000.0, 4, 203.48915815353394)"
       ]
      },
      {
       "output_type": "stream",
       "stream": "stdout",
       "text": [
        "\n",
        "(('ee-mollie', 'multicore_cpu'), 11, 1000000.0, 4, 116.69254612922668)"
       ]
      },
      {
       "output_type": "stream",
       "stream": "stdout",
       "text": [
        "\n",
        "(('ee-mollie', 'multicore_cpu'), 12, 1000000.0, 4, 65.01236009597778)"
       ]
      },
      {
       "output_type": "stream",
       "stream": "stdout",
       "text": [
        "\n",
        "(('ee-mollie', 'multicore_cpu'), 0, 1000000.0, 8, 125.7612202167511)"
       ]
      },
      {
       "output_type": "stream",
       "stream": "stdout",
       "text": [
        "\n",
        "(('ee-mollie', 'multicore_cpu'), 1, 1000000.0, 8, 53.070924043655396)"
       ]
      },
      {
       "output_type": "stream",
       "stream": "stdout",
       "text": [
        "\n",
        "(('ee-mollie', 'multicore_cpu'), 2, 1000000.0, 8, 69.0056700706482)"
       ]
      },
      {
       "output_type": "stream",
       "stream": "stdout",
       "text": [
        "\n",
        "(('ee-mollie', 'multicore_cpu'), 3, 1000000.0, 8, 68.1300208568573)"
       ]
      },
      {
       "output_type": "stream",
       "stream": "stdout",
       "text": [
        "\n",
        "(('ee-mollie', 'multicore_cpu'), 4, 1000000.0, 8, 99.38849902153015)"
       ]
      },
      {
       "output_type": "stream",
       "stream": "stdout",
       "text": [
        "\n",
        "(('ee-mollie', 'multicore_cpu'), 5, 1000000.0, 8, 70.66972279548645)"
       ]
      },
      {
       "output_type": "stream",
       "stream": "stdout",
       "text": [
        "\n",
        "(('ee-mollie', 'multicore_cpu'), 6, 1000000.0, 8, 36.9642391204834)"
       ]
      },
      {
       "output_type": "stream",
       "stream": "stdout",
       "text": [
        "\n",
        "(('ee-mollie', 'multicore_cpu'), 7, 1000000.0, 8, 57.08954691886902)"
       ]
      },
      {
       "output_type": "stream",
       "stream": "stdout",
       "text": [
        "\n",
        "(('ee-mollie', 'multicore_cpu'), 8, 1000000.0, 8, 99.07449507713318)"
       ]
      },
      {
       "output_type": "stream",
       "stream": "stdout",
       "text": [
        "\n",
        "(('ee-mollie', 'multicore_cpu'), 9, 1000000.0, 8, 57.70108890533447)"
       ]
      },
      {
       "output_type": "stream",
       "stream": "stdout",
       "text": [
        "\n",
        "(('ee-mollie', 'multicore_cpu'), 10, 1000000.0, 8, 127.8650131225586)"
       ]
      },
      {
       "output_type": "stream",
       "stream": "stdout",
       "text": [
        "\n",
        "(('ee-mollie', 'multicore_cpu'), 11, 1000000.0, 8, 71.74526906013489)"
       ]
      },
      {
       "output_type": "stream",
       "stream": "stdout",
       "text": [
        "\n",
        "(('ee-mollie', 'multicore_cpu'), 12, 1000000.0, 8, 49.04112005233765)"
       ]
      },
      {
       "output_type": "stream",
       "stream": "stdout",
       "text": [
        "\n",
        "(('ee-mollie', 'multicore_cpu'), 0, 1000000.0, 16, 125.51314806938171)"
       ]
      },
      {
       "output_type": "stream",
       "stream": "stdout",
       "text": [
        "\n",
        "(('ee-mollie', 'multicore_cpu'), 1, 1000000.0, 16, 52.54803109169006)"
       ]
      },
      {
       "output_type": "stream",
       "stream": "stdout",
       "text": [
        "\n",
        "(('ee-mollie', 'multicore_cpu'), 2, 1000000.0, 16, 69.122309923172)"
       ]
      },
      {
       "output_type": "stream",
       "stream": "stdout",
       "text": [
        "\n",
        "(('ee-mollie', 'multicore_cpu'), 3, 1000000.0, 16, 68.49193286895752)"
       ]
      },
      {
       "output_type": "stream",
       "stream": "stdout",
       "text": [
        "\n",
        "(('ee-mollie', 'multicore_cpu'), 4, 1000000.0, 16, 99.34709310531616)"
       ]
      },
      {
       "output_type": "stream",
       "stream": "stdout",
       "text": [
        "\n",
        "(('ee-mollie', 'multicore_cpu'), 5, 1000000.0, 16, 70.91737604141235)"
       ]
      },
      {
       "output_type": "stream",
       "stream": "stdout",
       "text": [
        "\n",
        "(('ee-mollie', 'multicore_cpu'), 6, 1000000.0, 16, 36.9469838142395)"
       ]
      },
      {
       "output_type": "stream",
       "stream": "stdout",
       "text": [
        "\n",
        "(('ee-mollie', 'multicore_cpu'), 7, 1000000.0, 16, 58.07823300361633)"
       ]
      },
      {
       "output_type": "stream",
       "stream": "stdout",
       "text": [
        "\n",
        "(('ee-mollie', 'multicore_cpu'), 8, 1000000.0, 16, 99.53216791152954)"
       ]
      },
      {
       "output_type": "stream",
       "stream": "stdout",
       "text": [
        "\n",
        "(('ee-mollie', 'multicore_cpu'), 9, 1000000.0, 16, 57.967905044555664)"
       ]
      },
      {
       "output_type": "stream",
       "stream": "stdout",
       "text": [
        "\n",
        "(('ee-mollie', 'multicore_cpu'), 10, 1000000.0, 16, 127.6596610546112)"
       ]
      },
      {
       "output_type": "stream",
       "stream": "stdout",
       "text": [
        "\n",
        "(('ee-mollie', 'multicore_cpu'), 11, 1000000.0, 16, 71.57050108909607)"
       ]
      },
      {
       "output_type": "stream",
       "stream": "stdout",
       "text": [
        "\n",
        "(('ee-mollie', 'multicore_cpu'), 12, 1000000.0, 16, 49.21515893936157)"
       ]
      },
      {
       "output_type": "stream",
       "stream": "stdout",
       "text": [
        "\n",
        "(('ee-mollie', 'multicore_cpu'), 0, 1000000.0, 32, 125.4436719417572)"
       ]
      },
      {
       "output_type": "stream",
       "stream": "stdout",
       "text": [
        "\n",
        "(('ee-mollie', 'multicore_cpu'), 1, 1000000.0, 32, 52.75037884712219)"
       ]
      },
      {
       "output_type": "stream",
       "stream": "stdout",
       "text": [
        "\n",
        "(('ee-mollie', 'multicore_cpu'), 2, 1000000.0, 32, 68.75811409950256)"
       ]
      },
      {
       "output_type": "stream",
       "stream": "stdout",
       "text": [
        "\n",
        "(('ee-mollie', 'multicore_cpu'), 3, 1000000.0, 32, 67.83033108711243)"
       ]
      },
      {
       "output_type": "stream",
       "stream": "stdout",
       "text": [
        "\n",
        "(('ee-mollie', 'multicore_cpu'), 4, 1000000.0, 32, 98.97953796386719)"
       ]
      },
      {
       "output_type": "stream",
       "stream": "stdout",
       "text": [
        "\n",
        "(('ee-mollie', 'multicore_cpu'), 5, 1000000.0, 32, 70.49577689170837)"
       ]
      },
      {
       "output_type": "stream",
       "stream": "stdout",
       "text": [
        "\n",
        "(('ee-mollie', 'multicore_cpu'), 6, 1000000.0, 32, 36.82595086097717)"
       ]
      },
      {
       "output_type": "stream",
       "stream": "stdout",
       "text": [
        "\n",
        "(('ee-mollie', 'multicore_cpu'), 7, 1000000.0, 32, 57.22329902648926)"
       ]
      },
      {
       "output_type": "stream",
       "stream": "stdout",
       "text": [
        "\n",
        "(('ee-mollie', 'multicore_cpu'), 8, 1000000.0, 32, 99.14811992645264)"
       ]
      },
      {
       "output_type": "stream",
       "stream": "stdout",
       "text": [
        "\n",
        "(('ee-mollie', 'multicore_cpu'), 9, 1000000.0, 32, 57.3171751499176)"
       ]
      },
      {
       "output_type": "stream",
       "stream": "stdout",
       "text": [
        "\n",
        "(('ee-mollie', 'multicore_cpu'), 10, 1000000.0, 32, 127.73720192909241)"
       ]
      },
      {
       "output_type": "stream",
       "stream": "stdout",
       "text": [
        "\n",
        "(('ee-mollie', 'multicore_cpu'), 11, 1000000.0, 32, 72.25419998168945)"
       ]
      },
      {
       "output_type": "stream",
       "stream": "stdout",
       "text": [
        "\n",
        "(('ee-mollie', 'multicore_cpu'), 12, 1000000.0, 32, 49.44334697723389)"
       ]
      },
      {
       "output_type": "stream",
       "stream": "stdout",
       "text": [
        "\n"
       ]
      }
     ],
     "prompt_number": 10
    },
    {
     "cell_type": "code",
     "collapsed": false,
     "input": [
      "results = []\n",
      "for p,pid in zip(platforms,platform_names): \n",
      "    platform_task_benchmark(p,pid,option_tasks,paths,queue,output_queue,)\n",
      "    \n",
      "    while not(output_queue.empty()): print(output_queue.get())\n",
      "    while not(queue.empty()): results += [queue.get()]"
     ],
     "language": "python",
     "metadata": {},
     "outputs": [
      {
       "ename": "KeyboardInterrupt",
       "evalue": "",
       "output_type": "pyerr",
       "traceback": [
        "\u001b[0;31m---------------------------------------------------------------------------\u001b[0m\n\u001b[0;31mKeyboardInterrupt\u001b[0m                         Traceback (most recent call last)",
        "\u001b[0;32m<ipython-input-78-3c5cdcfd5a6f>\u001b[0m in \u001b[0;36m<module>\u001b[0;34m()\u001b[0m\n\u001b[1;32m      1\u001b[0m \u001b[0mresults\u001b[0m \u001b[0;34m=\u001b[0m \u001b[0;34m[\u001b[0m\u001b[0;34m]\u001b[0m\u001b[0;34m\u001b[0m\u001b[0m\n\u001b[1;32m      2\u001b[0m \u001b[0;32mfor\u001b[0m \u001b[0mp\u001b[0m\u001b[0;34m,\u001b[0m\u001b[0mpid\u001b[0m \u001b[0;32min\u001b[0m \u001b[0mzip\u001b[0m\u001b[0;34m(\u001b[0m\u001b[0mplatforms\u001b[0m\u001b[0;34m,\u001b[0m\u001b[0mplatform_names\u001b[0m\u001b[0;34m)\u001b[0m\u001b[0;34m:\u001b[0m\u001b[0;34m\u001b[0m\u001b[0m\n\u001b[0;32m----> 3\u001b[0;31m     \u001b[0mplatform_task_benchmark\u001b[0m\u001b[0;34m(\u001b[0m\u001b[0mp\u001b[0m\u001b[0;34m,\u001b[0m\u001b[0mpid\u001b[0m\u001b[0;34m,\u001b[0m\u001b[0moption_tasks\u001b[0m\u001b[0;34m,\u001b[0m\u001b[0mpaths\u001b[0m\u001b[0;34m,\u001b[0m\u001b[0mqueue\u001b[0m\u001b[0;34m,\u001b[0m\u001b[0moutput_queue\u001b[0m\u001b[0;34m,\u001b[0m\u001b[0;34m)\u001b[0m\u001b[0;34m\u001b[0m\u001b[0m\n\u001b[0m\u001b[1;32m      4\u001b[0m \u001b[0;34m\u001b[0m\u001b[0m\n\u001b[1;32m      5\u001b[0m     \u001b[0;32mwhile\u001b[0m \u001b[0;32mnot\u001b[0m\u001b[0;34m(\u001b[0m\u001b[0moutput_queue\u001b[0m\u001b[0;34m.\u001b[0m\u001b[0mempty\u001b[0m\u001b[0;34m(\u001b[0m\u001b[0;34m)\u001b[0m\u001b[0;34m)\u001b[0m\u001b[0;34m:\u001b[0m \u001b[0;32mprint\u001b[0m\u001b[0;34m(\u001b[0m\u001b[0moutput_queue\u001b[0m\u001b[0;34m.\u001b[0m\u001b[0mget\u001b[0m\u001b[0;34m(\u001b[0m\u001b[0;34m)\u001b[0m\u001b[0;34m)\u001b[0m\u001b[0;34m\u001b[0m\u001b[0m\n",
        "\u001b[0;32m<ipython-input-75-b680cf355ba8>\u001b[0m in \u001b[0;36mplatform_task_benchmark\u001b[0;34m(platform, platform_name, option_tasks, paths, queue, output_queue)\u001b[0m\n\u001b[1;32m     14\u001b[0m                     \u001b[0mmc_solver\u001b[0m\u001b[0;34m.\u001b[0m\u001b[0msolver_metadata\u001b[0m\u001b[0;34m[\u001b[0m\u001b[0;34m\"paths\"\u001b[0m\u001b[0;34m]\u001b[0m \u001b[0;34m=\u001b[0m \u001b[0mpaths\u001b[0m\u001b[0;34m\u001b[0m\u001b[0m\n\u001b[1;32m     15\u001b[0m \u001b[0;34m\u001b[0m\u001b[0m\n\u001b[0;32m---> 16\u001b[0;31m                     \u001b[0mresult\u001b[0m \u001b[0;34m=\u001b[0m \u001b[0mmc_solver\u001b[0m\u001b[0;34m.\u001b[0m\u001b[0mexecute\u001b[0m\u001b[0;34m(\u001b[0m\u001b[0;34m)\u001b[0m\u001b[0;34m\u001b[0m\u001b[0m\n\u001b[0m\u001b[1;32m     17\u001b[0m \u001b[0;34m\u001b[0m\u001b[0m\n\u001b[1;32m     18\u001b[0m                     \u001b[0moutput_queue\u001b[0m\u001b[0;34m.\u001b[0m\u001b[0mput_nowait\u001b[0m\u001b[0;34m(\u001b[0m\u001b[0;34m(\u001b[0m\u001b[0mplatform_name\u001b[0m\u001b[0;34m,\u001b[0m\u001b[0moption_number\u001b[0m\u001b[0;34m,\u001b[0m\u001b[0mpaths\u001b[0m\u001b[0;34m,\u001b[0m\u001b[0mplatform\u001b[0m\u001b[0;34m.\u001b[0m\u001b[0mthreads\u001b[0m\u001b[0;34m,\u001b[0m\u001b[0mresult\u001b[0m\u001b[0;34m[\u001b[0m\u001b[0;34m-\u001b[0m\u001b[0;36m1\u001b[0m\u001b[0;34m]\u001b[0m\u001b[0;34m/\u001b[0m\u001b[0;36m1e6\u001b[0m\u001b[0;34m)\u001b[0m\u001b[0;34m)\u001b[0m\u001b[0;34m\u001b[0m\u001b[0m\n",
        "\u001b[0;32m/home/gordon/workspace/ForwardFinancialFramework/Platforms/MulticoreCPU/MulticoreCPU_MonteCarlo.pyc\u001b[0m in \u001b[0;36mexecute\u001b[0;34m(self, cleanup, debug, seed, timeout)\u001b[0m\n\u001b[1;32m    637\u001b[0m     \u001b[0menv\u001b[0m \u001b[0;34m=\u001b[0m \u001b[0mos\u001b[0m\u001b[0;34m.\u001b[0m\u001b[0menviron\u001b[0m\u001b[0;34m\u001b[0m\u001b[0m\n\u001b[1;32m    638\u001b[0m     \u001b[0mstart\u001b[0m \u001b[0;34m=\u001b[0m \u001b[0mtime\u001b[0m\u001b[0;34m.\u001b[0m\u001b[0mtime\u001b[0m\u001b[0;34m(\u001b[0m\u001b[0;34m)\u001b[0m \u001b[0;31m#Wall-time is measured by framework, as well as in the generated application to measure overhead in calling code\u001b[0m\u001b[0;34m\u001b[0m\u001b[0m\n\u001b[0;32m--> 639\u001b[0;31m     \u001b[0mresults\u001b[0m \u001b[0;34m=\u001b[0m \u001b[0msubprocess\u001b[0m\u001b[0;34m.\u001b[0m\u001b[0mcheck_output\u001b[0m\u001b[0;34m(\u001b[0m\u001b[0mrun_cmd\u001b[0m\u001b[0;34m,\u001b[0m\u001b[0menv\u001b[0m\u001b[0;34m=\u001b[0m\u001b[0menv\u001b[0m\u001b[0;34m,\u001b[0m\u001b[0mtimeout\u001b[0m\u001b[0;34m=\u001b[0m\u001b[0mtimeout\u001b[0m\u001b[0;34m)\u001b[0m\u001b[0;34m\u001b[0m\u001b[0m\n\u001b[0m\u001b[1;32m    640\u001b[0m     \u001b[0mfinish\u001b[0m \u001b[0;34m=\u001b[0m \u001b[0mtime\u001b[0m\u001b[0;34m.\u001b[0m\u001b[0mtime\u001b[0m\u001b[0;34m(\u001b[0m\u001b[0;34m)\u001b[0m\u001b[0;34m\u001b[0m\u001b[0m\n\u001b[1;32m    641\u001b[0m \u001b[0;34m\u001b[0m\u001b[0m\n",
        "\u001b[0;32m/usr/local/lib/python2.7/dist-packages/subprocess32.pyc\u001b[0m in \u001b[0;36mcheck_output\u001b[0;34m(*popenargs, **kwargs)\u001b[0m\n\u001b[1;32m    626\u001b[0m     \u001b[0mprocess\u001b[0m \u001b[0;34m=\u001b[0m \u001b[0mPopen\u001b[0m\u001b[0;34m(\u001b[0m\u001b[0mstdout\u001b[0m\u001b[0;34m=\u001b[0m\u001b[0mPIPE\u001b[0m\u001b[0;34m,\u001b[0m \u001b[0;34m*\u001b[0m\u001b[0mpopenargs\u001b[0m\u001b[0;34m,\u001b[0m \u001b[0;34m**\u001b[0m\u001b[0mkwargs\u001b[0m\u001b[0;34m)\u001b[0m\u001b[0;34m\u001b[0m\u001b[0m\n\u001b[1;32m    627\u001b[0m     \u001b[0;32mtry\u001b[0m\u001b[0;34m:\u001b[0m\u001b[0;34m\u001b[0m\u001b[0m\n\u001b[0;32m--> 628\u001b[0;31m         \u001b[0moutput\u001b[0m\u001b[0;34m,\u001b[0m \u001b[0munused_err\u001b[0m \u001b[0;34m=\u001b[0m \u001b[0mprocess\u001b[0m\u001b[0;34m.\u001b[0m\u001b[0mcommunicate\u001b[0m\u001b[0;34m(\u001b[0m\u001b[0mtimeout\u001b[0m\u001b[0;34m=\u001b[0m\u001b[0mtimeout\u001b[0m\u001b[0;34m)\u001b[0m\u001b[0;34m\u001b[0m\u001b[0m\n\u001b[0m\u001b[1;32m    629\u001b[0m     \u001b[0;32mexcept\u001b[0m \u001b[0mTimeoutExpired\u001b[0m\u001b[0;34m:\u001b[0m\u001b[0;34m\u001b[0m\u001b[0m\n\u001b[1;32m    630\u001b[0m         \u001b[0mprocess\u001b[0m\u001b[0;34m.\u001b[0m\u001b[0mkill\u001b[0m\u001b[0;34m(\u001b[0m\u001b[0;34m)\u001b[0m\u001b[0;34m\u001b[0m\u001b[0m\n",
        "\u001b[0;32m/usr/local/lib/python2.7/dist-packages/subprocess32.pyc\u001b[0m in \u001b[0;36mcommunicate\u001b[0;34m(self, input, timeout)\u001b[0m\n\u001b[1;32m    913\u001b[0m                 \u001b[0mself\u001b[0m\u001b[0;34m.\u001b[0m\u001b[0mstdin\u001b[0m\u001b[0;34m.\u001b[0m\u001b[0mclose\u001b[0m\u001b[0;34m(\u001b[0m\u001b[0;34m)\u001b[0m\u001b[0;34m\u001b[0m\u001b[0m\n\u001b[1;32m    914\u001b[0m             \u001b[0;32melif\u001b[0m \u001b[0mself\u001b[0m\u001b[0;34m.\u001b[0m\u001b[0mstdout\u001b[0m\u001b[0;34m:\u001b[0m\u001b[0;34m\u001b[0m\u001b[0m\n\u001b[0;32m--> 915\u001b[0;31m                 \u001b[0mstdout\u001b[0m \u001b[0;34m=\u001b[0m \u001b[0m_eintr_retry_call\u001b[0m\u001b[0;34m(\u001b[0m\u001b[0mself\u001b[0m\u001b[0;34m.\u001b[0m\u001b[0mstdout\u001b[0m\u001b[0;34m.\u001b[0m\u001b[0mread\u001b[0m\u001b[0;34m)\u001b[0m\u001b[0;34m\u001b[0m\u001b[0m\n\u001b[0m\u001b[1;32m    916\u001b[0m                 \u001b[0mself\u001b[0m\u001b[0;34m.\u001b[0m\u001b[0mstdout\u001b[0m\u001b[0;34m.\u001b[0m\u001b[0mclose\u001b[0m\u001b[0;34m(\u001b[0m\u001b[0;34m)\u001b[0m\u001b[0;34m\u001b[0m\u001b[0m\n\u001b[1;32m    917\u001b[0m             \u001b[0;32melif\u001b[0m \u001b[0mself\u001b[0m\u001b[0;34m.\u001b[0m\u001b[0mstderr\u001b[0m\u001b[0;34m:\u001b[0m\u001b[0;34m\u001b[0m\u001b[0m\n",
        "\u001b[0;32m/usr/local/lib/python2.7/dist-packages/subprocess32.pyc\u001b[0m in \u001b[0;36m_eintr_retry_call\u001b[0;34m(func, *args)\u001b[0m\n\u001b[1;32m    541\u001b[0m     \u001b[0;32mwhile\u001b[0m \u001b[0mTrue\u001b[0m\u001b[0;34m:\u001b[0m\u001b[0;34m\u001b[0m\u001b[0m\n\u001b[1;32m    542\u001b[0m         \u001b[0;32mtry\u001b[0m\u001b[0;34m:\u001b[0m\u001b[0;34m\u001b[0m\u001b[0m\n\u001b[0;32m--> 543\u001b[0;31m             \u001b[0;32mreturn\u001b[0m \u001b[0mfunc\u001b[0m\u001b[0;34m(\u001b[0m\u001b[0;34m*\u001b[0m\u001b[0margs\u001b[0m\u001b[0;34m)\u001b[0m\u001b[0;34m\u001b[0m\u001b[0m\n\u001b[0m\u001b[1;32m    544\u001b[0m         \u001b[0;32mexcept\u001b[0m \u001b[0;34m(\u001b[0m\u001b[0mOSError\u001b[0m\u001b[0;34m,\u001b[0m \u001b[0mIOError\u001b[0m\u001b[0;34m)\u001b[0m\u001b[0;34m,\u001b[0m \u001b[0me\u001b[0m\u001b[0;34m:\u001b[0m\u001b[0;34m\u001b[0m\u001b[0m\n\u001b[1;32m    545\u001b[0m             \u001b[0;32mif\u001b[0m \u001b[0me\u001b[0m\u001b[0;34m.\u001b[0m\u001b[0merrno\u001b[0m \u001b[0;34m==\u001b[0m \u001b[0merrno\u001b[0m\u001b[0;34m.\u001b[0m\u001b[0mEINTR\u001b[0m\u001b[0;34m:\u001b[0m\u001b[0;34m\u001b[0m\u001b[0m\n",
        "\u001b[0;31mKeyboardInterrupt\u001b[0m: "
       ]
      }
     ],
     "prompt_number": 78
    },
    {
     "cell_type": "markdown",
     "metadata": {},
     "source": [
      "Processing results into a 3d matrix of platform-thread-task runtimes"
     ]
    },
    {
     "cell_type": "code",
     "collapsed": false,
     "input": [
      "thread_steps = int(numpy.ceil(numpy.log2(max_threads)))+3\n",
      "\n",
      "benchmark_results = numpy.zeros((len(platforms),thread_steps,len(option_tasks)))\n",
      "for r in results:\n",
      "    platform_name,option_number,threads,latency = r\n",
      "    platform_number = platform_names.index(platform_name)\n",
      "    thread_step_number = int(numpy.ceil(numpy.log2(threads)))\n",
      "    benchmark_results[platform_number,thread_step_number,option_number] = latency"
     ],
     "language": "python",
     "metadata": {},
     "outputs": [],
     "prompt_number": 12
    },
    {
     "cell_type": "code",
     "collapsed": false,
     "input": [
      "benchmark_sum = numpy.zeros((len(platforms),thread_steps))\n",
      "\n",
      "for i,p in enumerate(platform_names):\n",
      "    for t in range(thread_steps):\n",
      "        benchmark_sum[i,t] = numpy.sum(benchmark_results[i,t,:])"
     ],
     "language": "python",
     "metadata": {},
     "outputs": [],
     "prompt_number": 13
    },
    {
     "cell_type": "heading",
     "level": 2,
     "metadata": {},
     "source": [
      "Plotting and Outputing Results"
     ]
    },
    {
     "cell_type": "code",
     "collapsed": false,
     "input": [
      "data = []\n",
      "with open('CPU_KS_benchmark_scaling_results.csv','r') as benchmark_data_file:\n",
      "    csvreader = csv.reader(benchmark_data_file)\n",
      "    \n",
      "    for row in csvreader: data += row\n",
      "        \n",
      "data = numpy.array(data)\n",
      "data = data.reshape((len(data)/6,6))\n",
      "\n",
      "platform_names = set(data[:,0])\n",
      "\n",
      "max_thread_steps = 0\n",
      "for i,p in enumerate(platform_names):\n",
      "    selection = data[:,0]==p\n",
      "    selection &= data[:,2]=='1'\n",
      "    thread_steps = numpy.log2(numpy.max(data[:,-2][selection].astype(numpy.float)))\n",
      "    if(thread_steps > max_thread_steps): max_thread_steps = int(thread_steps)\n",
      "        \n",
      "benchmark_sum = numpy.zeros((len(platform_names),max_thread_steps))\n",
      "for i,p in enumerate(platform_names):    \n",
      "    for t in range(max_thread_steps):\n",
      "        selection = data[:,0]==p\n",
      "        selection &= data[:,-2].astype(numpy.int)==2**t\n",
      "        \n",
      "        benchmark_sum[i,t] = numpy.sum(data[:,-1][selection].astype(numpy.float))"
     ],
     "language": "python",
     "metadata": {},
     "outputs": [],
     "prompt_number": 66
    },
    {
     "cell_type": "code",
     "collapsed": false,
     "input": [
      "plt.rcParams['font.size'] = 18\n",
      "plt.rcParams['axes.linewidth'] = 1"
     ],
     "language": "python",
     "metadata": {},
     "outputs": [],
     "prompt_number": 67
    },
    {
     "cell_type": "code",
     "collapsed": false,
     "input": [
      "fig,ax = plt.subplots(1,1)\n",
      "\n",
      "for platform_name,platform_results in zip(platform_names,benchmark_sum):\n",
      "    thread_steps = numpy.sum(platform_results!=0)\n",
      "    ax.plot([2**i for i in range(thread_steps)],platform_results[0]/platform_results[:thread_steps],\"-x\",label=platform_name,linewidth=2,markersize=10,markeredgewidth=2)\n",
      "    \n",
      "#max_thread_steps = int(numpy.log2(max_threads))+3\n",
      "ax.plot([2**i for i in range(max_thread_steps+1)],[2**i for i in range(max_thread_steps+1)],\"--\")\n",
      "    \n",
      "ax.set_xlabel('Number of threads')\n",
      "ax.set_ylabel('Latency Scaling (latency / 1 thread latency)')\n",
      "\n",
      "ax.set_xscale('log')\n",
      "ax.set_yscale('log')\n",
      "\n",
      "ax.set_xticks([2**i for i in range(max_thread_steps+1)])\n",
      "ax.set_xticklabels([2**i for i in range(max_thread_steps+1)])\n",
      "ax.set_yticks([2**i for i in range(max_thread_steps+1)])\n",
      "ax.set_yticklabels([2**i for i in range(max_thread_steps+1)])\n",
      "\n",
      "ax.grid(True)\n",
      "ax.legend(loc='best')\n",
      "\n",
      "fig.set_size_inches(18,12)\n",
      "fig.savefig(\"CPU_KS_benchmark_scaling.pdf\",format='pdf')"
     ],
     "language": "python",
     "metadata": {},
     "outputs": [
      {
       "metadata": {},
       "output_type": "display_data",
       "png": "[encoded data removed]",
       "text": [
        "<matplotlib.figure.Figure at 0x7fbf1abd1690>"
       ]
      }
     ],
     "prompt_number": 71
    },
    {
     "cell_type": "code",
     "collapsed": false,
     "input": [
      "with open('CPU_KS_benchmark_scaling_results2.csv','w') as benchmark_data_file:\n",
      "    fieldnames = ('Platform Name','Platform Type','KS Option Number','Benchmark Paths','Threads','Latency')\n",
      "    csvwriter = csv.DictWriter(benchmark_data_file,fieldnames=fieldnames)\n",
      "    \n",
      "    for platform_name,platform_results in zip(platform_names,benchmark_results):\n",
      "        for i,option_results in enumerate(platform_results):\n",
      "            if(numpy.all(option_results!=0)):\n",
      "                for j,o_r in enumerate(option_results):\n",
      "                     csvwriter.writerow({'Platform Name':platform_name[0],\n",
      "                                         'Platform Type':platform_name[1],\n",
      "                                         'KS Option Number':j+1,\n",
      "                                         'Benchmark Paths':paths,\n",
      "                                         'Threads':2**i,\n",
      "                                         'Latency':o_r})"
     ],
     "language": "python",
     "metadata": {},
     "outputs": [],
     "prompt_number": 16
    },
    {
     "cell_type": "code",
     "collapsed": false,
     "input": [
      "%load CPU_KS_benchmark_scaling_results2.csv"
     ],
     "language": "python",
     "metadata": {},
     "outputs": [],
     "prompt_number": 17
    },
    {
     "cell_type": "code",
     "collapsed": false,
     "input": [],
     "language": "python",
     "metadata": {},
     "outputs": []
    }
   ],
   "metadata": {}
  }
 ]
}