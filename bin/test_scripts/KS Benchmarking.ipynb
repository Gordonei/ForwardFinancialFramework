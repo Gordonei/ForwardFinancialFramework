{
 "metadata": {
  "name": ""
 },
 "nbformat": 3,
 "nbformat_minor": 0,
 "worksheets": [
  {
   "cells": [
    {
     "cell_type": "heading",
     "level": 2,
     "metadata": {},
     "source": [
      "Introduction"
     ]
    },
    {
     "cell_type": "markdown",
     "metadata": {},
     "source": [
      "The Goal of this experiment is to calculate the performance of various platform implementations of $F^3$.\n",
      "\n",
      "The Aims:\n",
      "* Run the Kaiserslatuarn Benchmark (http://www.uni-kl.de/en/benchmarking/option-pricing/) on each platform for a considerable number of simulations (10M+) measuring the latency of each pricing task.\n",
      "* Use the known operations per task to calculate the performance (operations/second) of the result"
     ]
    },
    {
     "cell_type": "heading",
     "level": 2,
     "metadata": {},
     "source": [
      "Setup"
     ]
    },
    {
     "cell_type": "heading",
     "level": 3,
     "metadata": {},
     "source": [
      "Imports"
     ]
    },
    {
     "cell_type": "code",
     "collapsed": false,
     "input": [
      "import multiprocessing,time,csv\n",
      "import numpy,scipy.stats,pyopencl"
     ],
     "language": "python",
     "metadata": {},
     "outputs": [],
     "prompt_number": 1
    },
    {
     "cell_type": "code",
     "collapsed": false,
     "input": [
      "from ForwardFinancialFramework.Platforms.MulticoreCPU import MulticoreCPU_MonteCarlo, MulticoreCPU\n",
      "from ForwardFinancialFramework.Platforms.OpenCLGPU import OpenCLGPU_MonteCarlo,OpenCLGPU\n",
      "from ForwardFinancialFramework.Platforms.OpenCLAlteraFPGA import OpenCLAlteraFPGA_MonteCarlo,OpenCLAlteraFPGA\n",
      "from ForwardFinancialFramework.Platforms.MaxelerFPGA import MaxelerFPGA_MonteCarlo,MaxelerFPGA\n",
      "from ForwardFinancialFramework.bin import KS_ProblemSet"
     ],
     "language": "python",
     "metadata": {},
     "outputs": [],
     "prompt_number": 2
    },
    {
     "cell_type": "heading",
     "level": 3,
     "metadata": {},
     "source": [
      "Platforms"
     ]
    },
    {
     "cell_type": "code",
     "collapsed": false,
     "input": [
      "platforms = []"
     ],
     "language": "python",
     "metadata": {},
     "outputs": [],
     "prompt_number": 181
    },
    {
     "cell_type": "heading",
     "level": 4,
     "metadata": {},
     "source": [
      "Desktop CPU"
     ]
    },
    {
     "cell_type": "code",
     "collapsed": false,
     "input": [
      "platforms += [MulticoreCPU.MulticoreCPU(threads=7)] #0"
     ],
     "language": "python",
     "metadata": {},
     "outputs": [],
     "prompt_number": 120
    },
    {
     "cell_type": "heading",
     "level": 4,
     "metadata": {},
     "source": [
      "Local CPUs"
     ]
    },
    {
     "cell_type": "code",
     "collapsed": false,
     "input": [
      "platforms += [MulticoreCPU.MulticoreCPU(remote=True,ssh_alias=\"ee-mollie\")]"
     ],
     "language": "python",
     "metadata": {},
     "outputs": [],
     "prompt_number": 118
    },
    {
     "cell_type": "code",
     "collapsed": false,
     "input": [
      "platforms += [MulticoreCPU.MulticoreCPU(remote=True,ssh_alias=\"ee-benjamin\")] #1"
     ],
     "language": "python",
     "metadata": {},
     "outputs": [],
     "prompt_number": 119
    },
    {
     "cell_type": "code",
     "collapsed": false,
     "input": [
      "platforms += [MulticoreCPU.MulticoreCPU(remote=True,ssh_alias=\"pi\")] #2"
     ],
     "language": "python",
     "metadata": {},
     "outputs": [],
     "prompt_number": 182
    },
    {
     "cell_type": "heading",
     "level": 4,
     "metadata": {},
     "source": [
      "Local GPU"
     ]
    },
    {
     "cell_type": "code",
     "collapsed": false,
     "input": [
      "platforms += [OpenCLGPU.OpenCLGPU(remote=True,ssh_alias=\"ee-snowball0\")] #5"
     ],
     "language": "python",
     "metadata": {},
     "outputs": [],
     "prompt_number": 159
    },
    {
     "cell_type": "code",
     "collapsed": false,
     "input": [
      "platforms += [OpenCLGPU.OpenCLGPU(remote=True,ssh_alias=\"ee-snowball1\")] #6"
     ],
     "language": "python",
     "metadata": {},
     "outputs": [],
     "prompt_number": 160
    },
    {
     "cell_type": "heading",
     "level": 4,
     "metadata": {},
     "source": [
      "Local FPGA"
     ]
    },
    {
     "cell_type": "code",
     "collapsed": false,
     "input": [
      "platforms += [MaxelerFPGA.MaxelerFPGA(remote=True,ssh_alias=\"ee-mollie\")] #7"
     ],
     "language": "python",
     "metadata": {},
     "outputs": [],
     "prompt_number": 113
    },
    {
     "cell_type": "code",
     "collapsed": false,
     "input": [
      "platforms += [MaxelerFPGA.MaxelerFPGA(remote=True,ssh_alias=\"maxnode2\",boardid=\":0\")] #7"
     ],
     "language": "python",
     "metadata": {},
     "outputs": [],
     "prompt_number": 161
    },
    {
     "cell_type": "code",
     "collapsed": false,
     "input": [
      "platforms += [MaxelerFPGA.MaxelerFPGA(remote=True,ssh_alias=\"maia01\",board=\"max4\",boardid=\"test\")] #7"
     ],
     "language": "python",
     "metadata": {},
     "outputs": [],
     "prompt_number": 162
    },
    {
     "cell_type": "code",
     "collapsed": false,
     "input": [
      "platforms += [OpenCLAlteraFPGA.OpenCLAlteraFPGA(remote=True,ssh_alias=\"ee-snowball2\")] #8"
     ],
     "language": "python",
     "metadata": {},
     "outputs": [],
     "prompt_number": 163
    },
    {
     "cell_type": "heading",
     "level": 4,
     "metadata": {},
     "source": [
      "Remote Phi"
     ]
    },
    {
     "cell_type": "code",
     "collapsed": false,
     "input": [
      "platforms += [OpenCLGPU.OpenCLGPU(remote=True,ssh_alias=\"phi\",device_type=pyopencl.device_type.ACCELERATOR)] #9"
     ],
     "language": "python",
     "metadata": {},
     "outputs": [],
     "prompt_number": 164
    },
    {
     "cell_type": "heading",
     "level": 4,
     "metadata": {},
     "source": [
      "Remote CPUs"
     ]
    },
    {
     "cell_type": "code",
     "collapsed": false,
     "input": [
      "platforms += [MulticoreCPU.MulticoreCPU(threads=31,remote=True,ssh_alias=\"phi\")] #4"
     ],
     "language": "python",
     "metadata": {},
     "outputs": [],
     "prompt_number": 186
    },
    {
     "cell_type": "code",
     "collapsed": false,
     "input": [
      "platforms += [MulticoreCPU.MulticoreCPU(remote=True,ssh_alias=\"amazon-cpu-0\")] #10"
     ],
     "language": "python",
     "metadata": {},
     "outputs": [],
     "prompt_number": 187
    },
    {
     "cell_type": "code",
     "collapsed": false,
     "input": [
      "platforms += [MulticoreCPU.MulticoreCPU(remote=True,ssh_alias=\"google-cpu-0\")] #16"
     ],
     "language": "python",
     "metadata": {},
     "outputs": [],
     "prompt_number": 189
    },
    {
     "cell_type": "code",
     "collapsed": false,
     "input": [
      "platforms += [MulticoreCPU.MulticoreCPU(remote=True,ssh_alias=\"amazon-gpu-0\",threads=7)] #12"
     ],
     "language": "python",
     "metadata": {},
     "outputs": [],
     "prompt_number": 190
    },
    {
     "cell_type": "code",
     "collapsed": false,
     "input": [
      "platforms += [MulticoreCPU.MulticoreCPU(remote=True,ssh_alias=\"azure-cpu-0\")] #13"
     ],
     "language": "python",
     "metadata": {},
     "outputs": [],
     "prompt_number": 124
    },
    {
     "cell_type": "heading",
     "level": 4,
     "metadata": {},
     "source": [
      "Remote GPUs"
     ]
    },
    {
     "cell_type": "code",
     "collapsed": false,
     "input": [
      "platforms += [OpenCLGPU.OpenCLGPU(remote=True,ssh_alias=\"amazon-gpu-0\")] #14"
     ],
     "language": "python",
     "metadata": {},
     "outputs": [],
     "prompt_number": 165
    },
    {
     "cell_type": "heading",
     "level": 4,
     "metadata": {},
     "source": [
      "Platforms List"
     ]
    },
    {
     "cell_type": "code",
     "collapsed": false,
     "input": [
      "platform_names = []\n",
      "\n",
      "for p in platforms:\n",
      "    if (isinstance(p,MaxelerFPGA.MaxelerFPGA)):  platform_names += [(p.ssh_alias,p.name,p.boardid)]\n",
      "    else: platform_names += [(p.ssh_alias,p.name)]\n",
      "    print platform_names[-1]"
     ],
     "language": "python",
     "metadata": {},
     "outputs": [
      {
       "output_type": "stream",
       "stream": "stdout",
       "text": [
        "('pi', 'multicore_cpu')\n"
       ]
      }
     ],
     "prompt_number": 183
    },
    {
     "cell_type": "heading",
     "level": 3,
     "metadata": {},
     "source": [
      "KS Benchmark Set"
     ]
    },
    {
     "cell_type": "code",
     "collapsed": false,
     "input": [
      "option_tasks = [KS_ProblemSet.KS_Options([str(o)])[0] for o in range(1,14)]"
     ],
     "language": "python",
     "metadata": {},
     "outputs": [],
     "prompt_number": 11
    },
    {
     "cell_type": "heading",
     "level": 2,
     "metadata": {},
     "source": [
      "Benchmarking each task upon each platform"
     ]
    },
    {
     "cell_type": "heading",
     "level": 3,
     "metadata": {},
     "source": [
      "Setup"
     ]
    },
    {
     "cell_type": "markdown",
     "metadata": {},
     "source": [
      "Function for running a specified task on a specified platform. The results are put in a queue."
     ]
    },
    {
     "cell_type": "code",
     "collapsed": false,
     "input": [
      "def platform_task_benchmark(platform,platform_name,option_tasks,paths,queue,output_queue):\n",
      "    import subprocess32 as subprocess\n",
      "    \n",
      "    for option_number,option_task in enumerate(option_tasks):\n",
      "        if(isinstance(platform,MulticoreCPU.MulticoreCPU)): mc_solver = MulticoreCPU_MonteCarlo.MulticoreCPU_MonteCarlo([option_task],paths,platform)\n",
      "        elif(isinstance(platform,OpenCLGPU.OpenCLGPU) and platform.device_type==8): \n",
      "            mc_solver = OpenCLGPU_MonteCarlo.OpenCLGPU_MonteCarlo([option_task],paths,platform,kernel_path_max=1)\n",
      "            mc_solver.solver_metadata[\"work_groups_per_compute_unit\"] = 2\n",
      "            \n",
      "        elif(isinstance(platform,OpenCLGPU.OpenCLGPU)): \n",
      "            mc_solver = OpenCLGPU_MonteCarlo.OpenCLGPU_MonteCarlo([option_task],paths,platform)\n",
      "            mc_solver.solver_metadata[\"work_groups_per_compute_unit\"] = 2\n",
      "        elif(isinstance(platform,OpenCLAlteraFPGA.OpenCLAlteraFPGA)): mc_solver = OpenCLAlteraFPGA_MonteCarlo.OpenCLAlteraFPGA_MonteCarlo([option_task],paths,platform)\n",
      "        elif(isinstance(platform,MaxelerFPGA.MaxelerFPGA)): mc_solver = MaxelerFPGA_MonteCarlo.MaxelerFPGA_MonteCarlo([option_task],paths,platform)\n",
      "        \n",
      "        retries = 3\n",
      "        while(0 < retries):    \n",
      "            try:\n",
      "                mc_solver.paths = paths\n",
      "                mc_solver.solver_metadata[\"paths\"] = paths\n",
      "                \n",
      "                #if(isinstance(platform,MaxelerFPGA.MaxelerFPGA)):\n",
      "                    #mc_solver.dummy_run()\n",
      "                    #mc_solver.execute()\n",
      "                    \n",
      "                    #if(\"heston\" in option_task.underlying[0].name): mc_solver = MaxelerFPGA_MonteCarlo.MaxelerFPGA_MonteCarlo([option_task],paths,platform,instances=8)\n",
      "                    #elif(\"black_scholes\" in option_task.underlying[0].name): mc_solver = MaxelerFPGA_MonteCarlo.MaxelerFPGA_MonteCarlo([option_task],paths,platform,instances=16)\n",
      "                    \n",
      "                #elif(isinstance(platform,OpenCLGPU.OpenCLGPU) and platform.device_type==8): mc_solver = OpenCLGPU_MonteCarlo.OpenCLGPU_MonteCarlo([o],paths,platform,kernel_path_max=1)\n",
      "                #elif(isinstance(platform,OpenCLGPU.OpenCLGPU)): mc_solver = OpenCLGPU_MonteCarlo.OpenCLGPU_MonteCarlo([o],paths,platform)\n",
      "                #elif(isinstance(platform,OpenCLAlteraFPGA.OpenCLAlteraFPGA)): mc_solver = OpenCLAlteraFPGA_MonteCarlo.OpenCLAlteraFPGA_MonteCarlo([o],paths,platform)    \n",
      "                \n",
      "                #timeout = max(3*total_time,benchmarking_time_per_task) #we expect the time to double per iteration, so the worst case for the \n",
      "                result = mc_solver.execute() #timeout=timeout\n",
      "                \n",
      "                output_queue.put_nowait((platform_name,option_number,paths,result[-1]/1e6))\n",
      "                #print(platform_name,option_number,paths,result[-1]/1e6)\n",
      "                queue.put_nowait((platform_name,option_number,result[-1]/1e6))\n",
      "                \n",
      "                if(isinstance(platform,MaxelerFPGA.MaxelerFPGA)):\n",
      "                        if(platform.board==\"max4\"): time.sleep(15)\n",
      "            \n",
      "                break\n",
      "            \n",
      "                #total_time = result[-1]/1e6\n",
      "                #paths *= 2\n",
      "                \n",
      "            except subprocess.CalledProcessError as e:\n",
      "                output_queue.put_nowait(\"Error!\\nCommand:\" + str(e.cmd) + \"on \" + str(i) + \"\\nReturn: \" + str(e.output) + \"\\nReturncode: \" + str(e.returncode) + \"\\nretries remaining: \" + str(retries))\n",
      "                retries -= 1\n",
      "                \n",
      "                \"\"\"except subprocess.TimeoutExpired as e:\n",
      "                output_queue.put_nowait(\"Timeout!\\nCommand:\" + str(e.cmd) + \"on \" + str(i) + \"\\nReturn: \" + str(e.output) + \"\\nTimeout : \" + str(e.timeout))\n",
      "                retries -= 1\"\"\"\n",
      "        "
     ],
     "language": "python",
     "metadata": {},
     "outputs": [],
     "prompt_number": 167
    },
    {
     "cell_type": "heading",
     "level": 3,
     "metadata": {},
     "source": [
      "Benchmarking"
     ]
    },
    {
     "cell_type": "code",
     "collapsed": false,
     "input": [
      "paths = 1e5"
     ],
     "language": "python",
     "metadata": {},
     "outputs": [],
     "prompt_number": 184
    },
    {
     "cell_type": "code",
     "collapsed": false,
     "input": [
      "queue = multiprocessing.Queue(len(platforms)*len(option_tasks)*2)\n",
      "output_queue = multiprocessing.Queue()"
     ],
     "language": "python",
     "metadata": {},
     "outputs": [],
     "prompt_number": 185
    },
    {
     "cell_type": "code",
     "collapsed": false,
     "input": [
      "results = []\n",
      "try:\n",
      "    #Creating a process for each task\n",
      "    pool = [multiprocessing.Process(target=platform_task_benchmark,args=(p,pid,option_tasks,paths,queue,output_queue)) for p,pid in zip(platforms,platform_names)]\n",
      "    \n",
      "    #Starting the task on each platform\n",
      "    for p in pool: p.start()\n",
      "        \n",
      "    #Polling the queues while the tasks are busy\n",
      "    while(True):\n",
      "        while not(output_queue.empty()): print(output_queue.get())\n",
      "        while not(queue.empty()): results += [queue.get()]\n",
      "        \n",
      "        flag = True\n",
      "        for p in pool: \n",
      "            if(p.is_alive() and flag): flag = False\n",
      "            if(flag): break\n",
      "            \n",
      "        time.sleep(1)\n",
      "            \n",
      "    #Making sure all of the tasks are complete\n",
      "    for p in pool: \n",
      "        p.join()\n",
      "        del p\n",
      "            \n",
      "#If there is a keyboard interrupt\n",
      "except KeyboardInterrupt:\n",
      "    for p in pool: \n",
      "        p.terminate()\n",
      "        del p\n",
      "\"\"\"\n",
      "results = []\n",
      "for p,pid in zip(platforms,platform_names): \n",
      "    platform_task_benchmark(p,pid,option_tasks,paths,queue,output_queue,)\n",
      "    \n",
      "    while not(output_queue.empty()): print(output_queue.get())\n",
      "    while not(queue.empty()): results += [queue.get()]\n",
      "\"\"\""
     ],
     "language": "python",
     "metadata": {},
     "outputs": [],
     "prompt_number": "*"
    },
    {
     "cell_type": "markdown",
     "metadata": {},
     "source": [
      "Processing results into a 2d matrix of platform-task runtimes"
     ]
    },
    {
     "cell_type": "code",
     "collapsed": false,
     "input": [
      "benchmark_results = numpy.empty((len(platforms),len(option_tasks)))\n",
      "for r in results:\n",
      "    platform_name,option_number,latency = r\n",
      "    platform_number = platform_names.index(platform_name)\n",
      "    benchmark_results[platform_number,option_number] = latency"
     ],
     "language": "python",
     "metadata": {},
     "outputs": [],
     "prompt_number": "*"
    },
    {
     "cell_type": "code",
     "collapsed": false,
     "input": [
      "benchmark_results?"
     ],
     "language": "python",
     "metadata": {},
     "outputs": [],
     "prompt_number": 43
    },
    {
     "cell_type": "heading",
     "level": 2,
     "metadata": {},
     "source": [
      "Calculating Platform-Task Performance"
     ]
    },
    {
     "cell_type": "markdown",
     "metadata": {},
     "source": [
      "Option Pricing task FLOP counts"
     ]
    },
    {
     "cell_type": "code",
     "collapsed": false,
     "input": [
      "black_scholes_underlying_cost = 135168\n",
      "heston_underlying_cost = 315393"
     ],
     "language": "python",
     "metadata": {},
     "outputs": [],
     "prompt_number": 127
    },
    {
     "cell_type": "code",
     "collapsed": false,
     "input": [
      "european_option_cost = 2\n",
      "barrier_option_cost = 4098\n",
      "double_barrier_option_cost = 8192\n",
      "digital_double_barrier_option_cost = 8193\n",
      "asian_cost = 4099"
     ],
     "language": "python",
     "metadata": {},
     "outputs": [],
     "prompt_number": 128
    },
    {
     "cell_type": "code",
     "collapsed": false,
     "input": [
      "algorithm_overhead_cost = 8195"
     ],
     "language": "python",
     "metadata": {},
     "outputs": [],
     "prompt_number": 129
    },
    {
     "cell_type": "code",
     "collapsed": false,
     "input": [
      "option_task_cost_dict = {}\n",
      "option_task_cost_dict[\"european_option heston_underlying\"] = heston_underlying_cost + european_option_cost + algorithm_overhead_cost\n",
      "option_task_cost_dict[\"barrier_option heston_underlying\"] = heston_underlying_cost + barrier_option_cost + algorithm_overhead_cost\n",
      "option_task_cost_dict[\"double_barrier_option heston_underlying\"] = heston_underlying_cost + double_barrier_option_cost + algorithm_overhead_cost\n",
      "option_task_cost_dict[\"digital_double_barrier_option heston_underlying\"] = heston_underlying_cost + digital_double_barrier_option_cost + algorithm_overhead_cost\n",
      "option_task_cost_dict[\"asian_option black_scholes_underlying\"] = black_scholes_underlying_cost + asian_cost + algorithm_overhead_cost"
     ],
     "language": "python",
     "metadata": {},
     "outputs": [],
     "prompt_number": 130
    },
    {
     "cell_type": "markdown",
     "metadata": {},
     "source": [
      "Performing the FLOP calculation by task"
     ]
    },
    {
     "cell_type": "code",
     "collapsed": false,
     "input": [
      "flops = numpy.empty_like(benchmark_results)\n",
      "\n",
      "for i,o in enumerate(option_tasks):\n",
      "    option_cost = option_task_cost_dict[\"%s %s\"%(o.name,o.underlying[0].name)]*paths\n",
      "    flops[:,i] = option_cost/benchmark_results[:,i]"
     ],
     "language": "python",
     "metadata": {},
     "outputs": [],
     "prompt_number": "*"
    },
    {
     "cell_type": "heading",
     "level": 2,
     "metadata": {},
     "source": [
      "Results"
     ]
    },
    {
     "cell_type": "markdown",
     "metadata": {},
     "source": [
      "Function for reading in from file"
     ]
    },
    {
     "cell_type": "code",
     "collapsed": false,
     "input": [
      "data = {'Platform Name':[],'Platform Type':[],'Task':[],'Latency':[],'GFLOPS':[],'Benchmark Paths':[]}\n",
      "with open('KS_benchmark_performance_accelerators.csv','r') as benchmark_data_file:\n",
      "    csvreader = csv.DictReader(benchmark_data_file)\n",
      "    for row in csvreader:\n",
      "        for r in row: data[r] += [row[r]]\n",
      "            \n",
      "platform_names = set((name,type) for name,type in zip(data['Platform Name'],data['Platform Type']))\n",
      "flops = []\n",
      "for name,type in platform_names:\n",
      "    flops += [[]]\n",
      "    for i,(n,t) in enumerate(zip(data['Platform Name'],data['Platform Type'])):\n",
      "        if name==n and type==t: flops[-1] += [float(data['GFLOPS'][i])]\n",
      "            \n",
      "    flops[-1] = numpy.array(flops[-1])"
     ],
     "language": "python",
     "metadata": {},
     "outputs": [],
     "prompt_number": 20
    },
    {
     "cell_type": "code",
     "collapsed": false,
     "input": [
      "platform_labels = {\n",
      "                   ('ee-snowball2','opencl_alterafpga'):'Nallatech P385N-D5',\n",
      "                   ('maia01','maxeler_fpga'):'Maxeler Max4',\n",
      "                   ('maxnode2','maxeler_fpga'):'Maxeler Max3'\n",
      "                   }"
     ],
     "language": "python",
     "metadata": {},
     "outputs": [],
     "prompt_number": 28
    },
    {
     "cell_type": "code",
     "collapsed": false,
     "input": [
      "temp_platform_data = [(pn,f) for pn,f in zip(platform_names,flops) if pn in [('ee-snowball2','opencl_alterafpga'),('maia01','maxeler_fpga'),('maxnode2','maxeler_fpga')]] "
     ],
     "language": "python",
     "metadata": {},
     "outputs": [],
     "prompt_number": 31
    },
    {
     "cell_type": "code",
     "collapsed": false,
     "input": [
      "platform_names = []\n",
      "flops = []\n",
      "for pn,f in temp_platform_data:\n",
      "    platform_names += [pn]\n",
      "    flops += [f]"
     ],
     "language": "python",
     "metadata": {},
     "outputs": [],
     "prompt_number": 32
    },
    {
     "cell_type": "code",
     "collapsed": false,
     "input": [
      "temp_platform_names?"
     ],
     "language": "python",
     "metadata": {},
     "outputs": [],
     "prompt_number": 30
    },
    {
     "cell_type": "code",
     "collapsed": false,
     "input": [
      "plt.rcParams['font.size'] = 18\n",
      "plt.rcParams['axes.linewidth'] = 1"
     ],
     "language": "python",
     "metadata": {},
     "outputs": [],
     "prompt_number": 17
    },
    {
     "cell_type": "code",
     "collapsed": false,
     "input": [
      "import matplotlib.pyplot as plt\n",
      "\n",
      "fig,(ax1) = plt.subplots(1,1)\n",
      "\n",
      "numpy.random.seed(1234)\n",
      "width = 0.1\n",
      "for i,(platform,platform_flops) in enumerate(zip(platform_names,flops)):\n",
      "    colour = numpy.random.random(3)\n",
      "    width_offset = -len(platform_names)*width/2\n",
      "    ax1.bar(numpy.arange(len(platform_flops))+1+width*i+width_offset,platform_flops,width,label=platform_labels[platform],color=colour)\n",
      "    print \"%s: %f GFLOPS\" % (platform,scipy.stats.gmean(platform_flops))\n",
      "\n",
      "ax1.set_xticks(numpy.arange(13)+1)\n",
      "ax1.set_xticklabels(numpy.arange(13)+1)\n",
      "ax1.set_xlabel('KS Option Task')\n",
      "ax1.set_ylabel('Performance (GFLOPS)')\n",
      "ax1.legend(loc='best')\n",
      "    \n",
      "#numpy.random.seed(1234)\n",
      "#for platform in platform_names: ax2.bar([0],[0],0,label=platform,color=numpy.random.random(3))\n",
      "#ax2.legend(loc='center')\n",
      "\n",
      "fig.set_size_inches(16,12)\n",
      "fig.savefig(\"KS_benchmark_FPGAs.pdf\",format='pdf')"
     ],
     "language": "python",
     "metadata": {},
     "outputs": [
      {
       "output_type": "stream",
       "stream": "stdout",
       "text": [
        "('ee-snowball2', 'opencl_alterafpga'): 175.638728 GFLOPS\n",
        "('maia01', 'maxeler_fpga'): 168.421842 GFLOPS\n",
        "('maxnode2', 'maxeler_fpga'): 113.345436 GFLOPS\n"
       ]
      },
      {
       "metadata": {},
       "output_type": "display_data",
       "png": "[encoded data removed]",
       "text": [
        "<matplotlib.figure.Figure at 0x7f1452917d10>"
       ]
      }
     ],
     "prompt_number": 36
    },
    {
     "cell_type": "code",
     "collapsed": false,
     "input": [
      "with open('KS_benchmark_performance_cpus2.csv','w') as benchmark_data_file:\n",
      "    fieldnames = ('Platform Name','Platform Type','Task','Latency','GFLOPS','Benchmark Paths')\n",
      "    csvwriter = csv.DictWriter(benchmark_data_file,fieldnames=fieldnames)\n",
      "    for i,(platform,platform_latency) in enumerate(zip(platform_names,flops)):\n",
      "        for j in range(len(option_tasks)):\n",
      "            csvwriter.writerow({'Platform Name':platform[0],\n",
      "                                'Platform Type':platform[1],\n",
      "                                'Task':j,\n",
      "                                'Latency':benchmark_results[i,j],\n",
      "                                'GFLOPS':flops[i,j]/1e9,\n",
      "                                'Benchmark Paths':paths})"
     ],
     "language": "python",
     "metadata": {},
     "outputs": [],
     "prompt_number": "*"
    },
    {
     "cell_type": "code",
     "collapsed": false,
     "input": [],
     "language": "python",
     "metadata": {},
     "outputs": []
    }
   ],
   "metadata": {}
  }
 ]
}