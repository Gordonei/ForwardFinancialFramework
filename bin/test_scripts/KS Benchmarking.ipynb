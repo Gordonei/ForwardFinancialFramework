{
 "metadata": {
  "name": ""
 },
 "nbformat": 3,
 "nbformat_minor": 0,
 "worksheets": [
  {
   "cells": [
    {
     "cell_type": "heading",
     "level": 2,
     "metadata": {},
     "source": [
      "Introduction"
     ]
    },
    {
     "cell_type": "markdown",
     "metadata": {},
     "source": [
      "The Goal of this experiment is to calculate the performance of various platform implementations of $F^3$.\n",
      "\n",
      "The Aims:\n",
      "* Run the Kaiserslatuarn Benchmark (http://www.uni-kl.de/en/benchmarking/option-pricing/) on each platform for a considerable number of simulations (10M+) measuring the latency of each pricing task.\n",
      "* Use the known operations per task to calculate the performance (operations/second) of the result"
     ]
    },
    {
     "cell_type": "heading",
     "level": 2,
     "metadata": {},
     "source": [
      "Setup"
     ]
    },
    {
     "cell_type": "heading",
     "level": 3,
     "metadata": {},
     "source": [
      "Imports"
     ]
    },
    {
     "cell_type": "code",
     "collapsed": false,
     "input": [
      "import multiprocessing,time,csv\n",
      "import numpy,scipy.stats"
     ],
     "language": "python",
     "metadata": {},
     "outputs": [],
     "prompt_number": 1
    },
    {
     "cell_type": "code",
     "collapsed": false,
     "input": [
      "from ForwardFinancialFramework.Platforms.MulticoreCPU import MulticoreCPU_MonteCarlo, MulticoreCPU\n",
      "from ForwardFinancialFramework.Platforms.OpenCLGPU import OpenCLGPU_MonteCarlo,OpenCLGPU\n",
      "from ForwardFinancialFramework.Platforms.OpenCLAlteraFPGA import OpenCLAlteraFPGA_MonteCarlo,OpenCLAlteraFPGA\n",
      "from ForwardFinancialFramework.Platforms.MaxelerFPGA import MaxelerFPGA_MonteCarlo,MaxelerFPGA\n",
      "from ForwardFinancialFramework.bin import KS_ProblemSet"
     ],
     "language": "python",
     "metadata": {},
     "outputs": [],
     "prompt_number": 2
    },
    {
     "cell_type": "heading",
     "level": 3,
     "metadata": {},
     "source": [
      "Platforms"
     ]
    },
    {
     "cell_type": "code",
     "collapsed": false,
     "input": [
      "platforms = []"
     ],
     "language": "python",
     "metadata": {},
     "outputs": [],
     "prompt_number": 3
    },
    {
     "cell_type": "heading",
     "level": 4,
     "metadata": {},
     "source": [
      "Desktop CPU"
     ]
    },
    {
     "cell_type": "code",
     "collapsed": false,
     "input": [
      "platforms += [MulticoreCPU.MulticoreCPU(threads=7)] #0"
     ],
     "language": "python",
     "metadata": {},
     "outputs": [],
     "prompt_number": 120
    },
    {
     "cell_type": "heading",
     "level": 4,
     "metadata": {},
     "source": [
      "Local CPUs"
     ]
    },
    {
     "cell_type": "code",
     "collapsed": false,
     "input": [
      "platforms += [MulticoreCPU.MulticoreCPU(remote=True,ssh_alias=\"ee-benjamin\")] #1"
     ],
     "language": "python",
     "metadata": {},
     "outputs": [],
     "prompt_number": 140
    },
    {
     "cell_type": "code",
     "collapsed": false,
     "input": [
      "platforms += [MulticoreCPU.MulticoreCPU(remote=True,ssh_alias=\"pi\")] #2"
     ],
     "language": "python",
     "metadata": {},
     "outputs": [],
     "prompt_number": 227
    },
    {
     "cell_type": "heading",
     "level": 4,
     "metadata": {},
     "source": [
      "Local GPU"
     ]
    },
    {
     "cell_type": "code",
     "collapsed": false,
     "input": [
      "platforms += [OpenCLGPU.OpenCLGPU(remote=True,ssh_alias=\"ee-snowball0\")] #5"
     ],
     "language": "python",
     "metadata": {},
     "outputs": [],
     "prompt_number": 141
    },
    {
     "cell_type": "code",
     "collapsed": false,
     "input": [
      "platforms += [OpenCLGPU.OpenCLGPU(remote=True,ssh_alias=\"ee-snowball1\")] #6"
     ],
     "language": "python",
     "metadata": {},
     "outputs": [],
     "prompt_number": 142
    },
    {
     "cell_type": "heading",
     "level": 4,
     "metadata": {},
     "source": [
      "Local FPGA"
     ]
    },
    {
     "cell_type": "code",
     "collapsed": false,
     "input": [
      "platforms += [MaxelerFPGA.MaxelerFPGA(remote=True,ssh_alias=\"ee-mollie\")] #7"
     ],
     "language": "python",
     "metadata": {},
     "outputs": [],
     "prompt_number": 143
    },
    {
     "cell_type": "code",
     "collapsed": false,
     "input": [
      "platforms += [MaxelerFPGA.MaxelerFPGA(remote=True,ssh_alias=\"maxnode2\",boardid=\":0\")] #7"
     ],
     "language": "python",
     "metadata": {},
     "outputs": [],
     "prompt_number": 99
    },
    {
     "cell_type": "code",
     "collapsed": false,
     "input": [
      "platforms += [MaxelerFPGA.MaxelerFPGA(remote=True,ssh_alias=\"maxnode2\",boardid=\":1\")] #7"
     ],
     "language": "python",
     "metadata": {},
     "outputs": [],
     "prompt_number": 100
    },
    {
     "cell_type": "code",
     "collapsed": false,
     "input": [
      "platforms += [MaxelerFPGA.MaxelerFPGA(remote=True,ssh_alias=\"maia01\",board=\"max4\",boardid=\"192.168.0.10:0\")] #7"
     ],
     "language": "python",
     "metadata": {},
     "outputs": [],
     "prompt_number": 101
    },
    {
     "cell_type": "code",
     "collapsed": false,
     "input": [
      "platforms += [MaxelerFPGA.MaxelerFPGA(remote=True,ssh_alias=\"maia01\",board=\"max4\",boardid=\"192.168.0.10:1\")] #7"
     ],
     "language": "python",
     "metadata": {},
     "outputs": [],
     "prompt_number": 102
    },
    {
     "cell_type": "code",
     "collapsed": false,
     "input": [
      "platforms += [OpenCLAlteraFPGA.OpenCLAlteraFPGA(remote=True,ssh_alias=\"ee-snowball2\")] #8"
     ],
     "language": "python",
     "metadata": {},
     "outputs": [],
     "prompt_number": 144
    },
    {
     "cell_type": "heading",
     "level": 4,
     "metadata": {},
     "source": [
      "Remote Phi"
     ]
    },
    {
     "cell_type": "code",
     "collapsed": false,
     "input": [
      "platforms += [OpenCLGPU.OpenCLGPU(remote=True,ssh_alias=\"phi\",device_type=pyopencl.device_type.ACCELERATOR)] #9"
     ],
     "language": "python",
     "metadata": {},
     "outputs": [],
     "prompt_number": 5
    },
    {
     "cell_type": "heading",
     "level": 4,
     "metadata": {},
     "source": [
      "Remote CPUs"
     ]
    },
    {
     "cell_type": "code",
     "collapsed": false,
     "input": [
      "platforms += [MulticoreCPU.MulticoreCPU(threads=31,remote=True,ssh_alias=\"phi\")] #4"
     ],
     "language": "python",
     "metadata": {},
     "outputs": [],
     "prompt_number": 186
    },
    {
     "cell_type": "code",
     "collapsed": false,
     "input": [
      "platforms += [MulticoreCPU.MulticoreCPU(remote=True,ssh_alias=\"amazon-cpu-0\")] #10"
     ],
     "language": "python",
     "metadata": {},
     "outputs": [],
     "prompt_number": 187
    },
    {
     "cell_type": "code",
     "collapsed": false,
     "input": [
      "platforms += [MulticoreCPU.MulticoreCPU(remote=True,ssh_alias=\"amazon-cpu-1\")] #11"
     ],
     "language": "python",
     "metadata": {},
     "outputs": [],
     "prompt_number": 188
    },
    {
     "cell_type": "code",
     "collapsed": false,
     "input": [
      "platforms += [MulticoreCPU.MulticoreCPU(remote=True,ssh_alias=\"google-cpu-0\")] #16"
     ],
     "language": "python",
     "metadata": {},
     "outputs": [],
     "prompt_number": 189
    },
    {
     "cell_type": "code",
     "collapsed": false,
     "input": [
      "platforms += [MulticoreCPU.MulticoreCPU(remote=True,ssh_alias=\"amazon-gpu-0\",threads=7)] #12"
     ],
     "language": "python",
     "metadata": {},
     "outputs": [],
     "prompt_number": 190
    },
    {
     "cell_type": "code",
     "collapsed": false,
     "input": [
      "platforms += [MulticoreCPU.MulticoreCPU(remote=True,ssh_alias=\"amazon-gpu-1\",threads=7)] #13"
     ],
     "language": "python",
     "metadata": {},
     "outputs": [],
     "prompt_number": 191
    },
    {
     "cell_type": "code",
     "collapsed": false,
     "input": [
      "platforms += [MulticoreCPU.MulticoreCPU(remote=True,ssh_alias=\"azure-cpu-0\")] #13"
     ],
     "language": "python",
     "metadata": {},
     "outputs": [],
     "prompt_number": 124
    },
    {
     "cell_type": "heading",
     "level": 4,
     "metadata": {},
     "source": [
      "Remote GPUs"
     ]
    },
    {
     "cell_type": "code",
     "collapsed": false,
     "input": [
      "platforms += [OpenCLGPU.OpenCLGPU(remote=True,ssh_alias=\"amazon-gpu-0\")] #14"
     ],
     "language": "python",
     "metadata": {},
     "outputs": [],
     "prompt_number": 7
    },
    {
     "cell_type": "code",
     "collapsed": false,
     "input": [
      "platforms += [OpenCLGPU.OpenCLGPU(remote=True,ssh_alias=\"amazon-gpu-1\")] #15"
     ],
     "language": "python",
     "metadata": {},
     "outputs": [],
     "prompt_number": 193
    },
    {
     "cell_type": "heading",
     "level": 4,
     "metadata": {},
     "source": [
      "Platforms List"
     ]
    },
    {
     "cell_type": "code",
     "collapsed": false,
     "input": [
      "platform_names = []\n",
      "\n",
      "for p in platforms:\n",
      "    if (isinstance(p,MaxelerFPGA.MaxelerFPGA)):  platform_names += [(p.ssh_alias,p.name,p.boardid)]\n",
      "    else: platform_names += [(p.ssh_alias,p.name)]\n",
      "    print platform_names[-1]"
     ],
     "language": "python",
     "metadata": {},
     "outputs": [
      {
       "output_type": "stream",
       "stream": "stdout",
       "text": [
        "('phi', 'opencl_gpu')\n"
       ]
      }
     ],
     "prompt_number": 6
    },
    {
     "cell_type": "heading",
     "level": 3,
     "metadata": {},
     "source": [
      "KS Benchmark Set"
     ]
    },
    {
     "cell_type": "code",
     "collapsed": false,
     "input": [
      "option_tasks = [KS_ProblemSet.KS_Options([str(o)])[0] for o in range(1,14)]"
     ],
     "language": "python",
     "metadata": {},
     "outputs": [],
     "prompt_number": 7
    },
    {
     "cell_type": "heading",
     "level": 2,
     "metadata": {},
     "source": [
      "Benchmarking each task upon each platform"
     ]
    },
    {
     "cell_type": "heading",
     "level": 3,
     "metadata": {},
     "source": [
      "Setup"
     ]
    },
    {
     "cell_type": "markdown",
     "metadata": {},
     "source": [
      "Function for running a specified task on a specified platform. The results are put in a queue."
     ]
    },
    {
     "cell_type": "code",
     "collapsed": false,
     "input": [
      "def platform_task_benchmark(platform,platform_name,option_tasks,paths,queue,output_queue):\n",
      "    import subprocess32 as subprocess\n",
      "    \n",
      "    for option_number,option_task in enumerate(option_tasks):\n",
      "        if(isinstance(platform,MulticoreCPU.MulticoreCPU)): mc_solver = MulticoreCPU_MonteCarlo.MulticoreCPU_MonteCarlo([option_task],paths,platform)\n",
      "        elif(isinstance(platform,OpenCLGPU.OpenCLGPU) and platform.device_type==8): \n",
      "            mc_solver = OpenCLGPU_MonteCarlo.OpenCLGPU_MonteCarlo([option_task],paths,platform,kernel_path_max=1)\n",
      "            self.solver_metadata[\"work_groups_per_compute_unit\"] = 2\n",
      "            \n",
      "        elif(isinstance(platform,OpenCLGPU.OpenCLGPU)): mc_solver = OpenCLGPU_MonteCarlo.OpenCLGPU_MonteCarlo([option_task],paths,platform)\n",
      "        elif(isinstance(platform,OpenCLAlteraFPGA.OpenCLAlteraFPGA)): mc_solver = OpenCLAlteraFPGA_MonteCarlo.OpenCLAlteraFPGA_MonteCarlo([option_task],paths,platform)\n",
      "        elif(isinstance(platform,MaxelerFPGA.MaxelerFPGA)): mc_solver = MaxelerFPGA_MonteCarlo.MaxelerFPGA_MonteCarlo([option_task],paths,platform)\n",
      "        \n",
      "        retries = 3\n",
      "        while(0 < retries):    \n",
      "            try:\n",
      "                mc_solver.paths = paths\n",
      "                mc_solver.solver_metadata[\"paths\"] = paths\n",
      "                \n",
      "                #if(isinstance(platform,MaxelerFPGA.MaxelerFPGA)):\n",
      "                    #mc_solver.dummy_run()\n",
      "                    #mc_solver.execute()\n",
      "                    \n",
      "                    #if(\"heston\" in option_task.underlying[0].name): mc_solver = MaxelerFPGA_MonteCarlo.MaxelerFPGA_MonteCarlo([option_task],paths,platform,instances=8)\n",
      "                    #elif(\"black_scholes\" in option_task.underlying[0].name): mc_solver = MaxelerFPGA_MonteCarlo.MaxelerFPGA_MonteCarlo([option_task],paths,platform,instances=16)\n",
      "                    \n",
      "                #elif(isinstance(platform,OpenCLGPU.OpenCLGPU) and platform.device_type==8): mc_solver = OpenCLGPU_MonteCarlo.OpenCLGPU_MonteCarlo([o],paths,platform,kernel_path_max=1)\n",
      "                #elif(isinstance(platform,OpenCLGPU.OpenCLGPU)): mc_solver = OpenCLGPU_MonteCarlo.OpenCLGPU_MonteCarlo([o],paths,platform)\n",
      "                #elif(isinstance(platform,OpenCLAlteraFPGA.OpenCLAlteraFPGA)): mc_solver = OpenCLAlteraFPGA_MonteCarlo.OpenCLAlteraFPGA_MonteCarlo([o],paths,platform)    \n",
      "                \n",
      "                #timeout = max(3*total_time,benchmarking_time_per_task) #we expect the time to double per iteration, so the worst case for the \n",
      "                result = mc_solver.execute() #timeout=timeout\n",
      "                \n",
      "                output_queue.put_nowait((platform_name,option_number,paths,result[-1]/1e6))\n",
      "                #print(platform_name,option_number,paths,result[-1]/1e6)\n",
      "                queue.put_nowait((platform_name,option_number,result[-1]/1e6))\n",
      "            \n",
      "                break\n",
      "            \n",
      "                #total_time = result[-1]/1e6\n",
      "                #paths *= 2\n",
      "                \n",
      "            except subprocess.CalledProcessError as e:\n",
      "                output_queue.put_nowait(\"Error!\\nCommand:\" + str(e.cmd) + \"on \" + str(i) + \"\\nReturn: \" + str(e.output) + \"\\nReturncode: \" + str(e.returncode) + \"\\nretries remaining: \" + str(retries))\n",
      "                retries -= 1\n",
      "                \n",
      "                \"\"\"except subprocess.TimeoutExpired as e:\n",
      "                output_queue.put_nowait(\"Timeout!\\nCommand:\" + str(e.cmd) + \"on \" + str(i) + \"\\nReturn: \" + str(e.output) + \"\\nTimeout : \" + str(e.timeout))\n",
      "                retries -= 1\"\"\"\n",
      "        "
     ],
     "language": "python",
     "metadata": {},
     "outputs": [],
     "prompt_number": 8
    },
    {
     "cell_type": "heading",
     "level": 3,
     "metadata": {},
     "source": [
      "Benchmarking"
     ]
    },
    {
     "cell_type": "code",
     "collapsed": false,
     "input": [
      "paths = 1e7"
     ],
     "language": "python",
     "metadata": {},
     "outputs": [],
     "prompt_number": 9
    },
    {
     "cell_type": "code",
     "collapsed": false,
     "input": [
      "queue = multiprocessing.Queue(len(platforms)*len(option_tasks)*2)\n",
      "output_queue = multiprocessing.Queue()"
     ],
     "language": "python",
     "metadata": {},
     "outputs": [],
     "prompt_number": 10
    },
    {
     "cell_type": "code",
     "collapsed": false,
     "input": [
      "results = []\n",
      "try:\n",
      "    #Creating a process for each task\n",
      "    pool = [multiprocessing.Process(target=platform_task_benchmark,args=(p,pid,option_tasks,paths,queue,output_queue)) for p,pid in zip(platforms,platform_names)]\n",
      "    \n",
      "    #Starting the task on each platform\n",
      "    for p in pool: p.start()\n",
      "        \n",
      "    #Polling the queues while the tasks are busy\n",
      "    while(True):\n",
      "        while not(output_queue.empty()): print(output_queue.get())\n",
      "        while not(queue.empty()): results += [queue.get()]\n",
      "        \n",
      "        flag = True\n",
      "        for p in pool: \n",
      "            if(p.is_alive() and flag): flag = False\n",
      "            if(flag): break\n",
      "            \n",
      "        time.sleep(1)\n",
      "            \n",
      "    #Making sure all of the tasks are complete\n",
      "    for p in pool: \n",
      "        p.join()\n",
      "        del p\n",
      "            \n",
      "#If there is a keyboard interrupt\n",
      "except KeyboardInterrupt:\n",
      "    for p in pool: \n",
      "        p.terminate()\n",
      "        del p\n",
      "\"\"\"\n",
      "results = []\n",
      "for p,pid in zip(platforms,platform_names): \n",
      "    platform_task_benchmark(p,pid,option_tasks,paths,queue,output_queue,)\n",
      "    \n",
      "    while not(output_queue.empty()): print(output_queue.get())\n",
      "    while not(queue.empty()): results += [queue.get()]\n",
      "\"\"\""
     ],
     "language": "python",
     "metadata": {},
     "outputs": [
      {
       "output_type": "stream",
       "stream": "stdout",
       "text": [
        "(('phi', 'opencl_gpu'), 0, 10000000.0, 11.185736894607544)\n",
        "(('phi', 'opencl_gpu'), 1, 10000000.0, 21.307596921920776)"
       ]
      },
      {
       "output_type": "stream",
       "stream": "stdout",
       "text": [
        "\n",
        "(('phi', 'opencl_gpu'), 2, 10000000.0, 20.264137029647827)"
       ]
      },
      {
       "output_type": "stream",
       "stream": "stdout",
       "text": [
        "\n",
        "(('phi', 'opencl_gpu'), 3, 10000000.0, 20.248878002166748)"
       ]
      },
      {
       "output_type": "stream",
       "stream": "stdout",
       "text": [
        "\n",
        "(('phi', 'opencl_gpu'), 4, 10000000.0, 16.33924913406372)"
       ]
      },
      {
       "output_type": "stream",
       "stream": "stdout",
       "text": [
        "\n",
        "(('phi', 'opencl_gpu'), 5, 10000000.0, 19.90858507156372)"
       ]
      },
      {
       "output_type": "stream",
       "stream": "stdout",
       "text": [
        "\n",
        "(('phi', 'opencl_gpu'), 6, 10000000.0, 22.254759073257446)"
       ]
      },
      {
       "output_type": "stream",
       "stream": "stdout",
       "text": [
        "\n",
        "(('phi', 'opencl_gpu'), 7, 10000000.0, 20.616633892059326)"
       ]
      },
      {
       "output_type": "stream",
       "stream": "stdout",
       "text": [
        "\n",
        "(('phi', 'opencl_gpu'), 8, 10000000.0, 16.400114059448242)"
       ]
      },
      {
       "output_type": "stream",
       "stream": "stdout",
       "text": [
        "\n",
        "(('phi', 'opencl_gpu'), 9, 10000000.0, 20.20702600479126)"
       ]
      },
      {
       "output_type": "stream",
       "stream": "stdout",
       "text": [
        "\n",
        "(('phi', 'opencl_gpu'), 10, 10000000.0, 11.856866121292114)"
       ]
      },
      {
       "output_type": "stream",
       "stream": "stdout",
       "text": [
        "\n",
        "(('phi', 'opencl_gpu'), 11, 10000000.0, 19.581352949142456)"
       ]
      },
      {
       "output_type": "stream",
       "stream": "stdout",
       "text": [
        "\n",
        "(('phi', 'opencl_gpu'), 12, 10000000.0, 8.260496854782104)"
       ]
      },
      {
       "output_type": "stream",
       "stream": "stdout",
       "text": [
        "\n"
       ]
      },
      {
       "metadata": {},
       "output_type": "pyout",
       "prompt_number": 11,
       "text": [
        "'\\nresults = []\\nfor p,pid in zip(platforms,platform_names): \\n    platform_task_benchmark(p,pid,option_tasks,paths,queue,output_queue,)\\n    \\n    while not(output_queue.empty()): print(output_queue.get())\\n    while not(queue.empty()): results += [queue.get()]\\n'"
       ]
      }
     ],
     "prompt_number": 11
    },
    {
     "cell_type": "markdown",
     "metadata": {},
     "source": [
      "Processing results into a 2d matrix of platform-task runtimes"
     ]
    },
    {
     "cell_type": "code",
     "collapsed": false,
     "input": [
      "benchmark_results = numpy.empty((len(platforms),len(option_tasks)))\n",
      "for r in results:\n",
      "    platform_name,option_number,latency = r\n",
      "    platform_number = platform_names.index(platform_name)\n",
      "    benchmark_results[platform_number,option_number] = latency"
     ],
     "language": "python",
     "metadata": {},
     "outputs": [],
     "prompt_number": 12
    },
    {
     "cell_type": "code",
     "collapsed": false,
     "input": [
      "benchmark_results?"
     ],
     "language": "python",
     "metadata": {},
     "outputs": [],
     "prompt_number": 13
    },
    {
     "cell_type": "heading",
     "level": 2,
     "metadata": {},
     "source": [
      "Calculating Platform-Task Performance"
     ]
    },
    {
     "cell_type": "markdown",
     "metadata": {},
     "source": [
      "Option Pricing task FLOP counts"
     ]
    },
    {
     "cell_type": "code",
     "collapsed": false,
     "input": [
      "black_scholes_underlying_cost = 135168\n",
      "heston_underlying_cost = 315393"
     ],
     "language": "python",
     "metadata": {},
     "outputs": [],
     "prompt_number": 14
    },
    {
     "cell_type": "code",
     "collapsed": false,
     "input": [
      "european_option_cost = 2\n",
      "barrier_option_cost = 4098\n",
      "double_barrier_option_cost = 8192\n",
      "digital_double_barrier_option_cost = 8193\n",
      "asian_cost = 4099"
     ],
     "language": "python",
     "metadata": {},
     "outputs": [],
     "prompt_number": 15
    },
    {
     "cell_type": "code",
     "collapsed": false,
     "input": [
      "algorithm_overhead_cost = 8195"
     ],
     "language": "python",
     "metadata": {},
     "outputs": [],
     "prompt_number": 16
    },
    {
     "cell_type": "code",
     "collapsed": false,
     "input": [
      "option_task_cost_dict = {}\n",
      "option_task_cost_dict[\"european_option heston_underlying\"] = heston_underlying_cost + european_option_cost + algorithm_overhead_cost\n",
      "option_task_cost_dict[\"barrier_option heston_underlying\"] = heston_underlying_cost + barrier_option_cost + algorithm_overhead_cost\n",
      "option_task_cost_dict[\"double_barrier_option heston_underlying\"] = heston_underlying_cost + double_barrier_option_cost + algorithm_overhead_cost\n",
      "option_task_cost_dict[\"digital_double_barrier_option heston_underlying\"] = heston_underlying_cost + digital_double_barrier_option_cost + algorithm_overhead_cost\n",
      "option_task_cost_dict[\"asian_option black_scholes_underlying\"] = black_scholes_underlying_cost + asian_cost + algorithm_overhead_cost"
     ],
     "language": "python",
     "metadata": {},
     "outputs": [],
     "prompt_number": 17
    },
    {
     "cell_type": "markdown",
     "metadata": {},
     "source": [
      "Performing the FLOP calculation by task"
     ]
    },
    {
     "cell_type": "code",
     "collapsed": false,
     "input": [
      "flops = numpy.empty_like(benchmark_results)\n",
      "\n",
      "for i,o in enumerate(option_tasks):\n",
      "    option_cost = option_task_cost_dict[\"%s %s\"%(o.name,o.underlying[0].name)]*paths\n",
      "    flops[:,i] = option_cost/benchmark_results[:,i]"
     ],
     "language": "python",
     "metadata": {},
     "outputs": [],
     "prompt_number": 18
    },
    {
     "cell_type": "markdown",
     "metadata": {},
     "source": [
      "Outputting results"
     ]
    },
    {
     "cell_type": "code",
     "collapsed": false,
     "input": [
      "import matplotlib.pyplot as plt\n",
      "\n",
      "fig,(ax1,ax2) = plt.subplots(2,1)\n",
      "\n",
      "numpy.random.seed(1234)\n",
      "width = 0.05\n",
      "for i,(platform,platform_latency) in enumerate(zip(platform_names,flops)):\n",
      "    colour = numpy.random.random(3)\n",
      "    width_offset = -len(platforms)*width/2\n",
      "    ax1.bar(numpy.arange(len(platform_latency))+1+width*i+width_offset,platform_latency/1e9,width,label=platform,color=colour)\n",
      "    print \"%s: %f GFLOPS\" % (platform,scipy.stats.gmean(platform_latency/1e9))\n",
      "\n",
      "ax1.set_xticks(numpy.arange(len(platform_latency))+1)\n",
      "ax1.set_xticklabels(numpy.arange(len(platform_latency))+1)\n",
      "ax1.set_xlabel('KS Option Task')\n",
      "ax1.set_ylabel('Peformance (GFLOPS)')\n",
      "    \n",
      "numpy.random.seed(1234)\n",
      "for platform in platform_names: ax2.bar([0],[0],0,label=platform,color=numpy.random.random(3))\n",
      "ax2.legend(loc='center')\n",
      "\n",
      "fig.set_size_inches(18,12)"
     ],
     "language": "python",
     "metadata": {},
     "outputs": [
      {
       "output_type": "stream",
       "stream": "stdout",
       "text": [
        "('phi', 'opencl_gpu'): 183.408159 GFLOPS\n"
       ]
      },
      {
       "metadata": {},
       "output_type": "display_data",
       "png": "[encoded data removed]",
       "text": [
        "<matplotlib.figure.Figure at 0x7f26b81d21d0>"
       ]
      }
     ],
     "prompt_number": 19
    },
    {
     "cell_type": "code",
     "collapsed": false,
     "input": [
      "with open('KS_benchmark_performance3.csv','w') as benchmark_data_file:\n",
      "    fieldnames = ('Platform Name','Platform Type','Task','GFLOPS','Benchmark Paths')\n",
      "    csvwriter = csv.DictWriter(benchmark_data_file,fieldnames=fieldnames)\n",
      "    for i,(platform,platform_latency) in enumerate(zip(platform_names,flops)):\n",
      "        for j in range(len(option_tasks)):\n",
      "            csvwriter.writerow({'Platform Name':platform[0],'Platform Type':platform[1],'Task':j,'GFLOPS':flops[i,j]/1e9,'Benchmark Paths':paths})"
     ],
     "language": "python",
     "metadata": {},
     "outputs": [],
     "prompt_number": 20
    },
    {
     "cell_type": "code",
     "collapsed": false,
     "input": [
      "%load KS_benchmark_performance.csv"
     ],
     "language": "python",
     "metadata": {},
     "outputs": [],
     "prompt_number": 226
    }
   ],
   "metadata": {}
  }
 ]
}