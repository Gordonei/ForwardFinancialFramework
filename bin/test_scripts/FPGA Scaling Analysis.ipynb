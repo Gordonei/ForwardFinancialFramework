{
 "metadata": {
  "name": ""
 },
 "nbformat": 3,
 "nbformat_minor": 0,
 "worksheets": [
  {
   "cells": [
    {
     "cell_type": "heading",
     "level": 2,
     "metadata": {},
     "source": [
      "Introduction"
     ]
    },
    {
     "cell_type": "markdown",
     "metadata": {},
     "source": [
      "The Goal of this experiment is to verify the strong parallel scaling of various platform implementations of $F^3$.\n",
      "\n",
      "The Aims:\n",
      "* Run the Kaiserslatuarn Benchmark (http://www.uni-kl.de/en/benchmarking/option-pricing/) on each platform for a considerable number of simulations (1M) measuring the latency of each pricing task, for increasing degrees of parallel scaling."
     ]
    },
    {
     "cell_type": "heading",
     "level": 2,
     "metadata": {},
     "source": [
      "Setup"
     ]
    },
    {
     "cell_type": "heading",
     "level": 3,
     "metadata": {},
     "source": [
      "Imports"
     ]
    },
    {
     "cell_type": "code",
     "collapsed": false,
     "input": [
      "import multiprocessing,time,csv\n",
      "import numpy,scipy.stats"
     ],
     "language": "python",
     "metadata": {},
     "outputs": [],
     "prompt_number": 3
    },
    {
     "cell_type": "code",
     "collapsed": false,
     "input": [
      "from ForwardFinancialFramework.Platforms.MulticoreCPU import MulticoreCPU_MonteCarlo, MulticoreCPU\n",
      "from ForwardFinancialFramework.Platforms.OpenCLGPU import OpenCLGPU_MonteCarlo,OpenCLGPU\n",
      "from ForwardFinancialFramework.Platforms.OpenCLAlteraFPGA import OpenCLAlteraFPGA_MonteCarlo,OpenCLAlteraFPGA\n",
      "from ForwardFinancialFramework.Platforms.MaxelerFPGA import MaxelerFPGA_MonteCarlo,MaxelerFPGA\n",
      "from ForwardFinancialFramework.bin import KS_ProblemSet"
     ],
     "language": "python",
     "metadata": {},
     "outputs": [],
     "prompt_number": 4
    },
    {
     "cell_type": "heading",
     "level": 3,
     "metadata": {},
     "source": [
      "Platforms"
     ]
    },
    {
     "cell_type": "code",
     "collapsed": false,
     "input": [
      "platforms = []"
     ],
     "language": "python",
     "metadata": {},
     "outputs": [],
     "prompt_number": 5
    },
    {
     "cell_type": "code",
     "collapsed": false,
     "input": [
      "platforms += [MaxelerFPGA.MaxelerFPGA(remote=True,ssh_alias=\"maxnode2\",boardid=\":0\")] #7"
     ],
     "language": "python",
     "metadata": {},
     "outputs": [],
     "prompt_number": 99
    },
    {
     "cell_type": "code",
     "collapsed": false,
     "input": [
      "platforms += [MaxelerFPGA.MaxelerFPGA(remote=True,ssh_alias=\"maia01\",board=\"max4\",boardid=\"192.168.0.10:0\")] #7"
     ],
     "language": "python",
     "metadata": {},
     "outputs": [],
     "prompt_number": 101
    },
    {
     "cell_type": "code",
     "collapsed": false,
     "input": [
      "platforms += [OpenCLAlteraFPGA.OpenCLAlteraFPGA(remote=True,ssh_alias=\"ee-snowball2\")] #8"
     ],
     "language": "python",
     "metadata": {},
     "outputs": [],
     "prompt_number": 144
    },
    {
     "cell_type": "heading",
     "level": 4,
     "metadata": {},
     "source": [
      "Platforms List"
     ]
    },
    {
     "cell_type": "code",
     "collapsed": false,
     "input": [
      "platform_names = []\n",
      "\n",
      "for p in platforms:\n",
      "    if (isinstance(p,MaxelerFPGA.MaxelerFPGA)):  platform_names += [(p.ssh_alias,p.name,p.boardid)]\n",
      "    else: platform_names += [(p.ssh_alias,p.name)]\n",
      "    print platform_names[-1]"
     ],
     "language": "python",
     "metadata": {},
     "outputs": [
      {
       "output_type": "stream",
       "stream": "stdout",
       "text": [
        "('', 'multicore_cpu')\n",
        "('ee-benjamin', 'multicore_cpu')\n",
        "('pi', 'multicore_cpu')\n",
        "('amazon-cpu-0', 'multicore_cpu')\n"
       ]
      }
     ],
     "prompt_number": 12
    },
    {
     "cell_type": "heading",
     "level": 3,
     "metadata": {},
     "source": [
      "KS Benchmark Set"
     ]
    },
    {
     "cell_type": "code",
     "collapsed": false,
     "input": [
      "option_tasks = [KS_ProblemSet.KS_Options([str(o)])[0] for o in range(1,14)]"
     ],
     "language": "python",
     "metadata": {},
     "outputs": [],
     "prompt_number": 13
    },
    {
     "cell_type": "heading",
     "level": 2,
     "metadata": {},
     "source": [
      "Benchmarking each task upon each platform"
     ]
    },
    {
     "cell_type": "heading",
     "level": 3,
     "metadata": {},
     "source": [
      "Setup"
     ]
    },
    {
     "cell_type": "markdown",
     "metadata": {},
     "source": [
      "Function for running a specified task on a specified platform. The results are put in a queue."
     ]
    },
    {
     "cell_type": "code",
     "collapsed": false,
     "input": [
      "def platform_task_benchmark(platform,platform_name,option_tasks,paths,queue,output_queue):\n",
      "    import subprocess32 as subprocess\n",
      "    \n",
      "    for option_number,option_task in enumerate(option_tasks):\n",
      "        if(isinstance(platform,MulticoreCPU.MulticoreCPU)): mc_solver = MulticoreCPU_MonteCarlo.MulticoreCPU_MonteCarlo([option_task],paths,platform)\n",
      "        elif(isinstance(platform,OpenCLGPU.OpenCLGPU) and platform.device_type==8): mc_solver = OpenCLGPU_MonteCarlo.OpenCLGPU_MonteCarlo([option_task],paths,platform,kernel_path_max=1)\n",
      "        elif(isinstance(platform,OpenCLGPU.OpenCLGPU)): mc_solver = OpenCLGPU_MonteCarlo.OpenCLGPU_MonteCarlo([option_task],paths,platform)\n",
      "        elif(isinstance(platform,OpenCLAlteraFPGA.OpenCLAlteraFPGA)): mc_solver = OpenCLAlteraFPGA_MonteCarlo.OpenCLAlteraFPGA_MonteCarlo([option_task],paths,platform)\n",
      "        elif(isinstance(platform,MaxelerFPGA.MaxelerFPGA)): mc_solver = MaxelerFPGA_MonteCarlo.MaxelerFPGA_MonteCarlo([option_task],paths,platform)\n",
      "        \n",
      "        retries = 3\n",
      "        while(0 < retries):    \n",
      "            try:\n",
      "                mc_solver.paths = paths\n",
      "                mc_solver.solver_metadata[\"paths\"] = paths\n",
      "                \n",
      "                #if(isinstance(platform,MaxelerFPGA.MaxelerFPGA)):\n",
      "                    #mc_solver.dummy_run()\n",
      "                    #mc_solver.execute()\n",
      "                    \n",
      "                    #if(\"heston\" in option_task.underlying[0].name): mc_solver = MaxelerFPGA_MonteCarlo.MaxelerFPGA_MonteCarlo([option_task],paths,platform,instances=8)\n",
      "                    #elif(\"black_scholes\" in option_task.underlying[0].name): mc_solver = MaxelerFPGA_MonteCarlo.MaxelerFPGA_MonteCarlo([option_task],paths,platform,instances=16)\n",
      "                    \n",
      "                #elif(isinstance(platform,OpenCLGPU.OpenCLGPU) and platform.device_type==8): mc_solver = OpenCLGPU_MonteCarlo.OpenCLGPU_MonteCarlo([o],paths,platform,kernel_path_max=1)\n",
      "                #elif(isinstance(platform,OpenCLGPU.OpenCLGPU)): mc_solver = OpenCLGPU_MonteCarlo.OpenCLGPU_MonteCarlo([o],paths,platform)\n",
      "                #elif(isinstance(platform,OpenCLAlteraFPGA.OpenCLAlteraFPGA)): mc_solver = OpenCLAlteraFPGA_MonteCarlo.OpenCLAlteraFPGA_MonteCarlo([o],paths,platform)    \n",
      "                \n",
      "                #timeout = max(3*total_time,benchmarking_time_per_task) #we expect the time to double per iteration, so the worst case for the \n",
      "                result = mc_solver.execute() #timeout=timeout\n",
      "                \n",
      "                output_queue.put_nowait((platform_name,option_number,paths,result[-1]/1e6))\n",
      "                #print(platform_name,option_number,paths,result[-1]/1e6)\n",
      "                queue.put_nowait((platform_name,option_number,result[-1]/1e6))\n",
      "            \n",
      "                break\n",
      "            \n",
      "                #total_time = result[-1]/1e6\n",
      "                #paths *= 2\n",
      "                \n",
      "            except subprocess.CalledProcessError as e:\n",
      "                output_queue.put_nowait(\"Error!\\nCommand:\" + str(e.cmd) + \"on \" + str(i) + \"\\nReturn: \" + str(e.output) + \"\\nReturncode: \" + str(e.returncode) + \"\\nretries remaining: \" + str(retries))\n",
      "                retries -= 1\n",
      "                \n",
      "                \"\"\"except subprocess.TimeoutExpired as e:\n",
      "                output_queue.put_nowait(\"Timeout!\\nCommand:\" + str(e.cmd) + \"on \" + str(i) + \"\\nReturn: \" + str(e.output) + \"\\nTimeout : \" + str(e.timeout))\n",
      "                retries -= 1\"\"\"\n",
      "        "
     ],
     "language": "python",
     "metadata": {},
     "outputs": [],
     "prompt_number": 14
    },
    {
     "cell_type": "heading",
     "level": 3,
     "metadata": {},
     "source": [
      "Benchmarking"
     ]
    },
    {
     "cell_type": "code",
     "collapsed": false,
     "input": [
      "paths = 1e6"
     ],
     "language": "python",
     "metadata": {},
     "outputs": [],
     "prompt_number": 15
    },
    {
     "cell_type": "code",
     "collapsed": false,
     "input": [
      "queue = multiprocessing.Queue(len(cpu_platforms)*len(option_tasks)*2)\n",
      "output_queue = multiprocessing.Queue()"
     ],
     "language": "python",
     "metadata": {},
     "outputs": [],
     "prompt_number": 17
    },
    {
     "cell_type": "code",
     "collapsed": false,
     "input": [
      "results = []\n",
      "try:\n",
      "    #Creating a process for each task\n",
      "    pool = [multiprocessing.Process(target=platform_task_benchmark,args=(p,pid,option_tasks,paths,queue,output_queue)) for p,pid in zip(cpu_platforms,cpu_platform_names)]\n",
      "    \n",
      "    #Starting the task on each platform\n",
      "    for p in pool: p.start()\n",
      "        \n",
      "    #Polling the queues while the tasks are busy\n",
      "    while(True):\n",
      "        while not(output_queue.empty()): print(output_queue.get())\n",
      "        while not(queue.empty()): results += [queue.get()]\n",
      "        \n",
      "        flag = True\n",
      "        for p in pool: \n",
      "            if(p.is_alive() and flag): flag = False\n",
      "            if(flag): break\n",
      "            \n",
      "        time.sleep(1)\n",
      "            \n",
      "    #Making sure all of the tasks are complete\n",
      "    for p in pool: \n",
      "        p.join()\n",
      "        del p\n",
      "            \n",
      "#If there is a keyboard interrupt\n",
      "except KeyboardInterrupt:\n",
      "    for p in pool: \n",
      "        p.terminate()\n",
      "        del p"
     ],
     "language": "python",
     "metadata": {},
     "outputs": [
      {
       "output_type": "stream",
       "stream": "stdout",
       "text": [
        "(('ee-benjamin', 'multicore_cpu'), 0, 1000000.0, 20.671003103256226)\n",
        "(('ee-benjamin', 'multicore_cpu'), 1, 1000000.0, 9.137676000595093)"
       ]
      },
      {
       "output_type": "stream",
       "stream": "stdout",
       "text": [
        "\n",
        "(('ee-benjamin', 'multicore_cpu'), 2, 1000000.0, 11.731353044509888)"
       ]
      },
      {
       "output_type": "stream",
       "stream": "stdout",
       "text": [
        "\n",
        "(('amazon-cpu-0', 'multicore_cpu'), 0, 1000000.0, 45.62058901786804)"
       ]
      },
      {
       "output_type": "stream",
       "stream": "stdout",
       "text": [
        "\n",
        "(('ee-benjamin', 'multicore_cpu'), 3, 1000000.0, 12.229804039001465)"
       ]
      },
      {
       "output_type": "stream",
       "stream": "stdout",
       "text": [
        "\n",
        "(('amazon-cpu-0', 'multicore_cpu'), 1, 1000000.0, 19.913239002227783)"
       ]
      },
      {
       "output_type": "stream",
       "stream": "stdout",
       "text": [
        "\n",
        "(('ee-benjamin', 'multicore_cpu'), 4, 1000000.0, 16.861407995224)"
       ]
      },
      {
       "output_type": "stream",
       "stream": "stdout",
       "text": [
        "\n",
        "(('ee-benjamin', 'multicore_cpu'), 5, 1000000.0, 12.685394048690796)"
       ]
      },
      {
       "output_type": "stream",
       "stream": "stdout",
       "text": [
        "\n",
        "(('', 'multicore_cpu'), 0, 1000000.0, 85.11202096939087)"
       ]
      },
      {
       "output_type": "stream",
       "stream": "stdout",
       "text": [
        "\n",
        "(('ee-benjamin', 'multicore_cpu'), 6, 1000000.0, 6.894499063491821)"
       ]
      },
      {
       "output_type": "stream",
       "stream": "stdout",
       "text": [
        "\n",
        "(('amazon-cpu-0', 'multicore_cpu'), 2, 1000000.0, 26.225915908813477)"
       ]
      },
      {
       "output_type": "stream",
       "stream": "stdout",
       "text": [
        "\n",
        "(('ee-benjamin', 'multicore_cpu'), 7, 1000000.0, 10.103128910064697)"
       ]
      },
      {
       "output_type": "stream",
       "stream": "stdout",
       "text": [
        "\n",
        "(('amazon-cpu-0', 'multicore_cpu'), 3, 1000000.0, 25.269214153289795)"
       ]
      },
      {
       "output_type": "stream",
       "stream": "stdout",
       "text": [
        "\n",
        "(('ee-benjamin', 'multicore_cpu'), 8, 1000000.0, 16.94282078742981)"
       ]
      },
      {
       "output_type": "stream",
       "stream": "stdout",
       "text": [
        "\n",
        "(('', 'multicore_cpu'), 1, 1000000.0, 35.204192876815796)"
       ]
      },
      {
       "output_type": "stream",
       "stream": "stdout",
       "text": [
        "\n",
        "(('ee-benjamin', 'multicore_cpu'), 9, 1000000.0, 10.05844497680664)"
       ]
      },
      {
       "output_type": "stream",
       "stream": "stdout",
       "text": [
        "\n",
        "(('ee-benjamin', 'multicore_cpu'), 10, 1000000.0, 21.152897834777832)"
       ]
      },
      {
       "output_type": "stream",
       "stream": "stdout",
       "text": [
        "\n",
        "(('amazon-cpu-0', 'multicore_cpu'), 4, 1000000.0, 36.827033042907715)"
       ]
      },
      {
       "output_type": "stream",
       "stream": "stdout",
       "text": [
        "\n",
        "(('ee-benjamin', 'multicore_cpu'), 11, 1000000.0, 12.292044878005981)"
       ]
      },
      {
       "output_type": "stream",
       "stream": "stdout",
       "text": [
        "\n",
        "(('', 'multicore_cpu'), 2, 1000000.0, 47.38736009597778)"
       ]
      },
      {
       "output_type": "stream",
       "stream": "stdout",
       "text": [
        "\n",
        "(('ee-benjamin', 'multicore_cpu'), 12, 1000000.0, 9.223685026168823)"
       ]
      },
      {
       "output_type": "stream",
       "stream": "stdout",
       "text": [
        "\n",
        "(('amazon-cpu-0', 'multicore_cpu'), 5, 1000000.0, 26.266157150268555)"
       ]
      },
      {
       "output_type": "stream",
       "stream": "stdout",
       "text": [
        "\n",
        "(('amazon-cpu-0', 'multicore_cpu'), 6, 1000000.0, 14.100812911987305)"
       ]
      },
      {
       "output_type": "stream",
       "stream": "stdout",
       "text": [
        "\n",
        "(('', 'multicore_cpu'), 3, 1000000.0, 47.085954904556274)"
       ]
      },
      {
       "output_type": "stream",
       "stream": "stdout",
       "text": [
        "\n",
        "(('amazon-cpu-0', 'multicore_cpu'), 7, 1000000.0, 21.49208903312683)"
       ]
      },
      {
       "output_type": "stream",
       "stream": "stdout",
       "text": [
        "\n",
        "(('amazon-cpu-0', 'multicore_cpu'), 8, 1000000.0, 36.78960609436035)"
       ]
      },
      {
       "output_type": "stream",
       "stream": "stdout",
       "text": [
        "\n",
        "(('amazon-cpu-0', 'multicore_cpu'), 9, 1000000.0, 21.490915060043335)"
       ]
      },
      {
       "output_type": "stream",
       "stream": "stdout",
       "text": [
        "\n",
        "(('', 'multicore_cpu'), 4, 1000000.0, 68.38779902458191)"
       ]
      },
      {
       "output_type": "stream",
       "stream": "stdout",
       "text": [
        "\n",
        "(('amazon-cpu-0', 'multicore_cpu'), 10, 1000000.0, 47.23002219200134)"
       ]
      },
      {
       "output_type": "stream",
       "stream": "stdout",
       "text": [
        "\n",
        "(('', 'multicore_cpu'), 5, 1000000.0, 49.77522015571594)"
       ]
      },
      {
       "output_type": "stream",
       "stream": "stdout",
       "text": [
        "\n",
        "(('amazon-cpu-0', 'multicore_cpu'), 11, 1000000.0, 26.53394103050232)"
       ]
      },
      {
       "output_type": "stream",
       "stream": "stdout",
       "text": [
        "\n",
        "(('', 'multicore_cpu'), 6, 1000000.0, 25.020464181900024)"
       ]
      },
      {
       "output_type": "stream",
       "stream": "stdout",
       "text": [
        "\n",
        "(('amazon-cpu-0', 'multicore_cpu'), 12, 1000000.0, 19.140228986740112)"
       ]
      },
      {
       "output_type": "stream",
       "stream": "stdout",
       "text": [
        "\n",
        "(('', 'multicore_cpu'), 7, 1000000.0, 39.99771690368652)"
       ]
      },
      {
       "output_type": "stream",
       "stream": "stdout",
       "text": [
        "\n",
        "(('', 'multicore_cpu'), 8, 1000000.0, 67.95013904571533)"
       ]
      },
      {
       "output_type": "stream",
       "stream": "stdout",
       "text": [
        "\n",
        "(('', 'multicore_cpu'), 9, 1000000.0, 39.856956005096436)"
       ]
      },
      {
       "output_type": "stream",
       "stream": "stdout",
       "text": [
        "\n",
        "(('', 'multicore_cpu'), 10, 1000000.0, 88.39736008644104)"
       ]
      },
      {
       "output_type": "stream",
       "stream": "stdout",
       "text": [
        "\n",
        "(('', 'multicore_cpu'), 11, 1000000.0, 49.13546013832092)"
       ]
      },
      {
       "output_type": "stream",
       "stream": "stdout",
       "text": [
        "\n",
        "(('', 'multicore_cpu'), 12, 1000000.0, 38.443581104278564)"
       ]
      },
      {
       "output_type": "stream",
       "stream": "stdout",
       "text": [
        "\n"
       ]
      },
      {
       "metadata": {},
       "output_type": "pyout",
       "prompt_number": 19,
       "text": [
        "'\\nresults = []\\nfor p,pid in zip(platforms,platform_names): \\n    platform_task_benchmark(p,pid,option_tasks,paths,queue,output_queue,)\\n    \\n    while not(output_queue.empty()): print(output_queue.get())\\n    while not(queue.empty()): results += [queue.get()]\\n'"
       ]
      }
     ],
     "prompt_number": 19
    },
    {
     "cell_type": "code",
     "collapsed": false,
     "input": [
      "\"\"\"\n",
      "results = []\n",
      "for p,pid in zip(platforms,platform_names): \n",
      "    platform_task_benchmark(p,pid,option_tasks,paths,queue,output_queue,)\n",
      "    \n",
      "    while not(output_queue.empty()): print(output_queue.get())\n",
      "    while not(queue.empty()): results += [queue.get()]\n",
      "\"\"\""
     ],
     "language": "python",
     "metadata": {},
     "outputs": []
    },
    {
     "cell_type": "markdown",
     "metadata": {},
     "source": [
      "Processing results into a 2d matrix of platform-task runtimes"
     ]
    },
    {
     "cell_type": "code",
     "collapsed": false,
     "input": [
      "benchmark_results = numpy.empty((len(cpu_platforms),len(option_tasks)))\n",
      "for r in results:\n",
      "    platform_name,option_number,latency = r\n",
      "    platform_number = cpu_platform_names.index(platform_name)\n",
      "    benchmark_results[platform_number,option_number] = latency"
     ],
     "language": "python",
     "metadata": {},
     "outputs": [],
     "prompt_number": 21
    },
    {
     "cell_type": "code",
     "collapsed": false,
     "input": [
      "benchmark_results?"
     ],
     "language": "python",
     "metadata": {},
     "outputs": [],
     "prompt_number": 22
    },
    {
     "cell_type": "heading",
     "level": 2,
     "metadata": {},
     "source": [
      "Calculating Platform-Task Performance"
     ]
    },
    {
     "cell_type": "markdown",
     "metadata": {},
     "source": [
      "Option Pricing task FLOP counts"
     ]
    },
    {
     "cell_type": "code",
     "collapsed": false,
     "input": [
      "black_scholes_underlying_cost = 135168\n",
      "heston_underlying_cost = 315393"
     ],
     "language": "python",
     "metadata": {},
     "outputs": [],
     "prompt_number": 23
    },
    {
     "cell_type": "code",
     "collapsed": false,
     "input": [
      "european_option_cost = 2\n",
      "barrier_option_cost = 4098\n",
      "double_barrier_option_cost = 8192\n",
      "digital_double_barrier_option_cost = 8193\n",
      "asian_cost = 4099"
     ],
     "language": "python",
     "metadata": {},
     "outputs": [],
     "prompt_number": 24
    },
    {
     "cell_type": "code",
     "collapsed": false,
     "input": [
      "algorithm_overhead_cost = 8195"
     ],
     "language": "python",
     "metadata": {},
     "outputs": [],
     "prompt_number": 25
    },
    {
     "cell_type": "code",
     "collapsed": false,
     "input": [
      "option_task_cost_dict = {}\n",
      "option_task_cost_dict[\"european_option heston_underlying\"] = heston_underlying_cost + european_option_cost + algorithm_overhead_cost\n",
      "option_task_cost_dict[\"barrier_option heston_underlying\"] = heston_underlying_cost + barrier_option_cost + algorithm_overhead_cost\n",
      "option_task_cost_dict[\"double_barrier_option heston_underlying\"] = heston_underlying_cost + double_barrier_option_cost + algorithm_overhead_cost\n",
      "option_task_cost_dict[\"digital_double_barrier_option heston_underlying\"] = heston_underlying_cost + digital_double_barrier_option_cost + algorithm_overhead_cost\n",
      "option_task_cost_dict[\"asian_option black_scholes_underlying\"] = black_scholes_underlying_cost + asian_cost + algorithm_overhead_cost"
     ],
     "language": "python",
     "metadata": {},
     "outputs": [],
     "prompt_number": 26
    },
    {
     "cell_type": "markdown",
     "metadata": {},
     "source": [
      "Performing the FLOP calculation by task"
     ]
    },
    {
     "cell_type": "code",
     "collapsed": false,
     "input": [
      "flops = numpy.empty_like(benchmark_results)\n",
      "\n",
      "for i,o in enumerate(option_tasks):\n",
      "    option_cost = option_task_cost_dict[\"%s %s\"%(o.name,o.underlying[0].name)]*paths\n",
      "    flops[:,i] = option_cost/benchmark_results[:,i]"
     ],
     "language": "python",
     "metadata": {},
     "outputs": [
      {
       "output_type": "stream",
       "stream": "stderr",
       "text": [
        "-c:5: RuntimeWarning: overflow encountered in divide\n"
       ]
      }
     ],
     "prompt_number": 27
    },
    {
     "cell_type": "markdown",
     "metadata": {},
     "source": [
      "Outputting results"
     ]
    },
    {
     "cell_type": "code",
     "collapsed": false,
     "input": [
      "import matplotlib.pyplot as plt\n",
      "\n",
      "fig,(ax1,ax2) = plt.subplots(2,1)\n",
      "\n",
      "numpy.random.seed(1234)\n",
      "width = 0.05\n",
      "for i,(platform,platform_latency) in enumerate(zip(cpu_platform_names,flops)):\n",
      "    colour = numpy.random.random(3)\n",
      "    width_offset = -len(cpu_platforms)*width/2\n",
      "    ax1.bar(numpy.arange(len(platform_latency))+1+width*i+width_offset,platform_latency/1e9,width,label=platform,color=colour)\n",
      "    print \"%s: %f GFLOPS\" % (platform,scipy.stats.gmean(platform_latency/1e9))\n",
      "\n",
      "ax1.set_xticks(numpy.arange(len(platform_latency))+1)\n",
      "ax1.set_xticklabels(numpy.arange(len(platform_latency))+1)\n",
      "ax1.set_xlabel('KS Option Task')\n",
      "ax1.set_ylabel('Peformance (GFLOPS)')\n",
      "    \n",
      "numpy.random.seed(1234)\n",
      "for platform in cpu_platform_names: ax2.bar([0],[0],0,label=platform,color=numpy.random.random(3))\n",
      "ax2.legend(loc='center')\n",
      "\n",
      "fig.set_size_inches(18,12)"
     ],
     "language": "python",
     "metadata": {},
     "outputs": [
      {
       "output_type": "stream",
       "stream": "stdout",
       "text": [
        "('', 'multicore_cpu'): 6.286190 GFLOPS\n",
        "('ee-benjamin', 'multicore_cpu'): 25.004851 GFLOPS\n",
        "('pi', 'multicore_cpu'): inf GFLOPS\n",
        "('amazon-cpu-0', 'multicore_cpu'): 11.660232 GFLOPS\n"
       ]
      },
      {
       "metadata": {},
       "output_type": "display_data",
       "png": "[encoded data removed]",
       "text": [
        "<matplotlib.figure.Figure at 0x7f923da99dd0>"
       ]
      }
     ],
     "prompt_number": 31
    },
    {
     "cell_type": "code",
     "collapsed": false,
     "input": [
      "with open('KS_benchmark_performance2.csv','w') as benchmark_data_file:\n",
      "    fieldnames = ('Platform Name','Platform Type','Task','GFLOPS','Benchmark Paths')\n",
      "    csvwriter = csv.DictWriter(benchmark_data_file,fieldnames=fieldnames)\n",
      "    for i,(platform,platform_latency) in enumerate(zip(platform_names,flops)):\n",
      "        for j in range(len(option_tasks)):\n",
      "            csvwriter.writerow({'Platform Name':platform[0],'Platform Type':platform[1],'Task':j,'GFLOPS':flops[i,j]/1e9,'Benchmark Paths':paths})"
     ],
     "language": "python",
     "metadata": {},
     "outputs": [],
     "prompt_number": 225
    },
    {
     "cell_type": "code",
     "collapsed": false,
     "input": [
      "%load KS_benchmark_performance.csv"
     ],
     "language": "python",
     "metadata": {},
     "outputs": [],
     "prompt_number": 226
    }
   ],
   "metadata": {}
  }
 ]
}