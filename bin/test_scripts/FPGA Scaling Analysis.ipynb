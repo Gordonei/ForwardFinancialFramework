{
 "metadata": {
  "name": ""
 },
 "nbformat": 3,
 "nbformat_minor": 0,
 "worksheets": [
  {
   "cells": [
    {
     "cell_type": "heading",
     "level": 2,
     "metadata": {},
     "source": [
      "Introduction"
     ]
    },
    {
     "cell_type": "markdown",
     "metadata": {},
     "source": [
      "The Goal of this experiment is to verify the strong parallel scaling of various platform implementations of $F^3$.\n",
      "\n",
      "The Aims:\n",
      "* Run the Kaiserslatuarn Benchmark (http://www.uni-kl.de/en/benchmarking/option-pricing/) on each platform for a considerable number of simulations (1M) measuring the latency of each pricing task, for increasing degrees of parallel scaling."
     ]
    },
    {
     "cell_type": "heading",
     "level": 2,
     "metadata": {},
     "source": [
      "Setup"
     ]
    },
    {
     "cell_type": "heading",
     "level": 3,
     "metadata": {},
     "source": [
      "Imports"
     ]
    },
    {
     "cell_type": "code",
     "collapsed": false,
     "input": [
      "import multiprocessing,time,csv\n",
      "import numpy,scipy.stats"
     ],
     "language": "python",
     "metadata": {},
     "outputs": [],
     "prompt_number": 2
    },
    {
     "cell_type": "code",
     "collapsed": false,
     "input": [
      "from ForwardFinancialFramework.Platforms.MulticoreCPU import MulticoreCPU_MonteCarlo, MulticoreCPU\n",
      "from ForwardFinancialFramework.Platforms.OpenCLGPU import OpenCLGPU_MonteCarlo,OpenCLGPU\n",
      "from ForwardFinancialFramework.Platforms.OpenCLAlteraFPGA import OpenCLAlteraFPGA_MonteCarlo,OpenCLAlteraFPGA\n",
      "from ForwardFinancialFramework.Platforms.MaxelerFPGA import MaxelerFPGA_MonteCarlo,MaxelerFPGA\n",
      "from ForwardFinancialFramework.bin import KS_ProblemSet"
     ],
     "language": "python",
     "metadata": {},
     "outputs": [],
     "prompt_number": 3
    },
    {
     "cell_type": "heading",
     "level": 3,
     "metadata": {},
     "source": [
      "Platforms"
     ]
    },
    {
     "cell_type": "code",
     "collapsed": false,
     "input": [
      "platforms = []"
     ],
     "language": "python",
     "metadata": {},
     "outputs": [],
     "prompt_number": 3
    },
    {
     "cell_type": "code",
     "collapsed": false,
     "input": [
      "platforms += [MaxelerFPGA.MaxelerFPGA(remote=True,ssh_alias=\"maxnode2\",boardid=\":0\")] #7"
     ],
     "language": "python",
     "metadata": {},
     "outputs": [],
     "prompt_number": 4
    },
    {
     "cell_type": "code",
     "collapsed": false,
     "input": [
      "platforms += [MaxelerFPGA.MaxelerFPGA(remote=True,ssh_alias=\"maia01\",board=\"max4\",boardid=\"test\")] #7"
     ],
     "language": "python",
     "metadata": {},
     "outputs": [],
     "prompt_number": 5
    },
    {
     "cell_type": "code",
     "collapsed": false,
     "input": [
      "platforms += [OpenCLAlteraFPGA.OpenCLAlteraFPGA(remote=True,ssh_alias=\"ee-snowball2\")] #8"
     ],
     "language": "python",
     "metadata": {},
     "outputs": [],
     "prompt_number": 6
    },
    {
     "cell_type": "heading",
     "level": 4,
     "metadata": {},
     "source": [
      "Platforms List"
     ]
    },
    {
     "cell_type": "code",
     "collapsed": false,
     "input": [
      "platform_names = []\n",
      "\n",
      "for p in platforms:\n",
      "    #if (isinstance(p,MaxelerFPGA.MaxelerFPGA)):  platform_names += [(p.ssh_alias,p.name,p.boardid)]\n",
      "    platform_names += [(p.ssh_alias,p.name)]\n",
      "    print platform_names[-1]"
     ],
     "language": "python",
     "metadata": {},
     "outputs": [
      {
       "output_type": "stream",
       "stream": "stdout",
       "text": [
        "('maxnode2', 'maxeler_fpga')\n",
        "('maia01', 'maxeler_fpga')\n",
        "('ee-snowball2', 'opencl_alterafpga')\n"
       ]
      }
     ],
     "prompt_number": 7
    },
    {
     "cell_type": "heading",
     "level": 3,
     "metadata": {},
     "source": [
      "KS Benchmark Set"
     ]
    },
    {
     "cell_type": "code",
     "collapsed": false,
     "input": [
      "option_tasks = [KS_ProblemSet.KS_Options([str(o)])[0] for o in range(1,14)]"
     ],
     "language": "python",
     "metadata": {},
     "outputs": [],
     "prompt_number": 8
    },
    {
     "cell_type": "heading",
     "level": 2,
     "metadata": {},
     "source": [
      "Benchmarking each task upon each platform"
     ]
    },
    {
     "cell_type": "heading",
     "level": 3,
     "metadata": {},
     "source": [
      "Setup"
     ]
    },
    {
     "cell_type": "markdown",
     "metadata": {},
     "source": [
      "Function for running a specified task on a specified platform. The results are put in a queue."
     ]
    },
    {
     "cell_type": "code",
     "collapsed": false,
     "input": [
      "def platform_task_benchmark(platform,platform_name,option_tasks,paths,queue,output_queue):\n",
      "    import subprocess32 as subprocess\n",
      "    \n",
      "    for task_parallel in [False,True]:\n",
      "        for option_number,option_task in enumerate(option_tasks):\n",
      "            if(isinstance(platform,OpenCLAlteraFPGA.OpenCLAlteraFPGA)): \n",
      "                if(task_parallel): mc_solver = OpenCLAlteraFPGA_MonteCarlo.OpenCLAlteraFPGA_MonteCarlo([option_task],paths,platform)\n",
      "                else: mc_solver = OpenCLAlteraFPGA_MonteCarlo.OpenCLAlteraFPGA_MonteCarlo([option_task],paths,platform,pipelining=1,simd_width=1)\n",
      "            elif(isinstance(platform,MaxelerFPGA.MaxelerFPGA)): \n",
      "                if(task_parallel): mc_solver = MaxelerFPGA_MonteCarlo.MaxelerFPGA_MonteCarlo([option_task],paths,platform)\n",
      "                else: mc_solver = MaxelerFPGA_MonteCarlo.MaxelerFPGA_MonteCarlo([option_task],paths,platform,instances=1)\n",
      "        \n",
      "            retries = 3\n",
      "            while(0 < retries):    \n",
      "                try:\n",
      "                    mc_solver.paths = paths\n",
      "                    mc_solver.solver_metadata[\"paths\"] = paths\n",
      "                \n",
      "                    result = mc_solver.execute() #timeout=timeout\n",
      "                \n",
      "                    output_queue.put_nowait((platform_name,option_number,paths,int(task_parallel),result[-1]/1e6))\n",
      "                    #print(platform_name,option_number,paths,int(task_parallel),result[-1]/1e6)\n",
      "                    queue.put_nowait((platform_name,option_number,int(task_parallel),result[-1]/1e6))\n",
      "            \n",
      "                    if(isinstance(platform,MaxelerFPGA.MaxelerFPGA)):\n",
      "                        if(platform.board==\"max4\"): time.sleep(15)\n",
      "                    break\n",
      "                \n",
      "                except subprocess.CalledProcessError as e:\n",
      "                    output_queue.put_nowait(\"Error!\\nCommand:\" + str(e.cmd) + \"on \" + str(option_number) + \"\\nReturn: \" + str(e.output) + \"\\nReturncode: \" + str(e.returncode) + \"\\nretries remaining: \" + str(retries))\n",
      "                    retries -= 1\n",
      "        "
     ],
     "language": "python",
     "metadata": {},
     "outputs": [],
     "prompt_number": 9
    },
    {
     "cell_type": "heading",
     "level": 3,
     "metadata": {},
     "source": [
      "Benchmarking"
     ]
    },
    {
     "cell_type": "code",
     "collapsed": false,
     "input": [
      "paths = 1e7"
     ],
     "language": "python",
     "metadata": {},
     "outputs": [],
     "prompt_number": 10
    },
    {
     "cell_type": "code",
     "collapsed": false,
     "input": [
      "queue = multiprocessing.Queue(len(platforms)*len(option_tasks)*2)\n",
      "output_queue = multiprocessing.Queue()"
     ],
     "language": "python",
     "metadata": {},
     "outputs": [],
     "prompt_number": 11
    },
    {
     "cell_type": "code",
     "collapsed": false,
     "input": [
      "results = []\n",
      "try:\n",
      "    #Creating a process for each task\n",
      "    pool = [multiprocessing.Process(target=platform_task_benchmark,args=(p,pid,option_tasks,paths,queue,output_queue)) for p,pid in zip(platforms,platform_names)]\n",
      "    \n",
      "    #Starting the task on each platform\n",
      "    for p in pool: p.start()\n",
      "        \n",
      "    #Polling the queues while the tasks are busy\n",
      "    while(True):\n",
      "        while not(output_queue.empty()): print(output_queue.get())\n",
      "        while not(queue.empty()): results += [queue.get()]\n",
      "        \n",
      "        flag = True\n",
      "        for p in pool: \n",
      "            if(p.is_alive() and flag): flag = False\n",
      "            if(flag): break\n",
      "            \n",
      "        time.sleep(1)\n",
      "            \n",
      "    #Making sure all of the tasks are complete\n",
      "    for p in pool: \n",
      "        p.join()\n",
      "        del p\n",
      "            \n",
      "#If there is a keyboard interrupt\n",
      "except KeyboardInterrupt:\n",
      "    for p in pool: \n",
      "        p.terminate()\n",
      "        del p"
     ],
     "language": "python",
     "metadata": {},
     "outputs": [
      {
       "output_type": "stream",
       "stream": "stdout",
       "text": [
        "(('ee-snowball2', 'opencl_alterafpga'), 0, 10000000.0, 0, 175.35584783554077)\n",
        "(('maia01', 'maxeler_fpga'), 0, 10000000.0, 0, 235.08163285255432)"
       ]
      },
      {
       "output_type": "stream",
       "stream": "stdout",
       "text": [
        "\n",
        "(('maxnode2', 'maxeler_fpga'), 0, 10000000.0, 0, 258.9179129600525)"
       ]
      },
      {
       "output_type": "stream",
       "stream": "stdout",
       "text": [
        "\n",
        "(('ee-snowball2', 'opencl_alterafpga'), 1, 10000000.0, 0, 202.2162778377533)"
       ]
      },
      {
       "output_type": "stream",
       "stream": "stdout",
       "text": [
        "\n",
        "(('maia01', 'maxeler_fpga'), 1, 10000000.0, 0, 241.85096406936646)"
       ]
      },
      {
       "output_type": "stream",
       "stream": "stdout",
       "text": [
        "\n",
        "(('maxnode2', 'maxeler_fpga'), 1, 10000000.0, 0, 262.4267089366913)"
       ]
      },
      {
       "output_type": "stream",
       "stream": "stdout",
       "text": [
        "\n",
        "(('ee-snowball2', 'opencl_alterafpga'), 2, 10000000.0, 0, 202.45375990867615)"
       ]
      },
      {
       "output_type": "stream",
       "stream": "stdout",
       "text": [
        "\n",
        "(('maia01', 'maxeler_fpga'), 2, 10000000.0, 0, 240.3356008529663)"
       ]
      },
      {
       "output_type": "stream",
       "stream": "stdout",
       "text": [
        "\n",
        "(('ee-snowball2', 'opencl_alterafpga'), 3, 10000000.0, 0, 193.65484714508057)"
       ]
      },
      {
       "output_type": "stream",
       "stream": "stdout",
       "text": [
        "\n",
        "(('maxnode2', 'maxeler_fpga'), 2, 10000000.0, 0, 263.11487913131714)"
       ]
      },
      {
       "output_type": "stream",
       "stream": "stdout",
       "text": [
        "\n",
        "(('ee-snowball2', 'opencl_alterafpga'), 4, 10000000.0, 0, 193.23360085487366)"
       ]
      },
      {
       "output_type": "stream",
       "stream": "stdout",
       "text": [
        "\n",
        "(('maia01', 'maxeler_fpga'), 3, 10000000.0, 0, 234.4935610294342)"
       ]
      },
      {
       "output_type": "stream",
       "stream": "stdout",
       "text": [
        "\n",
        "(('maxnode2', 'maxeler_fpga'), 3, 10000000.0, 0, 262.9395408630371)"
       ]
      },
      {
       "output_type": "stream",
       "stream": "stdout",
       "text": [
        "\n",
        "(('ee-snowball2', 'opencl_alterafpga'), 5, 10000000.0, 0, 193.16592693328857)"
       ]
      },
      {
       "output_type": "stream",
       "stream": "stdout",
       "text": [
        "\n",
        "(('maia01', 'maxeler_fpga'), 4, 10000000.0, 0, 233.67720699310303)"
       ]
      },
      {
       "output_type": "stream",
       "stream": "stdout",
       "text": [
        "\n",
        "(('maxnode2', 'maxeler_fpga'), 4, 10000000.0, 0, 262.15380096435547)"
       ]
      },
      {
       "output_type": "stream",
       "stream": "stdout",
       "text": [
        "\n",
        "(('ee-snowball2', 'opencl_alterafpga'), 6, 10000000.0, 0, 193.2015631198883)"
       ]
      },
      {
       "output_type": "stream",
       "stream": "stdout",
       "text": [
        "\n",
        "(('maia01', 'maxeler_fpga'), 5, 10000000.0, 0, 233.12372398376465)"
       ]
      },
      {
       "output_type": "stream",
       "stream": "stdout",
       "text": [
        "\n",
        "(('ee-snowball2', 'opencl_alterafpga'), 7, 10000000.0, 0, 193.30996203422546)"
       ]
      },
      {
       "output_type": "stream",
       "stream": "stdout",
       "text": [
        "\n",
        "(('maxnode2', 'maxeler_fpga'), 5, 10000000.0, 0, 261.0499219894409)"
       ]
      },
      {
       "output_type": "stream",
       "stream": "stdout",
       "text": [
        "\n",
        "(('ee-snowball2', 'opencl_alterafpga'), 8, 10000000.0, 0, 193.5405330657959)"
       ]
      },
      {
       "output_type": "stream",
       "stream": "stdout",
       "text": [
        "\n",
        "(('maia01', 'maxeler_fpga'), 6, 10000000.0, 0, 233.6177978515625)"
       ]
      },
      {
       "output_type": "stream",
       "stream": "stdout",
       "text": [
        "\n",
        "(('maxnode2', 'maxeler_fpga'), 6, 10000000.0, 0, 260.206750869751)"
       ]
      },
      {
       "output_type": "stream",
       "stream": "stdout",
       "text": [
        "\n",
        "(('ee-snowball2', 'opencl_alterafpga'), 9, 10000000.0, 0, 193.1582989692688)"
       ]
      },
      {
       "output_type": "stream",
       "stream": "stdout",
       "text": [
        "\n",
        "(('maia01', 'maxeler_fpga'), 7, 10000000.0, 0, 233.99167585372925)"
       ]
      },
      {
       "output_type": "stream",
       "stream": "stdout",
       "text": [
        "\n",
        "(('maxnode2', 'maxeler_fpga'), 7, 10000000.0, 0, 262.70120096206665)"
       ]
      },
      {
       "output_type": "stream",
       "stream": "stdout",
       "text": [
        "\n",
        "(('ee-snowball2', 'opencl_alterafpga'), 10, 10000000.0, 0, 201.69146299362183)"
       ]
      },
      {
       "output_type": "stream",
       "stream": "stdout",
       "text": [
        "\n",
        "(('maia01', 'maxeler_fpga'), 8, 10000000.0, 0, 234.65358090400696)"
       ]
      },
      {
       "output_type": "stream",
       "stream": "stdout",
       "text": [
        "\n",
        "(('ee-snowball2', 'opencl_alterafpga'), 11, 10000000.0, 0, 166.84510707855225)"
       ]
      },
      {
       "output_type": "stream",
       "stream": "stdout",
       "text": [
        "\n",
        "(('maxnode2', 'maxeler_fpga'), 8, 10000000.0, 0, 261.66124510765076)"
       ]
      },
      {
       "output_type": "stream",
       "stream": "stdout",
       "text": [
        "\n",
        "(('ee-snowball2', 'opencl_alterafpga'), 12, 10000000.0, 0, 177.70366501808167)"
       ]
      },
      {
       "output_type": "stream",
       "stream": "stdout",
       "text": [
        "\n",
        "(('maia01', 'maxeler_fpga'), 9, 10000000.0, 0, 233.51157784461975)"
       ]
      },
      {
       "output_type": "stream",
       "stream": "stdout",
       "text": [
        "\n",
        "(('ee-snowball2', 'opencl_alterafpga'), 0, 10000000.0, 1, 12.938228845596313)"
       ]
      },
      {
       "output_type": "stream",
       "stream": "stdout",
       "text": [
        "\n",
        "(('ee-snowball2', 'opencl_alterafpga'), 1, 10000000.0, 1, 16.26553201675415)"
       ]
      },
      {
       "output_type": "stream",
       "stream": "stdout",
       "text": [
        "\n",
        "(('ee-snowball2', 'opencl_alterafpga'), 2, 10000000.0, 1, 15.742189168930054)"
       ]
      },
      {
       "output_type": "stream",
       "stream": "stdout",
       "text": [
        "\n",
        "(('ee-snowball2', 'opencl_alterafpga'), 3, 10000000.0, 1, 24.285436153411865)"
       ]
      },
      {
       "output_type": "stream",
       "stream": "stdout",
       "text": [
        "\n",
        "(('ee-snowball2', 'opencl_alterafpga'), 4, 10000000.0, 1, 24.453432083129883)"
       ]
      },
      {
       "output_type": "stream",
       "stream": "stdout",
       "text": [
        "\n",
        "(('ee-snowball2', 'opencl_alterafpga'), 5, 10000000.0, 1, 24.46690797805786)"
       ]
      },
      {
       "output_type": "stream",
       "stream": "stdout",
       "text": [
        "\n",
        "(('maxnode2', 'maxeler_fpga'), 9, 10000000.0, 0, 262.91480588912964)"
       ]
      },
      {
       "output_type": "stream",
       "stream": "stdout",
       "text": [
        "\n",
        "(('ee-snowball2', 'opencl_alterafpga'), 6, 10000000.0, 1, 24.307098865509033)"
       ]
      },
      {
       "output_type": "stream",
       "stream": "stdout",
       "text": [
        "\n",
        "(('ee-snowball2', 'opencl_alterafpga'), 7, 10000000.0, 1, 24.056768894195557)"
       ]
      },
      {
       "output_type": "stream",
       "stream": "stdout",
       "text": [
        "\n",
        "(('ee-snowball2', 'opencl_alterafpga'), 8, 10000000.0, 1, 24.528165102005005)"
       ]
      },
      {
       "output_type": "stream",
       "stream": "stdout",
       "text": [
        "\n",
        "(('ee-snowball2', 'opencl_alterafpga'), 9, 10000000.0, 1, 24.312340021133423)"
       ]
      },
      {
       "output_type": "stream",
       "stream": "stdout",
       "text": [
        "\n",
        "(('ee-snowball2', 'opencl_alterafpga'), 10, 10000000.0, 1, 15.745327949523926)"
       ]
      },
      {
       "output_type": "stream",
       "stream": "stdout",
       "text": [
        "\n",
        "(('ee-snowball2', 'opencl_alterafpga'), 11, 10000000.0, 1, 22.504767179489136)"
       ]
      },
      {
       "output_type": "stream",
       "stream": "stdout",
       "text": [
        "\n",
        "(('ee-snowball2', 'opencl_alterafpga'), 12, 10000000.0, 1, 9.585997104644775)"
       ]
      },
      {
       "output_type": "stream",
       "stream": "stdout",
       "text": [
        "\n",
        "(('maia01', 'maxeler_fpga'), 10, 10000000.0, 0, 242.84751391410828)"
       ]
      },
      {
       "output_type": "stream",
       "stream": "stdout",
       "text": [
        "\n",
        "(('maxnode2', 'maxeler_fpga'), 10, 10000000.0, 0, 260.4321439266205)"
       ]
      },
      {
       "output_type": "stream",
       "stream": "stdout",
       "text": [
        "\n",
        "(('maia01', 'maxeler_fpga'), 11, 10000000.0, 0, 235.3924639225006)"
       ]
      },
      {
       "output_type": "stream",
       "stream": "stdout",
       "text": [
        "\n",
        "(('maxnode2', 'maxeler_fpga'), 11, 10000000.0, 0, 263.03144097328186)"
       ]
      },
      {
       "output_type": "stream",
       "stream": "stdout",
       "text": [
        "\n",
        "(('maia01', 'maxeler_fpga'), 12, 10000000.0, 0, 234.9651529788971)"
       ]
      },
      {
       "output_type": "stream",
       "stream": "stdout",
       "text": [
        "\n",
        "(('maia01', 'maxeler_fpga'), 0, 10000000.0, 1, 22.348224878311157)"
       ]
      },
      {
       "output_type": "stream",
       "stream": "stdout",
       "text": [
        "\n",
        "(('maia01', 'maxeler_fpga'), 1, 10000000.0, 1, 22.488205909729004)"
       ]
      },
      {
       "output_type": "stream",
       "stream": "stdout",
       "text": [
        "\n",
        "(('maia01', 'maxeler_fpga'), 2, 10000000.0, 1, 20.5799298286438)"
       ]
      },
      {
       "output_type": "stream",
       "stream": "stdout",
       "text": [
        "\n",
        "(('maia01', 'maxeler_fpga'), 3, 10000000.0, 1, 22.23738193511963)"
       ]
      },
      {
       "output_type": "stream",
       "stream": "stdout",
       "text": [
        "\n",
        "(('maxnode2', 'maxeler_fpga'), 12, 10000000.0, 0, 265.5147051811218)"
       ]
      },
      {
       "output_type": "stream",
       "stream": "stdout",
       "text": [
        "\n",
        "(('maia01', 'maxeler_fpga'), 4, 10000000.0, 1, 20.497103929519653)"
       ]
      },
      {
       "output_type": "stream",
       "stream": "stdout",
       "text": [
        "\n",
        "(('maxnode2', 'maxeler_fpga'), 0, 10000000.0, 1, 29.94270396232605)"
       ]
      },
      {
       "output_type": "stream",
       "stream": "stdout",
       "text": [
        "\n",
        "(('maia01', 'maxeler_fpga'), 5, 10000000.0, 1, 20.71067500114441)"
       ]
      },
      {
       "output_type": "stream",
       "stream": "stdout",
       "text": [
        "\n",
        "(('maxnode2', 'maxeler_fpga'), 1, 10000000.0, 1, 30.75886607170105)"
       ]
      },
      {
       "output_type": "stream",
       "stream": "stdout",
       "text": [
        "\n",
        "(('maxnode2', 'maxeler_fpga'), 2, 10000000.0, 1, 29.79257106781006)"
       ]
      },
      {
       "output_type": "stream",
       "stream": "stdout",
       "text": [
        "\n",
        "(('maia01', 'maxeler_fpga'), 6, 10000000.0, 1, 20.630664110183716)"
       ]
      },
      {
       "output_type": "stream",
       "stream": "stdout",
       "text": [
        "\n",
        "(('maxnode2', 'maxeler_fpga'), 3, 10000000.0, 1, 29.946701049804688)"
       ]
      },
      {
       "output_type": "stream",
       "stream": "stdout",
       "text": [
        "\n",
        "(('maia01', 'maxeler_fpga'), 7, 10000000.0, 1, 20.2920880317688)"
       ]
      },
      {
       "output_type": "stream",
       "stream": "stdout",
       "text": [
        "\n",
        "(('maxnode2', 'maxeler_fpga'), 4, 10000000.0, 1, 29.35003399848938)"
       ]
      },
      {
       "output_type": "stream",
       "stream": "stdout",
       "text": [
        "\n",
        "(('maia01', 'maxeler_fpga'), 8, 10000000.0, 1, 20.5955069065094)"
       ]
      },
      {
       "output_type": "stream",
       "stream": "stdout",
       "text": [
        "\n",
        "(('maxnode2', 'maxeler_fpga'), 5, 10000000.0, 1, 30.021003007888794)"
       ]
      },
      {
       "output_type": "stream",
       "stream": "stdout",
       "text": [
        "\n",
        "(('maia01', 'maxeler_fpga'), 9, 10000000.0, 1, 20.24197793006897)"
       ]
      },
      {
       "output_type": "stream",
       "stream": "stdout",
       "text": [
        "\n",
        "(('maxnode2', 'maxeler_fpga'), 6, 10000000.0, 1, 29.639328956604004)"
       ]
      },
      {
       "output_type": "stream",
       "stream": "stdout",
       "text": [
        "\n",
        "(('maia01', 'maxeler_fpga'), 10, 10000000.0, 1, 22.10664200782776)"
       ]
      },
      {
       "output_type": "stream",
       "stream": "stdout",
       "text": [
        "\n",
        "(('maxnode2', 'maxeler_fpga'), 7, 10000000.0, 1, 29.427582025527954)"
       ]
      },
      {
       "output_type": "stream",
       "stream": "stdout",
       "text": [
        "\n",
        "(('maxnode2', 'maxeler_fpga'), 8, 10000000.0, 1, 29.59965205192566)"
       ]
      },
      {
       "output_type": "stream",
       "stream": "stdout",
       "text": [
        "\n",
        "(('maia01', 'maxeler_fpga'), 11, 10000000.0, 1, 22.151647090911865)"
       ]
      },
      {
       "output_type": "stream",
       "stream": "stdout",
       "text": [
        "\n",
        "(('maxnode2', 'maxeler_fpga'), 9, 10000000.0, 1, 29.587323904037476)"
       ]
      },
      {
       "output_type": "stream",
       "stream": "stdout",
       "text": [
        "\n",
        "(('maia01', 'maxeler_fpga'), 12, 10000000.0, 1, 12.614410161972046)"
       ]
      },
      {
       "output_type": "stream",
       "stream": "stdout",
       "text": [
        "\n",
        "(('maxnode2', 'maxeler_fpga'), 10, 10000000.0, 1, 29.9530131816864)"
       ]
      },
      {
       "output_type": "stream",
       "stream": "stdout",
       "text": [
        "\n",
        "(('maxnode2', 'maxeler_fpga'), 11, 10000000.0, 1, 29.80126190185547)"
       ]
      },
      {
       "output_type": "stream",
       "stream": "stdout",
       "text": [
        "\n",
        "(('maxnode2', 'maxeler_fpga'), 12, 10000000.0, 1, 13.132910966873169)"
       ]
      },
      {
       "output_type": "stream",
       "stream": "stdout",
       "text": [
        "\n"
       ]
      }
     ],
     "prompt_number": 12
    },
    {
     "cell_type": "markdown",
     "metadata": {},
     "source": [
      "Processing results into a 3d matrix of platform-thread-task runtimes"
     ]
    },
    {
     "cell_type": "code",
     "collapsed": false,
     "input": [
      "thread_steps = 2\n",
      "\n",
      "benchmark_results = numpy.zeros((len(platforms),thread_steps,len(option_tasks)))\n",
      "for r in results:\n",
      "    platform_name,option_number,threads,latency = r\n",
      "    platform_number = platform_names.index(platform_name)\n",
      "    thread_step_number = threads\n",
      "    benchmark_results[platform_number,thread_step_number,option_number] = latency"
     ],
     "language": "python",
     "metadata": {},
     "outputs": [],
     "prompt_number": 13
    },
    {
     "cell_type": "code",
     "collapsed": false,
     "input": [
      "benchmark_sum = numpy.zeros((len(platforms),thread_steps))\n",
      "\n",
      "for i,p in enumerate(platform_names):\n",
      "    for t in range(thread_steps):\n",
      "        benchmark_sum[i,t] = numpy.sum(benchmark_results[i,t,:])"
     ],
     "language": "python",
     "metadata": {},
     "outputs": [],
     "prompt_number": 21
    },
    {
     "cell_type": "code",
     "collapsed": false,
     "input": [
      "benchmark_sum[:,0]/benchmark_sum[:,1]"
     ],
     "language": "python",
     "metadata": {},
     "outputs": [
      {
       "metadata": {},
       "output_type": "pyout",
       "prompt_number": 23,
       "text": [
        "array([  9.1846285 ,  11.46768602,   9.42098943])"
       ]
      }
     ],
     "prompt_number": 23
    },
    {
     "cell_type": "heading",
     "level": 2,
     "metadata": {},
     "source": [
      "Plotting and Outputing Results"
     ]
    },
    {
     "cell_type": "code",
     "collapsed": false,
     "input": [
      "thread_steps = 2\n",
      "platform_thread_steps = {\n",
      "                         ('maxnode2', 'maxeler_fpga'):[1,6.598985044],\n",
      "                         ('maia01', 'maxeler_fpga'):[1,9.511147262],\n",
      "                         ('ee-snowball2', 'opencl_alterafpga'):[1,3.71656278],\n",
      "                         }"
     ],
     "language": "python",
     "metadata": {},
     "outputs": [],
     "prompt_number": 63
    },
    {
     "cell_type": "code",
     "collapsed": false,
     "input": [
      "data = {'Platform Name':[],'Platform Type':[],'KS Option Number':[],'Benchmark Paths':[],'Resource Use Multiple':[],'Latency':[]}\n",
      "\n",
      "with open('FPGA_KS_benchmark_scaling_results.csv','r') as benchmark_data_file:\n",
      "    csvreader = csv.DictReader(benchmark_data_file)\n",
      "    for row in csvreader:\n",
      "        for r in row: data[r] += [row[r]]\n",
      "   \n",
      "data_array = [[[] for i in range(len(data))] for j in range(len(data['Platform Name']))]\n",
      "            \n",
      "platform_names = set((name,type) for name,type in zip(data['Platform Name'],data['Platform Type']))\n",
      "\n",
      "for i,d in enumerate(['Platform Name','Platform Type','KS Option Number','Benchmark Paths','Resource Use Multiple','Latency']):\n",
      "    for j,dd in enumerate(data[d]):\n",
      "        if(d in ['Platform Name','Platform Type']): data_array[j][i] = dd\n",
      "        else: data_array[j][i] = float(dd)\n",
      "        \n",
      "data = numpy.array(data_array)\n",
      "\n",
      "benchmark_sum = []\n",
      "for name,type in platform_names:\n",
      "    benchmark_sum += [[]]\n",
      "    selection = data[:,0]==name\n",
      "    selection &= data[:,1]==type\n",
      "    \n",
      "    platform_data = data[selection]\n",
      "    steps = set(platform_data[:,-2])\n",
      "    for s in sorted(steps):\n",
      "        step_selection = numpy.copy(selection)\n",
      "        step_selection &= data[:,-2]==s\n",
      "        \n",
      "        step_data = data[step_selection]\n",
      "        benchmark_sum[-1] += [numpy.sum(step_data[:,-1].astype(numpy.float))] \n",
      "        \n",
      "benchmark_sum = numpy.array(benchmark_sum)"
     ],
     "language": "python",
     "metadata": {},
     "outputs": [],
     "prompt_number": 69
    },
    {
     "cell_type": "code",
     "collapsed": false,
     "input": [
      "platform_labels = {\n",
      "                   ('ee-snowball2','opencl_alterafpga'):'Nallatech P385N-D5',\n",
      "                   ('maia01','maxeler_fpga'):'Maxeler Max4',\n",
      "                   ('maxnode2','maxeler_fpga'):'Maxeler Max3'\n",
      "                   }"
     ],
     "language": "python",
     "metadata": {},
     "outputs": [],
     "prompt_number": 52
    },
    {
     "cell_type": "code",
     "collapsed": false,
     "input": [
      "plt.rc('text', usetex=True)\n",
      "plt.rcParams['font.size'] = 22\n",
      "plt.rcParams['axes.linewidth'] = 2"
     ],
     "language": "python",
     "metadata": {},
     "outputs": [],
     "prompt_number": 77
    },
    {
     "cell_type": "code",
     "collapsed": false,
     "input": [
      "%matplotlib inline"
     ],
     "language": "python",
     "metadata": {},
     "outputs": [],
     "prompt_number": 80
    },
    {
     "cell_type": "code",
     "collapsed": false,
     "input": [
      "fig,ax = plt.subplots(1,1)\n",
      "\n",
      "x_axis_labels = []\n",
      "y_axis_labels = []\n",
      "\n",
      "numpy.random.seed(1234)\n",
      "for platform_name,platform_results in zip(platform_names,benchmark_sum):\n",
      "    thread_steps = numpy.sum(platform_results!=0)\n",
      "    colour = numpy.random.random(3)\n",
      "    x_axis_labels += [platform_thread_steps[platform_name][i] for i in range(thread_steps) if i!=0]\n",
      "    y_axis_labels += [platform_results[0]/platform_results[:thread_steps][i] for i in range(thread_steps) if i!=0]\n",
      "    ax.plot([platform_thread_steps[platform_name][i] for i in range(thread_steps)],platform_results[0]/platform_results[:thread_steps],\"-x\",label=platform_labels[platform_name],linewidth=2,markersize=10,markeredgewidth=2,color=colour)\n",
      "    \n",
      "max_thread_steps = 5\n",
      "ax.plot([2**i for i in range(max_thread_steps)],[2**i for i in range(max_thread_steps)],\"--\")\n",
      "    \n",
      "ax.set_xlabel(r'\\textbf{Normalised resource use} \\left(\\displaystyle\\frac{\\mbox{resource use}}{\\mbox{single instance resource use}} \\right)',fontsize=16)\n",
      "ax.set_ylabel(r'\\textbf{Normalised latency} \\left(\\displaystyle\\frac{\\mbox{latency}}{\\mbox{single instance latency}} \\right)',fontsize=16)\n",
      "\n",
      "#ax.set_xscale('log')\n",
      "#ax.set_yscale('log')\n",
      "\n",
      "ax.set_xticks([2**i for i in range(max_thread_steps)]+x_axis_labels)\n",
      "ax.set_xticklabels([2**i for i in range(max_thread_steps)]+[\"%.1f\"%numpy.round(x,decimals=1) for x in x_axis_labels],fontsize=12)\n",
      "ax.set_yticks([2**i for i in range(max_thread_steps)]+y_axis_labels)\n",
      "ax.set_yticklabels([2**i for i in range(max_thread_steps)]+[\"%.1f\"%numpy.round(y,decimals=1) for y in y_axis_labels],fontsize=12)\n",
      "\n",
      "ax.grid(True)\n",
      "ax.legend()\n",
      "\n",
      "fig.set_size_inches(16,12)\n",
      "fig.savefig(\"FPGA_KS_benchmark_scaling.pdf\",format='pdf')"
     ],
     "language": "python",
     "metadata": {},
     "outputs": [
      {
       "metadata": {},
       "output_type": "display_data",
       "png": "[encoded data removed]",
       "text": [
        "<matplotlib.figure.Figure at 0x7fb2c8ed88d0>"
       ]
      }
     ],
     "prompt_number": 119
    },
    {
     "cell_type": "code",
     "collapsed": false,
     "input": [
      "with open('FPGA_KS_benchmark_scaling_results.csv','w') as benchmark_data_file:\n",
      "    fieldnames = ('Platform Name','Platform Type','KS Option Number','Benchmark Paths','Resource Use Multiple','Latency')\n",
      "    csvwriter = csv.DictWriter(benchmark_data_file,fieldnames=fieldnames)\n",
      "    \n",
      "    for platform_name,platform_results in zip(platform_names,benchmark_results):\n",
      "        for i,option_results in enumerate(platform_results):\n",
      "            if(numpy.all(option_results!=0)):\n",
      "                for j,o_r in enumerate(option_results):\n",
      "                     csvwriter.writerow({'Platform Name':platform_name[0],\n",
      "                                         'Platform Type':platform_name[1],\n",
      "                                         'KS Option Number':j+1,\n",
      "                                         'Benchmark Paths':paths,\n",
      "                                         'Resource Use Multiple':platform_thread_steps[platform_name][i],\n",
      "                                         'Latency':o_r})"
     ],
     "language": "python",
     "metadata": {},
     "outputs": [],
     "prompt_number": 31
    },
    {
     "cell_type": "code",
     "collapsed": false,
     "input": [
      "%load FPGA_KS_benchmark_scaling_results.csv"
     ],
     "language": "python",
     "metadata": {},
     "outputs": [],
     "prompt_number": 32
    },
    {
     "cell_type": "code",
     "collapsed": false,
     "input": [
      "maxnode2,maxeler_fpga,1,10000000.0,1,258.91791296005249\n",
      "maxnode2,maxeler_fpga,2,10000000.0,1,262.42670893669128\n",
      "maxnode2,maxeler_fpga,3,10000000.0,1,263.11487913131714\n",
      "maxnode2,maxeler_fpga,4,10000000.0,1,262.93954086303711\n",
      "maxnode2,maxeler_fpga,5,10000000.0,1,262.15380096435547\n",
      "maxnode2,maxeler_fpga,6,10000000.0,1,261.04992198944092\n",
      "maxnode2,maxeler_fpga,7,10000000.0,1,260.20675086975098\n",
      "maxnode2,maxeler_fpga,8,10000000.0,1,262.70120096206665\n",
      "maxnode2,maxeler_fpga,9,10000000.0,1,261.66124510765076\n",
      "maxnode2,maxeler_fpga,10,10000000.0,1,262.91480588912964\n",
      "maxnode2,maxeler_fpga,11,10000000.0,1,260.43214392662048\n",
      "maxnode2,maxeler_fpga,12,10000000.0,1,263.03144097328186\n",
      "maxnode2,maxeler_fpga,13,10000000.0,1,265.51470518112183\n",
      "maxnode2,maxeler_fpga,1,10000000.0,6.598985044,29.94270396232605\n",
      "maxnode2,maxeler_fpga,2,10000000.0,6.598985044,30.75886607170105\n",
      "maxnode2,maxeler_fpga,3,10000000.0,6.598985044,29.792571067810059\n",
      "maxnode2,maxeler_fpga,4,10000000.0,6.598985044,29.946701049804688\n",
      "maxnode2,maxeler_fpga,5,10000000.0,6.598985044,29.35003399848938\n",
      "maxnode2,maxeler_fpga,6,10000000.0,6.598985044,30.021003007888794\n",
      "maxnode2,maxeler_fpga,7,10000000.0,6.598985044,29.639328956604004\n",
      "maxnode2,maxeler_fpga,8,10000000.0,6.598985044,29.427582025527954\n",
      "maxnode2,maxeler_fpga,9,10000000.0,6.598985044,29.599652051925659\n",
      "maxnode2,maxeler_fpga,10,10000000.0,6.598985044,29.587323904037476\n",
      "maxnode2,maxeler_fpga,11,10000000.0,6.598985044,29.953013181686401\n",
      "maxnode2,maxeler_fpga,12,10000000.0,6.598985044,29.801261901855469\n",
      "maxnode2,maxeler_fpga,13,10000000.0,6.598985044,13.132910966873169\n",
      "maia01,maxeler_fpga,1,10000000.0,1,235.08163285255432\n",
      "maia01,maxeler_fpga,2,10000000.0,1,241.85096406936646\n",
      "maia01,maxeler_fpga,3,10000000.0,1,240.33560085296631\n",
      "maia01,maxeler_fpga,4,10000000.0,1,234.4935610294342\n",
      "maia01,maxeler_fpga,5,10000000.0,1,233.67720699310303\n",
      "maia01,maxeler_fpga,6,10000000.0,1,233.12372398376465\n",
      "maia01,maxeler_fpga,7,10000000.0,1,233.6177978515625\n",
      "maia01,maxeler_fpga,8,10000000.0,1,233.99167585372925\n",
      "maia01,maxeler_fpga,9,10000000.0,1,234.65358090400696\n",
      "maia01,maxeler_fpga,10,10000000.0,1,233.51157784461975\n",
      "maia01,maxeler_fpga,11,10000000.0,1,242.84751391410828\n",
      "maia01,maxeler_fpga,12,10000000.0,1,235.39246392250061\n",
      "maia01,maxeler_fpga,13,10000000.0,1,234.96515297889709\n",
      "maia01,maxeler_fpga,1,10000000.0,9.511147262,22.348224878311157\n",
      "maia01,maxeler_fpga,2,10000000.0,9.511147262,22.488205909729004\n",
      "maia01,maxeler_fpga,3,10000000.0,9.511147262,20.579929828643799\n",
      "maia01,maxeler_fpga,4,10000000.0,9.511147262,22.237381935119629\n",
      "maia01,maxeler_fpga,5,10000000.0,9.511147262,20.497103929519653\n",
      "maia01,maxeler_fpga,6,10000000.0,9.511147262,20.710675001144409\n",
      "maia01,maxeler_fpga,7,10000000.0,9.511147262,20.630664110183716\n",
      "maia01,maxeler_fpga,8,10000000.0,9.511147262,20.292088031768799\n",
      "maia01,maxeler_fpga,9,10000000.0,9.511147262,20.595506906509399\n",
      "maia01,maxeler_fpga,10,10000000.0,9.511147262,20.24197793006897\n",
      "maia01,maxeler_fpga,11,10000000.0,9.511147262,22.106642007827759\n",
      "maia01,maxeler_fpga,12,10000000.0,9.511147262,22.151647090911865\n",
      "maia01,maxeler_fpga,13,10000000.0,9.511147262,12.614410161972046\n",
      "ee-snowball2,opencl_alterafpga,1,10000000.0,1,175.35584783554077\n",
      "ee-snowball2,opencl_alterafpga,2,10000000.0,1,202.2162778377533\n",
      "ee-snowball2,opencl_alterafpga,3,10000000.0,1,202.45375990867615\n",
      "ee-snowball2,opencl_alterafpga,4,10000000.0,1,193.65484714508057\n",
      "ee-snowball2,opencl_alterafpga,5,10000000.0,1,193.23360085487366\n",
      "ee-snowball2,opencl_alterafpga,6,10000000.0,1,193.16592693328857\n",
      "ee-snowball2,opencl_alterafpga,7,10000000.0,1,193.20156311988831\n",
      "ee-snowball2,opencl_alterafpga,8,10000000.0,1,193.30996203422546\n",
      "ee-snowball2,opencl_alterafpga,9,10000000.0,1,193.5405330657959\n",
      "ee-snowball2,opencl_alterafpga,10,10000000.0,1,193.1582989692688\n",
      "ee-snowball2,opencl_alterafpga,11,10000000.0,1,201.69146299362183\n",
      "ee-snowball2,opencl_alterafpga,12,10000000.0,1,166.84510707855225\n",
      "ee-snowball2,opencl_alterafpga,13,10000000.0,1,177.70366501808167\n",
      "ee-snowball2,opencl_alterafpga,1,10000000.0,3.71656278,12.938228845596313\n",
      "ee-snowball2,opencl_alterafpga,2,10000000.0,3.71656278,16.26553201675415\n",
      "ee-snowball2,opencl_alterafpga,3,10000000.0,3.71656278,15.742189168930054\n",
      "ee-snowball2,opencl_alterafpga,4,10000000.0,3.71656278,24.285436153411865\n",
      "ee-snowball2,opencl_alterafpga,5,10000000.0,3.71656278,24.453432083129883\n",
      "ee-snowball2,opencl_alterafpga,6,10000000.0,3.71656278,24.466907978057861\n",
      "ee-snowball2,opencl_alterafpga,7,10000000.0,3.71656278,24.307098865509033\n",
      "ee-snowball2,opencl_alterafpga,8,10000000.0,3.71656278,24.056768894195557\n",
      "ee-snowball2,opencl_alterafpga,9,10000000.0,3.71656278,24.528165102005005\n",
      "ee-snowball2,opencl_alterafpga,10,10000000.0,3.71656278,24.312340021133423\n",
      "ee-snowball2,opencl_alterafpga,11,10000000.0,3.71656278,15.745327949523926\n",
      "ee-snowball2,opencl_alterafpga,12,10000000.0,3.71656278,22.504767179489136\n",
      "ee-snowball2,opencl_alterafpga,13,10000000.0,3.71656278,9.5859971046447754\n"
     ],
     "language": "python",
     "metadata": {},
     "outputs": []
    },
    {
     "cell_type": "code",
     "collapsed": false,
     "input": [],
     "language": "python",
     "metadata": {},
     "outputs": []
    }
   ],
   "metadata": {}
  }
 ]
}